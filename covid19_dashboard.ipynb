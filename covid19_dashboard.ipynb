{
 "cells": [
  {
   "cell_type": "code",
   "execution_count": 1,
   "metadata": {
    "extensions": {
     "jupyter_dashboards": {
      "version": 1,
      "views": {
       "default_view": {
        "hidden": true
       },
       "grid_default": {
        "col": null,
        "height": 2,
        "hidden": true,
        "row": null,
        "width": 2
       },
       "report_default": {
        "hidden": true
       }
      }
     }
    },
    "id": "auHUHeH7qANm"
   },
   "outputs": [],
   "source": [
    "# Inspired (Adapted) from : https://colab.research.google.com/drive/19FpY7Ri0n9LUOViO-4bRpF94U9TbVE4_?usp=sharing\n",
    "# Rohit Gupta \n",
    "# IIIT-Delhi. \n",
    "\n",
    "# importing libraries\n",
    "\n",
    "from __future__ import print_function\n",
    "from ipywidgets import interact, interactive, fixed, interact_manual\n",
    "from IPython.core.display import display, HTML\n",
    "\n",
    "import numpy as np\n",
    "import pandas as pd\n",
    "import matplotlib.pyplot as plt\n",
    "import plotly.express as px\n",
    "#import folium\n",
    "import plotly.graph_objects as go\n",
    "import seaborn as sns\n",
    "import ipywidgets as widgets "
   ]
  },
  {
   "cell_type": "markdown",
   "metadata": {
    "extensions": {
     "jupyter_dashboards": {
      "version": 1,
      "views": {
       "default_view": {
        "col": 0,
        "height": 2,
        "row": 2,
        "width": 12
       },
       "grid_default": {
        "col": 0,
        "height": 2,
        "hidden": true,
        "row": 24,
        "width": 12
       },
       "report_default": {
        "col": 0,
        "height": 2,
        "hidden": false,
        "row": 2,
        "width": 12
       }
      }
     }
    },
    "id": "f9Fxoyf-p90p"
   },
   "source": [
    "<h1><center>Covid-19 Dashboard</center></h1>\n"
   ]
  },
  {
   "cell_type": "code",
   "execution_count": 2,
   "metadata": {
    "colab": {
     "base_uri": "https://localhost:8080/",
     "height": 17
    },
    "extensions": {
     "jupyter_dashboards": {
      "version": 1,
      "views": {
       "default_view": {
        "hidden": true
       },
       "grid_default": {
        "col": null,
        "height": 2,
        "hidden": true,
        "row": null,
        "width": 2
       },
       "report_default": {
        "hidden": true
       }
      }
     }
    },
    "id": "_YbN1Ej1kf7Q",
    "outputId": "a306116a-52ca-44ce-a4a6-fd1ed7f303d6"
   },
   "outputs": [],
   "source": [
    "# Have the plots centered in the notebook and in the dashboard: \n",
    "#from IPython.core.display import HTML\n",
    "\n",
    "#HTML(\"\"\"\n",
    "#<style>\n",
    "#.output_png {\n",
    "#    display: table-cell;\n",
    "#    text-align: center;\n",
    "#    vertical-align: middle;\n",
    "#}\n",
    "#</style>\n",
    "#\"\"\")"
   ]
  },
  {
   "cell_type": "code",
   "execution_count": 3,
   "metadata": {
    "extensions": {
     "jupyter_dashboards": {
      "version": 1,
      "views": {
       "default_view": {
        "col": 0,
        "height": 2,
        "row": 6,
        "width": 12
       },
       "grid_default": {
        "col": null,
        "height": 2,
        "hidden": true,
        "row": null,
        "width": 2
       },
       "report_default": {
        "hidden": true
       }
      }
     }
    }
   },
   "outputs": [
    {
     "data": {
      "text/html": [
       " <style>\n",
       ".output_png {\n",
       "    display: table-cell;\n",
       "    text-align: center;\n",
       "    vertical-align: middle;\n",
       "}\n",
       "</style> "
      ],
      "text/plain": [
       "<IPython.core.display.HTML object>"
      ]
     },
     "execution_count": 3,
     "metadata": {},
     "output_type": "execute_result"
    }
   ],
   "source": [
    "# Piechart and Bubble chart not centered - use this : \n",
    "\n",
    "from IPython.core.display import HTML as Center\n",
    "\n",
    "Center(\"\"\" <style>\n",
    ".output_png {\n",
    "    display: table-cell;\n",
    "    text-align: center;\n",
    "    vertical-align: middle;\n",
    "}\n",
    "</style> \"\"\")"
   ]
  },
  {
   "cell_type": "code",
   "execution_count": 4,
   "metadata": {
    "extensions": {
     "jupyter_dashboards": {
      "version": 1,
      "views": {
       "default_view": {
        "hidden": true
       },
       "grid_default": {
        "col": null,
        "height": 2,
        "hidden": true,
        "row": null,
        "width": 2
       },
       "report_default": {
        "hidden": true
       }
      }
     }
    },
    "id": "Zgyx_UtprWL_"
   },
   "outputs": [],
   "source": [
    "# loading data right from the source: \n",
    "# data from : https://github.com/CSSEGISandData/COVID-19:  \n",
    "\n",
    "death_df = pd.read_csv('https://raw.githubusercontent.com/CSSEGISandData/COVID-19/master/csse_covid_19_data/csse_covid_19_time_series/time_series_covid19_deaths_global.csv')\n",
    "confirmed_df = pd.read_csv('https://raw.githubusercontent.com/CSSEGISandData/COVID-19/master/csse_covid_19_data/csse_covid_19_time_series/time_series_covid19_confirmed_global.csv')\n",
    "recovered_df = pd.read_csv('https://raw.githubusercontent.com/CSSEGISandData/COVID-19/master/csse_covid_19_data/csse_covid_19_time_series/time_series_covid19_recovered_global.csv')\n",
    "country_df = pd.read_csv('https://raw.githubusercontent.com/CSSEGISandData/COVID-19/web-data/data/cases_country.csv')"
   ]
  },
  {
   "cell_type": "code",
   "execution_count": 5,
   "metadata": {
    "extensions": {
     "jupyter_dashboards": {
      "version": 1,
      "views": {
       "default_view": {
        "hidden": true
       },
       "grid_default": {
        "col": null,
        "height": 2,
        "hidden": true,
        "row": null,
        "width": 2
       },
       "report_default": {
        "hidden": true
       }
      }
     }
    },
    "id": "EE1y8FTQrde8"
   },
   "outputs": [],
   "source": [
    "#death_df.head()"
   ]
  },
  {
   "cell_type": "code",
   "execution_count": 6,
   "metadata": {
    "extensions": {
     "jupyter_dashboards": {
      "version": 1,
      "views": {
       "default_view": {
        "hidden": true
       },
       "grid_default": {
        "col": null,
        "height": 2,
        "hidden": true,
        "row": null,
        "width": 2
       },
       "report_default": {
        "hidden": true
       }
      }
     }
    },
    "id": "Mv4oM_2br2MU"
   },
   "outputs": [],
   "source": [
    "#confirmed_df.head()"
   ]
  },
  {
   "cell_type": "code",
   "execution_count": 7,
   "metadata": {
    "extensions": {
     "jupyter_dashboards": {
      "version": 1,
      "views": {
       "default_view": {
        "hidden": true
       },
       "grid_default": {
        "col": null,
        "height": 2,
        "hidden": true,
        "row": null,
        "width": 2
       },
       "report_default": {
        "hidden": true
       }
      }
     }
    },
    "id": "BN77TaM4r42G"
   },
   "outputs": [],
   "source": [
    "#recovered_df.head()"
   ]
  },
  {
   "cell_type": "code",
   "execution_count": 8,
   "metadata": {
    "extensions": {
     "jupyter_dashboards": {
      "version": 1,
      "views": {
       "default_view": {
        "hidden": true
       },
       "grid_default": {
        "col": null,
        "height": 2,
        "hidden": true,
        "row": null,
        "width": 2
       },
       "report_default": {
        "hidden": true
       }
      }
     }
    },
    "id": "Hbw6kSMxr-Ex"
   },
   "outputs": [],
   "source": [
    "#country_df.head()"
   ]
  },
  {
   "cell_type": "code",
   "execution_count": 9,
   "metadata": {
    "extensions": {
     "jupyter_dashboards": {
      "version": 1,
      "views": {
       "default_view": {
        "hidden": true
       },
       "grid_default": {
        "col": null,
        "height": 2,
        "hidden": true,
        "row": null,
        "width": 2
       },
       "report_default": {
        "hidden": true
       }
      }
     }
    },
    "id": "pjBtQEoZyMgD"
   },
   "outputs": [],
   "source": [
    "#country_df.isnull().sum() "
   ]
  },
  {
   "cell_type": "code",
   "execution_count": 10,
   "metadata": {
    "extensions": {
     "jupyter_dashboards": {
      "version": 1,
      "views": {
       "default_view": {
        "hidden": true
       },
       "grid_default": {
        "col": null,
        "height": 2,
        "hidden": true,
        "row": null,
        "width": 2
       },
       "report_default": {
        "hidden": true
       }
      }
     }
    },
    "id": "etJ9KZuXr0P1"
   },
   "outputs": [],
   "source": [
    "# recovered_df.isnull().sum()"
   ]
  },
  {
   "cell_type": "code",
   "execution_count": 11,
   "metadata": {
    "extensions": {
     "jupyter_dashboards": {
      "version": 1,
      "views": {
       "default_view": {
        "hidden": true
       },
       "grid_default": {
        "col": null,
        "height": 2,
        "hidden": true,
        "row": null,
        "width": 2
       },
       "report_default": {
        "hidden": true
       }
      }
     }
    },
    "id": "_F63_sYdHQHL"
   },
   "outputs": [],
   "source": [
    "# Cleaning the Data : \n",
    "# replace NaN with 0.  \n",
    "\n",
    "country_df = country_df.fillna(0)\n",
    "death_df = death_df.fillna(0)\n",
    "recovered_df = recovered_df.fillna(0)\n",
    "confirmed_df = confirmed_df.fillna(0)"
   ]
  },
  {
   "cell_type": "code",
   "execution_count": 12,
   "metadata": {
    "extensions": {
     "jupyter_dashboards": {
      "version": 1,
      "views": {
       "default_view": {
        "hidden": true
       },
       "grid_default": {
        "col": null,
        "height": 2,
        "hidden": true,
        "row": null,
        "width": 2
       },
       "report_default": {
        "hidden": true
       }
      }
     }
    },
    "id": "OwkIauCEsC-D"
   },
   "outputs": [],
   "source": [
    "# cleaning the data : \n",
    "# making all column names lowercase : \n",
    "\n",
    "# we have four dataframes : death_df, recovered_df, confirmed_df, country_df\n",
    "death_df.columns = map(str.lower, death_df.columns)\n",
    "recovered_df.columns = map(str.lower, recovered_df.columns)\n",
    "confirmed_df.columns = map(str.lower, confirmed_df.columns)\n",
    "country_df.columns = map(str.lower, country_df.columns)"
   ]
  },
  {
   "cell_type": "code",
   "execution_count": 13,
   "metadata": {
    "extensions": {
     "jupyter_dashboards": {
      "version": 1,
      "views": {
       "default_view": {
        "hidden": true
       },
       "grid_default": {
        "col": null,
        "height": 2,
        "hidden": true,
        "row": null,
        "width": 2
       },
       "report_default": {
        "hidden": true
       }
      }
     }
    },
    "id": "yt6WmpCACLy7"
   },
   "outputs": [],
   "source": [
    "# recovered_df.head(5) "
   ]
  },
  {
   "cell_type": "code",
   "execution_count": 14,
   "metadata": {
    "extensions": {
     "jupyter_dashboards": {
      "version": 1,
      "views": {
       "default_view": {
        "hidden": true
       },
       "grid_default": {
        "col": null,
        "height": 2,
        "hidden": true,
        "row": null,
        "width": 2
       },
       "report_default": {
        "hidden": true
       }
      }
     }
    },
    "id": "B4QWXJ0sCWlW"
   },
   "outputs": [],
   "source": [
    "# rename column country/region to country and province/state to state : \n",
    "\n",
    "death_df = death_df.rename(columns={'province/state': 'state', 'country/region': 'country'})\n",
    "recovered_df = recovered_df.rename(columns={'province/state': 'state', 'country/region': 'country'})\n",
    "confirmed_df = confirmed_df.rename(columns={'province/state': 'state', 'country/region': 'country'})\n",
    "country_df = country_df.rename(columns={'province/state': 'state', 'country/region': 'country'}) \n",
    "country_df = country_df.rename(columns={'country_region': 'Country','cases_28_days': 'Cases in Last 28 Days', 'deaths_28_days': 'Deaths in Last 28 Days'})\n",
    "\n"
   ]
  },
  {
   "cell_type": "code",
   "execution_count": 15,
   "metadata": {
    "extensions": {
     "jupyter_dashboards": {
      "version": 1,
      "views": {
       "default_view": {
        "hidden": true
       },
       "grid_default": {
        "col": null,
        "height": 2,
        "hidden": true,
        "row": null,
        "width": 2
       },
       "report_default": {
        "hidden": true
       }
      }
     }
    },
    "id": "99S0EqY-EIh6"
   },
   "outputs": [],
   "source": [
    "#death_df.head(5) "
   ]
  },
  {
   "cell_type": "code",
   "execution_count": 16,
   "metadata": {
    "extensions": {
     "jupyter_dashboards": {
      "version": 1,
      "views": {
       "default_view": {
        "hidden": true
       },
       "grid_default": {
        "col": null,
        "height": 2,
        "hidden": true,
        "row": null,
        "width": 2
       },
       "report_default": {
        "hidden": true
       }
      }
     }
    },
    "id": "WKVH96NxFLlT"
   },
   "outputs": [],
   "source": [
    "#death_df.shape"
   ]
  },
  {
   "cell_type": "code",
   "execution_count": 17,
   "metadata": {
    "extensions": {
     "jupyter_dashboards": {
      "version": 1,
      "views": {
       "default_view": {
        "hidden": true
       },
       "grid_default": {
        "col": null,
        "height": 2,
        "hidden": true,
        "row": null,
        "width": 2
       },
       "report_default": {
        "hidden": true
       }
      }
     }
    },
    "id": "-DXSWbY2EOrj"
   },
   "outputs": [],
   "source": [
    "# sort countries by highest confirmed cases \n",
    "# country_df.head(5) "
   ]
  },
  {
   "cell_type": "code",
   "execution_count": 18,
   "metadata": {
    "extensions": {
     "jupyter_dashboards": {
      "version": 1,
      "views": {
       "default_view": {
        "hidden": true
       },
       "grid_default": {
        "col": null,
        "height": 2,
        "hidden": true,
        "row": null,
        "width": 2
       },
       "report_default": {
        "hidden": true
       }
      }
     }
    },
    "id": "JZ_ToBcDHrja"
   },
   "outputs": [],
   "source": [
    "#confirmed_df.head(5)"
   ]
  },
  {
   "cell_type": "code",
   "execution_count": 19,
   "metadata": {
    "extensions": {
     "jupyter_dashboards": {
      "version": 1,
      "views": {
       "default_view": {
        "hidden": true
       },
       "grid_default": {
        "col": null,
        "height": 2,
        "hidden": true,
        "row": null,
        "width": 2
       },
       "report_default": {
        "hidden": true
       }
      }
     }
    },
    "id": "MaV6LZn3Ixpy"
   },
   "outputs": [],
   "source": [
    "sorted_country_df = country_df.sort_values(by='confirmed',ascending=False).head(20)"
   ]
  },
  {
   "cell_type": "code",
   "execution_count": 20,
   "metadata": {
    "extensions": {
     "jupyter_dashboards": {
      "version": 1,
      "views": {
       "default_view": {
        "hidden": true
       },
       "grid_default": {
        "col": null,
        "height": 2,
        "hidden": true,
        "row": null,
        "width": 2
       },
       "report_default": {
        "hidden": true
       }
      }
     }
    },
    "id": "ZzqNv9fyo_q0"
   },
   "outputs": [],
   "source": [
    "# Building a scorecard for total cases, recovered cases \n",
    "confirmed_total = country_df['confirmed'].sum()\n",
    "deaths_total = country_df['deaths'].sum()"
   ]
  },
  {
   "cell_type": "markdown",
   "metadata": {
    "extensions": {
     "jupyter_dashboards": {
      "version": 1,
      "views": {
       "default_view": {
        "col": 0,
        "height": 2,
        "row": 42,
        "width": 12
       },
       "grid_default": {
        "col": null,
        "height": 2,
        "hidden": true,
        "row": null,
        "width": 2
       },
       "report_default": {
        "col": 0,
        "height": 2,
        "hidden": false,
        "row": 42,
        "width": 12
       }
      }
     }
    },
    "id": "vvrXNwIlq1vk"
   },
   "source": [
    "<h2><left>Current World Statistics</left></h2> \n",
    "\n",
    "\n"
   ]
  },
  {
   "cell_type": "code",
   "execution_count": 21,
   "metadata": {
    "colab": {
     "base_uri": "https://localhost:8080/",
     "height": 114
    },
    "extensions": {
     "jupyter_dashboards": {
      "version": 1,
      "views": {
       "default_view": {
        "col": 0,
        "height": 2,
        "row": 44,
        "width": 12
       },
       "grid_default": {
        "col": 0,
        "height": 2,
        "hidden": true,
        "row": 26,
        "width": 12
       },
       "report_default": {
        "col": 0,
        "height": 2,
        "hidden": false,
        "row": 44,
        "width": 12
       }
      }
     }
    },
    "id": "p-2hlTuIofhQ",
    "jupyter": {
     "outputs_hidden": true
    },
    "outputId": "19a75f6b-7fb6-42a9-8a9a-352d52b5e31a",
    "tags": []
   },
   "outputs": [
    {
     "data": {
      "text/html": [
       "<div style = 'background-color: #504e4e; padding: 30px; text-align: center;'><span style='color: #fff; font-size:30px;'> Confirmed Total Cases : 307141630</span><span style='color: red; font-size:30px;margin-left:20px;'> Confirmed Total Deaths: 5488597</span></div>"
      ],
      "text/plain": [
       "<IPython.core.display.HTML object>"
      ]
     },
     "metadata": {},
     "output_type": "display_data"
    }
   ],
   "source": [
    "# displaying the total stats\n",
    "\n",
    "display(HTML(\"<div style = 'background-color: #504e4e; padding: 30px; text-align: center;'>\" +\n",
    "             \"<span style='color: #fff; font-size:30px;'> Confirmed Total Cases : \"  + str(confirmed_total) +\"</span>\" +\n",
    "             \"<span style='color: red; font-size:30px;margin-left:20px;'> Confirmed Total Deaths: \" + str(deaths_total) + \"</span>\"+\n",
    "             #\"<span style='color: lightgreen; font-size:30px; margin-left:20px;'> Recovered: \" + str(recovered_total) + \"</span>\"+\n",
    "             \"</div>\")\n",
    "       )"
   ]
  },
  {
   "cell_type": "code",
   "execution_count": 22,
   "metadata": {
    "colab": {
     "base_uri": "https://localhost:8080/",
     "height": 313
    },
    "extensions": {
     "jupyter_dashboards": {
      "version": 1,
      "views": {
       "default_view": {
        "hidden": true
       },
       "grid_default": {
        "col": null,
        "height": 2,
        "hidden": true,
        "row": null,
        "width": 2
       },
       "report_default": {
        "hidden": true
       }
      }
     }
    },
    "id": "WoNtlzDWKVCz",
    "outputId": "ed59ac6d-31fc-4d80-c0bc-1b2bd177994c",
    "tags": []
   },
   "outputs": [],
   "source": [
    "#from IPython.display import display, HTML\n",
    "#def highlight_col(x):\n",
    "#    r = \"background-color:red\"\n",
    "#    p = \"background-color:purple\"\n",
    "#    o = \"background-color:orange\"\n",
    "#    temp_df = pd.DataFrame('', index=x.index, columns = x.columns)\n",
    "#    temp_df.iloc[:,4] = r\n",
    "#    temp_df.iloc[:,5] = p\n",
    "#    temp_df.iloc[:,11] = o\n",
    "#    return temp_df \n",
    "\n",
    "#display(sorted_country_df.head(5).style.apply(highlight_col,axis=None)) "
   ]
  },
  {
   "cell_type": "code",
   "execution_count": 23,
   "metadata": {
    "extensions": {
     "jupyter_dashboards": {
      "version": 1,
      "views": {
       "default_view": {
        "hidden": true
       },
       "grid_default": {
        "col": null,
        "height": 2,
        "hidden": true,
        "row": null,
        "width": 2
       },
       "report_default": {
        "hidden": true
       }
      }
     }
    },
    "id": "bAFaufmJO8UC"
   },
   "outputs": [],
   "source": [
    "# data visualization : \n",
    "import plotly.express as px"
   ]
  },
  {
   "cell_type": "markdown",
   "metadata": {
    "extensions": {
     "jupyter_dashboards": {
      "version": 1,
      "views": {
       "default_view": {
        "col": 0,
        "height": 2,
        "row": 52,
        "width": 12
       },
       "grid_default": {
        "col": null,
        "height": 2,
        "hidden": true,
        "row": null,
        "width": 2
       },
       "report_default": {
        "col": 0,
        "height": 2,
        "hidden": false,
        "row": 52,
        "width": 12
       }
      }
     }
    },
    "id": "708i7HsJ6wdq"
   },
   "source": [
    "<h1><center>Country-Wise Confirmed Caseload visualization</center></h1> "
   ]
  },
  {
   "cell_type": "code",
   "execution_count": 24,
   "metadata": {
    "colab": {
     "base_uri": "https://localhost:8080/",
     "height": 542
    },
    "extensions": {
     "jupyter_dashboards": {
      "version": 1,
      "views": {
       "default_view": {
        "col": 0,
        "height": 2,
        "row": 54,
        "width": 12
       },
       "grid_default": {
        "col": null,
        "height": 2,
        "hidden": true,
        "row": null,
        "width": 2
       },
       "report_default": {
        "hidden": true
       }
      }
     }
    },
    "id": "fKjcH1yePNIl",
    "outputId": "bce6199c-7c6c-494e-f9f0-e731d946c664"
   },
   "outputs": [],
   "source": [
    "#def bubblechart(n):\n",
    "#    fig = px.scatter(sorted_country_df.head(n), x=\"country_region\", y=\"confirmed\", color=\"country_region\",\n",
    "#                 size='confirmed', hover_name=\"country_region\",size_max=60)\n",
    "#    fig.update_xaxes(title_text='Country')\n",
    "#    fig.update_yaxes(title_text='Confirmed Cases')\n",
    "#    fig.show();\n",
    "\n",
    "# interact(bubblechart, n=10);\n",
    "#ipywLayout = widgets.Layout(border='solid 2px green')\n",
    "#ipywLayout.display='none'\n",
    "#widgets.VBox([fig], layout=ipywLayout) "
   ]
  },
  {
   "cell_type": "code",
   "execution_count": 25,
   "metadata": {
    "extensions": {
     "jupyter_dashboards": {
      "version": 1,
      "views": {
       "grid_default": {
        "col": 0,
        "height": 5,
        "hidden": true,
        "row": 34,
        "width": 12
       },
       "report_default": {
        "col": 0,
        "height": 2,
        "row": 56,
        "width": 12
       }
      }
     }
    }
   },
   "outputs": [
    {
     "data": {
      "application/vnd.jupyter.widget-view+json": {
       "model_id": "2f74f05b177a4146a3ae1945a4a05713",
       "version_major": 2,
       "version_minor": 0
      },
      "text/plain": [
       "interactive(children=(IntSlider(value=10, description='n', max=30, min=-10), Output()), _dom_classes=('widget-…"
      ]
     },
     "metadata": {},
     "output_type": "display_data"
    },
    {
     "data": {
      "application/vnd.jupyter.widget-view+json": {
       "model_id": "a7863b242c824acf9fab2e847f4b1edc",
       "version_major": 2,
       "version_minor": 0
      },
      "text/plain": [
       "VBox(children=(FigureWidget({\n",
       "    'data': [], 'layout': {'template': '...'}\n",
       "}),), layout=Layout(border='solid …"
      ]
     },
     "metadata": {},
     "output_type": "display_data"
    }
   ],
   "source": [
    "fig = go.FigureWidget(layout=go.Layout() )\n",
    "\n",
    "def barchart(n):\n",
    "        fig = px.bar(sorted_country_df.head(n), x=\"Country\", y=\"confirmed\", color=\"Country\")\n",
    "        fig.update_xaxes(title_text='Country')\n",
    "        fig.update_yaxes(title_text='Confirmed Cases')\n",
    "        fig.update_layout(legend_title=\"Country\")\n",
    "        fig.show();\n",
    "        \n",
    "widgets.interact(barchart, n = 10)\n",
    "\n",
    "# slider widget : \n",
    "# xmin, xmax = fig['layout']['xaxis']['range'] \n",
    "\n",
    "ipywLayout = widgets.Layout(border='solid 2px green')\n",
    "ipywLayout.display='none' # uncomment this, run cell again - then the graph/figure disappears\n",
    "widgets.VBox([fig], layout=ipywLayout)"
   ]
  },
  {
   "cell_type": "markdown",
   "metadata": {
    "colab": {
     "base_uri": "https://localhost:8080/",
     "height": 357
    },
    "extensions": {
     "jupyter_dashboards": {
      "version": 1,
      "views": {
       "default_view": {
        "col": 0,
        "height": 2,
        "row": 56,
        "width": 12
       },
       "grid_default": {
        "col": null,
        "height": 2,
        "hidden": true,
        "row": null,
        "width": 2
       },
       "report_default": {
        "col": 0,
        "height": 2,
        "hidden": false,
        "row": 58,
        "width": 12
       }
      }
     }
    },
    "id": "fAPfkv0s96WA",
    "outputId": "0fb163af-65cb-4cce-87c3-b88af9b02299"
   },
   "source": [
    "<h1><center>Top 10 Countries with Highest Death Counts</center><h1>"
   ]
  },
  {
   "cell_type": "code",
   "execution_count": 26,
   "metadata": {
    "colab": {
     "base_uri": "https://localhost:8080/",
     "height": 542
    },
    "extensions": {
     "jupyter_dashboards": {
      "version": 1,
      "views": {
       "default_view": {
        "col": 0,
        "height": 2,
        "row": 58,
        "width": 12
       },
       "grid_default": {
        "col": 7,
        "height": 7,
        "hidden": false,
        "row": 16,
        "width": 5
       },
       "report_default": {
        "col": 0,
        "height": 2,
        "hidden": false,
        "row": 60,
        "width": 12
       }
      }
     }
    },
    "id": "WmFC2jM-b0lw",
    "outputId": "3812616a-63a9-454f-b183-ba9b6632298b"
   },
   "outputs": [
    {
     "data": {
      "application/vnd.plotly.v1+json": {
       "config": {
        "plotlyServerURL": "https://plot.ly"
       },
       "data": [
        {
         "customdata": [
          [
           "US"
          ],
          [
           "India"
          ],
          [
           "Brazil"
          ],
          [
           "United Kingdom"
          ],
          [
           "France"
          ],
          [
           "Russia"
          ],
          [
           "Turkey"
          ],
          [
           "Germany"
          ],
          [
           "Italy"
          ],
          [
           "Spain"
          ]
         ],
         "domain": {
          "x": [
           0,
           1
          ],
          "y": [
           0,
           1
          ]
         },
         "hole": 0.3,
         "hovertemplate": "Country=%{customdata[0]}<br>deaths=%{value}<extra></extra>",
         "insidetextfont": {
          "color": "white"
         },
         "labels": [
          "US",
          "India",
          "Brazil",
          "United Kingdom",
          "France",
          "Russia",
          "Turkey",
          "Germany",
          "Italy",
          "Spain"
         ],
         "legendgroup": "",
         "marker": {
          "colors": [
           "#636efa",
           "#EF553B",
           "#00cc96",
           "#ab63fa",
           "#FFA15A",
           "#19d3f3",
           "#FF6692",
           "#B6E880",
           "#FF97FF",
           "#FECB52"
          ]
         },
         "name": "",
         "showlegend": true,
         "textinfo": "label+percent",
         "type": "pie",
         "values": [
          837594,
          483936,
          620251,
          150634,
          126427,
          309787,
          83702,
          114033,
          139038,
          89934
         ]
        }
       ],
       "layout": {
        "legend": {
         "itemclick": false,
         "tracegroupgap": 0
        },
        "margin": {
         "t": 60
        },
        "template": {
         "data": {
          "bar": [
           {
            "error_x": {
             "color": "#2a3f5f"
            },
            "error_y": {
             "color": "#2a3f5f"
            },
            "marker": {
             "line": {
              "color": "#E5ECF6",
              "width": 0.5
             },
             "pattern": {
              "fillmode": "overlay",
              "size": 10,
              "solidity": 0.2
             }
            },
            "type": "bar"
           }
          ],
          "barpolar": [
           {
            "marker": {
             "line": {
              "color": "#E5ECF6",
              "width": 0.5
             },
             "pattern": {
              "fillmode": "overlay",
              "size": 10,
              "solidity": 0.2
             }
            },
            "type": "barpolar"
           }
          ],
          "carpet": [
           {
            "aaxis": {
             "endlinecolor": "#2a3f5f",
             "gridcolor": "white",
             "linecolor": "white",
             "minorgridcolor": "white",
             "startlinecolor": "#2a3f5f"
            },
            "baxis": {
             "endlinecolor": "#2a3f5f",
             "gridcolor": "white",
             "linecolor": "white",
             "minorgridcolor": "white",
             "startlinecolor": "#2a3f5f"
            },
            "type": "carpet"
           }
          ],
          "choropleth": [
           {
            "colorbar": {
             "outlinewidth": 0,
             "ticks": ""
            },
            "type": "choropleth"
           }
          ],
          "contour": [
           {
            "colorbar": {
             "outlinewidth": 0,
             "ticks": ""
            },
            "colorscale": [
             [
              0,
              "#0d0887"
             ],
             [
              0.1111111111111111,
              "#46039f"
             ],
             [
              0.2222222222222222,
              "#7201a8"
             ],
             [
              0.3333333333333333,
              "#9c179e"
             ],
             [
              0.4444444444444444,
              "#bd3786"
             ],
             [
              0.5555555555555556,
              "#d8576b"
             ],
             [
              0.6666666666666666,
              "#ed7953"
             ],
             [
              0.7777777777777778,
              "#fb9f3a"
             ],
             [
              0.8888888888888888,
              "#fdca26"
             ],
             [
              1,
              "#f0f921"
             ]
            ],
            "type": "contour"
           }
          ],
          "contourcarpet": [
           {
            "colorbar": {
             "outlinewidth": 0,
             "ticks": ""
            },
            "type": "contourcarpet"
           }
          ],
          "heatmap": [
           {
            "colorbar": {
             "outlinewidth": 0,
             "ticks": ""
            },
            "colorscale": [
             [
              0,
              "#0d0887"
             ],
             [
              0.1111111111111111,
              "#46039f"
             ],
             [
              0.2222222222222222,
              "#7201a8"
             ],
             [
              0.3333333333333333,
              "#9c179e"
             ],
             [
              0.4444444444444444,
              "#bd3786"
             ],
             [
              0.5555555555555556,
              "#d8576b"
             ],
             [
              0.6666666666666666,
              "#ed7953"
             ],
             [
              0.7777777777777778,
              "#fb9f3a"
             ],
             [
              0.8888888888888888,
              "#fdca26"
             ],
             [
              1,
              "#f0f921"
             ]
            ],
            "type": "heatmap"
           }
          ],
          "heatmapgl": [
           {
            "colorbar": {
             "outlinewidth": 0,
             "ticks": ""
            },
            "colorscale": [
             [
              0,
              "#0d0887"
             ],
             [
              0.1111111111111111,
              "#46039f"
             ],
             [
              0.2222222222222222,
              "#7201a8"
             ],
             [
              0.3333333333333333,
              "#9c179e"
             ],
             [
              0.4444444444444444,
              "#bd3786"
             ],
             [
              0.5555555555555556,
              "#d8576b"
             ],
             [
              0.6666666666666666,
              "#ed7953"
             ],
             [
              0.7777777777777778,
              "#fb9f3a"
             ],
             [
              0.8888888888888888,
              "#fdca26"
             ],
             [
              1,
              "#f0f921"
             ]
            ],
            "type": "heatmapgl"
           }
          ],
          "histogram": [
           {
            "marker": {
             "pattern": {
              "fillmode": "overlay",
              "size": 10,
              "solidity": 0.2
             }
            },
            "type": "histogram"
           }
          ],
          "histogram2d": [
           {
            "colorbar": {
             "outlinewidth": 0,
             "ticks": ""
            },
            "colorscale": [
             [
              0,
              "#0d0887"
             ],
             [
              0.1111111111111111,
              "#46039f"
             ],
             [
              0.2222222222222222,
              "#7201a8"
             ],
             [
              0.3333333333333333,
              "#9c179e"
             ],
             [
              0.4444444444444444,
              "#bd3786"
             ],
             [
              0.5555555555555556,
              "#d8576b"
             ],
             [
              0.6666666666666666,
              "#ed7953"
             ],
             [
              0.7777777777777778,
              "#fb9f3a"
             ],
             [
              0.8888888888888888,
              "#fdca26"
             ],
             [
              1,
              "#f0f921"
             ]
            ],
            "type": "histogram2d"
           }
          ],
          "histogram2dcontour": [
           {
            "colorbar": {
             "outlinewidth": 0,
             "ticks": ""
            },
            "colorscale": [
             [
              0,
              "#0d0887"
             ],
             [
              0.1111111111111111,
              "#46039f"
             ],
             [
              0.2222222222222222,
              "#7201a8"
             ],
             [
              0.3333333333333333,
              "#9c179e"
             ],
             [
              0.4444444444444444,
              "#bd3786"
             ],
             [
              0.5555555555555556,
              "#d8576b"
             ],
             [
              0.6666666666666666,
              "#ed7953"
             ],
             [
              0.7777777777777778,
              "#fb9f3a"
             ],
             [
              0.8888888888888888,
              "#fdca26"
             ],
             [
              1,
              "#f0f921"
             ]
            ],
            "type": "histogram2dcontour"
           }
          ],
          "mesh3d": [
           {
            "colorbar": {
             "outlinewidth": 0,
             "ticks": ""
            },
            "type": "mesh3d"
           }
          ],
          "parcoords": [
           {
            "line": {
             "colorbar": {
              "outlinewidth": 0,
              "ticks": ""
             }
            },
            "type": "parcoords"
           }
          ],
          "pie": [
           {
            "automargin": true,
            "type": "pie"
           }
          ],
          "scatter": [
           {
            "marker": {
             "colorbar": {
              "outlinewidth": 0,
              "ticks": ""
             }
            },
            "type": "scatter"
           }
          ],
          "scatter3d": [
           {
            "line": {
             "colorbar": {
              "outlinewidth": 0,
              "ticks": ""
             }
            },
            "marker": {
             "colorbar": {
              "outlinewidth": 0,
              "ticks": ""
             }
            },
            "type": "scatter3d"
           }
          ],
          "scattercarpet": [
           {
            "marker": {
             "colorbar": {
              "outlinewidth": 0,
              "ticks": ""
             }
            },
            "type": "scattercarpet"
           }
          ],
          "scattergeo": [
           {
            "marker": {
             "colorbar": {
              "outlinewidth": 0,
              "ticks": ""
             }
            },
            "type": "scattergeo"
           }
          ],
          "scattergl": [
           {
            "marker": {
             "colorbar": {
              "outlinewidth": 0,
              "ticks": ""
             }
            },
            "type": "scattergl"
           }
          ],
          "scattermapbox": [
           {
            "marker": {
             "colorbar": {
              "outlinewidth": 0,
              "ticks": ""
             }
            },
            "type": "scattermapbox"
           }
          ],
          "scatterpolar": [
           {
            "marker": {
             "colorbar": {
              "outlinewidth": 0,
              "ticks": ""
             }
            },
            "type": "scatterpolar"
           }
          ],
          "scatterpolargl": [
           {
            "marker": {
             "colorbar": {
              "outlinewidth": 0,
              "ticks": ""
             }
            },
            "type": "scatterpolargl"
           }
          ],
          "scatterternary": [
           {
            "marker": {
             "colorbar": {
              "outlinewidth": 0,
              "ticks": ""
             }
            },
            "type": "scatterternary"
           }
          ],
          "surface": [
           {
            "colorbar": {
             "outlinewidth": 0,
             "ticks": ""
            },
            "colorscale": [
             [
              0,
              "#0d0887"
             ],
             [
              0.1111111111111111,
              "#46039f"
             ],
             [
              0.2222222222222222,
              "#7201a8"
             ],
             [
              0.3333333333333333,
              "#9c179e"
             ],
             [
              0.4444444444444444,
              "#bd3786"
             ],
             [
              0.5555555555555556,
              "#d8576b"
             ],
             [
              0.6666666666666666,
              "#ed7953"
             ],
             [
              0.7777777777777778,
              "#fb9f3a"
             ],
             [
              0.8888888888888888,
              "#fdca26"
             ],
             [
              1,
              "#f0f921"
             ]
            ],
            "type": "surface"
           }
          ],
          "table": [
           {
            "cells": {
             "fill": {
              "color": "#EBF0F8"
             },
             "line": {
              "color": "white"
             }
            },
            "header": {
             "fill": {
              "color": "#C8D4E3"
             },
             "line": {
              "color": "white"
             }
            },
            "type": "table"
           }
          ]
         },
         "layout": {
          "annotationdefaults": {
           "arrowcolor": "#2a3f5f",
           "arrowhead": 0,
           "arrowwidth": 1
          },
          "autotypenumbers": "strict",
          "coloraxis": {
           "colorbar": {
            "outlinewidth": 0,
            "ticks": ""
           }
          },
          "colorscale": {
           "diverging": [
            [
             0,
             "#8e0152"
            ],
            [
             0.1,
             "#c51b7d"
            ],
            [
             0.2,
             "#de77ae"
            ],
            [
             0.3,
             "#f1b6da"
            ],
            [
             0.4,
             "#fde0ef"
            ],
            [
             0.5,
             "#f7f7f7"
            ],
            [
             0.6,
             "#e6f5d0"
            ],
            [
             0.7,
             "#b8e186"
            ],
            [
             0.8,
             "#7fbc41"
            ],
            [
             0.9,
             "#4d9221"
            ],
            [
             1,
             "#276419"
            ]
           ],
           "sequential": [
            [
             0,
             "#0d0887"
            ],
            [
             0.1111111111111111,
             "#46039f"
            ],
            [
             0.2222222222222222,
             "#7201a8"
            ],
            [
             0.3333333333333333,
             "#9c179e"
            ],
            [
             0.4444444444444444,
             "#bd3786"
            ],
            [
             0.5555555555555556,
             "#d8576b"
            ],
            [
             0.6666666666666666,
             "#ed7953"
            ],
            [
             0.7777777777777778,
             "#fb9f3a"
            ],
            [
             0.8888888888888888,
             "#fdca26"
            ],
            [
             1,
             "#f0f921"
            ]
           ],
           "sequentialminus": [
            [
             0,
             "#0d0887"
            ],
            [
             0.1111111111111111,
             "#46039f"
            ],
            [
             0.2222222222222222,
             "#7201a8"
            ],
            [
             0.3333333333333333,
             "#9c179e"
            ],
            [
             0.4444444444444444,
             "#bd3786"
            ],
            [
             0.5555555555555556,
             "#d8576b"
            ],
            [
             0.6666666666666666,
             "#ed7953"
            ],
            [
             0.7777777777777778,
             "#fb9f3a"
            ],
            [
             0.8888888888888888,
             "#fdca26"
            ],
            [
             1,
             "#f0f921"
            ]
           ]
          },
          "colorway": [
           "#636efa",
           "#EF553B",
           "#00cc96",
           "#ab63fa",
           "#FFA15A",
           "#19d3f3",
           "#FF6692",
           "#B6E880",
           "#FF97FF",
           "#FECB52"
          ],
          "font": {
           "color": "#2a3f5f"
          },
          "geo": {
           "bgcolor": "white",
           "lakecolor": "white",
           "landcolor": "#E5ECF6",
           "showlakes": true,
           "showland": true,
           "subunitcolor": "white"
          },
          "hoverlabel": {
           "align": "left"
          },
          "hovermode": "closest",
          "mapbox": {
           "style": "light"
          },
          "paper_bgcolor": "white",
          "plot_bgcolor": "#E5ECF6",
          "polar": {
           "angularaxis": {
            "gridcolor": "white",
            "linecolor": "white",
            "ticks": ""
           },
           "bgcolor": "#E5ECF6",
           "radialaxis": {
            "gridcolor": "white",
            "linecolor": "white",
            "ticks": ""
           }
          },
          "scene": {
           "xaxis": {
            "backgroundcolor": "#E5ECF6",
            "gridcolor": "white",
            "gridwidth": 2,
            "linecolor": "white",
            "showbackground": true,
            "ticks": "",
            "zerolinecolor": "white"
           },
           "yaxis": {
            "backgroundcolor": "#E5ECF6",
            "gridcolor": "white",
            "gridwidth": 2,
            "linecolor": "white",
            "showbackground": true,
            "ticks": "",
            "zerolinecolor": "white"
           },
           "zaxis": {
            "backgroundcolor": "#E5ECF6",
            "gridcolor": "white",
            "gridwidth": 2,
            "linecolor": "white",
            "showbackground": true,
            "ticks": "",
            "zerolinecolor": "white"
           }
          },
          "shapedefaults": {
           "line": {
            "color": "#2a3f5f"
           }
          },
          "ternary": {
           "aaxis": {
            "gridcolor": "white",
            "linecolor": "white",
            "ticks": ""
           },
           "baxis": {
            "gridcolor": "white",
            "linecolor": "white",
            "ticks": ""
           },
           "bgcolor": "#E5ECF6",
           "caxis": {
            "gridcolor": "white",
            "linecolor": "white",
            "ticks": ""
           }
          },
          "title": {
           "x": 0.05
          },
          "xaxis": {
           "automargin": true,
           "gridcolor": "white",
           "linecolor": "white",
           "ticks": "",
           "title": {
            "standoff": 15
           },
           "zerolinecolor": "white",
           "zerolinewidth": 2
          },
          "yaxis": {
           "automargin": true,
           "gridcolor": "white",
           "linecolor": "white",
           "ticks": "",
           "title": {
            "standoff": 15
           },
           "zerolinecolor": "white",
           "zerolinewidth": 2
          }
         }
        }
       }
      },
      "text/html": [
       "<div>                            <div id=\"953b2478-539f-4883-93fd-8e6bdc6a8af8\" class=\"plotly-graph-div\" style=\"height:525px; width:100%;\"></div>            <script type=\"text/javascript\">                require([\"plotly\"], function(Plotly) {                    window.PLOTLYENV=window.PLOTLYENV || {};                                    if (document.getElementById(\"953b2478-539f-4883-93fd-8e6bdc6a8af8\")) {                    Plotly.newPlot(                        \"953b2478-539f-4883-93fd-8e6bdc6a8af8\",                        [{\"customdata\":[[\"US\"],[\"India\"],[\"Brazil\"],[\"United Kingdom\"],[\"France\"],[\"Russia\"],[\"Turkey\"],[\"Germany\"],[\"Italy\"],[\"Spain\"]],\"domain\":{\"x\":[0.0,1.0],\"y\":[0.0,1.0]},\"hole\":0.3,\"hovertemplate\":\"Country=%{customdata[0]}<br>deaths=%{value}<extra></extra>\",\"labels\":[\"US\",\"India\",\"Brazil\",\"United Kingdom\",\"France\",\"Russia\",\"Turkey\",\"Germany\",\"Italy\",\"Spain\"],\"legendgroup\":\"\",\"marker\":{\"colors\":[\"#636efa\",\"#EF553B\",\"#00cc96\",\"#ab63fa\",\"#FFA15A\",\"#19d3f3\",\"#FF6692\",\"#B6E880\",\"#FF97FF\",\"#FECB52\"]},\"name\":\"\",\"showlegend\":true,\"values\":[837594,483936,620251,150634,126427,309787,83702,114033,139038,89934],\"type\":\"pie\",\"insidetextfont\":{\"color\":\"white\"},\"textinfo\":\"label+percent\"}],                        {\"template\":{\"data\":{\"bar\":[{\"error_x\":{\"color\":\"#2a3f5f\"},\"error_y\":{\"color\":\"#2a3f5f\"},\"marker\":{\"line\":{\"color\":\"#E5ECF6\",\"width\":0.5},\"pattern\":{\"fillmode\":\"overlay\",\"size\":10,\"solidity\":0.2}},\"type\":\"bar\"}],\"barpolar\":[{\"marker\":{\"line\":{\"color\":\"#E5ECF6\",\"width\":0.5},\"pattern\":{\"fillmode\":\"overlay\",\"size\":10,\"solidity\":0.2}},\"type\":\"barpolar\"}],\"carpet\":[{\"aaxis\":{\"endlinecolor\":\"#2a3f5f\",\"gridcolor\":\"white\",\"linecolor\":\"white\",\"minorgridcolor\":\"white\",\"startlinecolor\":\"#2a3f5f\"},\"baxis\":{\"endlinecolor\":\"#2a3f5f\",\"gridcolor\":\"white\",\"linecolor\":\"white\",\"minorgridcolor\":\"white\",\"startlinecolor\":\"#2a3f5f\"},\"type\":\"carpet\"}],\"choropleth\":[{\"colorbar\":{\"outlinewidth\":0,\"ticks\":\"\"},\"type\":\"choropleth\"}],\"contour\":[{\"colorbar\":{\"outlinewidth\":0,\"ticks\":\"\"},\"colorscale\":[[0.0,\"#0d0887\"],[0.1111111111111111,\"#46039f\"],[0.2222222222222222,\"#7201a8\"],[0.3333333333333333,\"#9c179e\"],[0.4444444444444444,\"#bd3786\"],[0.5555555555555556,\"#d8576b\"],[0.6666666666666666,\"#ed7953\"],[0.7777777777777778,\"#fb9f3a\"],[0.8888888888888888,\"#fdca26\"],[1.0,\"#f0f921\"]],\"type\":\"contour\"}],\"contourcarpet\":[{\"colorbar\":{\"outlinewidth\":0,\"ticks\":\"\"},\"type\":\"contourcarpet\"}],\"heatmap\":[{\"colorbar\":{\"outlinewidth\":0,\"ticks\":\"\"},\"colorscale\":[[0.0,\"#0d0887\"],[0.1111111111111111,\"#46039f\"],[0.2222222222222222,\"#7201a8\"],[0.3333333333333333,\"#9c179e\"],[0.4444444444444444,\"#bd3786\"],[0.5555555555555556,\"#d8576b\"],[0.6666666666666666,\"#ed7953\"],[0.7777777777777778,\"#fb9f3a\"],[0.8888888888888888,\"#fdca26\"],[1.0,\"#f0f921\"]],\"type\":\"heatmap\"}],\"heatmapgl\":[{\"colorbar\":{\"outlinewidth\":0,\"ticks\":\"\"},\"colorscale\":[[0.0,\"#0d0887\"],[0.1111111111111111,\"#46039f\"],[0.2222222222222222,\"#7201a8\"],[0.3333333333333333,\"#9c179e\"],[0.4444444444444444,\"#bd3786\"],[0.5555555555555556,\"#d8576b\"],[0.6666666666666666,\"#ed7953\"],[0.7777777777777778,\"#fb9f3a\"],[0.8888888888888888,\"#fdca26\"],[1.0,\"#f0f921\"]],\"type\":\"heatmapgl\"}],\"histogram\":[{\"marker\":{\"pattern\":{\"fillmode\":\"overlay\",\"size\":10,\"solidity\":0.2}},\"type\":\"histogram\"}],\"histogram2d\":[{\"colorbar\":{\"outlinewidth\":0,\"ticks\":\"\"},\"colorscale\":[[0.0,\"#0d0887\"],[0.1111111111111111,\"#46039f\"],[0.2222222222222222,\"#7201a8\"],[0.3333333333333333,\"#9c179e\"],[0.4444444444444444,\"#bd3786\"],[0.5555555555555556,\"#d8576b\"],[0.6666666666666666,\"#ed7953\"],[0.7777777777777778,\"#fb9f3a\"],[0.8888888888888888,\"#fdca26\"],[1.0,\"#f0f921\"]],\"type\":\"histogram2d\"}],\"histogram2dcontour\":[{\"colorbar\":{\"outlinewidth\":0,\"ticks\":\"\"},\"colorscale\":[[0.0,\"#0d0887\"],[0.1111111111111111,\"#46039f\"],[0.2222222222222222,\"#7201a8\"],[0.3333333333333333,\"#9c179e\"],[0.4444444444444444,\"#bd3786\"],[0.5555555555555556,\"#d8576b\"],[0.6666666666666666,\"#ed7953\"],[0.7777777777777778,\"#fb9f3a\"],[0.8888888888888888,\"#fdca26\"],[1.0,\"#f0f921\"]],\"type\":\"histogram2dcontour\"}],\"mesh3d\":[{\"colorbar\":{\"outlinewidth\":0,\"ticks\":\"\"},\"type\":\"mesh3d\"}],\"parcoords\":[{\"line\":{\"colorbar\":{\"outlinewidth\":0,\"ticks\":\"\"}},\"type\":\"parcoords\"}],\"pie\":[{\"automargin\":true,\"type\":\"pie\"}],\"scatter\":[{\"marker\":{\"colorbar\":{\"outlinewidth\":0,\"ticks\":\"\"}},\"type\":\"scatter\"}],\"scatter3d\":[{\"line\":{\"colorbar\":{\"outlinewidth\":0,\"ticks\":\"\"}},\"marker\":{\"colorbar\":{\"outlinewidth\":0,\"ticks\":\"\"}},\"type\":\"scatter3d\"}],\"scattercarpet\":[{\"marker\":{\"colorbar\":{\"outlinewidth\":0,\"ticks\":\"\"}},\"type\":\"scattercarpet\"}],\"scattergeo\":[{\"marker\":{\"colorbar\":{\"outlinewidth\":0,\"ticks\":\"\"}},\"type\":\"scattergeo\"}],\"scattergl\":[{\"marker\":{\"colorbar\":{\"outlinewidth\":0,\"ticks\":\"\"}},\"type\":\"scattergl\"}],\"scattermapbox\":[{\"marker\":{\"colorbar\":{\"outlinewidth\":0,\"ticks\":\"\"}},\"type\":\"scattermapbox\"}],\"scatterpolar\":[{\"marker\":{\"colorbar\":{\"outlinewidth\":0,\"ticks\":\"\"}},\"type\":\"scatterpolar\"}],\"scatterpolargl\":[{\"marker\":{\"colorbar\":{\"outlinewidth\":0,\"ticks\":\"\"}},\"type\":\"scatterpolargl\"}],\"scatterternary\":[{\"marker\":{\"colorbar\":{\"outlinewidth\":0,\"ticks\":\"\"}},\"type\":\"scatterternary\"}],\"surface\":[{\"colorbar\":{\"outlinewidth\":0,\"ticks\":\"\"},\"colorscale\":[[0.0,\"#0d0887\"],[0.1111111111111111,\"#46039f\"],[0.2222222222222222,\"#7201a8\"],[0.3333333333333333,\"#9c179e\"],[0.4444444444444444,\"#bd3786\"],[0.5555555555555556,\"#d8576b\"],[0.6666666666666666,\"#ed7953\"],[0.7777777777777778,\"#fb9f3a\"],[0.8888888888888888,\"#fdca26\"],[1.0,\"#f0f921\"]],\"type\":\"surface\"}],\"table\":[{\"cells\":{\"fill\":{\"color\":\"#EBF0F8\"},\"line\":{\"color\":\"white\"}},\"header\":{\"fill\":{\"color\":\"#C8D4E3\"},\"line\":{\"color\":\"white\"}},\"type\":\"table\"}]},\"layout\":{\"annotationdefaults\":{\"arrowcolor\":\"#2a3f5f\",\"arrowhead\":0,\"arrowwidth\":1},\"autotypenumbers\":\"strict\",\"coloraxis\":{\"colorbar\":{\"outlinewidth\":0,\"ticks\":\"\"}},\"colorscale\":{\"diverging\":[[0,\"#8e0152\"],[0.1,\"#c51b7d\"],[0.2,\"#de77ae\"],[0.3,\"#f1b6da\"],[0.4,\"#fde0ef\"],[0.5,\"#f7f7f7\"],[0.6,\"#e6f5d0\"],[0.7,\"#b8e186\"],[0.8,\"#7fbc41\"],[0.9,\"#4d9221\"],[1,\"#276419\"]],\"sequential\":[[0.0,\"#0d0887\"],[0.1111111111111111,\"#46039f\"],[0.2222222222222222,\"#7201a8\"],[0.3333333333333333,\"#9c179e\"],[0.4444444444444444,\"#bd3786\"],[0.5555555555555556,\"#d8576b\"],[0.6666666666666666,\"#ed7953\"],[0.7777777777777778,\"#fb9f3a\"],[0.8888888888888888,\"#fdca26\"],[1.0,\"#f0f921\"]],\"sequentialminus\":[[0.0,\"#0d0887\"],[0.1111111111111111,\"#46039f\"],[0.2222222222222222,\"#7201a8\"],[0.3333333333333333,\"#9c179e\"],[0.4444444444444444,\"#bd3786\"],[0.5555555555555556,\"#d8576b\"],[0.6666666666666666,\"#ed7953\"],[0.7777777777777778,\"#fb9f3a\"],[0.8888888888888888,\"#fdca26\"],[1.0,\"#f0f921\"]]},\"colorway\":[\"#636efa\",\"#EF553B\",\"#00cc96\",\"#ab63fa\",\"#FFA15A\",\"#19d3f3\",\"#FF6692\",\"#B6E880\",\"#FF97FF\",\"#FECB52\"],\"font\":{\"color\":\"#2a3f5f\"},\"geo\":{\"bgcolor\":\"white\",\"lakecolor\":\"white\",\"landcolor\":\"#E5ECF6\",\"showlakes\":true,\"showland\":true,\"subunitcolor\":\"white\"},\"hoverlabel\":{\"align\":\"left\"},\"hovermode\":\"closest\",\"mapbox\":{\"style\":\"light\"},\"paper_bgcolor\":\"white\",\"plot_bgcolor\":\"#E5ECF6\",\"polar\":{\"angularaxis\":{\"gridcolor\":\"white\",\"linecolor\":\"white\",\"ticks\":\"\"},\"bgcolor\":\"#E5ECF6\",\"radialaxis\":{\"gridcolor\":\"white\",\"linecolor\":\"white\",\"ticks\":\"\"}},\"scene\":{\"xaxis\":{\"backgroundcolor\":\"#E5ECF6\",\"gridcolor\":\"white\",\"gridwidth\":2,\"linecolor\":\"white\",\"showbackground\":true,\"ticks\":\"\",\"zerolinecolor\":\"white\"},\"yaxis\":{\"backgroundcolor\":\"#E5ECF6\",\"gridcolor\":\"white\",\"gridwidth\":2,\"linecolor\":\"white\",\"showbackground\":true,\"ticks\":\"\",\"zerolinecolor\":\"white\"},\"zaxis\":{\"backgroundcolor\":\"#E5ECF6\",\"gridcolor\":\"white\",\"gridwidth\":2,\"linecolor\":\"white\",\"showbackground\":true,\"ticks\":\"\",\"zerolinecolor\":\"white\"}},\"shapedefaults\":{\"line\":{\"color\":\"#2a3f5f\"}},\"ternary\":{\"aaxis\":{\"gridcolor\":\"white\",\"linecolor\":\"white\",\"ticks\":\"\"},\"baxis\":{\"gridcolor\":\"white\",\"linecolor\":\"white\",\"ticks\":\"\"},\"bgcolor\":\"#E5ECF6\",\"caxis\":{\"gridcolor\":\"white\",\"linecolor\":\"white\",\"ticks\":\"\"}},\"title\":{\"x\":0.05},\"xaxis\":{\"automargin\":true,\"gridcolor\":\"white\",\"linecolor\":\"white\",\"ticks\":\"\",\"title\":{\"standoff\":15},\"zerolinecolor\":\"white\",\"zerolinewidth\":2},\"yaxis\":{\"automargin\":true,\"gridcolor\":\"white\",\"linecolor\":\"white\",\"ticks\":\"\",\"title\":{\"standoff\":15},\"zerolinecolor\":\"white\",\"zerolinewidth\":2}}},\"legend\":{\"tracegroupgap\":0,\"itemclick\":false},\"margin\":{\"t\":60}},                        {\"responsive\": true}                    ).then(function(){\n",
       "                            \n",
       "var gd = document.getElementById('953b2478-539f-4883-93fd-8e6bdc6a8af8');\n",
       "var x = new MutationObserver(function (mutations, observer) {{\n",
       "        var display = window.getComputedStyle(gd).display;\n",
       "        if (!display || display === 'none') {{\n",
       "            console.log([gd, 'removed!']);\n",
       "            Plotly.purge(gd);\n",
       "            observer.disconnect();\n",
       "        }}\n",
       "}});\n",
       "\n",
       "// Listen for the removal of the full notebook cells\n",
       "var notebookContainer = gd.closest('#notebook-container');\n",
       "if (notebookContainer) {{\n",
       "    x.observe(notebookContainer, {childList: true});\n",
       "}}\n",
       "\n",
       "// Listen for the clearing of the current output cell\n",
       "var outputEl = gd.closest('.output');\n",
       "if (outputEl) {{\n",
       "    x.observe(outputEl, {childList: true});\n",
       "}}\n",
       "\n",
       "                        })                };                });            </script>        </div>"
      ]
     },
     "metadata": {},
     "output_type": "display_data"
    }
   ],
   "source": [
    "import plotly.express as px\n",
    "# This dataframe has 244 lines, but 4 distinct values for `day`\n",
    "fig = px.pie(sorted_country_df.head(10), values='deaths', names='Country', color=\"Country\",hole=0.3)\n",
    "fig.update_traces(textinfo=\"label+percent\",insidetextfont=dict(color=\"white\"))\n",
    "fig.update_layout(legend={\"itemclick\": False})\n",
    "\n",
    "fig.show() "
   ]
  },
  {
   "cell_type": "markdown",
   "metadata": {
    "extensions": {
     "jupyter_dashboards": {
      "version": 1,
      "views": {
       "default_view": {
        "col": 0,
        "height": 2,
        "row": 60,
        "width": 12
       },
       "grid_default": {
        "col": null,
        "height": 2,
        "hidden": true,
        "row": null,
        "width": 2
       },
       "report_default": {
        "col": 0,
        "height": 2,
        "hidden": false,
        "row": 62,
        "width": 12
       }
      }
     }
    },
    "id": "jIToZHXF39Qy"
   },
   "source": [
    "<h1><center>Visual Representation of Rise of Covid Cases over Time in India and USA.</center></h1>"
   ]
  },
  {
   "cell_type": "code",
   "execution_count": 27,
   "metadata": {
    "extensions": {
     "jupyter_dashboards": {
      "version": 1,
      "views": {
       "grid_default": {
        "col": 1,
        "height": 19,
        "hidden": true,
        "row": 7,
        "width": 11
       },
       "report_default": {
        "col": 0,
        "height": 2,
        "row": 64,
        "width": 12
       }
      }
     }
    }
   },
   "outputs": [],
   "source": [
    "# # import make_subplots\n",
    "# from plotly.subplots import make_subplots\n",
    "\n",
    "# # Create figure with secondary y-axis\n",
    "# # fig = make_subplots(specs=[[{\"secondary_y\": True}]])\n",
    "\n",
    "# #fig = make_subplots(rows=1, cols=2)\n",
    "\n",
    "# def plot_cases_of_a_country(country):\n",
    "#     labels = ['confirmed', 'deaths']\n",
    "#     colors = ['blue', 'red']\n",
    "#     mode_size = [6, 8]\n",
    "#     line_size = [4, 5]\n",
    "    \n",
    "#     df_list = [confirmed_df, death_df]\n",
    "    \n",
    "#     fig = go.Figure();\n",
    "    \n",
    "#     for i, df in enumerate(df_list):\n",
    "#         if country == 'World' or country == 'world':\n",
    "#             x_data = np.array(list(df.iloc[:, 20:].columns))\n",
    "#             y_data = np.sum(np.asarray(df.iloc[:,4:]),axis = 0)\n",
    "            \n",
    "#         else:    \n",
    "#             x_data = np.array(list(df.iloc[:, 20:].columns))\n",
    "#             y_data = np.sum(np.asarray(df[df['country'] == country].iloc[:,20:]),axis = 0)\n",
    "            \n",
    "#         fig.add_trace(go.Scatter(x=x_data, y=y_data, mode='lines+markers',\n",
    "#         name=labels[i],\n",
    "#         line=dict(color=colors[i], width=line_size[i]),\n",
    "#         connectgaps=True,\n",
    "#         text = \"Total \" + str(labels[i]) +\": \"+ str(y_data[-1])\n",
    "#         ));\n",
    "    \n",
    "#     fig.update_layout(\n",
    "#         title=\"Covid-19 cases in \" + country,\n",
    "#         xaxis_title='Date',\n",
    "#         yaxis_title='No. of Confirmed Cases',\n",
    "#         margin=dict(l=20, r=20, t=40, b=20),\n",
    "#         paper_bgcolor=\"white\",\n",
    "#         width = 800,\n",
    "#         );\n",
    "    \n",
    "#     fig.update_yaxes(type=\"linear\") \n",
    "    \n",
    "#     #fig.update = make_subplots(specs=[[{\"secondary_y\": True}]])\n",
    "#     fig.show()\n",
    "\n",
    "# plot_cases_of_a_country('World')\n",
    "# plot_cases_of_a_country('India')\n",
    "# plot_cases_of_a_country('US')"
   ]
  },
  {
   "cell_type": "code",
   "execution_count": 28,
   "metadata": {},
   "outputs": [],
   "source": [
    "# Reload data again : \n",
    "#taking raw data directly\n",
    "confirmed = pd.read_csv(\"https://raw.githubusercontent.com/CSSEGISandData/COVID-19/master/csse_covid_19_data/csse_covid_19_time_series/time_series_covid19_confirmed_global.csv\")\n",
    "deaths = pd.read_csv(\"https://raw.githubusercontent.com/CSSEGISandData/COVID-19/master/csse_covid_19_data/csse_covid_19_time_series/time_series_covid19_deaths_global.csv\")\n",
    "recovered = pd.read_csv(\"https://raw.githubusercontent.com/CSSEGISandData/COVID-19/master/csse_covid_19_data/csse_covid_19_time_series/time_series_covid19_recovered_global.csv\")\n",
    "country = pd.read_csv(\"https://raw.githubusercontent.com/CSSEGISandData/COVID-19/web-data/data/cases_country.csv\")\n",
    "\n",
    "\n",
    "#defining a generic function to melt each dataframe above and finally merging all 3\n",
    "def melt_df(x, case_type):\n",
    "    new_df = x.melt(id_vars=['Province/State', 'Country/Region', 'Lat', 'Long'])\n",
    "    new_df.rename(columns={'variable': 'Date', 'value':case_type}, inplace = True)\n",
    "    return new_df\n",
    "confirm_df = melt_df(confirmed, 'Confirmed')\n",
    "death_df = melt_df(deaths, 'Deaths')\n",
    "recovered_df = melt_df(recovered, 'Recovered')\n",
    "\n",
    "# Function to merge the three dataframes: \n",
    "def merge_df(confirm_df, death_df, recovered_df):\n",
    "    new_df = confirm_df.join(recovered_df['Recovered']).join(death_df['Deaths'])\n",
    "    return new_df\n",
    "final_df = merge_df(confirm_df, death_df, recovered_df)"
   ]
  },
  {
   "cell_type": "code",
   "execution_count": 29,
   "metadata": {},
   "outputs": [],
   "source": [
    "# Filter dataframe based on regions : \n",
    "# Filter dataframe of India :\n",
    "India = final_df[final_df['Country/Region'] == 'India']\n",
    "\n",
    "# Filter dataframe of USA : \n",
    "USA = final_df[final_df['Country/Region'] == 'US']"
   ]
  },
  {
   "cell_type": "code",
   "execution_count": 30,
   "metadata": {},
   "outputs": [],
   "source": [
    "# import plotly\n",
    "\n",
    "# fig = plotly.subplots.make_subplots(rows=1, cols=2,subplot_titles=(\"Covid-19 Cases in India\",\"Covid-19 Deaths in India\"))\n",
    "# #fig = go.FigureWidget()\n",
    "\n",
    "# fig.add_trace(go.Scatter(x=World.Date, y=World.Confirmed,\n",
    "#                          line=dict(color='darkgreen', width=2), mode = 'lines+markers',\n",
    "#                         name = 'Confirmed'),row=1,col=1)\n",
    "# fig.add_trace(go.Scatter(x=World.Date, y=World.Deaths,\n",
    "#                          line=dict(color='red', width=2), mode = 'lines+markers',\n",
    "#                         name = 'Deaths'),row=1,col=2)\n",
    "# fig.show() "
   ]
  },
  {
   "cell_type": "code",
   "execution_count": 31,
   "metadata": {},
   "outputs": [
    {
     "data": {
      "application/vnd.plotly.v1+json": {
       "config": {
        "plotlyServerURL": "https://plot.ly"
       },
       "data": [
        {
         "fill": "tozeroy",
         "line": {
          "color": "blue",
          "width": 2
         },
         "mode": "lines+markers",
         "name": "Confirmed",
         "type": "scatter",
         "x": [
          "1/22/20",
          "1/23/20",
          "1/24/20",
          "1/25/20",
          "1/26/20",
          "1/27/20",
          "1/28/20",
          "1/29/20",
          "1/30/20",
          "1/31/20",
          "2/1/20",
          "2/2/20",
          "2/3/20",
          "2/4/20",
          "2/5/20",
          "2/6/20",
          "2/7/20",
          "2/8/20",
          "2/9/20",
          "2/10/20",
          "2/11/20",
          "2/12/20",
          "2/13/20",
          "2/14/20",
          "2/15/20",
          "2/16/20",
          "2/17/20",
          "2/18/20",
          "2/19/20",
          "2/20/20",
          "2/21/20",
          "2/22/20",
          "2/23/20",
          "2/24/20",
          "2/25/20",
          "2/26/20",
          "2/27/20",
          "2/28/20",
          "2/29/20",
          "3/1/20",
          "3/2/20",
          "3/3/20",
          "3/4/20",
          "3/5/20",
          "3/6/20",
          "3/7/20",
          "3/8/20",
          "3/9/20",
          "3/10/20",
          "3/11/20",
          "3/12/20",
          "3/13/20",
          "3/14/20",
          "3/15/20",
          "3/16/20",
          "3/17/20",
          "3/18/20",
          "3/19/20",
          "3/20/20",
          "3/21/20",
          "3/22/20",
          "3/23/20",
          "3/24/20",
          "3/25/20",
          "3/26/20",
          "3/27/20",
          "3/28/20",
          "3/29/20",
          "3/30/20",
          "3/31/20",
          "4/1/20",
          "4/2/20",
          "4/3/20",
          "4/4/20",
          "4/5/20",
          "4/6/20",
          "4/7/20",
          "4/8/20",
          "4/9/20",
          "4/10/20",
          "4/11/20",
          "4/12/20",
          "4/13/20",
          "4/14/20",
          "4/15/20",
          "4/16/20",
          "4/17/20",
          "4/18/20",
          "4/19/20",
          "4/20/20",
          "4/21/20",
          "4/22/20",
          "4/23/20",
          "4/24/20",
          "4/25/20",
          "4/26/20",
          "4/27/20",
          "4/28/20",
          "4/29/20",
          "4/30/20",
          "5/1/20",
          "5/2/20",
          "5/3/20",
          "5/4/20",
          "5/5/20",
          "5/6/20",
          "5/7/20",
          "5/8/20",
          "5/9/20",
          "5/10/20",
          "5/11/20",
          "5/12/20",
          "5/13/20",
          "5/14/20",
          "5/15/20",
          "5/16/20",
          "5/17/20",
          "5/18/20",
          "5/19/20",
          "5/20/20",
          "5/21/20",
          "5/22/20",
          "5/23/20",
          "5/24/20",
          "5/25/20",
          "5/26/20",
          "5/27/20",
          "5/28/20",
          "5/29/20",
          "5/30/20",
          "5/31/20",
          "6/1/20",
          "6/2/20",
          "6/3/20",
          "6/4/20",
          "6/5/20",
          "6/6/20",
          "6/7/20",
          "6/8/20",
          "6/9/20",
          "6/10/20",
          "6/11/20",
          "6/12/20",
          "6/13/20",
          "6/14/20",
          "6/15/20",
          "6/16/20",
          "6/17/20",
          "6/18/20",
          "6/19/20",
          "6/20/20",
          "6/21/20",
          "6/22/20",
          "6/23/20",
          "6/24/20",
          "6/25/20",
          "6/26/20",
          "6/27/20",
          "6/28/20",
          "6/29/20",
          "6/30/20",
          "7/1/20",
          "7/2/20",
          "7/3/20",
          "7/4/20",
          "7/5/20",
          "7/6/20",
          "7/7/20",
          "7/8/20",
          "7/9/20",
          "7/10/20",
          "7/11/20",
          "7/12/20",
          "7/13/20",
          "7/14/20",
          "7/15/20",
          "7/16/20",
          "7/17/20",
          "7/18/20",
          "7/19/20",
          "7/20/20",
          "7/21/20",
          "7/22/20",
          "7/23/20",
          "7/24/20",
          "7/25/20",
          "7/26/20",
          "7/27/20",
          "7/28/20",
          "7/29/20",
          "7/30/20",
          "7/31/20",
          "8/1/20",
          "8/2/20",
          "8/3/20",
          "8/4/20",
          "8/5/20",
          "8/6/20",
          "8/7/20",
          "8/8/20",
          "8/9/20",
          "8/10/20",
          "8/11/20",
          "8/12/20",
          "8/13/20",
          "8/14/20",
          "8/15/20",
          "8/16/20",
          "8/17/20",
          "8/18/20",
          "8/19/20",
          "8/20/20",
          "8/21/20",
          "8/22/20",
          "8/23/20",
          "8/24/20",
          "8/25/20",
          "8/26/20",
          "8/27/20",
          "8/28/20",
          "8/29/20",
          "8/30/20",
          "8/31/20",
          "9/1/20",
          "9/2/20",
          "9/3/20",
          "9/4/20",
          "9/5/20",
          "9/6/20",
          "9/7/20",
          "9/8/20",
          "9/9/20",
          "9/10/20",
          "9/11/20",
          "9/12/20",
          "9/13/20",
          "9/14/20",
          "9/15/20",
          "9/16/20",
          "9/17/20",
          "9/18/20",
          "9/19/20",
          "9/20/20",
          "9/21/20",
          "9/22/20",
          "9/23/20",
          "9/24/20",
          "9/25/20",
          "9/26/20",
          "9/27/20",
          "9/28/20",
          "9/29/20",
          "9/30/20",
          "10/1/20",
          "10/2/20",
          "10/3/20",
          "10/4/20",
          "10/5/20",
          "10/6/20",
          "10/7/20",
          "10/8/20",
          "10/9/20",
          "10/10/20",
          "10/11/20",
          "10/12/20",
          "10/13/20",
          "10/14/20",
          "10/15/20",
          "10/16/20",
          "10/17/20",
          "10/18/20",
          "10/19/20",
          "10/20/20",
          "10/21/20",
          "10/22/20",
          "10/23/20",
          "10/24/20",
          "10/25/20",
          "10/26/20",
          "10/27/20",
          "10/28/20",
          "10/29/20",
          "10/30/20",
          "10/31/20",
          "11/1/20",
          "11/2/20",
          "11/3/20",
          "11/4/20",
          "11/5/20",
          "11/6/20",
          "11/7/20",
          "11/8/20",
          "11/9/20",
          "11/10/20",
          "11/11/20",
          "11/12/20",
          "11/13/20",
          "11/14/20",
          "11/15/20",
          "11/16/20",
          "11/17/20",
          "11/18/20",
          "11/19/20",
          "11/20/20",
          "11/21/20",
          "11/22/20",
          "11/23/20",
          "11/24/20",
          "11/25/20",
          "11/26/20",
          "11/27/20",
          "11/28/20",
          "11/29/20",
          "11/30/20",
          "12/1/20",
          "12/2/20",
          "12/3/20",
          "12/4/20",
          "12/5/20",
          "12/6/20",
          "12/7/20",
          "12/8/20",
          "12/9/20",
          "12/10/20",
          "12/11/20",
          "12/12/20",
          "12/13/20",
          "12/14/20",
          "12/15/20",
          "12/16/20",
          "12/17/20",
          "12/18/20",
          "12/19/20",
          "12/20/20",
          "12/21/20",
          "12/22/20",
          "12/23/20",
          "12/24/20",
          "12/25/20",
          "12/26/20",
          "12/27/20",
          "12/28/20",
          "12/29/20",
          "12/30/20",
          "12/31/20",
          "1/1/21",
          "1/2/21",
          "1/3/21",
          "1/4/21",
          "1/5/21",
          "1/6/21",
          "1/7/21",
          "1/8/21",
          "1/9/21",
          "1/10/21",
          "1/11/21",
          "1/12/21",
          "1/13/21",
          "1/14/21",
          "1/15/21",
          "1/16/21",
          "1/17/21",
          "1/18/21",
          "1/19/21",
          "1/20/21",
          "1/21/21",
          "1/22/21",
          "1/23/21",
          "1/24/21",
          "1/25/21",
          "1/26/21",
          "1/27/21",
          "1/28/21",
          "1/29/21",
          "1/30/21",
          "1/31/21",
          "2/1/21",
          "2/2/21",
          "2/3/21",
          "2/4/21",
          "2/5/21",
          "2/6/21",
          "2/7/21",
          "2/8/21",
          "2/9/21",
          "2/10/21",
          "2/11/21",
          "2/12/21",
          "2/13/21",
          "2/14/21",
          "2/15/21",
          "2/16/21",
          "2/17/21",
          "2/18/21",
          "2/19/21",
          "2/20/21",
          "2/21/21",
          "2/22/21",
          "2/23/21",
          "2/24/21",
          "2/25/21",
          "2/26/21",
          "2/27/21",
          "2/28/21",
          "3/1/21",
          "3/2/21",
          "3/3/21",
          "3/4/21",
          "3/5/21",
          "3/6/21",
          "3/7/21",
          "3/8/21",
          "3/9/21",
          "3/10/21",
          "3/11/21",
          "3/12/21",
          "3/13/21",
          "3/14/21",
          "3/15/21",
          "3/16/21",
          "3/17/21",
          "3/18/21",
          "3/19/21",
          "3/20/21",
          "3/21/21",
          "3/22/21",
          "3/23/21",
          "3/24/21",
          "3/25/21",
          "3/26/21",
          "3/27/21",
          "3/28/21",
          "3/29/21",
          "3/30/21",
          "3/31/21",
          "4/1/21",
          "4/2/21",
          "4/3/21",
          "4/4/21",
          "4/5/21",
          "4/6/21",
          "4/7/21",
          "4/8/21",
          "4/9/21",
          "4/10/21",
          "4/11/21",
          "4/12/21",
          "4/13/21",
          "4/14/21",
          "4/15/21",
          "4/16/21",
          "4/17/21",
          "4/18/21",
          "4/19/21",
          "4/20/21",
          "4/21/21",
          "4/22/21",
          "4/23/21",
          "4/24/21",
          "4/25/21",
          "4/26/21",
          "4/27/21",
          "4/28/21",
          "4/29/21",
          "4/30/21",
          "5/1/21",
          "5/2/21",
          "5/3/21",
          "5/4/21",
          "5/5/21",
          "5/6/21",
          "5/7/21",
          "5/8/21",
          "5/9/21",
          "5/10/21",
          "5/11/21",
          "5/12/21",
          "5/13/21",
          "5/14/21",
          "5/15/21",
          "5/16/21",
          "5/17/21",
          "5/18/21",
          "5/19/21",
          "5/20/21",
          "5/21/21",
          "5/22/21",
          "5/23/21",
          "5/24/21",
          "5/25/21",
          "5/26/21",
          "5/27/21",
          "5/28/21",
          "5/29/21",
          "5/30/21",
          "5/31/21",
          "6/1/21",
          "6/2/21",
          "6/3/21",
          "6/4/21",
          "6/5/21",
          "6/6/21",
          "6/7/21",
          "6/8/21",
          "6/9/21",
          "6/10/21",
          "6/11/21",
          "6/12/21",
          "6/13/21",
          "6/14/21",
          "6/15/21",
          "6/16/21",
          "6/17/21",
          "6/18/21",
          "6/19/21",
          "6/20/21",
          "6/21/21",
          "6/22/21",
          "6/23/21",
          "6/24/21",
          "6/25/21",
          "6/26/21",
          "6/27/21",
          "6/28/21",
          "6/29/21",
          "6/30/21",
          "7/1/21",
          "7/2/21",
          "7/3/21",
          "7/4/21",
          "7/5/21",
          "7/6/21",
          "7/7/21",
          "7/8/21",
          "7/9/21",
          "7/10/21",
          "7/11/21",
          "7/12/21",
          "7/13/21",
          "7/14/21",
          "7/15/21",
          "7/16/21",
          "7/17/21",
          "7/18/21",
          "7/19/21",
          "7/20/21",
          "7/21/21",
          "7/22/21",
          "7/23/21",
          "7/24/21",
          "7/25/21",
          "7/26/21",
          "7/27/21",
          "7/28/21",
          "7/29/21",
          "7/30/21",
          "7/31/21",
          "8/1/21",
          "8/2/21",
          "8/3/21",
          "8/4/21",
          "8/5/21",
          "8/6/21",
          "8/7/21",
          "8/8/21",
          "8/9/21",
          "8/10/21",
          "8/11/21",
          "8/12/21",
          "8/13/21",
          "8/14/21",
          "8/15/21",
          "8/16/21",
          "8/17/21",
          "8/18/21",
          "8/19/21",
          "8/20/21",
          "8/21/21",
          "8/22/21",
          "8/23/21",
          "8/24/21",
          "8/25/21",
          "8/26/21",
          "8/27/21",
          "8/28/21",
          "8/29/21",
          "8/30/21",
          "8/31/21",
          "9/1/21",
          "9/2/21",
          "9/3/21",
          "9/4/21",
          "9/5/21",
          "9/6/21",
          "9/7/21",
          "9/8/21",
          "9/9/21",
          "9/10/21",
          "9/11/21",
          "9/12/21",
          "9/13/21",
          "9/14/21",
          "9/15/21",
          "9/16/21",
          "9/17/21",
          "9/18/21",
          "9/19/21",
          "9/20/21",
          "9/21/21",
          "9/22/21",
          "9/23/21",
          "9/24/21",
          "9/25/21",
          "9/26/21",
          "9/27/21",
          "9/28/21",
          "9/29/21",
          "9/30/21",
          "10/1/21",
          "10/2/21",
          "10/3/21",
          "10/4/21",
          "10/5/21",
          "10/6/21",
          "10/7/21",
          "10/8/21",
          "10/9/21",
          "10/10/21",
          "10/11/21",
          "10/12/21",
          "10/13/21",
          "10/14/21",
          "10/15/21",
          "10/16/21",
          "10/17/21",
          "10/18/21",
          "10/19/21",
          "10/20/21",
          "10/21/21",
          "10/22/21",
          "10/23/21",
          "10/24/21",
          "10/25/21",
          "10/26/21",
          "10/27/21",
          "10/28/21",
          "10/29/21",
          "10/30/21",
          "10/31/21",
          "11/1/21",
          "11/2/21",
          "11/3/21",
          "11/4/21",
          "11/5/21",
          "11/6/21",
          "11/7/21",
          "11/8/21",
          "11/9/21",
          "11/10/21",
          "11/11/21",
          "11/12/21",
          "11/13/21",
          "11/14/21",
          "11/15/21",
          "11/16/21",
          "11/17/21",
          "11/18/21",
          "11/19/21",
          "11/20/21",
          "11/21/21",
          "11/22/21",
          "11/23/21",
          "11/24/21",
          "11/25/21",
          "11/26/21",
          "11/27/21",
          "11/28/21",
          "11/29/21",
          "11/30/21",
          "12/1/21",
          "12/2/21",
          "12/3/21",
          "12/4/21",
          "12/5/21",
          "12/6/21",
          "12/7/21",
          "12/8/21",
          "12/9/21",
          "12/10/21",
          "12/11/21",
          "12/12/21",
          "12/13/21",
          "12/14/21",
          "12/15/21",
          "12/16/21",
          "12/17/21",
          "12/18/21",
          "12/19/21",
          "12/20/21",
          "12/21/21",
          "12/22/21",
          "12/23/21",
          "12/24/21",
          "12/25/21",
          "12/26/21",
          "12/27/21",
          "12/28/21",
          "12/29/21",
          "12/30/21",
          "12/31/21",
          "1/1/22",
          "1/2/22",
          "1/3/22",
          "1/4/22",
          "1/5/22",
          "1/6/22",
          "1/7/22",
          "1/8/22",
          "1/9/22"
         ],
         "xaxis": "x",
         "y": [
          0,
          0,
          0,
          0,
          0,
          0,
          0,
          0,
          1,
          1,
          1,
          2,
          3,
          3,
          3,
          3,
          3,
          3,
          3,
          3,
          3,
          3,
          3,
          3,
          3,
          3,
          3,
          3,
          3,
          3,
          3,
          3,
          3,
          3,
          3,
          3,
          3,
          3,
          3,
          3,
          5,
          5,
          28,
          30,
          31,
          34,
          39,
          43,
          56,
          62,
          73,
          82,
          102,
          113,
          119,
          142,
          156,
          194,
          244,
          330,
          396,
          499,
          536,
          657,
          727,
          887,
          987,
          1024,
          1251,
          1397,
          1998,
          2543,
          2567,
          3082,
          3588,
          4778,
          5311,
          5916,
          6725,
          7598,
          8446,
          9205,
          10453,
          11487,
          12322,
          13430,
          14352,
          15722,
          17615,
          18539,
          20080,
          21370,
          23077,
          24530,
          26283,
          27890,
          29451,
          31324,
          33062,
          34863,
          37257,
          39699,
          42505,
          46437,
          49400,
          52987,
          56351,
          59695,
          62808,
          67161,
          70768,
          74292,
          78055,
          81997,
          85784,
          90648,
          95698,
          100328,
          106475,
          112028,
          118226,
          124794,
          131423,
          138536,
          144950,
          150793,
          158086,
          165386,
          173491,
          181827,
          190609,
          198370,
          207191,
          216824,
          226713,
          236184,
          246622,
          257486,
          265928,
          276146,
          286605,
          297535,
          308993,
          320922,
          332424,
          343091,
          354065,
          366946,
          380532,
          395048,
          410451,
          425282,
          440215,
          456183,
          473105,
          490401,
          508953,
          528859,
          548318,
          566840,
          585481,
          604641,
          625544,
          648315,
          673165,
          697413,
          719664,
          742417,
          767296,
          793802,
          820916,
          849522,
          878254,
          906752,
          936181,
          968857,
          1003832,
          1039084,
          1077781,
          1118206,
          1155338,
          1193078,
          1238798,
          1288108,
          1337024,
          1385635,
          1435616,
          1480073,
          1531669,
          1581963,
          1634746,
          1695988,
          1750723,
          1803695,
          1855745,
          1908254,
          1964536,
          2027074,
          2088611,
          2153010,
          2215074,
          2268675,
          2329638,
          2396637,
          2461190,
          2525922,
          2589952,
          2647663,
          2702681,
          2767253,
          2836925,
          2905825,
          2975701,
          3044940,
          3106348,
          3167323,
          3224547,
          3310234,
          3387500,
          3463972,
          3542733,
          3621245,
          3691166,
          3769523,
          3853406,
          3936747,
          4023179,
          4113811,
          4204613,
          4280422,
          4370128,
          4465863,
          4562414,
          4659984,
          4754356,
          4846427,
          4930236,
          5020359,
          5118253,
          5214677,
          5308014,
          5400619,
          5487580,
          5562663,
          5646010,
          5732518,
          5818570,
          5903932,
          5992532,
          6074702,
          6145291,
          6225763,
          6312584,
          6394068,
          6473544,
          6549373,
          6623815,
          6685082,
          6757131,
          6835655,
          6906151,
          6979423,
          7053806,
          7120538,
          7175880,
          7239389,
          7307097,
          7370468,
          7432680,
          7494551,
          7550273,
          7597063,
          7651107,
          7706946,
          7761312,
          7814682,
          7864811,
          7909959,
          7946429,
          7990322,
          8040203,
          8088851,
          8137119,
          8184082,
          8229313,
          8267623,
          8313876,
          8364086,
          8411724,
          8462080,
          8507754,
          8553657,
          8591730,
          8636011,
          8683916,
          8728795,
          8773479,
          8814579,
          8845127,
          8874290,
          8912907,
          8958483,
          9004365,
          9050597,
          9095806,
          9139865,
          9177840,
          9222216,
          9266705,
          9309787,
          9351109,
          9392919,
          9431691,
          9462809,
          9499413,
          9534964,
          9571559,
          9608211,
          9644222,
          9677203,
          9703770,
          9735850,
          9767371,
          9796744,
          9826775,
          9857029,
          9884100,
          9906165,
          9932547,
          9956557,
          9979447,
          10004599,
          10031223,
          10055560,
          10075116,
          10099066,
          10123778,
          10146845,
          10169118,
          10187850,
          10207871,
          10224303,
          10244852,
          10266674,
          10286709,
          10305788,
          10323965,
          10340469,
          10356844,
          10374932,
          10395278,
          10413417,
          10413417,
          10450284,
          10466595,
          10479179,
          10495147,
          10512093,
          10527683,
          10542841,
          10557985,
          10571773,
          10581823,
          10595639,
          10610883,
          10625428,
          10639684,
          10654533,
          10667736,
          10676838,
          10689527,
          10701193,
          10720048,
          10733130,
          10746174,
          10757610,
          10766245,
          10777284,
          10790183,
          10802591,
          10814304,
          10826363,
          10838194,
          10847304,
          10858371,
          10871294,
          10880603,
          10892746,
          10904940,
          10916589,
          10925710,
          10937320,
          10950201,
          10963394,
          10977387,
          10991651,
          11005850,
          11016434,
          11030176,
          11046914,
          11063491,
          11079979,
          11096731,
          11112241,
          11124527,
          11139516,
          11156923,
          11173761,
          11192045,
          11210799,
          11229398,
          11244786,
          11262707,
          11285561,
          11308846,
          11333728,
          11359048,
          11385339,
          11409831,
          11438734,
          11474605,
          11514331,
          11555284,
          11599130,
          11646081,
          11686796,
          11734058,
          11787534,
          11846652,
          11908910,
          11971624,
          12039644,
          12095855,
          12149335,
          12221665,
          12303131,
          12392260,
          12485509,
          12589067,
          12686049,
          12801785,
          12928574,
          13060542,
          13205926,
          13358805,
          13527717,
          13689453,
          13873825,
          14074564,
          14291917,
          14526609,
          14788003,
          15061805,
          15320972,
          15616130,
          15930774,
          16263695,
          16610481,
          16960172,
          17313163,
          17636186,
          17997113,
          18376421,
          18762976,
          19164969,
          19557457,
          19925517,
          20282833,
          20664979,
          21077410,
          21491598,
          21892676,
          22296081,
          22662575,
          22992517,
          23340938,
          23703665,
          24046809,
          24372907,
          24684077,
          24965463,
          25228996,
          25496330,
          25772440,
          26031991,
          26289290,
          26530132,
          26752447,
          26948874,
          27157795,
          27369093,
          27555457,
          27729247,
          27894800,
          28047534,
          28175044,
          28307832,
          28441986,
          28574350,
          28694879,
          28809339,
          28909975,
          28996473,
          29089069,
          29182532,
          29274823,
          29359155,
          29439989,
          29510410,
          29570881,
          29633105,
          29700313,
          29762793,
          29823546,
          29881772,
          29935221,
          29977861,
          30028709,
          30082778,
          30134445,
          30183143,
          30233183,
          30279331,
          30316897,
          30362848,
          30411634,
          30458251,
          30502362,
          30545433,
          30585229,
          30619932,
          30663665,
          30709557,
          30752950,
          30795716,
          30837222,
          30874376,
          30907282,
          30946147,
          30987880,
          31026829,
          31064908,
          31106065,
          31144229,
          31174322,
          31216337,
          31257720,
          31293062,
          31332159,
          31371901,
          31411262,
          31440951,
          31484605,
          31528114,
          31572344,
          31613993,
          31655824,
          31695958,
          31726507,
          31769132,
          31812114,
          31856757,
          31895385,
          31934455,
          31969954,
          31998158,
          32036511,
          32077706,
          32117826,
          32156493,
          32192576,
          32225513,
          32250679,
          32285857,
          32322258,
          32358829,
          32393286,
          32424234,
          32449306,
          32474773,
          32512366,
          32558530,
          32603188,
          32649947,
          32695030,
          32737939,
          32768880,
          32810845,
          32857937,
          32903289,
          32945907,
          32988673,
          33027621,
          33058843,
          33096718,
          33139981,
          33174954,
          33208330,
          33236921,
          33264175,
          33289579,
          33316755,
          33347325,
          33381728,
          33417390,
          33448163,
          33478419,
          33504534,
          33531498,
          33563421,
          33594803,
          33624419,
          33652745,
          33678786,
          33697581,
          33716451,
          33739980,
          33766707,
          33791061,
          33813903,
          33834702,
          33853048,
          33871881,
          33894312,
          33915569,
          33935309,
          33953475,
          33971607,
          33985920,
          34001743,
          34020730,
          34037592,
          34053573,
          34067719,
          34081315,
          34094373,
          34108996,
          34127450,
          34143236,
          34159562,
          34175468,
          34189774,
          34202202,
          34215653,
          34231809,
          34246157,
          34260470,
          34273300,
          34285814,
          34296237,
          34308140,
          34321025,
          34333754,
          34344683,
          34355509,
          34366987,
          34377113,
          34388579,
          34401670,
          34414186,
          34426036,
          34437307,
          34447536,
          34456401,
          34466598,
          34478517,
          34489623,
          34499925,
          34510413,
          34518901,
          34526480,
          34535763,
          34544882,
          34555431,
          34563749,
          34572523,
          34580832,
          34587822,
          34596776,
          34606541,
          34615757,
          34624360,
          34624360,
          34641561,
          34648383,
          34656822,
          34666241,
          34674643,
          34682633,
          34690510,
          34697860,
          34703644,
          34710628,
          34718602,
          34726049,
          34726049,
          34733194,
          34746838,
          34752164,
          34758481,
          34765976,
          34772626,
          34779815,
          34786802,
          34793333,
          34799691,
          34808886,
          34822040,
          34838804,
          34861579,
          34889132,
          34922882,
          34960261,
          35018358,
          35109286,
          35226386,
          35368372,
          35528004,
          35707727
         ],
         "yaxis": "y"
        },
        {
         "fill": "tonexty",
         "line": {
          "color": "red",
          "width": 2
         },
         "mode": "lines+markers",
         "name": "Deaths",
         "type": "scatter",
         "x": [
          "1/22/20",
          "1/23/20",
          "1/24/20",
          "1/25/20",
          "1/26/20",
          "1/27/20",
          "1/28/20",
          "1/29/20",
          "1/30/20",
          "1/31/20",
          "2/1/20",
          "2/2/20",
          "2/3/20",
          "2/4/20",
          "2/5/20",
          "2/6/20",
          "2/7/20",
          "2/8/20",
          "2/9/20",
          "2/10/20",
          "2/11/20",
          "2/12/20",
          "2/13/20",
          "2/14/20",
          "2/15/20",
          "2/16/20",
          "2/17/20",
          "2/18/20",
          "2/19/20",
          "2/20/20",
          "2/21/20",
          "2/22/20",
          "2/23/20",
          "2/24/20",
          "2/25/20",
          "2/26/20",
          "2/27/20",
          "2/28/20",
          "2/29/20",
          "3/1/20",
          "3/2/20",
          "3/3/20",
          "3/4/20",
          "3/5/20",
          "3/6/20",
          "3/7/20",
          "3/8/20",
          "3/9/20",
          "3/10/20",
          "3/11/20",
          "3/12/20",
          "3/13/20",
          "3/14/20",
          "3/15/20",
          "3/16/20",
          "3/17/20",
          "3/18/20",
          "3/19/20",
          "3/20/20",
          "3/21/20",
          "3/22/20",
          "3/23/20",
          "3/24/20",
          "3/25/20",
          "3/26/20",
          "3/27/20",
          "3/28/20",
          "3/29/20",
          "3/30/20",
          "3/31/20",
          "4/1/20",
          "4/2/20",
          "4/3/20",
          "4/4/20",
          "4/5/20",
          "4/6/20",
          "4/7/20",
          "4/8/20",
          "4/9/20",
          "4/10/20",
          "4/11/20",
          "4/12/20",
          "4/13/20",
          "4/14/20",
          "4/15/20",
          "4/16/20",
          "4/17/20",
          "4/18/20",
          "4/19/20",
          "4/20/20",
          "4/21/20",
          "4/22/20",
          "4/23/20",
          "4/24/20",
          "4/25/20",
          "4/26/20",
          "4/27/20",
          "4/28/20",
          "4/29/20",
          "4/30/20",
          "5/1/20",
          "5/2/20",
          "5/3/20",
          "5/4/20",
          "5/5/20",
          "5/6/20",
          "5/7/20",
          "5/8/20",
          "5/9/20",
          "5/10/20",
          "5/11/20",
          "5/12/20",
          "5/13/20",
          "5/14/20",
          "5/15/20",
          "5/16/20",
          "5/17/20",
          "5/18/20",
          "5/19/20",
          "5/20/20",
          "5/21/20",
          "5/22/20",
          "5/23/20",
          "5/24/20",
          "5/25/20",
          "5/26/20",
          "5/27/20",
          "5/28/20",
          "5/29/20",
          "5/30/20",
          "5/31/20",
          "6/1/20",
          "6/2/20",
          "6/3/20",
          "6/4/20",
          "6/5/20",
          "6/6/20",
          "6/7/20",
          "6/8/20",
          "6/9/20",
          "6/10/20",
          "6/11/20",
          "6/12/20",
          "6/13/20",
          "6/14/20",
          "6/15/20",
          "6/16/20",
          "6/17/20",
          "6/18/20",
          "6/19/20",
          "6/20/20",
          "6/21/20",
          "6/22/20",
          "6/23/20",
          "6/24/20",
          "6/25/20",
          "6/26/20",
          "6/27/20",
          "6/28/20",
          "6/29/20",
          "6/30/20",
          "7/1/20",
          "7/2/20",
          "7/3/20",
          "7/4/20",
          "7/5/20",
          "7/6/20",
          "7/7/20",
          "7/8/20",
          "7/9/20",
          "7/10/20",
          "7/11/20",
          "7/12/20",
          "7/13/20",
          "7/14/20",
          "7/15/20",
          "7/16/20",
          "7/17/20",
          "7/18/20",
          "7/19/20",
          "7/20/20",
          "7/21/20",
          "7/22/20",
          "7/23/20",
          "7/24/20",
          "7/25/20",
          "7/26/20",
          "7/27/20",
          "7/28/20",
          "7/29/20",
          "7/30/20",
          "7/31/20",
          "8/1/20",
          "8/2/20",
          "8/3/20",
          "8/4/20",
          "8/5/20",
          "8/6/20",
          "8/7/20",
          "8/8/20",
          "8/9/20",
          "8/10/20",
          "8/11/20",
          "8/12/20",
          "8/13/20",
          "8/14/20",
          "8/15/20",
          "8/16/20",
          "8/17/20",
          "8/18/20",
          "8/19/20",
          "8/20/20",
          "8/21/20",
          "8/22/20",
          "8/23/20",
          "8/24/20",
          "8/25/20",
          "8/26/20",
          "8/27/20",
          "8/28/20",
          "8/29/20",
          "8/30/20",
          "8/31/20",
          "9/1/20",
          "9/2/20",
          "9/3/20",
          "9/4/20",
          "9/5/20",
          "9/6/20",
          "9/7/20",
          "9/8/20",
          "9/9/20",
          "9/10/20",
          "9/11/20",
          "9/12/20",
          "9/13/20",
          "9/14/20",
          "9/15/20",
          "9/16/20",
          "9/17/20",
          "9/18/20",
          "9/19/20",
          "9/20/20",
          "9/21/20",
          "9/22/20",
          "9/23/20",
          "9/24/20",
          "9/25/20",
          "9/26/20",
          "9/27/20",
          "9/28/20",
          "9/29/20",
          "9/30/20",
          "10/1/20",
          "10/2/20",
          "10/3/20",
          "10/4/20",
          "10/5/20",
          "10/6/20",
          "10/7/20",
          "10/8/20",
          "10/9/20",
          "10/10/20",
          "10/11/20",
          "10/12/20",
          "10/13/20",
          "10/14/20",
          "10/15/20",
          "10/16/20",
          "10/17/20",
          "10/18/20",
          "10/19/20",
          "10/20/20",
          "10/21/20",
          "10/22/20",
          "10/23/20",
          "10/24/20",
          "10/25/20",
          "10/26/20",
          "10/27/20",
          "10/28/20",
          "10/29/20",
          "10/30/20",
          "10/31/20",
          "11/1/20",
          "11/2/20",
          "11/3/20",
          "11/4/20",
          "11/5/20",
          "11/6/20",
          "11/7/20",
          "11/8/20",
          "11/9/20",
          "11/10/20",
          "11/11/20",
          "11/12/20",
          "11/13/20",
          "11/14/20",
          "11/15/20",
          "11/16/20",
          "11/17/20",
          "11/18/20",
          "11/19/20",
          "11/20/20",
          "11/21/20",
          "11/22/20",
          "11/23/20",
          "11/24/20",
          "11/25/20",
          "11/26/20",
          "11/27/20",
          "11/28/20",
          "11/29/20",
          "11/30/20",
          "12/1/20",
          "12/2/20",
          "12/3/20",
          "12/4/20",
          "12/5/20",
          "12/6/20",
          "12/7/20",
          "12/8/20",
          "12/9/20",
          "12/10/20",
          "12/11/20",
          "12/12/20",
          "12/13/20",
          "12/14/20",
          "12/15/20",
          "12/16/20",
          "12/17/20",
          "12/18/20",
          "12/19/20",
          "12/20/20",
          "12/21/20",
          "12/22/20",
          "12/23/20",
          "12/24/20",
          "12/25/20",
          "12/26/20",
          "12/27/20",
          "12/28/20",
          "12/29/20",
          "12/30/20",
          "12/31/20",
          "1/1/21",
          "1/2/21",
          "1/3/21",
          "1/4/21",
          "1/5/21",
          "1/6/21",
          "1/7/21",
          "1/8/21",
          "1/9/21",
          "1/10/21",
          "1/11/21",
          "1/12/21",
          "1/13/21",
          "1/14/21",
          "1/15/21",
          "1/16/21",
          "1/17/21",
          "1/18/21",
          "1/19/21",
          "1/20/21",
          "1/21/21",
          "1/22/21",
          "1/23/21",
          "1/24/21",
          "1/25/21",
          "1/26/21",
          "1/27/21",
          "1/28/21",
          "1/29/21",
          "1/30/21",
          "1/31/21",
          "2/1/21",
          "2/2/21",
          "2/3/21",
          "2/4/21",
          "2/5/21",
          "2/6/21",
          "2/7/21",
          "2/8/21",
          "2/9/21",
          "2/10/21",
          "2/11/21",
          "2/12/21",
          "2/13/21",
          "2/14/21",
          "2/15/21",
          "2/16/21",
          "2/17/21",
          "2/18/21",
          "2/19/21",
          "2/20/21",
          "2/21/21",
          "2/22/21",
          "2/23/21",
          "2/24/21",
          "2/25/21",
          "2/26/21",
          "2/27/21",
          "2/28/21",
          "3/1/21",
          "3/2/21",
          "3/3/21",
          "3/4/21",
          "3/5/21",
          "3/6/21",
          "3/7/21",
          "3/8/21",
          "3/9/21",
          "3/10/21",
          "3/11/21",
          "3/12/21",
          "3/13/21",
          "3/14/21",
          "3/15/21",
          "3/16/21",
          "3/17/21",
          "3/18/21",
          "3/19/21",
          "3/20/21",
          "3/21/21",
          "3/22/21",
          "3/23/21",
          "3/24/21",
          "3/25/21",
          "3/26/21",
          "3/27/21",
          "3/28/21",
          "3/29/21",
          "3/30/21",
          "3/31/21",
          "4/1/21",
          "4/2/21",
          "4/3/21",
          "4/4/21",
          "4/5/21",
          "4/6/21",
          "4/7/21",
          "4/8/21",
          "4/9/21",
          "4/10/21",
          "4/11/21",
          "4/12/21",
          "4/13/21",
          "4/14/21",
          "4/15/21",
          "4/16/21",
          "4/17/21",
          "4/18/21",
          "4/19/21",
          "4/20/21",
          "4/21/21",
          "4/22/21",
          "4/23/21",
          "4/24/21",
          "4/25/21",
          "4/26/21",
          "4/27/21",
          "4/28/21",
          "4/29/21",
          "4/30/21",
          "5/1/21",
          "5/2/21",
          "5/3/21",
          "5/4/21",
          "5/5/21",
          "5/6/21",
          "5/7/21",
          "5/8/21",
          "5/9/21",
          "5/10/21",
          "5/11/21",
          "5/12/21",
          "5/13/21",
          "5/14/21",
          "5/15/21",
          "5/16/21",
          "5/17/21",
          "5/18/21",
          "5/19/21",
          "5/20/21",
          "5/21/21",
          "5/22/21",
          "5/23/21",
          "5/24/21",
          "5/25/21",
          "5/26/21",
          "5/27/21",
          "5/28/21",
          "5/29/21",
          "5/30/21",
          "5/31/21",
          "6/1/21",
          "6/2/21",
          "6/3/21",
          "6/4/21",
          "6/5/21",
          "6/6/21",
          "6/7/21",
          "6/8/21",
          "6/9/21",
          "6/10/21",
          "6/11/21",
          "6/12/21",
          "6/13/21",
          "6/14/21",
          "6/15/21",
          "6/16/21",
          "6/17/21",
          "6/18/21",
          "6/19/21",
          "6/20/21",
          "6/21/21",
          "6/22/21",
          "6/23/21",
          "6/24/21",
          "6/25/21",
          "6/26/21",
          "6/27/21",
          "6/28/21",
          "6/29/21",
          "6/30/21",
          "7/1/21",
          "7/2/21",
          "7/3/21",
          "7/4/21",
          "7/5/21",
          "7/6/21",
          "7/7/21",
          "7/8/21",
          "7/9/21",
          "7/10/21",
          "7/11/21",
          "7/12/21",
          "7/13/21",
          "7/14/21",
          "7/15/21",
          "7/16/21",
          "7/17/21",
          "7/18/21",
          "7/19/21",
          "7/20/21",
          "7/21/21",
          "7/22/21",
          "7/23/21",
          "7/24/21",
          "7/25/21",
          "7/26/21",
          "7/27/21",
          "7/28/21",
          "7/29/21",
          "7/30/21",
          "7/31/21",
          "8/1/21",
          "8/2/21",
          "8/3/21",
          "8/4/21",
          "8/5/21",
          "8/6/21",
          "8/7/21",
          "8/8/21",
          "8/9/21",
          "8/10/21",
          "8/11/21",
          "8/12/21",
          "8/13/21",
          "8/14/21",
          "8/15/21",
          "8/16/21",
          "8/17/21",
          "8/18/21",
          "8/19/21",
          "8/20/21",
          "8/21/21",
          "8/22/21",
          "8/23/21",
          "8/24/21",
          "8/25/21",
          "8/26/21",
          "8/27/21",
          "8/28/21",
          "8/29/21",
          "8/30/21",
          "8/31/21",
          "9/1/21",
          "9/2/21",
          "9/3/21",
          "9/4/21",
          "9/5/21",
          "9/6/21",
          "9/7/21",
          "9/8/21",
          "9/9/21",
          "9/10/21",
          "9/11/21",
          "9/12/21",
          "9/13/21",
          "9/14/21",
          "9/15/21",
          "9/16/21",
          "9/17/21",
          "9/18/21",
          "9/19/21",
          "9/20/21",
          "9/21/21",
          "9/22/21",
          "9/23/21",
          "9/24/21",
          "9/25/21",
          "9/26/21",
          "9/27/21",
          "9/28/21",
          "9/29/21",
          "9/30/21",
          "10/1/21",
          "10/2/21",
          "10/3/21",
          "10/4/21",
          "10/5/21",
          "10/6/21",
          "10/7/21",
          "10/8/21",
          "10/9/21",
          "10/10/21",
          "10/11/21",
          "10/12/21",
          "10/13/21",
          "10/14/21",
          "10/15/21",
          "10/16/21",
          "10/17/21",
          "10/18/21",
          "10/19/21",
          "10/20/21",
          "10/21/21",
          "10/22/21",
          "10/23/21",
          "10/24/21",
          "10/25/21",
          "10/26/21",
          "10/27/21",
          "10/28/21",
          "10/29/21",
          "10/30/21",
          "10/31/21",
          "11/1/21",
          "11/2/21",
          "11/3/21",
          "11/4/21",
          "11/5/21",
          "11/6/21",
          "11/7/21",
          "11/8/21",
          "11/9/21",
          "11/10/21",
          "11/11/21",
          "11/12/21",
          "11/13/21",
          "11/14/21",
          "11/15/21",
          "11/16/21",
          "11/17/21",
          "11/18/21",
          "11/19/21",
          "11/20/21",
          "11/21/21",
          "11/22/21",
          "11/23/21",
          "11/24/21",
          "11/25/21",
          "11/26/21",
          "11/27/21",
          "11/28/21",
          "11/29/21",
          "11/30/21",
          "12/1/21",
          "12/2/21",
          "12/3/21",
          "12/4/21",
          "12/5/21",
          "12/6/21",
          "12/7/21",
          "12/8/21",
          "12/9/21",
          "12/10/21",
          "12/11/21",
          "12/12/21",
          "12/13/21",
          "12/14/21",
          "12/15/21",
          "12/16/21",
          "12/17/21",
          "12/18/21",
          "12/19/21",
          "12/20/21",
          "12/21/21",
          "12/22/21",
          "12/23/21",
          "12/24/21",
          "12/25/21",
          "12/26/21",
          "12/27/21",
          "12/28/21",
          "12/29/21",
          "12/30/21",
          "12/31/21",
          "1/1/22",
          "1/2/22",
          "1/3/22",
          "1/4/22",
          "1/5/22",
          "1/6/22",
          "1/7/22",
          "1/8/22",
          "1/9/22"
         ],
         "xaxis": "x2",
         "y": [
          0,
          0,
          0,
          0,
          0,
          0,
          0,
          0,
          0,
          0,
          0,
          0,
          0,
          0,
          0,
          0,
          0,
          0,
          0,
          0,
          0,
          0,
          0,
          0,
          0,
          0,
          0,
          0,
          0,
          0,
          0,
          0,
          0,
          0,
          0,
          0,
          0,
          0,
          0,
          0,
          0,
          0,
          0,
          0,
          0,
          0,
          0,
          0,
          0,
          1,
          1,
          2,
          2,
          2,
          2,
          3,
          3,
          4,
          5,
          4,
          7,
          10,
          10,
          12,
          20,
          20,
          24,
          27,
          32,
          35,
          58,
          72,
          72,
          86,
          99,
          136,
          150,
          178,
          226,
          246,
          288,
          331,
          358,
          393,
          405,
          448,
          486,
          521,
          559,
          592,
          645,
          681,
          721,
          780,
          825,
          881,
          939,
          1008,
          1079,
          1154,
          1223,
          1323,
          1391,
          1566,
          1693,
          1785,
          1889,
          1985,
          2101,
          2212,
          2294,
          2415,
          2551,
          2649,
          2753,
          2871,
          3025,
          3156,
          3302,
          3434,
          3584,
          3726,
          3868,
          4024,
          4172,
          4344,
          4534,
          4711,
          4980,
          5185,
          5408,
          5608,
          5829,
          6088,
          6363,
          6649,
          6946,
          7207,
          7473,
          7750,
          8102,
          8498,
          8884,
          9195,
          9520,
          9900,
          11903,
          12237,
          12573,
          12948,
          13254,
          13699,
          14011,
          14476,
          14894,
          15301,
          15685,
          16095,
          16475,
          16893,
          17400,
          17834,
          18213,
          18655,
          19268,
          19693,
          20159,
          20642,
          21129,
          21604,
          22123,
          22673,
          23174,
          23727,
          24309,
          24914,
          25602,
          26273,
          26816,
          27497,
          28082,
          28732,
          29861,
          30601,
          31358,
          32060,
          32771,
          33408,
          34193,
          34955,
          35718,
          36511,
          37364,
          38135,
          38938,
          39795,
          40699,
          41585,
          42518,
          43379,
          44386,
          45257,
          46091,
          47033,
          48040,
          49036,
          49980,
          50921,
          51797,
          52888,
          53866,
          54849,
          55794,
          56706,
          57542,
          58390,
          59357,
          60472,
          61529,
          62550,
          63498,
          64469,
          65288,
          66333,
          67376,
          68472,
          69561,
          70626,
          71642,
          72775,
          73890,
          75062,
          76271,
          77472,
          78586,
          79722,
          80776,
          82066,
          83198,
          84372,
          85619,
          86752,
          87882,
          88935,
          90020,
          91149,
          92290,
          93379,
          94503,
          95542,
          96318,
          97497,
          98678,
          99773,
          100842,
          101782,
          102685,
          103569,
          104555,
          105526,
          106490,
          107416,
          108334,
          109150,
          109856,
          110586,
          111266,
          112161,
          112998,
          114031,
          114610,
          115197,
          115914,
          116616,
          117306,
          117956,
          118534,
          119014,
          119502,
          120010,
          120527,
          121090,
          121641,
          122111,
          122607,
          123097,
          123611,
          124315,
          124985,
          125562,
          126121,
          126611,
          127059,
          127571,
          128121,
          128668,
          129188,
          129635,
          130070,
          130519,
          130993,
          131578,
          132162,
          132726,
          133227,
          133738,
          134218,
          134699,
          135223,
          135715,
          136200,
          136696,
          137139,
          137621,
          138122,
          138648,
          139188,
          139700,
          140182,
          140573,
          140958,
          141360,
          141772,
          142185,
          142628,
          143019,
          143355,
          143709,
          144096,
          144451,
          144789,
          145136,
          145477,
          145810,
          146111,
          146444,
          146756,
          147092,
          147343,
          147622,
          147901,
          148153,
          148439,
          148738,
          148994,
          149218,
          149435,
          149649,
          149850,
          150114,
          150336,
          150570,
          150570,
          150999,
          151160,
          151327,
          151529,
          151727,
          151918,
          152093,
          152274,
          152419,
          152556,
          152718,
          152869,
          153032,
          153184,
          153339,
          153470,
          153587,
          153724,
          153847,
          154010,
          154147,
          154274,
          154392,
          154486,
          154596,
          154703,
          154823,
          154918,
          154996,
          155080,
          155158,
          155252,
          155360,
          155447,
          155550,
          155642,
          155732,
          155813,
          155913,
          156014,
          156111,
          156212,
          156302,
          156385,
          156463,
          156567,
          156705,
          156825,
          156938,
          157051,
          157157,
          157248,
          157346,
          157435,
          157548,
          157656,
          157756,
          157853,
          157930,
          158063,
          158189,
          158306,
          158446,
          158607,
          158725,
          158856,
          159044,
          159216,
          159370,
          159558,
          159755,
          159967,
          160166,
          160441,
          160692,
          160949,
          161240,
          161552,
          161843,
          162114,
          162468,
          162927,
          163396,
          164110,
          164623,
          165101,
          165547,
          166177,
          166862,
          167642,
          168436,
          169275,
          170179,
          171058,
          172085,
          173123,
          174308,
          175649,
          177150,
          178769,
          180530,
          182553,
          184657,
          186920,
          189544,
          192311,
          195123,
          197894,
          201187,
          204832,
          208330,
          211853,
          215542,
          218959,
          222408,
          226188,
          230168,
          234083,
          238270,
          242347,
          246116,
          249992,
          254197,
          258317,
          262317,
          266207,
          270284,
          274390,
          278719,
          283248,
          287122,
          291331,
          295525,
          299266,
          303720,
          307231,
          311388,
          315235,
          318895,
          322512,
          325972,
          329100,
          331895,
          335102,
          337989,
          340702,
          344082,
          346759,
          349186,
          351309,
          353528,
          355705,
          363079,
          367081,
          370384,
          374305,
          377031,
          379573,
          381903,
          383490,
          385137,
          386708,
          388135,
          389302,
          390660,
          391981,
          393310,
          394493,
          395751,
          396730,
          397637,
          398454,
          399459,
          400312,
          401050,
          402005,
          402728,
          403281,
          404211,
          405028,
          405939,
          407145,
          408040,
          408764,
          410784,
          411406,
          411989,
          412531,
          413091,
          413609,
          414108,
          414482,
          418480,
          418987,
          419470,
          420016,
          420551,
          420967,
          421382,
          422022,
          422662,
          423217,
          423810,
          424351,
          424773,
          425195,
          425757,
          426290,
          426754,
          427371,
          427862,
          428309,
          428682,
          429179,
          429669,
          430254,
          430732,
          431225,
          431642,
          432079,
          432519,
          433049,
          433589,
          433964,
          434367,
          434756,
          435110,
          435758,
          436365,
          436861,
          437370,
          437830,
          438210,
          438560,
          439020,
          439529,
          439895,
          440225,
          440533,
          440752,
          441042,
          441411,
          441749,
          442009,
          442317,
          442655,
          442874,
          443213,
          443497,
          443928,
          444248,
          444529,
          444838,
          445133,
          445385,
          445768,
          446050,
          446368,
          446658,
          446918,
          447194,
          447373,
          447751,
          448062,
          448339,
          448573,
          448817,
          448997,
          449260,
          449538,
          449856,
          450127,
          450375,
          450589,
          450782,
          450963,
          451189,
          451435,
          451814,
          451980,
          452124,
          452290,
          452454,
          452651,
          452811,
          453042,
          453708,
          454269,
          454712,
          455068,
          455653,
          456386,
          457191,
          457740,
          458186,
          458437,
          458880,
          459191,
          459652,
          459873,
          460265,
          460791,
          461057,
          461389,
          461849,
          462189,
          462690,
          463245,
          463530,
          463655,
          463852,
          464153,
          464623,
          465082,
          465349,
          465662,
          465911,
          466147,
          466584,
          466980,
          467468,
          467933,
          468554,
          468790,
          468980,
          469247,
          469724,
          470115,
          470530,
          470530,
          473537,
          473757,
          473952,
          474111,
          474479,
          474872,
          475434,
          475636,
          475888,
          476135,
          476478,
          476869,
          476869,
          477158,
          477554,
          478007,
          478325,
          478759,
          479133,
          479520,
          479682,
          479997,
          480290,
          480592,
          480860,
          481080,
          481486,
          481770,
          481893,
          482017,
          482551,
          482876,
          483178,
          483463,
          483790,
          483936
         ],
         "yaxis": "y2"
        }
       ],
       "layout": {
        "annotations": [
         {
          "font": {
           "size": 16
          },
          "showarrow": false,
          "text": "Covid-19 Cases in India",
          "x": 0.225,
          "xanchor": "center",
          "xref": "paper",
          "y": 1,
          "yanchor": "bottom",
          "yref": "paper"
         },
         {
          "font": {
           "size": 16
          },
          "showarrow": false,
          "text": "Covid-19 Deaths in India",
          "x": 0.775,
          "xanchor": "center",
          "xref": "paper",
          "y": 1,
          "yanchor": "bottom",
          "yref": "paper"
         }
        ],
        "template": {
         "data": {
          "bar": [
           {
            "error_x": {
             "color": "#2a3f5f"
            },
            "error_y": {
             "color": "#2a3f5f"
            },
            "marker": {
             "line": {
              "color": "#E5ECF6",
              "width": 0.5
             },
             "pattern": {
              "fillmode": "overlay",
              "size": 10,
              "solidity": 0.2
             }
            },
            "type": "bar"
           }
          ],
          "barpolar": [
           {
            "marker": {
             "line": {
              "color": "#E5ECF6",
              "width": 0.5
             },
             "pattern": {
              "fillmode": "overlay",
              "size": 10,
              "solidity": 0.2
             }
            },
            "type": "barpolar"
           }
          ],
          "carpet": [
           {
            "aaxis": {
             "endlinecolor": "#2a3f5f",
             "gridcolor": "white",
             "linecolor": "white",
             "minorgridcolor": "white",
             "startlinecolor": "#2a3f5f"
            },
            "baxis": {
             "endlinecolor": "#2a3f5f",
             "gridcolor": "white",
             "linecolor": "white",
             "minorgridcolor": "white",
             "startlinecolor": "#2a3f5f"
            },
            "type": "carpet"
           }
          ],
          "choropleth": [
           {
            "colorbar": {
             "outlinewidth": 0,
             "ticks": ""
            },
            "type": "choropleth"
           }
          ],
          "contour": [
           {
            "colorbar": {
             "outlinewidth": 0,
             "ticks": ""
            },
            "colorscale": [
             [
              0,
              "#0d0887"
             ],
             [
              0.1111111111111111,
              "#46039f"
             ],
             [
              0.2222222222222222,
              "#7201a8"
             ],
             [
              0.3333333333333333,
              "#9c179e"
             ],
             [
              0.4444444444444444,
              "#bd3786"
             ],
             [
              0.5555555555555556,
              "#d8576b"
             ],
             [
              0.6666666666666666,
              "#ed7953"
             ],
             [
              0.7777777777777778,
              "#fb9f3a"
             ],
             [
              0.8888888888888888,
              "#fdca26"
             ],
             [
              1,
              "#f0f921"
             ]
            ],
            "type": "contour"
           }
          ],
          "contourcarpet": [
           {
            "colorbar": {
             "outlinewidth": 0,
             "ticks": ""
            },
            "type": "contourcarpet"
           }
          ],
          "heatmap": [
           {
            "colorbar": {
             "outlinewidth": 0,
             "ticks": ""
            },
            "colorscale": [
             [
              0,
              "#0d0887"
             ],
             [
              0.1111111111111111,
              "#46039f"
             ],
             [
              0.2222222222222222,
              "#7201a8"
             ],
             [
              0.3333333333333333,
              "#9c179e"
             ],
             [
              0.4444444444444444,
              "#bd3786"
             ],
             [
              0.5555555555555556,
              "#d8576b"
             ],
             [
              0.6666666666666666,
              "#ed7953"
             ],
             [
              0.7777777777777778,
              "#fb9f3a"
             ],
             [
              0.8888888888888888,
              "#fdca26"
             ],
             [
              1,
              "#f0f921"
             ]
            ],
            "type": "heatmap"
           }
          ],
          "heatmapgl": [
           {
            "colorbar": {
             "outlinewidth": 0,
             "ticks": ""
            },
            "colorscale": [
             [
              0,
              "#0d0887"
             ],
             [
              0.1111111111111111,
              "#46039f"
             ],
             [
              0.2222222222222222,
              "#7201a8"
             ],
             [
              0.3333333333333333,
              "#9c179e"
             ],
             [
              0.4444444444444444,
              "#bd3786"
             ],
             [
              0.5555555555555556,
              "#d8576b"
             ],
             [
              0.6666666666666666,
              "#ed7953"
             ],
             [
              0.7777777777777778,
              "#fb9f3a"
             ],
             [
              0.8888888888888888,
              "#fdca26"
             ],
             [
              1,
              "#f0f921"
             ]
            ],
            "type": "heatmapgl"
           }
          ],
          "histogram": [
           {
            "marker": {
             "pattern": {
              "fillmode": "overlay",
              "size": 10,
              "solidity": 0.2
             }
            },
            "type": "histogram"
           }
          ],
          "histogram2d": [
           {
            "colorbar": {
             "outlinewidth": 0,
             "ticks": ""
            },
            "colorscale": [
             [
              0,
              "#0d0887"
             ],
             [
              0.1111111111111111,
              "#46039f"
             ],
             [
              0.2222222222222222,
              "#7201a8"
             ],
             [
              0.3333333333333333,
              "#9c179e"
             ],
             [
              0.4444444444444444,
              "#bd3786"
             ],
             [
              0.5555555555555556,
              "#d8576b"
             ],
             [
              0.6666666666666666,
              "#ed7953"
             ],
             [
              0.7777777777777778,
              "#fb9f3a"
             ],
             [
              0.8888888888888888,
              "#fdca26"
             ],
             [
              1,
              "#f0f921"
             ]
            ],
            "type": "histogram2d"
           }
          ],
          "histogram2dcontour": [
           {
            "colorbar": {
             "outlinewidth": 0,
             "ticks": ""
            },
            "colorscale": [
             [
              0,
              "#0d0887"
             ],
             [
              0.1111111111111111,
              "#46039f"
             ],
             [
              0.2222222222222222,
              "#7201a8"
             ],
             [
              0.3333333333333333,
              "#9c179e"
             ],
             [
              0.4444444444444444,
              "#bd3786"
             ],
             [
              0.5555555555555556,
              "#d8576b"
             ],
             [
              0.6666666666666666,
              "#ed7953"
             ],
             [
              0.7777777777777778,
              "#fb9f3a"
             ],
             [
              0.8888888888888888,
              "#fdca26"
             ],
             [
              1,
              "#f0f921"
             ]
            ],
            "type": "histogram2dcontour"
           }
          ],
          "mesh3d": [
           {
            "colorbar": {
             "outlinewidth": 0,
             "ticks": ""
            },
            "type": "mesh3d"
           }
          ],
          "parcoords": [
           {
            "line": {
             "colorbar": {
              "outlinewidth": 0,
              "ticks": ""
             }
            },
            "type": "parcoords"
           }
          ],
          "pie": [
           {
            "automargin": true,
            "type": "pie"
           }
          ],
          "scatter": [
           {
            "marker": {
             "colorbar": {
              "outlinewidth": 0,
              "ticks": ""
             }
            },
            "type": "scatter"
           }
          ],
          "scatter3d": [
           {
            "line": {
             "colorbar": {
              "outlinewidth": 0,
              "ticks": ""
             }
            },
            "marker": {
             "colorbar": {
              "outlinewidth": 0,
              "ticks": ""
             }
            },
            "type": "scatter3d"
           }
          ],
          "scattercarpet": [
           {
            "marker": {
             "colorbar": {
              "outlinewidth": 0,
              "ticks": ""
             }
            },
            "type": "scattercarpet"
           }
          ],
          "scattergeo": [
           {
            "marker": {
             "colorbar": {
              "outlinewidth": 0,
              "ticks": ""
             }
            },
            "type": "scattergeo"
           }
          ],
          "scattergl": [
           {
            "marker": {
             "colorbar": {
              "outlinewidth": 0,
              "ticks": ""
             }
            },
            "type": "scattergl"
           }
          ],
          "scattermapbox": [
           {
            "marker": {
             "colorbar": {
              "outlinewidth": 0,
              "ticks": ""
             }
            },
            "type": "scattermapbox"
           }
          ],
          "scatterpolar": [
           {
            "marker": {
             "colorbar": {
              "outlinewidth": 0,
              "ticks": ""
             }
            },
            "type": "scatterpolar"
           }
          ],
          "scatterpolargl": [
           {
            "marker": {
             "colorbar": {
              "outlinewidth": 0,
              "ticks": ""
             }
            },
            "type": "scatterpolargl"
           }
          ],
          "scatterternary": [
           {
            "marker": {
             "colorbar": {
              "outlinewidth": 0,
              "ticks": ""
             }
            },
            "type": "scatterternary"
           }
          ],
          "surface": [
           {
            "colorbar": {
             "outlinewidth": 0,
             "ticks": ""
            },
            "colorscale": [
             [
              0,
              "#0d0887"
             ],
             [
              0.1111111111111111,
              "#46039f"
             ],
             [
              0.2222222222222222,
              "#7201a8"
             ],
             [
              0.3333333333333333,
              "#9c179e"
             ],
             [
              0.4444444444444444,
              "#bd3786"
             ],
             [
              0.5555555555555556,
              "#d8576b"
             ],
             [
              0.6666666666666666,
              "#ed7953"
             ],
             [
              0.7777777777777778,
              "#fb9f3a"
             ],
             [
              0.8888888888888888,
              "#fdca26"
             ],
             [
              1,
              "#f0f921"
             ]
            ],
            "type": "surface"
           }
          ],
          "table": [
           {
            "cells": {
             "fill": {
              "color": "#EBF0F8"
             },
             "line": {
              "color": "white"
             }
            },
            "header": {
             "fill": {
              "color": "#C8D4E3"
             },
             "line": {
              "color": "white"
             }
            },
            "type": "table"
           }
          ]
         },
         "layout": {
          "annotationdefaults": {
           "arrowcolor": "#2a3f5f",
           "arrowhead": 0,
           "arrowwidth": 1
          },
          "autotypenumbers": "strict",
          "coloraxis": {
           "colorbar": {
            "outlinewidth": 0,
            "ticks": ""
           }
          },
          "colorscale": {
           "diverging": [
            [
             0,
             "#8e0152"
            ],
            [
             0.1,
             "#c51b7d"
            ],
            [
             0.2,
             "#de77ae"
            ],
            [
             0.3,
             "#f1b6da"
            ],
            [
             0.4,
             "#fde0ef"
            ],
            [
             0.5,
             "#f7f7f7"
            ],
            [
             0.6,
             "#e6f5d0"
            ],
            [
             0.7,
             "#b8e186"
            ],
            [
             0.8,
             "#7fbc41"
            ],
            [
             0.9,
             "#4d9221"
            ],
            [
             1,
             "#276419"
            ]
           ],
           "sequential": [
            [
             0,
             "#0d0887"
            ],
            [
             0.1111111111111111,
             "#46039f"
            ],
            [
             0.2222222222222222,
             "#7201a8"
            ],
            [
             0.3333333333333333,
             "#9c179e"
            ],
            [
             0.4444444444444444,
             "#bd3786"
            ],
            [
             0.5555555555555556,
             "#d8576b"
            ],
            [
             0.6666666666666666,
             "#ed7953"
            ],
            [
             0.7777777777777778,
             "#fb9f3a"
            ],
            [
             0.8888888888888888,
             "#fdca26"
            ],
            [
             1,
             "#f0f921"
            ]
           ],
           "sequentialminus": [
            [
             0,
             "#0d0887"
            ],
            [
             0.1111111111111111,
             "#46039f"
            ],
            [
             0.2222222222222222,
             "#7201a8"
            ],
            [
             0.3333333333333333,
             "#9c179e"
            ],
            [
             0.4444444444444444,
             "#bd3786"
            ],
            [
             0.5555555555555556,
             "#d8576b"
            ],
            [
             0.6666666666666666,
             "#ed7953"
            ],
            [
             0.7777777777777778,
             "#fb9f3a"
            ],
            [
             0.8888888888888888,
             "#fdca26"
            ],
            [
             1,
             "#f0f921"
            ]
           ]
          },
          "colorway": [
           "#636efa",
           "#EF553B",
           "#00cc96",
           "#ab63fa",
           "#FFA15A",
           "#19d3f3",
           "#FF6692",
           "#B6E880",
           "#FF97FF",
           "#FECB52"
          ],
          "font": {
           "color": "#2a3f5f"
          },
          "geo": {
           "bgcolor": "white",
           "lakecolor": "white",
           "landcolor": "#E5ECF6",
           "showlakes": true,
           "showland": true,
           "subunitcolor": "white"
          },
          "hoverlabel": {
           "align": "left"
          },
          "hovermode": "closest",
          "mapbox": {
           "style": "light"
          },
          "paper_bgcolor": "white",
          "plot_bgcolor": "#E5ECF6",
          "polar": {
           "angularaxis": {
            "gridcolor": "white",
            "linecolor": "white",
            "ticks": ""
           },
           "bgcolor": "#E5ECF6",
           "radialaxis": {
            "gridcolor": "white",
            "linecolor": "white",
            "ticks": ""
           }
          },
          "scene": {
           "xaxis": {
            "backgroundcolor": "#E5ECF6",
            "gridcolor": "white",
            "gridwidth": 2,
            "linecolor": "white",
            "showbackground": true,
            "ticks": "",
            "zerolinecolor": "white"
           },
           "yaxis": {
            "backgroundcolor": "#E5ECF6",
            "gridcolor": "white",
            "gridwidth": 2,
            "linecolor": "white",
            "showbackground": true,
            "ticks": "",
            "zerolinecolor": "white"
           },
           "zaxis": {
            "backgroundcolor": "#E5ECF6",
            "gridcolor": "white",
            "gridwidth": 2,
            "linecolor": "white",
            "showbackground": true,
            "ticks": "",
            "zerolinecolor": "white"
           }
          },
          "shapedefaults": {
           "line": {
            "color": "#2a3f5f"
           }
          },
          "ternary": {
           "aaxis": {
            "gridcolor": "white",
            "linecolor": "white",
            "ticks": ""
           },
           "baxis": {
            "gridcolor": "white",
            "linecolor": "white",
            "ticks": ""
           },
           "bgcolor": "#E5ECF6",
           "caxis": {
            "gridcolor": "white",
            "linecolor": "white",
            "ticks": ""
           }
          },
          "title": {
           "x": 0.05
          },
          "xaxis": {
           "automargin": true,
           "gridcolor": "white",
           "linecolor": "white",
           "ticks": "",
           "title": {
            "standoff": 15
           },
           "zerolinecolor": "white",
           "zerolinewidth": 2
          },
          "yaxis": {
           "automargin": true,
           "gridcolor": "white",
           "linecolor": "white",
           "ticks": "",
           "title": {
            "standoff": 15
           },
           "zerolinecolor": "white",
           "zerolinewidth": 2
          }
         }
        },
        "xaxis": {
         "anchor": "y",
         "domain": [
          0,
          0.45
         ]
        },
        "xaxis2": {
         "anchor": "y2",
         "domain": [
          0.55,
          1
         ]
        },
        "yaxis": {
         "anchor": "x",
         "domain": [
          0,
          1
         ]
        },
        "yaxis2": {
         "anchor": "x2",
         "domain": [
          0,
          1
         ]
        }
       }
      },
      "text/html": [
       "<div>                            <div id=\"82743b0a-88fa-4f86-bdff-8be19ecfcf3c\" class=\"plotly-graph-div\" style=\"height:525px; width:100%;\"></div>            <script type=\"text/javascript\">                require([\"plotly\"], function(Plotly) {                    window.PLOTLYENV=window.PLOTLYENV || {};                                    if (document.getElementById(\"82743b0a-88fa-4f86-bdff-8be19ecfcf3c\")) {                    Plotly.newPlot(                        \"82743b0a-88fa-4f86-bdff-8be19ecfcf3c\",                        [{\"fill\":\"tozeroy\",\"line\":{\"color\":\"blue\",\"width\":2},\"mode\":\"lines+markers\",\"name\":\"Confirmed\",\"x\":[\"1/22/20\",\"1/23/20\",\"1/24/20\",\"1/25/20\",\"1/26/20\",\"1/27/20\",\"1/28/20\",\"1/29/20\",\"1/30/20\",\"1/31/20\",\"2/1/20\",\"2/2/20\",\"2/3/20\",\"2/4/20\",\"2/5/20\",\"2/6/20\",\"2/7/20\",\"2/8/20\",\"2/9/20\",\"2/10/20\",\"2/11/20\",\"2/12/20\",\"2/13/20\",\"2/14/20\",\"2/15/20\",\"2/16/20\",\"2/17/20\",\"2/18/20\",\"2/19/20\",\"2/20/20\",\"2/21/20\",\"2/22/20\",\"2/23/20\",\"2/24/20\",\"2/25/20\",\"2/26/20\",\"2/27/20\",\"2/28/20\",\"2/29/20\",\"3/1/20\",\"3/2/20\",\"3/3/20\",\"3/4/20\",\"3/5/20\",\"3/6/20\",\"3/7/20\",\"3/8/20\",\"3/9/20\",\"3/10/20\",\"3/11/20\",\"3/12/20\",\"3/13/20\",\"3/14/20\",\"3/15/20\",\"3/16/20\",\"3/17/20\",\"3/18/20\",\"3/19/20\",\"3/20/20\",\"3/21/20\",\"3/22/20\",\"3/23/20\",\"3/24/20\",\"3/25/20\",\"3/26/20\",\"3/27/20\",\"3/28/20\",\"3/29/20\",\"3/30/20\",\"3/31/20\",\"4/1/20\",\"4/2/20\",\"4/3/20\",\"4/4/20\",\"4/5/20\",\"4/6/20\",\"4/7/20\",\"4/8/20\",\"4/9/20\",\"4/10/20\",\"4/11/20\",\"4/12/20\",\"4/13/20\",\"4/14/20\",\"4/15/20\",\"4/16/20\",\"4/17/20\",\"4/18/20\",\"4/19/20\",\"4/20/20\",\"4/21/20\",\"4/22/20\",\"4/23/20\",\"4/24/20\",\"4/25/20\",\"4/26/20\",\"4/27/20\",\"4/28/20\",\"4/29/20\",\"4/30/20\",\"5/1/20\",\"5/2/20\",\"5/3/20\",\"5/4/20\",\"5/5/20\",\"5/6/20\",\"5/7/20\",\"5/8/20\",\"5/9/20\",\"5/10/20\",\"5/11/20\",\"5/12/20\",\"5/13/20\",\"5/14/20\",\"5/15/20\",\"5/16/20\",\"5/17/20\",\"5/18/20\",\"5/19/20\",\"5/20/20\",\"5/21/20\",\"5/22/20\",\"5/23/20\",\"5/24/20\",\"5/25/20\",\"5/26/20\",\"5/27/20\",\"5/28/20\",\"5/29/20\",\"5/30/20\",\"5/31/20\",\"6/1/20\",\"6/2/20\",\"6/3/20\",\"6/4/20\",\"6/5/20\",\"6/6/20\",\"6/7/20\",\"6/8/20\",\"6/9/20\",\"6/10/20\",\"6/11/20\",\"6/12/20\",\"6/13/20\",\"6/14/20\",\"6/15/20\",\"6/16/20\",\"6/17/20\",\"6/18/20\",\"6/19/20\",\"6/20/20\",\"6/21/20\",\"6/22/20\",\"6/23/20\",\"6/24/20\",\"6/25/20\",\"6/26/20\",\"6/27/20\",\"6/28/20\",\"6/29/20\",\"6/30/20\",\"7/1/20\",\"7/2/20\",\"7/3/20\",\"7/4/20\",\"7/5/20\",\"7/6/20\",\"7/7/20\",\"7/8/20\",\"7/9/20\",\"7/10/20\",\"7/11/20\",\"7/12/20\",\"7/13/20\",\"7/14/20\",\"7/15/20\",\"7/16/20\",\"7/17/20\",\"7/18/20\",\"7/19/20\",\"7/20/20\",\"7/21/20\",\"7/22/20\",\"7/23/20\",\"7/24/20\",\"7/25/20\",\"7/26/20\",\"7/27/20\",\"7/28/20\",\"7/29/20\",\"7/30/20\",\"7/31/20\",\"8/1/20\",\"8/2/20\",\"8/3/20\",\"8/4/20\",\"8/5/20\",\"8/6/20\",\"8/7/20\",\"8/8/20\",\"8/9/20\",\"8/10/20\",\"8/11/20\",\"8/12/20\",\"8/13/20\",\"8/14/20\",\"8/15/20\",\"8/16/20\",\"8/17/20\",\"8/18/20\",\"8/19/20\",\"8/20/20\",\"8/21/20\",\"8/22/20\",\"8/23/20\",\"8/24/20\",\"8/25/20\",\"8/26/20\",\"8/27/20\",\"8/28/20\",\"8/29/20\",\"8/30/20\",\"8/31/20\",\"9/1/20\",\"9/2/20\",\"9/3/20\",\"9/4/20\",\"9/5/20\",\"9/6/20\",\"9/7/20\",\"9/8/20\",\"9/9/20\",\"9/10/20\",\"9/11/20\",\"9/12/20\",\"9/13/20\",\"9/14/20\",\"9/15/20\",\"9/16/20\",\"9/17/20\",\"9/18/20\",\"9/19/20\",\"9/20/20\",\"9/21/20\",\"9/22/20\",\"9/23/20\",\"9/24/20\",\"9/25/20\",\"9/26/20\",\"9/27/20\",\"9/28/20\",\"9/29/20\",\"9/30/20\",\"10/1/20\",\"10/2/20\",\"10/3/20\",\"10/4/20\",\"10/5/20\",\"10/6/20\",\"10/7/20\",\"10/8/20\",\"10/9/20\",\"10/10/20\",\"10/11/20\",\"10/12/20\",\"10/13/20\",\"10/14/20\",\"10/15/20\",\"10/16/20\",\"10/17/20\",\"10/18/20\",\"10/19/20\",\"10/20/20\",\"10/21/20\",\"10/22/20\",\"10/23/20\",\"10/24/20\",\"10/25/20\",\"10/26/20\",\"10/27/20\",\"10/28/20\",\"10/29/20\",\"10/30/20\",\"10/31/20\",\"11/1/20\",\"11/2/20\",\"11/3/20\",\"11/4/20\",\"11/5/20\",\"11/6/20\",\"11/7/20\",\"11/8/20\",\"11/9/20\",\"11/10/20\",\"11/11/20\",\"11/12/20\",\"11/13/20\",\"11/14/20\",\"11/15/20\",\"11/16/20\",\"11/17/20\",\"11/18/20\",\"11/19/20\",\"11/20/20\",\"11/21/20\",\"11/22/20\",\"11/23/20\",\"11/24/20\",\"11/25/20\",\"11/26/20\",\"11/27/20\",\"11/28/20\",\"11/29/20\",\"11/30/20\",\"12/1/20\",\"12/2/20\",\"12/3/20\",\"12/4/20\",\"12/5/20\",\"12/6/20\",\"12/7/20\",\"12/8/20\",\"12/9/20\",\"12/10/20\",\"12/11/20\",\"12/12/20\",\"12/13/20\",\"12/14/20\",\"12/15/20\",\"12/16/20\",\"12/17/20\",\"12/18/20\",\"12/19/20\",\"12/20/20\",\"12/21/20\",\"12/22/20\",\"12/23/20\",\"12/24/20\",\"12/25/20\",\"12/26/20\",\"12/27/20\",\"12/28/20\",\"12/29/20\",\"12/30/20\",\"12/31/20\",\"1/1/21\",\"1/2/21\",\"1/3/21\",\"1/4/21\",\"1/5/21\",\"1/6/21\",\"1/7/21\",\"1/8/21\",\"1/9/21\",\"1/10/21\",\"1/11/21\",\"1/12/21\",\"1/13/21\",\"1/14/21\",\"1/15/21\",\"1/16/21\",\"1/17/21\",\"1/18/21\",\"1/19/21\",\"1/20/21\",\"1/21/21\",\"1/22/21\",\"1/23/21\",\"1/24/21\",\"1/25/21\",\"1/26/21\",\"1/27/21\",\"1/28/21\",\"1/29/21\",\"1/30/21\",\"1/31/21\",\"2/1/21\",\"2/2/21\",\"2/3/21\",\"2/4/21\",\"2/5/21\",\"2/6/21\",\"2/7/21\",\"2/8/21\",\"2/9/21\",\"2/10/21\",\"2/11/21\",\"2/12/21\",\"2/13/21\",\"2/14/21\",\"2/15/21\",\"2/16/21\",\"2/17/21\",\"2/18/21\",\"2/19/21\",\"2/20/21\",\"2/21/21\",\"2/22/21\",\"2/23/21\",\"2/24/21\",\"2/25/21\",\"2/26/21\",\"2/27/21\",\"2/28/21\",\"3/1/21\",\"3/2/21\",\"3/3/21\",\"3/4/21\",\"3/5/21\",\"3/6/21\",\"3/7/21\",\"3/8/21\",\"3/9/21\",\"3/10/21\",\"3/11/21\",\"3/12/21\",\"3/13/21\",\"3/14/21\",\"3/15/21\",\"3/16/21\",\"3/17/21\",\"3/18/21\",\"3/19/21\",\"3/20/21\",\"3/21/21\",\"3/22/21\",\"3/23/21\",\"3/24/21\",\"3/25/21\",\"3/26/21\",\"3/27/21\",\"3/28/21\",\"3/29/21\",\"3/30/21\",\"3/31/21\",\"4/1/21\",\"4/2/21\",\"4/3/21\",\"4/4/21\",\"4/5/21\",\"4/6/21\",\"4/7/21\",\"4/8/21\",\"4/9/21\",\"4/10/21\",\"4/11/21\",\"4/12/21\",\"4/13/21\",\"4/14/21\",\"4/15/21\",\"4/16/21\",\"4/17/21\",\"4/18/21\",\"4/19/21\",\"4/20/21\",\"4/21/21\",\"4/22/21\",\"4/23/21\",\"4/24/21\",\"4/25/21\",\"4/26/21\",\"4/27/21\",\"4/28/21\",\"4/29/21\",\"4/30/21\",\"5/1/21\",\"5/2/21\",\"5/3/21\",\"5/4/21\",\"5/5/21\",\"5/6/21\",\"5/7/21\",\"5/8/21\",\"5/9/21\",\"5/10/21\",\"5/11/21\",\"5/12/21\",\"5/13/21\",\"5/14/21\",\"5/15/21\",\"5/16/21\",\"5/17/21\",\"5/18/21\",\"5/19/21\",\"5/20/21\",\"5/21/21\",\"5/22/21\",\"5/23/21\",\"5/24/21\",\"5/25/21\",\"5/26/21\",\"5/27/21\",\"5/28/21\",\"5/29/21\",\"5/30/21\",\"5/31/21\",\"6/1/21\",\"6/2/21\",\"6/3/21\",\"6/4/21\",\"6/5/21\",\"6/6/21\",\"6/7/21\",\"6/8/21\",\"6/9/21\",\"6/10/21\",\"6/11/21\",\"6/12/21\",\"6/13/21\",\"6/14/21\",\"6/15/21\",\"6/16/21\",\"6/17/21\",\"6/18/21\",\"6/19/21\",\"6/20/21\",\"6/21/21\",\"6/22/21\",\"6/23/21\",\"6/24/21\",\"6/25/21\",\"6/26/21\",\"6/27/21\",\"6/28/21\",\"6/29/21\",\"6/30/21\",\"7/1/21\",\"7/2/21\",\"7/3/21\",\"7/4/21\",\"7/5/21\",\"7/6/21\",\"7/7/21\",\"7/8/21\",\"7/9/21\",\"7/10/21\",\"7/11/21\",\"7/12/21\",\"7/13/21\",\"7/14/21\",\"7/15/21\",\"7/16/21\",\"7/17/21\",\"7/18/21\",\"7/19/21\",\"7/20/21\",\"7/21/21\",\"7/22/21\",\"7/23/21\",\"7/24/21\",\"7/25/21\",\"7/26/21\",\"7/27/21\",\"7/28/21\",\"7/29/21\",\"7/30/21\",\"7/31/21\",\"8/1/21\",\"8/2/21\",\"8/3/21\",\"8/4/21\",\"8/5/21\",\"8/6/21\",\"8/7/21\",\"8/8/21\",\"8/9/21\",\"8/10/21\",\"8/11/21\",\"8/12/21\",\"8/13/21\",\"8/14/21\",\"8/15/21\",\"8/16/21\",\"8/17/21\",\"8/18/21\",\"8/19/21\",\"8/20/21\",\"8/21/21\",\"8/22/21\",\"8/23/21\",\"8/24/21\",\"8/25/21\",\"8/26/21\",\"8/27/21\",\"8/28/21\",\"8/29/21\",\"8/30/21\",\"8/31/21\",\"9/1/21\",\"9/2/21\",\"9/3/21\",\"9/4/21\",\"9/5/21\",\"9/6/21\",\"9/7/21\",\"9/8/21\",\"9/9/21\",\"9/10/21\",\"9/11/21\",\"9/12/21\",\"9/13/21\",\"9/14/21\",\"9/15/21\",\"9/16/21\",\"9/17/21\",\"9/18/21\",\"9/19/21\",\"9/20/21\",\"9/21/21\",\"9/22/21\",\"9/23/21\",\"9/24/21\",\"9/25/21\",\"9/26/21\",\"9/27/21\",\"9/28/21\",\"9/29/21\",\"9/30/21\",\"10/1/21\",\"10/2/21\",\"10/3/21\",\"10/4/21\",\"10/5/21\",\"10/6/21\",\"10/7/21\",\"10/8/21\",\"10/9/21\",\"10/10/21\",\"10/11/21\",\"10/12/21\",\"10/13/21\",\"10/14/21\",\"10/15/21\",\"10/16/21\",\"10/17/21\",\"10/18/21\",\"10/19/21\",\"10/20/21\",\"10/21/21\",\"10/22/21\",\"10/23/21\",\"10/24/21\",\"10/25/21\",\"10/26/21\",\"10/27/21\",\"10/28/21\",\"10/29/21\",\"10/30/21\",\"10/31/21\",\"11/1/21\",\"11/2/21\",\"11/3/21\",\"11/4/21\",\"11/5/21\",\"11/6/21\",\"11/7/21\",\"11/8/21\",\"11/9/21\",\"11/10/21\",\"11/11/21\",\"11/12/21\",\"11/13/21\",\"11/14/21\",\"11/15/21\",\"11/16/21\",\"11/17/21\",\"11/18/21\",\"11/19/21\",\"11/20/21\",\"11/21/21\",\"11/22/21\",\"11/23/21\",\"11/24/21\",\"11/25/21\",\"11/26/21\",\"11/27/21\",\"11/28/21\",\"11/29/21\",\"11/30/21\",\"12/1/21\",\"12/2/21\",\"12/3/21\",\"12/4/21\",\"12/5/21\",\"12/6/21\",\"12/7/21\",\"12/8/21\",\"12/9/21\",\"12/10/21\",\"12/11/21\",\"12/12/21\",\"12/13/21\",\"12/14/21\",\"12/15/21\",\"12/16/21\",\"12/17/21\",\"12/18/21\",\"12/19/21\",\"12/20/21\",\"12/21/21\",\"12/22/21\",\"12/23/21\",\"12/24/21\",\"12/25/21\",\"12/26/21\",\"12/27/21\",\"12/28/21\",\"12/29/21\",\"12/30/21\",\"12/31/21\",\"1/1/22\",\"1/2/22\",\"1/3/22\",\"1/4/22\",\"1/5/22\",\"1/6/22\",\"1/7/22\",\"1/8/22\",\"1/9/22\"],\"y\":[0,0,0,0,0,0,0,0,1,1,1,2,3,3,3,3,3,3,3,3,3,3,3,3,3,3,3,3,3,3,3,3,3,3,3,3,3,3,3,3,5,5,28,30,31,34,39,43,56,62,73,82,102,113,119,142,156,194,244,330,396,499,536,657,727,887,987,1024,1251,1397,1998,2543,2567,3082,3588,4778,5311,5916,6725,7598,8446,9205,10453,11487,12322,13430,14352,15722,17615,18539,20080,21370,23077,24530,26283,27890,29451,31324,33062,34863,37257,39699,42505,46437,49400,52987,56351,59695,62808,67161,70768,74292,78055,81997,85784,90648,95698,100328,106475,112028,118226,124794,131423,138536,144950,150793,158086,165386,173491,181827,190609,198370,207191,216824,226713,236184,246622,257486,265928,276146,286605,297535,308993,320922,332424,343091,354065,366946,380532,395048,410451,425282,440215,456183,473105,490401,508953,528859,548318,566840,585481,604641,625544,648315,673165,697413,719664,742417,767296,793802,820916,849522,878254,906752,936181,968857,1003832,1039084,1077781,1118206,1155338,1193078,1238798,1288108,1337024,1385635,1435616,1480073,1531669,1581963,1634746,1695988,1750723,1803695,1855745,1908254,1964536,2027074,2088611,2153010,2215074,2268675,2329638,2396637,2461190,2525922,2589952,2647663,2702681,2767253,2836925,2905825,2975701,3044940,3106348,3167323,3224547,3310234,3387500,3463972,3542733,3621245,3691166,3769523,3853406,3936747,4023179,4113811,4204613,4280422,4370128,4465863,4562414,4659984,4754356,4846427,4930236,5020359,5118253,5214677,5308014,5400619,5487580,5562663,5646010,5732518,5818570,5903932,5992532,6074702,6145291,6225763,6312584,6394068,6473544,6549373,6623815,6685082,6757131,6835655,6906151,6979423,7053806,7120538,7175880,7239389,7307097,7370468,7432680,7494551,7550273,7597063,7651107,7706946,7761312,7814682,7864811,7909959,7946429,7990322,8040203,8088851,8137119,8184082,8229313,8267623,8313876,8364086,8411724,8462080,8507754,8553657,8591730,8636011,8683916,8728795,8773479,8814579,8845127,8874290,8912907,8958483,9004365,9050597,9095806,9139865,9177840,9222216,9266705,9309787,9351109,9392919,9431691,9462809,9499413,9534964,9571559,9608211,9644222,9677203,9703770,9735850,9767371,9796744,9826775,9857029,9884100,9906165,9932547,9956557,9979447,10004599,10031223,10055560,10075116,10099066,10123778,10146845,10169118,10187850,10207871,10224303,10244852,10266674,10286709,10305788,10323965,10340469,10356844,10374932,10395278,10413417,10413417,10450284,10466595,10479179,10495147,10512093,10527683,10542841,10557985,10571773,10581823,10595639,10610883,10625428,10639684,10654533,10667736,10676838,10689527,10701193,10720048,10733130,10746174,10757610,10766245,10777284,10790183,10802591,10814304,10826363,10838194,10847304,10858371,10871294,10880603,10892746,10904940,10916589,10925710,10937320,10950201,10963394,10977387,10991651,11005850,11016434,11030176,11046914,11063491,11079979,11096731,11112241,11124527,11139516,11156923,11173761,11192045,11210799,11229398,11244786,11262707,11285561,11308846,11333728,11359048,11385339,11409831,11438734,11474605,11514331,11555284,11599130,11646081,11686796,11734058,11787534,11846652,11908910,11971624,12039644,12095855,12149335,12221665,12303131,12392260,12485509,12589067,12686049,12801785,12928574,13060542,13205926,13358805,13527717,13689453,13873825,14074564,14291917,14526609,14788003,15061805,15320972,15616130,15930774,16263695,16610481,16960172,17313163,17636186,17997113,18376421,18762976,19164969,19557457,19925517,20282833,20664979,21077410,21491598,21892676,22296081,22662575,22992517,23340938,23703665,24046809,24372907,24684077,24965463,25228996,25496330,25772440,26031991,26289290,26530132,26752447,26948874,27157795,27369093,27555457,27729247,27894800,28047534,28175044,28307832,28441986,28574350,28694879,28809339,28909975,28996473,29089069,29182532,29274823,29359155,29439989,29510410,29570881,29633105,29700313,29762793,29823546,29881772,29935221,29977861,30028709,30082778,30134445,30183143,30233183,30279331,30316897,30362848,30411634,30458251,30502362,30545433,30585229,30619932,30663665,30709557,30752950,30795716,30837222,30874376,30907282,30946147,30987880,31026829,31064908,31106065,31144229,31174322,31216337,31257720,31293062,31332159,31371901,31411262,31440951,31484605,31528114,31572344,31613993,31655824,31695958,31726507,31769132,31812114,31856757,31895385,31934455,31969954,31998158,32036511,32077706,32117826,32156493,32192576,32225513,32250679,32285857,32322258,32358829,32393286,32424234,32449306,32474773,32512366,32558530,32603188,32649947,32695030,32737939,32768880,32810845,32857937,32903289,32945907,32988673,33027621,33058843,33096718,33139981,33174954,33208330,33236921,33264175,33289579,33316755,33347325,33381728,33417390,33448163,33478419,33504534,33531498,33563421,33594803,33624419,33652745,33678786,33697581,33716451,33739980,33766707,33791061,33813903,33834702,33853048,33871881,33894312,33915569,33935309,33953475,33971607,33985920,34001743,34020730,34037592,34053573,34067719,34081315,34094373,34108996,34127450,34143236,34159562,34175468,34189774,34202202,34215653,34231809,34246157,34260470,34273300,34285814,34296237,34308140,34321025,34333754,34344683,34355509,34366987,34377113,34388579,34401670,34414186,34426036,34437307,34447536,34456401,34466598,34478517,34489623,34499925,34510413,34518901,34526480,34535763,34544882,34555431,34563749,34572523,34580832,34587822,34596776,34606541,34615757,34624360,34624360,34641561,34648383,34656822,34666241,34674643,34682633,34690510,34697860,34703644,34710628,34718602,34726049,34726049,34733194,34746838,34752164,34758481,34765976,34772626,34779815,34786802,34793333,34799691,34808886,34822040,34838804,34861579,34889132,34922882,34960261,35018358,35109286,35226386,35368372,35528004,35707727],\"type\":\"scatter\",\"xaxis\":\"x\",\"yaxis\":\"y\"},{\"fill\":\"tonexty\",\"line\":{\"color\":\"red\",\"width\":2},\"mode\":\"lines+markers\",\"name\":\"Deaths\",\"x\":[\"1/22/20\",\"1/23/20\",\"1/24/20\",\"1/25/20\",\"1/26/20\",\"1/27/20\",\"1/28/20\",\"1/29/20\",\"1/30/20\",\"1/31/20\",\"2/1/20\",\"2/2/20\",\"2/3/20\",\"2/4/20\",\"2/5/20\",\"2/6/20\",\"2/7/20\",\"2/8/20\",\"2/9/20\",\"2/10/20\",\"2/11/20\",\"2/12/20\",\"2/13/20\",\"2/14/20\",\"2/15/20\",\"2/16/20\",\"2/17/20\",\"2/18/20\",\"2/19/20\",\"2/20/20\",\"2/21/20\",\"2/22/20\",\"2/23/20\",\"2/24/20\",\"2/25/20\",\"2/26/20\",\"2/27/20\",\"2/28/20\",\"2/29/20\",\"3/1/20\",\"3/2/20\",\"3/3/20\",\"3/4/20\",\"3/5/20\",\"3/6/20\",\"3/7/20\",\"3/8/20\",\"3/9/20\",\"3/10/20\",\"3/11/20\",\"3/12/20\",\"3/13/20\",\"3/14/20\",\"3/15/20\",\"3/16/20\",\"3/17/20\",\"3/18/20\",\"3/19/20\",\"3/20/20\",\"3/21/20\",\"3/22/20\",\"3/23/20\",\"3/24/20\",\"3/25/20\",\"3/26/20\",\"3/27/20\",\"3/28/20\",\"3/29/20\",\"3/30/20\",\"3/31/20\",\"4/1/20\",\"4/2/20\",\"4/3/20\",\"4/4/20\",\"4/5/20\",\"4/6/20\",\"4/7/20\",\"4/8/20\",\"4/9/20\",\"4/10/20\",\"4/11/20\",\"4/12/20\",\"4/13/20\",\"4/14/20\",\"4/15/20\",\"4/16/20\",\"4/17/20\",\"4/18/20\",\"4/19/20\",\"4/20/20\",\"4/21/20\",\"4/22/20\",\"4/23/20\",\"4/24/20\",\"4/25/20\",\"4/26/20\",\"4/27/20\",\"4/28/20\",\"4/29/20\",\"4/30/20\",\"5/1/20\",\"5/2/20\",\"5/3/20\",\"5/4/20\",\"5/5/20\",\"5/6/20\",\"5/7/20\",\"5/8/20\",\"5/9/20\",\"5/10/20\",\"5/11/20\",\"5/12/20\",\"5/13/20\",\"5/14/20\",\"5/15/20\",\"5/16/20\",\"5/17/20\",\"5/18/20\",\"5/19/20\",\"5/20/20\",\"5/21/20\",\"5/22/20\",\"5/23/20\",\"5/24/20\",\"5/25/20\",\"5/26/20\",\"5/27/20\",\"5/28/20\",\"5/29/20\",\"5/30/20\",\"5/31/20\",\"6/1/20\",\"6/2/20\",\"6/3/20\",\"6/4/20\",\"6/5/20\",\"6/6/20\",\"6/7/20\",\"6/8/20\",\"6/9/20\",\"6/10/20\",\"6/11/20\",\"6/12/20\",\"6/13/20\",\"6/14/20\",\"6/15/20\",\"6/16/20\",\"6/17/20\",\"6/18/20\",\"6/19/20\",\"6/20/20\",\"6/21/20\",\"6/22/20\",\"6/23/20\",\"6/24/20\",\"6/25/20\",\"6/26/20\",\"6/27/20\",\"6/28/20\",\"6/29/20\",\"6/30/20\",\"7/1/20\",\"7/2/20\",\"7/3/20\",\"7/4/20\",\"7/5/20\",\"7/6/20\",\"7/7/20\",\"7/8/20\",\"7/9/20\",\"7/10/20\",\"7/11/20\",\"7/12/20\",\"7/13/20\",\"7/14/20\",\"7/15/20\",\"7/16/20\",\"7/17/20\",\"7/18/20\",\"7/19/20\",\"7/20/20\",\"7/21/20\",\"7/22/20\",\"7/23/20\",\"7/24/20\",\"7/25/20\",\"7/26/20\",\"7/27/20\",\"7/28/20\",\"7/29/20\",\"7/30/20\",\"7/31/20\",\"8/1/20\",\"8/2/20\",\"8/3/20\",\"8/4/20\",\"8/5/20\",\"8/6/20\",\"8/7/20\",\"8/8/20\",\"8/9/20\",\"8/10/20\",\"8/11/20\",\"8/12/20\",\"8/13/20\",\"8/14/20\",\"8/15/20\",\"8/16/20\",\"8/17/20\",\"8/18/20\",\"8/19/20\",\"8/20/20\",\"8/21/20\",\"8/22/20\",\"8/23/20\",\"8/24/20\",\"8/25/20\",\"8/26/20\",\"8/27/20\",\"8/28/20\",\"8/29/20\",\"8/30/20\",\"8/31/20\",\"9/1/20\",\"9/2/20\",\"9/3/20\",\"9/4/20\",\"9/5/20\",\"9/6/20\",\"9/7/20\",\"9/8/20\",\"9/9/20\",\"9/10/20\",\"9/11/20\",\"9/12/20\",\"9/13/20\",\"9/14/20\",\"9/15/20\",\"9/16/20\",\"9/17/20\",\"9/18/20\",\"9/19/20\",\"9/20/20\",\"9/21/20\",\"9/22/20\",\"9/23/20\",\"9/24/20\",\"9/25/20\",\"9/26/20\",\"9/27/20\",\"9/28/20\",\"9/29/20\",\"9/30/20\",\"10/1/20\",\"10/2/20\",\"10/3/20\",\"10/4/20\",\"10/5/20\",\"10/6/20\",\"10/7/20\",\"10/8/20\",\"10/9/20\",\"10/10/20\",\"10/11/20\",\"10/12/20\",\"10/13/20\",\"10/14/20\",\"10/15/20\",\"10/16/20\",\"10/17/20\",\"10/18/20\",\"10/19/20\",\"10/20/20\",\"10/21/20\",\"10/22/20\",\"10/23/20\",\"10/24/20\",\"10/25/20\",\"10/26/20\",\"10/27/20\",\"10/28/20\",\"10/29/20\",\"10/30/20\",\"10/31/20\",\"11/1/20\",\"11/2/20\",\"11/3/20\",\"11/4/20\",\"11/5/20\",\"11/6/20\",\"11/7/20\",\"11/8/20\",\"11/9/20\",\"11/10/20\",\"11/11/20\",\"11/12/20\",\"11/13/20\",\"11/14/20\",\"11/15/20\",\"11/16/20\",\"11/17/20\",\"11/18/20\",\"11/19/20\",\"11/20/20\",\"11/21/20\",\"11/22/20\",\"11/23/20\",\"11/24/20\",\"11/25/20\",\"11/26/20\",\"11/27/20\",\"11/28/20\",\"11/29/20\",\"11/30/20\",\"12/1/20\",\"12/2/20\",\"12/3/20\",\"12/4/20\",\"12/5/20\",\"12/6/20\",\"12/7/20\",\"12/8/20\",\"12/9/20\",\"12/10/20\",\"12/11/20\",\"12/12/20\",\"12/13/20\",\"12/14/20\",\"12/15/20\",\"12/16/20\",\"12/17/20\",\"12/18/20\",\"12/19/20\",\"12/20/20\",\"12/21/20\",\"12/22/20\",\"12/23/20\",\"12/24/20\",\"12/25/20\",\"12/26/20\",\"12/27/20\",\"12/28/20\",\"12/29/20\",\"12/30/20\",\"12/31/20\",\"1/1/21\",\"1/2/21\",\"1/3/21\",\"1/4/21\",\"1/5/21\",\"1/6/21\",\"1/7/21\",\"1/8/21\",\"1/9/21\",\"1/10/21\",\"1/11/21\",\"1/12/21\",\"1/13/21\",\"1/14/21\",\"1/15/21\",\"1/16/21\",\"1/17/21\",\"1/18/21\",\"1/19/21\",\"1/20/21\",\"1/21/21\",\"1/22/21\",\"1/23/21\",\"1/24/21\",\"1/25/21\",\"1/26/21\",\"1/27/21\",\"1/28/21\",\"1/29/21\",\"1/30/21\",\"1/31/21\",\"2/1/21\",\"2/2/21\",\"2/3/21\",\"2/4/21\",\"2/5/21\",\"2/6/21\",\"2/7/21\",\"2/8/21\",\"2/9/21\",\"2/10/21\",\"2/11/21\",\"2/12/21\",\"2/13/21\",\"2/14/21\",\"2/15/21\",\"2/16/21\",\"2/17/21\",\"2/18/21\",\"2/19/21\",\"2/20/21\",\"2/21/21\",\"2/22/21\",\"2/23/21\",\"2/24/21\",\"2/25/21\",\"2/26/21\",\"2/27/21\",\"2/28/21\",\"3/1/21\",\"3/2/21\",\"3/3/21\",\"3/4/21\",\"3/5/21\",\"3/6/21\",\"3/7/21\",\"3/8/21\",\"3/9/21\",\"3/10/21\",\"3/11/21\",\"3/12/21\",\"3/13/21\",\"3/14/21\",\"3/15/21\",\"3/16/21\",\"3/17/21\",\"3/18/21\",\"3/19/21\",\"3/20/21\",\"3/21/21\",\"3/22/21\",\"3/23/21\",\"3/24/21\",\"3/25/21\",\"3/26/21\",\"3/27/21\",\"3/28/21\",\"3/29/21\",\"3/30/21\",\"3/31/21\",\"4/1/21\",\"4/2/21\",\"4/3/21\",\"4/4/21\",\"4/5/21\",\"4/6/21\",\"4/7/21\",\"4/8/21\",\"4/9/21\",\"4/10/21\",\"4/11/21\",\"4/12/21\",\"4/13/21\",\"4/14/21\",\"4/15/21\",\"4/16/21\",\"4/17/21\",\"4/18/21\",\"4/19/21\",\"4/20/21\",\"4/21/21\",\"4/22/21\",\"4/23/21\",\"4/24/21\",\"4/25/21\",\"4/26/21\",\"4/27/21\",\"4/28/21\",\"4/29/21\",\"4/30/21\",\"5/1/21\",\"5/2/21\",\"5/3/21\",\"5/4/21\",\"5/5/21\",\"5/6/21\",\"5/7/21\",\"5/8/21\",\"5/9/21\",\"5/10/21\",\"5/11/21\",\"5/12/21\",\"5/13/21\",\"5/14/21\",\"5/15/21\",\"5/16/21\",\"5/17/21\",\"5/18/21\",\"5/19/21\",\"5/20/21\",\"5/21/21\",\"5/22/21\",\"5/23/21\",\"5/24/21\",\"5/25/21\",\"5/26/21\",\"5/27/21\",\"5/28/21\",\"5/29/21\",\"5/30/21\",\"5/31/21\",\"6/1/21\",\"6/2/21\",\"6/3/21\",\"6/4/21\",\"6/5/21\",\"6/6/21\",\"6/7/21\",\"6/8/21\",\"6/9/21\",\"6/10/21\",\"6/11/21\",\"6/12/21\",\"6/13/21\",\"6/14/21\",\"6/15/21\",\"6/16/21\",\"6/17/21\",\"6/18/21\",\"6/19/21\",\"6/20/21\",\"6/21/21\",\"6/22/21\",\"6/23/21\",\"6/24/21\",\"6/25/21\",\"6/26/21\",\"6/27/21\",\"6/28/21\",\"6/29/21\",\"6/30/21\",\"7/1/21\",\"7/2/21\",\"7/3/21\",\"7/4/21\",\"7/5/21\",\"7/6/21\",\"7/7/21\",\"7/8/21\",\"7/9/21\",\"7/10/21\",\"7/11/21\",\"7/12/21\",\"7/13/21\",\"7/14/21\",\"7/15/21\",\"7/16/21\",\"7/17/21\",\"7/18/21\",\"7/19/21\",\"7/20/21\",\"7/21/21\",\"7/22/21\",\"7/23/21\",\"7/24/21\",\"7/25/21\",\"7/26/21\",\"7/27/21\",\"7/28/21\",\"7/29/21\",\"7/30/21\",\"7/31/21\",\"8/1/21\",\"8/2/21\",\"8/3/21\",\"8/4/21\",\"8/5/21\",\"8/6/21\",\"8/7/21\",\"8/8/21\",\"8/9/21\",\"8/10/21\",\"8/11/21\",\"8/12/21\",\"8/13/21\",\"8/14/21\",\"8/15/21\",\"8/16/21\",\"8/17/21\",\"8/18/21\",\"8/19/21\",\"8/20/21\",\"8/21/21\",\"8/22/21\",\"8/23/21\",\"8/24/21\",\"8/25/21\",\"8/26/21\",\"8/27/21\",\"8/28/21\",\"8/29/21\",\"8/30/21\",\"8/31/21\",\"9/1/21\",\"9/2/21\",\"9/3/21\",\"9/4/21\",\"9/5/21\",\"9/6/21\",\"9/7/21\",\"9/8/21\",\"9/9/21\",\"9/10/21\",\"9/11/21\",\"9/12/21\",\"9/13/21\",\"9/14/21\",\"9/15/21\",\"9/16/21\",\"9/17/21\",\"9/18/21\",\"9/19/21\",\"9/20/21\",\"9/21/21\",\"9/22/21\",\"9/23/21\",\"9/24/21\",\"9/25/21\",\"9/26/21\",\"9/27/21\",\"9/28/21\",\"9/29/21\",\"9/30/21\",\"10/1/21\",\"10/2/21\",\"10/3/21\",\"10/4/21\",\"10/5/21\",\"10/6/21\",\"10/7/21\",\"10/8/21\",\"10/9/21\",\"10/10/21\",\"10/11/21\",\"10/12/21\",\"10/13/21\",\"10/14/21\",\"10/15/21\",\"10/16/21\",\"10/17/21\",\"10/18/21\",\"10/19/21\",\"10/20/21\",\"10/21/21\",\"10/22/21\",\"10/23/21\",\"10/24/21\",\"10/25/21\",\"10/26/21\",\"10/27/21\",\"10/28/21\",\"10/29/21\",\"10/30/21\",\"10/31/21\",\"11/1/21\",\"11/2/21\",\"11/3/21\",\"11/4/21\",\"11/5/21\",\"11/6/21\",\"11/7/21\",\"11/8/21\",\"11/9/21\",\"11/10/21\",\"11/11/21\",\"11/12/21\",\"11/13/21\",\"11/14/21\",\"11/15/21\",\"11/16/21\",\"11/17/21\",\"11/18/21\",\"11/19/21\",\"11/20/21\",\"11/21/21\",\"11/22/21\",\"11/23/21\",\"11/24/21\",\"11/25/21\",\"11/26/21\",\"11/27/21\",\"11/28/21\",\"11/29/21\",\"11/30/21\",\"12/1/21\",\"12/2/21\",\"12/3/21\",\"12/4/21\",\"12/5/21\",\"12/6/21\",\"12/7/21\",\"12/8/21\",\"12/9/21\",\"12/10/21\",\"12/11/21\",\"12/12/21\",\"12/13/21\",\"12/14/21\",\"12/15/21\",\"12/16/21\",\"12/17/21\",\"12/18/21\",\"12/19/21\",\"12/20/21\",\"12/21/21\",\"12/22/21\",\"12/23/21\",\"12/24/21\",\"12/25/21\",\"12/26/21\",\"12/27/21\",\"12/28/21\",\"12/29/21\",\"12/30/21\",\"12/31/21\",\"1/1/22\",\"1/2/22\",\"1/3/22\",\"1/4/22\",\"1/5/22\",\"1/6/22\",\"1/7/22\",\"1/8/22\",\"1/9/22\"],\"y\":[0,0,0,0,0,0,0,0,0,0,0,0,0,0,0,0,0,0,0,0,0,0,0,0,0,0,0,0,0,0,0,0,0,0,0,0,0,0,0,0,0,0,0,0,0,0,0,0,0,1,1,2,2,2,2,3,3,4,5,4,7,10,10,12,20,20,24,27,32,35,58,72,72,86,99,136,150,178,226,246,288,331,358,393,405,448,486,521,559,592,645,681,721,780,825,881,939,1008,1079,1154,1223,1323,1391,1566,1693,1785,1889,1985,2101,2212,2294,2415,2551,2649,2753,2871,3025,3156,3302,3434,3584,3726,3868,4024,4172,4344,4534,4711,4980,5185,5408,5608,5829,6088,6363,6649,6946,7207,7473,7750,8102,8498,8884,9195,9520,9900,11903,12237,12573,12948,13254,13699,14011,14476,14894,15301,15685,16095,16475,16893,17400,17834,18213,18655,19268,19693,20159,20642,21129,21604,22123,22673,23174,23727,24309,24914,25602,26273,26816,27497,28082,28732,29861,30601,31358,32060,32771,33408,34193,34955,35718,36511,37364,38135,38938,39795,40699,41585,42518,43379,44386,45257,46091,47033,48040,49036,49980,50921,51797,52888,53866,54849,55794,56706,57542,58390,59357,60472,61529,62550,63498,64469,65288,66333,67376,68472,69561,70626,71642,72775,73890,75062,76271,77472,78586,79722,80776,82066,83198,84372,85619,86752,87882,88935,90020,91149,92290,93379,94503,95542,96318,97497,98678,99773,100842,101782,102685,103569,104555,105526,106490,107416,108334,109150,109856,110586,111266,112161,112998,114031,114610,115197,115914,116616,117306,117956,118534,119014,119502,120010,120527,121090,121641,122111,122607,123097,123611,124315,124985,125562,126121,126611,127059,127571,128121,128668,129188,129635,130070,130519,130993,131578,132162,132726,133227,133738,134218,134699,135223,135715,136200,136696,137139,137621,138122,138648,139188,139700,140182,140573,140958,141360,141772,142185,142628,143019,143355,143709,144096,144451,144789,145136,145477,145810,146111,146444,146756,147092,147343,147622,147901,148153,148439,148738,148994,149218,149435,149649,149850,150114,150336,150570,150570,150999,151160,151327,151529,151727,151918,152093,152274,152419,152556,152718,152869,153032,153184,153339,153470,153587,153724,153847,154010,154147,154274,154392,154486,154596,154703,154823,154918,154996,155080,155158,155252,155360,155447,155550,155642,155732,155813,155913,156014,156111,156212,156302,156385,156463,156567,156705,156825,156938,157051,157157,157248,157346,157435,157548,157656,157756,157853,157930,158063,158189,158306,158446,158607,158725,158856,159044,159216,159370,159558,159755,159967,160166,160441,160692,160949,161240,161552,161843,162114,162468,162927,163396,164110,164623,165101,165547,166177,166862,167642,168436,169275,170179,171058,172085,173123,174308,175649,177150,178769,180530,182553,184657,186920,189544,192311,195123,197894,201187,204832,208330,211853,215542,218959,222408,226188,230168,234083,238270,242347,246116,249992,254197,258317,262317,266207,270284,274390,278719,283248,287122,291331,295525,299266,303720,307231,311388,315235,318895,322512,325972,329100,331895,335102,337989,340702,344082,346759,349186,351309,353528,355705,363079,367081,370384,374305,377031,379573,381903,383490,385137,386708,388135,389302,390660,391981,393310,394493,395751,396730,397637,398454,399459,400312,401050,402005,402728,403281,404211,405028,405939,407145,408040,408764,410784,411406,411989,412531,413091,413609,414108,414482,418480,418987,419470,420016,420551,420967,421382,422022,422662,423217,423810,424351,424773,425195,425757,426290,426754,427371,427862,428309,428682,429179,429669,430254,430732,431225,431642,432079,432519,433049,433589,433964,434367,434756,435110,435758,436365,436861,437370,437830,438210,438560,439020,439529,439895,440225,440533,440752,441042,441411,441749,442009,442317,442655,442874,443213,443497,443928,444248,444529,444838,445133,445385,445768,446050,446368,446658,446918,447194,447373,447751,448062,448339,448573,448817,448997,449260,449538,449856,450127,450375,450589,450782,450963,451189,451435,451814,451980,452124,452290,452454,452651,452811,453042,453708,454269,454712,455068,455653,456386,457191,457740,458186,458437,458880,459191,459652,459873,460265,460791,461057,461389,461849,462189,462690,463245,463530,463655,463852,464153,464623,465082,465349,465662,465911,466147,466584,466980,467468,467933,468554,468790,468980,469247,469724,470115,470530,470530,473537,473757,473952,474111,474479,474872,475434,475636,475888,476135,476478,476869,476869,477158,477554,478007,478325,478759,479133,479520,479682,479997,480290,480592,480860,481080,481486,481770,481893,482017,482551,482876,483178,483463,483790,483936],\"type\":\"scatter\",\"xaxis\":\"x2\",\"yaxis\":\"y2\"}],                        {\"template\":{\"data\":{\"bar\":[{\"error_x\":{\"color\":\"#2a3f5f\"},\"error_y\":{\"color\":\"#2a3f5f\"},\"marker\":{\"line\":{\"color\":\"#E5ECF6\",\"width\":0.5},\"pattern\":{\"fillmode\":\"overlay\",\"size\":10,\"solidity\":0.2}},\"type\":\"bar\"}],\"barpolar\":[{\"marker\":{\"line\":{\"color\":\"#E5ECF6\",\"width\":0.5},\"pattern\":{\"fillmode\":\"overlay\",\"size\":10,\"solidity\":0.2}},\"type\":\"barpolar\"}],\"carpet\":[{\"aaxis\":{\"endlinecolor\":\"#2a3f5f\",\"gridcolor\":\"white\",\"linecolor\":\"white\",\"minorgridcolor\":\"white\",\"startlinecolor\":\"#2a3f5f\"},\"baxis\":{\"endlinecolor\":\"#2a3f5f\",\"gridcolor\":\"white\",\"linecolor\":\"white\",\"minorgridcolor\":\"white\",\"startlinecolor\":\"#2a3f5f\"},\"type\":\"carpet\"}],\"choropleth\":[{\"colorbar\":{\"outlinewidth\":0,\"ticks\":\"\"},\"type\":\"choropleth\"}],\"contour\":[{\"colorbar\":{\"outlinewidth\":0,\"ticks\":\"\"},\"colorscale\":[[0.0,\"#0d0887\"],[0.1111111111111111,\"#46039f\"],[0.2222222222222222,\"#7201a8\"],[0.3333333333333333,\"#9c179e\"],[0.4444444444444444,\"#bd3786\"],[0.5555555555555556,\"#d8576b\"],[0.6666666666666666,\"#ed7953\"],[0.7777777777777778,\"#fb9f3a\"],[0.8888888888888888,\"#fdca26\"],[1.0,\"#f0f921\"]],\"type\":\"contour\"}],\"contourcarpet\":[{\"colorbar\":{\"outlinewidth\":0,\"ticks\":\"\"},\"type\":\"contourcarpet\"}],\"heatmap\":[{\"colorbar\":{\"outlinewidth\":0,\"ticks\":\"\"},\"colorscale\":[[0.0,\"#0d0887\"],[0.1111111111111111,\"#46039f\"],[0.2222222222222222,\"#7201a8\"],[0.3333333333333333,\"#9c179e\"],[0.4444444444444444,\"#bd3786\"],[0.5555555555555556,\"#d8576b\"],[0.6666666666666666,\"#ed7953\"],[0.7777777777777778,\"#fb9f3a\"],[0.8888888888888888,\"#fdca26\"],[1.0,\"#f0f921\"]],\"type\":\"heatmap\"}],\"heatmapgl\":[{\"colorbar\":{\"outlinewidth\":0,\"ticks\":\"\"},\"colorscale\":[[0.0,\"#0d0887\"],[0.1111111111111111,\"#46039f\"],[0.2222222222222222,\"#7201a8\"],[0.3333333333333333,\"#9c179e\"],[0.4444444444444444,\"#bd3786\"],[0.5555555555555556,\"#d8576b\"],[0.6666666666666666,\"#ed7953\"],[0.7777777777777778,\"#fb9f3a\"],[0.8888888888888888,\"#fdca26\"],[1.0,\"#f0f921\"]],\"type\":\"heatmapgl\"}],\"histogram\":[{\"marker\":{\"pattern\":{\"fillmode\":\"overlay\",\"size\":10,\"solidity\":0.2}},\"type\":\"histogram\"}],\"histogram2d\":[{\"colorbar\":{\"outlinewidth\":0,\"ticks\":\"\"},\"colorscale\":[[0.0,\"#0d0887\"],[0.1111111111111111,\"#46039f\"],[0.2222222222222222,\"#7201a8\"],[0.3333333333333333,\"#9c179e\"],[0.4444444444444444,\"#bd3786\"],[0.5555555555555556,\"#d8576b\"],[0.6666666666666666,\"#ed7953\"],[0.7777777777777778,\"#fb9f3a\"],[0.8888888888888888,\"#fdca26\"],[1.0,\"#f0f921\"]],\"type\":\"histogram2d\"}],\"histogram2dcontour\":[{\"colorbar\":{\"outlinewidth\":0,\"ticks\":\"\"},\"colorscale\":[[0.0,\"#0d0887\"],[0.1111111111111111,\"#46039f\"],[0.2222222222222222,\"#7201a8\"],[0.3333333333333333,\"#9c179e\"],[0.4444444444444444,\"#bd3786\"],[0.5555555555555556,\"#d8576b\"],[0.6666666666666666,\"#ed7953\"],[0.7777777777777778,\"#fb9f3a\"],[0.8888888888888888,\"#fdca26\"],[1.0,\"#f0f921\"]],\"type\":\"histogram2dcontour\"}],\"mesh3d\":[{\"colorbar\":{\"outlinewidth\":0,\"ticks\":\"\"},\"type\":\"mesh3d\"}],\"parcoords\":[{\"line\":{\"colorbar\":{\"outlinewidth\":0,\"ticks\":\"\"}},\"type\":\"parcoords\"}],\"pie\":[{\"automargin\":true,\"type\":\"pie\"}],\"scatter\":[{\"marker\":{\"colorbar\":{\"outlinewidth\":0,\"ticks\":\"\"}},\"type\":\"scatter\"}],\"scatter3d\":[{\"line\":{\"colorbar\":{\"outlinewidth\":0,\"ticks\":\"\"}},\"marker\":{\"colorbar\":{\"outlinewidth\":0,\"ticks\":\"\"}},\"type\":\"scatter3d\"}],\"scattercarpet\":[{\"marker\":{\"colorbar\":{\"outlinewidth\":0,\"ticks\":\"\"}},\"type\":\"scattercarpet\"}],\"scattergeo\":[{\"marker\":{\"colorbar\":{\"outlinewidth\":0,\"ticks\":\"\"}},\"type\":\"scattergeo\"}],\"scattergl\":[{\"marker\":{\"colorbar\":{\"outlinewidth\":0,\"ticks\":\"\"}},\"type\":\"scattergl\"}],\"scattermapbox\":[{\"marker\":{\"colorbar\":{\"outlinewidth\":0,\"ticks\":\"\"}},\"type\":\"scattermapbox\"}],\"scatterpolar\":[{\"marker\":{\"colorbar\":{\"outlinewidth\":0,\"ticks\":\"\"}},\"type\":\"scatterpolar\"}],\"scatterpolargl\":[{\"marker\":{\"colorbar\":{\"outlinewidth\":0,\"ticks\":\"\"}},\"type\":\"scatterpolargl\"}],\"scatterternary\":[{\"marker\":{\"colorbar\":{\"outlinewidth\":0,\"ticks\":\"\"}},\"type\":\"scatterternary\"}],\"surface\":[{\"colorbar\":{\"outlinewidth\":0,\"ticks\":\"\"},\"colorscale\":[[0.0,\"#0d0887\"],[0.1111111111111111,\"#46039f\"],[0.2222222222222222,\"#7201a8\"],[0.3333333333333333,\"#9c179e\"],[0.4444444444444444,\"#bd3786\"],[0.5555555555555556,\"#d8576b\"],[0.6666666666666666,\"#ed7953\"],[0.7777777777777778,\"#fb9f3a\"],[0.8888888888888888,\"#fdca26\"],[1.0,\"#f0f921\"]],\"type\":\"surface\"}],\"table\":[{\"cells\":{\"fill\":{\"color\":\"#EBF0F8\"},\"line\":{\"color\":\"white\"}},\"header\":{\"fill\":{\"color\":\"#C8D4E3\"},\"line\":{\"color\":\"white\"}},\"type\":\"table\"}]},\"layout\":{\"annotationdefaults\":{\"arrowcolor\":\"#2a3f5f\",\"arrowhead\":0,\"arrowwidth\":1},\"autotypenumbers\":\"strict\",\"coloraxis\":{\"colorbar\":{\"outlinewidth\":0,\"ticks\":\"\"}},\"colorscale\":{\"diverging\":[[0,\"#8e0152\"],[0.1,\"#c51b7d\"],[0.2,\"#de77ae\"],[0.3,\"#f1b6da\"],[0.4,\"#fde0ef\"],[0.5,\"#f7f7f7\"],[0.6,\"#e6f5d0\"],[0.7,\"#b8e186\"],[0.8,\"#7fbc41\"],[0.9,\"#4d9221\"],[1,\"#276419\"]],\"sequential\":[[0.0,\"#0d0887\"],[0.1111111111111111,\"#46039f\"],[0.2222222222222222,\"#7201a8\"],[0.3333333333333333,\"#9c179e\"],[0.4444444444444444,\"#bd3786\"],[0.5555555555555556,\"#d8576b\"],[0.6666666666666666,\"#ed7953\"],[0.7777777777777778,\"#fb9f3a\"],[0.8888888888888888,\"#fdca26\"],[1.0,\"#f0f921\"]],\"sequentialminus\":[[0.0,\"#0d0887\"],[0.1111111111111111,\"#46039f\"],[0.2222222222222222,\"#7201a8\"],[0.3333333333333333,\"#9c179e\"],[0.4444444444444444,\"#bd3786\"],[0.5555555555555556,\"#d8576b\"],[0.6666666666666666,\"#ed7953\"],[0.7777777777777778,\"#fb9f3a\"],[0.8888888888888888,\"#fdca26\"],[1.0,\"#f0f921\"]]},\"colorway\":[\"#636efa\",\"#EF553B\",\"#00cc96\",\"#ab63fa\",\"#FFA15A\",\"#19d3f3\",\"#FF6692\",\"#B6E880\",\"#FF97FF\",\"#FECB52\"],\"font\":{\"color\":\"#2a3f5f\"},\"geo\":{\"bgcolor\":\"white\",\"lakecolor\":\"white\",\"landcolor\":\"#E5ECF6\",\"showlakes\":true,\"showland\":true,\"subunitcolor\":\"white\"},\"hoverlabel\":{\"align\":\"left\"},\"hovermode\":\"closest\",\"mapbox\":{\"style\":\"light\"},\"paper_bgcolor\":\"white\",\"plot_bgcolor\":\"#E5ECF6\",\"polar\":{\"angularaxis\":{\"gridcolor\":\"white\",\"linecolor\":\"white\",\"ticks\":\"\"},\"bgcolor\":\"#E5ECF6\",\"radialaxis\":{\"gridcolor\":\"white\",\"linecolor\":\"white\",\"ticks\":\"\"}},\"scene\":{\"xaxis\":{\"backgroundcolor\":\"#E5ECF6\",\"gridcolor\":\"white\",\"gridwidth\":2,\"linecolor\":\"white\",\"showbackground\":true,\"ticks\":\"\",\"zerolinecolor\":\"white\"},\"yaxis\":{\"backgroundcolor\":\"#E5ECF6\",\"gridcolor\":\"white\",\"gridwidth\":2,\"linecolor\":\"white\",\"showbackground\":true,\"ticks\":\"\",\"zerolinecolor\":\"white\"},\"zaxis\":{\"backgroundcolor\":\"#E5ECF6\",\"gridcolor\":\"white\",\"gridwidth\":2,\"linecolor\":\"white\",\"showbackground\":true,\"ticks\":\"\",\"zerolinecolor\":\"white\"}},\"shapedefaults\":{\"line\":{\"color\":\"#2a3f5f\"}},\"ternary\":{\"aaxis\":{\"gridcolor\":\"white\",\"linecolor\":\"white\",\"ticks\":\"\"},\"baxis\":{\"gridcolor\":\"white\",\"linecolor\":\"white\",\"ticks\":\"\"},\"bgcolor\":\"#E5ECF6\",\"caxis\":{\"gridcolor\":\"white\",\"linecolor\":\"white\",\"ticks\":\"\"}},\"title\":{\"x\":0.05},\"xaxis\":{\"automargin\":true,\"gridcolor\":\"white\",\"linecolor\":\"white\",\"ticks\":\"\",\"title\":{\"standoff\":15},\"zerolinecolor\":\"white\",\"zerolinewidth\":2},\"yaxis\":{\"automargin\":true,\"gridcolor\":\"white\",\"linecolor\":\"white\",\"ticks\":\"\",\"title\":{\"standoff\":15},\"zerolinecolor\":\"white\",\"zerolinewidth\":2}}},\"xaxis\":{\"anchor\":\"y\",\"domain\":[0.0,0.45]},\"yaxis\":{\"anchor\":\"x\",\"domain\":[0.0,1.0]},\"xaxis2\":{\"anchor\":\"y2\",\"domain\":[0.55,1.0]},\"yaxis2\":{\"anchor\":\"x2\",\"domain\":[0.0,1.0]},\"annotations\":[{\"font\":{\"size\":16},\"showarrow\":false,\"text\":\"Covid-19 Cases in India\",\"x\":0.225,\"xanchor\":\"center\",\"xref\":\"paper\",\"y\":1.0,\"yanchor\":\"bottom\",\"yref\":\"paper\"},{\"font\":{\"size\":16},\"showarrow\":false,\"text\":\"Covid-19 Deaths in India\",\"x\":0.775,\"xanchor\":\"center\",\"xref\":\"paper\",\"y\":1.0,\"yanchor\":\"bottom\",\"yref\":\"paper\"}]},                        {\"responsive\": true}                    ).then(function(){\n",
       "                            \n",
       "var gd = document.getElementById('82743b0a-88fa-4f86-bdff-8be19ecfcf3c');\n",
       "var x = new MutationObserver(function (mutations, observer) {{\n",
       "        var display = window.getComputedStyle(gd).display;\n",
       "        if (!display || display === 'none') {{\n",
       "            console.log([gd, 'removed!']);\n",
       "            Plotly.purge(gd);\n",
       "            observer.disconnect();\n",
       "        }}\n",
       "}});\n",
       "\n",
       "// Listen for the removal of the full notebook cells\n",
       "var notebookContainer = gd.closest('#notebook-container');\n",
       "if (notebookContainer) {{\n",
       "    x.observe(notebookContainer, {childList: true});\n",
       "}}\n",
       "\n",
       "// Listen for the clearing of the current output cell\n",
       "var outputEl = gd.closest('.output');\n",
       "if (outputEl) {{\n",
       "    x.observe(outputEl, {childList: true});\n",
       "}}\n",
       "\n",
       "                        })                };                });            </script>        </div>"
      ]
     },
     "metadata": {},
     "output_type": "display_data"
    }
   ],
   "source": [
    "#Cumulative Confirmed and Death Cases\n",
    "#https://stackoverflow.com/questions/46750462/subplot-with-plotly-with-multiple-traces\n",
    "from plotly.subplots import make_subplots\n",
    "import plotly.graph_objects as go\n",
    "import plotly\n",
    "\n",
    "# Make subplots using 2 columns and 1 row\n",
    "fig = plotly.subplots.make_subplots(rows=1, cols=2,subplot_titles=(\"Covid-19 Cases in India\",\"Covid-19 Deaths in India\"))\n",
    "#fig = go.FigureWidget()\n",
    "\n",
    "# Define details for each plot using add_trace \n",
    "fig.add_trace(go.Scatter(x=India.Date, y=India.Confirmed,\n",
    "                         line=dict(color='blue', width=2), mode = 'lines+markers',\n",
    "                        name = 'Confirmed', fill='tozeroy'),row=1,col=1)\n",
    "fig.add_trace(go.Scatter(x=India.Date, y=India.Deaths,\n",
    "                         line=dict(color='red', width=2), mode = 'lines+markers',\n",
    "                        name = 'Deaths', fill='tonexty'),row=1,col=2)\n",
    "\n",
    "#fig.for_each_trace(lambda trace: trace.update(fillcolor = trace.line.color))\n",
    "\n",
    "fig.show() "
   ]
  },
  {
   "cell_type": "code",
   "execution_count": 32,
   "metadata": {},
   "outputs": [
    {
     "data": {
      "application/vnd.plotly.v1+json": {
       "config": {
        "plotlyServerURL": "https://plot.ly"
       },
       "data": [
        {
         "fill": "tozeroy",
         "line": {
          "color": "blue",
          "width": 2
         },
         "mode": "lines+markers",
         "name": "Confirmed",
         "type": "scatter",
         "x": [
          "1/22/20",
          "1/23/20",
          "1/24/20",
          "1/25/20",
          "1/26/20",
          "1/27/20",
          "1/28/20",
          "1/29/20",
          "1/30/20",
          "1/31/20",
          "2/1/20",
          "2/2/20",
          "2/3/20",
          "2/4/20",
          "2/5/20",
          "2/6/20",
          "2/7/20",
          "2/8/20",
          "2/9/20",
          "2/10/20",
          "2/11/20",
          "2/12/20",
          "2/13/20",
          "2/14/20",
          "2/15/20",
          "2/16/20",
          "2/17/20",
          "2/18/20",
          "2/19/20",
          "2/20/20",
          "2/21/20",
          "2/22/20",
          "2/23/20",
          "2/24/20",
          "2/25/20",
          "2/26/20",
          "2/27/20",
          "2/28/20",
          "2/29/20",
          "3/1/20",
          "3/2/20",
          "3/3/20",
          "3/4/20",
          "3/5/20",
          "3/6/20",
          "3/7/20",
          "3/8/20",
          "3/9/20",
          "3/10/20",
          "3/11/20",
          "3/12/20",
          "3/13/20",
          "3/14/20",
          "3/15/20",
          "3/16/20",
          "3/17/20",
          "3/18/20",
          "3/19/20",
          "3/20/20",
          "3/21/20",
          "3/22/20",
          "3/23/20",
          "3/24/20",
          "3/25/20",
          "3/26/20",
          "3/27/20",
          "3/28/20",
          "3/29/20",
          "3/30/20",
          "3/31/20",
          "4/1/20",
          "4/2/20",
          "4/3/20",
          "4/4/20",
          "4/5/20",
          "4/6/20",
          "4/7/20",
          "4/8/20",
          "4/9/20",
          "4/10/20",
          "4/11/20",
          "4/12/20",
          "4/13/20",
          "4/14/20",
          "4/15/20",
          "4/16/20",
          "4/17/20",
          "4/18/20",
          "4/19/20",
          "4/20/20",
          "4/21/20",
          "4/22/20",
          "4/23/20",
          "4/24/20",
          "4/25/20",
          "4/26/20",
          "4/27/20",
          "4/28/20",
          "4/29/20",
          "4/30/20",
          "5/1/20",
          "5/2/20",
          "5/3/20",
          "5/4/20",
          "5/5/20",
          "5/6/20",
          "5/7/20",
          "5/8/20",
          "5/9/20",
          "5/10/20",
          "5/11/20",
          "5/12/20",
          "5/13/20",
          "5/14/20",
          "5/15/20",
          "5/16/20",
          "5/17/20",
          "5/18/20",
          "5/19/20",
          "5/20/20",
          "5/21/20",
          "5/22/20",
          "5/23/20",
          "5/24/20",
          "5/25/20",
          "5/26/20",
          "5/27/20",
          "5/28/20",
          "5/29/20",
          "5/30/20",
          "5/31/20",
          "6/1/20",
          "6/2/20",
          "6/3/20",
          "6/4/20",
          "6/5/20",
          "6/6/20",
          "6/7/20",
          "6/8/20",
          "6/9/20",
          "6/10/20",
          "6/11/20",
          "6/12/20",
          "6/13/20",
          "6/14/20",
          "6/15/20",
          "6/16/20",
          "6/17/20",
          "6/18/20",
          "6/19/20",
          "6/20/20",
          "6/21/20",
          "6/22/20",
          "6/23/20",
          "6/24/20",
          "6/25/20",
          "6/26/20",
          "6/27/20",
          "6/28/20",
          "6/29/20",
          "6/30/20",
          "7/1/20",
          "7/2/20",
          "7/3/20",
          "7/4/20",
          "7/5/20",
          "7/6/20",
          "7/7/20",
          "7/8/20",
          "7/9/20",
          "7/10/20",
          "7/11/20",
          "7/12/20",
          "7/13/20",
          "7/14/20",
          "7/15/20",
          "7/16/20",
          "7/17/20",
          "7/18/20",
          "7/19/20",
          "7/20/20",
          "7/21/20",
          "7/22/20",
          "7/23/20",
          "7/24/20",
          "7/25/20",
          "7/26/20",
          "7/27/20",
          "7/28/20",
          "7/29/20",
          "7/30/20",
          "7/31/20",
          "8/1/20",
          "8/2/20",
          "8/3/20",
          "8/4/20",
          "8/5/20",
          "8/6/20",
          "8/7/20",
          "8/8/20",
          "8/9/20",
          "8/10/20",
          "8/11/20",
          "8/12/20",
          "8/13/20",
          "8/14/20",
          "8/15/20",
          "8/16/20",
          "8/17/20",
          "8/18/20",
          "8/19/20",
          "8/20/20",
          "8/21/20",
          "8/22/20",
          "8/23/20",
          "8/24/20",
          "8/25/20",
          "8/26/20",
          "8/27/20",
          "8/28/20",
          "8/29/20",
          "8/30/20",
          "8/31/20",
          "9/1/20",
          "9/2/20",
          "9/3/20",
          "9/4/20",
          "9/5/20",
          "9/6/20",
          "9/7/20",
          "9/8/20",
          "9/9/20",
          "9/10/20",
          "9/11/20",
          "9/12/20",
          "9/13/20",
          "9/14/20",
          "9/15/20",
          "9/16/20",
          "9/17/20",
          "9/18/20",
          "9/19/20",
          "9/20/20",
          "9/21/20",
          "9/22/20",
          "9/23/20",
          "9/24/20",
          "9/25/20",
          "9/26/20",
          "9/27/20",
          "9/28/20",
          "9/29/20",
          "9/30/20",
          "10/1/20",
          "10/2/20",
          "10/3/20",
          "10/4/20",
          "10/5/20",
          "10/6/20",
          "10/7/20",
          "10/8/20",
          "10/9/20",
          "10/10/20",
          "10/11/20",
          "10/12/20",
          "10/13/20",
          "10/14/20",
          "10/15/20",
          "10/16/20",
          "10/17/20",
          "10/18/20",
          "10/19/20",
          "10/20/20",
          "10/21/20",
          "10/22/20",
          "10/23/20",
          "10/24/20",
          "10/25/20",
          "10/26/20",
          "10/27/20",
          "10/28/20",
          "10/29/20",
          "10/30/20",
          "10/31/20",
          "11/1/20",
          "11/2/20",
          "11/3/20",
          "11/4/20",
          "11/5/20",
          "11/6/20",
          "11/7/20",
          "11/8/20",
          "11/9/20",
          "11/10/20",
          "11/11/20",
          "11/12/20",
          "11/13/20",
          "11/14/20",
          "11/15/20",
          "11/16/20",
          "11/17/20",
          "11/18/20",
          "11/19/20",
          "11/20/20",
          "11/21/20",
          "11/22/20",
          "11/23/20",
          "11/24/20",
          "11/25/20",
          "11/26/20",
          "11/27/20",
          "11/28/20",
          "11/29/20",
          "11/30/20",
          "12/1/20",
          "12/2/20",
          "12/3/20",
          "12/4/20",
          "12/5/20",
          "12/6/20",
          "12/7/20",
          "12/8/20",
          "12/9/20",
          "12/10/20",
          "12/11/20",
          "12/12/20",
          "12/13/20",
          "12/14/20",
          "12/15/20",
          "12/16/20",
          "12/17/20",
          "12/18/20",
          "12/19/20",
          "12/20/20",
          "12/21/20",
          "12/22/20",
          "12/23/20",
          "12/24/20",
          "12/25/20",
          "12/26/20",
          "12/27/20",
          "12/28/20",
          "12/29/20",
          "12/30/20",
          "12/31/20",
          "1/1/21",
          "1/2/21",
          "1/3/21",
          "1/4/21",
          "1/5/21",
          "1/6/21",
          "1/7/21",
          "1/8/21",
          "1/9/21",
          "1/10/21",
          "1/11/21",
          "1/12/21",
          "1/13/21",
          "1/14/21",
          "1/15/21",
          "1/16/21",
          "1/17/21",
          "1/18/21",
          "1/19/21",
          "1/20/21",
          "1/21/21",
          "1/22/21",
          "1/23/21",
          "1/24/21",
          "1/25/21",
          "1/26/21",
          "1/27/21",
          "1/28/21",
          "1/29/21",
          "1/30/21",
          "1/31/21",
          "2/1/21",
          "2/2/21",
          "2/3/21",
          "2/4/21",
          "2/5/21",
          "2/6/21",
          "2/7/21",
          "2/8/21",
          "2/9/21",
          "2/10/21",
          "2/11/21",
          "2/12/21",
          "2/13/21",
          "2/14/21",
          "2/15/21",
          "2/16/21",
          "2/17/21",
          "2/18/21",
          "2/19/21",
          "2/20/21",
          "2/21/21",
          "2/22/21",
          "2/23/21",
          "2/24/21",
          "2/25/21",
          "2/26/21",
          "2/27/21",
          "2/28/21",
          "3/1/21",
          "3/2/21",
          "3/3/21",
          "3/4/21",
          "3/5/21",
          "3/6/21",
          "3/7/21",
          "3/8/21",
          "3/9/21",
          "3/10/21",
          "3/11/21",
          "3/12/21",
          "3/13/21",
          "3/14/21",
          "3/15/21",
          "3/16/21",
          "3/17/21",
          "3/18/21",
          "3/19/21",
          "3/20/21",
          "3/21/21",
          "3/22/21",
          "3/23/21",
          "3/24/21",
          "3/25/21",
          "3/26/21",
          "3/27/21",
          "3/28/21",
          "3/29/21",
          "3/30/21",
          "3/31/21",
          "4/1/21",
          "4/2/21",
          "4/3/21",
          "4/4/21",
          "4/5/21",
          "4/6/21",
          "4/7/21",
          "4/8/21",
          "4/9/21",
          "4/10/21",
          "4/11/21",
          "4/12/21",
          "4/13/21",
          "4/14/21",
          "4/15/21",
          "4/16/21",
          "4/17/21",
          "4/18/21",
          "4/19/21",
          "4/20/21",
          "4/21/21",
          "4/22/21",
          "4/23/21",
          "4/24/21",
          "4/25/21",
          "4/26/21",
          "4/27/21",
          "4/28/21",
          "4/29/21",
          "4/30/21",
          "5/1/21",
          "5/2/21",
          "5/3/21",
          "5/4/21",
          "5/5/21",
          "5/6/21",
          "5/7/21",
          "5/8/21",
          "5/9/21",
          "5/10/21",
          "5/11/21",
          "5/12/21",
          "5/13/21",
          "5/14/21",
          "5/15/21",
          "5/16/21",
          "5/17/21",
          "5/18/21",
          "5/19/21",
          "5/20/21",
          "5/21/21",
          "5/22/21",
          "5/23/21",
          "5/24/21",
          "5/25/21",
          "5/26/21",
          "5/27/21",
          "5/28/21",
          "5/29/21",
          "5/30/21",
          "5/31/21",
          "6/1/21",
          "6/2/21",
          "6/3/21",
          "6/4/21",
          "6/5/21",
          "6/6/21",
          "6/7/21",
          "6/8/21",
          "6/9/21",
          "6/10/21",
          "6/11/21",
          "6/12/21",
          "6/13/21",
          "6/14/21",
          "6/15/21",
          "6/16/21",
          "6/17/21",
          "6/18/21",
          "6/19/21",
          "6/20/21",
          "6/21/21",
          "6/22/21",
          "6/23/21",
          "6/24/21",
          "6/25/21",
          "6/26/21",
          "6/27/21",
          "6/28/21",
          "6/29/21",
          "6/30/21",
          "7/1/21",
          "7/2/21",
          "7/3/21",
          "7/4/21",
          "7/5/21",
          "7/6/21",
          "7/7/21",
          "7/8/21",
          "7/9/21",
          "7/10/21",
          "7/11/21",
          "7/12/21",
          "7/13/21",
          "7/14/21",
          "7/15/21",
          "7/16/21",
          "7/17/21",
          "7/18/21",
          "7/19/21",
          "7/20/21",
          "7/21/21",
          "7/22/21",
          "7/23/21",
          "7/24/21",
          "7/25/21",
          "7/26/21",
          "7/27/21",
          "7/28/21",
          "7/29/21",
          "7/30/21",
          "7/31/21",
          "8/1/21",
          "8/2/21",
          "8/3/21",
          "8/4/21",
          "8/5/21",
          "8/6/21",
          "8/7/21",
          "8/8/21",
          "8/9/21",
          "8/10/21",
          "8/11/21",
          "8/12/21",
          "8/13/21",
          "8/14/21",
          "8/15/21",
          "8/16/21",
          "8/17/21",
          "8/18/21",
          "8/19/21",
          "8/20/21",
          "8/21/21",
          "8/22/21",
          "8/23/21",
          "8/24/21",
          "8/25/21",
          "8/26/21",
          "8/27/21",
          "8/28/21",
          "8/29/21",
          "8/30/21",
          "8/31/21",
          "9/1/21",
          "9/2/21",
          "9/3/21",
          "9/4/21",
          "9/5/21",
          "9/6/21",
          "9/7/21",
          "9/8/21",
          "9/9/21",
          "9/10/21",
          "9/11/21",
          "9/12/21",
          "9/13/21",
          "9/14/21",
          "9/15/21",
          "9/16/21",
          "9/17/21",
          "9/18/21",
          "9/19/21",
          "9/20/21",
          "9/21/21",
          "9/22/21",
          "9/23/21",
          "9/24/21",
          "9/25/21",
          "9/26/21",
          "9/27/21",
          "9/28/21",
          "9/29/21",
          "9/30/21",
          "10/1/21",
          "10/2/21",
          "10/3/21",
          "10/4/21",
          "10/5/21",
          "10/6/21",
          "10/7/21",
          "10/8/21",
          "10/9/21",
          "10/10/21",
          "10/11/21",
          "10/12/21",
          "10/13/21",
          "10/14/21",
          "10/15/21",
          "10/16/21",
          "10/17/21",
          "10/18/21",
          "10/19/21",
          "10/20/21",
          "10/21/21",
          "10/22/21",
          "10/23/21",
          "10/24/21",
          "10/25/21",
          "10/26/21",
          "10/27/21",
          "10/28/21",
          "10/29/21",
          "10/30/21",
          "10/31/21",
          "11/1/21",
          "11/2/21",
          "11/3/21",
          "11/4/21",
          "11/5/21",
          "11/6/21",
          "11/7/21",
          "11/8/21",
          "11/9/21",
          "11/10/21",
          "11/11/21",
          "11/12/21",
          "11/13/21",
          "11/14/21",
          "11/15/21",
          "11/16/21",
          "11/17/21",
          "11/18/21",
          "11/19/21",
          "11/20/21",
          "11/21/21",
          "11/22/21",
          "11/23/21",
          "11/24/21",
          "11/25/21",
          "11/26/21",
          "11/27/21",
          "11/28/21",
          "11/29/21",
          "11/30/21",
          "12/1/21",
          "12/2/21",
          "12/3/21",
          "12/4/21",
          "12/5/21",
          "12/6/21",
          "12/7/21",
          "12/8/21",
          "12/9/21",
          "12/10/21",
          "12/11/21",
          "12/12/21",
          "12/13/21",
          "12/14/21",
          "12/15/21",
          "12/16/21",
          "12/17/21",
          "12/18/21",
          "12/19/21",
          "12/20/21",
          "12/21/21",
          "12/22/21",
          "12/23/21",
          "12/24/21",
          "12/25/21",
          "12/26/21",
          "12/27/21",
          "12/28/21",
          "12/29/21",
          "12/30/21",
          "12/31/21",
          "1/1/22",
          "1/2/22",
          "1/3/22",
          "1/4/22",
          "1/5/22",
          "1/6/22",
          "1/7/22",
          "1/8/22",
          "1/9/22"
         ],
         "xaxis": "x",
         "y": [
          1,
          1,
          2,
          2,
          5,
          5,
          5,
          6,
          6,
          8,
          8,
          8,
          11,
          11,
          11,
          12,
          12,
          12,
          12,
          12,
          13,
          13,
          14,
          14,
          14,
          14,
          14,
          14,
          14,
          14,
          16,
          16,
          16,
          16,
          16,
          16,
          17,
          17,
          25,
          32,
          55,
          74,
          107,
          184,
          237,
          403,
          519,
          594,
          782,
          1147,
          1586,
          2219,
          2978,
          3212,
          4679,
          6512,
          9169,
          13663,
          20030,
          26025,
          34944,
          46096,
          56714,
          68841,
          86662,
          105253,
          127417,
          143544,
          165698,
          192079,
          224311,
          256541,
          289023,
          321199,
          350803,
          382661,
          413004,
          444153,
          480596,
          514943,
          544221,
          571093,
          598017,
          626412,
          652312,
          682268,
          715425,
          743419,
          769342,
          799022,
          825192,
          854611,
          887379,
          919531,
          950525,
          977072,
          1000822,
          1025512,
          1051732,
          1080974,
          1115995,
          1143819,
          1168311,
          1192024,
          1216353,
          1240616,
          1268273,
          1295546,
          1319992,
          1339140,
          1358174,
          1381017,
          1401593,
          1428125,
          1452946,
          1477179,
          1495977,
          1518111,
          1538872,
          1561595,
          1587401,
          1611020,
          1631999,
          1652590,
          1671243,
          1689819,
          1709226,
          1730872,
          1755607,
          1779691,
          1799145,
          1816110,
          1837393,
          1857164,
          1878887,
          1903888,
          1925186,
          1943599,
          1960103,
          1978195,
          1999263,
          2021646,
          2046972,
          2071944,
          2091364,
          2109886,
          2133725,
          2161114,
          2189429,
          2221126,
          2253739,
          2279928,
          2310901,
          2348123,
          2384355,
          2424724,
          2470934,
          2512671,
          2554533,
          2594175,
          2642487,
          2694054,
          2750402,
          2803022,
          2851968,
          2902406,
          2945207,
          3004064,
          3063787,
          3124662,
          3192440,
          3253811,
          3314495,
          3372055,
          3438494,
          3506460,
          3582499,
          3654750,
          3718547,
          3779996,
          3840208,
          3905790,
          3976175,
          4044432,
          4118581,
          4185580,
          4241736,
          4297906,
          4361600,
          4429975,
          4497941,
          4566409,
          4625541,
          4671547,
          4716831,
          4771805,
          4827688,
          4884919,
          4945982,
          5001158,
          5049295,
          5094516,
          5147116,
          5199918,
          5251447,
          5316520,
          5366176,
          5406280,
          5441942,
          5484847,
          5529110,
          5573699,
          5622488,
          5666892,
          5701458,
          5736339,
          5777266,
          5821222,
          5867210,
          5913745,
          5957986,
          5992914,
          6025528,
          6068471,
          6109113,
          6153466,
          6204155,
          6247664,
          6278714,
          6302612,
          6328301,
          6362838,
          6398736,
          6446756,
          6488444,
          6522977,
          6556144,
          6595687,
          6634561,
          6679812,
          6729034,
          6771773,
          6810690,
          6861284,
          6901445,
          6940297,
          6987772,
          7036320,
          7081250,
          7119404,
          7151853,
          7195367,
          7234446,
          7280542,
          7335672,
          7386331,
          7420963,
          7459194,
          7504413,
          7555630,
          7614545,
          7671295,
          7727035,
          7773867,
          7815599,
          7866690,
          7925992,
          7991106,
          8060228,
          8117920,
          8168910,
          8235649,
          8297346,
          8360667,
          8436892,
          8519370,
          8603098,
          8665765,
          8731741,
          8808902,
          8888170,
          8979389,
          9079480,
          9170216,
          9275861,
          9359194,
          9487028,
          9591203,
          9721219,
          9849031,
          9981155,
          10096510,
          10214556,
          10354827,
          10504315,
          10666081,
          10847207,
          11019491,
          11157404,
          11316582,
          11480745,
          11654158,
          11846057,
          12047493,
          12229527,
          12376174,
          12548120,
          12725355,
          12910248,
          13028634,
          13231655,
          13390411,
          13531251,
          13686941,
          13880976,
          14085477,
          14309633,
          14544946,
          14766853,
          14946070,
          15136219,
          15367167,
          15588302,
          15822975,
          16063231,
          16285394,
          16472093,
          16672720,
          16894766,
          17135451,
          17372674,
          17621628,
          17824198,
          18009542,
          18199258,
          18401221,
          18626999,
          18831882,
          18940567,
          19159558,
          19314549,
          19481232,
          19682925,
          19905861,
          20163970,
          20330227,
          20626102,
          20829750,
          21011395,
          21242637,
          21499503,
          21788111,
          22091570,
          22351100,
          22564473,
          22775307,
          22994207,
          23224047,
          23462087,
          23709113,
          23917745,
          24094337,
          24235417,
          24399702,
          24585092,
          24777418,
          24966945,
          25141808,
          25279642,
          25421759,
          25566539,
          25721674,
          25889109,
          26054956,
          26200639,
          26316068,
          26445435,
          26559307,
          26682418,
          26806343,
          26938002,
          27048955,
          27140838,
          27225846,
          27320441,
          27416273,
          27522576,
          27622605,
          27711459,
          27777808,
          27832451,
          27891055,
          27961123,
          28032479,
          28110664,
          28184071,
          28241967,
          28296804,
          28368817,
          28443828,
          28521885,
          28600619,
          28666684,
          28718551,
          28773039,
          28830105,
          28897254,
          28965786,
          29032651,
          29091946,
          29134012,
          29178325,
          29234131,
          29292364,
          29355260,
          29417333,
          29470925,
          29509777,
          29564544,
          29618925,
          29678413,
          29738938,
          29801003,
          29858024,
          29893002,
          29942482,
          29995780,
          30082900,
          30150876,
          30228412,
          30290635,
          30336989,
          30404286,
          30465723,
          30532694,
          30611880,
          30683729,
          30747975,
          30784624,
          30857777,
          30918920,
          30993906,
          31074158,
          31158495,
          31227789,
          31274232,
          31341189,
          31420333,
          31495649,
          31569559,
          31649936,
          31704097,
          31746979,
          31813153,
          31874073,
          31937897,
          32004887,
          32067266,
          32121459,
          32155433,
          32201093,
          32251826,
          32306919,
          32365832,
          32423991,
          32470651,
          32500713,
          32549484,
          32590283,
          32635987,
          32682942,
          32731048,
          32765567,
          32787667,
          32822819,
          32856880,
          32893073,
          32931602,
          32973465,
          33003075,
          33020516,
          33048287,
          33076084,
          33105592,
          33135436,
          33163988,
          33184562,
          33198034,
          33222478,
          33245568,
          33270101,
          33297250,
          33319173,
          33331791,
          33338967,
          33345078,
          33366574,
          33383769,
          33402873,
          33420007,
          33434612,
          33440437,
          33455266,
          33468347,
          33487336,
          33501700,
          33526534,
          33535298,
          33540562,
          33552708,
          33563608,
          33576185,
          33586808,
          33608173,
          33616854,
          33621439,
          33632775,
          33643640,
          33656798,
          33670460,
          33694795,
          33703667,
          33708049,
          33722356,
          33729139,
          33745462,
          33759839,
          33789218,
          33794117,
          33798017,
          33806926,
          33830000,
          33852633,
          33871661,
          33919152,
          33927934,
          33939289,
          33972340,
          33998731,
          34031900,
          34061808,
          34139287,
          34151681,
          34171876,
          34223268,
          34263837,
          34314421,
          34369086,
          34488481,
          34514592,
          34540730,
          34625819,
          34694558,
          34763997,
          34843287,
          35031358,
          35065578,
          35109418,
          35227169,
          35330370,
          35427042,
          35537965,
          35793262,
          35844735,
          35874059,
          36049960,
          36171170,
          36327428,
          36469625,
          36699472,
          36751301,
          36795656,
          37010426,
          37163247,
          37321875,
          37479114,
          37724800,
          37794718,
          37833727,
          38065136,
          38222263,
          38391696,
          38576143,
          38819722,
          38885039,
          38930590,
          39182598,
          39353876,
          39556129,
          39731212,
          39966805,
          40040910,
          40088245,
          40168844,
          40423642,
          40606673,
          40766792,
          40995001,
          41068628,
          41111533,
          41356059,
          41502249,
          41672834,
          41828348,
          42037222,
          42101504,
          42143705,
          42332114,
          42453773,
          42586906,
          42713380,
          42890288,
          42944318,
          42993948,
          43158614,
          43269993,
          43393412,
          43503368,
          43656245,
          43701232,
          43743010,
          43894279,
          43991658,
          44102249,
          44202795,
          44329272,
          44362110,
          44399737,
          44500378,
          44606753,
          44728329,
          44814707,
          44924503,
          44960864,
          44992796,
          45094996,
          45175944,
          45267400,
          45346299,
          45441451,
          45471592,
          45489817,
          45604119,
          45672830,
          45773731,
          45851283,
          45944868,
          45977440,
          46009140,
          46123123,
          46194240,
          46278817,
          46360647,
          46456734,
          46490792,
          46526688,
          46637293,
          46717616,
          46812637,
          46869801,
          47014700,
          47057256,
          47088349,
          47225196,
          47313041,
          47424773,
          47535123,
          47660990,
          47704692,
          47743623,
          47891329,
          47984051,
          48095699,
          48130504,
          48182594,
          48208087,
          48250235,
          48443028,
          48560513,
          48699124,
          48837564,
          48991223,
          49054845,
          49104646,
          49284432,
          49397736,
          49548608,
          49670822,
          49841560,
          49896323,
          49946891,
          50134176,
          50250247,
          50394344,
          50536051,
          50728954,
          50805383,
          50892242,
          51134328,
          51313310,
          51554991,
          51824224,
          52043686,
          52100740,
          52283306,
          52827635,
          53182318,
          53679320,
          54269867,
          54742382,
          54858824,
          55106998,
          56278376,
          57077565,
          57700873,
          58487697,
          59388529,
          59767221,
          60072321
         ],
         "yaxis": "y"
        },
        {
         "fill": "tonexty",
         "line": {
          "color": "red",
          "width": 2
         },
         "mode": "lines+markers",
         "name": "Deaths",
         "type": "scatter",
         "x": [
          "1/22/20",
          "1/23/20",
          "1/24/20",
          "1/25/20",
          "1/26/20",
          "1/27/20",
          "1/28/20",
          "1/29/20",
          "1/30/20",
          "1/31/20",
          "2/1/20",
          "2/2/20",
          "2/3/20",
          "2/4/20",
          "2/5/20",
          "2/6/20",
          "2/7/20",
          "2/8/20",
          "2/9/20",
          "2/10/20",
          "2/11/20",
          "2/12/20",
          "2/13/20",
          "2/14/20",
          "2/15/20",
          "2/16/20",
          "2/17/20",
          "2/18/20",
          "2/19/20",
          "2/20/20",
          "2/21/20",
          "2/22/20",
          "2/23/20",
          "2/24/20",
          "2/25/20",
          "2/26/20",
          "2/27/20",
          "2/28/20",
          "2/29/20",
          "3/1/20",
          "3/2/20",
          "3/3/20",
          "3/4/20",
          "3/5/20",
          "3/6/20",
          "3/7/20",
          "3/8/20",
          "3/9/20",
          "3/10/20",
          "3/11/20",
          "3/12/20",
          "3/13/20",
          "3/14/20",
          "3/15/20",
          "3/16/20",
          "3/17/20",
          "3/18/20",
          "3/19/20",
          "3/20/20",
          "3/21/20",
          "3/22/20",
          "3/23/20",
          "3/24/20",
          "3/25/20",
          "3/26/20",
          "3/27/20",
          "3/28/20",
          "3/29/20",
          "3/30/20",
          "3/31/20",
          "4/1/20",
          "4/2/20",
          "4/3/20",
          "4/4/20",
          "4/5/20",
          "4/6/20",
          "4/7/20",
          "4/8/20",
          "4/9/20",
          "4/10/20",
          "4/11/20",
          "4/12/20",
          "4/13/20",
          "4/14/20",
          "4/15/20",
          "4/16/20",
          "4/17/20",
          "4/18/20",
          "4/19/20",
          "4/20/20",
          "4/21/20",
          "4/22/20",
          "4/23/20",
          "4/24/20",
          "4/25/20",
          "4/26/20",
          "4/27/20",
          "4/28/20",
          "4/29/20",
          "4/30/20",
          "5/1/20",
          "5/2/20",
          "5/3/20",
          "5/4/20",
          "5/5/20",
          "5/6/20",
          "5/7/20",
          "5/8/20",
          "5/9/20",
          "5/10/20",
          "5/11/20",
          "5/12/20",
          "5/13/20",
          "5/14/20",
          "5/15/20",
          "5/16/20",
          "5/17/20",
          "5/18/20",
          "5/19/20",
          "5/20/20",
          "5/21/20",
          "5/22/20",
          "5/23/20",
          "5/24/20",
          "5/25/20",
          "5/26/20",
          "5/27/20",
          "5/28/20",
          "5/29/20",
          "5/30/20",
          "5/31/20",
          "6/1/20",
          "6/2/20",
          "6/3/20",
          "6/4/20",
          "6/5/20",
          "6/6/20",
          "6/7/20",
          "6/8/20",
          "6/9/20",
          "6/10/20",
          "6/11/20",
          "6/12/20",
          "6/13/20",
          "6/14/20",
          "6/15/20",
          "6/16/20",
          "6/17/20",
          "6/18/20",
          "6/19/20",
          "6/20/20",
          "6/21/20",
          "6/22/20",
          "6/23/20",
          "6/24/20",
          "6/25/20",
          "6/26/20",
          "6/27/20",
          "6/28/20",
          "6/29/20",
          "6/30/20",
          "7/1/20",
          "7/2/20",
          "7/3/20",
          "7/4/20",
          "7/5/20",
          "7/6/20",
          "7/7/20",
          "7/8/20",
          "7/9/20",
          "7/10/20",
          "7/11/20",
          "7/12/20",
          "7/13/20",
          "7/14/20",
          "7/15/20",
          "7/16/20",
          "7/17/20",
          "7/18/20",
          "7/19/20",
          "7/20/20",
          "7/21/20",
          "7/22/20",
          "7/23/20",
          "7/24/20",
          "7/25/20",
          "7/26/20",
          "7/27/20",
          "7/28/20",
          "7/29/20",
          "7/30/20",
          "7/31/20",
          "8/1/20",
          "8/2/20",
          "8/3/20",
          "8/4/20",
          "8/5/20",
          "8/6/20",
          "8/7/20",
          "8/8/20",
          "8/9/20",
          "8/10/20",
          "8/11/20",
          "8/12/20",
          "8/13/20",
          "8/14/20",
          "8/15/20",
          "8/16/20",
          "8/17/20",
          "8/18/20",
          "8/19/20",
          "8/20/20",
          "8/21/20",
          "8/22/20",
          "8/23/20",
          "8/24/20",
          "8/25/20",
          "8/26/20",
          "8/27/20",
          "8/28/20",
          "8/29/20",
          "8/30/20",
          "8/31/20",
          "9/1/20",
          "9/2/20",
          "9/3/20",
          "9/4/20",
          "9/5/20",
          "9/6/20",
          "9/7/20",
          "9/8/20",
          "9/9/20",
          "9/10/20",
          "9/11/20",
          "9/12/20",
          "9/13/20",
          "9/14/20",
          "9/15/20",
          "9/16/20",
          "9/17/20",
          "9/18/20",
          "9/19/20",
          "9/20/20",
          "9/21/20",
          "9/22/20",
          "9/23/20",
          "9/24/20",
          "9/25/20",
          "9/26/20",
          "9/27/20",
          "9/28/20",
          "9/29/20",
          "9/30/20",
          "10/1/20",
          "10/2/20",
          "10/3/20",
          "10/4/20",
          "10/5/20",
          "10/6/20",
          "10/7/20",
          "10/8/20",
          "10/9/20",
          "10/10/20",
          "10/11/20",
          "10/12/20",
          "10/13/20",
          "10/14/20",
          "10/15/20",
          "10/16/20",
          "10/17/20",
          "10/18/20",
          "10/19/20",
          "10/20/20",
          "10/21/20",
          "10/22/20",
          "10/23/20",
          "10/24/20",
          "10/25/20",
          "10/26/20",
          "10/27/20",
          "10/28/20",
          "10/29/20",
          "10/30/20",
          "10/31/20",
          "11/1/20",
          "11/2/20",
          "11/3/20",
          "11/4/20",
          "11/5/20",
          "11/6/20",
          "11/7/20",
          "11/8/20",
          "11/9/20",
          "11/10/20",
          "11/11/20",
          "11/12/20",
          "11/13/20",
          "11/14/20",
          "11/15/20",
          "11/16/20",
          "11/17/20",
          "11/18/20",
          "11/19/20",
          "11/20/20",
          "11/21/20",
          "11/22/20",
          "11/23/20",
          "11/24/20",
          "11/25/20",
          "11/26/20",
          "11/27/20",
          "11/28/20",
          "11/29/20",
          "11/30/20",
          "12/1/20",
          "12/2/20",
          "12/3/20",
          "12/4/20",
          "12/5/20",
          "12/6/20",
          "12/7/20",
          "12/8/20",
          "12/9/20",
          "12/10/20",
          "12/11/20",
          "12/12/20",
          "12/13/20",
          "12/14/20",
          "12/15/20",
          "12/16/20",
          "12/17/20",
          "12/18/20",
          "12/19/20",
          "12/20/20",
          "12/21/20",
          "12/22/20",
          "12/23/20",
          "12/24/20",
          "12/25/20",
          "12/26/20",
          "12/27/20",
          "12/28/20",
          "12/29/20",
          "12/30/20",
          "12/31/20",
          "1/1/21",
          "1/2/21",
          "1/3/21",
          "1/4/21",
          "1/5/21",
          "1/6/21",
          "1/7/21",
          "1/8/21",
          "1/9/21",
          "1/10/21",
          "1/11/21",
          "1/12/21",
          "1/13/21",
          "1/14/21",
          "1/15/21",
          "1/16/21",
          "1/17/21",
          "1/18/21",
          "1/19/21",
          "1/20/21",
          "1/21/21",
          "1/22/21",
          "1/23/21",
          "1/24/21",
          "1/25/21",
          "1/26/21",
          "1/27/21",
          "1/28/21",
          "1/29/21",
          "1/30/21",
          "1/31/21",
          "2/1/21",
          "2/2/21",
          "2/3/21",
          "2/4/21",
          "2/5/21",
          "2/6/21",
          "2/7/21",
          "2/8/21",
          "2/9/21",
          "2/10/21",
          "2/11/21",
          "2/12/21",
          "2/13/21",
          "2/14/21",
          "2/15/21",
          "2/16/21",
          "2/17/21",
          "2/18/21",
          "2/19/21",
          "2/20/21",
          "2/21/21",
          "2/22/21",
          "2/23/21",
          "2/24/21",
          "2/25/21",
          "2/26/21",
          "2/27/21",
          "2/28/21",
          "3/1/21",
          "3/2/21",
          "3/3/21",
          "3/4/21",
          "3/5/21",
          "3/6/21",
          "3/7/21",
          "3/8/21",
          "3/9/21",
          "3/10/21",
          "3/11/21",
          "3/12/21",
          "3/13/21",
          "3/14/21",
          "3/15/21",
          "3/16/21",
          "3/17/21",
          "3/18/21",
          "3/19/21",
          "3/20/21",
          "3/21/21",
          "3/22/21",
          "3/23/21",
          "3/24/21",
          "3/25/21",
          "3/26/21",
          "3/27/21",
          "3/28/21",
          "3/29/21",
          "3/30/21",
          "3/31/21",
          "4/1/21",
          "4/2/21",
          "4/3/21",
          "4/4/21",
          "4/5/21",
          "4/6/21",
          "4/7/21",
          "4/8/21",
          "4/9/21",
          "4/10/21",
          "4/11/21",
          "4/12/21",
          "4/13/21",
          "4/14/21",
          "4/15/21",
          "4/16/21",
          "4/17/21",
          "4/18/21",
          "4/19/21",
          "4/20/21",
          "4/21/21",
          "4/22/21",
          "4/23/21",
          "4/24/21",
          "4/25/21",
          "4/26/21",
          "4/27/21",
          "4/28/21",
          "4/29/21",
          "4/30/21",
          "5/1/21",
          "5/2/21",
          "5/3/21",
          "5/4/21",
          "5/5/21",
          "5/6/21",
          "5/7/21",
          "5/8/21",
          "5/9/21",
          "5/10/21",
          "5/11/21",
          "5/12/21",
          "5/13/21",
          "5/14/21",
          "5/15/21",
          "5/16/21",
          "5/17/21",
          "5/18/21",
          "5/19/21",
          "5/20/21",
          "5/21/21",
          "5/22/21",
          "5/23/21",
          "5/24/21",
          "5/25/21",
          "5/26/21",
          "5/27/21",
          "5/28/21",
          "5/29/21",
          "5/30/21",
          "5/31/21",
          "6/1/21",
          "6/2/21",
          "6/3/21",
          "6/4/21",
          "6/5/21",
          "6/6/21",
          "6/7/21",
          "6/8/21",
          "6/9/21",
          "6/10/21",
          "6/11/21",
          "6/12/21",
          "6/13/21",
          "6/14/21",
          "6/15/21",
          "6/16/21",
          "6/17/21",
          "6/18/21",
          "6/19/21",
          "6/20/21",
          "6/21/21",
          "6/22/21",
          "6/23/21",
          "6/24/21",
          "6/25/21",
          "6/26/21",
          "6/27/21",
          "6/28/21",
          "6/29/21",
          "6/30/21",
          "7/1/21",
          "7/2/21",
          "7/3/21",
          "7/4/21",
          "7/5/21",
          "7/6/21",
          "7/7/21",
          "7/8/21",
          "7/9/21",
          "7/10/21",
          "7/11/21",
          "7/12/21",
          "7/13/21",
          "7/14/21",
          "7/15/21",
          "7/16/21",
          "7/17/21",
          "7/18/21",
          "7/19/21",
          "7/20/21",
          "7/21/21",
          "7/22/21",
          "7/23/21",
          "7/24/21",
          "7/25/21",
          "7/26/21",
          "7/27/21",
          "7/28/21",
          "7/29/21",
          "7/30/21",
          "7/31/21",
          "8/1/21",
          "8/2/21",
          "8/3/21",
          "8/4/21",
          "8/5/21",
          "8/6/21",
          "8/7/21",
          "8/8/21",
          "8/9/21",
          "8/10/21",
          "8/11/21",
          "8/12/21",
          "8/13/21",
          "8/14/21",
          "8/15/21",
          "8/16/21",
          "8/17/21",
          "8/18/21",
          "8/19/21",
          "8/20/21",
          "8/21/21",
          "8/22/21",
          "8/23/21",
          "8/24/21",
          "8/25/21",
          "8/26/21",
          "8/27/21",
          "8/28/21",
          "8/29/21",
          "8/30/21",
          "8/31/21",
          "9/1/21",
          "9/2/21",
          "9/3/21",
          "9/4/21",
          "9/5/21",
          "9/6/21",
          "9/7/21",
          "9/8/21",
          "9/9/21",
          "9/10/21",
          "9/11/21",
          "9/12/21",
          "9/13/21",
          "9/14/21",
          "9/15/21",
          "9/16/21",
          "9/17/21",
          "9/18/21",
          "9/19/21",
          "9/20/21",
          "9/21/21",
          "9/22/21",
          "9/23/21",
          "9/24/21",
          "9/25/21",
          "9/26/21",
          "9/27/21",
          "9/28/21",
          "9/29/21",
          "9/30/21",
          "10/1/21",
          "10/2/21",
          "10/3/21",
          "10/4/21",
          "10/5/21",
          "10/6/21",
          "10/7/21",
          "10/8/21",
          "10/9/21",
          "10/10/21",
          "10/11/21",
          "10/12/21",
          "10/13/21",
          "10/14/21",
          "10/15/21",
          "10/16/21",
          "10/17/21",
          "10/18/21",
          "10/19/21",
          "10/20/21",
          "10/21/21",
          "10/22/21",
          "10/23/21",
          "10/24/21",
          "10/25/21",
          "10/26/21",
          "10/27/21",
          "10/28/21",
          "10/29/21",
          "10/30/21",
          "10/31/21",
          "11/1/21",
          "11/2/21",
          "11/3/21",
          "11/4/21",
          "11/5/21",
          "11/6/21",
          "11/7/21",
          "11/8/21",
          "11/9/21",
          "11/10/21",
          "11/11/21",
          "11/12/21",
          "11/13/21",
          "11/14/21",
          "11/15/21",
          "11/16/21",
          "11/17/21",
          "11/18/21",
          "11/19/21",
          "11/20/21",
          "11/21/21",
          "11/22/21",
          "11/23/21",
          "11/24/21",
          "11/25/21",
          "11/26/21",
          "11/27/21",
          "11/28/21",
          "11/29/21",
          "11/30/21",
          "12/1/21",
          "12/2/21",
          "12/3/21",
          "12/4/21",
          "12/5/21",
          "12/6/21",
          "12/7/21",
          "12/8/21",
          "12/9/21",
          "12/10/21",
          "12/11/21",
          "12/12/21",
          "12/13/21",
          "12/14/21",
          "12/15/21",
          "12/16/21",
          "12/17/21",
          "12/18/21",
          "12/19/21",
          "12/20/21",
          "12/21/21",
          "12/22/21",
          "12/23/21",
          "12/24/21",
          "12/25/21",
          "12/26/21",
          "12/27/21",
          "12/28/21",
          "12/29/21",
          "12/30/21",
          "12/31/21",
          "1/1/22",
          "1/2/22",
          "1/3/22",
          "1/4/22",
          "1/5/22",
          "1/6/22",
          "1/7/22",
          "1/8/22",
          "1/9/22"
         ],
         "xaxis": "x2",
         "y": [
          0,
          0,
          0,
          0,
          0,
          0,
          0,
          0,
          0,
          0,
          0,
          0,
          0,
          0,
          0,
          0,
          0,
          0,
          0,
          0,
          0,
          0,
          0,
          0,
          0,
          0,
          0,
          0,
          0,
          0,
          0,
          0,
          0,
          0,
          0,
          0,
          0,
          0,
          1,
          1,
          6,
          7,
          11,
          12,
          14,
          17,
          21,
          22,
          28,
          33,
          43,
          51,
          58,
          70,
          97,
          134,
          194,
          266,
          372,
          475,
          603,
          790,
          1033,
          1366,
          1783,
          2305,
          3018,
          3573,
          4280,
          5359,
          6635,
          8146,
          9566,
          11172,
          12790,
          14523,
          17099,
          19250,
          21463,
          23649,
          25790,
          27679,
          29657,
          32132,
          34719,
          36908,
          39007,
          40951,
          42934,
          45179,
          47662,
          50119,
          52543,
          54712,
          56444,
          57850,
          59330,
          61571,
          63962,
          66154,
          68063,
          69804,
          71007,
          72365,
          74586,
          76905,
          78822,
          80594,
          82058,
          83059,
          84093,
          85684,
          87416,
          89197,
          90862,
          92060,
          92891,
          94110,
          95555,
          97052,
          98246,
          99450,
          100524,
          101165,
          101762,
          102418,
          103896,
          104985,
          106103,
          107053,
          107674,
          108445,
          109428,
          110437,
          111443,
          112321,
          112958,
          113415,
          113926,
          114840,
          115716,
          116532,
          117355,
          118077,
          118424,
          118825,
          119612,
          120360,
          121058,
          121684,
          122257,
          122574,
          122952,
          123691,
          124446,
          124994,
          125620,
          126116,
          126437,
          126806,
          127365,
          128063,
          128802,
          129479,
          129781,
          130103,
          130474,
          131616,
          132457,
          133488,
          134304,
          135058,
          135531,
          135966,
          136862,
          137827,
          138788,
          139703,
          140585,
          141061,
          141590,
          142686,
          143911,
          144997,
          146091,
          147060,
          147594,
          148694,
          149916,
          151356,
          152645,
          153828,
          154947,
          155404,
          155963,
          157218,
          158626,
          159807,
          161098,
          162185,
          162757,
          163274,
          164371,
          165886,
          166924,
          168233,
          169278,
          169886,
          170355,
          171578,
          172865,
          173972,
          175073,
          176052,
          176547,
          176989,
          178223,
          179401,
          180516,
          181457,
          182440,
          182889,
          183383,
          184444,
          185496,
          186527,
          187506,
          188326,
          188766,
          189086,
          189554,
          190659,
          191583,
          192739,
          193488,
          193888,
          194311,
          195513,
          196468,
          197334,
          198294,
          199005,
          199275,
          199688,
          200723,
          201788,
          202695,
          203610,
          204393,
          204705,
          205046,
          205948,
          206880,
          207796,
          208637,
          209323,
          209692,
          210174,
          210875,
          211794,
          212776,
          213749,
          214409,
          214876,
          215274,
          216051,
          217050,
          217895,
          218838,
          219658,
          220121,
          220611,
          221548,
          222722,
          223579,
          224529,
          225492,
          225950,
          226472,
          227483,
          228517,
          229520,
          230584,
          231515,
          232018,
          232575,
          234172,
          235292,
          236457,
          237671,
          238788,
          239351,
          240110,
          241526,
          242969,
          244173,
          245373,
          246746,
          247534,
          248348,
          250057,
          251999,
          254041,
          255990,
          257628,
          258689,
          259762,
          261898,
          264151,
          265554,
          267106,
          268464,
          269515,
          270827,
          273379,
          276209,
          279178,
          281790,
          284180,
          285583,
          287142,
          289725,
          292906,
          295892,
          299273,
          301806,
          303465,
          305114,
          308101,
          311834,
          315284,
          318226,
          320980,
          322749,
          324546,
          327844,
          331223,
          334145,
          335650,
          337563,
          339001,
          340878,
          344494,
          348427,
          351754,
          353948,
          356547,
          357984,
          359964,
          363568,
          367492,
          371520,
          375709,
          378965,
          381069,
          382905,
          387294,
          391312,
          395104,
          398916,
          402493,
          404484,
          406049,
          408450,
          412892,
          417029,
          420806,
          424362,
          426220,
          427989,
          431971,
          436099,
          439949,
          443548,
          446449,
          448406,
          450183,
          453716,
          457633,
          461517,
          465191,
          467928,
          469405,
          470856,
          473921,
          477328,
          480519,
          483403,
          485699,
          486897,
          487846,
          489490,
          491936,
          494543,
          497078,
          499011,
          500238,
          501439,
          503715,
          506979,
          509409,
          511564,
          513085,
          514192,
          515511,
          517444,
          520025,
          521977,
          523700,
          525231,
          525942,
          526647,
          528431,
          530003,
          531577,
          533008,
          534005,
          534537,
          535237,
          536498,
          537715,
          539363,
          540409,
          541182,
          541972,
          542505,
          543450,
          544985,
          546343,
          547511,
          548325,
          548775,
          549429,
          550354,
          551455,
          552578,
          553479,
          554250,
          554553,
          555010,
          555874,
          558468,
          559511,
          560421,
          561145,
          561430,
          561882,
          562759,
          563695,
          564600,
          565461,
          566169,
          566498,
          567002,
          567849,
          568738,
          569683,
          570445,
          571209,
          571503,
          571976,
          572652,
          573647,
          574540,
          575348,
          576093,
          576414,
          576887,
          577799,
          578612,
          579439,
          580263,
          580898,
          581137,
          581536,
          582236,
          583034,
          583824,
          584456,
          584985,
          585249,
          585643,
          586423,
          587107,
          587791,
          588426,
          588910,
          589100,
          589538,
          590185,
          591162,
          592517,
          593057,
          593407,
          593556,
          593718,
          594357,
          594921,
          595560,
          596087,
          596668,
          596832,
          597138,
          597469,
          597949,
          598367,
          598906,
          599182,
          599286,
          599466,
          599800,
          600183,
          600500,
          601114,
          601293,
          601366,
          601624,
          601975,
          602374,
          602714,
          603237,
          603397,
          603470,
          603616,
          603953,
          604248,
          604534,
          604969,
          605059,
          605100,
          605224,
          605524,
          605845,
          606093,
          606555,
          606641,
          606755,
          606986,
          607345,
          607677,
          608003,
          608361,
          608436,
          608614,
          608801,
          609093,
          609445,
          609739,
          610299,
          610421,
          610508,
          610768,
          611218,
          611599,
          611926,
          612799,
          612958,
          613174,
          613526,
          614110,
          614643,
          615147,
          616301,
          616553,
          616671,
          617169,
          618034,
          618813,
          619825,
          620881,
          621143,
          621328,
          622365,
          623393,
          624568,
          626349,
          627828,
          628380,
          628559,
          629920,
          631342,
          632832,
          635053,
          636776,
          637409,
          637698,
          639431,
          640874,
          642908,
          645861,
          647829,
          648464,
          648860,
          649459,
          651538,
          653817,
          657101,
          659531,
          660323,
          660659,
          662814,
          664741,
          667507,
          670968,
          673414,
          674378,
          674725,
          677010,
          679365,
          682211,
          685478,
          687962,
          688752,
          689301,
          691605,
          694165,
          696778,
          699576,
          701712,
          702505,
          703004,
          704963,
          706870,
          709501,
          711980,
          713814,
          714236,
          714704,
          715806,
          718158,
          721383,
          723524,
          725350,
          725876,
          726328,
          728072,
          730209,
          733412,
          735400,
          737296,
          737835,
          738078,
          739492,
          741109,
          743185,
          745027,
          746763,
          747125,
          747358,
          748608,
          749893,
          751860,
          753067,
          755190,
          755651,
          755837,
          757051,
          758537,
          760219,
          761077,
          763567,
          764122,
          764312,
          765581,
          766921,
          768604,
          769930,
          771735,
          772181,
          772378,
          773612,
          774985,
          776730,
          777195,
          777561,
          777869,
          778086,
          780002,
          781523,
          783554,
          787440,
          789062,
          789740,
          790049,
          791391,
          793075,
          794886,
          796387,
          798229,
          798788,
          799070,
          800435,
          801912,
          804145,
          805339,
          807132,
          807701,
          807905,
          809389,
          811266,
          813312,
          816699,
          817294,
          817410,
          817512,
          819289,
          821584,
          823781,
          825193,
          825776,
          826043,
          826287,
          827975,
          830132,
          832118,
          833988,
          836603,
          837264,
          837594
         ],
         "yaxis": "y2"
        }
       ],
       "layout": {
        "annotations": [
         {
          "font": {
           "size": 16
          },
          "showarrow": false,
          "text": "Covid-19 Cases in US",
          "x": 0.225,
          "xanchor": "center",
          "xref": "paper",
          "y": 1,
          "yanchor": "bottom",
          "yref": "paper"
         },
         {
          "font": {
           "size": 16
          },
          "showarrow": false,
          "text": "Covid-19 Deaths in US",
          "x": 0.775,
          "xanchor": "center",
          "xref": "paper",
          "y": 1,
          "yanchor": "bottom",
          "yref": "paper"
         }
        ],
        "template": {
         "data": {
          "bar": [
           {
            "error_x": {
             "color": "#2a3f5f"
            },
            "error_y": {
             "color": "#2a3f5f"
            },
            "marker": {
             "line": {
              "color": "#E5ECF6",
              "width": 0.5
             },
             "pattern": {
              "fillmode": "overlay",
              "size": 10,
              "solidity": 0.2
             }
            },
            "type": "bar"
           }
          ],
          "barpolar": [
           {
            "marker": {
             "line": {
              "color": "#E5ECF6",
              "width": 0.5
             },
             "pattern": {
              "fillmode": "overlay",
              "size": 10,
              "solidity": 0.2
             }
            },
            "type": "barpolar"
           }
          ],
          "carpet": [
           {
            "aaxis": {
             "endlinecolor": "#2a3f5f",
             "gridcolor": "white",
             "linecolor": "white",
             "minorgridcolor": "white",
             "startlinecolor": "#2a3f5f"
            },
            "baxis": {
             "endlinecolor": "#2a3f5f",
             "gridcolor": "white",
             "linecolor": "white",
             "minorgridcolor": "white",
             "startlinecolor": "#2a3f5f"
            },
            "type": "carpet"
           }
          ],
          "choropleth": [
           {
            "colorbar": {
             "outlinewidth": 0,
             "ticks": ""
            },
            "type": "choropleth"
           }
          ],
          "contour": [
           {
            "colorbar": {
             "outlinewidth": 0,
             "ticks": ""
            },
            "colorscale": [
             [
              0,
              "#0d0887"
             ],
             [
              0.1111111111111111,
              "#46039f"
             ],
             [
              0.2222222222222222,
              "#7201a8"
             ],
             [
              0.3333333333333333,
              "#9c179e"
             ],
             [
              0.4444444444444444,
              "#bd3786"
             ],
             [
              0.5555555555555556,
              "#d8576b"
             ],
             [
              0.6666666666666666,
              "#ed7953"
             ],
             [
              0.7777777777777778,
              "#fb9f3a"
             ],
             [
              0.8888888888888888,
              "#fdca26"
             ],
             [
              1,
              "#f0f921"
             ]
            ],
            "type": "contour"
           }
          ],
          "contourcarpet": [
           {
            "colorbar": {
             "outlinewidth": 0,
             "ticks": ""
            },
            "type": "contourcarpet"
           }
          ],
          "heatmap": [
           {
            "colorbar": {
             "outlinewidth": 0,
             "ticks": ""
            },
            "colorscale": [
             [
              0,
              "#0d0887"
             ],
             [
              0.1111111111111111,
              "#46039f"
             ],
             [
              0.2222222222222222,
              "#7201a8"
             ],
             [
              0.3333333333333333,
              "#9c179e"
             ],
             [
              0.4444444444444444,
              "#bd3786"
             ],
             [
              0.5555555555555556,
              "#d8576b"
             ],
             [
              0.6666666666666666,
              "#ed7953"
             ],
             [
              0.7777777777777778,
              "#fb9f3a"
             ],
             [
              0.8888888888888888,
              "#fdca26"
             ],
             [
              1,
              "#f0f921"
             ]
            ],
            "type": "heatmap"
           }
          ],
          "heatmapgl": [
           {
            "colorbar": {
             "outlinewidth": 0,
             "ticks": ""
            },
            "colorscale": [
             [
              0,
              "#0d0887"
             ],
             [
              0.1111111111111111,
              "#46039f"
             ],
             [
              0.2222222222222222,
              "#7201a8"
             ],
             [
              0.3333333333333333,
              "#9c179e"
             ],
             [
              0.4444444444444444,
              "#bd3786"
             ],
             [
              0.5555555555555556,
              "#d8576b"
             ],
             [
              0.6666666666666666,
              "#ed7953"
             ],
             [
              0.7777777777777778,
              "#fb9f3a"
             ],
             [
              0.8888888888888888,
              "#fdca26"
             ],
             [
              1,
              "#f0f921"
             ]
            ],
            "type": "heatmapgl"
           }
          ],
          "histogram": [
           {
            "marker": {
             "pattern": {
              "fillmode": "overlay",
              "size": 10,
              "solidity": 0.2
             }
            },
            "type": "histogram"
           }
          ],
          "histogram2d": [
           {
            "colorbar": {
             "outlinewidth": 0,
             "ticks": ""
            },
            "colorscale": [
             [
              0,
              "#0d0887"
             ],
             [
              0.1111111111111111,
              "#46039f"
             ],
             [
              0.2222222222222222,
              "#7201a8"
             ],
             [
              0.3333333333333333,
              "#9c179e"
             ],
             [
              0.4444444444444444,
              "#bd3786"
             ],
             [
              0.5555555555555556,
              "#d8576b"
             ],
             [
              0.6666666666666666,
              "#ed7953"
             ],
             [
              0.7777777777777778,
              "#fb9f3a"
             ],
             [
              0.8888888888888888,
              "#fdca26"
             ],
             [
              1,
              "#f0f921"
             ]
            ],
            "type": "histogram2d"
           }
          ],
          "histogram2dcontour": [
           {
            "colorbar": {
             "outlinewidth": 0,
             "ticks": ""
            },
            "colorscale": [
             [
              0,
              "#0d0887"
             ],
             [
              0.1111111111111111,
              "#46039f"
             ],
             [
              0.2222222222222222,
              "#7201a8"
             ],
             [
              0.3333333333333333,
              "#9c179e"
             ],
             [
              0.4444444444444444,
              "#bd3786"
             ],
             [
              0.5555555555555556,
              "#d8576b"
             ],
             [
              0.6666666666666666,
              "#ed7953"
             ],
             [
              0.7777777777777778,
              "#fb9f3a"
             ],
             [
              0.8888888888888888,
              "#fdca26"
             ],
             [
              1,
              "#f0f921"
             ]
            ],
            "type": "histogram2dcontour"
           }
          ],
          "mesh3d": [
           {
            "colorbar": {
             "outlinewidth": 0,
             "ticks": ""
            },
            "type": "mesh3d"
           }
          ],
          "parcoords": [
           {
            "line": {
             "colorbar": {
              "outlinewidth": 0,
              "ticks": ""
             }
            },
            "type": "parcoords"
           }
          ],
          "pie": [
           {
            "automargin": true,
            "type": "pie"
           }
          ],
          "scatter": [
           {
            "marker": {
             "colorbar": {
              "outlinewidth": 0,
              "ticks": ""
             }
            },
            "type": "scatter"
           }
          ],
          "scatter3d": [
           {
            "line": {
             "colorbar": {
              "outlinewidth": 0,
              "ticks": ""
             }
            },
            "marker": {
             "colorbar": {
              "outlinewidth": 0,
              "ticks": ""
             }
            },
            "type": "scatter3d"
           }
          ],
          "scattercarpet": [
           {
            "marker": {
             "colorbar": {
              "outlinewidth": 0,
              "ticks": ""
             }
            },
            "type": "scattercarpet"
           }
          ],
          "scattergeo": [
           {
            "marker": {
             "colorbar": {
              "outlinewidth": 0,
              "ticks": ""
             }
            },
            "type": "scattergeo"
           }
          ],
          "scattergl": [
           {
            "marker": {
             "colorbar": {
              "outlinewidth": 0,
              "ticks": ""
             }
            },
            "type": "scattergl"
           }
          ],
          "scattermapbox": [
           {
            "marker": {
             "colorbar": {
              "outlinewidth": 0,
              "ticks": ""
             }
            },
            "type": "scattermapbox"
           }
          ],
          "scatterpolar": [
           {
            "marker": {
             "colorbar": {
              "outlinewidth": 0,
              "ticks": ""
             }
            },
            "type": "scatterpolar"
           }
          ],
          "scatterpolargl": [
           {
            "marker": {
             "colorbar": {
              "outlinewidth": 0,
              "ticks": ""
             }
            },
            "type": "scatterpolargl"
           }
          ],
          "scatterternary": [
           {
            "marker": {
             "colorbar": {
              "outlinewidth": 0,
              "ticks": ""
             }
            },
            "type": "scatterternary"
           }
          ],
          "surface": [
           {
            "colorbar": {
             "outlinewidth": 0,
             "ticks": ""
            },
            "colorscale": [
             [
              0,
              "#0d0887"
             ],
             [
              0.1111111111111111,
              "#46039f"
             ],
             [
              0.2222222222222222,
              "#7201a8"
             ],
             [
              0.3333333333333333,
              "#9c179e"
             ],
             [
              0.4444444444444444,
              "#bd3786"
             ],
             [
              0.5555555555555556,
              "#d8576b"
             ],
             [
              0.6666666666666666,
              "#ed7953"
             ],
             [
              0.7777777777777778,
              "#fb9f3a"
             ],
             [
              0.8888888888888888,
              "#fdca26"
             ],
             [
              1,
              "#f0f921"
             ]
            ],
            "type": "surface"
           }
          ],
          "table": [
           {
            "cells": {
             "fill": {
              "color": "#EBF0F8"
             },
             "line": {
              "color": "white"
             }
            },
            "header": {
             "fill": {
              "color": "#C8D4E3"
             },
             "line": {
              "color": "white"
             }
            },
            "type": "table"
           }
          ]
         },
         "layout": {
          "annotationdefaults": {
           "arrowcolor": "#2a3f5f",
           "arrowhead": 0,
           "arrowwidth": 1
          },
          "autotypenumbers": "strict",
          "coloraxis": {
           "colorbar": {
            "outlinewidth": 0,
            "ticks": ""
           }
          },
          "colorscale": {
           "diverging": [
            [
             0,
             "#8e0152"
            ],
            [
             0.1,
             "#c51b7d"
            ],
            [
             0.2,
             "#de77ae"
            ],
            [
             0.3,
             "#f1b6da"
            ],
            [
             0.4,
             "#fde0ef"
            ],
            [
             0.5,
             "#f7f7f7"
            ],
            [
             0.6,
             "#e6f5d0"
            ],
            [
             0.7,
             "#b8e186"
            ],
            [
             0.8,
             "#7fbc41"
            ],
            [
             0.9,
             "#4d9221"
            ],
            [
             1,
             "#276419"
            ]
           ],
           "sequential": [
            [
             0,
             "#0d0887"
            ],
            [
             0.1111111111111111,
             "#46039f"
            ],
            [
             0.2222222222222222,
             "#7201a8"
            ],
            [
             0.3333333333333333,
             "#9c179e"
            ],
            [
             0.4444444444444444,
             "#bd3786"
            ],
            [
             0.5555555555555556,
             "#d8576b"
            ],
            [
             0.6666666666666666,
             "#ed7953"
            ],
            [
             0.7777777777777778,
             "#fb9f3a"
            ],
            [
             0.8888888888888888,
             "#fdca26"
            ],
            [
             1,
             "#f0f921"
            ]
           ],
           "sequentialminus": [
            [
             0,
             "#0d0887"
            ],
            [
             0.1111111111111111,
             "#46039f"
            ],
            [
             0.2222222222222222,
             "#7201a8"
            ],
            [
             0.3333333333333333,
             "#9c179e"
            ],
            [
             0.4444444444444444,
             "#bd3786"
            ],
            [
             0.5555555555555556,
             "#d8576b"
            ],
            [
             0.6666666666666666,
             "#ed7953"
            ],
            [
             0.7777777777777778,
             "#fb9f3a"
            ],
            [
             0.8888888888888888,
             "#fdca26"
            ],
            [
             1,
             "#f0f921"
            ]
           ]
          },
          "colorway": [
           "#636efa",
           "#EF553B",
           "#00cc96",
           "#ab63fa",
           "#FFA15A",
           "#19d3f3",
           "#FF6692",
           "#B6E880",
           "#FF97FF",
           "#FECB52"
          ],
          "font": {
           "color": "#2a3f5f"
          },
          "geo": {
           "bgcolor": "white",
           "lakecolor": "white",
           "landcolor": "#E5ECF6",
           "showlakes": true,
           "showland": true,
           "subunitcolor": "white"
          },
          "hoverlabel": {
           "align": "left"
          },
          "hovermode": "closest",
          "mapbox": {
           "style": "light"
          },
          "paper_bgcolor": "white",
          "plot_bgcolor": "#E5ECF6",
          "polar": {
           "angularaxis": {
            "gridcolor": "white",
            "linecolor": "white",
            "ticks": ""
           },
           "bgcolor": "#E5ECF6",
           "radialaxis": {
            "gridcolor": "white",
            "linecolor": "white",
            "ticks": ""
           }
          },
          "scene": {
           "xaxis": {
            "backgroundcolor": "#E5ECF6",
            "gridcolor": "white",
            "gridwidth": 2,
            "linecolor": "white",
            "showbackground": true,
            "ticks": "",
            "zerolinecolor": "white"
           },
           "yaxis": {
            "backgroundcolor": "#E5ECF6",
            "gridcolor": "white",
            "gridwidth": 2,
            "linecolor": "white",
            "showbackground": true,
            "ticks": "",
            "zerolinecolor": "white"
           },
           "zaxis": {
            "backgroundcolor": "#E5ECF6",
            "gridcolor": "white",
            "gridwidth": 2,
            "linecolor": "white",
            "showbackground": true,
            "ticks": "",
            "zerolinecolor": "white"
           }
          },
          "shapedefaults": {
           "line": {
            "color": "#2a3f5f"
           }
          },
          "ternary": {
           "aaxis": {
            "gridcolor": "white",
            "linecolor": "white",
            "ticks": ""
           },
           "baxis": {
            "gridcolor": "white",
            "linecolor": "white",
            "ticks": ""
           },
           "bgcolor": "#E5ECF6",
           "caxis": {
            "gridcolor": "white",
            "linecolor": "white",
            "ticks": ""
           }
          },
          "title": {
           "x": 0.05
          },
          "xaxis": {
           "automargin": true,
           "gridcolor": "white",
           "linecolor": "white",
           "ticks": "",
           "title": {
            "standoff": 15
           },
           "zerolinecolor": "white",
           "zerolinewidth": 2
          },
          "yaxis": {
           "automargin": true,
           "gridcolor": "white",
           "linecolor": "white",
           "ticks": "",
           "title": {
            "standoff": 15
           },
           "zerolinecolor": "white",
           "zerolinewidth": 2
          }
         }
        },
        "xaxis": {
         "anchor": "y",
         "domain": [
          0,
          0.45
         ]
        },
        "xaxis2": {
         "anchor": "y2",
         "domain": [
          0.55,
          1
         ]
        },
        "yaxis": {
         "anchor": "x",
         "domain": [
          0,
          1
         ]
        },
        "yaxis2": {
         "anchor": "x2",
         "domain": [
          0,
          1
         ]
        }
       }
      },
      "text/html": [
       "<div>                            <div id=\"90176403-f80f-41dd-beb4-803e266d07e9\" class=\"plotly-graph-div\" style=\"height:525px; width:100%;\"></div>            <script type=\"text/javascript\">                require([\"plotly\"], function(Plotly) {                    window.PLOTLYENV=window.PLOTLYENV || {};                                    if (document.getElementById(\"90176403-f80f-41dd-beb4-803e266d07e9\")) {                    Plotly.newPlot(                        \"90176403-f80f-41dd-beb4-803e266d07e9\",                        [{\"fill\":\"tozeroy\",\"line\":{\"color\":\"blue\",\"width\":2},\"mode\":\"lines+markers\",\"name\":\"Confirmed\",\"x\":[\"1/22/20\",\"1/23/20\",\"1/24/20\",\"1/25/20\",\"1/26/20\",\"1/27/20\",\"1/28/20\",\"1/29/20\",\"1/30/20\",\"1/31/20\",\"2/1/20\",\"2/2/20\",\"2/3/20\",\"2/4/20\",\"2/5/20\",\"2/6/20\",\"2/7/20\",\"2/8/20\",\"2/9/20\",\"2/10/20\",\"2/11/20\",\"2/12/20\",\"2/13/20\",\"2/14/20\",\"2/15/20\",\"2/16/20\",\"2/17/20\",\"2/18/20\",\"2/19/20\",\"2/20/20\",\"2/21/20\",\"2/22/20\",\"2/23/20\",\"2/24/20\",\"2/25/20\",\"2/26/20\",\"2/27/20\",\"2/28/20\",\"2/29/20\",\"3/1/20\",\"3/2/20\",\"3/3/20\",\"3/4/20\",\"3/5/20\",\"3/6/20\",\"3/7/20\",\"3/8/20\",\"3/9/20\",\"3/10/20\",\"3/11/20\",\"3/12/20\",\"3/13/20\",\"3/14/20\",\"3/15/20\",\"3/16/20\",\"3/17/20\",\"3/18/20\",\"3/19/20\",\"3/20/20\",\"3/21/20\",\"3/22/20\",\"3/23/20\",\"3/24/20\",\"3/25/20\",\"3/26/20\",\"3/27/20\",\"3/28/20\",\"3/29/20\",\"3/30/20\",\"3/31/20\",\"4/1/20\",\"4/2/20\",\"4/3/20\",\"4/4/20\",\"4/5/20\",\"4/6/20\",\"4/7/20\",\"4/8/20\",\"4/9/20\",\"4/10/20\",\"4/11/20\",\"4/12/20\",\"4/13/20\",\"4/14/20\",\"4/15/20\",\"4/16/20\",\"4/17/20\",\"4/18/20\",\"4/19/20\",\"4/20/20\",\"4/21/20\",\"4/22/20\",\"4/23/20\",\"4/24/20\",\"4/25/20\",\"4/26/20\",\"4/27/20\",\"4/28/20\",\"4/29/20\",\"4/30/20\",\"5/1/20\",\"5/2/20\",\"5/3/20\",\"5/4/20\",\"5/5/20\",\"5/6/20\",\"5/7/20\",\"5/8/20\",\"5/9/20\",\"5/10/20\",\"5/11/20\",\"5/12/20\",\"5/13/20\",\"5/14/20\",\"5/15/20\",\"5/16/20\",\"5/17/20\",\"5/18/20\",\"5/19/20\",\"5/20/20\",\"5/21/20\",\"5/22/20\",\"5/23/20\",\"5/24/20\",\"5/25/20\",\"5/26/20\",\"5/27/20\",\"5/28/20\",\"5/29/20\",\"5/30/20\",\"5/31/20\",\"6/1/20\",\"6/2/20\",\"6/3/20\",\"6/4/20\",\"6/5/20\",\"6/6/20\",\"6/7/20\",\"6/8/20\",\"6/9/20\",\"6/10/20\",\"6/11/20\",\"6/12/20\",\"6/13/20\",\"6/14/20\",\"6/15/20\",\"6/16/20\",\"6/17/20\",\"6/18/20\",\"6/19/20\",\"6/20/20\",\"6/21/20\",\"6/22/20\",\"6/23/20\",\"6/24/20\",\"6/25/20\",\"6/26/20\",\"6/27/20\",\"6/28/20\",\"6/29/20\",\"6/30/20\",\"7/1/20\",\"7/2/20\",\"7/3/20\",\"7/4/20\",\"7/5/20\",\"7/6/20\",\"7/7/20\",\"7/8/20\",\"7/9/20\",\"7/10/20\",\"7/11/20\",\"7/12/20\",\"7/13/20\",\"7/14/20\",\"7/15/20\",\"7/16/20\",\"7/17/20\",\"7/18/20\",\"7/19/20\",\"7/20/20\",\"7/21/20\",\"7/22/20\",\"7/23/20\",\"7/24/20\",\"7/25/20\",\"7/26/20\",\"7/27/20\",\"7/28/20\",\"7/29/20\",\"7/30/20\",\"7/31/20\",\"8/1/20\",\"8/2/20\",\"8/3/20\",\"8/4/20\",\"8/5/20\",\"8/6/20\",\"8/7/20\",\"8/8/20\",\"8/9/20\",\"8/10/20\",\"8/11/20\",\"8/12/20\",\"8/13/20\",\"8/14/20\",\"8/15/20\",\"8/16/20\",\"8/17/20\",\"8/18/20\",\"8/19/20\",\"8/20/20\",\"8/21/20\",\"8/22/20\",\"8/23/20\",\"8/24/20\",\"8/25/20\",\"8/26/20\",\"8/27/20\",\"8/28/20\",\"8/29/20\",\"8/30/20\",\"8/31/20\",\"9/1/20\",\"9/2/20\",\"9/3/20\",\"9/4/20\",\"9/5/20\",\"9/6/20\",\"9/7/20\",\"9/8/20\",\"9/9/20\",\"9/10/20\",\"9/11/20\",\"9/12/20\",\"9/13/20\",\"9/14/20\",\"9/15/20\",\"9/16/20\",\"9/17/20\",\"9/18/20\",\"9/19/20\",\"9/20/20\",\"9/21/20\",\"9/22/20\",\"9/23/20\",\"9/24/20\",\"9/25/20\",\"9/26/20\",\"9/27/20\",\"9/28/20\",\"9/29/20\",\"9/30/20\",\"10/1/20\",\"10/2/20\",\"10/3/20\",\"10/4/20\",\"10/5/20\",\"10/6/20\",\"10/7/20\",\"10/8/20\",\"10/9/20\",\"10/10/20\",\"10/11/20\",\"10/12/20\",\"10/13/20\",\"10/14/20\",\"10/15/20\",\"10/16/20\",\"10/17/20\",\"10/18/20\",\"10/19/20\",\"10/20/20\",\"10/21/20\",\"10/22/20\",\"10/23/20\",\"10/24/20\",\"10/25/20\",\"10/26/20\",\"10/27/20\",\"10/28/20\",\"10/29/20\",\"10/30/20\",\"10/31/20\",\"11/1/20\",\"11/2/20\",\"11/3/20\",\"11/4/20\",\"11/5/20\",\"11/6/20\",\"11/7/20\",\"11/8/20\",\"11/9/20\",\"11/10/20\",\"11/11/20\",\"11/12/20\",\"11/13/20\",\"11/14/20\",\"11/15/20\",\"11/16/20\",\"11/17/20\",\"11/18/20\",\"11/19/20\",\"11/20/20\",\"11/21/20\",\"11/22/20\",\"11/23/20\",\"11/24/20\",\"11/25/20\",\"11/26/20\",\"11/27/20\",\"11/28/20\",\"11/29/20\",\"11/30/20\",\"12/1/20\",\"12/2/20\",\"12/3/20\",\"12/4/20\",\"12/5/20\",\"12/6/20\",\"12/7/20\",\"12/8/20\",\"12/9/20\",\"12/10/20\",\"12/11/20\",\"12/12/20\",\"12/13/20\",\"12/14/20\",\"12/15/20\",\"12/16/20\",\"12/17/20\",\"12/18/20\",\"12/19/20\",\"12/20/20\",\"12/21/20\",\"12/22/20\",\"12/23/20\",\"12/24/20\",\"12/25/20\",\"12/26/20\",\"12/27/20\",\"12/28/20\",\"12/29/20\",\"12/30/20\",\"12/31/20\",\"1/1/21\",\"1/2/21\",\"1/3/21\",\"1/4/21\",\"1/5/21\",\"1/6/21\",\"1/7/21\",\"1/8/21\",\"1/9/21\",\"1/10/21\",\"1/11/21\",\"1/12/21\",\"1/13/21\",\"1/14/21\",\"1/15/21\",\"1/16/21\",\"1/17/21\",\"1/18/21\",\"1/19/21\",\"1/20/21\",\"1/21/21\",\"1/22/21\",\"1/23/21\",\"1/24/21\",\"1/25/21\",\"1/26/21\",\"1/27/21\",\"1/28/21\",\"1/29/21\",\"1/30/21\",\"1/31/21\",\"2/1/21\",\"2/2/21\",\"2/3/21\",\"2/4/21\",\"2/5/21\",\"2/6/21\",\"2/7/21\",\"2/8/21\",\"2/9/21\",\"2/10/21\",\"2/11/21\",\"2/12/21\",\"2/13/21\",\"2/14/21\",\"2/15/21\",\"2/16/21\",\"2/17/21\",\"2/18/21\",\"2/19/21\",\"2/20/21\",\"2/21/21\",\"2/22/21\",\"2/23/21\",\"2/24/21\",\"2/25/21\",\"2/26/21\",\"2/27/21\",\"2/28/21\",\"3/1/21\",\"3/2/21\",\"3/3/21\",\"3/4/21\",\"3/5/21\",\"3/6/21\",\"3/7/21\",\"3/8/21\",\"3/9/21\",\"3/10/21\",\"3/11/21\",\"3/12/21\",\"3/13/21\",\"3/14/21\",\"3/15/21\",\"3/16/21\",\"3/17/21\",\"3/18/21\",\"3/19/21\",\"3/20/21\",\"3/21/21\",\"3/22/21\",\"3/23/21\",\"3/24/21\",\"3/25/21\",\"3/26/21\",\"3/27/21\",\"3/28/21\",\"3/29/21\",\"3/30/21\",\"3/31/21\",\"4/1/21\",\"4/2/21\",\"4/3/21\",\"4/4/21\",\"4/5/21\",\"4/6/21\",\"4/7/21\",\"4/8/21\",\"4/9/21\",\"4/10/21\",\"4/11/21\",\"4/12/21\",\"4/13/21\",\"4/14/21\",\"4/15/21\",\"4/16/21\",\"4/17/21\",\"4/18/21\",\"4/19/21\",\"4/20/21\",\"4/21/21\",\"4/22/21\",\"4/23/21\",\"4/24/21\",\"4/25/21\",\"4/26/21\",\"4/27/21\",\"4/28/21\",\"4/29/21\",\"4/30/21\",\"5/1/21\",\"5/2/21\",\"5/3/21\",\"5/4/21\",\"5/5/21\",\"5/6/21\",\"5/7/21\",\"5/8/21\",\"5/9/21\",\"5/10/21\",\"5/11/21\",\"5/12/21\",\"5/13/21\",\"5/14/21\",\"5/15/21\",\"5/16/21\",\"5/17/21\",\"5/18/21\",\"5/19/21\",\"5/20/21\",\"5/21/21\",\"5/22/21\",\"5/23/21\",\"5/24/21\",\"5/25/21\",\"5/26/21\",\"5/27/21\",\"5/28/21\",\"5/29/21\",\"5/30/21\",\"5/31/21\",\"6/1/21\",\"6/2/21\",\"6/3/21\",\"6/4/21\",\"6/5/21\",\"6/6/21\",\"6/7/21\",\"6/8/21\",\"6/9/21\",\"6/10/21\",\"6/11/21\",\"6/12/21\",\"6/13/21\",\"6/14/21\",\"6/15/21\",\"6/16/21\",\"6/17/21\",\"6/18/21\",\"6/19/21\",\"6/20/21\",\"6/21/21\",\"6/22/21\",\"6/23/21\",\"6/24/21\",\"6/25/21\",\"6/26/21\",\"6/27/21\",\"6/28/21\",\"6/29/21\",\"6/30/21\",\"7/1/21\",\"7/2/21\",\"7/3/21\",\"7/4/21\",\"7/5/21\",\"7/6/21\",\"7/7/21\",\"7/8/21\",\"7/9/21\",\"7/10/21\",\"7/11/21\",\"7/12/21\",\"7/13/21\",\"7/14/21\",\"7/15/21\",\"7/16/21\",\"7/17/21\",\"7/18/21\",\"7/19/21\",\"7/20/21\",\"7/21/21\",\"7/22/21\",\"7/23/21\",\"7/24/21\",\"7/25/21\",\"7/26/21\",\"7/27/21\",\"7/28/21\",\"7/29/21\",\"7/30/21\",\"7/31/21\",\"8/1/21\",\"8/2/21\",\"8/3/21\",\"8/4/21\",\"8/5/21\",\"8/6/21\",\"8/7/21\",\"8/8/21\",\"8/9/21\",\"8/10/21\",\"8/11/21\",\"8/12/21\",\"8/13/21\",\"8/14/21\",\"8/15/21\",\"8/16/21\",\"8/17/21\",\"8/18/21\",\"8/19/21\",\"8/20/21\",\"8/21/21\",\"8/22/21\",\"8/23/21\",\"8/24/21\",\"8/25/21\",\"8/26/21\",\"8/27/21\",\"8/28/21\",\"8/29/21\",\"8/30/21\",\"8/31/21\",\"9/1/21\",\"9/2/21\",\"9/3/21\",\"9/4/21\",\"9/5/21\",\"9/6/21\",\"9/7/21\",\"9/8/21\",\"9/9/21\",\"9/10/21\",\"9/11/21\",\"9/12/21\",\"9/13/21\",\"9/14/21\",\"9/15/21\",\"9/16/21\",\"9/17/21\",\"9/18/21\",\"9/19/21\",\"9/20/21\",\"9/21/21\",\"9/22/21\",\"9/23/21\",\"9/24/21\",\"9/25/21\",\"9/26/21\",\"9/27/21\",\"9/28/21\",\"9/29/21\",\"9/30/21\",\"10/1/21\",\"10/2/21\",\"10/3/21\",\"10/4/21\",\"10/5/21\",\"10/6/21\",\"10/7/21\",\"10/8/21\",\"10/9/21\",\"10/10/21\",\"10/11/21\",\"10/12/21\",\"10/13/21\",\"10/14/21\",\"10/15/21\",\"10/16/21\",\"10/17/21\",\"10/18/21\",\"10/19/21\",\"10/20/21\",\"10/21/21\",\"10/22/21\",\"10/23/21\",\"10/24/21\",\"10/25/21\",\"10/26/21\",\"10/27/21\",\"10/28/21\",\"10/29/21\",\"10/30/21\",\"10/31/21\",\"11/1/21\",\"11/2/21\",\"11/3/21\",\"11/4/21\",\"11/5/21\",\"11/6/21\",\"11/7/21\",\"11/8/21\",\"11/9/21\",\"11/10/21\",\"11/11/21\",\"11/12/21\",\"11/13/21\",\"11/14/21\",\"11/15/21\",\"11/16/21\",\"11/17/21\",\"11/18/21\",\"11/19/21\",\"11/20/21\",\"11/21/21\",\"11/22/21\",\"11/23/21\",\"11/24/21\",\"11/25/21\",\"11/26/21\",\"11/27/21\",\"11/28/21\",\"11/29/21\",\"11/30/21\",\"12/1/21\",\"12/2/21\",\"12/3/21\",\"12/4/21\",\"12/5/21\",\"12/6/21\",\"12/7/21\",\"12/8/21\",\"12/9/21\",\"12/10/21\",\"12/11/21\",\"12/12/21\",\"12/13/21\",\"12/14/21\",\"12/15/21\",\"12/16/21\",\"12/17/21\",\"12/18/21\",\"12/19/21\",\"12/20/21\",\"12/21/21\",\"12/22/21\",\"12/23/21\",\"12/24/21\",\"12/25/21\",\"12/26/21\",\"12/27/21\",\"12/28/21\",\"12/29/21\",\"12/30/21\",\"12/31/21\",\"1/1/22\",\"1/2/22\",\"1/3/22\",\"1/4/22\",\"1/5/22\",\"1/6/22\",\"1/7/22\",\"1/8/22\",\"1/9/22\"],\"y\":[1,1,2,2,5,5,5,6,6,8,8,8,11,11,11,12,12,12,12,12,13,13,14,14,14,14,14,14,14,14,16,16,16,16,16,16,17,17,25,32,55,74,107,184,237,403,519,594,782,1147,1586,2219,2978,3212,4679,6512,9169,13663,20030,26025,34944,46096,56714,68841,86662,105253,127417,143544,165698,192079,224311,256541,289023,321199,350803,382661,413004,444153,480596,514943,544221,571093,598017,626412,652312,682268,715425,743419,769342,799022,825192,854611,887379,919531,950525,977072,1000822,1025512,1051732,1080974,1115995,1143819,1168311,1192024,1216353,1240616,1268273,1295546,1319992,1339140,1358174,1381017,1401593,1428125,1452946,1477179,1495977,1518111,1538872,1561595,1587401,1611020,1631999,1652590,1671243,1689819,1709226,1730872,1755607,1779691,1799145,1816110,1837393,1857164,1878887,1903888,1925186,1943599,1960103,1978195,1999263,2021646,2046972,2071944,2091364,2109886,2133725,2161114,2189429,2221126,2253739,2279928,2310901,2348123,2384355,2424724,2470934,2512671,2554533,2594175,2642487,2694054,2750402,2803022,2851968,2902406,2945207,3004064,3063787,3124662,3192440,3253811,3314495,3372055,3438494,3506460,3582499,3654750,3718547,3779996,3840208,3905790,3976175,4044432,4118581,4185580,4241736,4297906,4361600,4429975,4497941,4566409,4625541,4671547,4716831,4771805,4827688,4884919,4945982,5001158,5049295,5094516,5147116,5199918,5251447,5316520,5366176,5406280,5441942,5484847,5529110,5573699,5622488,5666892,5701458,5736339,5777266,5821222,5867210,5913745,5957986,5992914,6025528,6068471,6109113,6153466,6204155,6247664,6278714,6302612,6328301,6362838,6398736,6446756,6488444,6522977,6556144,6595687,6634561,6679812,6729034,6771773,6810690,6861284,6901445,6940297,6987772,7036320,7081250,7119404,7151853,7195367,7234446,7280542,7335672,7386331,7420963,7459194,7504413,7555630,7614545,7671295,7727035,7773867,7815599,7866690,7925992,7991106,8060228,8117920,8168910,8235649,8297346,8360667,8436892,8519370,8603098,8665765,8731741,8808902,8888170,8979389,9079480,9170216,9275861,9359194,9487028,9591203,9721219,9849031,9981155,10096510,10214556,10354827,10504315,10666081,10847207,11019491,11157404,11316582,11480745,11654158,11846057,12047493,12229527,12376174,12548120,12725355,12910248,13028634,13231655,13390411,13531251,13686941,13880976,14085477,14309633,14544946,14766853,14946070,15136219,15367167,15588302,15822975,16063231,16285394,16472093,16672720,16894766,17135451,17372674,17621628,17824198,18009542,18199258,18401221,18626999,18831882,18940567,19159558,19314549,19481232,19682925,19905861,20163970,20330227,20626102,20829750,21011395,21242637,21499503,21788111,22091570,22351100,22564473,22775307,22994207,23224047,23462087,23709113,23917745,24094337,24235417,24399702,24585092,24777418,24966945,25141808,25279642,25421759,25566539,25721674,25889109,26054956,26200639,26316068,26445435,26559307,26682418,26806343,26938002,27048955,27140838,27225846,27320441,27416273,27522576,27622605,27711459,27777808,27832451,27891055,27961123,28032479,28110664,28184071,28241967,28296804,28368817,28443828,28521885,28600619,28666684,28718551,28773039,28830105,28897254,28965786,29032651,29091946,29134012,29178325,29234131,29292364,29355260,29417333,29470925,29509777,29564544,29618925,29678413,29738938,29801003,29858024,29893002,29942482,29995780,30082900,30150876,30228412,30290635,30336989,30404286,30465723,30532694,30611880,30683729,30747975,30784624,30857777,30918920,30993906,31074158,31158495,31227789,31274232,31341189,31420333,31495649,31569559,31649936,31704097,31746979,31813153,31874073,31937897,32004887,32067266,32121459,32155433,32201093,32251826,32306919,32365832,32423991,32470651,32500713,32549484,32590283,32635987,32682942,32731048,32765567,32787667,32822819,32856880,32893073,32931602,32973465,33003075,33020516,33048287,33076084,33105592,33135436,33163988,33184562,33198034,33222478,33245568,33270101,33297250,33319173,33331791,33338967,33345078,33366574,33383769,33402873,33420007,33434612,33440437,33455266,33468347,33487336,33501700,33526534,33535298,33540562,33552708,33563608,33576185,33586808,33608173,33616854,33621439,33632775,33643640,33656798,33670460,33694795,33703667,33708049,33722356,33729139,33745462,33759839,33789218,33794117,33798017,33806926,33830000,33852633,33871661,33919152,33927934,33939289,33972340,33998731,34031900,34061808,34139287,34151681,34171876,34223268,34263837,34314421,34369086,34488481,34514592,34540730,34625819,34694558,34763997,34843287,35031358,35065578,35109418,35227169,35330370,35427042,35537965,35793262,35844735,35874059,36049960,36171170,36327428,36469625,36699472,36751301,36795656,37010426,37163247,37321875,37479114,37724800,37794718,37833727,38065136,38222263,38391696,38576143,38819722,38885039,38930590,39182598,39353876,39556129,39731212,39966805,40040910,40088245,40168844,40423642,40606673,40766792,40995001,41068628,41111533,41356059,41502249,41672834,41828348,42037222,42101504,42143705,42332114,42453773,42586906,42713380,42890288,42944318,42993948,43158614,43269993,43393412,43503368,43656245,43701232,43743010,43894279,43991658,44102249,44202795,44329272,44362110,44399737,44500378,44606753,44728329,44814707,44924503,44960864,44992796,45094996,45175944,45267400,45346299,45441451,45471592,45489817,45604119,45672830,45773731,45851283,45944868,45977440,46009140,46123123,46194240,46278817,46360647,46456734,46490792,46526688,46637293,46717616,46812637,46869801,47014700,47057256,47088349,47225196,47313041,47424773,47535123,47660990,47704692,47743623,47891329,47984051,48095699,48130504,48182594,48208087,48250235,48443028,48560513,48699124,48837564,48991223,49054845,49104646,49284432,49397736,49548608,49670822,49841560,49896323,49946891,50134176,50250247,50394344,50536051,50728954,50805383,50892242,51134328,51313310,51554991,51824224,52043686,52100740,52283306,52827635,53182318,53679320,54269867,54742382,54858824,55106998,56278376,57077565,57700873,58487697,59388529,59767221,60072321],\"type\":\"scatter\",\"xaxis\":\"x\",\"yaxis\":\"y\"},{\"fill\":\"tonexty\",\"line\":{\"color\":\"red\",\"width\":2},\"mode\":\"lines+markers\",\"name\":\"Deaths\",\"x\":[\"1/22/20\",\"1/23/20\",\"1/24/20\",\"1/25/20\",\"1/26/20\",\"1/27/20\",\"1/28/20\",\"1/29/20\",\"1/30/20\",\"1/31/20\",\"2/1/20\",\"2/2/20\",\"2/3/20\",\"2/4/20\",\"2/5/20\",\"2/6/20\",\"2/7/20\",\"2/8/20\",\"2/9/20\",\"2/10/20\",\"2/11/20\",\"2/12/20\",\"2/13/20\",\"2/14/20\",\"2/15/20\",\"2/16/20\",\"2/17/20\",\"2/18/20\",\"2/19/20\",\"2/20/20\",\"2/21/20\",\"2/22/20\",\"2/23/20\",\"2/24/20\",\"2/25/20\",\"2/26/20\",\"2/27/20\",\"2/28/20\",\"2/29/20\",\"3/1/20\",\"3/2/20\",\"3/3/20\",\"3/4/20\",\"3/5/20\",\"3/6/20\",\"3/7/20\",\"3/8/20\",\"3/9/20\",\"3/10/20\",\"3/11/20\",\"3/12/20\",\"3/13/20\",\"3/14/20\",\"3/15/20\",\"3/16/20\",\"3/17/20\",\"3/18/20\",\"3/19/20\",\"3/20/20\",\"3/21/20\",\"3/22/20\",\"3/23/20\",\"3/24/20\",\"3/25/20\",\"3/26/20\",\"3/27/20\",\"3/28/20\",\"3/29/20\",\"3/30/20\",\"3/31/20\",\"4/1/20\",\"4/2/20\",\"4/3/20\",\"4/4/20\",\"4/5/20\",\"4/6/20\",\"4/7/20\",\"4/8/20\",\"4/9/20\",\"4/10/20\",\"4/11/20\",\"4/12/20\",\"4/13/20\",\"4/14/20\",\"4/15/20\",\"4/16/20\",\"4/17/20\",\"4/18/20\",\"4/19/20\",\"4/20/20\",\"4/21/20\",\"4/22/20\",\"4/23/20\",\"4/24/20\",\"4/25/20\",\"4/26/20\",\"4/27/20\",\"4/28/20\",\"4/29/20\",\"4/30/20\",\"5/1/20\",\"5/2/20\",\"5/3/20\",\"5/4/20\",\"5/5/20\",\"5/6/20\",\"5/7/20\",\"5/8/20\",\"5/9/20\",\"5/10/20\",\"5/11/20\",\"5/12/20\",\"5/13/20\",\"5/14/20\",\"5/15/20\",\"5/16/20\",\"5/17/20\",\"5/18/20\",\"5/19/20\",\"5/20/20\",\"5/21/20\",\"5/22/20\",\"5/23/20\",\"5/24/20\",\"5/25/20\",\"5/26/20\",\"5/27/20\",\"5/28/20\",\"5/29/20\",\"5/30/20\",\"5/31/20\",\"6/1/20\",\"6/2/20\",\"6/3/20\",\"6/4/20\",\"6/5/20\",\"6/6/20\",\"6/7/20\",\"6/8/20\",\"6/9/20\",\"6/10/20\",\"6/11/20\",\"6/12/20\",\"6/13/20\",\"6/14/20\",\"6/15/20\",\"6/16/20\",\"6/17/20\",\"6/18/20\",\"6/19/20\",\"6/20/20\",\"6/21/20\",\"6/22/20\",\"6/23/20\",\"6/24/20\",\"6/25/20\",\"6/26/20\",\"6/27/20\",\"6/28/20\",\"6/29/20\",\"6/30/20\",\"7/1/20\",\"7/2/20\",\"7/3/20\",\"7/4/20\",\"7/5/20\",\"7/6/20\",\"7/7/20\",\"7/8/20\",\"7/9/20\",\"7/10/20\",\"7/11/20\",\"7/12/20\",\"7/13/20\",\"7/14/20\",\"7/15/20\",\"7/16/20\",\"7/17/20\",\"7/18/20\",\"7/19/20\",\"7/20/20\",\"7/21/20\",\"7/22/20\",\"7/23/20\",\"7/24/20\",\"7/25/20\",\"7/26/20\",\"7/27/20\",\"7/28/20\",\"7/29/20\",\"7/30/20\",\"7/31/20\",\"8/1/20\",\"8/2/20\",\"8/3/20\",\"8/4/20\",\"8/5/20\",\"8/6/20\",\"8/7/20\",\"8/8/20\",\"8/9/20\",\"8/10/20\",\"8/11/20\",\"8/12/20\",\"8/13/20\",\"8/14/20\",\"8/15/20\",\"8/16/20\",\"8/17/20\",\"8/18/20\",\"8/19/20\",\"8/20/20\",\"8/21/20\",\"8/22/20\",\"8/23/20\",\"8/24/20\",\"8/25/20\",\"8/26/20\",\"8/27/20\",\"8/28/20\",\"8/29/20\",\"8/30/20\",\"8/31/20\",\"9/1/20\",\"9/2/20\",\"9/3/20\",\"9/4/20\",\"9/5/20\",\"9/6/20\",\"9/7/20\",\"9/8/20\",\"9/9/20\",\"9/10/20\",\"9/11/20\",\"9/12/20\",\"9/13/20\",\"9/14/20\",\"9/15/20\",\"9/16/20\",\"9/17/20\",\"9/18/20\",\"9/19/20\",\"9/20/20\",\"9/21/20\",\"9/22/20\",\"9/23/20\",\"9/24/20\",\"9/25/20\",\"9/26/20\",\"9/27/20\",\"9/28/20\",\"9/29/20\",\"9/30/20\",\"10/1/20\",\"10/2/20\",\"10/3/20\",\"10/4/20\",\"10/5/20\",\"10/6/20\",\"10/7/20\",\"10/8/20\",\"10/9/20\",\"10/10/20\",\"10/11/20\",\"10/12/20\",\"10/13/20\",\"10/14/20\",\"10/15/20\",\"10/16/20\",\"10/17/20\",\"10/18/20\",\"10/19/20\",\"10/20/20\",\"10/21/20\",\"10/22/20\",\"10/23/20\",\"10/24/20\",\"10/25/20\",\"10/26/20\",\"10/27/20\",\"10/28/20\",\"10/29/20\",\"10/30/20\",\"10/31/20\",\"11/1/20\",\"11/2/20\",\"11/3/20\",\"11/4/20\",\"11/5/20\",\"11/6/20\",\"11/7/20\",\"11/8/20\",\"11/9/20\",\"11/10/20\",\"11/11/20\",\"11/12/20\",\"11/13/20\",\"11/14/20\",\"11/15/20\",\"11/16/20\",\"11/17/20\",\"11/18/20\",\"11/19/20\",\"11/20/20\",\"11/21/20\",\"11/22/20\",\"11/23/20\",\"11/24/20\",\"11/25/20\",\"11/26/20\",\"11/27/20\",\"11/28/20\",\"11/29/20\",\"11/30/20\",\"12/1/20\",\"12/2/20\",\"12/3/20\",\"12/4/20\",\"12/5/20\",\"12/6/20\",\"12/7/20\",\"12/8/20\",\"12/9/20\",\"12/10/20\",\"12/11/20\",\"12/12/20\",\"12/13/20\",\"12/14/20\",\"12/15/20\",\"12/16/20\",\"12/17/20\",\"12/18/20\",\"12/19/20\",\"12/20/20\",\"12/21/20\",\"12/22/20\",\"12/23/20\",\"12/24/20\",\"12/25/20\",\"12/26/20\",\"12/27/20\",\"12/28/20\",\"12/29/20\",\"12/30/20\",\"12/31/20\",\"1/1/21\",\"1/2/21\",\"1/3/21\",\"1/4/21\",\"1/5/21\",\"1/6/21\",\"1/7/21\",\"1/8/21\",\"1/9/21\",\"1/10/21\",\"1/11/21\",\"1/12/21\",\"1/13/21\",\"1/14/21\",\"1/15/21\",\"1/16/21\",\"1/17/21\",\"1/18/21\",\"1/19/21\",\"1/20/21\",\"1/21/21\",\"1/22/21\",\"1/23/21\",\"1/24/21\",\"1/25/21\",\"1/26/21\",\"1/27/21\",\"1/28/21\",\"1/29/21\",\"1/30/21\",\"1/31/21\",\"2/1/21\",\"2/2/21\",\"2/3/21\",\"2/4/21\",\"2/5/21\",\"2/6/21\",\"2/7/21\",\"2/8/21\",\"2/9/21\",\"2/10/21\",\"2/11/21\",\"2/12/21\",\"2/13/21\",\"2/14/21\",\"2/15/21\",\"2/16/21\",\"2/17/21\",\"2/18/21\",\"2/19/21\",\"2/20/21\",\"2/21/21\",\"2/22/21\",\"2/23/21\",\"2/24/21\",\"2/25/21\",\"2/26/21\",\"2/27/21\",\"2/28/21\",\"3/1/21\",\"3/2/21\",\"3/3/21\",\"3/4/21\",\"3/5/21\",\"3/6/21\",\"3/7/21\",\"3/8/21\",\"3/9/21\",\"3/10/21\",\"3/11/21\",\"3/12/21\",\"3/13/21\",\"3/14/21\",\"3/15/21\",\"3/16/21\",\"3/17/21\",\"3/18/21\",\"3/19/21\",\"3/20/21\",\"3/21/21\",\"3/22/21\",\"3/23/21\",\"3/24/21\",\"3/25/21\",\"3/26/21\",\"3/27/21\",\"3/28/21\",\"3/29/21\",\"3/30/21\",\"3/31/21\",\"4/1/21\",\"4/2/21\",\"4/3/21\",\"4/4/21\",\"4/5/21\",\"4/6/21\",\"4/7/21\",\"4/8/21\",\"4/9/21\",\"4/10/21\",\"4/11/21\",\"4/12/21\",\"4/13/21\",\"4/14/21\",\"4/15/21\",\"4/16/21\",\"4/17/21\",\"4/18/21\",\"4/19/21\",\"4/20/21\",\"4/21/21\",\"4/22/21\",\"4/23/21\",\"4/24/21\",\"4/25/21\",\"4/26/21\",\"4/27/21\",\"4/28/21\",\"4/29/21\",\"4/30/21\",\"5/1/21\",\"5/2/21\",\"5/3/21\",\"5/4/21\",\"5/5/21\",\"5/6/21\",\"5/7/21\",\"5/8/21\",\"5/9/21\",\"5/10/21\",\"5/11/21\",\"5/12/21\",\"5/13/21\",\"5/14/21\",\"5/15/21\",\"5/16/21\",\"5/17/21\",\"5/18/21\",\"5/19/21\",\"5/20/21\",\"5/21/21\",\"5/22/21\",\"5/23/21\",\"5/24/21\",\"5/25/21\",\"5/26/21\",\"5/27/21\",\"5/28/21\",\"5/29/21\",\"5/30/21\",\"5/31/21\",\"6/1/21\",\"6/2/21\",\"6/3/21\",\"6/4/21\",\"6/5/21\",\"6/6/21\",\"6/7/21\",\"6/8/21\",\"6/9/21\",\"6/10/21\",\"6/11/21\",\"6/12/21\",\"6/13/21\",\"6/14/21\",\"6/15/21\",\"6/16/21\",\"6/17/21\",\"6/18/21\",\"6/19/21\",\"6/20/21\",\"6/21/21\",\"6/22/21\",\"6/23/21\",\"6/24/21\",\"6/25/21\",\"6/26/21\",\"6/27/21\",\"6/28/21\",\"6/29/21\",\"6/30/21\",\"7/1/21\",\"7/2/21\",\"7/3/21\",\"7/4/21\",\"7/5/21\",\"7/6/21\",\"7/7/21\",\"7/8/21\",\"7/9/21\",\"7/10/21\",\"7/11/21\",\"7/12/21\",\"7/13/21\",\"7/14/21\",\"7/15/21\",\"7/16/21\",\"7/17/21\",\"7/18/21\",\"7/19/21\",\"7/20/21\",\"7/21/21\",\"7/22/21\",\"7/23/21\",\"7/24/21\",\"7/25/21\",\"7/26/21\",\"7/27/21\",\"7/28/21\",\"7/29/21\",\"7/30/21\",\"7/31/21\",\"8/1/21\",\"8/2/21\",\"8/3/21\",\"8/4/21\",\"8/5/21\",\"8/6/21\",\"8/7/21\",\"8/8/21\",\"8/9/21\",\"8/10/21\",\"8/11/21\",\"8/12/21\",\"8/13/21\",\"8/14/21\",\"8/15/21\",\"8/16/21\",\"8/17/21\",\"8/18/21\",\"8/19/21\",\"8/20/21\",\"8/21/21\",\"8/22/21\",\"8/23/21\",\"8/24/21\",\"8/25/21\",\"8/26/21\",\"8/27/21\",\"8/28/21\",\"8/29/21\",\"8/30/21\",\"8/31/21\",\"9/1/21\",\"9/2/21\",\"9/3/21\",\"9/4/21\",\"9/5/21\",\"9/6/21\",\"9/7/21\",\"9/8/21\",\"9/9/21\",\"9/10/21\",\"9/11/21\",\"9/12/21\",\"9/13/21\",\"9/14/21\",\"9/15/21\",\"9/16/21\",\"9/17/21\",\"9/18/21\",\"9/19/21\",\"9/20/21\",\"9/21/21\",\"9/22/21\",\"9/23/21\",\"9/24/21\",\"9/25/21\",\"9/26/21\",\"9/27/21\",\"9/28/21\",\"9/29/21\",\"9/30/21\",\"10/1/21\",\"10/2/21\",\"10/3/21\",\"10/4/21\",\"10/5/21\",\"10/6/21\",\"10/7/21\",\"10/8/21\",\"10/9/21\",\"10/10/21\",\"10/11/21\",\"10/12/21\",\"10/13/21\",\"10/14/21\",\"10/15/21\",\"10/16/21\",\"10/17/21\",\"10/18/21\",\"10/19/21\",\"10/20/21\",\"10/21/21\",\"10/22/21\",\"10/23/21\",\"10/24/21\",\"10/25/21\",\"10/26/21\",\"10/27/21\",\"10/28/21\",\"10/29/21\",\"10/30/21\",\"10/31/21\",\"11/1/21\",\"11/2/21\",\"11/3/21\",\"11/4/21\",\"11/5/21\",\"11/6/21\",\"11/7/21\",\"11/8/21\",\"11/9/21\",\"11/10/21\",\"11/11/21\",\"11/12/21\",\"11/13/21\",\"11/14/21\",\"11/15/21\",\"11/16/21\",\"11/17/21\",\"11/18/21\",\"11/19/21\",\"11/20/21\",\"11/21/21\",\"11/22/21\",\"11/23/21\",\"11/24/21\",\"11/25/21\",\"11/26/21\",\"11/27/21\",\"11/28/21\",\"11/29/21\",\"11/30/21\",\"12/1/21\",\"12/2/21\",\"12/3/21\",\"12/4/21\",\"12/5/21\",\"12/6/21\",\"12/7/21\",\"12/8/21\",\"12/9/21\",\"12/10/21\",\"12/11/21\",\"12/12/21\",\"12/13/21\",\"12/14/21\",\"12/15/21\",\"12/16/21\",\"12/17/21\",\"12/18/21\",\"12/19/21\",\"12/20/21\",\"12/21/21\",\"12/22/21\",\"12/23/21\",\"12/24/21\",\"12/25/21\",\"12/26/21\",\"12/27/21\",\"12/28/21\",\"12/29/21\",\"12/30/21\",\"12/31/21\",\"1/1/22\",\"1/2/22\",\"1/3/22\",\"1/4/22\",\"1/5/22\",\"1/6/22\",\"1/7/22\",\"1/8/22\",\"1/9/22\"],\"y\":[0,0,0,0,0,0,0,0,0,0,0,0,0,0,0,0,0,0,0,0,0,0,0,0,0,0,0,0,0,0,0,0,0,0,0,0,0,0,1,1,6,7,11,12,14,17,21,22,28,33,43,51,58,70,97,134,194,266,372,475,603,790,1033,1366,1783,2305,3018,3573,4280,5359,6635,8146,9566,11172,12790,14523,17099,19250,21463,23649,25790,27679,29657,32132,34719,36908,39007,40951,42934,45179,47662,50119,52543,54712,56444,57850,59330,61571,63962,66154,68063,69804,71007,72365,74586,76905,78822,80594,82058,83059,84093,85684,87416,89197,90862,92060,92891,94110,95555,97052,98246,99450,100524,101165,101762,102418,103896,104985,106103,107053,107674,108445,109428,110437,111443,112321,112958,113415,113926,114840,115716,116532,117355,118077,118424,118825,119612,120360,121058,121684,122257,122574,122952,123691,124446,124994,125620,126116,126437,126806,127365,128063,128802,129479,129781,130103,130474,131616,132457,133488,134304,135058,135531,135966,136862,137827,138788,139703,140585,141061,141590,142686,143911,144997,146091,147060,147594,148694,149916,151356,152645,153828,154947,155404,155963,157218,158626,159807,161098,162185,162757,163274,164371,165886,166924,168233,169278,169886,170355,171578,172865,173972,175073,176052,176547,176989,178223,179401,180516,181457,182440,182889,183383,184444,185496,186527,187506,188326,188766,189086,189554,190659,191583,192739,193488,193888,194311,195513,196468,197334,198294,199005,199275,199688,200723,201788,202695,203610,204393,204705,205046,205948,206880,207796,208637,209323,209692,210174,210875,211794,212776,213749,214409,214876,215274,216051,217050,217895,218838,219658,220121,220611,221548,222722,223579,224529,225492,225950,226472,227483,228517,229520,230584,231515,232018,232575,234172,235292,236457,237671,238788,239351,240110,241526,242969,244173,245373,246746,247534,248348,250057,251999,254041,255990,257628,258689,259762,261898,264151,265554,267106,268464,269515,270827,273379,276209,279178,281790,284180,285583,287142,289725,292906,295892,299273,301806,303465,305114,308101,311834,315284,318226,320980,322749,324546,327844,331223,334145,335650,337563,339001,340878,344494,348427,351754,353948,356547,357984,359964,363568,367492,371520,375709,378965,381069,382905,387294,391312,395104,398916,402493,404484,406049,408450,412892,417029,420806,424362,426220,427989,431971,436099,439949,443548,446449,448406,450183,453716,457633,461517,465191,467928,469405,470856,473921,477328,480519,483403,485699,486897,487846,489490,491936,494543,497078,499011,500238,501439,503715,506979,509409,511564,513085,514192,515511,517444,520025,521977,523700,525231,525942,526647,528431,530003,531577,533008,534005,534537,535237,536498,537715,539363,540409,541182,541972,542505,543450,544985,546343,547511,548325,548775,549429,550354,551455,552578,553479,554250,554553,555010,555874,558468,559511,560421,561145,561430,561882,562759,563695,564600,565461,566169,566498,567002,567849,568738,569683,570445,571209,571503,571976,572652,573647,574540,575348,576093,576414,576887,577799,578612,579439,580263,580898,581137,581536,582236,583034,583824,584456,584985,585249,585643,586423,587107,587791,588426,588910,589100,589538,590185,591162,592517,593057,593407,593556,593718,594357,594921,595560,596087,596668,596832,597138,597469,597949,598367,598906,599182,599286,599466,599800,600183,600500,601114,601293,601366,601624,601975,602374,602714,603237,603397,603470,603616,603953,604248,604534,604969,605059,605100,605224,605524,605845,606093,606555,606641,606755,606986,607345,607677,608003,608361,608436,608614,608801,609093,609445,609739,610299,610421,610508,610768,611218,611599,611926,612799,612958,613174,613526,614110,614643,615147,616301,616553,616671,617169,618034,618813,619825,620881,621143,621328,622365,623393,624568,626349,627828,628380,628559,629920,631342,632832,635053,636776,637409,637698,639431,640874,642908,645861,647829,648464,648860,649459,651538,653817,657101,659531,660323,660659,662814,664741,667507,670968,673414,674378,674725,677010,679365,682211,685478,687962,688752,689301,691605,694165,696778,699576,701712,702505,703004,704963,706870,709501,711980,713814,714236,714704,715806,718158,721383,723524,725350,725876,726328,728072,730209,733412,735400,737296,737835,738078,739492,741109,743185,745027,746763,747125,747358,748608,749893,751860,753067,755190,755651,755837,757051,758537,760219,761077,763567,764122,764312,765581,766921,768604,769930,771735,772181,772378,773612,774985,776730,777195,777561,777869,778086,780002,781523,783554,787440,789062,789740,790049,791391,793075,794886,796387,798229,798788,799070,800435,801912,804145,805339,807132,807701,807905,809389,811266,813312,816699,817294,817410,817512,819289,821584,823781,825193,825776,826043,826287,827975,830132,832118,833988,836603,837264,837594],\"type\":\"scatter\",\"xaxis\":\"x2\",\"yaxis\":\"y2\"}],                        {\"template\":{\"data\":{\"bar\":[{\"error_x\":{\"color\":\"#2a3f5f\"},\"error_y\":{\"color\":\"#2a3f5f\"},\"marker\":{\"line\":{\"color\":\"#E5ECF6\",\"width\":0.5},\"pattern\":{\"fillmode\":\"overlay\",\"size\":10,\"solidity\":0.2}},\"type\":\"bar\"}],\"barpolar\":[{\"marker\":{\"line\":{\"color\":\"#E5ECF6\",\"width\":0.5},\"pattern\":{\"fillmode\":\"overlay\",\"size\":10,\"solidity\":0.2}},\"type\":\"barpolar\"}],\"carpet\":[{\"aaxis\":{\"endlinecolor\":\"#2a3f5f\",\"gridcolor\":\"white\",\"linecolor\":\"white\",\"minorgridcolor\":\"white\",\"startlinecolor\":\"#2a3f5f\"},\"baxis\":{\"endlinecolor\":\"#2a3f5f\",\"gridcolor\":\"white\",\"linecolor\":\"white\",\"minorgridcolor\":\"white\",\"startlinecolor\":\"#2a3f5f\"},\"type\":\"carpet\"}],\"choropleth\":[{\"colorbar\":{\"outlinewidth\":0,\"ticks\":\"\"},\"type\":\"choropleth\"}],\"contour\":[{\"colorbar\":{\"outlinewidth\":0,\"ticks\":\"\"},\"colorscale\":[[0.0,\"#0d0887\"],[0.1111111111111111,\"#46039f\"],[0.2222222222222222,\"#7201a8\"],[0.3333333333333333,\"#9c179e\"],[0.4444444444444444,\"#bd3786\"],[0.5555555555555556,\"#d8576b\"],[0.6666666666666666,\"#ed7953\"],[0.7777777777777778,\"#fb9f3a\"],[0.8888888888888888,\"#fdca26\"],[1.0,\"#f0f921\"]],\"type\":\"contour\"}],\"contourcarpet\":[{\"colorbar\":{\"outlinewidth\":0,\"ticks\":\"\"},\"type\":\"contourcarpet\"}],\"heatmap\":[{\"colorbar\":{\"outlinewidth\":0,\"ticks\":\"\"},\"colorscale\":[[0.0,\"#0d0887\"],[0.1111111111111111,\"#46039f\"],[0.2222222222222222,\"#7201a8\"],[0.3333333333333333,\"#9c179e\"],[0.4444444444444444,\"#bd3786\"],[0.5555555555555556,\"#d8576b\"],[0.6666666666666666,\"#ed7953\"],[0.7777777777777778,\"#fb9f3a\"],[0.8888888888888888,\"#fdca26\"],[1.0,\"#f0f921\"]],\"type\":\"heatmap\"}],\"heatmapgl\":[{\"colorbar\":{\"outlinewidth\":0,\"ticks\":\"\"},\"colorscale\":[[0.0,\"#0d0887\"],[0.1111111111111111,\"#46039f\"],[0.2222222222222222,\"#7201a8\"],[0.3333333333333333,\"#9c179e\"],[0.4444444444444444,\"#bd3786\"],[0.5555555555555556,\"#d8576b\"],[0.6666666666666666,\"#ed7953\"],[0.7777777777777778,\"#fb9f3a\"],[0.8888888888888888,\"#fdca26\"],[1.0,\"#f0f921\"]],\"type\":\"heatmapgl\"}],\"histogram\":[{\"marker\":{\"pattern\":{\"fillmode\":\"overlay\",\"size\":10,\"solidity\":0.2}},\"type\":\"histogram\"}],\"histogram2d\":[{\"colorbar\":{\"outlinewidth\":0,\"ticks\":\"\"},\"colorscale\":[[0.0,\"#0d0887\"],[0.1111111111111111,\"#46039f\"],[0.2222222222222222,\"#7201a8\"],[0.3333333333333333,\"#9c179e\"],[0.4444444444444444,\"#bd3786\"],[0.5555555555555556,\"#d8576b\"],[0.6666666666666666,\"#ed7953\"],[0.7777777777777778,\"#fb9f3a\"],[0.8888888888888888,\"#fdca26\"],[1.0,\"#f0f921\"]],\"type\":\"histogram2d\"}],\"histogram2dcontour\":[{\"colorbar\":{\"outlinewidth\":0,\"ticks\":\"\"},\"colorscale\":[[0.0,\"#0d0887\"],[0.1111111111111111,\"#46039f\"],[0.2222222222222222,\"#7201a8\"],[0.3333333333333333,\"#9c179e\"],[0.4444444444444444,\"#bd3786\"],[0.5555555555555556,\"#d8576b\"],[0.6666666666666666,\"#ed7953\"],[0.7777777777777778,\"#fb9f3a\"],[0.8888888888888888,\"#fdca26\"],[1.0,\"#f0f921\"]],\"type\":\"histogram2dcontour\"}],\"mesh3d\":[{\"colorbar\":{\"outlinewidth\":0,\"ticks\":\"\"},\"type\":\"mesh3d\"}],\"parcoords\":[{\"line\":{\"colorbar\":{\"outlinewidth\":0,\"ticks\":\"\"}},\"type\":\"parcoords\"}],\"pie\":[{\"automargin\":true,\"type\":\"pie\"}],\"scatter\":[{\"marker\":{\"colorbar\":{\"outlinewidth\":0,\"ticks\":\"\"}},\"type\":\"scatter\"}],\"scatter3d\":[{\"line\":{\"colorbar\":{\"outlinewidth\":0,\"ticks\":\"\"}},\"marker\":{\"colorbar\":{\"outlinewidth\":0,\"ticks\":\"\"}},\"type\":\"scatter3d\"}],\"scattercarpet\":[{\"marker\":{\"colorbar\":{\"outlinewidth\":0,\"ticks\":\"\"}},\"type\":\"scattercarpet\"}],\"scattergeo\":[{\"marker\":{\"colorbar\":{\"outlinewidth\":0,\"ticks\":\"\"}},\"type\":\"scattergeo\"}],\"scattergl\":[{\"marker\":{\"colorbar\":{\"outlinewidth\":0,\"ticks\":\"\"}},\"type\":\"scattergl\"}],\"scattermapbox\":[{\"marker\":{\"colorbar\":{\"outlinewidth\":0,\"ticks\":\"\"}},\"type\":\"scattermapbox\"}],\"scatterpolar\":[{\"marker\":{\"colorbar\":{\"outlinewidth\":0,\"ticks\":\"\"}},\"type\":\"scatterpolar\"}],\"scatterpolargl\":[{\"marker\":{\"colorbar\":{\"outlinewidth\":0,\"ticks\":\"\"}},\"type\":\"scatterpolargl\"}],\"scatterternary\":[{\"marker\":{\"colorbar\":{\"outlinewidth\":0,\"ticks\":\"\"}},\"type\":\"scatterternary\"}],\"surface\":[{\"colorbar\":{\"outlinewidth\":0,\"ticks\":\"\"},\"colorscale\":[[0.0,\"#0d0887\"],[0.1111111111111111,\"#46039f\"],[0.2222222222222222,\"#7201a8\"],[0.3333333333333333,\"#9c179e\"],[0.4444444444444444,\"#bd3786\"],[0.5555555555555556,\"#d8576b\"],[0.6666666666666666,\"#ed7953\"],[0.7777777777777778,\"#fb9f3a\"],[0.8888888888888888,\"#fdca26\"],[1.0,\"#f0f921\"]],\"type\":\"surface\"}],\"table\":[{\"cells\":{\"fill\":{\"color\":\"#EBF0F8\"},\"line\":{\"color\":\"white\"}},\"header\":{\"fill\":{\"color\":\"#C8D4E3\"},\"line\":{\"color\":\"white\"}},\"type\":\"table\"}]},\"layout\":{\"annotationdefaults\":{\"arrowcolor\":\"#2a3f5f\",\"arrowhead\":0,\"arrowwidth\":1},\"autotypenumbers\":\"strict\",\"coloraxis\":{\"colorbar\":{\"outlinewidth\":0,\"ticks\":\"\"}},\"colorscale\":{\"diverging\":[[0,\"#8e0152\"],[0.1,\"#c51b7d\"],[0.2,\"#de77ae\"],[0.3,\"#f1b6da\"],[0.4,\"#fde0ef\"],[0.5,\"#f7f7f7\"],[0.6,\"#e6f5d0\"],[0.7,\"#b8e186\"],[0.8,\"#7fbc41\"],[0.9,\"#4d9221\"],[1,\"#276419\"]],\"sequential\":[[0.0,\"#0d0887\"],[0.1111111111111111,\"#46039f\"],[0.2222222222222222,\"#7201a8\"],[0.3333333333333333,\"#9c179e\"],[0.4444444444444444,\"#bd3786\"],[0.5555555555555556,\"#d8576b\"],[0.6666666666666666,\"#ed7953\"],[0.7777777777777778,\"#fb9f3a\"],[0.8888888888888888,\"#fdca26\"],[1.0,\"#f0f921\"]],\"sequentialminus\":[[0.0,\"#0d0887\"],[0.1111111111111111,\"#46039f\"],[0.2222222222222222,\"#7201a8\"],[0.3333333333333333,\"#9c179e\"],[0.4444444444444444,\"#bd3786\"],[0.5555555555555556,\"#d8576b\"],[0.6666666666666666,\"#ed7953\"],[0.7777777777777778,\"#fb9f3a\"],[0.8888888888888888,\"#fdca26\"],[1.0,\"#f0f921\"]]},\"colorway\":[\"#636efa\",\"#EF553B\",\"#00cc96\",\"#ab63fa\",\"#FFA15A\",\"#19d3f3\",\"#FF6692\",\"#B6E880\",\"#FF97FF\",\"#FECB52\"],\"font\":{\"color\":\"#2a3f5f\"},\"geo\":{\"bgcolor\":\"white\",\"lakecolor\":\"white\",\"landcolor\":\"#E5ECF6\",\"showlakes\":true,\"showland\":true,\"subunitcolor\":\"white\"},\"hoverlabel\":{\"align\":\"left\"},\"hovermode\":\"closest\",\"mapbox\":{\"style\":\"light\"},\"paper_bgcolor\":\"white\",\"plot_bgcolor\":\"#E5ECF6\",\"polar\":{\"angularaxis\":{\"gridcolor\":\"white\",\"linecolor\":\"white\",\"ticks\":\"\"},\"bgcolor\":\"#E5ECF6\",\"radialaxis\":{\"gridcolor\":\"white\",\"linecolor\":\"white\",\"ticks\":\"\"}},\"scene\":{\"xaxis\":{\"backgroundcolor\":\"#E5ECF6\",\"gridcolor\":\"white\",\"gridwidth\":2,\"linecolor\":\"white\",\"showbackground\":true,\"ticks\":\"\",\"zerolinecolor\":\"white\"},\"yaxis\":{\"backgroundcolor\":\"#E5ECF6\",\"gridcolor\":\"white\",\"gridwidth\":2,\"linecolor\":\"white\",\"showbackground\":true,\"ticks\":\"\",\"zerolinecolor\":\"white\"},\"zaxis\":{\"backgroundcolor\":\"#E5ECF6\",\"gridcolor\":\"white\",\"gridwidth\":2,\"linecolor\":\"white\",\"showbackground\":true,\"ticks\":\"\",\"zerolinecolor\":\"white\"}},\"shapedefaults\":{\"line\":{\"color\":\"#2a3f5f\"}},\"ternary\":{\"aaxis\":{\"gridcolor\":\"white\",\"linecolor\":\"white\",\"ticks\":\"\"},\"baxis\":{\"gridcolor\":\"white\",\"linecolor\":\"white\",\"ticks\":\"\"},\"bgcolor\":\"#E5ECF6\",\"caxis\":{\"gridcolor\":\"white\",\"linecolor\":\"white\",\"ticks\":\"\"}},\"title\":{\"x\":0.05},\"xaxis\":{\"automargin\":true,\"gridcolor\":\"white\",\"linecolor\":\"white\",\"ticks\":\"\",\"title\":{\"standoff\":15},\"zerolinecolor\":\"white\",\"zerolinewidth\":2},\"yaxis\":{\"automargin\":true,\"gridcolor\":\"white\",\"linecolor\":\"white\",\"ticks\":\"\",\"title\":{\"standoff\":15},\"zerolinecolor\":\"white\",\"zerolinewidth\":2}}},\"xaxis\":{\"anchor\":\"y\",\"domain\":[0.0,0.45]},\"yaxis\":{\"anchor\":\"x\",\"domain\":[0.0,1.0]},\"xaxis2\":{\"anchor\":\"y2\",\"domain\":[0.55,1.0]},\"yaxis2\":{\"anchor\":\"x2\",\"domain\":[0.0,1.0]},\"annotations\":[{\"font\":{\"size\":16},\"showarrow\":false,\"text\":\"Covid-19 Cases in US\",\"x\":0.225,\"xanchor\":\"center\",\"xref\":\"paper\",\"y\":1.0,\"yanchor\":\"bottom\",\"yref\":\"paper\"},{\"font\":{\"size\":16},\"showarrow\":false,\"text\":\"Covid-19 Deaths in US\",\"x\":0.775,\"xanchor\":\"center\",\"xref\":\"paper\",\"y\":1.0,\"yanchor\":\"bottom\",\"yref\":\"paper\"}]},                        {\"responsive\": true}                    ).then(function(){\n",
       "                            \n",
       "var gd = document.getElementById('90176403-f80f-41dd-beb4-803e266d07e9');\n",
       "var x = new MutationObserver(function (mutations, observer) {{\n",
       "        var display = window.getComputedStyle(gd).display;\n",
       "        if (!display || display === 'none') {{\n",
       "            console.log([gd, 'removed!']);\n",
       "            Plotly.purge(gd);\n",
       "            observer.disconnect();\n",
       "        }}\n",
       "}});\n",
       "\n",
       "// Listen for the removal of the full notebook cells\n",
       "var notebookContainer = gd.closest('#notebook-container');\n",
       "if (notebookContainer) {{\n",
       "    x.observe(notebookContainer, {childList: true});\n",
       "}}\n",
       "\n",
       "// Listen for the clearing of the current output cell\n",
       "var outputEl = gd.closest('.output');\n",
       "if (outputEl) {{\n",
       "    x.observe(outputEl, {childList: true});\n",
       "}}\n",
       "\n",
       "                        })                };                });            </script>        </div>"
      ]
     },
     "metadata": {},
     "output_type": "display_data"
    }
   ],
   "source": [
    "fig = plotly.subplots.make_subplots(rows=1, cols=2,subplot_titles=(\"Covid-19 Cases in US\",\"Covid-19 Deaths in US\"))\n",
    "\n",
    "fig.add_trace(go.Scatter(x=USA.Date, y=USA.Confirmed,\n",
    "                         line=dict(color='blue', width=2), mode = 'lines+markers',\n",
    "                        name = 'Confirmed',fill='tozeroy'),row=1,col=1)\n",
    "fig.add_trace(go.Scatter(x=USA.Date, y=USA.Deaths,\n",
    "                         line=dict(color='red', width=2), mode = 'lines+markers',\n",
    "                        name = 'Deaths',fill='tonexty'),row=1,col=2)"
   ]
  },
  {
   "cell_type": "markdown",
   "metadata": {
    "extensions": {
     "jupyter_dashboards": {
      "version": 1,
      "views": {
       "grid_default": {
        "col": null,
        "height": 2,
        "hidden": true,
        "row": null,
        "width": 2
       },
       "report_default": {
        "col": 0,
        "height": 2,
        "hidden": false,
        "row": 66,
        "width": 12
       }
      }
     }
    }
   },
   "source": [
    "<h1><center>Top 10 Countries with Highest Mortality Rate</center></h1>"
   ]
  },
  {
   "cell_type": "code",
   "execution_count": 33,
   "metadata": {
    "colab": {
     "base_uri": "https://localhost:8080/",
     "height": 542
    },
    "extensions": {
     "jupyter_dashboards": {
      "version": 1,
      "views": {
       "default_view": {
        "col": 0,
        "height": 2,
        "row": 68,
        "width": 12
       },
       "grid_default": {
        "col": 0,
        "height": 7,
        "hidden": false,
        "row": 16,
        "width": 7
       },
       "report_default": {
        "col": 0,
        "height": 2,
        "hidden": false,
        "row": 68,
        "width": 12
       }
      }
     }
    },
    "id": "t3PTzmMt-L-3",
    "outputId": "b7140c38-8b7b-4301-8343-88c89bfd7f2f"
   },
   "outputs": [
    {
     "data": {
      "application/vnd.plotly.v1+json": {
       "config": {
        "plotlyServerURL": "https://plot.ly"
       },
       "data": [
        {
         "hovertemplate": "Country=%{x}<br>mortality_rate=%{marker.size}<extra></extra>",
         "legendgroup": "Mexico",
         "marker": {
          "color": "#636efa",
          "size": [
           7.299912562360393
          ],
          "sizemode": "area",
          "sizeref": 0.0020277534895445535,
          "symbol": "circle"
         },
         "mode": "markers",
         "name": "Mexico",
         "orientation": "v",
         "showlegend": true,
         "type": "scatter",
         "x": [
          "Mexico"
         ],
         "xaxis": "x",
         "y": [
          7.299912562360393
         ],
         "yaxis": "y"
        },
        {
         "hovertemplate": "Country=%{x}<br>mortality_rate=%{marker.size}<extra></extra>",
         "legendgroup": "Indonesia",
         "marker": {
          "color": "#EF553B",
          "size": [
           3.378396908720769
          ],
          "sizemode": "area",
          "sizeref": 0.0020277534895445535,
          "symbol": "circle"
         },
         "mode": "markers",
         "name": "Indonesia",
         "orientation": "v",
         "showlegend": true,
         "type": "scatter",
         "x": [
          "Indonesia"
         ],
         "xaxis": "x",
         "y": [
          3.378396908720769
         ],
         "yaxis": "y"
        },
        {
         "hovertemplate": "Country=%{x}<br>mortality_rate=%{marker.size}<extra></extra>",
         "legendgroup": "Russia",
         "marker": {
          "color": "#00cc96",
          "size": [
           2.958804417113037
          ],
          "sizemode": "area",
          "sizeref": 0.0020277534895445535,
          "symbol": "circle"
         },
         "mode": "markers",
         "name": "Russia",
         "orientation": "v",
         "showlegend": true,
         "type": "scatter",
         "x": [
          "Russia"
         ],
         "xaxis": "x",
         "y": [
          2.958804417113037
         ],
         "yaxis": "y"
        },
        {
         "hovertemplate": "Country=%{x}<br>mortality_rate=%{marker.size}<extra></extra>",
         "legendgroup": "Brazil",
         "marker": {
          "color": "#ab63fa",
          "size": [
           2.7531002788694114
          ],
          "sizemode": "area",
          "sizeref": 0.0020277534895445535,
          "symbol": "circle"
         },
         "mode": "markers",
         "name": "Brazil",
         "orientation": "v",
         "showlegend": true,
         "type": "scatter",
         "x": [
          "Brazil"
         ],
         "xaxis": "x",
         "y": [
          2.7531002788694114
         ],
         "yaxis": "y"
        },
        {
         "hovertemplate": "Country=%{x}<br>mortality_rate=%{marker.size}<extra></extra>",
         "legendgroup": "Ukraine",
         "marker": {
          "color": "#FFA15A",
          "size": [
           2.6682093344966
          ],
          "sizemode": "area",
          "sizeref": 0.0020277534895445535,
          "symbol": "circle"
         },
         "mode": "markers",
         "name": "Ukraine",
         "orientation": "v",
         "showlegend": true,
         "type": "scatter",
         "x": [
          "Ukraine"
         ],
         "xaxis": "x",
         "y": [
          2.6682093344966
         ],
         "yaxis": "y"
        },
        {
         "hovertemplate": "Country=%{x}<br>mortality_rate=%{marker.size}<extra></extra>",
         "legendgroup": "South Africa",
         "marker": {
          "color": "#19d3f3",
          "size": [
           2.6219961464004804
          ],
          "sizemode": "area",
          "sizeref": 0.0020277534895445535,
          "symbol": "circle"
         },
         "mode": "markers",
         "name": "South Africa",
         "orientation": "v",
         "showlegend": true,
         "type": "scatter",
         "x": [
          "South Africa"
         ],
         "xaxis": "x",
         "y": [
          2.6219961464004804
         ],
         "yaxis": "y"
        },
        {
         "hovertemplate": "Country=%{x}<br>mortality_rate=%{marker.size}<extra></extra>",
         "legendgroup": "Colombia",
         "marker": {
          "color": "#FF6692",
          "size": [
           2.4450621705146567
          ],
          "sizemode": "area",
          "sizeref": 0.0020277534895445535,
          "symbol": "circle"
         },
         "mode": "markers",
         "name": "Colombia",
         "orientation": "v",
         "showlegend": true,
         "type": "scatter",
         "x": [
          "Colombia"
         ],
         "xaxis": "x",
         "y": [
          2.4450621705146567
         ],
         "yaxis": "y"
        },
        {
         "hovertemplate": "Country=%{x}<br>mortality_rate=%{marker.size}<extra></extra>",
         "legendgroup": "Poland",
         "marker": {
          "color": "#B6E880",
          "size": [
           2.367370906226317
          ],
          "sizemode": "area",
          "sizeref": 0.0020277534895445535,
          "symbol": "circle"
         },
         "mode": "markers",
         "name": "Poland",
         "orientation": "v",
         "showlegend": true,
         "type": "scatter",
         "x": [
          "Poland"
         ],
         "xaxis": "x",
         "y": [
          2.367370906226317
         ],
         "yaxis": "y"
        },
        {
         "hovertemplate": "Country=%{x}<br>mortality_rate=%{marker.size}<extra></extra>",
         "legendgroup": "Iran",
         "marker": {
          "color": "#FF97FF",
          "size": [
           2.124869388961887
          ],
          "sizemode": "area",
          "sizeref": 0.0020277534895445535,
          "symbol": "circle"
         },
         "mode": "markers",
         "name": "Iran",
         "orientation": "v",
         "showlegend": true,
         "type": "scatter",
         "x": [
          "Iran"
         ],
         "xaxis": "x",
         "y": [
          2.124869388961887
         ],
         "yaxis": "y"
        },
        {
         "hovertemplate": "Country=%{x}<br>mortality_rate=%{marker.size}<extra></extra>",
         "legendgroup": "Italy",
         "marker": {
          "color": "#FECB52",
          "size": [
           1.869559505597666
          ],
          "sizemode": "area",
          "sizeref": 0.0020277534895445535,
          "symbol": "circle"
         },
         "mode": "markers",
         "name": "Italy",
         "orientation": "v",
         "showlegend": true,
         "type": "scatter",
         "x": [
          "Italy"
         ],
         "xaxis": "x",
         "y": [
          1.869559505597666
         ],
         "yaxis": "y"
        }
       ],
       "layout": {
        "legend": {
         "itemsizing": "constant",
         "title": {
          "text": "Country"
         },
         "tracegroupgap": 0
        },
        "margin": {
         "t": 60
        },
        "template": {
         "data": {
          "bar": [
           {
            "error_x": {
             "color": "#2a3f5f"
            },
            "error_y": {
             "color": "#2a3f5f"
            },
            "marker": {
             "line": {
              "color": "#E5ECF6",
              "width": 0.5
             },
             "pattern": {
              "fillmode": "overlay",
              "size": 10,
              "solidity": 0.2
             }
            },
            "type": "bar"
           }
          ],
          "barpolar": [
           {
            "marker": {
             "line": {
              "color": "#E5ECF6",
              "width": 0.5
             },
             "pattern": {
              "fillmode": "overlay",
              "size": 10,
              "solidity": 0.2
             }
            },
            "type": "barpolar"
           }
          ],
          "carpet": [
           {
            "aaxis": {
             "endlinecolor": "#2a3f5f",
             "gridcolor": "white",
             "linecolor": "white",
             "minorgridcolor": "white",
             "startlinecolor": "#2a3f5f"
            },
            "baxis": {
             "endlinecolor": "#2a3f5f",
             "gridcolor": "white",
             "linecolor": "white",
             "minorgridcolor": "white",
             "startlinecolor": "#2a3f5f"
            },
            "type": "carpet"
           }
          ],
          "choropleth": [
           {
            "colorbar": {
             "outlinewidth": 0,
             "ticks": ""
            },
            "type": "choropleth"
           }
          ],
          "contour": [
           {
            "colorbar": {
             "outlinewidth": 0,
             "ticks": ""
            },
            "colorscale": [
             [
              0,
              "#0d0887"
             ],
             [
              0.1111111111111111,
              "#46039f"
             ],
             [
              0.2222222222222222,
              "#7201a8"
             ],
             [
              0.3333333333333333,
              "#9c179e"
             ],
             [
              0.4444444444444444,
              "#bd3786"
             ],
             [
              0.5555555555555556,
              "#d8576b"
             ],
             [
              0.6666666666666666,
              "#ed7953"
             ],
             [
              0.7777777777777778,
              "#fb9f3a"
             ],
             [
              0.8888888888888888,
              "#fdca26"
             ],
             [
              1,
              "#f0f921"
             ]
            ],
            "type": "contour"
           }
          ],
          "contourcarpet": [
           {
            "colorbar": {
             "outlinewidth": 0,
             "ticks": ""
            },
            "type": "contourcarpet"
           }
          ],
          "heatmap": [
           {
            "colorbar": {
             "outlinewidth": 0,
             "ticks": ""
            },
            "colorscale": [
             [
              0,
              "#0d0887"
             ],
             [
              0.1111111111111111,
              "#46039f"
             ],
             [
              0.2222222222222222,
              "#7201a8"
             ],
             [
              0.3333333333333333,
              "#9c179e"
             ],
             [
              0.4444444444444444,
              "#bd3786"
             ],
             [
              0.5555555555555556,
              "#d8576b"
             ],
             [
              0.6666666666666666,
              "#ed7953"
             ],
             [
              0.7777777777777778,
              "#fb9f3a"
             ],
             [
              0.8888888888888888,
              "#fdca26"
             ],
             [
              1,
              "#f0f921"
             ]
            ],
            "type": "heatmap"
           }
          ],
          "heatmapgl": [
           {
            "colorbar": {
             "outlinewidth": 0,
             "ticks": ""
            },
            "colorscale": [
             [
              0,
              "#0d0887"
             ],
             [
              0.1111111111111111,
              "#46039f"
             ],
             [
              0.2222222222222222,
              "#7201a8"
             ],
             [
              0.3333333333333333,
              "#9c179e"
             ],
             [
              0.4444444444444444,
              "#bd3786"
             ],
             [
              0.5555555555555556,
              "#d8576b"
             ],
             [
              0.6666666666666666,
              "#ed7953"
             ],
             [
              0.7777777777777778,
              "#fb9f3a"
             ],
             [
              0.8888888888888888,
              "#fdca26"
             ],
             [
              1,
              "#f0f921"
             ]
            ],
            "type": "heatmapgl"
           }
          ],
          "histogram": [
           {
            "marker": {
             "pattern": {
              "fillmode": "overlay",
              "size": 10,
              "solidity": 0.2
             }
            },
            "type": "histogram"
           }
          ],
          "histogram2d": [
           {
            "colorbar": {
             "outlinewidth": 0,
             "ticks": ""
            },
            "colorscale": [
             [
              0,
              "#0d0887"
             ],
             [
              0.1111111111111111,
              "#46039f"
             ],
             [
              0.2222222222222222,
              "#7201a8"
             ],
             [
              0.3333333333333333,
              "#9c179e"
             ],
             [
              0.4444444444444444,
              "#bd3786"
             ],
             [
              0.5555555555555556,
              "#d8576b"
             ],
             [
              0.6666666666666666,
              "#ed7953"
             ],
             [
              0.7777777777777778,
              "#fb9f3a"
             ],
             [
              0.8888888888888888,
              "#fdca26"
             ],
             [
              1,
              "#f0f921"
             ]
            ],
            "type": "histogram2d"
           }
          ],
          "histogram2dcontour": [
           {
            "colorbar": {
             "outlinewidth": 0,
             "ticks": ""
            },
            "colorscale": [
             [
              0,
              "#0d0887"
             ],
             [
              0.1111111111111111,
              "#46039f"
             ],
             [
              0.2222222222222222,
              "#7201a8"
             ],
             [
              0.3333333333333333,
              "#9c179e"
             ],
             [
              0.4444444444444444,
              "#bd3786"
             ],
             [
              0.5555555555555556,
              "#d8576b"
             ],
             [
              0.6666666666666666,
              "#ed7953"
             ],
             [
              0.7777777777777778,
              "#fb9f3a"
             ],
             [
              0.8888888888888888,
              "#fdca26"
             ],
             [
              1,
              "#f0f921"
             ]
            ],
            "type": "histogram2dcontour"
           }
          ],
          "mesh3d": [
           {
            "colorbar": {
             "outlinewidth": 0,
             "ticks": ""
            },
            "type": "mesh3d"
           }
          ],
          "parcoords": [
           {
            "line": {
             "colorbar": {
              "outlinewidth": 0,
              "ticks": ""
             }
            },
            "type": "parcoords"
           }
          ],
          "pie": [
           {
            "automargin": true,
            "type": "pie"
           }
          ],
          "scatter": [
           {
            "marker": {
             "colorbar": {
              "outlinewidth": 0,
              "ticks": ""
             }
            },
            "type": "scatter"
           }
          ],
          "scatter3d": [
           {
            "line": {
             "colorbar": {
              "outlinewidth": 0,
              "ticks": ""
             }
            },
            "marker": {
             "colorbar": {
              "outlinewidth": 0,
              "ticks": ""
             }
            },
            "type": "scatter3d"
           }
          ],
          "scattercarpet": [
           {
            "marker": {
             "colorbar": {
              "outlinewidth": 0,
              "ticks": ""
             }
            },
            "type": "scattercarpet"
           }
          ],
          "scattergeo": [
           {
            "marker": {
             "colorbar": {
              "outlinewidth": 0,
              "ticks": ""
             }
            },
            "type": "scattergeo"
           }
          ],
          "scattergl": [
           {
            "marker": {
             "colorbar": {
              "outlinewidth": 0,
              "ticks": ""
             }
            },
            "type": "scattergl"
           }
          ],
          "scattermapbox": [
           {
            "marker": {
             "colorbar": {
              "outlinewidth": 0,
              "ticks": ""
             }
            },
            "type": "scattermapbox"
           }
          ],
          "scatterpolar": [
           {
            "marker": {
             "colorbar": {
              "outlinewidth": 0,
              "ticks": ""
             }
            },
            "type": "scatterpolar"
           }
          ],
          "scatterpolargl": [
           {
            "marker": {
             "colorbar": {
              "outlinewidth": 0,
              "ticks": ""
             }
            },
            "type": "scatterpolargl"
           }
          ],
          "scatterternary": [
           {
            "marker": {
             "colorbar": {
              "outlinewidth": 0,
              "ticks": ""
             }
            },
            "type": "scatterternary"
           }
          ],
          "surface": [
           {
            "colorbar": {
             "outlinewidth": 0,
             "ticks": ""
            },
            "colorscale": [
             [
              0,
              "#0d0887"
             ],
             [
              0.1111111111111111,
              "#46039f"
             ],
             [
              0.2222222222222222,
              "#7201a8"
             ],
             [
              0.3333333333333333,
              "#9c179e"
             ],
             [
              0.4444444444444444,
              "#bd3786"
             ],
             [
              0.5555555555555556,
              "#d8576b"
             ],
             [
              0.6666666666666666,
              "#ed7953"
             ],
             [
              0.7777777777777778,
              "#fb9f3a"
             ],
             [
              0.8888888888888888,
              "#fdca26"
             ],
             [
              1,
              "#f0f921"
             ]
            ],
            "type": "surface"
           }
          ],
          "table": [
           {
            "cells": {
             "fill": {
              "color": "#EBF0F8"
             },
             "line": {
              "color": "white"
             }
            },
            "header": {
             "fill": {
              "color": "#C8D4E3"
             },
             "line": {
              "color": "white"
             }
            },
            "type": "table"
           }
          ]
         },
         "layout": {
          "annotationdefaults": {
           "arrowcolor": "#2a3f5f",
           "arrowhead": 0,
           "arrowwidth": 1
          },
          "autotypenumbers": "strict",
          "coloraxis": {
           "colorbar": {
            "outlinewidth": 0,
            "ticks": ""
           }
          },
          "colorscale": {
           "diverging": [
            [
             0,
             "#8e0152"
            ],
            [
             0.1,
             "#c51b7d"
            ],
            [
             0.2,
             "#de77ae"
            ],
            [
             0.3,
             "#f1b6da"
            ],
            [
             0.4,
             "#fde0ef"
            ],
            [
             0.5,
             "#f7f7f7"
            ],
            [
             0.6,
             "#e6f5d0"
            ],
            [
             0.7,
             "#b8e186"
            ],
            [
             0.8,
             "#7fbc41"
            ],
            [
             0.9,
             "#4d9221"
            ],
            [
             1,
             "#276419"
            ]
           ],
           "sequential": [
            [
             0,
             "#0d0887"
            ],
            [
             0.1111111111111111,
             "#46039f"
            ],
            [
             0.2222222222222222,
             "#7201a8"
            ],
            [
             0.3333333333333333,
             "#9c179e"
            ],
            [
             0.4444444444444444,
             "#bd3786"
            ],
            [
             0.5555555555555556,
             "#d8576b"
            ],
            [
             0.6666666666666666,
             "#ed7953"
            ],
            [
             0.7777777777777778,
             "#fb9f3a"
            ],
            [
             0.8888888888888888,
             "#fdca26"
            ],
            [
             1,
             "#f0f921"
            ]
           ],
           "sequentialminus": [
            [
             0,
             "#0d0887"
            ],
            [
             0.1111111111111111,
             "#46039f"
            ],
            [
             0.2222222222222222,
             "#7201a8"
            ],
            [
             0.3333333333333333,
             "#9c179e"
            ],
            [
             0.4444444444444444,
             "#bd3786"
            ],
            [
             0.5555555555555556,
             "#d8576b"
            ],
            [
             0.6666666666666666,
             "#ed7953"
            ],
            [
             0.7777777777777778,
             "#fb9f3a"
            ],
            [
             0.8888888888888888,
             "#fdca26"
            ],
            [
             1,
             "#f0f921"
            ]
           ]
          },
          "colorway": [
           "#636efa",
           "#EF553B",
           "#00cc96",
           "#ab63fa",
           "#FFA15A",
           "#19d3f3",
           "#FF6692",
           "#B6E880",
           "#FF97FF",
           "#FECB52"
          ],
          "font": {
           "color": "#2a3f5f"
          },
          "geo": {
           "bgcolor": "white",
           "lakecolor": "white",
           "landcolor": "#E5ECF6",
           "showlakes": true,
           "showland": true,
           "subunitcolor": "white"
          },
          "hoverlabel": {
           "align": "left"
          },
          "hovermode": "closest",
          "mapbox": {
           "style": "light"
          },
          "paper_bgcolor": "white",
          "plot_bgcolor": "#E5ECF6",
          "polar": {
           "angularaxis": {
            "gridcolor": "white",
            "linecolor": "white",
            "ticks": ""
           },
           "bgcolor": "#E5ECF6",
           "radialaxis": {
            "gridcolor": "white",
            "linecolor": "white",
            "ticks": ""
           }
          },
          "scene": {
           "xaxis": {
            "backgroundcolor": "#E5ECF6",
            "gridcolor": "white",
            "gridwidth": 2,
            "linecolor": "white",
            "showbackground": true,
            "ticks": "",
            "zerolinecolor": "white"
           },
           "yaxis": {
            "backgroundcolor": "#E5ECF6",
            "gridcolor": "white",
            "gridwidth": 2,
            "linecolor": "white",
            "showbackground": true,
            "ticks": "",
            "zerolinecolor": "white"
           },
           "zaxis": {
            "backgroundcolor": "#E5ECF6",
            "gridcolor": "white",
            "gridwidth": 2,
            "linecolor": "white",
            "showbackground": true,
            "ticks": "",
            "zerolinecolor": "white"
           }
          },
          "shapedefaults": {
           "line": {
            "color": "#2a3f5f"
           }
          },
          "ternary": {
           "aaxis": {
            "gridcolor": "white",
            "linecolor": "white",
            "ticks": ""
           },
           "baxis": {
            "gridcolor": "white",
            "linecolor": "white",
            "ticks": ""
           },
           "bgcolor": "#E5ECF6",
           "caxis": {
            "gridcolor": "white",
            "linecolor": "white",
            "ticks": ""
           }
          },
          "title": {
           "x": 0.05
          },
          "xaxis": {
           "automargin": true,
           "gridcolor": "white",
           "linecolor": "white",
           "ticks": "",
           "title": {
            "standoff": 15
           },
           "zerolinecolor": "white",
           "zerolinewidth": 2
          },
          "yaxis": {
           "automargin": true,
           "gridcolor": "white",
           "linecolor": "white",
           "ticks": "",
           "title": {
            "standoff": 15
           },
           "zerolinecolor": "white",
           "zerolinewidth": 2
          }
         }
        },
        "xaxis": {
         "anchor": "y",
         "categoryarray": [
          "Mexico",
          "Indonesia",
          "Russia",
          "Brazil",
          "Ukraine",
          "South Africa",
          "Colombia",
          "Poland",
          "Iran",
          "Italy"
         ],
         "categoryorder": "array",
         "domain": [
          0,
          1
         ],
         "title": {
          "text": "Country"
         }
        },
        "yaxis": {
         "anchor": "x",
         "domain": [
          0,
          1
         ],
         "title": {
          "text": "Mortality Rate"
         }
        }
       }
      },
      "text/html": [
       "<div>                            <div id=\"e87a41a7-1db7-43ee-bdef-96d463671e5a\" class=\"plotly-graph-div\" style=\"height:525px; width:100%;\"></div>            <script type=\"text/javascript\">                require([\"plotly\"], function(Plotly) {                    window.PLOTLYENV=window.PLOTLYENV || {};                                    if (document.getElementById(\"e87a41a7-1db7-43ee-bdef-96d463671e5a\")) {                    Plotly.newPlot(                        \"e87a41a7-1db7-43ee-bdef-96d463671e5a\",                        [{\"hovertemplate\":\"Country=%{x}<br>mortality_rate=%{marker.size}<extra></extra>\",\"legendgroup\":\"Mexico\",\"marker\":{\"color\":\"#636efa\",\"size\":[7.299912562360393],\"sizemode\":\"area\",\"sizeref\":0.0020277534895445535,\"symbol\":\"circle\"},\"mode\":\"markers\",\"name\":\"Mexico\",\"orientation\":\"v\",\"showlegend\":true,\"x\":[\"Mexico\"],\"xaxis\":\"x\",\"y\":[7.299912562360393],\"yaxis\":\"y\",\"type\":\"scatter\"},{\"hovertemplate\":\"Country=%{x}<br>mortality_rate=%{marker.size}<extra></extra>\",\"legendgroup\":\"Indonesia\",\"marker\":{\"color\":\"#EF553B\",\"size\":[3.378396908720769],\"sizemode\":\"area\",\"sizeref\":0.0020277534895445535,\"symbol\":\"circle\"},\"mode\":\"markers\",\"name\":\"Indonesia\",\"orientation\":\"v\",\"showlegend\":true,\"x\":[\"Indonesia\"],\"xaxis\":\"x\",\"y\":[3.378396908720769],\"yaxis\":\"y\",\"type\":\"scatter\"},{\"hovertemplate\":\"Country=%{x}<br>mortality_rate=%{marker.size}<extra></extra>\",\"legendgroup\":\"Russia\",\"marker\":{\"color\":\"#00cc96\",\"size\":[2.958804417113037],\"sizemode\":\"area\",\"sizeref\":0.0020277534895445535,\"symbol\":\"circle\"},\"mode\":\"markers\",\"name\":\"Russia\",\"orientation\":\"v\",\"showlegend\":true,\"x\":[\"Russia\"],\"xaxis\":\"x\",\"y\":[2.958804417113037],\"yaxis\":\"y\",\"type\":\"scatter\"},{\"hovertemplate\":\"Country=%{x}<br>mortality_rate=%{marker.size}<extra></extra>\",\"legendgroup\":\"Brazil\",\"marker\":{\"color\":\"#ab63fa\",\"size\":[2.7531002788694114],\"sizemode\":\"area\",\"sizeref\":0.0020277534895445535,\"symbol\":\"circle\"},\"mode\":\"markers\",\"name\":\"Brazil\",\"orientation\":\"v\",\"showlegend\":true,\"x\":[\"Brazil\"],\"xaxis\":\"x\",\"y\":[2.7531002788694114],\"yaxis\":\"y\",\"type\":\"scatter\"},{\"hovertemplate\":\"Country=%{x}<br>mortality_rate=%{marker.size}<extra></extra>\",\"legendgroup\":\"Ukraine\",\"marker\":{\"color\":\"#FFA15A\",\"size\":[2.6682093344966],\"sizemode\":\"area\",\"sizeref\":0.0020277534895445535,\"symbol\":\"circle\"},\"mode\":\"markers\",\"name\":\"Ukraine\",\"orientation\":\"v\",\"showlegend\":true,\"x\":[\"Ukraine\"],\"xaxis\":\"x\",\"y\":[2.6682093344966],\"yaxis\":\"y\",\"type\":\"scatter\"},{\"hovertemplate\":\"Country=%{x}<br>mortality_rate=%{marker.size}<extra></extra>\",\"legendgroup\":\"South Africa\",\"marker\":{\"color\":\"#19d3f3\",\"size\":[2.6219961464004804],\"sizemode\":\"area\",\"sizeref\":0.0020277534895445535,\"symbol\":\"circle\"},\"mode\":\"markers\",\"name\":\"South Africa\",\"orientation\":\"v\",\"showlegend\":true,\"x\":[\"South Africa\"],\"xaxis\":\"x\",\"y\":[2.6219961464004804],\"yaxis\":\"y\",\"type\":\"scatter\"},{\"hovertemplate\":\"Country=%{x}<br>mortality_rate=%{marker.size}<extra></extra>\",\"legendgroup\":\"Colombia\",\"marker\":{\"color\":\"#FF6692\",\"size\":[2.4450621705146567],\"sizemode\":\"area\",\"sizeref\":0.0020277534895445535,\"symbol\":\"circle\"},\"mode\":\"markers\",\"name\":\"Colombia\",\"orientation\":\"v\",\"showlegend\":true,\"x\":[\"Colombia\"],\"xaxis\":\"x\",\"y\":[2.4450621705146567],\"yaxis\":\"y\",\"type\":\"scatter\"},{\"hovertemplate\":\"Country=%{x}<br>mortality_rate=%{marker.size}<extra></extra>\",\"legendgroup\":\"Poland\",\"marker\":{\"color\":\"#B6E880\",\"size\":[2.367370906226317],\"sizemode\":\"area\",\"sizeref\":0.0020277534895445535,\"symbol\":\"circle\"},\"mode\":\"markers\",\"name\":\"Poland\",\"orientation\":\"v\",\"showlegend\":true,\"x\":[\"Poland\"],\"xaxis\":\"x\",\"y\":[2.367370906226317],\"yaxis\":\"y\",\"type\":\"scatter\"},{\"hovertemplate\":\"Country=%{x}<br>mortality_rate=%{marker.size}<extra></extra>\",\"legendgroup\":\"Iran\",\"marker\":{\"color\":\"#FF97FF\",\"size\":[2.124869388961887],\"sizemode\":\"area\",\"sizeref\":0.0020277534895445535,\"symbol\":\"circle\"},\"mode\":\"markers\",\"name\":\"Iran\",\"orientation\":\"v\",\"showlegend\":true,\"x\":[\"Iran\"],\"xaxis\":\"x\",\"y\":[2.124869388961887],\"yaxis\":\"y\",\"type\":\"scatter\"},{\"hovertemplate\":\"Country=%{x}<br>mortality_rate=%{marker.size}<extra></extra>\",\"legendgroup\":\"Italy\",\"marker\":{\"color\":\"#FECB52\",\"size\":[1.869559505597666],\"sizemode\":\"area\",\"sizeref\":0.0020277534895445535,\"symbol\":\"circle\"},\"mode\":\"markers\",\"name\":\"Italy\",\"orientation\":\"v\",\"showlegend\":true,\"x\":[\"Italy\"],\"xaxis\":\"x\",\"y\":[1.869559505597666],\"yaxis\":\"y\",\"type\":\"scatter\"}],                        {\"template\":{\"data\":{\"bar\":[{\"error_x\":{\"color\":\"#2a3f5f\"},\"error_y\":{\"color\":\"#2a3f5f\"},\"marker\":{\"line\":{\"color\":\"#E5ECF6\",\"width\":0.5},\"pattern\":{\"fillmode\":\"overlay\",\"size\":10,\"solidity\":0.2}},\"type\":\"bar\"}],\"barpolar\":[{\"marker\":{\"line\":{\"color\":\"#E5ECF6\",\"width\":0.5},\"pattern\":{\"fillmode\":\"overlay\",\"size\":10,\"solidity\":0.2}},\"type\":\"barpolar\"}],\"carpet\":[{\"aaxis\":{\"endlinecolor\":\"#2a3f5f\",\"gridcolor\":\"white\",\"linecolor\":\"white\",\"minorgridcolor\":\"white\",\"startlinecolor\":\"#2a3f5f\"},\"baxis\":{\"endlinecolor\":\"#2a3f5f\",\"gridcolor\":\"white\",\"linecolor\":\"white\",\"minorgridcolor\":\"white\",\"startlinecolor\":\"#2a3f5f\"},\"type\":\"carpet\"}],\"choropleth\":[{\"colorbar\":{\"outlinewidth\":0,\"ticks\":\"\"},\"type\":\"choropleth\"}],\"contour\":[{\"colorbar\":{\"outlinewidth\":0,\"ticks\":\"\"},\"colorscale\":[[0.0,\"#0d0887\"],[0.1111111111111111,\"#46039f\"],[0.2222222222222222,\"#7201a8\"],[0.3333333333333333,\"#9c179e\"],[0.4444444444444444,\"#bd3786\"],[0.5555555555555556,\"#d8576b\"],[0.6666666666666666,\"#ed7953\"],[0.7777777777777778,\"#fb9f3a\"],[0.8888888888888888,\"#fdca26\"],[1.0,\"#f0f921\"]],\"type\":\"contour\"}],\"contourcarpet\":[{\"colorbar\":{\"outlinewidth\":0,\"ticks\":\"\"},\"type\":\"contourcarpet\"}],\"heatmap\":[{\"colorbar\":{\"outlinewidth\":0,\"ticks\":\"\"},\"colorscale\":[[0.0,\"#0d0887\"],[0.1111111111111111,\"#46039f\"],[0.2222222222222222,\"#7201a8\"],[0.3333333333333333,\"#9c179e\"],[0.4444444444444444,\"#bd3786\"],[0.5555555555555556,\"#d8576b\"],[0.6666666666666666,\"#ed7953\"],[0.7777777777777778,\"#fb9f3a\"],[0.8888888888888888,\"#fdca26\"],[1.0,\"#f0f921\"]],\"type\":\"heatmap\"}],\"heatmapgl\":[{\"colorbar\":{\"outlinewidth\":0,\"ticks\":\"\"},\"colorscale\":[[0.0,\"#0d0887\"],[0.1111111111111111,\"#46039f\"],[0.2222222222222222,\"#7201a8\"],[0.3333333333333333,\"#9c179e\"],[0.4444444444444444,\"#bd3786\"],[0.5555555555555556,\"#d8576b\"],[0.6666666666666666,\"#ed7953\"],[0.7777777777777778,\"#fb9f3a\"],[0.8888888888888888,\"#fdca26\"],[1.0,\"#f0f921\"]],\"type\":\"heatmapgl\"}],\"histogram\":[{\"marker\":{\"pattern\":{\"fillmode\":\"overlay\",\"size\":10,\"solidity\":0.2}},\"type\":\"histogram\"}],\"histogram2d\":[{\"colorbar\":{\"outlinewidth\":0,\"ticks\":\"\"},\"colorscale\":[[0.0,\"#0d0887\"],[0.1111111111111111,\"#46039f\"],[0.2222222222222222,\"#7201a8\"],[0.3333333333333333,\"#9c179e\"],[0.4444444444444444,\"#bd3786\"],[0.5555555555555556,\"#d8576b\"],[0.6666666666666666,\"#ed7953\"],[0.7777777777777778,\"#fb9f3a\"],[0.8888888888888888,\"#fdca26\"],[1.0,\"#f0f921\"]],\"type\":\"histogram2d\"}],\"histogram2dcontour\":[{\"colorbar\":{\"outlinewidth\":0,\"ticks\":\"\"},\"colorscale\":[[0.0,\"#0d0887\"],[0.1111111111111111,\"#46039f\"],[0.2222222222222222,\"#7201a8\"],[0.3333333333333333,\"#9c179e\"],[0.4444444444444444,\"#bd3786\"],[0.5555555555555556,\"#d8576b\"],[0.6666666666666666,\"#ed7953\"],[0.7777777777777778,\"#fb9f3a\"],[0.8888888888888888,\"#fdca26\"],[1.0,\"#f0f921\"]],\"type\":\"histogram2dcontour\"}],\"mesh3d\":[{\"colorbar\":{\"outlinewidth\":0,\"ticks\":\"\"},\"type\":\"mesh3d\"}],\"parcoords\":[{\"line\":{\"colorbar\":{\"outlinewidth\":0,\"ticks\":\"\"}},\"type\":\"parcoords\"}],\"pie\":[{\"automargin\":true,\"type\":\"pie\"}],\"scatter\":[{\"marker\":{\"colorbar\":{\"outlinewidth\":0,\"ticks\":\"\"}},\"type\":\"scatter\"}],\"scatter3d\":[{\"line\":{\"colorbar\":{\"outlinewidth\":0,\"ticks\":\"\"}},\"marker\":{\"colorbar\":{\"outlinewidth\":0,\"ticks\":\"\"}},\"type\":\"scatter3d\"}],\"scattercarpet\":[{\"marker\":{\"colorbar\":{\"outlinewidth\":0,\"ticks\":\"\"}},\"type\":\"scattercarpet\"}],\"scattergeo\":[{\"marker\":{\"colorbar\":{\"outlinewidth\":0,\"ticks\":\"\"}},\"type\":\"scattergeo\"}],\"scattergl\":[{\"marker\":{\"colorbar\":{\"outlinewidth\":0,\"ticks\":\"\"}},\"type\":\"scattergl\"}],\"scattermapbox\":[{\"marker\":{\"colorbar\":{\"outlinewidth\":0,\"ticks\":\"\"}},\"type\":\"scattermapbox\"}],\"scatterpolar\":[{\"marker\":{\"colorbar\":{\"outlinewidth\":0,\"ticks\":\"\"}},\"type\":\"scatterpolar\"}],\"scatterpolargl\":[{\"marker\":{\"colorbar\":{\"outlinewidth\":0,\"ticks\":\"\"}},\"type\":\"scatterpolargl\"}],\"scatterternary\":[{\"marker\":{\"colorbar\":{\"outlinewidth\":0,\"ticks\":\"\"}},\"type\":\"scatterternary\"}],\"surface\":[{\"colorbar\":{\"outlinewidth\":0,\"ticks\":\"\"},\"colorscale\":[[0.0,\"#0d0887\"],[0.1111111111111111,\"#46039f\"],[0.2222222222222222,\"#7201a8\"],[0.3333333333333333,\"#9c179e\"],[0.4444444444444444,\"#bd3786\"],[0.5555555555555556,\"#d8576b\"],[0.6666666666666666,\"#ed7953\"],[0.7777777777777778,\"#fb9f3a\"],[0.8888888888888888,\"#fdca26\"],[1.0,\"#f0f921\"]],\"type\":\"surface\"}],\"table\":[{\"cells\":{\"fill\":{\"color\":\"#EBF0F8\"},\"line\":{\"color\":\"white\"}},\"header\":{\"fill\":{\"color\":\"#C8D4E3\"},\"line\":{\"color\":\"white\"}},\"type\":\"table\"}]},\"layout\":{\"annotationdefaults\":{\"arrowcolor\":\"#2a3f5f\",\"arrowhead\":0,\"arrowwidth\":1},\"autotypenumbers\":\"strict\",\"coloraxis\":{\"colorbar\":{\"outlinewidth\":0,\"ticks\":\"\"}},\"colorscale\":{\"diverging\":[[0,\"#8e0152\"],[0.1,\"#c51b7d\"],[0.2,\"#de77ae\"],[0.3,\"#f1b6da\"],[0.4,\"#fde0ef\"],[0.5,\"#f7f7f7\"],[0.6,\"#e6f5d0\"],[0.7,\"#b8e186\"],[0.8,\"#7fbc41\"],[0.9,\"#4d9221\"],[1,\"#276419\"]],\"sequential\":[[0.0,\"#0d0887\"],[0.1111111111111111,\"#46039f\"],[0.2222222222222222,\"#7201a8\"],[0.3333333333333333,\"#9c179e\"],[0.4444444444444444,\"#bd3786\"],[0.5555555555555556,\"#d8576b\"],[0.6666666666666666,\"#ed7953\"],[0.7777777777777778,\"#fb9f3a\"],[0.8888888888888888,\"#fdca26\"],[1.0,\"#f0f921\"]],\"sequentialminus\":[[0.0,\"#0d0887\"],[0.1111111111111111,\"#46039f\"],[0.2222222222222222,\"#7201a8\"],[0.3333333333333333,\"#9c179e\"],[0.4444444444444444,\"#bd3786\"],[0.5555555555555556,\"#d8576b\"],[0.6666666666666666,\"#ed7953\"],[0.7777777777777778,\"#fb9f3a\"],[0.8888888888888888,\"#fdca26\"],[1.0,\"#f0f921\"]]},\"colorway\":[\"#636efa\",\"#EF553B\",\"#00cc96\",\"#ab63fa\",\"#FFA15A\",\"#19d3f3\",\"#FF6692\",\"#B6E880\",\"#FF97FF\",\"#FECB52\"],\"font\":{\"color\":\"#2a3f5f\"},\"geo\":{\"bgcolor\":\"white\",\"lakecolor\":\"white\",\"landcolor\":\"#E5ECF6\",\"showlakes\":true,\"showland\":true,\"subunitcolor\":\"white\"},\"hoverlabel\":{\"align\":\"left\"},\"hovermode\":\"closest\",\"mapbox\":{\"style\":\"light\"},\"paper_bgcolor\":\"white\",\"plot_bgcolor\":\"#E5ECF6\",\"polar\":{\"angularaxis\":{\"gridcolor\":\"white\",\"linecolor\":\"white\",\"ticks\":\"\"},\"bgcolor\":\"#E5ECF6\",\"radialaxis\":{\"gridcolor\":\"white\",\"linecolor\":\"white\",\"ticks\":\"\"}},\"scene\":{\"xaxis\":{\"backgroundcolor\":\"#E5ECF6\",\"gridcolor\":\"white\",\"gridwidth\":2,\"linecolor\":\"white\",\"showbackground\":true,\"ticks\":\"\",\"zerolinecolor\":\"white\"},\"yaxis\":{\"backgroundcolor\":\"#E5ECF6\",\"gridcolor\":\"white\",\"gridwidth\":2,\"linecolor\":\"white\",\"showbackground\":true,\"ticks\":\"\",\"zerolinecolor\":\"white\"},\"zaxis\":{\"backgroundcolor\":\"#E5ECF6\",\"gridcolor\":\"white\",\"gridwidth\":2,\"linecolor\":\"white\",\"showbackground\":true,\"ticks\":\"\",\"zerolinecolor\":\"white\"}},\"shapedefaults\":{\"line\":{\"color\":\"#2a3f5f\"}},\"ternary\":{\"aaxis\":{\"gridcolor\":\"white\",\"linecolor\":\"white\",\"ticks\":\"\"},\"baxis\":{\"gridcolor\":\"white\",\"linecolor\":\"white\",\"ticks\":\"\"},\"bgcolor\":\"#E5ECF6\",\"caxis\":{\"gridcolor\":\"white\",\"linecolor\":\"white\",\"ticks\":\"\"}},\"title\":{\"x\":0.05},\"xaxis\":{\"automargin\":true,\"gridcolor\":\"white\",\"linecolor\":\"white\",\"ticks\":\"\",\"title\":{\"standoff\":15},\"zerolinecolor\":\"white\",\"zerolinewidth\":2},\"yaxis\":{\"automargin\":true,\"gridcolor\":\"white\",\"linecolor\":\"white\",\"ticks\":\"\",\"title\":{\"standoff\":15},\"zerolinecolor\":\"white\",\"zerolinewidth\":2}}},\"xaxis\":{\"anchor\":\"y\",\"domain\":[0.0,1.0],\"title\":{\"text\":\"Country\"},\"categoryorder\":\"array\",\"categoryarray\":[\"Mexico\",\"Indonesia\",\"Russia\",\"Brazil\",\"Ukraine\",\"South Africa\",\"Colombia\",\"Poland\",\"Iran\",\"Italy\"]},\"yaxis\":{\"anchor\":\"x\",\"domain\":[0.0,1.0],\"title\":{\"text\":\"Mortality Rate\"}},\"legend\":{\"title\":{\"text\":\"Country\"},\"tracegroupgap\":0,\"itemsizing\":\"constant\"},\"margin\":{\"t\":60}},                        {\"responsive\": true}                    ).then(function(){\n",
       "                            \n",
       "var gd = document.getElementById('e87a41a7-1db7-43ee-bdef-96d463671e5a');\n",
       "var x = new MutationObserver(function (mutations, observer) {{\n",
       "        var display = window.getComputedStyle(gd).display;\n",
       "        if (!display || display === 'none') {{\n",
       "            console.log([gd, 'removed!']);\n",
       "            Plotly.purge(gd);\n",
       "            observer.disconnect();\n",
       "        }}\n",
       "}});\n",
       "\n",
       "// Listen for the removal of the full notebook cells\n",
       "var notebookContainer = gd.closest('#notebook-container');\n",
       "if (notebookContainer) {{\n",
       "    x.observe(notebookContainer, {childList: true});\n",
       "}}\n",
       "\n",
       "// Listen for the clearing of the current output cell\n",
       "var outputEl = gd.closest('.output');\n",
       "if (outputEl) {{\n",
       "    x.observe(outputEl, {childList: true});\n",
       "}}\n",
       "\n",
       "                        })                };                });            </script>        </div>"
      ]
     },
     "metadata": {},
     "output_type": "display_data"
    }
   ],
   "source": [
    "# Create a bubble chart using px.scatter for mortality rate. \n",
    "\n",
    "sorted_country_df2 = sorted_country_df.sort_values(by='mortality_rate',ascending=False)\n",
    "fig = px.scatter(sorted_country_df2.head(10), x=\"Country\", y=\"mortality_rate\", color=\"Country\",size_max=60,size=\"mortality_rate\")\n",
    "fig.update_xaxes(title_text='Country')\n",
    "fig.update_yaxes(title_text='Mortality Rate')\n",
    "fig.update_layout(legend_title=\"Country\")\n",
    "\n",
    "fig.show() "
   ]
  },
  {
   "cell_type": "code",
   "execution_count": 34,
   "metadata": {
    "extensions": {
     "jupyter_dashboards": {
      "version": 1,
      "views": {
       "default_view": {
        "hidden": true
       },
       "grid_default": {
        "col": null,
        "height": 2,
        "hidden": true,
        "row": null,
        "width": 2
       },
       "report_default": {
        "hidden": true
       }
      }
     }
    },
    "id": "c8WgXTsB-ZJj"
   },
   "outputs": [],
   "source": [
    "# Visualize confirmed and death cases side by side : \n",
    "#import plotly.express as px\n",
    "#df = px.data.gapminder()\n",
    "#df = sorted_country_df \n",
    "#fig = px.area(df, x=\"confirmed\", y=\"deaths\", color=\"country_region\", line_group=\"deaths\")\n",
    "#fig.show() "
   ]
  },
  {
   "cell_type": "markdown",
   "metadata": {
    "extensions": {
     "jupyter_dashboards": {
      "version": 1,
      "views": {
       "default_view": {
        "col": 0,
        "height": 2,
        "row": 72,
        "width": 12
       },
       "grid_default": {
        "col": null,
        "height": 2,
        "hidden": true,
        "row": null,
        "width": 2
       },
       "report_default": {
        "col": 0,
        "height": 2,
        "hidden": false,
        "row": 72,
        "width": 12
       }
      }
     }
    },
    "id": "gYeP4X_Xy0pt"
   },
   "source": [
    "<h1><center>Top 10 Countries with Highest Active Case-Load in Past 28 Days</center></h1> "
   ]
  },
  {
   "cell_type": "code",
   "execution_count": 35,
   "metadata": {
    "colab": {
     "base_uri": "https://localhost:8080/",
     "height": 542
    },
    "extensions": {
     "jupyter_dashboards": {
      "version": 1,
      "views": {
       "default_view": {
        "col": 0,
        "height": 2,
        "row": 74,
        "width": 12
       },
       "grid_default": {
        "col": 0,
        "height": 7,
        "hidden": false,
        "row": 2,
        "width": 7
       },
       "report_default": {
        "col": 0,
        "height": 2,
        "hidden": false,
        "row": 74,
        "width": 12
       }
      }
     }
    },
    "id": "uZ8x68CUbB5m",
    "outputId": "8b03e17c-446c-450a-e027-68a3f8ccb43f"
   },
   "outputs": [
    {
     "data": {
      "application/vnd.plotly.v1+json": {
       "config": {
        "plotlyServerURL": "https://plot.ly"
       },
       "data": [
        {
         "alignmentgroup": "True",
         "hovertemplate": "Country=%{y}<br>Cases in Last 28 Days=%{x}<extra></extra>",
         "legendgroup": "US",
         "marker": {
          "color": "#636efa",
          "pattern": {
           "shape": ""
          }
         },
         "name": "US",
         "offsetgroup": "US",
         "orientation": "h",
         "showlegend": true,
         "textposition": "auto",
         "type": "bar",
         "x": [
          9870898
         ],
         "xaxis": "x",
         "y": [
          "US"
         ],
         "yaxis": "y"
        },
        {
         "alignmentgroup": "True",
         "hovertemplate": "Country=%{y}<br>Cases in Last 28 Days=%{x}<extra></extra>",
         "legendgroup": "France",
         "marker": {
          "color": "#EF553B",
          "pattern": {
           "shape": ""
          }
         },
         "name": "France",
         "offsetgroup": "France",
         "orientation": "h",
         "showlegend": true,
         "textposition": "auto",
         "type": "bar",
         "x": [
          3602930
         ],
         "xaxis": "x",
         "y": [
          "France"
         ],
         "yaxis": "y"
        },
        {
         "alignmentgroup": "True",
         "hovertemplate": "Country=%{y}<br>Cases in Last 28 Days=%{x}<extra></extra>",
         "legendgroup": "United Kingdom",
         "marker": {
          "color": "#00cc96",
          "pattern": {
           "shape": ""
          }
         },
         "name": "United Kingdom",
         "offsetgroup": "United Kingdom",
         "orientation": "h",
         "showlegend": true,
         "textposition": "auto",
         "type": "bar",
         "x": [
          3589034
         ],
         "xaxis": "x",
         "y": [
          "United Kingdom"
         ],
         "yaxis": "y"
        },
        {
         "alignmentgroup": "True",
         "hovertemplate": "Country=%{y}<br>Cases in Last 28 Days=%{x}<extra></extra>",
         "legendgroup": "Italy",
         "marker": {
          "color": "#ab63fa",
          "pattern": {
           "shape": ""
          }
         },
         "name": "Italy",
         "offsetgroup": "Italy",
         "orientation": "h",
         "showlegend": true,
         "textposition": "auto",
         "type": "bar",
         "x": [
          2074992
         ],
         "xaxis": "x",
         "y": [
          "Italy"
         ],
         "yaxis": "y"
        },
        {
         "alignmentgroup": "True",
         "hovertemplate": "Country=%{y}<br>Cases in Last 28 Days=%{x}<extra></extra>",
         "legendgroup": "Spain",
         "marker": {
          "color": "#FFA15A",
          "pattern": {
           "shape": ""
          }
         },
         "name": "Spain",
         "offsetgroup": "Spain",
         "orientation": "h",
         "showlegend": true,
         "textposition": "auto",
         "type": "bar",
         "x": [
          1874716
         ],
         "xaxis": "x",
         "y": [
          "Spain"
         ],
         "yaxis": "y"
        },
        {
         "alignmentgroup": "True",
         "hovertemplate": "Country=%{y}<br>Cases in Last 28 Days=%{x}<extra></extra>",
         "legendgroup": "Germany",
         "marker": {
          "color": "#19d3f3",
          "pattern": {
           "shape": ""
          }
         },
         "name": "Germany",
         "offsetgroup": "Germany",
         "orientation": "h",
         "showlegend": true,
         "textposition": "auto",
         "type": "bar",
         "x": [
          1003010
         ],
         "xaxis": "x",
         "y": [
          "Germany"
         ],
         "yaxis": "y"
        },
        {
         "alignmentgroup": "True",
         "hovertemplate": "Country=%{y}<br>Cases in Last 28 Days=%{x}<extra></extra>",
         "legendgroup": "Turkey",
         "marker": {
          "color": "#FF6692",
          "pattern": {
           "shape": ""
          }
         },
         "name": "Turkey",
         "offsetgroup": "Turkey",
         "orientation": "h",
         "showlegend": true,
         "textposition": "auto",
         "type": "bar",
         "x": [
          894502
         ],
         "xaxis": "x",
         "y": [
          "Turkey"
         ],
         "yaxis": "y"
        },
        {
         "alignmentgroup": "True",
         "hovertemplate": "Country=%{y}<br>Cases in Last 28 Days=%{x}<extra></extra>",
         "legendgroup": "Argentina",
         "marker": {
          "color": "#B6E880",
          "pattern": {
           "shape": ""
          }
         },
         "name": "Argentina",
         "offsetgroup": "Argentina",
         "orientation": "h",
         "showlegend": true,
         "textposition": "auto",
         "type": "bar",
         "x": [
          880640
         ],
         "xaxis": "x",
         "y": [
          "Argentina"
         ],
         "yaxis": "y"
        },
        {
         "alignmentgroup": "True",
         "hovertemplate": "Country=%{y}<br>Cases in Last 28 Days=%{x}<extra></extra>",
         "legendgroup": "India",
         "marker": {
          "color": "#FF97FF",
          "pattern": {
           "shape": ""
          }
         },
         "name": "India",
         "offsetgroup": "India",
         "orientation": "h",
         "showlegend": true,
         "textposition": "auto",
         "type": "bar",
         "x": [
          837494
         ],
         "xaxis": "x",
         "y": [
          "India"
         ],
         "yaxis": "y"
        },
        {
         "alignmentgroup": "True",
         "hovertemplate": "Country=%{y}<br>Cases in Last 28 Days=%{x}<extra></extra>",
         "legendgroup": "Russia",
         "marker": {
          "color": "#FECB52",
          "pattern": {
           "shape": ""
          }
         },
         "name": "Russia",
         "offsetgroup": "Russia",
         "orientation": "h",
         "showlegend": true,
         "textposition": "auto",
         "type": "bar",
         "x": [
          641357
         ],
         "xaxis": "x",
         "y": [
          "Russia"
         ],
         "yaxis": "y"
        }
       ],
       "layout": {
        "barmode": "relative",
        "legend": {
         "title": {
          "text": "Country"
         },
         "tracegroupgap": 0
        },
        "margin": {
         "t": 60
        },
        "template": {
         "data": {
          "bar": [
           {
            "error_x": {
             "color": "#2a3f5f"
            },
            "error_y": {
             "color": "#2a3f5f"
            },
            "marker": {
             "line": {
              "color": "#E5ECF6",
              "width": 0.5
             },
             "pattern": {
              "fillmode": "overlay",
              "size": 10,
              "solidity": 0.2
             }
            },
            "type": "bar"
           }
          ],
          "barpolar": [
           {
            "marker": {
             "line": {
              "color": "#E5ECF6",
              "width": 0.5
             },
             "pattern": {
              "fillmode": "overlay",
              "size": 10,
              "solidity": 0.2
             }
            },
            "type": "barpolar"
           }
          ],
          "carpet": [
           {
            "aaxis": {
             "endlinecolor": "#2a3f5f",
             "gridcolor": "white",
             "linecolor": "white",
             "minorgridcolor": "white",
             "startlinecolor": "#2a3f5f"
            },
            "baxis": {
             "endlinecolor": "#2a3f5f",
             "gridcolor": "white",
             "linecolor": "white",
             "minorgridcolor": "white",
             "startlinecolor": "#2a3f5f"
            },
            "type": "carpet"
           }
          ],
          "choropleth": [
           {
            "colorbar": {
             "outlinewidth": 0,
             "ticks": ""
            },
            "type": "choropleth"
           }
          ],
          "contour": [
           {
            "colorbar": {
             "outlinewidth": 0,
             "ticks": ""
            },
            "colorscale": [
             [
              0,
              "#0d0887"
             ],
             [
              0.1111111111111111,
              "#46039f"
             ],
             [
              0.2222222222222222,
              "#7201a8"
             ],
             [
              0.3333333333333333,
              "#9c179e"
             ],
             [
              0.4444444444444444,
              "#bd3786"
             ],
             [
              0.5555555555555556,
              "#d8576b"
             ],
             [
              0.6666666666666666,
              "#ed7953"
             ],
             [
              0.7777777777777778,
              "#fb9f3a"
             ],
             [
              0.8888888888888888,
              "#fdca26"
             ],
             [
              1,
              "#f0f921"
             ]
            ],
            "type": "contour"
           }
          ],
          "contourcarpet": [
           {
            "colorbar": {
             "outlinewidth": 0,
             "ticks": ""
            },
            "type": "contourcarpet"
           }
          ],
          "heatmap": [
           {
            "colorbar": {
             "outlinewidth": 0,
             "ticks": ""
            },
            "colorscale": [
             [
              0,
              "#0d0887"
             ],
             [
              0.1111111111111111,
              "#46039f"
             ],
             [
              0.2222222222222222,
              "#7201a8"
             ],
             [
              0.3333333333333333,
              "#9c179e"
             ],
             [
              0.4444444444444444,
              "#bd3786"
             ],
             [
              0.5555555555555556,
              "#d8576b"
             ],
             [
              0.6666666666666666,
              "#ed7953"
             ],
             [
              0.7777777777777778,
              "#fb9f3a"
             ],
             [
              0.8888888888888888,
              "#fdca26"
             ],
             [
              1,
              "#f0f921"
             ]
            ],
            "type": "heatmap"
           }
          ],
          "heatmapgl": [
           {
            "colorbar": {
             "outlinewidth": 0,
             "ticks": ""
            },
            "colorscale": [
             [
              0,
              "#0d0887"
             ],
             [
              0.1111111111111111,
              "#46039f"
             ],
             [
              0.2222222222222222,
              "#7201a8"
             ],
             [
              0.3333333333333333,
              "#9c179e"
             ],
             [
              0.4444444444444444,
              "#bd3786"
             ],
             [
              0.5555555555555556,
              "#d8576b"
             ],
             [
              0.6666666666666666,
              "#ed7953"
             ],
             [
              0.7777777777777778,
              "#fb9f3a"
             ],
             [
              0.8888888888888888,
              "#fdca26"
             ],
             [
              1,
              "#f0f921"
             ]
            ],
            "type": "heatmapgl"
           }
          ],
          "histogram": [
           {
            "marker": {
             "pattern": {
              "fillmode": "overlay",
              "size": 10,
              "solidity": 0.2
             }
            },
            "type": "histogram"
           }
          ],
          "histogram2d": [
           {
            "colorbar": {
             "outlinewidth": 0,
             "ticks": ""
            },
            "colorscale": [
             [
              0,
              "#0d0887"
             ],
             [
              0.1111111111111111,
              "#46039f"
             ],
             [
              0.2222222222222222,
              "#7201a8"
             ],
             [
              0.3333333333333333,
              "#9c179e"
             ],
             [
              0.4444444444444444,
              "#bd3786"
             ],
             [
              0.5555555555555556,
              "#d8576b"
             ],
             [
              0.6666666666666666,
              "#ed7953"
             ],
             [
              0.7777777777777778,
              "#fb9f3a"
             ],
             [
              0.8888888888888888,
              "#fdca26"
             ],
             [
              1,
              "#f0f921"
             ]
            ],
            "type": "histogram2d"
           }
          ],
          "histogram2dcontour": [
           {
            "colorbar": {
             "outlinewidth": 0,
             "ticks": ""
            },
            "colorscale": [
             [
              0,
              "#0d0887"
             ],
             [
              0.1111111111111111,
              "#46039f"
             ],
             [
              0.2222222222222222,
              "#7201a8"
             ],
             [
              0.3333333333333333,
              "#9c179e"
             ],
             [
              0.4444444444444444,
              "#bd3786"
             ],
             [
              0.5555555555555556,
              "#d8576b"
             ],
             [
              0.6666666666666666,
              "#ed7953"
             ],
             [
              0.7777777777777778,
              "#fb9f3a"
             ],
             [
              0.8888888888888888,
              "#fdca26"
             ],
             [
              1,
              "#f0f921"
             ]
            ],
            "type": "histogram2dcontour"
           }
          ],
          "mesh3d": [
           {
            "colorbar": {
             "outlinewidth": 0,
             "ticks": ""
            },
            "type": "mesh3d"
           }
          ],
          "parcoords": [
           {
            "line": {
             "colorbar": {
              "outlinewidth": 0,
              "ticks": ""
             }
            },
            "type": "parcoords"
           }
          ],
          "pie": [
           {
            "automargin": true,
            "type": "pie"
           }
          ],
          "scatter": [
           {
            "marker": {
             "colorbar": {
              "outlinewidth": 0,
              "ticks": ""
             }
            },
            "type": "scatter"
           }
          ],
          "scatter3d": [
           {
            "line": {
             "colorbar": {
              "outlinewidth": 0,
              "ticks": ""
             }
            },
            "marker": {
             "colorbar": {
              "outlinewidth": 0,
              "ticks": ""
             }
            },
            "type": "scatter3d"
           }
          ],
          "scattercarpet": [
           {
            "marker": {
             "colorbar": {
              "outlinewidth": 0,
              "ticks": ""
             }
            },
            "type": "scattercarpet"
           }
          ],
          "scattergeo": [
           {
            "marker": {
             "colorbar": {
              "outlinewidth": 0,
              "ticks": ""
             }
            },
            "type": "scattergeo"
           }
          ],
          "scattergl": [
           {
            "marker": {
             "colorbar": {
              "outlinewidth": 0,
              "ticks": ""
             }
            },
            "type": "scattergl"
           }
          ],
          "scattermapbox": [
           {
            "marker": {
             "colorbar": {
              "outlinewidth": 0,
              "ticks": ""
             }
            },
            "type": "scattermapbox"
           }
          ],
          "scatterpolar": [
           {
            "marker": {
             "colorbar": {
              "outlinewidth": 0,
              "ticks": ""
             }
            },
            "type": "scatterpolar"
           }
          ],
          "scatterpolargl": [
           {
            "marker": {
             "colorbar": {
              "outlinewidth": 0,
              "ticks": ""
             }
            },
            "type": "scatterpolargl"
           }
          ],
          "scatterternary": [
           {
            "marker": {
             "colorbar": {
              "outlinewidth": 0,
              "ticks": ""
             }
            },
            "type": "scatterternary"
           }
          ],
          "surface": [
           {
            "colorbar": {
             "outlinewidth": 0,
             "ticks": ""
            },
            "colorscale": [
             [
              0,
              "#0d0887"
             ],
             [
              0.1111111111111111,
              "#46039f"
             ],
             [
              0.2222222222222222,
              "#7201a8"
             ],
             [
              0.3333333333333333,
              "#9c179e"
             ],
             [
              0.4444444444444444,
              "#bd3786"
             ],
             [
              0.5555555555555556,
              "#d8576b"
             ],
             [
              0.6666666666666666,
              "#ed7953"
             ],
             [
              0.7777777777777778,
              "#fb9f3a"
             ],
             [
              0.8888888888888888,
              "#fdca26"
             ],
             [
              1,
              "#f0f921"
             ]
            ],
            "type": "surface"
           }
          ],
          "table": [
           {
            "cells": {
             "fill": {
              "color": "#EBF0F8"
             },
             "line": {
              "color": "white"
             }
            },
            "header": {
             "fill": {
              "color": "#C8D4E3"
             },
             "line": {
              "color": "white"
             }
            },
            "type": "table"
           }
          ]
         },
         "layout": {
          "annotationdefaults": {
           "arrowcolor": "#2a3f5f",
           "arrowhead": 0,
           "arrowwidth": 1
          },
          "autotypenumbers": "strict",
          "coloraxis": {
           "colorbar": {
            "outlinewidth": 0,
            "ticks": ""
           }
          },
          "colorscale": {
           "diverging": [
            [
             0,
             "#8e0152"
            ],
            [
             0.1,
             "#c51b7d"
            ],
            [
             0.2,
             "#de77ae"
            ],
            [
             0.3,
             "#f1b6da"
            ],
            [
             0.4,
             "#fde0ef"
            ],
            [
             0.5,
             "#f7f7f7"
            ],
            [
             0.6,
             "#e6f5d0"
            ],
            [
             0.7,
             "#b8e186"
            ],
            [
             0.8,
             "#7fbc41"
            ],
            [
             0.9,
             "#4d9221"
            ],
            [
             1,
             "#276419"
            ]
           ],
           "sequential": [
            [
             0,
             "#0d0887"
            ],
            [
             0.1111111111111111,
             "#46039f"
            ],
            [
             0.2222222222222222,
             "#7201a8"
            ],
            [
             0.3333333333333333,
             "#9c179e"
            ],
            [
             0.4444444444444444,
             "#bd3786"
            ],
            [
             0.5555555555555556,
             "#d8576b"
            ],
            [
             0.6666666666666666,
             "#ed7953"
            ],
            [
             0.7777777777777778,
             "#fb9f3a"
            ],
            [
             0.8888888888888888,
             "#fdca26"
            ],
            [
             1,
             "#f0f921"
            ]
           ],
           "sequentialminus": [
            [
             0,
             "#0d0887"
            ],
            [
             0.1111111111111111,
             "#46039f"
            ],
            [
             0.2222222222222222,
             "#7201a8"
            ],
            [
             0.3333333333333333,
             "#9c179e"
            ],
            [
             0.4444444444444444,
             "#bd3786"
            ],
            [
             0.5555555555555556,
             "#d8576b"
            ],
            [
             0.6666666666666666,
             "#ed7953"
            ],
            [
             0.7777777777777778,
             "#fb9f3a"
            ],
            [
             0.8888888888888888,
             "#fdca26"
            ],
            [
             1,
             "#f0f921"
            ]
           ]
          },
          "colorway": [
           "#636efa",
           "#EF553B",
           "#00cc96",
           "#ab63fa",
           "#FFA15A",
           "#19d3f3",
           "#FF6692",
           "#B6E880",
           "#FF97FF",
           "#FECB52"
          ],
          "font": {
           "color": "#2a3f5f"
          },
          "geo": {
           "bgcolor": "white",
           "lakecolor": "white",
           "landcolor": "#E5ECF6",
           "showlakes": true,
           "showland": true,
           "subunitcolor": "white"
          },
          "hoverlabel": {
           "align": "left"
          },
          "hovermode": "closest",
          "mapbox": {
           "style": "light"
          },
          "paper_bgcolor": "white",
          "plot_bgcolor": "#E5ECF6",
          "polar": {
           "angularaxis": {
            "gridcolor": "white",
            "linecolor": "white",
            "ticks": ""
           },
           "bgcolor": "#E5ECF6",
           "radialaxis": {
            "gridcolor": "white",
            "linecolor": "white",
            "ticks": ""
           }
          },
          "scene": {
           "xaxis": {
            "backgroundcolor": "#E5ECF6",
            "gridcolor": "white",
            "gridwidth": 2,
            "linecolor": "white",
            "showbackground": true,
            "ticks": "",
            "zerolinecolor": "white"
           },
           "yaxis": {
            "backgroundcolor": "#E5ECF6",
            "gridcolor": "white",
            "gridwidth": 2,
            "linecolor": "white",
            "showbackground": true,
            "ticks": "",
            "zerolinecolor": "white"
           },
           "zaxis": {
            "backgroundcolor": "#E5ECF6",
            "gridcolor": "white",
            "gridwidth": 2,
            "linecolor": "white",
            "showbackground": true,
            "ticks": "",
            "zerolinecolor": "white"
           }
          },
          "shapedefaults": {
           "line": {
            "color": "#2a3f5f"
           }
          },
          "ternary": {
           "aaxis": {
            "gridcolor": "white",
            "linecolor": "white",
            "ticks": ""
           },
           "baxis": {
            "gridcolor": "white",
            "linecolor": "white",
            "ticks": ""
           },
           "bgcolor": "#E5ECF6",
           "caxis": {
            "gridcolor": "white",
            "linecolor": "white",
            "ticks": ""
           }
          },
          "title": {
           "x": 0.05
          },
          "xaxis": {
           "automargin": true,
           "gridcolor": "white",
           "linecolor": "white",
           "ticks": "",
           "title": {
            "standoff": 15
           },
           "zerolinecolor": "white",
           "zerolinewidth": 2
          },
          "yaxis": {
           "automargin": true,
           "gridcolor": "white",
           "linecolor": "white",
           "ticks": "",
           "title": {
            "standoff": 15
           },
           "zerolinecolor": "white",
           "zerolinewidth": 2
          }
         }
        },
        "xaxis": {
         "anchor": "y",
         "domain": [
          0,
          1
         ],
         "title": {
          "text": "Cases in the Last 28 days"
         }
        },
        "yaxis": {
         "anchor": "x",
         "categoryarray": [
          "Russia",
          "India",
          "Argentina",
          "Turkey",
          "Germany",
          "Spain",
          "Italy",
          "United Kingdom",
          "France",
          "US"
         ],
         "categoryorder": "array",
         "domain": [
          0,
          1
         ],
         "title": {
          "text": "Country"
         }
        }
       }
      },
      "text/html": [
       "<div>                            <div id=\"8efd54aa-56b8-44d7-a986-fdb69aa5c818\" class=\"plotly-graph-div\" style=\"height:525px; width:100%;\"></div>            <script type=\"text/javascript\">                require([\"plotly\"], function(Plotly) {                    window.PLOTLYENV=window.PLOTLYENV || {};                                    if (document.getElementById(\"8efd54aa-56b8-44d7-a986-fdb69aa5c818\")) {                    Plotly.newPlot(                        \"8efd54aa-56b8-44d7-a986-fdb69aa5c818\",                        [{\"alignmentgroup\":\"True\",\"hovertemplate\":\"Country=%{y}<br>Cases in Last 28 Days=%{x}<extra></extra>\",\"legendgroup\":\"US\",\"marker\":{\"color\":\"#636efa\",\"pattern\":{\"shape\":\"\"}},\"name\":\"US\",\"offsetgroup\":\"US\",\"orientation\":\"h\",\"showlegend\":true,\"textposition\":\"auto\",\"x\":[9870898],\"xaxis\":\"x\",\"y\":[\"US\"],\"yaxis\":\"y\",\"type\":\"bar\"},{\"alignmentgroup\":\"True\",\"hovertemplate\":\"Country=%{y}<br>Cases in Last 28 Days=%{x}<extra></extra>\",\"legendgroup\":\"France\",\"marker\":{\"color\":\"#EF553B\",\"pattern\":{\"shape\":\"\"}},\"name\":\"France\",\"offsetgroup\":\"France\",\"orientation\":\"h\",\"showlegend\":true,\"textposition\":\"auto\",\"x\":[3602930],\"xaxis\":\"x\",\"y\":[\"France\"],\"yaxis\":\"y\",\"type\":\"bar\"},{\"alignmentgroup\":\"True\",\"hovertemplate\":\"Country=%{y}<br>Cases in Last 28 Days=%{x}<extra></extra>\",\"legendgroup\":\"United Kingdom\",\"marker\":{\"color\":\"#00cc96\",\"pattern\":{\"shape\":\"\"}},\"name\":\"United Kingdom\",\"offsetgroup\":\"United Kingdom\",\"orientation\":\"h\",\"showlegend\":true,\"textposition\":\"auto\",\"x\":[3589034],\"xaxis\":\"x\",\"y\":[\"United Kingdom\"],\"yaxis\":\"y\",\"type\":\"bar\"},{\"alignmentgroup\":\"True\",\"hovertemplate\":\"Country=%{y}<br>Cases in Last 28 Days=%{x}<extra></extra>\",\"legendgroup\":\"Italy\",\"marker\":{\"color\":\"#ab63fa\",\"pattern\":{\"shape\":\"\"}},\"name\":\"Italy\",\"offsetgroup\":\"Italy\",\"orientation\":\"h\",\"showlegend\":true,\"textposition\":\"auto\",\"x\":[2074992],\"xaxis\":\"x\",\"y\":[\"Italy\"],\"yaxis\":\"y\",\"type\":\"bar\"},{\"alignmentgroup\":\"True\",\"hovertemplate\":\"Country=%{y}<br>Cases in Last 28 Days=%{x}<extra></extra>\",\"legendgroup\":\"Spain\",\"marker\":{\"color\":\"#FFA15A\",\"pattern\":{\"shape\":\"\"}},\"name\":\"Spain\",\"offsetgroup\":\"Spain\",\"orientation\":\"h\",\"showlegend\":true,\"textposition\":\"auto\",\"x\":[1874716],\"xaxis\":\"x\",\"y\":[\"Spain\"],\"yaxis\":\"y\",\"type\":\"bar\"},{\"alignmentgroup\":\"True\",\"hovertemplate\":\"Country=%{y}<br>Cases in Last 28 Days=%{x}<extra></extra>\",\"legendgroup\":\"Germany\",\"marker\":{\"color\":\"#19d3f3\",\"pattern\":{\"shape\":\"\"}},\"name\":\"Germany\",\"offsetgroup\":\"Germany\",\"orientation\":\"h\",\"showlegend\":true,\"textposition\":\"auto\",\"x\":[1003010],\"xaxis\":\"x\",\"y\":[\"Germany\"],\"yaxis\":\"y\",\"type\":\"bar\"},{\"alignmentgroup\":\"True\",\"hovertemplate\":\"Country=%{y}<br>Cases in Last 28 Days=%{x}<extra></extra>\",\"legendgroup\":\"Turkey\",\"marker\":{\"color\":\"#FF6692\",\"pattern\":{\"shape\":\"\"}},\"name\":\"Turkey\",\"offsetgroup\":\"Turkey\",\"orientation\":\"h\",\"showlegend\":true,\"textposition\":\"auto\",\"x\":[894502],\"xaxis\":\"x\",\"y\":[\"Turkey\"],\"yaxis\":\"y\",\"type\":\"bar\"},{\"alignmentgroup\":\"True\",\"hovertemplate\":\"Country=%{y}<br>Cases in Last 28 Days=%{x}<extra></extra>\",\"legendgroup\":\"Argentina\",\"marker\":{\"color\":\"#B6E880\",\"pattern\":{\"shape\":\"\"}},\"name\":\"Argentina\",\"offsetgroup\":\"Argentina\",\"orientation\":\"h\",\"showlegend\":true,\"textposition\":\"auto\",\"x\":[880640],\"xaxis\":\"x\",\"y\":[\"Argentina\"],\"yaxis\":\"y\",\"type\":\"bar\"},{\"alignmentgroup\":\"True\",\"hovertemplate\":\"Country=%{y}<br>Cases in Last 28 Days=%{x}<extra></extra>\",\"legendgroup\":\"India\",\"marker\":{\"color\":\"#FF97FF\",\"pattern\":{\"shape\":\"\"}},\"name\":\"India\",\"offsetgroup\":\"India\",\"orientation\":\"h\",\"showlegend\":true,\"textposition\":\"auto\",\"x\":[837494],\"xaxis\":\"x\",\"y\":[\"India\"],\"yaxis\":\"y\",\"type\":\"bar\"},{\"alignmentgroup\":\"True\",\"hovertemplate\":\"Country=%{y}<br>Cases in Last 28 Days=%{x}<extra></extra>\",\"legendgroup\":\"Russia\",\"marker\":{\"color\":\"#FECB52\",\"pattern\":{\"shape\":\"\"}},\"name\":\"Russia\",\"offsetgroup\":\"Russia\",\"orientation\":\"h\",\"showlegend\":true,\"textposition\":\"auto\",\"x\":[641357],\"xaxis\":\"x\",\"y\":[\"Russia\"],\"yaxis\":\"y\",\"type\":\"bar\"}],                        {\"template\":{\"data\":{\"bar\":[{\"error_x\":{\"color\":\"#2a3f5f\"},\"error_y\":{\"color\":\"#2a3f5f\"},\"marker\":{\"line\":{\"color\":\"#E5ECF6\",\"width\":0.5},\"pattern\":{\"fillmode\":\"overlay\",\"size\":10,\"solidity\":0.2}},\"type\":\"bar\"}],\"barpolar\":[{\"marker\":{\"line\":{\"color\":\"#E5ECF6\",\"width\":0.5},\"pattern\":{\"fillmode\":\"overlay\",\"size\":10,\"solidity\":0.2}},\"type\":\"barpolar\"}],\"carpet\":[{\"aaxis\":{\"endlinecolor\":\"#2a3f5f\",\"gridcolor\":\"white\",\"linecolor\":\"white\",\"minorgridcolor\":\"white\",\"startlinecolor\":\"#2a3f5f\"},\"baxis\":{\"endlinecolor\":\"#2a3f5f\",\"gridcolor\":\"white\",\"linecolor\":\"white\",\"minorgridcolor\":\"white\",\"startlinecolor\":\"#2a3f5f\"},\"type\":\"carpet\"}],\"choropleth\":[{\"colorbar\":{\"outlinewidth\":0,\"ticks\":\"\"},\"type\":\"choropleth\"}],\"contour\":[{\"colorbar\":{\"outlinewidth\":0,\"ticks\":\"\"},\"colorscale\":[[0.0,\"#0d0887\"],[0.1111111111111111,\"#46039f\"],[0.2222222222222222,\"#7201a8\"],[0.3333333333333333,\"#9c179e\"],[0.4444444444444444,\"#bd3786\"],[0.5555555555555556,\"#d8576b\"],[0.6666666666666666,\"#ed7953\"],[0.7777777777777778,\"#fb9f3a\"],[0.8888888888888888,\"#fdca26\"],[1.0,\"#f0f921\"]],\"type\":\"contour\"}],\"contourcarpet\":[{\"colorbar\":{\"outlinewidth\":0,\"ticks\":\"\"},\"type\":\"contourcarpet\"}],\"heatmap\":[{\"colorbar\":{\"outlinewidth\":0,\"ticks\":\"\"},\"colorscale\":[[0.0,\"#0d0887\"],[0.1111111111111111,\"#46039f\"],[0.2222222222222222,\"#7201a8\"],[0.3333333333333333,\"#9c179e\"],[0.4444444444444444,\"#bd3786\"],[0.5555555555555556,\"#d8576b\"],[0.6666666666666666,\"#ed7953\"],[0.7777777777777778,\"#fb9f3a\"],[0.8888888888888888,\"#fdca26\"],[1.0,\"#f0f921\"]],\"type\":\"heatmap\"}],\"heatmapgl\":[{\"colorbar\":{\"outlinewidth\":0,\"ticks\":\"\"},\"colorscale\":[[0.0,\"#0d0887\"],[0.1111111111111111,\"#46039f\"],[0.2222222222222222,\"#7201a8\"],[0.3333333333333333,\"#9c179e\"],[0.4444444444444444,\"#bd3786\"],[0.5555555555555556,\"#d8576b\"],[0.6666666666666666,\"#ed7953\"],[0.7777777777777778,\"#fb9f3a\"],[0.8888888888888888,\"#fdca26\"],[1.0,\"#f0f921\"]],\"type\":\"heatmapgl\"}],\"histogram\":[{\"marker\":{\"pattern\":{\"fillmode\":\"overlay\",\"size\":10,\"solidity\":0.2}},\"type\":\"histogram\"}],\"histogram2d\":[{\"colorbar\":{\"outlinewidth\":0,\"ticks\":\"\"},\"colorscale\":[[0.0,\"#0d0887\"],[0.1111111111111111,\"#46039f\"],[0.2222222222222222,\"#7201a8\"],[0.3333333333333333,\"#9c179e\"],[0.4444444444444444,\"#bd3786\"],[0.5555555555555556,\"#d8576b\"],[0.6666666666666666,\"#ed7953\"],[0.7777777777777778,\"#fb9f3a\"],[0.8888888888888888,\"#fdca26\"],[1.0,\"#f0f921\"]],\"type\":\"histogram2d\"}],\"histogram2dcontour\":[{\"colorbar\":{\"outlinewidth\":0,\"ticks\":\"\"},\"colorscale\":[[0.0,\"#0d0887\"],[0.1111111111111111,\"#46039f\"],[0.2222222222222222,\"#7201a8\"],[0.3333333333333333,\"#9c179e\"],[0.4444444444444444,\"#bd3786\"],[0.5555555555555556,\"#d8576b\"],[0.6666666666666666,\"#ed7953\"],[0.7777777777777778,\"#fb9f3a\"],[0.8888888888888888,\"#fdca26\"],[1.0,\"#f0f921\"]],\"type\":\"histogram2dcontour\"}],\"mesh3d\":[{\"colorbar\":{\"outlinewidth\":0,\"ticks\":\"\"},\"type\":\"mesh3d\"}],\"parcoords\":[{\"line\":{\"colorbar\":{\"outlinewidth\":0,\"ticks\":\"\"}},\"type\":\"parcoords\"}],\"pie\":[{\"automargin\":true,\"type\":\"pie\"}],\"scatter\":[{\"marker\":{\"colorbar\":{\"outlinewidth\":0,\"ticks\":\"\"}},\"type\":\"scatter\"}],\"scatter3d\":[{\"line\":{\"colorbar\":{\"outlinewidth\":0,\"ticks\":\"\"}},\"marker\":{\"colorbar\":{\"outlinewidth\":0,\"ticks\":\"\"}},\"type\":\"scatter3d\"}],\"scattercarpet\":[{\"marker\":{\"colorbar\":{\"outlinewidth\":0,\"ticks\":\"\"}},\"type\":\"scattercarpet\"}],\"scattergeo\":[{\"marker\":{\"colorbar\":{\"outlinewidth\":0,\"ticks\":\"\"}},\"type\":\"scattergeo\"}],\"scattergl\":[{\"marker\":{\"colorbar\":{\"outlinewidth\":0,\"ticks\":\"\"}},\"type\":\"scattergl\"}],\"scattermapbox\":[{\"marker\":{\"colorbar\":{\"outlinewidth\":0,\"ticks\":\"\"}},\"type\":\"scattermapbox\"}],\"scatterpolar\":[{\"marker\":{\"colorbar\":{\"outlinewidth\":0,\"ticks\":\"\"}},\"type\":\"scatterpolar\"}],\"scatterpolargl\":[{\"marker\":{\"colorbar\":{\"outlinewidth\":0,\"ticks\":\"\"}},\"type\":\"scatterpolargl\"}],\"scatterternary\":[{\"marker\":{\"colorbar\":{\"outlinewidth\":0,\"ticks\":\"\"}},\"type\":\"scatterternary\"}],\"surface\":[{\"colorbar\":{\"outlinewidth\":0,\"ticks\":\"\"},\"colorscale\":[[0.0,\"#0d0887\"],[0.1111111111111111,\"#46039f\"],[0.2222222222222222,\"#7201a8\"],[0.3333333333333333,\"#9c179e\"],[0.4444444444444444,\"#bd3786\"],[0.5555555555555556,\"#d8576b\"],[0.6666666666666666,\"#ed7953\"],[0.7777777777777778,\"#fb9f3a\"],[0.8888888888888888,\"#fdca26\"],[1.0,\"#f0f921\"]],\"type\":\"surface\"}],\"table\":[{\"cells\":{\"fill\":{\"color\":\"#EBF0F8\"},\"line\":{\"color\":\"white\"}},\"header\":{\"fill\":{\"color\":\"#C8D4E3\"},\"line\":{\"color\":\"white\"}},\"type\":\"table\"}]},\"layout\":{\"annotationdefaults\":{\"arrowcolor\":\"#2a3f5f\",\"arrowhead\":0,\"arrowwidth\":1},\"autotypenumbers\":\"strict\",\"coloraxis\":{\"colorbar\":{\"outlinewidth\":0,\"ticks\":\"\"}},\"colorscale\":{\"diverging\":[[0,\"#8e0152\"],[0.1,\"#c51b7d\"],[0.2,\"#de77ae\"],[0.3,\"#f1b6da\"],[0.4,\"#fde0ef\"],[0.5,\"#f7f7f7\"],[0.6,\"#e6f5d0\"],[0.7,\"#b8e186\"],[0.8,\"#7fbc41\"],[0.9,\"#4d9221\"],[1,\"#276419\"]],\"sequential\":[[0.0,\"#0d0887\"],[0.1111111111111111,\"#46039f\"],[0.2222222222222222,\"#7201a8\"],[0.3333333333333333,\"#9c179e\"],[0.4444444444444444,\"#bd3786\"],[0.5555555555555556,\"#d8576b\"],[0.6666666666666666,\"#ed7953\"],[0.7777777777777778,\"#fb9f3a\"],[0.8888888888888888,\"#fdca26\"],[1.0,\"#f0f921\"]],\"sequentialminus\":[[0.0,\"#0d0887\"],[0.1111111111111111,\"#46039f\"],[0.2222222222222222,\"#7201a8\"],[0.3333333333333333,\"#9c179e\"],[0.4444444444444444,\"#bd3786\"],[0.5555555555555556,\"#d8576b\"],[0.6666666666666666,\"#ed7953\"],[0.7777777777777778,\"#fb9f3a\"],[0.8888888888888888,\"#fdca26\"],[1.0,\"#f0f921\"]]},\"colorway\":[\"#636efa\",\"#EF553B\",\"#00cc96\",\"#ab63fa\",\"#FFA15A\",\"#19d3f3\",\"#FF6692\",\"#B6E880\",\"#FF97FF\",\"#FECB52\"],\"font\":{\"color\":\"#2a3f5f\"},\"geo\":{\"bgcolor\":\"white\",\"lakecolor\":\"white\",\"landcolor\":\"#E5ECF6\",\"showlakes\":true,\"showland\":true,\"subunitcolor\":\"white\"},\"hoverlabel\":{\"align\":\"left\"},\"hovermode\":\"closest\",\"mapbox\":{\"style\":\"light\"},\"paper_bgcolor\":\"white\",\"plot_bgcolor\":\"#E5ECF6\",\"polar\":{\"angularaxis\":{\"gridcolor\":\"white\",\"linecolor\":\"white\",\"ticks\":\"\"},\"bgcolor\":\"#E5ECF6\",\"radialaxis\":{\"gridcolor\":\"white\",\"linecolor\":\"white\",\"ticks\":\"\"}},\"scene\":{\"xaxis\":{\"backgroundcolor\":\"#E5ECF6\",\"gridcolor\":\"white\",\"gridwidth\":2,\"linecolor\":\"white\",\"showbackground\":true,\"ticks\":\"\",\"zerolinecolor\":\"white\"},\"yaxis\":{\"backgroundcolor\":\"#E5ECF6\",\"gridcolor\":\"white\",\"gridwidth\":2,\"linecolor\":\"white\",\"showbackground\":true,\"ticks\":\"\",\"zerolinecolor\":\"white\"},\"zaxis\":{\"backgroundcolor\":\"#E5ECF6\",\"gridcolor\":\"white\",\"gridwidth\":2,\"linecolor\":\"white\",\"showbackground\":true,\"ticks\":\"\",\"zerolinecolor\":\"white\"}},\"shapedefaults\":{\"line\":{\"color\":\"#2a3f5f\"}},\"ternary\":{\"aaxis\":{\"gridcolor\":\"white\",\"linecolor\":\"white\",\"ticks\":\"\"},\"baxis\":{\"gridcolor\":\"white\",\"linecolor\":\"white\",\"ticks\":\"\"},\"bgcolor\":\"#E5ECF6\",\"caxis\":{\"gridcolor\":\"white\",\"linecolor\":\"white\",\"ticks\":\"\"}},\"title\":{\"x\":0.05},\"xaxis\":{\"automargin\":true,\"gridcolor\":\"white\",\"linecolor\":\"white\",\"ticks\":\"\",\"title\":{\"standoff\":15},\"zerolinecolor\":\"white\",\"zerolinewidth\":2},\"yaxis\":{\"automargin\":true,\"gridcolor\":\"white\",\"linecolor\":\"white\",\"ticks\":\"\",\"title\":{\"standoff\":15},\"zerolinecolor\":\"white\",\"zerolinewidth\":2}}},\"xaxis\":{\"anchor\":\"y\",\"domain\":[0.0,1.0],\"title\":{\"text\":\"Cases in the Last 28 days\"}},\"yaxis\":{\"anchor\":\"x\",\"domain\":[0.0,1.0],\"title\":{\"text\":\"Country\"},\"categoryorder\":\"array\",\"categoryarray\":[\"Russia\",\"India\",\"Argentina\",\"Turkey\",\"Germany\",\"Spain\",\"Italy\",\"United Kingdom\",\"France\",\"US\"]},\"legend\":{\"title\":{\"text\":\"Country\"},\"tracegroupgap\":0},\"margin\":{\"t\":60},\"barmode\":\"relative\"},                        {\"responsive\": true}                    ).then(function(){\n",
       "                            \n",
       "var gd = document.getElementById('8efd54aa-56b8-44d7-a986-fdb69aa5c818');\n",
       "var x = new MutationObserver(function (mutations, observer) {{\n",
       "        var display = window.getComputedStyle(gd).display;\n",
       "        if (!display || display === 'none') {{\n",
       "            console.log([gd, 'removed!']);\n",
       "            Plotly.purge(gd);\n",
       "            observer.disconnect();\n",
       "        }}\n",
       "}});\n",
       "\n",
       "// Listen for the removal of the full notebook cells\n",
       "var notebookContainer = gd.closest('#notebook-container');\n",
       "if (notebookContainer) {{\n",
       "    x.observe(notebookContainer, {childList: true});\n",
       "}}\n",
       "\n",
       "// Listen for the clearing of the current output cell\n",
       "var outputEl = gd.closest('.output');\n",
       "if (outputEl) {{\n",
       "    x.observe(outputEl, {childList: true});\n",
       "}}\n",
       "\n",
       "                        })                };                });            </script>        </div>"
      ]
     },
     "metadata": {},
     "output_type": "display_data"
    }
   ],
   "source": [
    "sorted_country_df3 = sorted_country_df.sort_values(by='Cases in Last 28 Days',ascending=False)\n",
    "\n",
    "# Create horizontal barplots uing the 'h' orientation. \n",
    "fig = px.bar(sorted_country_df3.head(10), y=\"Country\", x=\"Cases in Last 28 Days\", color=\"Country\",orientation='h')\n",
    "\n",
    "\n",
    "fig.update_xaxes(title_text='Cases in the Last 28 days')\n",
    "fig.update_yaxes(title_text='Country')\n",
    "fig.update_layout(legend_title=\"Country\")\n",
    "\n",
    "fig.show() "
   ]
  },
  {
   "cell_type": "markdown",
   "metadata": {
    "extensions": {
     "jupyter_dashboards": {
      "version": 1,
      "views": {
       "default_view": {
        "col": 0,
        "height": 2,
        "row": 76,
        "width": 12
       },
       "grid_default": {
        "col": null,
        "height": 2,
        "hidden": true,
        "row": null,
        "width": 2
       },
       "report_default": {
        "col": 0,
        "height": 2,
        "hidden": false,
        "row": 76,
        "width": 12
       }
      }
     }
    },
    "id": "3-TGZ-UU-mES"
   },
   "source": [
    "<h1><center>Top 10 Countries Reporting Highest Death Cases in Past 28 Days</center></h1> "
   ]
  },
  {
   "cell_type": "code",
   "execution_count": 36,
   "metadata": {
    "extensions": {
     "jupyter_dashboards": {
      "version": 1,
      "views": {
       "grid_default": {
        "col": 0,
        "height": 7,
        "hidden": false,
        "row": 9,
        "width": 7
       },
       "report_default": {
        "col": 0,
        "height": 2,
        "row": 78,
        "width": 12
       }
      }
     }
    }
   },
   "outputs": [
    {
     "data": {
      "application/vnd.plotly.v1+json": {
       "config": {
        "plotlyServerURL": "https://plot.ly"
       },
       "data": [
        {
         "alignmentgroup": "True",
         "hovertemplate": "Country=%{x}<br>Deaths in Last 28 Days=%{y}<extra></extra>",
         "legendgroup": "US",
         "marker": {
          "color": "#636efa",
          "pattern": {
           "shape": ""
          }
         },
         "name": "US",
         "offsetgroup": "US",
         "orientation": "v",
         "showlegend": true,
         "textposition": "auto",
         "type": "bar",
         "x": [
          "US"
         ],
         "xaxis": "x",
         "y": [
          38476
         ],
         "yaxis": "y"
        },
        {
         "alignmentgroup": "True",
         "hovertemplate": "Country=%{x}<br>Deaths in Last 28 Days=%{y}<extra></extra>",
         "legendgroup": "Russia",
         "marker": {
          "color": "#EF553B",
          "pattern": {
           "shape": ""
          }
         },
         "name": "Russia",
         "offsetgroup": "Russia",
         "orientation": "v",
         "showlegend": true,
         "textposition": "auto",
         "type": "bar",
         "x": [
          "Russia"
         ],
         "xaxis": "x",
         "y": [
          26328
         ],
         "yaxis": "y"
        },
        {
         "alignmentgroup": "True",
         "hovertemplate": "Country=%{x}<br>Deaths in Last 28 Days=%{y}<extra></extra>",
         "legendgroup": "Poland",
         "marker": {
          "color": "#00cc96",
          "pattern": {
           "shape": ""
          }
         },
         "name": "Poland",
         "offsetgroup": "Poland",
         "orientation": "v",
         "showlegend": true,
         "textposition": "auto",
         "type": "bar",
         "x": [
          "Poland"
         ],
         "xaxis": "x",
         "y": [
          11306
         ],
         "yaxis": "y"
        },
        {
         "alignmentgroup": "True",
         "hovertemplate": "Country=%{x}<br>Deaths in Last 28 Days=%{y}<extra></extra>",
         "legendgroup": "India",
         "marker": {
          "color": "#ab63fa",
          "pattern": {
           "shape": ""
          }
         },
         "name": "India",
         "offsetgroup": "India",
         "orientation": "v",
         "showlegend": true,
         "textposition": "auto",
         "type": "bar",
         "x": [
          "India"
         ],
         "xaxis": "x",
         "y": [
          8356
         ],
         "yaxis": "y"
        },
        {
         "alignmentgroup": "True",
         "hovertemplate": "Country=%{x}<br>Deaths in Last 28 Days=%{y}<extra></extra>",
         "legendgroup": "Germany",
         "marker": {
          "color": "#FFA15A",
          "pattern": {
           "shape": ""
          }
         },
         "name": "Germany",
         "offsetgroup": "Germany",
         "orientation": "v",
         "showlegend": true,
         "textposition": "auto",
         "type": "bar",
         "x": [
          "Germany"
         ],
         "xaxis": "x",
         "y": [
          8340
         ],
         "yaxis": "y"
        },
        {
         "alignmentgroup": "True",
         "hovertemplate": "Country=%{x}<br>Deaths in Last 28 Days=%{y}<extra></extra>",
         "legendgroup": "Ukraine",
         "marker": {
          "color": "#19d3f3",
          "pattern": {
           "shape": ""
          }
         },
         "name": "Ukraine",
         "offsetgroup": "Ukraine",
         "orientation": "v",
         "showlegend": true,
         "textposition": "auto",
         "type": "bar",
         "x": [
          "Ukraine"
         ],
         "xaxis": "x",
         "y": [
          7096
         ],
         "yaxis": "y"
        },
        {
         "alignmentgroup": "True",
         "hovertemplate": "Country=%{x}<br>Deaths in Last 28 Days=%{y}<extra></extra>",
         "legendgroup": "France",
         "marker": {
          "color": "#FF6692",
          "pattern": {
           "shape": ""
          }
         },
         "name": "France",
         "offsetgroup": "France",
         "orientation": "v",
         "showlegend": true,
         "textposition": "auto",
         "type": "bar",
         "x": [
          "France"
         ],
         "xaxis": "x",
         "y": [
          4969
         ],
         "yaxis": "y"
        },
        {
         "alignmentgroup": "True",
         "hovertemplate": "Country=%{x}<br>Deaths in Last 28 Days=%{y}<extra></extra>",
         "legendgroup": "Turkey",
         "marker": {
          "color": "#B6E880",
          "pattern": {
           "shape": ""
          }
         },
         "name": "Turkey",
         "offsetgroup": "Turkey",
         "orientation": "v",
         "showlegend": true,
         "textposition": "auto",
         "type": "bar",
         "x": [
          "Turkey"
         ],
         "xaxis": "x",
         "y": [
          4560
         ],
         "yaxis": "y"
        },
        {
         "alignmentgroup": "True",
         "hovertemplate": "Country=%{x}<br>Deaths in Last 28 Days=%{y}<extra></extra>",
         "legendgroup": "Italy",
         "marker": {
          "color": "#FF97FF",
          "pattern": {
           "shape": ""
          }
         },
         "name": "Italy",
         "offsetgroup": "Italy",
         "orientation": "v",
         "showlegend": true,
         "textposition": "auto",
         "type": "bar",
         "x": [
          "Italy"
         ],
         "xaxis": "x",
         "y": [
          4116
         ],
         "yaxis": "y"
        },
        {
         "alignmentgroup": "True",
         "hovertemplate": "Country=%{x}<br>Deaths in Last 28 Days=%{y}<extra></extra>",
         "legendgroup": "Mexico",
         "marker": {
          "color": "#FECB52",
          "pattern": {
           "shape": ""
          }
         },
         "name": "Mexico",
         "offsetgroup": "Mexico",
         "orientation": "v",
         "showlegend": true,
         "textposition": "auto",
         "type": "bar",
         "x": [
          "Mexico"
         ],
         "xaxis": "x",
         "y": [
          3918
         ],
         "yaxis": "y"
        }
       ],
       "layout": {
        "barmode": "stack",
        "legend": {
         "title": {
          "text": "Country"
         },
         "tracegroupgap": 0
        },
        "margin": {
         "t": 60
        },
        "template": {
         "data": {
          "bar": [
           {
            "error_x": {
             "color": "#2a3f5f"
            },
            "error_y": {
             "color": "#2a3f5f"
            },
            "marker": {
             "line": {
              "color": "#E5ECF6",
              "width": 0.5
             },
             "pattern": {
              "fillmode": "overlay",
              "size": 10,
              "solidity": 0.2
             }
            },
            "type": "bar"
           }
          ],
          "barpolar": [
           {
            "marker": {
             "line": {
              "color": "#E5ECF6",
              "width": 0.5
             },
             "pattern": {
              "fillmode": "overlay",
              "size": 10,
              "solidity": 0.2
             }
            },
            "type": "barpolar"
           }
          ],
          "carpet": [
           {
            "aaxis": {
             "endlinecolor": "#2a3f5f",
             "gridcolor": "white",
             "linecolor": "white",
             "minorgridcolor": "white",
             "startlinecolor": "#2a3f5f"
            },
            "baxis": {
             "endlinecolor": "#2a3f5f",
             "gridcolor": "white",
             "linecolor": "white",
             "minorgridcolor": "white",
             "startlinecolor": "#2a3f5f"
            },
            "type": "carpet"
           }
          ],
          "choropleth": [
           {
            "colorbar": {
             "outlinewidth": 0,
             "ticks": ""
            },
            "type": "choropleth"
           }
          ],
          "contour": [
           {
            "colorbar": {
             "outlinewidth": 0,
             "ticks": ""
            },
            "colorscale": [
             [
              0,
              "#0d0887"
             ],
             [
              0.1111111111111111,
              "#46039f"
             ],
             [
              0.2222222222222222,
              "#7201a8"
             ],
             [
              0.3333333333333333,
              "#9c179e"
             ],
             [
              0.4444444444444444,
              "#bd3786"
             ],
             [
              0.5555555555555556,
              "#d8576b"
             ],
             [
              0.6666666666666666,
              "#ed7953"
             ],
             [
              0.7777777777777778,
              "#fb9f3a"
             ],
             [
              0.8888888888888888,
              "#fdca26"
             ],
             [
              1,
              "#f0f921"
             ]
            ],
            "type": "contour"
           }
          ],
          "contourcarpet": [
           {
            "colorbar": {
             "outlinewidth": 0,
             "ticks": ""
            },
            "type": "contourcarpet"
           }
          ],
          "heatmap": [
           {
            "colorbar": {
             "outlinewidth": 0,
             "ticks": ""
            },
            "colorscale": [
             [
              0,
              "#0d0887"
             ],
             [
              0.1111111111111111,
              "#46039f"
             ],
             [
              0.2222222222222222,
              "#7201a8"
             ],
             [
              0.3333333333333333,
              "#9c179e"
             ],
             [
              0.4444444444444444,
              "#bd3786"
             ],
             [
              0.5555555555555556,
              "#d8576b"
             ],
             [
              0.6666666666666666,
              "#ed7953"
             ],
             [
              0.7777777777777778,
              "#fb9f3a"
             ],
             [
              0.8888888888888888,
              "#fdca26"
             ],
             [
              1,
              "#f0f921"
             ]
            ],
            "type": "heatmap"
           }
          ],
          "heatmapgl": [
           {
            "colorbar": {
             "outlinewidth": 0,
             "ticks": ""
            },
            "colorscale": [
             [
              0,
              "#0d0887"
             ],
             [
              0.1111111111111111,
              "#46039f"
             ],
             [
              0.2222222222222222,
              "#7201a8"
             ],
             [
              0.3333333333333333,
              "#9c179e"
             ],
             [
              0.4444444444444444,
              "#bd3786"
             ],
             [
              0.5555555555555556,
              "#d8576b"
             ],
             [
              0.6666666666666666,
              "#ed7953"
             ],
             [
              0.7777777777777778,
              "#fb9f3a"
             ],
             [
              0.8888888888888888,
              "#fdca26"
             ],
             [
              1,
              "#f0f921"
             ]
            ],
            "type": "heatmapgl"
           }
          ],
          "histogram": [
           {
            "marker": {
             "pattern": {
              "fillmode": "overlay",
              "size": 10,
              "solidity": 0.2
             }
            },
            "type": "histogram"
           }
          ],
          "histogram2d": [
           {
            "colorbar": {
             "outlinewidth": 0,
             "ticks": ""
            },
            "colorscale": [
             [
              0,
              "#0d0887"
             ],
             [
              0.1111111111111111,
              "#46039f"
             ],
             [
              0.2222222222222222,
              "#7201a8"
             ],
             [
              0.3333333333333333,
              "#9c179e"
             ],
             [
              0.4444444444444444,
              "#bd3786"
             ],
             [
              0.5555555555555556,
              "#d8576b"
             ],
             [
              0.6666666666666666,
              "#ed7953"
             ],
             [
              0.7777777777777778,
              "#fb9f3a"
             ],
             [
              0.8888888888888888,
              "#fdca26"
             ],
             [
              1,
              "#f0f921"
             ]
            ],
            "type": "histogram2d"
           }
          ],
          "histogram2dcontour": [
           {
            "colorbar": {
             "outlinewidth": 0,
             "ticks": ""
            },
            "colorscale": [
             [
              0,
              "#0d0887"
             ],
             [
              0.1111111111111111,
              "#46039f"
             ],
             [
              0.2222222222222222,
              "#7201a8"
             ],
             [
              0.3333333333333333,
              "#9c179e"
             ],
             [
              0.4444444444444444,
              "#bd3786"
             ],
             [
              0.5555555555555556,
              "#d8576b"
             ],
             [
              0.6666666666666666,
              "#ed7953"
             ],
             [
              0.7777777777777778,
              "#fb9f3a"
             ],
             [
              0.8888888888888888,
              "#fdca26"
             ],
             [
              1,
              "#f0f921"
             ]
            ],
            "type": "histogram2dcontour"
           }
          ],
          "mesh3d": [
           {
            "colorbar": {
             "outlinewidth": 0,
             "ticks": ""
            },
            "type": "mesh3d"
           }
          ],
          "parcoords": [
           {
            "line": {
             "colorbar": {
              "outlinewidth": 0,
              "ticks": ""
             }
            },
            "type": "parcoords"
           }
          ],
          "pie": [
           {
            "automargin": true,
            "type": "pie"
           }
          ],
          "scatter": [
           {
            "marker": {
             "colorbar": {
              "outlinewidth": 0,
              "ticks": ""
             }
            },
            "type": "scatter"
           }
          ],
          "scatter3d": [
           {
            "line": {
             "colorbar": {
              "outlinewidth": 0,
              "ticks": ""
             }
            },
            "marker": {
             "colorbar": {
              "outlinewidth": 0,
              "ticks": ""
             }
            },
            "type": "scatter3d"
           }
          ],
          "scattercarpet": [
           {
            "marker": {
             "colorbar": {
              "outlinewidth": 0,
              "ticks": ""
             }
            },
            "type": "scattercarpet"
           }
          ],
          "scattergeo": [
           {
            "marker": {
             "colorbar": {
              "outlinewidth": 0,
              "ticks": ""
             }
            },
            "type": "scattergeo"
           }
          ],
          "scattergl": [
           {
            "marker": {
             "colorbar": {
              "outlinewidth": 0,
              "ticks": ""
             }
            },
            "type": "scattergl"
           }
          ],
          "scattermapbox": [
           {
            "marker": {
             "colorbar": {
              "outlinewidth": 0,
              "ticks": ""
             }
            },
            "type": "scattermapbox"
           }
          ],
          "scatterpolar": [
           {
            "marker": {
             "colorbar": {
              "outlinewidth": 0,
              "ticks": ""
             }
            },
            "type": "scatterpolar"
           }
          ],
          "scatterpolargl": [
           {
            "marker": {
             "colorbar": {
              "outlinewidth": 0,
              "ticks": ""
             }
            },
            "type": "scatterpolargl"
           }
          ],
          "scatterternary": [
           {
            "marker": {
             "colorbar": {
              "outlinewidth": 0,
              "ticks": ""
             }
            },
            "type": "scatterternary"
           }
          ],
          "surface": [
           {
            "colorbar": {
             "outlinewidth": 0,
             "ticks": ""
            },
            "colorscale": [
             [
              0,
              "#0d0887"
             ],
             [
              0.1111111111111111,
              "#46039f"
             ],
             [
              0.2222222222222222,
              "#7201a8"
             ],
             [
              0.3333333333333333,
              "#9c179e"
             ],
             [
              0.4444444444444444,
              "#bd3786"
             ],
             [
              0.5555555555555556,
              "#d8576b"
             ],
             [
              0.6666666666666666,
              "#ed7953"
             ],
             [
              0.7777777777777778,
              "#fb9f3a"
             ],
             [
              0.8888888888888888,
              "#fdca26"
             ],
             [
              1,
              "#f0f921"
             ]
            ],
            "type": "surface"
           }
          ],
          "table": [
           {
            "cells": {
             "fill": {
              "color": "#EBF0F8"
             },
             "line": {
              "color": "white"
             }
            },
            "header": {
             "fill": {
              "color": "#C8D4E3"
             },
             "line": {
              "color": "white"
             }
            },
            "type": "table"
           }
          ]
         },
         "layout": {
          "annotationdefaults": {
           "arrowcolor": "#2a3f5f",
           "arrowhead": 0,
           "arrowwidth": 1
          },
          "autotypenumbers": "strict",
          "coloraxis": {
           "colorbar": {
            "outlinewidth": 0,
            "ticks": ""
           }
          },
          "colorscale": {
           "diverging": [
            [
             0,
             "#8e0152"
            ],
            [
             0.1,
             "#c51b7d"
            ],
            [
             0.2,
             "#de77ae"
            ],
            [
             0.3,
             "#f1b6da"
            ],
            [
             0.4,
             "#fde0ef"
            ],
            [
             0.5,
             "#f7f7f7"
            ],
            [
             0.6,
             "#e6f5d0"
            ],
            [
             0.7,
             "#b8e186"
            ],
            [
             0.8,
             "#7fbc41"
            ],
            [
             0.9,
             "#4d9221"
            ],
            [
             1,
             "#276419"
            ]
           ],
           "sequential": [
            [
             0,
             "#0d0887"
            ],
            [
             0.1111111111111111,
             "#46039f"
            ],
            [
             0.2222222222222222,
             "#7201a8"
            ],
            [
             0.3333333333333333,
             "#9c179e"
            ],
            [
             0.4444444444444444,
             "#bd3786"
            ],
            [
             0.5555555555555556,
             "#d8576b"
            ],
            [
             0.6666666666666666,
             "#ed7953"
            ],
            [
             0.7777777777777778,
             "#fb9f3a"
            ],
            [
             0.8888888888888888,
             "#fdca26"
            ],
            [
             1,
             "#f0f921"
            ]
           ],
           "sequentialminus": [
            [
             0,
             "#0d0887"
            ],
            [
             0.1111111111111111,
             "#46039f"
            ],
            [
             0.2222222222222222,
             "#7201a8"
            ],
            [
             0.3333333333333333,
             "#9c179e"
            ],
            [
             0.4444444444444444,
             "#bd3786"
            ],
            [
             0.5555555555555556,
             "#d8576b"
            ],
            [
             0.6666666666666666,
             "#ed7953"
            ],
            [
             0.7777777777777778,
             "#fb9f3a"
            ],
            [
             0.8888888888888888,
             "#fdca26"
            ],
            [
             1,
             "#f0f921"
            ]
           ]
          },
          "colorway": [
           "#636efa",
           "#EF553B",
           "#00cc96",
           "#ab63fa",
           "#FFA15A",
           "#19d3f3",
           "#FF6692",
           "#B6E880",
           "#FF97FF",
           "#FECB52"
          ],
          "font": {
           "color": "#2a3f5f"
          },
          "geo": {
           "bgcolor": "white",
           "lakecolor": "white",
           "landcolor": "#E5ECF6",
           "showlakes": true,
           "showland": true,
           "subunitcolor": "white"
          },
          "hoverlabel": {
           "align": "left"
          },
          "hovermode": "closest",
          "mapbox": {
           "style": "light"
          },
          "paper_bgcolor": "white",
          "plot_bgcolor": "#E5ECF6",
          "polar": {
           "angularaxis": {
            "gridcolor": "white",
            "linecolor": "white",
            "ticks": ""
           },
           "bgcolor": "#E5ECF6",
           "radialaxis": {
            "gridcolor": "white",
            "linecolor": "white",
            "ticks": ""
           }
          },
          "scene": {
           "xaxis": {
            "backgroundcolor": "#E5ECF6",
            "gridcolor": "white",
            "gridwidth": 2,
            "linecolor": "white",
            "showbackground": true,
            "ticks": "",
            "zerolinecolor": "white"
           },
           "yaxis": {
            "backgroundcolor": "#E5ECF6",
            "gridcolor": "white",
            "gridwidth": 2,
            "linecolor": "white",
            "showbackground": true,
            "ticks": "",
            "zerolinecolor": "white"
           },
           "zaxis": {
            "backgroundcolor": "#E5ECF6",
            "gridcolor": "white",
            "gridwidth": 2,
            "linecolor": "white",
            "showbackground": true,
            "ticks": "",
            "zerolinecolor": "white"
           }
          },
          "shapedefaults": {
           "line": {
            "color": "#2a3f5f"
           }
          },
          "ternary": {
           "aaxis": {
            "gridcolor": "white",
            "linecolor": "white",
            "ticks": ""
           },
           "baxis": {
            "gridcolor": "white",
            "linecolor": "white",
            "ticks": ""
           },
           "bgcolor": "#E5ECF6",
           "caxis": {
            "gridcolor": "white",
            "linecolor": "white",
            "ticks": ""
           }
          },
          "title": {
           "x": 0.05
          },
          "xaxis": {
           "automargin": true,
           "gridcolor": "white",
           "linecolor": "white",
           "ticks": "",
           "title": {
            "standoff": 15
           },
           "zerolinecolor": "white",
           "zerolinewidth": 2
          },
          "yaxis": {
           "automargin": true,
           "gridcolor": "white",
           "linecolor": "white",
           "ticks": "",
           "title": {
            "standoff": 15
           },
           "zerolinecolor": "white",
           "zerolinewidth": 2
          }
         }
        },
        "xaxis": {
         "anchor": "y",
         "categoryarray": [
          "US",
          "Russia",
          "Poland",
          "India",
          "Germany",
          "Ukraine",
          "France",
          "Turkey",
          "Italy",
          "Mexico"
         ],
         "categoryorder": "total ascending",
         "domain": [
          0,
          1
         ],
         "title": {
          "text": "Country"
         }
        },
        "yaxis": {
         "anchor": "x",
         "domain": [
          0,
          1
         ],
         "title": {
          "text": "Accumulated Deaths over past 28 days"
         }
        }
       }
      },
      "text/html": [
       "<div>                            <div id=\"74098bef-e84b-47a3-81ba-7c28f6aabd93\" class=\"plotly-graph-div\" style=\"height:525px; width:100%;\"></div>            <script type=\"text/javascript\">                require([\"plotly\"], function(Plotly) {                    window.PLOTLYENV=window.PLOTLYENV || {};                                    if (document.getElementById(\"74098bef-e84b-47a3-81ba-7c28f6aabd93\")) {                    Plotly.newPlot(                        \"74098bef-e84b-47a3-81ba-7c28f6aabd93\",                        [{\"alignmentgroup\":\"True\",\"hovertemplate\":\"Country=%{x}<br>Deaths in Last 28 Days=%{y}<extra></extra>\",\"legendgroup\":\"US\",\"marker\":{\"color\":\"#636efa\",\"pattern\":{\"shape\":\"\"}},\"name\":\"US\",\"offsetgroup\":\"US\",\"orientation\":\"v\",\"showlegend\":true,\"textposition\":\"auto\",\"x\":[\"US\"],\"xaxis\":\"x\",\"y\":[38476],\"yaxis\":\"y\",\"type\":\"bar\"},{\"alignmentgroup\":\"True\",\"hovertemplate\":\"Country=%{x}<br>Deaths in Last 28 Days=%{y}<extra></extra>\",\"legendgroup\":\"Russia\",\"marker\":{\"color\":\"#EF553B\",\"pattern\":{\"shape\":\"\"}},\"name\":\"Russia\",\"offsetgroup\":\"Russia\",\"orientation\":\"v\",\"showlegend\":true,\"textposition\":\"auto\",\"x\":[\"Russia\"],\"xaxis\":\"x\",\"y\":[26328],\"yaxis\":\"y\",\"type\":\"bar\"},{\"alignmentgroup\":\"True\",\"hovertemplate\":\"Country=%{x}<br>Deaths in Last 28 Days=%{y}<extra></extra>\",\"legendgroup\":\"Poland\",\"marker\":{\"color\":\"#00cc96\",\"pattern\":{\"shape\":\"\"}},\"name\":\"Poland\",\"offsetgroup\":\"Poland\",\"orientation\":\"v\",\"showlegend\":true,\"textposition\":\"auto\",\"x\":[\"Poland\"],\"xaxis\":\"x\",\"y\":[11306],\"yaxis\":\"y\",\"type\":\"bar\"},{\"alignmentgroup\":\"True\",\"hovertemplate\":\"Country=%{x}<br>Deaths in Last 28 Days=%{y}<extra></extra>\",\"legendgroup\":\"India\",\"marker\":{\"color\":\"#ab63fa\",\"pattern\":{\"shape\":\"\"}},\"name\":\"India\",\"offsetgroup\":\"India\",\"orientation\":\"v\",\"showlegend\":true,\"textposition\":\"auto\",\"x\":[\"India\"],\"xaxis\":\"x\",\"y\":[8356],\"yaxis\":\"y\",\"type\":\"bar\"},{\"alignmentgroup\":\"True\",\"hovertemplate\":\"Country=%{x}<br>Deaths in Last 28 Days=%{y}<extra></extra>\",\"legendgroup\":\"Germany\",\"marker\":{\"color\":\"#FFA15A\",\"pattern\":{\"shape\":\"\"}},\"name\":\"Germany\",\"offsetgroup\":\"Germany\",\"orientation\":\"v\",\"showlegend\":true,\"textposition\":\"auto\",\"x\":[\"Germany\"],\"xaxis\":\"x\",\"y\":[8340],\"yaxis\":\"y\",\"type\":\"bar\"},{\"alignmentgroup\":\"True\",\"hovertemplate\":\"Country=%{x}<br>Deaths in Last 28 Days=%{y}<extra></extra>\",\"legendgroup\":\"Ukraine\",\"marker\":{\"color\":\"#19d3f3\",\"pattern\":{\"shape\":\"\"}},\"name\":\"Ukraine\",\"offsetgroup\":\"Ukraine\",\"orientation\":\"v\",\"showlegend\":true,\"textposition\":\"auto\",\"x\":[\"Ukraine\"],\"xaxis\":\"x\",\"y\":[7096],\"yaxis\":\"y\",\"type\":\"bar\"},{\"alignmentgroup\":\"True\",\"hovertemplate\":\"Country=%{x}<br>Deaths in Last 28 Days=%{y}<extra></extra>\",\"legendgroup\":\"France\",\"marker\":{\"color\":\"#FF6692\",\"pattern\":{\"shape\":\"\"}},\"name\":\"France\",\"offsetgroup\":\"France\",\"orientation\":\"v\",\"showlegend\":true,\"textposition\":\"auto\",\"x\":[\"France\"],\"xaxis\":\"x\",\"y\":[4969],\"yaxis\":\"y\",\"type\":\"bar\"},{\"alignmentgroup\":\"True\",\"hovertemplate\":\"Country=%{x}<br>Deaths in Last 28 Days=%{y}<extra></extra>\",\"legendgroup\":\"Turkey\",\"marker\":{\"color\":\"#B6E880\",\"pattern\":{\"shape\":\"\"}},\"name\":\"Turkey\",\"offsetgroup\":\"Turkey\",\"orientation\":\"v\",\"showlegend\":true,\"textposition\":\"auto\",\"x\":[\"Turkey\"],\"xaxis\":\"x\",\"y\":[4560],\"yaxis\":\"y\",\"type\":\"bar\"},{\"alignmentgroup\":\"True\",\"hovertemplate\":\"Country=%{x}<br>Deaths in Last 28 Days=%{y}<extra></extra>\",\"legendgroup\":\"Italy\",\"marker\":{\"color\":\"#FF97FF\",\"pattern\":{\"shape\":\"\"}},\"name\":\"Italy\",\"offsetgroup\":\"Italy\",\"orientation\":\"v\",\"showlegend\":true,\"textposition\":\"auto\",\"x\":[\"Italy\"],\"xaxis\":\"x\",\"y\":[4116],\"yaxis\":\"y\",\"type\":\"bar\"},{\"alignmentgroup\":\"True\",\"hovertemplate\":\"Country=%{x}<br>Deaths in Last 28 Days=%{y}<extra></extra>\",\"legendgroup\":\"Mexico\",\"marker\":{\"color\":\"#FECB52\",\"pattern\":{\"shape\":\"\"}},\"name\":\"Mexico\",\"offsetgroup\":\"Mexico\",\"orientation\":\"v\",\"showlegend\":true,\"textposition\":\"auto\",\"x\":[\"Mexico\"],\"xaxis\":\"x\",\"y\":[3918],\"yaxis\":\"y\",\"type\":\"bar\"}],                        {\"template\":{\"data\":{\"bar\":[{\"error_x\":{\"color\":\"#2a3f5f\"},\"error_y\":{\"color\":\"#2a3f5f\"},\"marker\":{\"line\":{\"color\":\"#E5ECF6\",\"width\":0.5},\"pattern\":{\"fillmode\":\"overlay\",\"size\":10,\"solidity\":0.2}},\"type\":\"bar\"}],\"barpolar\":[{\"marker\":{\"line\":{\"color\":\"#E5ECF6\",\"width\":0.5},\"pattern\":{\"fillmode\":\"overlay\",\"size\":10,\"solidity\":0.2}},\"type\":\"barpolar\"}],\"carpet\":[{\"aaxis\":{\"endlinecolor\":\"#2a3f5f\",\"gridcolor\":\"white\",\"linecolor\":\"white\",\"minorgridcolor\":\"white\",\"startlinecolor\":\"#2a3f5f\"},\"baxis\":{\"endlinecolor\":\"#2a3f5f\",\"gridcolor\":\"white\",\"linecolor\":\"white\",\"minorgridcolor\":\"white\",\"startlinecolor\":\"#2a3f5f\"},\"type\":\"carpet\"}],\"choropleth\":[{\"colorbar\":{\"outlinewidth\":0,\"ticks\":\"\"},\"type\":\"choropleth\"}],\"contour\":[{\"colorbar\":{\"outlinewidth\":0,\"ticks\":\"\"},\"colorscale\":[[0.0,\"#0d0887\"],[0.1111111111111111,\"#46039f\"],[0.2222222222222222,\"#7201a8\"],[0.3333333333333333,\"#9c179e\"],[0.4444444444444444,\"#bd3786\"],[0.5555555555555556,\"#d8576b\"],[0.6666666666666666,\"#ed7953\"],[0.7777777777777778,\"#fb9f3a\"],[0.8888888888888888,\"#fdca26\"],[1.0,\"#f0f921\"]],\"type\":\"contour\"}],\"contourcarpet\":[{\"colorbar\":{\"outlinewidth\":0,\"ticks\":\"\"},\"type\":\"contourcarpet\"}],\"heatmap\":[{\"colorbar\":{\"outlinewidth\":0,\"ticks\":\"\"},\"colorscale\":[[0.0,\"#0d0887\"],[0.1111111111111111,\"#46039f\"],[0.2222222222222222,\"#7201a8\"],[0.3333333333333333,\"#9c179e\"],[0.4444444444444444,\"#bd3786\"],[0.5555555555555556,\"#d8576b\"],[0.6666666666666666,\"#ed7953\"],[0.7777777777777778,\"#fb9f3a\"],[0.8888888888888888,\"#fdca26\"],[1.0,\"#f0f921\"]],\"type\":\"heatmap\"}],\"heatmapgl\":[{\"colorbar\":{\"outlinewidth\":0,\"ticks\":\"\"},\"colorscale\":[[0.0,\"#0d0887\"],[0.1111111111111111,\"#46039f\"],[0.2222222222222222,\"#7201a8\"],[0.3333333333333333,\"#9c179e\"],[0.4444444444444444,\"#bd3786\"],[0.5555555555555556,\"#d8576b\"],[0.6666666666666666,\"#ed7953\"],[0.7777777777777778,\"#fb9f3a\"],[0.8888888888888888,\"#fdca26\"],[1.0,\"#f0f921\"]],\"type\":\"heatmapgl\"}],\"histogram\":[{\"marker\":{\"pattern\":{\"fillmode\":\"overlay\",\"size\":10,\"solidity\":0.2}},\"type\":\"histogram\"}],\"histogram2d\":[{\"colorbar\":{\"outlinewidth\":0,\"ticks\":\"\"},\"colorscale\":[[0.0,\"#0d0887\"],[0.1111111111111111,\"#46039f\"],[0.2222222222222222,\"#7201a8\"],[0.3333333333333333,\"#9c179e\"],[0.4444444444444444,\"#bd3786\"],[0.5555555555555556,\"#d8576b\"],[0.6666666666666666,\"#ed7953\"],[0.7777777777777778,\"#fb9f3a\"],[0.8888888888888888,\"#fdca26\"],[1.0,\"#f0f921\"]],\"type\":\"histogram2d\"}],\"histogram2dcontour\":[{\"colorbar\":{\"outlinewidth\":0,\"ticks\":\"\"},\"colorscale\":[[0.0,\"#0d0887\"],[0.1111111111111111,\"#46039f\"],[0.2222222222222222,\"#7201a8\"],[0.3333333333333333,\"#9c179e\"],[0.4444444444444444,\"#bd3786\"],[0.5555555555555556,\"#d8576b\"],[0.6666666666666666,\"#ed7953\"],[0.7777777777777778,\"#fb9f3a\"],[0.8888888888888888,\"#fdca26\"],[1.0,\"#f0f921\"]],\"type\":\"histogram2dcontour\"}],\"mesh3d\":[{\"colorbar\":{\"outlinewidth\":0,\"ticks\":\"\"},\"type\":\"mesh3d\"}],\"parcoords\":[{\"line\":{\"colorbar\":{\"outlinewidth\":0,\"ticks\":\"\"}},\"type\":\"parcoords\"}],\"pie\":[{\"automargin\":true,\"type\":\"pie\"}],\"scatter\":[{\"marker\":{\"colorbar\":{\"outlinewidth\":0,\"ticks\":\"\"}},\"type\":\"scatter\"}],\"scatter3d\":[{\"line\":{\"colorbar\":{\"outlinewidth\":0,\"ticks\":\"\"}},\"marker\":{\"colorbar\":{\"outlinewidth\":0,\"ticks\":\"\"}},\"type\":\"scatter3d\"}],\"scattercarpet\":[{\"marker\":{\"colorbar\":{\"outlinewidth\":0,\"ticks\":\"\"}},\"type\":\"scattercarpet\"}],\"scattergeo\":[{\"marker\":{\"colorbar\":{\"outlinewidth\":0,\"ticks\":\"\"}},\"type\":\"scattergeo\"}],\"scattergl\":[{\"marker\":{\"colorbar\":{\"outlinewidth\":0,\"ticks\":\"\"}},\"type\":\"scattergl\"}],\"scattermapbox\":[{\"marker\":{\"colorbar\":{\"outlinewidth\":0,\"ticks\":\"\"}},\"type\":\"scattermapbox\"}],\"scatterpolar\":[{\"marker\":{\"colorbar\":{\"outlinewidth\":0,\"ticks\":\"\"}},\"type\":\"scatterpolar\"}],\"scatterpolargl\":[{\"marker\":{\"colorbar\":{\"outlinewidth\":0,\"ticks\":\"\"}},\"type\":\"scatterpolargl\"}],\"scatterternary\":[{\"marker\":{\"colorbar\":{\"outlinewidth\":0,\"ticks\":\"\"}},\"type\":\"scatterternary\"}],\"surface\":[{\"colorbar\":{\"outlinewidth\":0,\"ticks\":\"\"},\"colorscale\":[[0.0,\"#0d0887\"],[0.1111111111111111,\"#46039f\"],[0.2222222222222222,\"#7201a8\"],[0.3333333333333333,\"#9c179e\"],[0.4444444444444444,\"#bd3786\"],[0.5555555555555556,\"#d8576b\"],[0.6666666666666666,\"#ed7953\"],[0.7777777777777778,\"#fb9f3a\"],[0.8888888888888888,\"#fdca26\"],[1.0,\"#f0f921\"]],\"type\":\"surface\"}],\"table\":[{\"cells\":{\"fill\":{\"color\":\"#EBF0F8\"},\"line\":{\"color\":\"white\"}},\"header\":{\"fill\":{\"color\":\"#C8D4E3\"},\"line\":{\"color\":\"white\"}},\"type\":\"table\"}]},\"layout\":{\"annotationdefaults\":{\"arrowcolor\":\"#2a3f5f\",\"arrowhead\":0,\"arrowwidth\":1},\"autotypenumbers\":\"strict\",\"coloraxis\":{\"colorbar\":{\"outlinewidth\":0,\"ticks\":\"\"}},\"colorscale\":{\"diverging\":[[0,\"#8e0152\"],[0.1,\"#c51b7d\"],[0.2,\"#de77ae\"],[0.3,\"#f1b6da\"],[0.4,\"#fde0ef\"],[0.5,\"#f7f7f7\"],[0.6,\"#e6f5d0\"],[0.7,\"#b8e186\"],[0.8,\"#7fbc41\"],[0.9,\"#4d9221\"],[1,\"#276419\"]],\"sequential\":[[0.0,\"#0d0887\"],[0.1111111111111111,\"#46039f\"],[0.2222222222222222,\"#7201a8\"],[0.3333333333333333,\"#9c179e\"],[0.4444444444444444,\"#bd3786\"],[0.5555555555555556,\"#d8576b\"],[0.6666666666666666,\"#ed7953\"],[0.7777777777777778,\"#fb9f3a\"],[0.8888888888888888,\"#fdca26\"],[1.0,\"#f0f921\"]],\"sequentialminus\":[[0.0,\"#0d0887\"],[0.1111111111111111,\"#46039f\"],[0.2222222222222222,\"#7201a8\"],[0.3333333333333333,\"#9c179e\"],[0.4444444444444444,\"#bd3786\"],[0.5555555555555556,\"#d8576b\"],[0.6666666666666666,\"#ed7953\"],[0.7777777777777778,\"#fb9f3a\"],[0.8888888888888888,\"#fdca26\"],[1.0,\"#f0f921\"]]},\"colorway\":[\"#636efa\",\"#EF553B\",\"#00cc96\",\"#ab63fa\",\"#FFA15A\",\"#19d3f3\",\"#FF6692\",\"#B6E880\",\"#FF97FF\",\"#FECB52\"],\"font\":{\"color\":\"#2a3f5f\"},\"geo\":{\"bgcolor\":\"white\",\"lakecolor\":\"white\",\"landcolor\":\"#E5ECF6\",\"showlakes\":true,\"showland\":true,\"subunitcolor\":\"white\"},\"hoverlabel\":{\"align\":\"left\"},\"hovermode\":\"closest\",\"mapbox\":{\"style\":\"light\"},\"paper_bgcolor\":\"white\",\"plot_bgcolor\":\"#E5ECF6\",\"polar\":{\"angularaxis\":{\"gridcolor\":\"white\",\"linecolor\":\"white\",\"ticks\":\"\"},\"bgcolor\":\"#E5ECF6\",\"radialaxis\":{\"gridcolor\":\"white\",\"linecolor\":\"white\",\"ticks\":\"\"}},\"scene\":{\"xaxis\":{\"backgroundcolor\":\"#E5ECF6\",\"gridcolor\":\"white\",\"gridwidth\":2,\"linecolor\":\"white\",\"showbackground\":true,\"ticks\":\"\",\"zerolinecolor\":\"white\"},\"yaxis\":{\"backgroundcolor\":\"#E5ECF6\",\"gridcolor\":\"white\",\"gridwidth\":2,\"linecolor\":\"white\",\"showbackground\":true,\"ticks\":\"\",\"zerolinecolor\":\"white\"},\"zaxis\":{\"backgroundcolor\":\"#E5ECF6\",\"gridcolor\":\"white\",\"gridwidth\":2,\"linecolor\":\"white\",\"showbackground\":true,\"ticks\":\"\",\"zerolinecolor\":\"white\"}},\"shapedefaults\":{\"line\":{\"color\":\"#2a3f5f\"}},\"ternary\":{\"aaxis\":{\"gridcolor\":\"white\",\"linecolor\":\"white\",\"ticks\":\"\"},\"baxis\":{\"gridcolor\":\"white\",\"linecolor\":\"white\",\"ticks\":\"\"},\"bgcolor\":\"#E5ECF6\",\"caxis\":{\"gridcolor\":\"white\",\"linecolor\":\"white\",\"ticks\":\"\"}},\"title\":{\"x\":0.05},\"xaxis\":{\"automargin\":true,\"gridcolor\":\"white\",\"linecolor\":\"white\",\"ticks\":\"\",\"title\":{\"standoff\":15},\"zerolinecolor\":\"white\",\"zerolinewidth\":2},\"yaxis\":{\"automargin\":true,\"gridcolor\":\"white\",\"linecolor\":\"white\",\"ticks\":\"\",\"title\":{\"standoff\":15},\"zerolinecolor\":\"white\",\"zerolinewidth\":2}}},\"xaxis\":{\"anchor\":\"y\",\"domain\":[0.0,1.0],\"title\":{\"text\":\"Country\"},\"categoryorder\":\"total ascending\",\"categoryarray\":[\"US\",\"Russia\",\"Poland\",\"India\",\"Germany\",\"Ukraine\",\"France\",\"Turkey\",\"Italy\",\"Mexico\"]},\"yaxis\":{\"anchor\":\"x\",\"domain\":[0.0,1.0],\"title\":{\"text\":\"Accumulated Deaths over past 28 days\"}},\"legend\":{\"title\":{\"text\":\"Country\"},\"tracegroupgap\":0},\"margin\":{\"t\":60},\"barmode\":\"stack\"},                        {\"responsive\": true}                    ).then(function(){\n",
       "                            \n",
       "var gd = document.getElementById('74098bef-e84b-47a3-81ba-7c28f6aabd93');\n",
       "var x = new MutationObserver(function (mutations, observer) {{\n",
       "        var display = window.getComputedStyle(gd).display;\n",
       "        if (!display || display === 'none') {{\n",
       "            console.log([gd, 'removed!']);\n",
       "            Plotly.purge(gd);\n",
       "            observer.disconnect();\n",
       "        }}\n",
       "}});\n",
       "\n",
       "// Listen for the removal of the full notebook cells\n",
       "var notebookContainer = gd.closest('#notebook-container');\n",
       "if (notebookContainer) {{\n",
       "    x.observe(notebookContainer, {childList: true});\n",
       "}}\n",
       "\n",
       "// Listen for the clearing of the current output cell\n",
       "var outputEl = gd.closest('.output');\n",
       "if (outputEl) {{\n",
       "    x.observe(outputEl, {childList: true});\n",
       "}}\n",
       "\n",
       "                        })                };                });            </script>        </div>"
      ]
     },
     "metadata": {},
     "output_type": "display_data"
    }
   ],
   "source": [
    "# Take sorted country dataframe as the input. \n",
    "# Create barplot using px.bar [plotly express]. Sorted the datafarme in the descending order so that the barcharts can \n",
    "# appear in ascending order \n",
    "\n",
    "sorted_country_df4 = sorted_country_df.sort_values(by='Deaths in Last 28 Days', ascending=False)\n",
    "fig = px.bar(sorted_country_df4.head(10), x=\"Country\", y=\"Deaths in Last 28 Days\", color=\"Country\")\n",
    "fig.update_xaxes(title_text='Country')\n",
    "fig.update_yaxes(title_text='Accumulated Deaths over past 28 days')\n",
    "fig.update_layout(barmode='stack', xaxis={'categoryorder':'total ascending'})\n",
    "fig.update_layout(legend_title=\"Country\")\n",
    "\n",
    "fig.show() "
   ]
  },
  {
   "cell_type": "markdown",
   "metadata": {
    "extensions": {
     "jupyter_dashboards": {
      "version": 1,
      "views": {
       "grid_default": {
        "col": null,
        "height": 2,
        "hidden": true,
        "row": null,
        "width": 2
       },
       "report_default": {
        "col": 0,
        "height": 2,
        "row": 80,
        "width": 12
       }
      }
     }
    }
   },
   "source": [
    "<h1><center>World Map of Covid-19 Cases</center></h1>"
   ]
  },
  {
   "cell_type": "code",
   "execution_count": 37,
   "metadata": {
    "extensions": {
     "jupyter_dashboards": {
      "version": 1,
      "views": {
       "grid_default": {
        "col": null,
        "height": 2,
        "hidden": true,
        "row": null,
        "width": 2
       },
       "report_default": {
        "hidden": true
       }
      }
     }
    }
   },
   "outputs": [],
   "source": [
    "# Load package from folium \n",
    "# drop any NAs in the longitude and latitude columns \n",
    "import folium \n",
    "confirmed_df=confirmed_df.dropna(subset=['long'])\n",
    "confirmed_df=confirmed_df.dropna(subset=['lat']) \n",
    "\n",
    "death_df=death_df.dropna(subset=['Long'])\n",
    "death_df=death_df.dropna(subset=['Lat'])"
   ]
  },
  {
   "cell_type": "code",
   "execution_count": 38,
   "metadata": {
    "extensions": {
     "jupyter_dashboards": {
      "version": 1,
      "views": {
       "grid_default": {
        "col": 0,
        "height": 4,
        "hidden": false,
        "row": 23,
        "width": 12
       },
       "report_default": {
        "col": 0,
        "height": 2,
        "row": 84,
        "width": 12
       }
      }
     }
    },
    "scrolled": true
   },
   "outputs": [
    {
     "data": {
      "text/html": [
       "<div style=\"width:100%;\"><div style=\"position:relative;width:100%;height:0;padding-bottom:60%;\"><span style=\"color:#565656\">Make this Notebook Trusted to load map: File -> Trust Notebook</span><iframe src=\"about:blank\" style=\"position:absolute;width:100%;height:100%;left:0;top:0;border:none !important;\" data-html=%3C%21DOCTYPE%20html%3E%0A%3Chead%3E%20%20%20%20%0A%20%20%20%20%3Cmeta%20http-equiv%3D%22content-type%22%20content%3D%22text/html%3B%20charset%3DUTF-8%22%20/%3E%0A%20%20%20%20%0A%20%20%20%20%20%20%20%20%3Cscript%3E%0A%20%20%20%20%20%20%20%20%20%20%20%20L_NO_TOUCH%20%3D%20false%3B%0A%20%20%20%20%20%20%20%20%20%20%20%20L_DISABLE_3D%20%3D%20false%3B%0A%20%20%20%20%20%20%20%20%3C/script%3E%0A%20%20%20%20%0A%20%20%20%20%3Cstyle%3Ehtml%2C%20body%20%7Bwidth%3A%20100%25%3Bheight%3A%20100%25%3Bmargin%3A%200%3Bpadding%3A%200%3B%7D%3C/style%3E%0A%20%20%20%20%3Cstyle%3E%23map%20%7Bposition%3Aabsolute%3Btop%3A0%3Bbottom%3A0%3Bright%3A0%3Bleft%3A0%3B%7D%3C/style%3E%0A%20%20%20%20%3Cscript%20src%3D%22https%3A//cdn.jsdelivr.net/npm/leaflet%401.6.0/dist/leaflet.js%22%3E%3C/script%3E%0A%20%20%20%20%3Cscript%20src%3D%22https%3A//code.jquery.com/jquery-1.12.4.min.js%22%3E%3C/script%3E%0A%20%20%20%20%3Cscript%20src%3D%22https%3A//maxcdn.bootstrapcdn.com/bootstrap/3.2.0/js/bootstrap.min.js%22%3E%3C/script%3E%0A%20%20%20%20%3Cscript%20src%3D%22https%3A//cdnjs.cloudflare.com/ajax/libs/Leaflet.awesome-markers/2.0.2/leaflet.awesome-markers.js%22%3E%3C/script%3E%0A%20%20%20%20%3Clink%20rel%3D%22stylesheet%22%20href%3D%22https%3A//cdn.jsdelivr.net/npm/leaflet%401.6.0/dist/leaflet.css%22/%3E%0A%20%20%20%20%3Clink%20rel%3D%22stylesheet%22%20href%3D%22https%3A//maxcdn.bootstrapcdn.com/bootstrap/3.2.0/css/bootstrap.min.css%22/%3E%0A%20%20%20%20%3Clink%20rel%3D%22stylesheet%22%20href%3D%22https%3A//maxcdn.bootstrapcdn.com/bootstrap/3.2.0/css/bootstrap-theme.min.css%22/%3E%0A%20%20%20%20%3Clink%20rel%3D%22stylesheet%22%20href%3D%22https%3A//maxcdn.bootstrapcdn.com/font-awesome/4.6.3/css/font-awesome.min.css%22/%3E%0A%20%20%20%20%3Clink%20rel%3D%22stylesheet%22%20href%3D%22https%3A//cdnjs.cloudflare.com/ajax/libs/Leaflet.awesome-markers/2.0.2/leaflet.awesome-markers.css%22/%3E%0A%20%20%20%20%3Clink%20rel%3D%22stylesheet%22%20href%3D%22https%3A//cdn.jsdelivr.net/gh/python-visualization/folium/folium/templates/leaflet.awesome.rotate.min.css%22/%3E%0A%20%20%20%20%0A%20%20%20%20%20%20%20%20%20%20%20%20%3Cmeta%20name%3D%22viewport%22%20content%3D%22width%3Ddevice-width%2C%0A%20%20%20%20%20%20%20%20%20%20%20%20%20%20%20%20initial-scale%3D1.0%2C%20maximum-scale%3D1.0%2C%20user-scalable%3Dno%22%20/%3E%0A%20%20%20%20%20%20%20%20%20%20%20%20%3Cstyle%3E%0A%20%20%20%20%20%20%20%20%20%20%20%20%20%20%20%20%23map_eb660f0cadf14412ab360cc7dee84180%20%7B%0A%20%20%20%20%20%20%20%20%20%20%20%20%20%20%20%20%20%20%20%20position%3A%20relative%3B%0A%20%20%20%20%20%20%20%20%20%20%20%20%20%20%20%20%20%20%20%20width%3A%20100.0%25%3B%0A%20%20%20%20%20%20%20%20%20%20%20%20%20%20%20%20%20%20%20%20height%3A%20100.0%25%3B%0A%20%20%20%20%20%20%20%20%20%20%20%20%20%20%20%20%20%20%20%20left%3A%200.0%25%3B%0A%20%20%20%20%20%20%20%20%20%20%20%20%20%20%20%20%20%20%20%20top%3A%200.0%25%3B%0A%20%20%20%20%20%20%20%20%20%20%20%20%20%20%20%20%7D%0A%20%20%20%20%20%20%20%20%20%20%20%20%3C/style%3E%0A%20%20%20%20%20%20%20%20%0A%3C/head%3E%0A%3Cbody%3E%20%20%20%20%0A%20%20%20%20%0A%20%20%20%20%20%20%20%20%20%20%20%20%3Cdiv%20class%3D%22folium-map%22%20id%3D%22map_eb660f0cadf14412ab360cc7dee84180%22%20%3E%3C/div%3E%0A%20%20%20%20%20%20%20%20%0A%3C/body%3E%0A%3Cscript%3E%20%20%20%20%0A%20%20%20%20%0A%20%20%20%20%20%20%20%20%20%20%20%20var%20map_eb660f0cadf14412ab360cc7dee84180%20%3D%20L.map%28%0A%20%20%20%20%20%20%20%20%20%20%20%20%20%20%20%20%22map_eb660f0cadf14412ab360cc7dee84180%22%2C%0A%20%20%20%20%20%20%20%20%20%20%20%20%20%20%20%20%7B%0A%20%20%20%20%20%20%20%20%20%20%20%20%20%20%20%20%20%20%20%20center%3A%20%5B11.0%2C%200.0%5D%2C%0A%20%20%20%20%20%20%20%20%20%20%20%20%20%20%20%20%20%20%20%20crs%3A%20L.CRS.EPSG3857%2C%0A%20%20%20%20%20%20%20%20%20%20%20%20%20%20%20%20%20%20%20%20zoom%3A%202%2C%0A%20%20%20%20%20%20%20%20%20%20%20%20%20%20%20%20%20%20%20%20zoomControl%3A%20true%2C%0A%20%20%20%20%20%20%20%20%20%20%20%20%20%20%20%20%20%20%20%20preferCanvas%3A%20false%2C%0A%20%20%20%20%20%20%20%20%20%20%20%20%20%20%20%20%7D%0A%20%20%20%20%20%20%20%20%20%20%20%20%29%3B%0A%0A%20%20%20%20%20%20%20%20%20%20%20%20%0A%0A%20%20%20%20%20%20%20%20%0A%20%20%20%20%0A%20%20%20%20%20%20%20%20%20%20%20%20var%20tile_layer_1b8e79ba8dc24390b5911dfea7846b3e%20%3D%20L.tileLayer%28%0A%20%20%20%20%20%20%20%20%20%20%20%20%20%20%20%20%22https%3A//cartodb-basemaps-%7Bs%7D.global.ssl.fastly.net/light_all/%7Bz%7D/%7Bx%7D/%7By%7D.png%22%2C%0A%20%20%20%20%20%20%20%20%20%20%20%20%20%20%20%20%7B%22attribution%22%3A%20%22%5Cu0026copy%3B%20%5Cu003ca%20href%3D%5C%22http%3A//www.openstreetmap.org/copyright%5C%22%5Cu003eOpenStreetMap%5Cu003c/a%5Cu003e%20contributors%20%5Cu0026copy%3B%20%5Cu003ca%20href%3D%5C%22http%3A//cartodb.com/attributions%5C%22%5Cu003eCartoDB%5Cu003c/a%5Cu003e%2C%20CartoDB%20%5Cu003ca%20href%20%3D%5C%22http%3A//cartodb.com/attributions%5C%22%5Cu003eattributions%5Cu003c/a%5Cu003e%22%2C%20%22detectRetina%22%3A%20false%2C%20%22maxNativeZoom%22%3A%206%2C%20%22maxZoom%22%3A%206%2C%20%22minZoom%22%3A%202%2C%20%22noWrap%22%3A%20false%2C%20%22opacity%22%3A%201%2C%20%22subdomains%22%3A%20%22abc%22%2C%20%22tms%22%3A%20false%7D%0A%20%20%20%20%20%20%20%20%20%20%20%20%29.addTo%28map_eb660f0cadf14412ab360cc7dee84180%29%3B%0A%20%20%20%20%20%20%20%20%0A%20%20%20%20%0A%20%20%20%20%20%20%20%20%20%20%20%20var%20circle_bc4fe5ad3e2849098eb0b51840219b18%20%3D%20L.circle%28%0A%20%20%20%20%20%20%20%20%20%20%20%20%20%20%20%20%5B33.93911%2C%2067.709953%5D%2C%0A%20%20%20%20%20%20%20%20%20%20%20%20%20%20%20%20%7B%22bubblingMouseEvents%22%3A%20true%2C%20%22color%22%3A%20%22red%22%2C%20%22dashArray%22%3A%20null%2C%20%22dashOffset%22%3A%20null%2C%20%22fill%22%3A%20true%2C%20%22fillColor%22%3A%20%22indigo%22%2C%20%22fillOpacity%22%3A%200.2%2C%20%22fillRule%22%3A%20%22evenodd%22%2C%20%22lineCap%22%3A%20%22round%22%2C%20%22lineJoin%22%3A%20%22round%22%2C%20%22opacity%22%3A%201.0%2C%20%22radius%22%3A%20112000.0%2C%20%22stroke%22%3A%20true%2C%20%22weight%22%3A%203%7D%0A%20%20%20%20%20%20%20%20%20%20%20%20%29.addTo%28map_eb660f0cadf14412ab360cc7dee84180%29%3B%0A%20%20%20%20%20%20%20%20%0A%20%20%20%20%0A%20%20%20%20%20%20%20%20%20%20%20%20circle_bc4fe5ad3e2849098eb0b51840219b18.bindTooltip%28%0A%20%20%20%20%20%20%20%20%20%20%20%20%20%20%20%20%60%3Cdiv%3E%0A%20%20%20%20%20%20%20%20%20%20%20%20%20%20%20%20%20%20%20%20%20%3Cdiv%20style%3D%27margin%3A%200%3B%20background-color%3A%20black%3B%20color%3A%20white%3B%27%3E%3Ch4%20style%3D%27text-align%3Acenter%3Bfont-weight%3A%20bold%27%3EAfghanistan%3C/h4%3E%3Chr%20style%3D%27margin%3A10px%3Bcolor%3A%20white%3B%27%3E%3Cul%20style%3D%27color%3A%20white%3B%3Blist-style-type%3Acircle%3Balign-item%3Aleft%3Bpadding-left%3A20px%3Bpadding-right%3A20px%27%3E%3Cli%3EConfirmed%3A%20158381%3C/li%3E%3C/ul%3E%3C/div%3E%0A%20%20%20%20%20%20%20%20%20%20%20%20%20%20%20%20%20%3C/div%3E%60%2C%0A%20%20%20%20%20%20%20%20%20%20%20%20%20%20%20%20%7B%22sticky%22%3A%20true%7D%0A%20%20%20%20%20%20%20%20%20%20%20%20%29%3B%0A%20%20%20%20%20%20%20%20%0A%20%20%20%20%0A%20%20%20%20%20%20%20%20%20%20%20%20var%20circle_8456709eade54044afb721942ecd84d6%20%3D%20L.circle%28%0A%20%20%20%20%20%20%20%20%20%20%20%20%20%20%20%20%5B41.1533%2C%2020.1683%5D%2C%0A%20%20%20%20%20%20%20%20%20%20%20%20%20%20%20%20%7B%22bubblingMouseEvents%22%3A%20true%2C%20%22color%22%3A%20%22red%22%2C%20%22dashArray%22%3A%20null%2C%20%22dashOffset%22%3A%20null%2C%20%22fill%22%3A%20true%2C%20%22fillColor%22%3A%20%22indigo%22%2C%20%22fillOpacity%22%3A%200.2%2C%20%22fillRule%22%3A%20%22evenodd%22%2C%20%22lineCap%22%3A%20%22round%22%2C%20%22lineJoin%22%3A%20%22round%22%2C%20%22opacity%22%3A%201.0%2C%20%22radius%22%3A%20122000.0%2C%20%22stroke%22%3A%20true%2C%20%22weight%22%3A%203%7D%0A%20%20%20%20%20%20%20%20%20%20%20%20%29.addTo%28map_eb660f0cadf14412ab360cc7dee84180%29%3B%0A%20%20%20%20%20%20%20%20%0A%20%20%20%20%0A%20%20%20%20%20%20%20%20%20%20%20%20circle_8456709eade54044afb721942ecd84d6.bindTooltip%28%0A%20%20%20%20%20%20%20%20%20%20%20%20%20%20%20%20%60%3Cdiv%3E%0A%20%20%20%20%20%20%20%20%20%20%20%20%20%20%20%20%20%20%20%20%20%3Cdiv%20style%3D%27margin%3A%200%3B%20background-color%3A%20black%3B%20color%3A%20white%3B%27%3E%3Ch4%20style%3D%27text-align%3Acenter%3Bfont-weight%3A%20bold%27%3EAlbania%3C/h4%3E%3Chr%20style%3D%27margin%3A10px%3Bcolor%3A%20white%3B%27%3E%3Cul%20style%3D%27color%3A%20white%3B%3Blist-style-type%3Acircle%3Balign-item%3Aleft%3Bpadding-left%3A20px%3Bpadding-right%3A20px%27%3E%3Cli%3EConfirmed%3A%20219694%3C/li%3E%3C/ul%3E%3C/div%3E%0A%20%20%20%20%20%20%20%20%20%20%20%20%20%20%20%20%20%3C/div%3E%60%2C%0A%20%20%20%20%20%20%20%20%20%20%20%20%20%20%20%20%7B%22sticky%22%3A%20true%7D%0A%20%20%20%20%20%20%20%20%20%20%20%20%29%3B%0A%20%20%20%20%20%20%20%20%0A%20%20%20%20%0A%20%20%20%20%20%20%20%20%20%20%20%20var%20circle_b73ad0bd8820495fa0c018d5482fc887%20%3D%20L.circle%28%0A%20%20%20%20%20%20%20%20%20%20%20%20%20%20%20%20%5B28.0339%2C%201.6596%5D%2C%0A%20%20%20%20%20%20%20%20%20%20%20%20%20%20%20%20%7B%22bubblingMouseEvents%22%3A%20true%2C%20%22color%22%3A%20%22red%22%2C%20%22dashArray%22%3A%20null%2C%20%22dashOffset%22%3A%20null%2C%20%22fill%22%3A%20true%2C%20%22fillColor%22%3A%20%22indigo%22%2C%20%22fillOpacity%22%3A%200.2%2C%20%22fillRule%22%3A%20%22evenodd%22%2C%20%22lineCap%22%3A%20%22round%22%2C%20%22lineJoin%22%3A%20%22round%22%2C%20%22opacity%22%3A%201.0%2C%20%22radius%22%3A%20122000.0%2C%20%22stroke%22%3A%20true%2C%20%22weight%22%3A%203%7D%0A%20%20%20%20%20%20%20%20%20%20%20%20%29.addTo%28map_eb660f0cadf14412ab360cc7dee84180%29%3B%0A%20%20%20%20%20%20%20%20%0A%20%20%20%20%0A%20%20%20%20%20%20%20%20%20%20%20%20circle_b73ad0bd8820495fa0c018d5482fc887.bindTooltip%28%0A%20%20%20%20%20%20%20%20%20%20%20%20%20%20%20%20%60%3Cdiv%3E%0A%20%20%20%20%20%20%20%20%20%20%20%20%20%20%20%20%20%20%20%20%20%3Cdiv%20style%3D%27margin%3A%200%3B%20background-color%3A%20black%3B%20color%3A%20white%3B%27%3E%3Ch4%20style%3D%27text-align%3Acenter%3Bfont-weight%3A%20bold%27%3EAlgeria%3C/h4%3E%3Chr%20style%3D%27margin%3A10px%3Bcolor%3A%20white%3B%27%3E%3Cul%20style%3D%27color%3A%20white%3B%3Blist-style-type%3Acircle%3Balign-item%3Aleft%3Bpadding-left%3A20px%3Bpadding-right%3A20px%27%3E%3Cli%3EConfirmed%3A%20222157%3C/li%3E%3C/ul%3E%3C/div%3E%0A%20%20%20%20%20%20%20%20%20%20%20%20%20%20%20%20%20%3C/div%3E%60%2C%0A%20%20%20%20%20%20%20%20%20%20%20%20%20%20%20%20%7B%22sticky%22%3A%20true%7D%0A%20%20%20%20%20%20%20%20%20%20%20%20%29%3B%0A%20%20%20%20%20%20%20%20%0A%20%20%20%20%0A%20%20%20%20%20%20%20%20%20%20%20%20var%20circle_12085f556d804c3284df4c265aa6f776%20%3D%20L.circle%28%0A%20%20%20%20%20%20%20%20%20%20%20%20%20%20%20%20%5B42.5063%2C%201.5218%5D%2C%0A%20%20%20%20%20%20%20%20%20%20%20%20%20%20%20%20%7B%22bubblingMouseEvents%22%3A%20true%2C%20%22color%22%3A%20%22red%22%2C%20%22dashArray%22%3A%20null%2C%20%22dashOffset%22%3A%20null%2C%20%22fill%22%3A%20true%2C%20%22fillColor%22%3A%20%22indigo%22%2C%20%22fillOpacity%22%3A%200.2%2C%20%22fillRule%22%3A%20%22evenodd%22%2C%20%22lineCap%22%3A%20%22round%22%2C%20%22lineJoin%22%3A%20%22round%22%2C%20%22opacity%22%3A%201.0%2C%20%22radius%22%3A%20102000.0%2C%20%22stroke%22%3A%20true%2C%20%22weight%22%3A%203%7D%0A%20%20%20%20%20%20%20%20%20%20%20%20%29.addTo%28map_eb660f0cadf14412ab360cc7dee84180%29%3B%0A%20%20%20%20%20%20%20%20%0A%20%20%20%20%0A%20%20%20%20%20%20%20%20%20%20%20%20circle_12085f556d804c3284df4c265aa6f776.bindTooltip%28%0A%20%20%20%20%20%20%20%20%20%20%20%20%20%20%20%20%60%3Cdiv%3E%0A%20%20%20%20%20%20%20%20%20%20%20%20%20%20%20%20%20%20%20%20%20%3Cdiv%20style%3D%27margin%3A%200%3B%20background-color%3A%20black%3B%20color%3A%20white%3B%27%3E%3Ch4%20style%3D%27text-align%3Acenter%3Bfont-weight%3A%20bold%27%3EAndorra%3C/h4%3E%3Chr%20style%3D%27margin%3A10px%3Bcolor%3A%20white%3B%27%3E%3Cul%20style%3D%27color%3A%20white%3B%3Blist-style-type%3Acircle%3Balign-item%3Aleft%3Bpadding-left%3A20px%3Bpadding-right%3A20px%27%3E%3Cli%3EConfirmed%3A%2026408%3C/li%3E%3C/ul%3E%3C/div%3E%0A%20%20%20%20%20%20%20%20%20%20%20%20%20%20%20%20%20%3C/div%3E%60%2C%0A%20%20%20%20%20%20%20%20%20%20%20%20%20%20%20%20%7B%22sticky%22%3A%20true%7D%0A%20%20%20%20%20%20%20%20%20%20%20%20%29%3B%0A%20%20%20%20%20%20%20%20%0A%20%20%20%20%0A%20%20%20%20%20%20%20%20%20%20%20%20var%20circle_d3fd27f24fa34d9f99656cf349cfbdd4%20%3D%20L.circle%28%0A%20%20%20%20%20%20%20%20%20%20%20%20%20%20%20%20%5B-11.2027%2C%2017.8739%5D%2C%0A%20%20%20%20%20%20%20%20%20%20%20%20%20%20%20%20%7B%22bubblingMouseEvents%22%3A%20true%2C%20%22color%22%3A%20%22red%22%2C%20%22dashArray%22%3A%20null%2C%20%22dashOffset%22%3A%20null%2C%20%22fill%22%3A%20true%2C%20%22fillColor%22%3A%20%22indigo%22%2C%20%22fillOpacity%22%3A%200.2%2C%20%22fillRule%22%3A%20%22evenodd%22%2C%20%22lineCap%22%3A%20%22round%22%2C%20%22lineJoin%22%3A%20%22round%22%2C%20%22opacity%22%3A%201.0%2C%20%22radius%22%3A%20112000.0%2C%20%22stroke%22%3A%20true%2C%20%22weight%22%3A%203%7D%0A%20%20%20%20%20%20%20%20%20%20%20%20%29.addTo%28map_eb660f0cadf14412ab360cc7dee84180%29%3B%0A%20%20%20%20%20%20%20%20%0A%20%20%20%20%0A%20%20%20%20%20%20%20%20%20%20%20%20circle_d3fd27f24fa34d9f99656cf349cfbdd4.bindTooltip%28%0A%20%20%20%20%20%20%20%20%20%20%20%20%20%20%20%20%60%3Cdiv%3E%0A%20%20%20%20%20%20%20%20%20%20%20%20%20%20%20%20%20%20%20%20%20%3Cdiv%20style%3D%27margin%3A%200%3B%20background-color%3A%20black%3B%20color%3A%20white%3B%27%3E%3Ch4%20style%3D%27text-align%3Acenter%3Bfont-weight%3A%20bold%27%3EAngola%3C/h4%3E%3Chr%20style%3D%27margin%3A10px%3Bcolor%3A%20white%3B%27%3E%3Cul%20style%3D%27color%3A%20white%3B%3Blist-style-type%3Acircle%3Balign-item%3Aleft%3Bpadding-left%3A20px%3Bpadding-right%3A20px%27%3E%3Cli%3EConfirmed%3A%2089718%3C/li%3E%3C/ul%3E%3C/div%3E%0A%20%20%20%20%20%20%20%20%20%20%20%20%20%20%20%20%20%3C/div%3E%60%2C%0A%20%20%20%20%20%20%20%20%20%20%20%20%20%20%20%20%7B%22sticky%22%3A%20true%7D%0A%20%20%20%20%20%20%20%20%20%20%20%20%29%3B%0A%20%20%20%20%20%20%20%20%0A%20%20%20%20%0A%20%20%20%20%20%20%20%20%20%20%20%20var%20circle_56531b7da4084c248abea0e8f2125b3d%20%3D%20L.circle%28%0A%20%20%20%20%20%20%20%20%20%20%20%20%20%20%20%20%5B17.0608%2C%20-61.7964%5D%2C%0A%20%20%20%20%20%20%20%20%20%20%20%20%20%20%20%20%7B%22bubblingMouseEvents%22%3A%20true%2C%20%22color%22%3A%20%22red%22%2C%20%22dashArray%22%3A%20null%2C%20%22dashOffset%22%3A%20null%2C%20%22fill%22%3A%20true%2C%20%22fillColor%22%3A%20%22indigo%22%2C%20%22fillOpacity%22%3A%200.2%2C%20%22fillRule%22%3A%20%22evenodd%22%2C%20%22lineCap%22%3A%20%22round%22%2C%20%22lineJoin%22%3A%20%22round%22%2C%20%22opacity%22%3A%201.0%2C%20%22radius%22%3A%2082000.0%2C%20%22stroke%22%3A%20true%2C%20%22weight%22%3A%203%7D%0A%20%20%20%20%20%20%20%20%20%20%20%20%29.addTo%28map_eb660f0cadf14412ab360cc7dee84180%29%3B%0A%20%20%20%20%20%20%20%20%0A%20%20%20%20%0A%20%20%20%20%20%20%20%20%20%20%20%20circle_56531b7da4084c248abea0e8f2125b3d.bindTooltip%28%0A%20%20%20%20%20%20%20%20%20%20%20%20%20%20%20%20%60%3Cdiv%3E%0A%20%20%20%20%20%20%20%20%20%20%20%20%20%20%20%20%20%20%20%20%20%3Cdiv%20style%3D%27margin%3A%200%3B%20background-color%3A%20black%3B%20color%3A%20white%3B%27%3E%3Ch4%20style%3D%27text-align%3Acenter%3Bfont-weight%3A%20bold%27%3EAntigua%20and%20Barbuda%3C/h4%3E%3Chr%20style%3D%27margin%3A10px%3Bcolor%3A%20white%3B%27%3E%3Cul%20style%3D%27color%3A%20white%3B%3Blist-style-type%3Acircle%3Balign-item%3Aleft%3Bpadding-left%3A20px%3Bpadding-right%3A20px%27%3E%3Cli%3EConfirmed%3A%205058%3C/li%3E%3C/ul%3E%3C/div%3E%0A%20%20%20%20%20%20%20%20%20%20%20%20%20%20%20%20%20%3C/div%3E%60%2C%0A%20%20%20%20%20%20%20%20%20%20%20%20%20%20%20%20%7B%22sticky%22%3A%20true%7D%0A%20%20%20%20%20%20%20%20%20%20%20%20%29%3B%0A%20%20%20%20%20%20%20%20%0A%20%20%20%20%0A%20%20%20%20%20%20%20%20%20%20%20%20var%20circle_6d06b027589148bbb5586bdf6e374286%20%3D%20L.circle%28%0A%20%20%20%20%20%20%20%20%20%20%20%20%20%20%20%20%5B-38.4161%2C%20-63.6167%5D%2C%0A%20%20%20%20%20%20%20%20%20%20%20%20%20%20%20%20%7B%22bubblingMouseEvents%22%3A%20true%2C%20%22color%22%3A%20%22red%22%2C%20%22dashArray%22%3A%20null%2C%20%22dashOffset%22%3A%20null%2C%20%22fill%22%3A%20true%2C%20%22fillColor%22%3A%20%22indigo%22%2C%20%22fillOpacity%22%3A%200.2%2C%20%22fillRule%22%3A%20%22evenodd%22%2C%20%22lineCap%22%3A%20%22round%22%2C%20%22lineJoin%22%3A%20%22round%22%2C%20%22opacity%22%3A%201.0%2C%20%22radius%22%3A%20152000.0%2C%20%22stroke%22%3A%20true%2C%20%22weight%22%3A%203%7D%0A%20%20%20%20%20%20%20%20%20%20%20%20%29.addTo%28map_eb660f0cadf14412ab360cc7dee84180%29%3B%0A%20%20%20%20%20%20%20%20%0A%20%20%20%20%0A%20%20%20%20%20%20%20%20%20%20%20%20circle_6d06b027589148bbb5586bdf6e374286.bindTooltip%28%0A%20%20%20%20%20%20%20%20%20%20%20%20%20%20%20%20%60%3Cdiv%3E%0A%20%20%20%20%20%20%20%20%20%20%20%20%20%20%20%20%20%20%20%20%20%3Cdiv%20style%3D%27margin%3A%200%3B%20background-color%3A%20black%3B%20color%3A%20white%3B%27%3E%3Ch4%20style%3D%27text-align%3Acenter%3Bfont-weight%3A%20bold%27%3EArgentina%3C/h4%3E%3Chr%20style%3D%27margin%3A10px%3Bcolor%3A%20white%3B%27%3E%3Cul%20style%3D%27color%3A%20white%3B%3Blist-style-type%3Acircle%3Balign-item%3Aleft%3Bpadding-left%3A20px%3Bpadding-right%3A20px%27%3E%3Cli%3EConfirmed%3A%206310844%3C/li%3E%3C/ul%3E%3C/div%3E%0A%20%20%20%20%20%20%20%20%20%20%20%20%20%20%20%20%20%3C/div%3E%60%2C%0A%20%20%20%20%20%20%20%20%20%20%20%20%20%20%20%20%7B%22sticky%22%3A%20true%7D%0A%20%20%20%20%20%20%20%20%20%20%20%20%29%3B%0A%20%20%20%20%20%20%20%20%0A%20%20%20%20%0A%20%20%20%20%20%20%20%20%20%20%20%20var%20circle_f4d70bbf9c06498e9df264e25c059703%20%3D%20L.circle%28%0A%20%20%20%20%20%20%20%20%20%20%20%20%20%20%20%20%5B40.0691%2C%2045.0382%5D%2C%0A%20%20%20%20%20%20%20%20%20%20%20%20%20%20%20%20%7B%22bubblingMouseEvents%22%3A%20true%2C%20%22color%22%3A%20%22red%22%2C%20%22dashArray%22%3A%20null%2C%20%22dashOffset%22%3A%20null%2C%20%22fill%22%3A%20true%2C%20%22fillColor%22%3A%20%22indigo%22%2C%20%22fillOpacity%22%3A%200.2%2C%20%22fillRule%22%3A%20%22evenodd%22%2C%20%22lineCap%22%3A%20%22round%22%2C%20%22lineJoin%22%3A%20%22round%22%2C%20%22opacity%22%3A%201.0%2C%20%22radius%22%3A%20122000.0%2C%20%22stroke%22%3A%20true%2C%20%22weight%22%3A%203%7D%0A%20%20%20%20%20%20%20%20%20%20%20%20%29.addTo%28map_eb660f0cadf14412ab360cc7dee84180%29%3B%0A%20%20%20%20%20%20%20%20%0A%20%20%20%20%0A%20%20%20%20%20%20%20%20%20%20%20%20circle_f4d70bbf9c06498e9df264e25c059703.bindTooltip%28%0A%20%20%20%20%20%20%20%20%20%20%20%20%20%20%20%20%60%3Cdiv%3E%0A%20%20%20%20%20%20%20%20%20%20%20%20%20%20%20%20%20%20%20%20%20%3Cdiv%20style%3D%27margin%3A%200%3B%20background-color%3A%20black%3B%20color%3A%20white%3B%27%3E%3Ch4%20style%3D%27text-align%3Acenter%3Bfont-weight%3A%20bold%27%3EArmenia%3C/h4%3E%3Chr%20style%3D%27margin%3A10px%3Bcolor%3A%20white%3B%27%3E%3Cul%20style%3D%27color%3A%20white%3B%3Blist-style-type%3Acircle%3Balign-item%3Aleft%3Bpadding-left%3A20px%3Bpadding-right%3A20px%27%3E%3Cli%3EConfirmed%3A%20345855%3C/li%3E%3C/ul%3E%3C/div%3E%0A%20%20%20%20%20%20%20%20%20%20%20%20%20%20%20%20%20%3C/div%3E%60%2C%0A%20%20%20%20%20%20%20%20%20%20%20%20%20%20%20%20%7B%22sticky%22%3A%20true%7D%0A%20%20%20%20%20%20%20%20%20%20%20%20%29%3B%0A%20%20%20%20%20%20%20%20%0A%20%20%20%20%0A%20%20%20%20%20%20%20%20%20%20%20%20var%20circle_8e7412ee967c49649baa611e660ed889%20%3D%20L.circle%28%0A%20%20%20%20%20%20%20%20%20%20%20%20%20%20%20%20%5B-35.4735%2C%20149.0124%5D%2C%0A%20%20%20%20%20%20%20%20%20%20%20%20%20%20%20%20%7B%22bubblingMouseEvents%22%3A%20true%2C%20%22color%22%3A%20%22red%22%2C%20%22dashArray%22%3A%20null%2C%20%22dashOffset%22%3A%20null%2C%20%22fill%22%3A%20true%2C%20%22fillColor%22%3A%20%22indigo%22%2C%20%22fillOpacity%22%3A%200.2%2C%20%22fillRule%22%3A%20%22evenodd%22%2C%20%22lineCap%22%3A%20%22round%22%2C%20%22lineJoin%22%3A%20%22round%22%2C%20%22opacity%22%3A%201.0%2C%20%22radius%22%3A%2092000.0%2C%20%22stroke%22%3A%20true%2C%20%22weight%22%3A%203%7D%0A%20%20%20%20%20%20%20%20%20%20%20%20%29.addTo%28map_eb660f0cadf14412ab360cc7dee84180%29%3B%0A%20%20%20%20%20%20%20%20%0A%20%20%20%20%0A%20%20%20%20%20%20%20%20%20%20%20%20circle_8e7412ee967c49649baa611e660ed889.bindTooltip%28%0A%20%20%20%20%20%20%20%20%20%20%20%20%20%20%20%20%60%3Cdiv%3E%0A%20%20%20%20%20%20%20%20%20%20%20%20%20%20%20%20%20%20%20%20%20%3Cdiv%20style%3D%27margin%3A%200%3B%20background-color%3A%20black%3B%20color%3A%20white%3B%27%3E%3Ch4%20style%3D%27text-align%3Acenter%3Bfont-weight%3A%20bold%27%3EAustralia%3C/h4%3E%3Chr%20style%3D%27margin%3A10px%3Bcolor%3A%20white%3B%27%3E%3Cul%20style%3D%27color%3A%20white%3B%3Blist-style-type%3Acircle%3Balign-item%3Aleft%3Bpadding-left%3A20px%3Bpadding-right%3A20px%27%3E%3Cli%3EConfirmed%3A%2013248%3C/li%3E%3C/ul%3E%3C/div%3E%0A%20%20%20%20%20%20%20%20%20%20%20%20%20%20%20%20%20%3C/div%3E%60%2C%0A%20%20%20%20%20%20%20%20%20%20%20%20%20%20%20%20%7B%22sticky%22%3A%20true%7D%0A%20%20%20%20%20%20%20%20%20%20%20%20%29%3B%0A%20%20%20%20%20%20%20%20%0A%20%20%20%20%0A%20%20%20%20%20%20%20%20%20%20%20%20var%20circle_a089cfafd7c44dbebb1a56fcf73a3334%20%3D%20L.circle%28%0A%20%20%20%20%20%20%20%20%20%20%20%20%20%20%20%20%5B-33.8688%2C%20151.2093%5D%2C%0A%20%20%20%20%20%20%20%20%20%20%20%20%20%20%20%20%7B%22bubblingMouseEvents%22%3A%20true%2C%20%22color%22%3A%20%22red%22%2C%20%22dashArray%22%3A%20null%2C%20%22dashOffset%22%3A%20null%2C%20%22fill%22%3A%20true%2C%20%22fillColor%22%3A%20%22indigo%22%2C%20%22fillOpacity%22%3A%200.2%2C%20%22fillRule%22%3A%20%22evenodd%22%2C%20%22lineCap%22%3A%20%22round%22%2C%20%22lineJoin%22%3A%20%22round%22%2C%20%22opacity%22%3A%201.0%2C%20%22radius%22%3A%20132000.0%2C%20%22stroke%22%3A%20true%2C%20%22weight%22%3A%203%7D%0A%20%20%20%20%20%20%20%20%20%20%20%20%29.addTo%28map_eb660f0cadf14412ab360cc7dee84180%29%3B%0A%20%20%20%20%20%20%20%20%0A%20%20%20%20%0A%20%20%20%20%20%20%20%20%20%20%20%20circle_a089cfafd7c44dbebb1a56fcf73a3334.bindTooltip%28%0A%20%20%20%20%20%20%20%20%20%20%20%20%20%20%20%20%60%3Cdiv%3E%0A%20%20%20%20%20%20%20%20%20%20%20%20%20%20%20%20%20%20%20%20%20%3Cdiv%20style%3D%27margin%3A%200%3B%20background-color%3A%20black%3B%20color%3A%20white%3B%27%3E%3Ch4%20style%3D%27text-align%3Acenter%3Bfont-weight%3A%20bold%27%3EAustralia%3C/h4%3E%3Chr%20style%3D%27margin%3A10px%3Bcolor%3A%20white%3B%27%3E%3Cul%20style%3D%27color%3A%20white%3B%3Blist-style-type%3Acircle%3Balign-item%3Aleft%3Bpadding-left%3A20px%3Bpadding-right%3A20px%27%3E%3Cli%3EConfirmed%3A%20475731%3C/li%3E%3C/ul%3E%3C/div%3E%0A%20%20%20%20%20%20%20%20%20%20%20%20%20%20%20%20%20%3C/div%3E%60%2C%0A%20%20%20%20%20%20%20%20%20%20%20%20%20%20%20%20%7B%22sticky%22%3A%20true%7D%0A%20%20%20%20%20%20%20%20%20%20%20%20%29%3B%0A%20%20%20%20%20%20%20%20%0A%20%20%20%20%0A%20%20%20%20%20%20%20%20%20%20%20%20var%20circle_2b98cebc5db44d9cbf3b2d5bd7506576%20%3D%20L.circle%28%0A%20%20%20%20%20%20%20%20%20%20%20%20%20%20%20%20%5B-12.4634%2C%20130.8456%5D%2C%0A%20%20%20%20%20%20%20%20%20%20%20%20%20%20%20%20%7B%22bubblingMouseEvents%22%3A%20true%2C%20%22color%22%3A%20%22red%22%2C%20%22dashArray%22%3A%20null%2C%20%22dashOffset%22%3A%20null%2C%20%22fill%22%3A%20true%2C%20%22fillColor%22%3A%20%22indigo%22%2C%20%22fillOpacity%22%3A%200.2%2C%20%22fillRule%22%3A%20%22evenodd%22%2C%20%22lineCap%22%3A%20%22round%22%2C%20%22lineJoin%22%3A%20%22round%22%2C%20%22opacity%22%3A%201.0%2C%20%22radius%22%3A%2072000.0%2C%20%22stroke%22%3A%20true%2C%20%22weight%22%3A%203%7D%0A%20%20%20%20%20%20%20%20%20%20%20%20%29.addTo%28map_eb660f0cadf14412ab360cc7dee84180%29%3B%0A%20%20%20%20%20%20%20%20%0A%20%20%20%20%0A%20%20%20%20%20%20%20%20%20%20%20%20circle_2b98cebc5db44d9cbf3b2d5bd7506576.bindTooltip%28%0A%20%20%20%20%20%20%20%20%20%20%20%20%20%20%20%20%60%3Cdiv%3E%0A%20%20%20%20%20%20%20%20%20%20%20%20%20%20%20%20%20%20%20%20%20%3Cdiv%20style%3D%27margin%3A%200%3B%20background-color%3A%20black%3B%20color%3A%20white%3B%27%3E%3Ch4%20style%3D%27text-align%3Acenter%3Bfont-weight%3A%20bold%27%3EAustralia%3C/h4%3E%3Chr%20style%3D%27margin%3A10px%3Bcolor%3A%20white%3B%27%3E%3Cul%20style%3D%27color%3A%20white%3B%3Blist-style-type%3Acircle%3Balign-item%3Aleft%3Bpadding-left%3A20px%3Bpadding-right%3A20px%27%3E%3Cli%3EConfirmed%3A%202642%3C/li%3E%3C/ul%3E%3C/div%3E%0A%20%20%20%20%20%20%20%20%20%20%20%20%20%20%20%20%20%3C/div%3E%60%2C%0A%20%20%20%20%20%20%20%20%20%20%20%20%20%20%20%20%7B%22sticky%22%3A%20true%7D%0A%20%20%20%20%20%20%20%20%20%20%20%20%29%3B%0A%20%20%20%20%20%20%20%20%0A%20%20%20%20%0A%20%20%20%20%20%20%20%20%20%20%20%20var%20circle_97e0098883c1498a9620f4b6075a5557%20%3D%20L.circle%28%0A%20%20%20%20%20%20%20%20%20%20%20%20%20%20%20%20%5B-27.4698%2C%20153.0251%5D%2C%0A%20%20%20%20%20%20%20%20%20%20%20%20%20%20%20%20%7B%22bubblingMouseEvents%22%3A%20true%2C%20%22color%22%3A%20%22red%22%2C%20%22dashArray%22%3A%20null%2C%20%22dashOffset%22%3A%20null%2C%20%22fill%22%3A%20true%2C%20%22fillColor%22%3A%20%22indigo%22%2C%20%22fillOpacity%22%3A%200.2%2C%20%22fillRule%22%3A%20%22evenodd%22%2C%20%22lineCap%22%3A%20%22round%22%2C%20%22lineJoin%22%3A%20%22round%22%2C%20%22opacity%22%3A%201.0%2C%20%22radius%22%3A%20112000.0%2C%20%22stroke%22%3A%20true%2C%20%22weight%22%3A%203%7D%0A%20%20%20%20%20%20%20%20%20%20%20%20%29.addTo%28map_eb660f0cadf14412ab360cc7dee84180%29%3B%0A%20%20%20%20%20%20%20%20%0A%20%20%20%20%0A%20%20%20%20%20%20%20%20%20%20%20%20circle_97e0098883c1498a9620f4b6075a5557.bindTooltip%28%0A%20%20%20%20%20%20%20%20%20%20%20%20%20%20%20%20%60%3Cdiv%3E%0A%20%20%20%20%20%20%20%20%20%20%20%20%20%20%20%20%20%20%20%20%20%3Cdiv%20style%3D%27margin%3A%200%3B%20background-color%3A%20black%3B%20color%3A%20white%3B%27%3E%3Ch4%20style%3D%27text-align%3Acenter%3Bfont-weight%3A%20bold%27%3EAustralia%3C/h4%3E%3Chr%20style%3D%27margin%3A10px%3Bcolor%3A%20white%3B%27%3E%3Cul%20style%3D%27color%3A%20white%3B%3Blist-style-type%3Acircle%3Balign-item%3Aleft%3Bpadding-left%3A20px%3Bpadding-right%3A20px%27%3E%3Cli%3EConfirmed%3A%2096341%3C/li%3E%3C/ul%3E%3C/div%3E%0A%20%20%20%20%20%20%20%20%20%20%20%20%20%20%20%20%20%3C/div%3E%60%2C%0A%20%20%20%20%20%20%20%20%20%20%20%20%20%20%20%20%7B%22sticky%22%3A%20true%7D%0A%20%20%20%20%20%20%20%20%20%20%20%20%29%3B%0A%20%20%20%20%20%20%20%20%0A%20%20%20%20%0A%20%20%20%20%20%20%20%20%20%20%20%20var%20circle_b93f7c7181a24298a4b3c8ac7f111913%20%3D%20L.circle%28%0A%20%20%20%20%20%20%20%20%20%20%20%20%20%20%20%20%5B-34.9285%2C%20138.6007%5D%2C%0A%20%20%20%20%20%20%20%20%20%20%20%20%20%20%20%20%7B%22bubblingMouseEvents%22%3A%20true%2C%20%22color%22%3A%20%22red%22%2C%20%22dashArray%22%3A%20null%2C%20%22dashOffset%22%3A%20null%2C%20%22fill%22%3A%20true%2C%20%22fillColor%22%3A%20%22indigo%22%2C%20%22fillOpacity%22%3A%200.2%2C%20%22fillRule%22%3A%20%22evenodd%22%2C%20%22lineCap%22%3A%20%22round%22%2C%20%22lineJoin%22%3A%20%22round%22%2C%20%22opacity%22%3A%201.0%2C%20%22radius%22%3A%20102000.0%2C%20%22stroke%22%3A%20true%2C%20%22weight%22%3A%203%7D%0A%20%20%20%20%20%20%20%20%20%20%20%20%29.addTo%28map_eb660f0cadf14412ab360cc7dee84180%29%3B%0A%20%20%20%20%20%20%20%20%0A%20%20%20%20%0A%20%20%20%20%20%20%20%20%20%20%20%20circle_b93f7c7181a24298a4b3c8ac7f111913.bindTooltip%28%0A%20%20%20%20%20%20%20%20%20%20%20%20%20%20%20%20%60%3Cdiv%3E%0A%20%20%20%20%20%20%20%20%20%20%20%20%20%20%20%20%20%20%20%20%20%3Cdiv%20style%3D%27margin%3A%200%3B%20background-color%3A%20black%3B%20color%3A%20white%3B%27%3E%3Ch4%20style%3D%27text-align%3Acenter%3Bfont-weight%3A%20bold%27%3EAustralia%3C/h4%3E%3Chr%20style%3D%27margin%3A10px%3Bcolor%3A%20white%3B%27%3E%3Cul%20style%3D%27color%3A%20white%3B%3Blist-style-type%3Acircle%3Balign-item%3Aleft%3Bpadding-left%3A20px%3Bpadding-right%3A20px%27%3E%3Cli%3EConfirmed%3A%2040627%3C/li%3E%3C/ul%3E%3C/div%3E%0A%20%20%20%20%20%20%20%20%20%20%20%20%20%20%20%20%20%3C/div%3E%60%2C%0A%20%20%20%20%20%20%20%20%20%20%20%20%20%20%20%20%7B%22sticky%22%3A%20true%7D%0A%20%20%20%20%20%20%20%20%20%20%20%20%29%3B%0A%20%20%20%20%20%20%20%20%0A%20%20%20%20%0A%20%20%20%20%20%20%20%20%20%20%20%20var%20circle_7a0b076224464ffdac9406ac34c74543%20%3D%20L.circle%28%0A%20%20%20%20%20%20%20%20%20%20%20%20%20%20%20%20%5B-42.8821%2C%20147.3272%5D%2C%0A%20%20%20%20%20%20%20%20%20%20%20%20%20%20%20%20%7B%22bubblingMouseEvents%22%3A%20true%2C%20%22color%22%3A%20%22red%22%2C%20%22dashArray%22%3A%20null%2C%20%22dashOffset%22%3A%20null%2C%20%22fill%22%3A%20true%2C%20%22fillColor%22%3A%20%22indigo%22%2C%20%22fillOpacity%22%3A%200.2%2C%20%22fillRule%22%3A%20%22evenodd%22%2C%20%22lineCap%22%3A%20%22round%22%2C%20%22lineJoin%22%3A%20%22round%22%2C%20%22opacity%22%3A%201.0%2C%20%22radius%22%3A%2092000.0%2C%20%22stroke%22%3A%20true%2C%20%22weight%22%3A%203%7D%0A%20%20%20%20%20%20%20%20%20%20%20%20%29.addTo%28map_eb660f0cadf14412ab360cc7dee84180%29%3B%0A%20%20%20%20%20%20%20%20%0A%20%20%20%20%0A%20%20%20%20%20%20%20%20%20%20%20%20circle_7a0b076224464ffdac9406ac34c74543.bindTooltip%28%0A%20%20%20%20%20%20%20%20%20%20%20%20%20%20%20%20%60%3Cdiv%3E%0A%20%20%20%20%20%20%20%20%20%20%20%20%20%20%20%20%20%20%20%20%20%3Cdiv%20style%3D%27margin%3A%200%3B%20background-color%3A%20black%3B%20color%3A%20white%3B%27%3E%3Ch4%20style%3D%27text-align%3Acenter%3Bfont-weight%3A%20bold%27%3EAustralia%3C/h4%3E%3Chr%20style%3D%27margin%3A10px%3Bcolor%3A%20white%3B%27%3E%3Cul%20style%3D%27color%3A%20white%3B%3Blist-style-type%3Acircle%3Balign-item%3Aleft%3Bpadding-left%3A20px%3Bpadding-right%3A20px%27%3E%3Cli%3EConfirmed%3A%2010713%3C/li%3E%3C/ul%3E%3C/div%3E%0A%20%20%20%20%20%20%20%20%20%20%20%20%20%20%20%20%20%3C/div%3E%60%2C%0A%20%20%20%20%20%20%20%20%20%20%20%20%20%20%20%20%7B%22sticky%22%3A%20true%7D%0A%20%20%20%20%20%20%20%20%20%20%20%20%29%3B%0A%20%20%20%20%20%20%20%20%0A%20%20%20%20%0A%20%20%20%20%20%20%20%20%20%20%20%20var%20circle_502c483983864f779d537502ffe547b4%20%3D%20L.circle%28%0A%20%20%20%20%20%20%20%20%20%20%20%20%20%20%20%20%5B-37.8136%2C%20144.9631%5D%2C%0A%20%20%20%20%20%20%20%20%20%20%20%20%20%20%20%20%7B%22bubblingMouseEvents%22%3A%20true%2C%20%22color%22%3A%20%22red%22%2C%20%22dashArray%22%3A%20null%2C%20%22dashOffset%22%3A%20null%2C%20%22fill%22%3A%20true%2C%20%22fillColor%22%3A%20%22indigo%22%2C%20%22fillOpacity%22%3A%200.2%2C%20%22fillRule%22%3A%20%22evenodd%22%2C%20%22lineCap%22%3A%20%22round%22%2C%20%22lineJoin%22%3A%20%22round%22%2C%20%22opacity%22%3A%201.0%2C%20%22radius%22%3A%20122000.0%2C%20%22stroke%22%3A%20true%2C%20%22weight%22%3A%203%7D%0A%20%20%20%20%20%20%20%20%20%20%20%20%29.addTo%28map_eb660f0cadf14412ab360cc7dee84180%29%3B%0A%20%20%20%20%20%20%20%20%0A%20%20%20%20%0A%20%20%20%20%20%20%20%20%20%20%20%20circle_502c483983864f779d537502ffe547b4.bindTooltip%28%0A%20%20%20%20%20%20%20%20%20%20%20%20%20%20%20%20%60%3Cdiv%3E%0A%20%20%20%20%20%20%20%20%20%20%20%20%20%20%20%20%20%20%20%20%20%3Cdiv%20style%3D%27margin%3A%200%3B%20background-color%3A%20black%3B%20color%3A%20white%3B%27%3E%3Ch4%20style%3D%27text-align%3Acenter%3Bfont-weight%3A%20bold%27%3EAustralia%3C/h4%3E%3Chr%20style%3D%27margin%3A10px%3Bcolor%3A%20white%3B%27%3E%3Cul%20style%3D%27color%3A%20white%3B%3Blist-style-type%3Acircle%3Balign-item%3Aleft%3Bpadding-left%3A20px%3Bpadding-right%3A20px%27%3E%3Cli%3EConfirmed%3A%20404758%3C/li%3E%3C/ul%3E%3C/div%3E%0A%20%20%20%20%20%20%20%20%20%20%20%20%20%20%20%20%20%3C/div%3E%60%2C%0A%20%20%20%20%20%20%20%20%20%20%20%20%20%20%20%20%7B%22sticky%22%3A%20true%7D%0A%20%20%20%20%20%20%20%20%20%20%20%20%29%3B%0A%20%20%20%20%20%20%20%20%0A%20%20%20%20%0A%20%20%20%20%20%20%20%20%20%20%20%20var%20circle_84f02c48592341f99e496930aaa71a58%20%3D%20L.circle%28%0A%20%20%20%20%20%20%20%20%20%20%20%20%20%20%20%20%5B-31.9505%2C%20115.8605%5D%2C%0A%20%20%20%20%20%20%20%20%20%20%20%20%20%20%20%20%7B%22bubblingMouseEvents%22%3A%20true%2C%20%22color%22%3A%20%22red%22%2C%20%22dashArray%22%3A%20null%2C%20%22dashOffset%22%3A%20null%2C%20%22fill%22%3A%20true%2C%20%22fillColor%22%3A%20%22indigo%22%2C%20%22fillOpacity%22%3A%200.2%2C%20%22fillRule%22%3A%20%22evenodd%22%2C%20%22lineCap%22%3A%20%22round%22%2C%20%22lineJoin%22%3A%20%22round%22%2C%20%22opacity%22%3A%201.0%2C%20%22radius%22%3A%2072000.0%2C%20%22stroke%22%3A%20true%2C%20%22weight%22%3A%203%7D%0A%20%20%20%20%20%20%20%20%20%20%20%20%29.addTo%28map_eb660f0cadf14412ab360cc7dee84180%29%3B%0A%20%20%20%20%20%20%20%20%0A%20%20%20%20%0A%20%20%20%20%20%20%20%20%20%20%20%20circle_84f02c48592341f99e496930aaa71a58.bindTooltip%28%0A%20%20%20%20%20%20%20%20%20%20%20%20%20%20%20%20%60%3Cdiv%3E%0A%20%20%20%20%20%20%20%20%20%20%20%20%20%20%20%20%20%20%20%20%20%3Cdiv%20style%3D%27margin%3A%200%3B%20background-color%3A%20black%3B%20color%3A%20white%3B%27%3E%3Ch4%20style%3D%27text-align%3Acenter%3Bfont-weight%3A%20bold%27%3EAustralia%3C/h4%3E%3Chr%20style%3D%27margin%3A10px%3Bcolor%3A%20white%3B%27%3E%3Cul%20style%3D%27color%3A%20white%3B%3Blist-style-type%3Acircle%3Balign-item%3Aleft%3Bpadding-left%3A20px%3Bpadding-right%3A20px%27%3E%3Cli%3EConfirmed%3A%201231%3C/li%3E%3C/ul%3E%3C/div%3E%0A%20%20%20%20%20%20%20%20%20%20%20%20%20%20%20%20%20%3C/div%3E%60%2C%0A%20%20%20%20%20%20%20%20%20%20%20%20%20%20%20%20%7B%22sticky%22%3A%20true%7D%0A%20%20%20%20%20%20%20%20%20%20%20%20%29%3B%0A%20%20%20%20%20%20%20%20%0A%20%20%20%20%0A%20%20%20%20%20%20%20%20%20%20%20%20var%20circle_304100a34e5c4c4387d6e14ade99709c%20%3D%20L.circle%28%0A%20%20%20%20%20%20%20%20%20%20%20%20%20%20%20%20%5B47.5162%2C%2014.5501%5D%2C%0A%20%20%20%20%20%20%20%20%20%20%20%20%20%20%20%20%7B%22bubblingMouseEvents%22%3A%20true%2C%20%22color%22%3A%20%22red%22%2C%20%22dashArray%22%3A%20null%2C%20%22dashOffset%22%3A%20null%2C%20%22fill%22%3A%20true%2C%20%22fillColor%22%3A%20%22indigo%22%2C%20%22fillOpacity%22%3A%200.2%2C%20%22fillRule%22%3A%20%22evenodd%22%2C%20%22lineCap%22%3A%20%22round%22%2C%20%22lineJoin%22%3A%20%22round%22%2C%20%22opacity%22%3A%201.0%2C%20%22radius%22%3A%20142000.0%2C%20%22stroke%22%3A%20true%2C%20%22weight%22%3A%203%7D%0A%20%20%20%20%20%20%20%20%20%20%20%20%29.addTo%28map_eb660f0cadf14412ab360cc7dee84180%29%3B%0A%20%20%20%20%20%20%20%20%0A%20%20%20%20%0A%20%20%20%20%20%20%20%20%20%20%20%20circle_304100a34e5c4c4387d6e14ade99709c.bindTooltip%28%0A%20%20%20%20%20%20%20%20%20%20%20%20%20%20%20%20%60%3Cdiv%3E%0A%20%20%20%20%20%20%20%20%20%20%20%20%20%20%20%20%20%20%20%20%20%3Cdiv%20style%3D%27margin%3A%200%3B%20background-color%3A%20black%3B%20color%3A%20white%3B%27%3E%3Ch4%20style%3D%27text-align%3Acenter%3Bfont-weight%3A%20bold%27%3EAustria%3C/h4%3E%3Chr%20style%3D%27margin%3A10px%3Bcolor%3A%20white%3B%27%3E%3Cul%20style%3D%27color%3A%20white%3B%3Blist-style-type%3Acircle%3Balign-item%3Aleft%3Bpadding-left%3A20px%3Bpadding-right%3A20px%27%3E%3Cli%3EConfirmed%3A%201339421%3C/li%3E%3C/ul%3E%3C/div%3E%0A%20%20%20%20%20%20%20%20%20%20%20%20%20%20%20%20%20%3C/div%3E%60%2C%0A%20%20%20%20%20%20%20%20%20%20%20%20%20%20%20%20%7B%22sticky%22%3A%20true%7D%0A%20%20%20%20%20%20%20%20%20%20%20%20%29%3B%0A%20%20%20%20%20%20%20%20%0A%20%20%20%20%0A%20%20%20%20%20%20%20%20%20%20%20%20var%20circle_620f2e32734a40cd9336046a0179a85c%20%3D%20L.circle%28%0A%20%20%20%20%20%20%20%20%20%20%20%20%20%20%20%20%5B40.1431%2C%2047.5769%5D%2C%0A%20%20%20%20%20%20%20%20%20%20%20%20%20%20%20%20%7B%22bubblingMouseEvents%22%3A%20true%2C%20%22color%22%3A%20%22red%22%2C%20%22dashArray%22%3A%20null%2C%20%22dashOffset%22%3A%20null%2C%20%22fill%22%3A%20true%2C%20%22fillColor%22%3A%20%22indigo%22%2C%20%22fillOpacity%22%3A%200.2%2C%20%22fillRule%22%3A%20%22evenodd%22%2C%20%22lineCap%22%3A%20%22round%22%2C%20%22lineJoin%22%3A%20%22round%22%2C%20%22opacity%22%3A%201.0%2C%20%22radius%22%3A%20132000.0%2C%20%22stroke%22%3A%20true%2C%20%22weight%22%3A%203%7D%0A%20%20%20%20%20%20%20%20%20%20%20%20%29.addTo%28map_eb660f0cadf14412ab360cc7dee84180%29%3B%0A%20%20%20%20%20%20%20%20%0A%20%20%20%20%0A%20%20%20%20%20%20%20%20%20%20%20%20circle_620f2e32734a40cd9336046a0179a85c.bindTooltip%28%0A%20%20%20%20%20%20%20%20%20%20%20%20%20%20%20%20%60%3Cdiv%3E%0A%20%20%20%20%20%20%20%20%20%20%20%20%20%20%20%20%20%20%20%20%20%3Cdiv%20style%3D%27margin%3A%200%3B%20background-color%3A%20black%3B%20color%3A%20white%3B%27%3E%3Ch4%20style%3D%27text-align%3Acenter%3Bfont-weight%3A%20bold%27%3EAzerbaijan%3C/h4%3E%3Chr%20style%3D%27margin%3A10px%3Bcolor%3A%20white%3B%27%3E%3Cul%20style%3D%27color%3A%20white%3B%3Blist-style-type%3Acircle%3Balign-item%3Aleft%3Bpadding-left%3A20px%3Bpadding-right%3A20px%27%3E%3Cli%3EConfirmed%3A%20621234%3C/li%3E%3C/ul%3E%3C/div%3E%0A%20%20%20%20%20%20%20%20%20%20%20%20%20%20%20%20%20%3C/div%3E%60%2C%0A%20%20%20%20%20%20%20%20%20%20%20%20%20%20%20%20%7B%22sticky%22%3A%20true%7D%0A%20%20%20%20%20%20%20%20%20%20%20%20%29%3B%0A%20%20%20%20%20%20%20%20%0A%20%20%20%20%0A%20%20%20%20%20%20%20%20%20%20%20%20var%20circle_822703fa7e674f93822b0d2744eb490f%20%3D%20L.circle%28%0A%20%20%20%20%20%20%20%20%20%20%20%20%20%20%20%20%5B25.025885%2C%20-78.035889%5D%2C%0A%20%20%20%20%20%20%20%20%20%20%20%20%20%20%20%20%7B%22bubblingMouseEvents%22%3A%20true%2C%20%22color%22%3A%20%22red%22%2C%20%22dashArray%22%3A%20null%2C%20%22dashOffset%22%3A%20null%2C%20%22fill%22%3A%20true%2C%20%22fillColor%22%3A%20%22indigo%22%2C%20%22fillOpacity%22%3A%200.2%2C%20%22fillRule%22%3A%20%22evenodd%22%2C%20%22lineCap%22%3A%20%22round%22%2C%20%22lineJoin%22%3A%20%22round%22%2C%20%22opacity%22%3A%201.0%2C%20%22radius%22%3A%20102000.0%2C%20%22stroke%22%3A%20true%2C%20%22weight%22%3A%203%7D%0A%20%20%20%20%20%20%20%20%20%20%20%20%29.addTo%28map_eb660f0cadf14412ab360cc7dee84180%29%3B%0A%20%20%20%20%20%20%20%20%0A%20%20%20%20%0A%20%20%20%20%20%20%20%20%20%20%20%20circle_822703fa7e674f93822b0d2744eb490f.bindTooltip%28%0A%20%20%20%20%20%20%20%20%20%20%20%20%20%20%20%20%60%3Cdiv%3E%0A%20%20%20%20%20%20%20%20%20%20%20%20%20%20%20%20%20%20%20%20%20%3Cdiv%20style%3D%27margin%3A%200%3B%20background-color%3A%20black%3B%20color%3A%20white%3B%27%3E%3Ch4%20style%3D%27text-align%3Acenter%3Bfont-weight%3A%20bold%27%3EBahamas%3C/h4%3E%3Chr%20style%3D%27margin%3A10px%3Bcolor%3A%20white%3B%27%3E%3Cul%20style%3D%27color%3A%20white%3B%3Blist-style-type%3Acircle%3Balign-item%3Aleft%3Bpadding-left%3A20px%3Bpadding-right%3A20px%27%3E%3Cli%3EConfirmed%3A%2028619%3C/li%3E%3C/ul%3E%3C/div%3E%0A%20%20%20%20%20%20%20%20%20%20%20%20%20%20%20%20%20%3C/div%3E%60%2C%0A%20%20%20%20%20%20%20%20%20%20%20%20%20%20%20%20%7B%22sticky%22%3A%20true%7D%0A%20%20%20%20%20%20%20%20%20%20%20%20%29%3B%0A%20%20%20%20%20%20%20%20%0A%20%20%20%20%0A%20%20%20%20%20%20%20%20%20%20%20%20var%20circle_e70b5f0c2e9441cca695b6a4e7929e93%20%3D%20L.circle%28%0A%20%20%20%20%20%20%20%20%20%20%20%20%20%20%20%20%5B26.0275%2C%2050.55%5D%2C%0A%20%20%20%20%20%20%20%20%20%20%20%20%20%20%20%20%7B%22bubblingMouseEvents%22%3A%20true%2C%20%22color%22%3A%20%22red%22%2C%20%22dashArray%22%3A%20null%2C%20%22dashOffset%22%3A%20null%2C%20%22fill%22%3A%20true%2C%20%22fillColor%22%3A%20%22indigo%22%2C%20%22fillOpacity%22%3A%200.2%2C%20%22fillRule%22%3A%20%22evenodd%22%2C%20%22lineCap%22%3A%20%22round%22%2C%20%22lineJoin%22%3A%20%22round%22%2C%20%22opacity%22%3A%201.0%2C%20%22radius%22%3A%20122000.0%2C%20%22stroke%22%3A%20true%2C%20%22weight%22%3A%203%7D%0A%20%20%20%20%20%20%20%20%20%20%20%20%29.addTo%28map_eb660f0cadf14412ab360cc7dee84180%29%3B%0A%20%20%20%20%20%20%20%20%0A%20%20%20%20%0A%20%20%20%20%20%20%20%20%20%20%20%20circle_e70b5f0c2e9441cca695b6a4e7929e93.bindTooltip%28%0A%20%20%20%20%20%20%20%20%20%20%20%20%20%20%20%20%60%3Cdiv%3E%0A%20%20%20%20%20%20%20%20%20%20%20%20%20%20%20%20%20%20%20%20%20%3Cdiv%20style%3D%27margin%3A%200%3B%20background-color%3A%20black%3B%20color%3A%20white%3B%27%3E%3Ch4%20style%3D%27text-align%3Acenter%3Bfont-weight%3A%20bold%27%3EBahrain%3C/h4%3E%3Chr%20style%3D%27margin%3A10px%3Bcolor%3A%20white%3B%27%3E%3Cul%20style%3D%27color%3A%20white%3B%3Blist-style-type%3Acircle%3Balign-item%3Aleft%3Bpadding-left%3A20px%3Bpadding-right%3A20px%27%3E%3Cli%3EConfirmed%3A%20292572%3C/li%3E%3C/ul%3E%3C/div%3E%0A%20%20%20%20%20%20%20%20%20%20%20%20%20%20%20%20%20%3C/div%3E%60%2C%0A%20%20%20%20%20%20%20%20%20%20%20%20%20%20%20%20%7B%22sticky%22%3A%20true%7D%0A%20%20%20%20%20%20%20%20%20%20%20%20%29%3B%0A%20%20%20%20%20%20%20%20%0A%20%20%20%20%0A%20%20%20%20%20%20%20%20%20%20%20%20var%20circle_32d28482255d412ea8e0c13c770a9858%20%3D%20L.circle%28%0A%20%20%20%20%20%20%20%20%20%20%20%20%20%20%20%20%5B23.685%2C%2090.3563%5D%2C%0A%20%20%20%20%20%20%20%20%20%20%20%20%20%20%20%20%7B%22bubblingMouseEvents%22%3A%20true%2C%20%22color%22%3A%20%22red%22%2C%20%22dashArray%22%3A%20null%2C%20%22dashOffset%22%3A%20null%2C%20%22fill%22%3A%20true%2C%20%22fillColor%22%3A%20%22indigo%22%2C%20%22fillOpacity%22%3A%200.2%2C%20%22fillRule%22%3A%20%22evenodd%22%2C%20%22lineCap%22%3A%20%22round%22%2C%20%22lineJoin%22%3A%20%22round%22%2C%20%22opacity%22%3A%201.0%2C%20%22radius%22%3A%20142000.0%2C%20%22stroke%22%3A%20true%2C%20%22weight%22%3A%203%7D%0A%20%20%20%20%20%20%20%20%20%20%20%20%29.addTo%28map_eb660f0cadf14412ab360cc7dee84180%29%3B%0A%20%20%20%20%20%20%20%20%0A%20%20%20%20%0A%20%20%20%20%20%20%20%20%20%20%20%20circle_32d28482255d412ea8e0c13c770a9858.bindTooltip%28%0A%20%20%20%20%20%20%20%20%20%20%20%20%20%20%20%20%60%3Cdiv%3E%0A%20%20%20%20%20%20%20%20%20%20%20%20%20%20%20%20%20%20%20%20%20%3Cdiv%20style%3D%27margin%3A%200%3B%20background-color%3A%20black%3B%20color%3A%20white%3B%27%3E%3Ch4%20style%3D%27text-align%3Acenter%3Bfont-weight%3A%20bold%27%3EBangladesh%3C/h4%3E%3Chr%20style%3D%27margin%3A10px%3Bcolor%3A%20white%3B%27%3E%3Cul%20style%3D%27color%3A%20white%3B%3Blist-style-type%3Acircle%3Balign-item%3Aleft%3Bpadding-left%3A20px%3Bpadding-right%3A20px%27%3E%3Cli%3EConfirmed%3A%201593700%3C/li%3E%3C/ul%3E%3C/div%3E%0A%20%20%20%20%20%20%20%20%20%20%20%20%20%20%20%20%20%3C/div%3E%60%2C%0A%20%20%20%20%20%20%20%20%20%20%20%20%20%20%20%20%7B%22sticky%22%3A%20true%7D%0A%20%20%20%20%20%20%20%20%20%20%20%20%29%3B%0A%20%20%20%20%20%20%20%20%0A%20%20%20%20%0A%20%20%20%20%20%20%20%20%20%20%20%20var%20circle_728363b903ee4a35b1d7631d6a6d31c6%20%3D%20L.circle%28%0A%20%20%20%20%20%20%20%20%20%20%20%20%20%20%20%20%5B13.1939%2C%20-59.5432%5D%2C%0A%20%20%20%20%20%20%20%20%20%20%20%20%20%20%20%20%7B%22bubblingMouseEvents%22%3A%20true%2C%20%22color%22%3A%20%22red%22%2C%20%22dashArray%22%3A%20null%2C%20%22dashOffset%22%3A%20null%2C%20%22fill%22%3A%20true%2C%20%22fillColor%22%3A%20%22indigo%22%2C%20%22fillOpacity%22%3A%200.2%2C%20%22fillRule%22%3A%20%22evenodd%22%2C%20%22lineCap%22%3A%20%22round%22%2C%20%22lineJoin%22%3A%20%22round%22%2C%20%22opacity%22%3A%201.0%2C%20%22radius%22%3A%20102000.0%2C%20%22stroke%22%3A%20true%2C%20%22weight%22%3A%203%7D%0A%20%20%20%20%20%20%20%20%20%20%20%20%29.addTo%28map_eb660f0cadf14412ab360cc7dee84180%29%3B%0A%20%20%20%20%20%20%20%20%0A%20%20%20%20%0A%20%20%20%20%20%20%20%20%20%20%20%20circle_728363b903ee4a35b1d7631d6a6d31c6.bindTooltip%28%0A%20%20%20%20%20%20%20%20%20%20%20%20%20%20%20%20%60%3Cdiv%3E%0A%20%20%20%20%20%20%20%20%20%20%20%20%20%20%20%20%20%20%20%20%20%3Cdiv%20style%3D%27margin%3A%200%3B%20background-color%3A%20black%3B%20color%3A%20white%3B%27%3E%3Ch4%20style%3D%27text-align%3Acenter%3Bfont-weight%3A%20bold%27%3EBarbados%3C/h4%3E%3Chr%20style%3D%27margin%3A10px%3Bcolor%3A%20white%3B%27%3E%3Cul%20style%3D%27color%3A%20white%3B%3Blist-style-type%3Acircle%3Balign-item%3Aleft%3Bpadding-left%3A20px%3Bpadding-right%3A20px%27%3E%3Cli%3EConfirmed%3A%2031841%3C/li%3E%3C/ul%3E%3C/div%3E%0A%20%20%20%20%20%20%20%20%20%20%20%20%20%20%20%20%20%3C/div%3E%60%2C%0A%20%20%20%20%20%20%20%20%20%20%20%20%20%20%20%20%7B%22sticky%22%3A%20true%7D%0A%20%20%20%20%20%20%20%20%20%20%20%20%29%3B%0A%20%20%20%20%20%20%20%20%0A%20%20%20%20%0A%20%20%20%20%20%20%20%20%20%20%20%20var%20circle_0ca2e742b18e409ea19953a00732d6ff%20%3D%20L.circle%28%0A%20%20%20%20%20%20%20%20%20%20%20%20%20%20%20%20%5B53.7098%2C%2027.9534%5D%2C%0A%20%20%20%20%20%20%20%20%20%20%20%20%20%20%20%20%7B%22bubblingMouseEvents%22%3A%20true%2C%20%22color%22%3A%20%22red%22%2C%20%22dashArray%22%3A%20null%2C%20%22dashOffset%22%3A%20null%2C%20%22fill%22%3A%20true%2C%20%22fillColor%22%3A%20%22indigo%22%2C%20%22fillOpacity%22%3A%200.2%2C%20%22fillRule%22%3A%20%22evenodd%22%2C%20%22lineCap%22%3A%20%22round%22%2C%20%22lineJoin%22%3A%20%22round%22%2C%20%22opacity%22%3A%201.0%2C%20%22radius%22%3A%20132000.0%2C%20%22stroke%22%3A%20true%2C%20%22weight%22%3A%203%7D%0A%20%20%20%20%20%20%20%20%20%20%20%20%29.addTo%28map_eb660f0cadf14412ab360cc7dee84180%29%3B%0A%20%20%20%20%20%20%20%20%0A%20%20%20%20%0A%20%20%20%20%20%20%20%20%20%20%20%20circle_0ca2e742b18e409ea19953a00732d6ff.bindTooltip%28%0A%20%20%20%20%20%20%20%20%20%20%20%20%20%20%20%20%60%3Cdiv%3E%0A%20%20%20%20%20%20%20%20%20%20%20%20%20%20%20%20%20%20%20%20%20%3Cdiv%20style%3D%27margin%3A%200%3B%20background-color%3A%20black%3B%20color%3A%20white%3B%27%3E%3Ch4%20style%3D%27text-align%3Acenter%3Bfont-weight%3A%20bold%27%3EBelarus%3C/h4%3E%3Chr%20style%3D%27margin%3A10px%3Bcolor%3A%20white%3B%27%3E%3Cul%20style%3D%27color%3A%20white%3B%3Blist-style-type%3Acircle%3Balign-item%3Aleft%3Bpadding-left%3A20px%3Bpadding-right%3A20px%27%3E%3Cli%3EConfirmed%3A%20708291%3C/li%3E%3C/ul%3E%3C/div%3E%0A%20%20%20%20%20%20%20%20%20%20%20%20%20%20%20%20%20%3C/div%3E%60%2C%0A%20%20%20%20%20%20%20%20%20%20%20%20%20%20%20%20%7B%22sticky%22%3A%20true%7D%0A%20%20%20%20%20%20%20%20%20%20%20%20%29%3B%0A%20%20%20%20%20%20%20%20%0A%20%20%20%20%0A%20%20%20%20%20%20%20%20%20%20%20%20var%20circle_492bd965f7574d75a24d30f9149f4b0d%20%3D%20L.circle%28%0A%20%20%20%20%20%20%20%20%20%20%20%20%20%20%20%20%5B50.8333%2C%204.469936%5D%2C%0A%20%20%20%20%20%20%20%20%20%20%20%20%20%20%20%20%7B%22bubblingMouseEvents%22%3A%20true%2C%20%22color%22%3A%20%22red%22%2C%20%22dashArray%22%3A%20null%2C%20%22dashOffset%22%3A%20null%2C%20%22fill%22%3A%20true%2C%20%22fillColor%22%3A%20%22indigo%22%2C%20%22fillOpacity%22%3A%200.2%2C%20%22fillRule%22%3A%20%22evenodd%22%2C%20%22lineCap%22%3A%20%22round%22%2C%20%22lineJoin%22%3A%20%22round%22%2C%20%22opacity%22%3A%201.0%2C%20%22radius%22%3A%20142000.0%2C%20%22stroke%22%3A%20true%2C%20%22weight%22%3A%203%7D%0A%20%20%20%20%20%20%20%20%20%20%20%20%29.addTo%28map_eb660f0cadf14412ab360cc7dee84180%29%3B%0A%20%20%20%20%20%20%20%20%0A%20%20%20%20%0A%20%20%20%20%20%20%20%20%20%20%20%20circle_492bd965f7574d75a24d30f9149f4b0d.bindTooltip%28%0A%20%20%20%20%20%20%20%20%20%20%20%20%20%20%20%20%60%3Cdiv%3E%0A%20%20%20%20%20%20%20%20%20%20%20%20%20%20%20%20%20%20%20%20%20%3Cdiv%20style%3D%27margin%3A%200%3B%20background-color%3A%20black%3B%20color%3A%20white%3B%27%3E%3Ch4%20style%3D%27text-align%3Acenter%3Bfont-weight%3A%20bold%27%3EBelgium%3C/h4%3E%3Chr%20style%3D%27margin%3A10px%3Bcolor%3A%20white%3B%27%3E%3Cul%20style%3D%27color%3A%20white%3B%3Blist-style-type%3Acircle%3Balign-item%3Aleft%3Bpadding-left%3A20px%3Bpadding-right%3A20px%27%3E%3Cli%3EConfirmed%3A%202231686%3C/li%3E%3C/ul%3E%3C/div%3E%0A%20%20%20%20%20%20%20%20%20%20%20%20%20%20%20%20%20%3C/div%3E%60%2C%0A%20%20%20%20%20%20%20%20%20%20%20%20%20%20%20%20%7B%22sticky%22%3A%20true%7D%0A%20%20%20%20%20%20%20%20%20%20%20%20%29%3B%0A%20%20%20%20%20%20%20%20%0A%20%20%20%20%0A%20%20%20%20%20%20%20%20%20%20%20%20var%20circle_fcb4f43355f74757bb4dbe91741bc9b0%20%3D%20L.circle%28%0A%20%20%20%20%20%20%20%20%20%20%20%20%20%20%20%20%5B17.1899%2C%20-88.4976%5D%2C%0A%20%20%20%20%20%20%20%20%20%20%20%20%20%20%20%20%7B%22bubblingMouseEvents%22%3A%20true%2C%20%22color%22%3A%20%22red%22%2C%20%22dashArray%22%3A%20null%2C%20%22dashOffset%22%3A%20null%2C%20%22fill%22%3A%20true%2C%20%22fillColor%22%3A%20%22indigo%22%2C%20%22fillOpacity%22%3A%200.2%2C%20%22fillRule%22%3A%20%22evenodd%22%2C%20%22lineCap%22%3A%20%22round%22%2C%20%22lineJoin%22%3A%20%22round%22%2C%20%22opacity%22%3A%201.0%2C%20%22radius%22%3A%20102000.0%2C%20%22stroke%22%3A%20true%2C%20%22weight%22%3A%203%7D%0A%20%20%20%20%20%20%20%20%20%20%20%20%29.addTo%28map_eb660f0cadf14412ab360cc7dee84180%29%3B%0A%20%20%20%20%20%20%20%20%0A%20%20%20%20%0A%20%20%20%20%20%20%20%20%20%20%20%20circle_fcb4f43355f74757bb4dbe91741bc9b0.bindTooltip%28%0A%20%20%20%20%20%20%20%20%20%20%20%20%20%20%20%20%60%3Cdiv%3E%0A%20%20%20%20%20%20%20%20%20%20%20%20%20%20%20%20%20%20%20%20%20%3Cdiv%20style%3D%27margin%3A%200%3B%20background-color%3A%20black%3B%20color%3A%20white%3B%27%3E%3Ch4%20style%3D%27text-align%3Acenter%3Bfont-weight%3A%20bold%27%3EBelize%3C/h4%3E%3Chr%20style%3D%27margin%3A10px%3Bcolor%3A%20white%3B%27%3E%3Cul%20style%3D%27color%3A%20white%3B%3Blist-style-type%3Acircle%3Balign-item%3Aleft%3Bpadding-left%3A20px%3Bpadding-right%3A20px%27%3E%3Cli%3EConfirmed%3A%2035802%3C/li%3E%3C/ul%3E%3C/div%3E%0A%20%20%20%20%20%20%20%20%20%20%20%20%20%20%20%20%20%3C/div%3E%60%2C%0A%20%20%20%20%20%20%20%20%20%20%20%20%20%20%20%20%7B%22sticky%22%3A%20true%7D%0A%20%20%20%20%20%20%20%20%20%20%20%20%29%3B%0A%20%20%20%20%20%20%20%20%0A%20%20%20%20%0A%20%20%20%20%20%20%20%20%20%20%20%20var%20circle_25043eebda4b46d7b4c5fcf4727687a2%20%3D%20L.circle%28%0A%20%20%20%20%20%20%20%20%20%20%20%20%20%20%20%20%5B9.3077%2C%202.3158%5D%2C%0A%20%20%20%20%20%20%20%20%20%20%20%20%20%20%20%20%7B%22bubblingMouseEvents%22%3A%20true%2C%20%22color%22%3A%20%22red%22%2C%20%22dashArray%22%3A%20null%2C%20%22dashOffset%22%3A%20null%2C%20%22fill%22%3A%20true%2C%20%22fillColor%22%3A%20%22indigo%22%2C%20%22fillOpacity%22%3A%200.2%2C%20%22fillRule%22%3A%20%22evenodd%22%2C%20%22lineCap%22%3A%20%22round%22%2C%20%22lineJoin%22%3A%20%22round%22%2C%20%22opacity%22%3A%201.0%2C%20%22radius%22%3A%20102000.0%2C%20%22stroke%22%3A%20true%2C%20%22weight%22%3A%203%7D%0A%20%20%20%20%20%20%20%20%20%20%20%20%29.addTo%28map_eb660f0cadf14412ab360cc7dee84180%29%3B%0A%20%20%20%20%20%20%20%20%0A%20%20%20%20%0A%20%20%20%20%20%20%20%20%20%20%20%20circle_25043eebda4b46d7b4c5fcf4727687a2.bindTooltip%28%0A%20%20%20%20%20%20%20%20%20%20%20%20%20%20%20%20%60%3Cdiv%3E%0A%20%20%20%20%20%20%20%20%20%20%20%20%20%20%20%20%20%20%20%20%20%3Cdiv%20style%3D%27margin%3A%200%3B%20background-color%3A%20black%3B%20color%3A%20white%3B%27%3E%3Ch4%20style%3D%27text-align%3Acenter%3Bfont-weight%3A%20bold%27%3EBenin%3C/h4%3E%3Chr%20style%3D%27margin%3A10px%3Bcolor%3A%20white%3B%27%3E%3Cul%20style%3D%27color%3A%20white%3B%3Blist-style-type%3Acircle%3Balign-item%3Aleft%3Bpadding-left%3A20px%3Bpadding-right%3A20px%27%3E%3Cli%3EConfirmed%3A%2025522%3C/li%3E%3C/ul%3E%3C/div%3E%0A%20%20%20%20%20%20%20%20%20%20%20%20%20%20%20%20%20%3C/div%3E%60%2C%0A%20%20%20%20%20%20%20%20%20%20%20%20%20%20%20%20%7B%22sticky%22%3A%20true%7D%0A%20%20%20%20%20%20%20%20%20%20%20%20%29%3B%0A%20%20%20%20%20%20%20%20%0A%20%20%20%20%0A%20%20%20%20%20%20%20%20%20%20%20%20var%20circle_76e9cb15ca854cb48d66f048ebddc5d4%20%3D%20L.circle%28%0A%20%20%20%20%20%20%20%20%20%20%20%20%20%20%20%20%5B27.5142%2C%2090.4336%5D%2C%0A%20%20%20%20%20%20%20%20%20%20%20%20%20%20%20%20%7B%22bubblingMouseEvents%22%3A%20true%2C%20%22color%22%3A%20%22red%22%2C%20%22dashArray%22%3A%20null%2C%20%22dashOffset%22%3A%20null%2C%20%22fill%22%3A%20true%2C%20%22fillColor%22%3A%20%22indigo%22%2C%20%22fillOpacity%22%3A%200.2%2C%20%22fillRule%22%3A%20%22evenodd%22%2C%20%22lineCap%22%3A%20%22round%22%2C%20%22lineJoin%22%3A%20%22round%22%2C%20%22opacity%22%3A%201.0%2C%20%22radius%22%3A%2072000.0%2C%20%22stroke%22%3A%20true%2C%20%22weight%22%3A%203%7D%0A%20%20%20%20%20%20%20%20%20%20%20%20%29.addTo%28map_eb660f0cadf14412ab360cc7dee84180%29%3B%0A%20%20%20%20%20%20%20%20%0A%20%20%20%20%0A%20%20%20%20%20%20%20%20%20%20%20%20circle_76e9cb15ca854cb48d66f048ebddc5d4.bindTooltip%28%0A%20%20%20%20%20%20%20%20%20%20%20%20%20%20%20%20%60%3Cdiv%3E%0A%20%20%20%20%20%20%20%20%20%20%20%20%20%20%20%20%20%20%20%20%20%3Cdiv%20style%3D%27margin%3A%200%3B%20background-color%3A%20black%3B%20color%3A%20white%3B%27%3E%3Ch4%20style%3D%27text-align%3Acenter%3Bfont-weight%3A%20bold%27%3EBhutan%3C/h4%3E%3Chr%20style%3D%27margin%3A10px%3Bcolor%3A%20white%3B%27%3E%3Cul%20style%3D%27color%3A%20white%3B%3Blist-style-type%3Acircle%3Balign-item%3Aleft%3Bpadding-left%3A20px%3Bpadding-right%3A20px%27%3E%3Cli%3EConfirmed%3A%202781%3C/li%3E%3C/ul%3E%3C/div%3E%0A%20%20%20%20%20%20%20%20%20%20%20%20%20%20%20%20%20%3C/div%3E%60%2C%0A%20%20%20%20%20%20%20%20%20%20%20%20%20%20%20%20%7B%22sticky%22%3A%20true%7D%0A%20%20%20%20%20%20%20%20%20%20%20%20%29%3B%0A%20%20%20%20%20%20%20%20%0A%20%20%20%20%0A%20%20%20%20%20%20%20%20%20%20%20%20var%20circle_37316f6169cc453dbbfec9710b8312a7%20%3D%20L.circle%28%0A%20%20%20%20%20%20%20%20%20%20%20%20%20%20%20%20%5B-16.2902%2C%20-63.5887%5D%2C%0A%20%20%20%20%20%20%20%20%20%20%20%20%20%20%20%20%7B%22bubblingMouseEvents%22%3A%20true%2C%20%22color%22%3A%20%22red%22%2C%20%22dashArray%22%3A%20null%2C%20%22dashOffset%22%3A%20null%2C%20%22fill%22%3A%20true%2C%20%22fillColor%22%3A%20%22indigo%22%2C%20%22fillOpacity%22%3A%200.2%2C%20%22fillRule%22%3A%20%22evenodd%22%2C%20%22lineCap%22%3A%20%22round%22%2C%20%22lineJoin%22%3A%20%22round%22%2C%20%22opacity%22%3A%201.0%2C%20%22radius%22%3A%20132000.0%2C%20%22stroke%22%3A%20true%2C%20%22weight%22%3A%203%7D%0A%20%20%20%20%20%20%20%20%20%20%20%20%29.addTo%28map_eb660f0cadf14412ab360cc7dee84180%29%3B%0A%20%20%20%20%20%20%20%20%0A%20%20%20%20%0A%20%20%20%20%20%20%20%20%20%20%20%20circle_37316f6169cc453dbbfec9710b8312a7.bindTooltip%28%0A%20%20%20%20%20%20%20%20%20%20%20%20%20%20%20%20%60%3Cdiv%3E%0A%20%20%20%20%20%20%20%20%20%20%20%20%20%20%20%20%20%20%20%20%20%3Cdiv%20style%3D%27margin%3A%200%3B%20background-color%3A%20black%3B%20color%3A%20white%3B%27%3E%3Ch4%20style%3D%27text-align%3Acenter%3Bfont-weight%3A%20bold%27%3EBolivia%3C/h4%3E%3Chr%20style%3D%27margin%3A10px%3Bcolor%3A%20white%3B%27%3E%3Cul%20style%3D%27color%3A%20white%3B%3Blist-style-type%3Acircle%3Balign-item%3Aleft%3Bpadding-left%3A20px%3Bpadding-right%3A20px%27%3E%3Cli%3EConfirmed%3A%20677166%3C/li%3E%3C/ul%3E%3C/div%3E%0A%20%20%20%20%20%20%20%20%20%20%20%20%20%20%20%20%20%3C/div%3E%60%2C%0A%20%20%20%20%20%20%20%20%20%20%20%20%20%20%20%20%7B%22sticky%22%3A%20true%7D%0A%20%20%20%20%20%20%20%20%20%20%20%20%29%3B%0A%20%20%20%20%20%20%20%20%0A%20%20%20%20%0A%20%20%20%20%20%20%20%20%20%20%20%20var%20circle_b6da244ccfed42ac9a0eeb9c0b87c4ff%20%3D%20L.circle%28%0A%20%20%20%20%20%20%20%20%20%20%20%20%20%20%20%20%5B43.9159%2C%2017.6791%5D%2C%0A%20%20%20%20%20%20%20%20%20%20%20%20%20%20%20%20%7B%22bubblingMouseEvents%22%3A%20true%2C%20%22color%22%3A%20%22red%22%2C%20%22dashArray%22%3A%20null%2C%20%22dashOffset%22%3A%20null%2C%20%22fill%22%3A%20true%2C%20%22fillColor%22%3A%20%22indigo%22%2C%20%22fillOpacity%22%3A%200.2%2C%20%22fillRule%22%3A%20%22evenodd%22%2C%20%22lineCap%22%3A%20%22round%22%2C%20%22lineJoin%22%3A%20%22round%22%2C%20%22opacity%22%3A%201.0%2C%20%22radius%22%3A%20122000.0%2C%20%22stroke%22%3A%20true%2C%20%22weight%22%3A%203%7D%0A%20%20%20%20%20%20%20%20%20%20%20%20%29.addTo%28map_eb660f0cadf14412ab360cc7dee84180%29%3B%0A%20%20%20%20%20%20%20%20%0A%20%20%20%20%0A%20%20%20%20%20%20%20%20%20%20%20%20circle_b6da244ccfed42ac9a0eeb9c0b87c4ff.bindTooltip%28%0A%20%20%20%20%20%20%20%20%20%20%20%20%20%20%20%20%60%3Cdiv%3E%0A%20%20%20%20%20%20%20%20%20%20%20%20%20%20%20%20%20%20%20%20%20%3Cdiv%20style%3D%27margin%3A%200%3B%20background-color%3A%20black%3B%20color%3A%20white%3B%27%3E%3Ch4%20style%3D%27text-align%3Acenter%3Bfont-weight%3A%20bold%27%3EBosnia%20and%20Herzegovina%3C/h4%3E%3Chr%20style%3D%27margin%3A10px%3Bcolor%3A%20white%3B%27%3E%3Cul%20style%3D%27color%3A%20white%3B%3Blist-style-type%3Acircle%3Balign-item%3Aleft%3Bpadding-left%3A20px%3Bpadding-right%3A20px%27%3E%3Cli%3EConfirmed%3A%20297333%3C/li%3E%3C/ul%3E%3C/div%3E%0A%20%20%20%20%20%20%20%20%20%20%20%20%20%20%20%20%20%3C/div%3E%60%2C%0A%20%20%20%20%20%20%20%20%20%20%20%20%20%20%20%20%7B%22sticky%22%3A%20true%7D%0A%20%20%20%20%20%20%20%20%20%20%20%20%29%3B%0A%20%20%20%20%20%20%20%20%0A%20%20%20%20%0A%20%20%20%20%20%20%20%20%20%20%20%20var%20circle_c9851d4c687d4388bcf6da43cffd984b%20%3D%20L.circle%28%0A%20%20%20%20%20%20%20%20%20%20%20%20%20%20%20%20%5B-22.3285%2C%2024.6849%5D%2C%0A%20%20%20%20%20%20%20%20%20%20%20%20%20%20%20%20%7B%22bubblingMouseEvents%22%3A%20true%2C%20%22color%22%3A%20%22red%22%2C%20%22dashArray%22%3A%20null%2C%20%22dashOffset%22%3A%20null%2C%20%22fill%22%3A%20true%2C%20%22fillColor%22%3A%20%22indigo%22%2C%20%22fillOpacity%22%3A%200.2%2C%20%22fillRule%22%3A%20%22evenodd%22%2C%20%22lineCap%22%3A%20%22round%22%2C%20%22lineJoin%22%3A%20%22round%22%2C%20%22opacity%22%3A%201.0%2C%20%22radius%22%3A%20122000.0%2C%20%22stroke%22%3A%20true%2C%20%22weight%22%3A%203%7D%0A%20%20%20%20%20%20%20%20%20%20%20%20%29.addTo%28map_eb660f0cadf14412ab360cc7dee84180%29%3B%0A%20%20%20%20%20%20%20%20%0A%20%20%20%20%0A%20%20%20%20%20%20%20%20%20%20%20%20circle_c9851d4c687d4388bcf6da43cffd984b.bindTooltip%28%0A%20%20%20%20%20%20%20%20%20%20%20%20%20%20%20%20%60%3Cdiv%3E%0A%20%20%20%20%20%20%20%20%20%20%20%20%20%20%20%20%20%20%20%20%20%3Cdiv%20style%3D%27margin%3A%200%3B%20background-color%3A%20black%3B%20color%3A%20white%3B%27%3E%3Ch4%20style%3D%27text-align%3Acenter%3Bfont-weight%3A%20bold%27%3EBotswana%3C/h4%3E%3Chr%20style%3D%27margin%3A10px%3Bcolor%3A%20white%3B%27%3E%3Cul%20style%3D%27color%3A%20white%3B%3Blist-style-type%3Acircle%3Balign-item%3Aleft%3Bpadding-left%3A20px%3Bpadding-right%3A20px%27%3E%3Cli%3EConfirmed%3A%20229855%3C/li%3E%3C/ul%3E%3C/div%3E%0A%20%20%20%20%20%20%20%20%20%20%20%20%20%20%20%20%20%3C/div%3E%60%2C%0A%20%20%20%20%20%20%20%20%20%20%20%20%20%20%20%20%7B%22sticky%22%3A%20true%7D%0A%20%20%20%20%20%20%20%20%20%20%20%20%29%3B%0A%20%20%20%20%20%20%20%20%0A%20%20%20%20%0A%20%20%20%20%20%20%20%20%20%20%20%20var%20circle_f6da160c0b194ce9bd22d324583937c1%20%3D%20L.circle%28%0A%20%20%20%20%20%20%20%20%20%20%20%20%20%20%20%20%5B-14.235%2C%20-51.9253%5D%2C%0A%20%20%20%20%20%20%20%20%20%20%20%20%20%20%20%20%7B%22bubblingMouseEvents%22%3A%20true%2C%20%22color%22%3A%20%22red%22%2C%20%22dashArray%22%3A%20null%2C%20%22dashOffset%22%3A%20null%2C%20%22fill%22%3A%20true%2C%20%22fillColor%22%3A%20%22indigo%22%2C%20%22fillOpacity%22%3A%200.2%2C%20%22fillRule%22%3A%20%22evenodd%22%2C%20%22lineCap%22%3A%20%22round%22%2C%20%22lineJoin%22%3A%20%22round%22%2C%20%22opacity%22%3A%201.0%2C%20%22radius%22%3A%20162000.0%2C%20%22stroke%22%3A%20true%2C%20%22weight%22%3A%203%7D%0A%20%20%20%20%20%20%20%20%20%20%20%20%29.addTo%28map_eb660f0cadf14412ab360cc7dee84180%29%3B%0A%20%20%20%20%20%20%20%20%0A%20%20%20%20%0A%20%20%20%20%20%20%20%20%20%20%20%20circle_f6da160c0b194ce9bd22d324583937c1.bindTooltip%28%0A%20%20%20%20%20%20%20%20%20%20%20%20%20%20%20%20%60%3Cdiv%3E%0A%20%20%20%20%20%20%20%20%20%20%20%20%20%20%20%20%20%20%20%20%20%3Cdiv%20style%3D%27margin%3A%200%3B%20background-color%3A%20black%3B%20color%3A%20white%3B%27%3E%3Ch4%20style%3D%27text-align%3Acenter%3Bfont-weight%3A%20bold%27%3EBrazil%3C/h4%3E%3Chr%20style%3D%27margin%3A10px%3Bcolor%3A%20white%3B%27%3E%3Cul%20style%3D%27color%3A%20white%3B%3Blist-style-type%3Acircle%3Balign-item%3Aleft%3Bpadding-left%3A20px%3Bpadding-right%3A20px%27%3E%3Cli%3EConfirmed%3A%2022529183%3C/li%3E%3C/ul%3E%3C/div%3E%0A%20%20%20%20%20%20%20%20%20%20%20%20%20%20%20%20%20%3C/div%3E%60%2C%0A%20%20%20%20%20%20%20%20%20%20%20%20%20%20%20%20%7B%22sticky%22%3A%20true%7D%0A%20%20%20%20%20%20%20%20%20%20%20%20%29%3B%0A%20%20%20%20%20%20%20%20%0A%20%20%20%20%0A%20%20%20%20%20%20%20%20%20%20%20%20var%20circle_f56f205fdb384ecfa3700c26f02dd5f5%20%3D%20L.circle%28%0A%20%20%20%20%20%20%20%20%20%20%20%20%20%20%20%20%5B4.5353%2C%20114.7277%5D%2C%0A%20%20%20%20%20%20%20%20%20%20%20%20%20%20%20%20%7B%22bubblingMouseEvents%22%3A%20true%2C%20%22color%22%3A%20%22red%22%2C%20%22dashArray%22%3A%20null%2C%20%22dashOffset%22%3A%20null%2C%20%22fill%22%3A%20true%2C%20%22fillColor%22%3A%20%22indigo%22%2C%20%22fillOpacity%22%3A%200.2%2C%20%22fillRule%22%3A%20%22evenodd%22%2C%20%22lineCap%22%3A%20%22round%22%2C%20%22lineJoin%22%3A%20%22round%22%2C%20%22opacity%22%3A%201.0%2C%20%22radius%22%3A%2092000.0%2C%20%22stroke%22%3A%20true%2C%20%22weight%22%3A%203%7D%0A%20%20%20%20%20%20%20%20%20%20%20%20%29.addTo%28map_eb660f0cadf14412ab360cc7dee84180%29%3B%0A%20%20%20%20%20%20%20%20%0A%20%20%20%20%0A%20%20%20%20%20%20%20%20%20%20%20%20circle_f56f205fdb384ecfa3700c26f02dd5f5.bindTooltip%28%0A%20%20%20%20%20%20%20%20%20%20%20%20%20%20%20%20%60%3Cdiv%3E%0A%20%20%20%20%20%20%20%20%20%20%20%20%20%20%20%20%20%20%20%20%20%3Cdiv%20style%3D%27margin%3A%200%3B%20background-color%3A%20black%3B%20color%3A%20white%3B%27%3E%3Ch4%20style%3D%27text-align%3Acenter%3Bfont-weight%3A%20bold%27%3EBrunei%3C/h4%3E%3Chr%20style%3D%27margin%3A10px%3Bcolor%3A%20white%3B%27%3E%3Cul%20style%3D%27color%3A%20white%3B%3Blist-style-type%3Acircle%3Balign-item%3Aleft%3Bpadding-left%3A20px%3Bpadding-right%3A20px%27%3E%3Cli%3EConfirmed%3A%2015634%3C/li%3E%3C/ul%3E%3C/div%3E%0A%20%20%20%20%20%20%20%20%20%20%20%20%20%20%20%20%20%3C/div%3E%60%2C%0A%20%20%20%20%20%20%20%20%20%20%20%20%20%20%20%20%7B%22sticky%22%3A%20true%7D%0A%20%20%20%20%20%20%20%20%20%20%20%20%29%3B%0A%20%20%20%20%20%20%20%20%0A%20%20%20%20%0A%20%20%20%20%20%20%20%20%20%20%20%20var%20circle_48d6d93a2cb04cafaa29bcbfa1d4232a%20%3D%20L.circle%28%0A%20%20%20%20%20%20%20%20%20%20%20%20%20%20%20%20%5B42.7339%2C%2025.4858%5D%2C%0A%20%20%20%20%20%20%20%20%20%20%20%20%20%20%20%20%7B%22bubblingMouseEvents%22%3A%20true%2C%20%22color%22%3A%20%22red%22%2C%20%22dashArray%22%3A%20null%2C%20%22dashOffset%22%3A%20null%2C%20%22fill%22%3A%20true%2C%20%22fillColor%22%3A%20%22indigo%22%2C%20%22fillOpacity%22%3A%200.2%2C%20%22fillRule%22%3A%20%22evenodd%22%2C%20%22lineCap%22%3A%20%22round%22%2C%20%22lineJoin%22%3A%20%22round%22%2C%20%22opacity%22%3A%201.0%2C%20%22radius%22%3A%20132000.0%2C%20%22stroke%22%3A%20true%2C%20%22weight%22%3A%203%7D%0A%20%20%20%20%20%20%20%20%20%20%20%20%29.addTo%28map_eb660f0cadf14412ab360cc7dee84180%29%3B%0A%20%20%20%20%20%20%20%20%0A%20%20%20%20%0A%20%20%20%20%20%20%20%20%20%20%20%20circle_48d6d93a2cb04cafaa29bcbfa1d4232a.bindTooltip%28%0A%20%20%20%20%20%20%20%20%20%20%20%20%20%20%20%20%60%3Cdiv%3E%0A%20%20%20%20%20%20%20%20%20%20%20%20%20%20%20%20%20%20%20%20%20%3Cdiv%20style%3D%27margin%3A%200%3B%20background-color%3A%20black%3B%20color%3A%20white%3B%27%3E%3Ch4%20style%3D%27text-align%3Acenter%3Bfont-weight%3A%20bold%27%3EBulgaria%3C/h4%3E%3Chr%20style%3D%27margin%3A10px%3Bcolor%3A%20white%3B%27%3E%3Cul%20style%3D%27color%3A%20white%3B%3Blist-style-type%3Acircle%3Balign-item%3Aleft%3Bpadding-left%3A20px%3Bpadding-right%3A20px%27%3E%3Cli%3EConfirmed%3A%20780417%3C/li%3E%3C/ul%3E%3C/div%3E%0A%20%20%20%20%20%20%20%20%20%20%20%20%20%20%20%20%20%3C/div%3E%60%2C%0A%20%20%20%20%20%20%20%20%20%20%20%20%20%20%20%20%7B%22sticky%22%3A%20true%7D%0A%20%20%20%20%20%20%20%20%20%20%20%20%29%3B%0A%20%20%20%20%20%20%20%20%0A%20%20%20%20%0A%20%20%20%20%20%20%20%20%20%20%20%20var%20circle_ffef70e576834248ba8f2e16dfaf0f11%20%3D%20L.circle%28%0A%20%20%20%20%20%20%20%20%20%20%20%20%20%20%20%20%5B12.2383%2C%20-1.5616%5D%2C%0A%20%20%20%20%20%20%20%20%20%20%20%20%20%20%20%20%7B%22bubblingMouseEvents%22%3A%20true%2C%20%22color%22%3A%20%22red%22%2C%20%22dashArray%22%3A%20null%2C%20%22dashOffset%22%3A%20null%2C%20%22fill%22%3A%20true%2C%20%22fillColor%22%3A%20%22indigo%22%2C%20%22fillOpacity%22%3A%200.2%2C%20%22fillRule%22%3A%20%22evenodd%22%2C%20%22lineCap%22%3A%20%22round%22%2C%20%22lineJoin%22%3A%20%22round%22%2C%20%22opacity%22%3A%201.0%2C%20%22radius%22%3A%2092000.0%2C%20%22stroke%22%3A%20true%2C%20%22weight%22%3A%203%7D%0A%20%20%20%20%20%20%20%20%20%20%20%20%29.addTo%28map_eb660f0cadf14412ab360cc7dee84180%29%3B%0A%20%20%20%20%20%20%20%20%0A%20%20%20%20%0A%20%20%20%20%20%20%20%20%20%20%20%20circle_ffef70e576834248ba8f2e16dfaf0f11.bindTooltip%28%0A%20%20%20%20%20%20%20%20%20%20%20%20%20%20%20%20%60%3Cdiv%3E%0A%20%20%20%20%20%20%20%20%20%20%20%20%20%20%20%20%20%20%20%20%20%3Cdiv%20style%3D%27margin%3A%200%3B%20background-color%3A%20black%3B%20color%3A%20white%3B%27%3E%3Ch4%20style%3D%27text-align%3Acenter%3Bfont-weight%3A%20bold%27%3EBurkina%20Faso%3C/h4%3E%3Chr%20style%3D%27margin%3A10px%3Bcolor%3A%20white%3B%27%3E%3Cul%20style%3D%27color%3A%20white%3B%3Blist-style-type%3Acircle%3Balign-item%3Aleft%3Bpadding-left%3A20px%3Bpadding-right%3A20px%27%3E%3Cli%3EConfirmed%3A%2019636%3C/li%3E%3C/ul%3E%3C/div%3E%0A%20%20%20%20%20%20%20%20%20%20%20%20%20%20%20%20%20%3C/div%3E%60%2C%0A%20%20%20%20%20%20%20%20%20%20%20%20%20%20%20%20%7B%22sticky%22%3A%20true%7D%0A%20%20%20%20%20%20%20%20%20%20%20%20%29%3B%0A%20%20%20%20%20%20%20%20%0A%20%20%20%20%0A%20%20%20%20%20%20%20%20%20%20%20%20var%20circle_8e3714d94b2e4238bb07378078bd84c9%20%3D%20L.circle%28%0A%20%20%20%20%20%20%20%20%20%20%20%20%20%20%20%20%5B21.9162%2C%2095.956%5D%2C%0A%20%20%20%20%20%20%20%20%20%20%20%20%20%20%20%20%7B%22bubblingMouseEvents%22%3A%20true%2C%20%22color%22%3A%20%22red%22%2C%20%22dashArray%22%3A%20null%2C%20%22dashOffset%22%3A%20null%2C%20%22fill%22%3A%20true%2C%20%22fillColor%22%3A%20%22indigo%22%2C%20%22fillOpacity%22%3A%200.2%2C%20%22fillRule%22%3A%20%22evenodd%22%2C%20%22lineCap%22%3A%20%22round%22%2C%20%22lineJoin%22%3A%20%22round%22%2C%20%22opacity%22%3A%201.0%2C%20%22radius%22%3A%20132000.0%2C%20%22stroke%22%3A%20true%2C%20%22weight%22%3A%203%7D%0A%20%20%20%20%20%20%20%20%20%20%20%20%29.addTo%28map_eb660f0cadf14412ab360cc7dee84180%29%3B%0A%20%20%20%20%20%20%20%20%0A%20%20%20%20%0A%20%20%20%20%20%20%20%20%20%20%20%20circle_8e3714d94b2e4238bb07378078bd84c9.bindTooltip%28%0A%20%20%20%20%20%20%20%20%20%20%20%20%20%20%20%20%60%3Cdiv%3E%0A%20%20%20%20%20%20%20%20%20%20%20%20%20%20%20%20%20%20%20%20%20%3Cdiv%20style%3D%27margin%3A%200%3B%20background-color%3A%20black%3B%20color%3A%20white%3B%27%3E%3Ch4%20style%3D%27text-align%3Acenter%3Bfont-weight%3A%20bold%27%3EBurma%3C/h4%3E%3Chr%20style%3D%27margin%3A10px%3Bcolor%3A%20white%3B%27%3E%3Cul%20style%3D%27color%3A%20white%3B%3Blist-style-type%3Acircle%3Balign-item%3Aleft%3Bpadding-left%3A20px%3Bpadding-right%3A20px%27%3E%3Cli%3EConfirmed%3A%20532062%3C/li%3E%3C/ul%3E%3C/div%3E%0A%20%20%20%20%20%20%20%20%20%20%20%20%20%20%20%20%20%3C/div%3E%60%2C%0A%20%20%20%20%20%20%20%20%20%20%20%20%20%20%20%20%7B%22sticky%22%3A%20true%7D%0A%20%20%20%20%20%20%20%20%20%20%20%20%29%3B%0A%20%20%20%20%20%20%20%20%0A%20%20%20%20%0A%20%20%20%20%20%20%20%20%20%20%20%20var%20circle_0e6c4232f59643809cc42f239427605c%20%3D%20L.circle%28%0A%20%20%20%20%20%20%20%20%20%20%20%20%20%20%20%20%5B-3.3731%2C%2029.9189%5D%2C%0A%20%20%20%20%20%20%20%20%20%20%20%20%20%20%20%20%7B%22bubblingMouseEvents%22%3A%20true%2C%20%22color%22%3A%20%22red%22%2C%20%22dashArray%22%3A%20null%2C%20%22dashOffset%22%3A%20null%2C%20%22fill%22%3A%20true%2C%20%22fillColor%22%3A%20%22indigo%22%2C%20%22fillOpacity%22%3A%200.2%2C%20%22fillRule%22%3A%20%22evenodd%22%2C%20%22lineCap%22%3A%20%22round%22%2C%20%22lineJoin%22%3A%20%22round%22%2C%20%22opacity%22%3A%201.0%2C%20%22radius%22%3A%20102000.0%2C%20%22stroke%22%3A%20true%2C%20%22weight%22%3A%203%7D%0A%20%20%20%20%20%20%20%20%20%20%20%20%29.addTo%28map_eb660f0cadf14412ab360cc7dee84180%29%3B%0A%20%20%20%20%20%20%20%20%0A%20%20%20%20%0A%20%20%20%20%20%20%20%20%20%20%20%20circle_0e6c4232f59643809cc42f239427605c.bindTooltip%28%0A%20%20%20%20%20%20%20%20%20%20%20%20%20%20%20%20%60%3Cdiv%3E%0A%20%20%20%20%20%20%20%20%20%20%20%20%20%20%20%20%20%20%20%20%20%3Cdiv%20style%3D%27margin%3A%200%3B%20background-color%3A%20black%3B%20color%3A%20white%3B%27%3E%3Ch4%20style%3D%27text-align%3Acenter%3Bfont-weight%3A%20bold%27%3EBurundi%3C/h4%3E%3Chr%20style%3D%27margin%3A10px%3Bcolor%3A%20white%3B%27%3E%3Cul%20style%3D%27color%3A%20white%3B%3Blist-style-type%3Acircle%3Balign-item%3Aleft%3Bpadding-left%3A20px%3Bpadding-right%3A20px%27%3E%3Cli%3EConfirmed%3A%2034722%3C/li%3E%3C/ul%3E%3C/div%3E%0A%20%20%20%20%20%20%20%20%20%20%20%20%20%20%20%20%20%3C/div%3E%60%2C%0A%20%20%20%20%20%20%20%20%20%20%20%20%20%20%20%20%7B%22sticky%22%3A%20true%7D%0A%20%20%20%20%20%20%20%20%20%20%20%20%29%3B%0A%20%20%20%20%20%20%20%20%0A%20%20%20%20%0A%20%20%20%20%20%20%20%20%20%20%20%20var%20circle_e2fa59dcc7d445ee88ffd56abfb8c81c%20%3D%20L.circle%28%0A%20%20%20%20%20%20%20%20%20%20%20%20%20%20%20%20%5B16.5388%2C%20-23.0418%5D%2C%0A%20%20%20%20%20%20%20%20%20%20%20%20%20%20%20%20%7B%22bubblingMouseEvents%22%3A%20true%2C%20%22color%22%3A%20%22red%22%2C%20%22dashArray%22%3A%20null%2C%20%22dashOffset%22%3A%20null%2C%20%22fill%22%3A%20true%2C%20%22fillColor%22%3A%20%22indigo%22%2C%20%22fillOpacity%22%3A%200.2%2C%20%22fillRule%22%3A%20%22evenodd%22%2C%20%22lineCap%22%3A%20%22round%22%2C%20%22lineJoin%22%3A%20%22round%22%2C%20%22opacity%22%3A%201.0%2C%20%22radius%22%3A%20102000.0%2C%20%22stroke%22%3A%20true%2C%20%22weight%22%3A%203%7D%0A%20%20%20%20%20%20%20%20%20%20%20%20%29.addTo%28map_eb660f0cadf14412ab360cc7dee84180%29%3B%0A%20%20%20%20%20%20%20%20%0A%20%20%20%20%0A%20%20%20%20%20%20%20%20%20%20%20%20circle_e2fa59dcc7d445ee88ffd56abfb8c81c.bindTooltip%28%0A%20%20%20%20%20%20%20%20%20%20%20%20%20%20%20%20%60%3Cdiv%3E%0A%20%20%20%20%20%20%20%20%20%20%20%20%20%20%20%20%20%20%20%20%20%3Cdiv%20style%3D%27margin%3A%200%3B%20background-color%3A%20black%3B%20color%3A%20white%3B%27%3E%3Ch4%20style%3D%27text-align%3Acenter%3Bfont-weight%3A%20bold%27%3ECabo%20Verde%3C/h4%3E%3Chr%20style%3D%27margin%3A10px%3Bcolor%3A%20white%3B%27%3E%3Cul%20style%3D%27color%3A%20white%3B%3Blist-style-type%3Acircle%3Balign-item%3Aleft%3Bpadding-left%3A20px%3Bpadding-right%3A20px%27%3E%3Cli%3EConfirmed%3A%2050250%3C/li%3E%3C/ul%3E%3C/div%3E%0A%20%20%20%20%20%20%20%20%20%20%20%20%20%20%20%20%20%3C/div%3E%60%2C%0A%20%20%20%20%20%20%20%20%20%20%20%20%20%20%20%20%7B%22sticky%22%3A%20true%7D%0A%20%20%20%20%20%20%20%20%20%20%20%20%29%3B%0A%20%20%20%20%20%20%20%20%0A%20%20%20%20%0A%20%20%20%20%20%20%20%20%20%20%20%20var%20circle_0817702033894073aede07d52def744e%20%3D%20L.circle%28%0A%20%20%20%20%20%20%20%20%20%20%20%20%20%20%20%20%5B11.55%2C%20104.9167%5D%2C%0A%20%20%20%20%20%20%20%20%20%20%20%20%20%20%20%20%7B%22bubblingMouseEvents%22%3A%20true%2C%20%22color%22%3A%20%22red%22%2C%20%22dashArray%22%3A%20null%2C%20%22dashOffset%22%3A%20null%2C%20%22fill%22%3A%20true%2C%20%22fillColor%22%3A%20%22indigo%22%2C%20%22fillOpacity%22%3A%200.2%2C%20%22fillRule%22%3A%20%22evenodd%22%2C%20%22lineCap%22%3A%20%22round%22%2C%20%22lineJoin%22%3A%20%22round%22%2C%20%22opacity%22%3A%201.0%2C%20%22radius%22%3A%20112000.0%2C%20%22stroke%22%3A%20true%2C%20%22weight%22%3A%203%7D%0A%20%20%20%20%20%20%20%20%20%20%20%20%29.addTo%28map_eb660f0cadf14412ab360cc7dee84180%29%3B%0A%20%20%20%20%20%20%20%20%0A%20%20%20%20%0A%20%20%20%20%20%20%20%20%20%20%20%20circle_0817702033894073aede07d52def744e.bindTooltip%28%0A%20%20%20%20%20%20%20%20%20%20%20%20%20%20%20%20%60%3Cdiv%3E%0A%20%20%20%20%20%20%20%20%20%20%20%20%20%20%20%20%20%20%20%20%20%3Cdiv%20style%3D%27margin%3A%200%3B%20background-color%3A%20black%3B%20color%3A%20white%3B%27%3E%3Ch4%20style%3D%27text-align%3Acenter%3Bfont-weight%3A%20bold%27%3ECambodia%3C/h4%3E%3Chr%20style%3D%27margin%3A10px%3Bcolor%3A%20white%3B%27%3E%3Cul%20style%3D%27color%3A%20white%3B%3Blist-style-type%3Acircle%3Balign-item%3Aleft%3Bpadding-left%3A20px%3Bpadding-right%3A20px%27%3E%3Cli%3EConfirmed%3A%20120621%3C/li%3E%3C/ul%3E%3C/div%3E%0A%20%20%20%20%20%20%20%20%20%20%20%20%20%20%20%20%20%3C/div%3E%60%2C%0A%20%20%20%20%20%20%20%20%20%20%20%20%20%20%20%20%7B%22sticky%22%3A%20true%7D%0A%20%20%20%20%20%20%20%20%20%20%20%20%29%3B%0A%20%20%20%20%20%20%20%20%0A%20%20%20%20%0A%20%20%20%20%20%20%20%20%20%20%20%20var%20circle_2a06dbed6716401b8e48182f449aed5c%20%3D%20L.circle%28%0A%20%20%20%20%20%20%20%20%20%20%20%20%20%20%20%20%5B3.848%2C%2011.5021%5D%2C%0A%20%20%20%20%20%20%20%20%20%20%20%20%20%20%20%20%7B%22bubblingMouseEvents%22%3A%20true%2C%20%22color%22%3A%20%22red%22%2C%20%22dashArray%22%3A%20null%2C%20%22dashOffset%22%3A%20null%2C%20%22fill%22%3A%20true%2C%20%22fillColor%22%3A%20%22indigo%22%2C%20%22fillOpacity%22%3A%200.2%2C%20%22fillRule%22%3A%20%22evenodd%22%2C%20%22lineCap%22%3A%20%22round%22%2C%20%22lineJoin%22%3A%20%22round%22%2C%20%22opacity%22%3A%201.0%2C%20%22radius%22%3A%20112000.0%2C%20%22stroke%22%3A%20true%2C%20%22weight%22%3A%203%7D%0A%20%20%20%20%20%20%20%20%20%20%20%20%29.addTo%28map_eb660f0cadf14412ab360cc7dee84180%29%3B%0A%20%20%20%20%20%20%20%20%0A%20%20%20%20%0A%20%20%20%20%20%20%20%20%20%20%20%20circle_2a06dbed6716401b8e48182f449aed5c.bindTooltip%28%0A%20%20%20%20%20%20%20%20%20%20%20%20%20%20%20%20%60%3Cdiv%3E%0A%20%20%20%20%20%20%20%20%20%20%20%20%20%20%20%20%20%20%20%20%20%3Cdiv%20style%3D%27margin%3A%200%3B%20background-color%3A%20black%3B%20color%3A%20white%3B%27%3E%3Ch4%20style%3D%27text-align%3Acenter%3Bfont-weight%3A%20bold%27%3ECameroon%3C/h4%3E%3Chr%20style%3D%27margin%3A10px%3Bcolor%3A%20white%3B%27%3E%3Cul%20style%3D%27color%3A%20white%3B%3Blist-style-type%3Acircle%3Balign-item%3Aleft%3Bpadding-left%3A20px%3Bpadding-right%3A20px%27%3E%3Cli%3EConfirmed%3A%20109666%3C/li%3E%3C/ul%3E%3C/div%3E%0A%20%20%20%20%20%20%20%20%20%20%20%20%20%20%20%20%20%3C/div%3E%60%2C%0A%20%20%20%20%20%20%20%20%20%20%20%20%20%20%20%20%7B%22sticky%22%3A%20true%7D%0A%20%20%20%20%20%20%20%20%20%20%20%20%29%3B%0A%20%20%20%20%20%20%20%20%0A%20%20%20%20%0A%20%20%20%20%20%20%20%20%20%20%20%20var%20circle_bddf6d1f111b451c88cfbde464c88681%20%3D%20L.circle%28%0A%20%20%20%20%20%20%20%20%20%20%20%20%20%20%20%20%5B53.9333%2C%20-116.5765%5D%2C%0A%20%20%20%20%20%20%20%20%20%20%20%20%20%20%20%20%7B%22bubblingMouseEvents%22%3A%20true%2C%20%22color%22%3A%20%22red%22%2C%20%22dashArray%22%3A%20null%2C%20%22dashOffset%22%3A%20null%2C%20%22fill%22%3A%20true%2C%20%22fillColor%22%3A%20%22indigo%22%2C%20%22fillOpacity%22%3A%200.2%2C%20%22fillRule%22%3A%20%22evenodd%22%2C%20%22lineCap%22%3A%20%22round%22%2C%20%22lineJoin%22%3A%20%22round%22%2C%20%22opacity%22%3A%201.0%2C%20%22radius%22%3A%20122000.0%2C%20%22stroke%22%3A%20true%2C%20%22weight%22%3A%203%7D%0A%20%20%20%20%20%20%20%20%20%20%20%20%29.addTo%28map_eb660f0cadf14412ab360cc7dee84180%29%3B%0A%20%20%20%20%20%20%20%20%0A%20%20%20%20%0A%20%20%20%20%20%20%20%20%20%20%20%20circle_bddf6d1f111b451c88cfbde464c88681.bindTooltip%28%0A%20%20%20%20%20%20%20%20%20%20%20%20%20%20%20%20%60%3Cdiv%3E%0A%20%20%20%20%20%20%20%20%20%20%20%20%20%20%20%20%20%20%20%20%20%3Cdiv%20style%3D%27margin%3A%200%3B%20background-color%3A%20black%3B%20color%3A%20white%3B%27%3E%3Ch4%20style%3D%27text-align%3Acenter%3Bfont-weight%3A%20bold%27%3ECanada%3C/h4%3E%3Chr%20style%3D%27margin%3A10px%3Bcolor%3A%20white%3B%27%3E%3Cul%20style%3D%27color%3A%20white%3B%3Blist-style-type%3Acircle%3Balign-item%3Aleft%3Bpadding-left%3A20px%3Bpadding-right%3A20px%27%3E%3Cli%3EConfirmed%3A%20395252%3C/li%3E%3C/ul%3E%3C/div%3E%0A%20%20%20%20%20%20%20%20%20%20%20%20%20%20%20%20%20%3C/div%3E%60%2C%0A%20%20%20%20%20%20%20%20%20%20%20%20%20%20%20%20%7B%22sticky%22%3A%20true%7D%0A%20%20%20%20%20%20%20%20%20%20%20%20%29%3B%0A%20%20%20%20%20%20%20%20%0A%20%20%20%20%0A%20%20%20%20%20%20%20%20%20%20%20%20var%20circle_d31c12088e354e1f9506797330e14807%20%3D%20L.circle%28%0A%20%20%20%20%20%20%20%20%20%20%20%20%20%20%20%20%5B53.7267%2C%20-127.6476%5D%2C%0A%20%20%20%20%20%20%20%20%20%20%20%20%20%20%20%20%7B%22bubblingMouseEvents%22%3A%20true%2C%20%22color%22%3A%20%22red%22%2C%20%22dashArray%22%3A%20null%2C%20%22dashOffset%22%3A%20null%2C%20%22fill%22%3A%20true%2C%20%22fillColor%22%3A%20%22indigo%22%2C%20%22fillOpacity%22%3A%200.2%2C%20%22fillRule%22%3A%20%22evenodd%22%2C%20%22lineCap%22%3A%20%22round%22%2C%20%22lineJoin%22%3A%20%22round%22%2C%20%22opacity%22%3A%201.0%2C%20%22radius%22%3A%20122000.0%2C%20%22stroke%22%3A%20true%2C%20%22weight%22%3A%203%7D%0A%20%20%20%20%20%20%20%20%20%20%20%20%29.addTo%28map_eb660f0cadf14412ab360cc7dee84180%29%3B%0A%20%20%20%20%20%20%20%20%0A%20%20%20%20%0A%20%20%20%20%20%20%20%20%20%20%20%20circle_d31c12088e354e1f9506797330e14807.bindTooltip%28%0A%20%20%20%20%20%20%20%20%20%20%20%20%20%20%20%20%60%3Cdiv%3E%0A%20%20%20%20%20%20%20%20%20%20%20%20%20%20%20%20%20%20%20%20%20%3Cdiv%20style%3D%27margin%3A%200%3B%20background-color%3A%20black%3B%20color%3A%20white%3B%27%3E%3Ch4%20style%3D%27text-align%3Acenter%3Bfont-weight%3A%20bold%27%3ECanada%3C/h4%3E%3Chr%20style%3D%27margin%3A10px%3Bcolor%3A%20white%3B%27%3E%3Cul%20style%3D%27color%3A%20white%3B%3Blist-style-type%3Acircle%3Balign-item%3Aleft%3Bpadding-left%3A20px%3Bpadding-right%3A20px%27%3E%3Cli%3EConfirmed%3A%20276875%3C/li%3E%3C/ul%3E%3C/div%3E%0A%20%20%20%20%20%20%20%20%20%20%20%20%20%20%20%20%20%3C/div%3E%60%2C%0A%20%20%20%20%20%20%20%20%20%20%20%20%20%20%20%20%7B%22sticky%22%3A%20true%7D%0A%20%20%20%20%20%20%20%20%20%20%20%20%29%3B%0A%20%20%20%20%20%20%20%20%0A%20%20%20%20%0A%20%20%20%20%20%20%20%20%20%20%20%20var%20circle_c48122bb3f2e4acba1370cdc22848dc4%20%3D%20L.circle%28%0A%20%20%20%20%20%20%20%20%20%20%20%20%20%20%20%20%5B0.0%2C%200.0%5D%2C%0A%20%20%20%20%20%20%20%20%20%20%20%20%20%20%20%20%7B%22bubblingMouseEvents%22%3A%20true%2C%20%22color%22%3A%20%22red%22%2C%20%22dashArray%22%3A%20null%2C%20%22dashOffset%22%3A%20null%2C%20%22fill%22%3A%20true%2C%20%22fillColor%22%3A%20%22indigo%22%2C%20%22fillOpacity%22%3A%200.2%2C%20%22fillRule%22%3A%20%22evenodd%22%2C%20%22lineCap%22%3A%20%22round%22%2C%20%22lineJoin%22%3A%20%22round%22%2C%20%22opacity%22%3A%201.0%2C%20%22radius%22%3A%202000.0%2C%20%22stroke%22%3A%20true%2C%20%22weight%22%3A%203%7D%0A%20%20%20%20%20%20%20%20%20%20%20%20%29.addTo%28map_eb660f0cadf14412ab360cc7dee84180%29%3B%0A%20%20%20%20%20%20%20%20%0A%20%20%20%20%0A%20%20%20%20%20%20%20%20%20%20%20%20circle_c48122bb3f2e4acba1370cdc22848dc4.bindTooltip%28%0A%20%20%20%20%20%20%20%20%20%20%20%20%20%20%20%20%60%3Cdiv%3E%0A%20%20%20%20%20%20%20%20%20%20%20%20%20%20%20%20%20%20%20%20%20%3Cdiv%20style%3D%27margin%3A%200%3B%20background-color%3A%20black%3B%20color%3A%20white%3B%27%3E%3Ch4%20style%3D%27text-align%3Acenter%3Bfont-weight%3A%20bold%27%3ECanada%3C/h4%3E%3Chr%20style%3D%27margin%3A10px%3Bcolor%3A%20white%3B%27%3E%3Cul%20style%3D%27color%3A%20white%3B%3Blist-style-type%3Acircle%3Balign-item%3Aleft%3Bpadding-left%3A20px%3Bpadding-right%3A20px%27%3E%3Cli%3EConfirmed%3A%200%3C/li%3E%3C/ul%3E%3C/div%3E%0A%20%20%20%20%20%20%20%20%20%20%20%20%20%20%20%20%20%3C/div%3E%60%2C%0A%20%20%20%20%20%20%20%20%20%20%20%20%20%20%20%20%7B%22sticky%22%3A%20true%7D%0A%20%20%20%20%20%20%20%20%20%20%20%20%29%3B%0A%20%20%20%20%20%20%20%20%0A%20%20%20%20%0A%20%20%20%20%20%20%20%20%20%20%20%20var%20circle_e1d3b2e2def84917b4d22f913e3fe71a%20%3D%20L.circle%28%0A%20%20%20%20%20%20%20%20%20%20%20%20%20%20%20%20%5B0.0%2C%200.0%5D%2C%0A%20%20%20%20%20%20%20%20%20%20%20%20%20%20%20%20%7B%22bubblingMouseEvents%22%3A%20true%2C%20%22color%22%3A%20%22red%22%2C%20%22dashArray%22%3A%20null%2C%20%22dashOffset%22%3A%20null%2C%20%22fill%22%3A%20true%2C%20%22fillColor%22%3A%20%22indigo%22%2C%20%22fillOpacity%22%3A%200.2%2C%20%22fillRule%22%3A%20%22evenodd%22%2C%20%22lineCap%22%3A%20%22round%22%2C%20%22lineJoin%22%3A%20%22round%22%2C%20%22opacity%22%3A%201.0%2C%20%22radius%22%3A%2022000.0%2C%20%22stroke%22%3A%20true%2C%20%22weight%22%3A%203%7D%0A%20%20%20%20%20%20%20%20%20%20%20%20%29.addTo%28map_eb660f0cadf14412ab360cc7dee84180%29%3B%0A%20%20%20%20%20%20%20%20%0A%20%20%20%20%0A%20%20%20%20%20%20%20%20%20%20%20%20circle_e1d3b2e2def84917b4d22f913e3fe71a.bindTooltip%28%0A%20%20%20%20%20%20%20%20%20%20%20%20%20%20%20%20%60%3Cdiv%3E%0A%20%20%20%20%20%20%20%20%20%20%20%20%20%20%20%20%20%20%20%20%20%3Cdiv%20style%3D%27margin%3A%200%3B%20background-color%3A%20black%3B%20color%3A%20white%3B%27%3E%3Ch4%20style%3D%27text-align%3Acenter%3Bfont-weight%3A%20bold%27%3ECanada%3C/h4%3E%3Chr%20style%3D%27margin%3A10px%3Bcolor%3A%20white%3B%27%3E%3Cul%20style%3D%27color%3A%20white%3B%3Blist-style-type%3Acircle%3Balign-item%3Aleft%3Bpadding-left%3A20px%3Bpadding-right%3A20px%27%3E%3Cli%3EConfirmed%3A%2013%3C/li%3E%3C/ul%3E%3C/div%3E%0A%20%20%20%20%20%20%20%20%20%20%20%20%20%20%20%20%20%3C/div%3E%60%2C%0A%20%20%20%20%20%20%20%20%20%20%20%20%20%20%20%20%7B%22sticky%22%3A%20true%7D%0A%20%20%20%20%20%20%20%20%20%20%20%20%29%3B%0A%20%20%20%20%20%20%20%20%0A%20%20%20%20%0A%20%20%20%20%20%20%20%20%20%20%20%20var%20circle_798f4d953b134577b7e81b53822ba2c1%20%3D%20L.circle%28%0A%20%20%20%20%20%20%20%20%20%20%20%20%20%20%20%20%5B53.7609%2C%20-98.8139%5D%2C%0A%20%20%20%20%20%20%20%20%20%20%20%20%20%20%20%20%7B%22bubblingMouseEvents%22%3A%20true%2C%20%22color%22%3A%20%22red%22%2C%20%22dashArray%22%3A%20null%2C%20%22dashOffset%22%3A%20null%2C%20%22fill%22%3A%20true%2C%20%22fillColor%22%3A%20%22indigo%22%2C%20%22fillOpacity%22%3A%200.2%2C%20%22fillRule%22%3A%20%22evenodd%22%2C%20%22lineCap%22%3A%20%22round%22%2C%20%22lineJoin%22%3A%20%22round%22%2C%20%22opacity%22%3A%201.0%2C%20%22radius%22%3A%20112000.0%2C%20%22stroke%22%3A%20true%2C%20%22weight%22%3A%203%7D%0A%20%20%20%20%20%20%20%20%20%20%20%20%29.addTo%28map_eb660f0cadf14412ab360cc7dee84180%29%3B%0A%20%20%20%20%20%20%20%20%0A%20%20%20%20%0A%20%20%20%20%20%20%20%20%20%20%20%20circle_798f4d953b134577b7e81b53822ba2c1.bindTooltip%28%0A%20%20%20%20%20%20%20%20%20%20%20%20%20%20%20%20%60%3Cdiv%3E%0A%20%20%20%20%20%20%20%20%20%20%20%20%20%20%20%20%20%20%20%20%20%3Cdiv%20style%3D%27margin%3A%200%3B%20background-color%3A%20black%3B%20color%3A%20white%3B%27%3E%3Ch4%20style%3D%27text-align%3Acenter%3Bfont-weight%3A%20bold%27%3ECanada%3C/h4%3E%3Chr%20style%3D%27margin%3A10px%3Bcolor%3A%20white%3B%27%3E%3Cul%20style%3D%27color%3A%20white%3B%3Blist-style-type%3Acircle%3Balign-item%3Aleft%3Bpadding-left%3A20px%3Bpadding-right%3A20px%27%3E%3Cli%3EConfirmed%3A%2094850%3C/li%3E%3C/ul%3E%3C/div%3E%0A%20%20%20%20%20%20%20%20%20%20%20%20%20%20%20%20%20%3C/div%3E%60%2C%0A%20%20%20%20%20%20%20%20%20%20%20%20%20%20%20%20%7B%22sticky%22%3A%20true%7D%0A%20%20%20%20%20%20%20%20%20%20%20%20%29%3B%0A%20%20%20%20%20%20%20%20%0A%20%20%20%20%0A%20%20%20%20%20%20%20%20%20%20%20%20var%20circle_290f1212f5664d8dbd7087b02001bb3f%20%3D%20L.circle%28%0A%20%20%20%20%20%20%20%20%20%20%20%20%20%20%20%20%5B46.5653%2C%20-66.4619%5D%2C%0A%20%20%20%20%20%20%20%20%20%20%20%20%20%20%20%20%7B%22bubblingMouseEvents%22%3A%20true%2C%20%22color%22%3A%20%22red%22%2C%20%22dashArray%22%3A%20null%2C%20%22dashOffset%22%3A%20null%2C%20%22fill%22%3A%20true%2C%20%22fillColor%22%3A%20%22indigo%22%2C%20%22fillOpacity%22%3A%200.2%2C%20%22fillRule%22%3A%20%22evenodd%22%2C%20%22lineCap%22%3A%20%22round%22%2C%20%22lineJoin%22%3A%20%22round%22%2C%20%22opacity%22%3A%201.0%2C%20%22radius%22%3A%2092000.0%2C%20%22stroke%22%3A%20true%2C%20%22weight%22%3A%203%7D%0A%20%20%20%20%20%20%20%20%20%20%20%20%29.addTo%28map_eb660f0cadf14412ab360cc7dee84180%29%3B%0A%20%20%20%20%20%20%20%20%0A%20%20%20%20%0A%20%20%20%20%20%20%20%20%20%20%20%20circle_290f1212f5664d8dbd7087b02001bb3f.bindTooltip%28%0A%20%20%20%20%20%20%20%20%20%20%20%20%20%20%20%20%60%3Cdiv%3E%0A%20%20%20%20%20%20%20%20%20%20%20%20%20%20%20%20%20%20%20%20%20%3Cdiv%20style%3D%27margin%3A%200%3B%20background-color%3A%20black%3B%20color%3A%20white%3B%27%3E%3Ch4%20style%3D%27text-align%3Acenter%3Bfont-weight%3A%20bold%27%3ECanada%3C/h4%3E%3Chr%20style%3D%27margin%3A10px%3Bcolor%3A%20white%3B%27%3E%3Cul%20style%3D%27color%3A%20white%3B%3Blist-style-type%3Acircle%3Balign-item%3Aleft%3Bpadding-left%3A20px%3Bpadding-right%3A20px%27%3E%3Cli%3EConfirmed%3A%2020479%3C/li%3E%3C/ul%3E%3C/div%3E%0A%20%20%20%20%20%20%20%20%20%20%20%20%20%20%20%20%20%3C/div%3E%60%2C%0A%20%20%20%20%20%20%20%20%20%20%20%20%20%20%20%20%7B%22sticky%22%3A%20true%7D%0A%20%20%20%20%20%20%20%20%20%20%20%20%29%3B%0A%20%20%20%20%20%20%20%20%0A%20%20%20%20%0A%20%20%20%20%20%20%20%20%20%20%20%20var%20circle_1974e4e0a14944b9a592a18c3c91386d%20%3D%20L.circle%28%0A%20%20%20%20%20%20%20%20%20%20%20%20%20%20%20%20%5B53.1355%2C%20-57.6604%5D%2C%0A%20%20%20%20%20%20%20%20%20%20%20%20%20%20%20%20%7B%22bubblingMouseEvents%22%3A%20true%2C%20%22color%22%3A%20%22red%22%2C%20%22dashArray%22%3A%20null%2C%20%22dashOffset%22%3A%20null%2C%20%22fill%22%3A%20true%2C%20%22fillColor%22%3A%20%22indigo%22%2C%20%22fillOpacity%22%3A%200.2%2C%20%22fillRule%22%3A%20%22evenodd%22%2C%20%22lineCap%22%3A%20%22round%22%2C%20%22lineJoin%22%3A%20%22round%22%2C%20%22opacity%22%3A%201.0%2C%20%22radius%22%3A%2082000.0%2C%20%22stroke%22%3A%20true%2C%20%22weight%22%3A%203%7D%0A%20%20%20%20%20%20%20%20%20%20%20%20%29.addTo%28map_eb660f0cadf14412ab360cc7dee84180%29%3B%0A%20%20%20%20%20%20%20%20%0A%20%20%20%20%0A%20%20%20%20%20%20%20%20%20%20%20%20circle_1974e4e0a14944b9a592a18c3c91386d.bindTooltip%28%0A%20%20%20%20%20%20%20%20%20%20%20%20%20%20%20%20%60%3Cdiv%3E%0A%20%20%20%20%20%20%20%20%20%20%20%20%20%20%20%20%20%20%20%20%20%3Cdiv%20style%3D%27margin%3A%200%3B%20background-color%3A%20black%3B%20color%3A%20white%3B%27%3E%3Ch4%20style%3D%27text-align%3Acenter%3Bfont-weight%3A%20bold%27%3ECanada%3C/h4%3E%3Chr%20style%3D%27margin%3A10px%3Bcolor%3A%20white%3B%27%3E%3Cul%20style%3D%27color%3A%20white%3B%3Blist-style-type%3Acircle%3Balign-item%3Aleft%3Bpadding-left%3A20px%3Bpadding-right%3A20px%27%3E%3Cli%3EConfirmed%3A%207537%3C/li%3E%3C/ul%3E%3C/div%3E%0A%20%20%20%20%20%20%20%20%20%20%20%20%20%20%20%20%20%3C/div%3E%60%2C%0A%20%20%20%20%20%20%20%20%20%20%20%20%20%20%20%20%7B%22sticky%22%3A%20true%7D%0A%20%20%20%20%20%20%20%20%20%20%20%20%29%3B%0A%20%20%20%20%20%20%20%20%0A%20%20%20%20%0A%20%20%20%20%20%20%20%20%20%20%20%20var%20circle_6b72a13616f14a95a23c55d96f121815%20%3D%20L.circle%28%0A%20%20%20%20%20%20%20%20%20%20%20%20%20%20%20%20%5B64.8255%2C%20-124.8457%5D%2C%0A%20%20%20%20%20%20%20%20%20%20%20%20%20%20%20%20%7B%22bubblingMouseEvents%22%3A%20true%2C%20%22color%22%3A%20%22red%22%2C%20%22dashArray%22%3A%20null%2C%20%22dashOffset%22%3A%20null%2C%20%22fill%22%3A%20true%2C%20%22fillColor%22%3A%20%22indigo%22%2C%20%22fillOpacity%22%3A%200.2%2C%20%22fillRule%22%3A%20%22evenodd%22%2C%20%22lineCap%22%3A%20%22round%22%2C%20%22lineJoin%22%3A%20%22round%22%2C%20%22opacity%22%3A%201.0%2C%20%22radius%22%3A%2072000.0%2C%20%22stroke%22%3A%20true%2C%20%22weight%22%3A%203%7D%0A%20%20%20%20%20%20%20%20%20%20%20%20%29.addTo%28map_eb660f0cadf14412ab360cc7dee84180%29%3B%0A%20%20%20%20%20%20%20%20%0A%20%20%20%20%0A%20%20%20%20%20%20%20%20%20%20%20%20circle_6b72a13616f14a95a23c55d96f121815.bindTooltip%28%0A%20%20%20%20%20%20%20%20%20%20%20%20%20%20%20%20%60%3Cdiv%3E%0A%20%20%20%20%20%20%20%20%20%20%20%20%20%20%20%20%20%20%20%20%20%3Cdiv%20style%3D%27margin%3A%200%3B%20background-color%3A%20black%3B%20color%3A%20white%3B%27%3E%3Ch4%20style%3D%27text-align%3Acenter%3Bfont-weight%3A%20bold%27%3ECanada%3C/h4%3E%3Chr%20style%3D%27margin%3A10px%3Bcolor%3A%20white%3B%27%3E%3Cul%20style%3D%27color%3A%20white%3B%3Blist-style-type%3Acircle%3Balign-item%3Aleft%3Bpadding-left%3A20px%3Bpadding-right%3A20px%27%3E%3Cli%3EConfirmed%3A%202801%3C/li%3E%3C/ul%3E%3C/div%3E%0A%20%20%20%20%20%20%20%20%20%20%20%20%20%20%20%20%20%3C/div%3E%60%2C%0A%20%20%20%20%20%20%20%20%20%20%20%20%20%20%20%20%7B%22sticky%22%3A%20true%7D%0A%20%20%20%20%20%20%20%20%20%20%20%20%29%3B%0A%20%20%20%20%20%20%20%20%0A%20%20%20%20%0A%20%20%20%20%20%20%20%20%20%20%20%20var%20circle_f9162c1bb0a54fd99dcce0e2c9cec823%20%3D%20L.circle%28%0A%20%20%20%20%20%20%20%20%20%20%20%20%20%20%20%20%5B44.682%2C%20-63.7443%5D%2C%0A%20%20%20%20%20%20%20%20%20%20%20%20%20%20%20%20%7B%22bubblingMouseEvents%22%3A%20true%2C%20%22color%22%3A%20%22red%22%2C%20%22dashArray%22%3A%20null%2C%20%22dashOffset%22%3A%20null%2C%20%22fill%22%3A%20true%2C%20%22fillColor%22%3A%20%22indigo%22%2C%20%22fillOpacity%22%3A%200.2%2C%20%22fillRule%22%3A%20%22evenodd%22%2C%20%22lineCap%22%3A%20%22round%22%2C%20%22lineJoin%22%3A%20%22round%22%2C%20%22opacity%22%3A%201.0%2C%20%22radius%22%3A%20102000.0%2C%20%22stroke%22%3A%20true%2C%20%22weight%22%3A%203%7D%0A%20%20%20%20%20%20%20%20%20%20%20%20%29.addTo%28map_eb660f0cadf14412ab360cc7dee84180%29%3B%0A%20%20%20%20%20%20%20%20%0A%20%20%20%20%0A%20%20%20%20%20%20%20%20%20%20%20%20circle_f9162c1bb0a54fd99dcce0e2c9cec823.bindTooltip%28%0A%20%20%20%20%20%20%20%20%20%20%20%20%20%20%20%20%60%3Cdiv%3E%0A%20%20%20%20%20%20%20%20%20%20%20%20%20%20%20%20%20%20%20%20%20%3Cdiv%20style%3D%27margin%3A%200%3B%20background-color%3A%20black%3B%20color%3A%20white%3B%27%3E%3Ch4%20style%3D%27text-align%3Acenter%3Bfont-weight%3A%20bold%27%3ECanada%3C/h4%3E%3Chr%20style%3D%27margin%3A10px%3Bcolor%3A%20white%3B%27%3E%3Cul%20style%3D%27color%3A%20white%3B%3Blist-style-type%3Acircle%3Balign-item%3Aleft%3Bpadding-left%3A20px%3Bpadding-right%3A20px%27%3E%3Cli%3EConfirmed%3A%2023265%3C/li%3E%3C/ul%3E%3C/div%3E%0A%20%20%20%20%20%20%20%20%20%20%20%20%20%20%20%20%20%3C/div%3E%60%2C%0A%20%20%20%20%20%20%20%20%20%20%20%20%20%20%20%20%7B%22sticky%22%3A%20true%7D%0A%20%20%20%20%20%20%20%20%20%20%20%20%29%3B%0A%20%20%20%20%20%20%20%20%0A%20%20%20%20%0A%20%20%20%20%20%20%20%20%20%20%20%20var%20circle_c8f687bcc90a415f82152918b252ae81%20%3D%20L.circle%28%0A%20%20%20%20%20%20%20%20%20%20%20%20%20%20%20%20%5B70.2998%2C%20-83.1076%5D%2C%0A%20%20%20%20%20%20%20%20%20%20%20%20%20%20%20%20%7B%22bubblingMouseEvents%22%3A%20true%2C%20%22color%22%3A%20%22red%22%2C%20%22dashArray%22%3A%20null%2C%20%22dashOffset%22%3A%20null%2C%20%22fill%22%3A%20true%2C%20%22fillColor%22%3A%20%22indigo%22%2C%20%22fillOpacity%22%3A%200.2%2C%20%22fillRule%22%3A%20%22evenodd%22%2C%20%22lineCap%22%3A%20%22round%22%2C%20%22lineJoin%22%3A%20%22round%22%2C%20%22opacity%22%3A%201.0%2C%20%22radius%22%3A%2062000.0%2C%20%22stroke%22%3A%20true%2C%20%22weight%22%3A%203%7D%0A%20%20%20%20%20%20%20%20%20%20%20%20%29.addTo%28map_eb660f0cadf14412ab360cc7dee84180%29%3B%0A%20%20%20%20%20%20%20%20%0A%20%20%20%20%0A%20%20%20%20%20%20%20%20%20%20%20%20circle_c8f687bcc90a415f82152918b252ae81.bindTooltip%28%0A%20%20%20%20%20%20%20%20%20%20%20%20%20%20%20%20%60%3Cdiv%3E%0A%20%20%20%20%20%20%20%20%20%20%20%20%20%20%20%20%20%20%20%20%20%3Cdiv%20style%3D%27margin%3A%200%3B%20background-color%3A%20black%3B%20color%3A%20white%3B%27%3E%3Ch4%20style%3D%27text-align%3Acenter%3Bfont-weight%3A%20bold%27%3ECanada%3C/h4%3E%3Chr%20style%3D%27margin%3A10px%3Bcolor%3A%20white%3B%27%3E%3Cul%20style%3D%27color%3A%20white%3B%3Blist-style-type%3Acircle%3Balign-item%3Aleft%3Bpadding-left%3A20px%3Bpadding-right%3A20px%27%3E%3Cli%3EConfirmed%3A%20977%3C/li%3E%3C/ul%3E%3C/div%3E%0A%20%20%20%20%20%20%20%20%20%20%20%20%20%20%20%20%20%3C/div%3E%60%2C%0A%20%20%20%20%20%20%20%20%20%20%20%20%20%20%20%20%7B%22sticky%22%3A%20true%7D%0A%20%20%20%20%20%20%20%20%20%20%20%20%29%3B%0A%20%20%20%20%20%20%20%20%0A%20%20%20%20%0A%20%20%20%20%20%20%20%20%20%20%20%20var%20circle_69f2a159825646998ee9c1109d041032%20%3D%20L.circle%28%0A%20%20%20%20%20%20%20%20%20%20%20%20%20%20%20%20%5B51.2538%2C%20-85.3232%5D%2C%0A%20%20%20%20%20%20%20%20%20%20%20%20%20%20%20%20%7B%22bubblingMouseEvents%22%3A%20true%2C%20%22color%22%3A%20%22red%22%2C%20%22dashArray%22%3A%20null%2C%20%22dashOffset%22%3A%20null%2C%20%22fill%22%3A%20true%2C%20%22fillColor%22%3A%20%22indigo%22%2C%20%22fillOpacity%22%3A%200.2%2C%20%22fillRule%22%3A%20%22evenodd%22%2C%20%22lineCap%22%3A%20%22round%22%2C%20%22lineJoin%22%3A%20%22round%22%2C%20%22opacity%22%3A%201.0%2C%20%22radius%22%3A%20132000.0%2C%20%22stroke%22%3A%20true%2C%20%22weight%22%3A%203%7D%0A%20%20%20%20%20%20%20%20%20%20%20%20%29.addTo%28map_eb660f0cadf14412ab360cc7dee84180%29%3B%0A%20%20%20%20%20%20%20%20%0A%20%20%20%20%0A%20%20%20%20%20%20%20%20%20%20%20%20circle_69f2a159825646998ee9c1109d041032.bindTooltip%28%0A%20%20%20%20%20%20%20%20%20%20%20%20%20%20%20%20%60%3Cdiv%3E%0A%20%20%20%20%20%20%20%20%20%20%20%20%20%20%20%20%20%20%20%20%20%3Cdiv%20style%3D%27margin%3A%200%3B%20background-color%3A%20black%3B%20color%3A%20white%3B%27%3E%3Ch4%20style%3D%27text-align%3Acenter%3Bfont-weight%3A%20bold%27%3ECanada%3C/h4%3E%3Chr%20style%3D%27margin%3A10px%3Bcolor%3A%20white%3B%27%3E%3Cul%20style%3D%27color%3A%20white%3B%3Blist-style-type%3Acircle%3Balign-item%3Aleft%3Bpadding-left%3A20px%3Bpadding-right%3A20px%27%3E%3Cli%3EConfirmed%3A%20886090%3C/li%3E%3C/ul%3E%3C/div%3E%0A%20%20%20%20%20%20%20%20%20%20%20%20%20%20%20%20%20%3C/div%3E%60%2C%0A%20%20%20%20%20%20%20%20%20%20%20%20%20%20%20%20%7B%22sticky%22%3A%20true%7D%0A%20%20%20%20%20%20%20%20%20%20%20%20%29%3B%0A%20%20%20%20%20%20%20%20%0A%20%20%20%20%0A%20%20%20%20%20%20%20%20%20%20%20%20var%20circle_bd6df46d70b044d39beaa2f93950fe3e%20%3D%20L.circle%28%0A%20%20%20%20%20%20%20%20%20%20%20%20%20%20%20%20%5B46.5107%2C%20-63.4168%5D%2C%0A%20%20%20%20%20%20%20%20%20%20%20%20%20%20%20%20%7B%22bubblingMouseEvents%22%3A%20true%2C%20%22color%22%3A%20%22red%22%2C%20%22dashArray%22%3A%20null%2C%20%22dashOffset%22%3A%20null%2C%20%22fill%22%3A%20true%2C%20%22fillColor%22%3A%20%22indigo%22%2C%20%22fillOpacity%22%3A%200.2%2C%20%22fillRule%22%3A%20%22evenodd%22%2C%20%22lineCap%22%3A%20%22round%22%2C%20%22lineJoin%22%3A%20%22round%22%2C%20%22opacity%22%3A%201.0%2C%20%22radius%22%3A%2072000.0%2C%20%22stroke%22%3A%20true%2C%20%22weight%22%3A%203%7D%0A%20%20%20%20%20%20%20%20%20%20%20%20%29.addTo%28map_eb660f0cadf14412ab360cc7dee84180%29%3B%0A%20%20%20%20%20%20%20%20%0A%20%20%20%20%0A%20%20%20%20%20%20%20%20%20%20%20%20circle_bd6df46d70b044d39beaa2f93950fe3e.bindTooltip%28%0A%20%20%20%20%20%20%20%20%20%20%20%20%20%20%20%20%60%3Cdiv%3E%0A%20%20%20%20%20%20%20%20%20%20%20%20%20%20%20%20%20%20%20%20%20%3Cdiv%20style%3D%27margin%3A%200%3B%20background-color%3A%20black%3B%20color%3A%20white%3B%27%3E%3Ch4%20style%3D%27text-align%3Acenter%3Bfont-weight%3A%20bold%27%3ECanada%3C/h4%3E%3Chr%20style%3D%27margin%3A10px%3Bcolor%3A%20white%3B%27%3E%3Cul%20style%3D%27color%3A%20white%3B%3Blist-style-type%3Acircle%3Balign-item%3Aleft%3Bpadding-left%3A20px%3Bpadding-right%3A20px%27%3E%3Cli%3EConfirmed%3A%202463%3C/li%3E%3C/ul%3E%3C/div%3E%0A%20%20%20%20%20%20%20%20%20%20%20%20%20%20%20%20%20%3C/div%3E%60%2C%0A%20%20%20%20%20%20%20%20%20%20%20%20%20%20%20%20%7B%22sticky%22%3A%20true%7D%0A%20%20%20%20%20%20%20%20%20%20%20%20%29%3B%0A%20%20%20%20%20%20%20%20%0A%20%20%20%20%0A%20%20%20%20%20%20%20%20%20%20%20%20var%20circle_31c8b9c2af674cd882e49705ae669609%20%3D%20L.circle%28%0A%20%20%20%20%20%20%20%20%20%20%20%20%20%20%20%20%5B52.9399%2C%20-73.5491%5D%2C%0A%20%20%20%20%20%20%20%20%20%20%20%20%20%20%20%20%7B%22bubblingMouseEvents%22%3A%20true%2C%20%22color%22%3A%20%22red%22%2C%20%22dashArray%22%3A%20null%2C%20%22dashOffset%22%3A%20null%2C%20%22fill%22%3A%20true%2C%20%22fillColor%22%3A%20%22indigo%22%2C%20%22fillOpacity%22%3A%200.2%2C%20%22fillRule%22%3A%20%22evenodd%22%2C%20%22lineCap%22%3A%20%22round%22%2C%20%22lineJoin%22%3A%20%22round%22%2C%20%22opacity%22%3A%201.0%2C%20%22radius%22%3A%20132000.0%2C%20%22stroke%22%3A%20true%2C%20%22weight%22%3A%203%7D%0A%20%20%20%20%20%20%20%20%20%20%20%20%29.addTo%28map_eb660f0cadf14412ab360cc7dee84180%29%3B%0A%20%20%20%20%20%20%20%20%0A%20%20%20%20%0A%20%20%20%20%20%20%20%20%20%20%20%20circle_31c8b9c2af674cd882e49705ae669609.bindTooltip%28%0A%20%20%20%20%20%20%20%20%20%20%20%20%20%20%20%20%60%3Cdiv%3E%0A%20%20%20%20%20%20%20%20%20%20%20%20%20%20%20%20%20%20%20%20%20%3Cdiv%20style%3D%27margin%3A%200%3B%20background-color%3A%20black%3B%20color%3A%20white%3B%27%3E%3Ch4%20style%3D%27text-align%3Acenter%3Bfont-weight%3A%20bold%27%3ECanada%3C/h4%3E%3Chr%20style%3D%27margin%3A10px%3Bcolor%3A%20white%3B%27%3E%3Cul%20style%3D%27color%3A%20white%3B%3Blist-style-type%3Acircle%3Balign-item%3Aleft%3Bpadding-left%3A20px%3Bpadding-right%3A20px%27%3E%3Cli%3EConfirmed%3A%20728285%3C/li%3E%3C/ul%3E%3C/div%3E%0A%20%20%20%20%20%20%20%20%20%20%20%20%20%20%20%20%20%3C/div%3E%60%2C%0A%20%20%20%20%20%20%20%20%20%20%20%20%20%20%20%20%7B%22sticky%22%3A%20true%7D%0A%20%20%20%20%20%20%20%20%20%20%20%20%29%3B%0A%20%20%20%20%20%20%20%20%0A%20%20%20%20%0A%20%20%20%20%20%20%20%20%20%20%20%20var%20circle_cb87dfdd8e4a4a5f93ea95efab1d7408%20%3D%20L.circle%28%0A%20%20%20%20%20%20%20%20%20%20%20%20%20%20%20%20%5B0.0%2C%200.0%5D%2C%0A%20%20%20%20%20%20%20%20%20%20%20%20%20%20%20%20%7B%22bubblingMouseEvents%22%3A%20true%2C%20%22color%22%3A%20%22red%22%2C%20%22dashArray%22%3A%20null%2C%20%22dashOffset%22%3A%20null%2C%20%22fill%22%3A%20true%2C%20%22fillColor%22%3A%20%22indigo%22%2C%20%22fillOpacity%22%3A%200.2%2C%20%22fillRule%22%3A%20%22evenodd%22%2C%20%22lineCap%22%3A%20%22round%22%2C%20%22lineJoin%22%3A%20%22round%22%2C%20%22opacity%22%3A%201.0%2C%20%22radius%22%3A%2022000.0%2C%20%22stroke%22%3A%20true%2C%20%22weight%22%3A%203%7D%0A%20%20%20%20%20%20%20%20%20%20%20%20%29.addTo%28map_eb660f0cadf14412ab360cc7dee84180%29%3B%0A%20%20%20%20%20%20%20%20%0A%20%20%20%20%0A%20%20%20%20%20%20%20%20%20%20%20%20circle_cb87dfdd8e4a4a5f93ea95efab1d7408.bindTooltip%28%0A%20%20%20%20%20%20%20%20%20%20%20%20%20%20%20%20%60%3Cdiv%3E%0A%20%20%20%20%20%20%20%20%20%20%20%20%20%20%20%20%20%20%20%20%20%3Cdiv%20style%3D%27margin%3A%200%3B%20background-color%3A%20black%3B%20color%3A%20white%3B%27%3E%3Ch4%20style%3D%27text-align%3Acenter%3Bfont-weight%3A%20bold%27%3ECanada%3C/h4%3E%3Chr%20style%3D%27margin%3A10px%3Bcolor%3A%20white%3B%27%3E%3Cul%20style%3D%27color%3A%20white%3B%3Blist-style-type%3Acircle%3Balign-item%3Aleft%3Bpadding-left%3A20px%3Bpadding-right%3A20px%27%3E%3Cli%3EConfirmed%3A%2013%3C/li%3E%3C/ul%3E%3C/div%3E%0A%20%20%20%20%20%20%20%20%20%20%20%20%20%20%20%20%20%3C/div%3E%60%2C%0A%20%20%20%20%20%20%20%20%20%20%20%20%20%20%20%20%7B%22sticky%22%3A%20true%7D%0A%20%20%20%20%20%20%20%20%20%20%20%20%29%3B%0A%20%20%20%20%20%20%20%20%0A%20%20%20%20%0A%20%20%20%20%20%20%20%20%20%20%20%20var%20circle_62536272c0f747fab4c0404f1ef47e25%20%3D%20L.circle%28%0A%20%20%20%20%20%20%20%20%20%20%20%20%20%20%20%20%5B52.9399%2C%20-106.4509%5D%2C%0A%20%20%20%20%20%20%20%20%20%20%20%20%20%20%20%20%7B%22bubblingMouseEvents%22%3A%20true%2C%20%22color%22%3A%20%22red%22%2C%20%22dashArray%22%3A%20null%2C%20%22dashOffset%22%3A%20null%2C%20%22fill%22%3A%20true%2C%20%22fillColor%22%3A%20%22indigo%22%2C%20%22fillOpacity%22%3A%200.2%2C%20%22fillRule%22%3A%20%22evenodd%22%2C%20%22lineCap%22%3A%20%22round%22%2C%20%22lineJoin%22%3A%20%22round%22%2C%20%22opacity%22%3A%201.0%2C%20%22radius%22%3A%20112000.0%2C%20%22stroke%22%3A%20true%2C%20%22weight%22%3A%203%7D%0A%20%20%20%20%20%20%20%20%20%20%20%20%29.addTo%28map_eb660f0cadf14412ab360cc7dee84180%29%3B%0A%20%20%20%20%20%20%20%20%0A%20%20%20%20%0A%20%20%20%20%20%20%20%20%20%20%20%20circle_62536272c0f747fab4c0404f1ef47e25.bindTooltip%28%0A%20%20%20%20%20%20%20%20%20%20%20%20%20%20%20%20%60%3Cdiv%3E%0A%20%20%20%20%20%20%20%20%20%20%20%20%20%20%20%20%20%20%20%20%20%3Cdiv%20style%3D%27margin%3A%200%3B%20background-color%3A%20black%3B%20color%3A%20white%3B%27%3E%3Ch4%20style%3D%27text-align%3Acenter%3Bfont-weight%3A%20bold%27%3ECanada%3C/h4%3E%3Chr%20style%3D%27margin%3A10px%3Bcolor%3A%20white%3B%27%3E%3Cul%20style%3D%27color%3A%20white%3B%3Blist-style-type%3Acircle%3Balign-item%3Aleft%3Bpadding-left%3A20px%3Bpadding-right%3A20px%27%3E%3Cli%3EConfirmed%3A%2091860%3C/li%3E%3C/ul%3E%3C/div%3E%0A%20%20%20%20%20%20%20%20%20%20%20%20%20%20%20%20%20%3C/div%3E%60%2C%0A%20%20%20%20%20%20%20%20%20%20%20%20%20%20%20%20%7B%22sticky%22%3A%20true%7D%0A%20%20%20%20%20%20%20%20%20%20%20%20%29%3B%0A%20%20%20%20%20%20%20%20%0A%20%20%20%20%0A%20%20%20%20%20%20%20%20%20%20%20%20var%20circle_4f4131defcf24526b0a93183e013755c%20%3D%20L.circle%28%0A%20%20%20%20%20%20%20%20%20%20%20%20%20%20%20%20%5B64.2823%2C%20-135.0%5D%2C%0A%20%20%20%20%20%20%20%20%20%20%20%20%20%20%20%20%7B%22bubblingMouseEvents%22%3A%20true%2C%20%22color%22%3A%20%22red%22%2C%20%22dashArray%22%3A%20null%2C%20%22dashOffset%22%3A%20null%2C%20%22fill%22%3A%20true%2C%20%22fillColor%22%3A%20%22indigo%22%2C%20%22fillOpacity%22%3A%200.2%2C%20%22fillRule%22%3A%20%22evenodd%22%2C%20%22lineCap%22%3A%20%22round%22%2C%20%22lineJoin%22%3A%20%22round%22%2C%20%22opacity%22%3A%201.0%2C%20%22radius%22%3A%2072000.0%2C%20%22stroke%22%3A%20true%2C%20%22weight%22%3A%203%7D%0A%20%20%20%20%20%20%20%20%20%20%20%20%29.addTo%28map_eb660f0cadf14412ab360cc7dee84180%29%3B%0A%20%20%20%20%20%20%20%20%0A%20%20%20%20%0A%20%20%20%20%20%20%20%20%20%20%20%20circle_4f4131defcf24526b0a93183e013755c.bindTooltip%28%0A%20%20%20%20%20%20%20%20%20%20%20%20%20%20%20%20%60%3Cdiv%3E%0A%20%20%20%20%20%20%20%20%20%20%20%20%20%20%20%20%20%20%20%20%20%3Cdiv%20style%3D%27margin%3A%200%3B%20background-color%3A%20black%3B%20color%3A%20white%3B%27%3E%3Ch4%20style%3D%27text-align%3Acenter%3Bfont-weight%3A%20bold%27%3ECanada%3C/h4%3E%3Chr%20style%3D%27margin%3A10px%3Bcolor%3A%20white%3B%27%3E%3Cul%20style%3D%27color%3A%20white%3B%3Blist-style-type%3Acircle%3Balign-item%3Aleft%3Bpadding-left%3A20px%3Bpadding-right%3A20px%27%3E%3Cli%3EConfirmed%3A%202125%3C/li%3E%3C/ul%3E%3C/div%3E%0A%20%20%20%20%20%20%20%20%20%20%20%20%20%20%20%20%20%3C/div%3E%60%2C%0A%20%20%20%20%20%20%20%20%20%20%20%20%20%20%20%20%7B%22sticky%22%3A%20true%7D%0A%20%20%20%20%20%20%20%20%20%20%20%20%29%3B%0A%20%20%20%20%20%20%20%20%0A%20%20%20%20%0A%20%20%20%20%20%20%20%20%20%20%20%20var%20circle_761d1937310242fb99f7073e43764d3d%20%3D%20L.circle%28%0A%20%20%20%20%20%20%20%20%20%20%20%20%20%20%20%20%5B6.6111%2C%2020.9394%5D%2C%0A%20%20%20%20%20%20%20%20%20%20%20%20%20%20%20%20%7B%22bubblingMouseEvents%22%3A%20true%2C%20%22color%22%3A%20%22red%22%2C%20%22dashArray%22%3A%20null%2C%20%22dashOffset%22%3A%20null%2C%20%22fill%22%3A%20true%2C%20%22fillColor%22%3A%20%22indigo%22%2C%20%22fillOpacity%22%3A%200.2%2C%20%22fillRule%22%3A%20%22evenodd%22%2C%20%22lineCap%22%3A%20%22round%22%2C%20%22lineJoin%22%3A%20%22round%22%2C%20%22opacity%22%3A%201.0%2C%20%22radius%22%3A%2092000.0%2C%20%22stroke%22%3A%20true%2C%20%22weight%22%3A%203%7D%0A%20%20%20%20%20%20%20%20%20%20%20%20%29.addTo%28map_eb660f0cadf14412ab360cc7dee84180%29%3B%0A%20%20%20%20%20%20%20%20%0A%20%20%20%20%0A%20%20%20%20%20%20%20%20%20%20%20%20circle_761d1937310242fb99f7073e43764d3d.bindTooltip%28%0A%20%20%20%20%20%20%20%20%20%20%20%20%20%20%20%20%60%3Cdiv%3E%0A%20%20%20%20%20%20%20%20%20%20%20%20%20%20%20%20%20%20%20%20%20%3Cdiv%20style%3D%27margin%3A%200%3B%20background-color%3A%20black%3B%20color%3A%20white%3B%27%3E%3Ch4%20style%3D%27text-align%3Acenter%3Bfont-weight%3A%20bold%27%3ECentral%20African%20Republic%3C/h4%3E%3Chr%20style%3D%27margin%3A10px%3Bcolor%3A%20white%3B%27%3E%3Cul%20style%3D%27color%3A%20white%3B%3Blist-style-type%3Acircle%3Balign-item%3Aleft%3Bpadding-left%3A20px%3Bpadding-right%3A20px%27%3E%3Cli%3EConfirmed%3A%2012454%3C/li%3E%3C/ul%3E%3C/div%3E%0A%20%20%20%20%20%20%20%20%20%20%20%20%20%20%20%20%20%3C/div%3E%60%2C%0A%20%20%20%20%20%20%20%20%20%20%20%20%20%20%20%20%7B%22sticky%22%3A%20true%7D%0A%20%20%20%20%20%20%20%20%20%20%20%20%29%3B%0A%20%20%20%20%20%20%20%20%0A%20%20%20%20%0A%20%20%20%20%20%20%20%20%20%20%20%20var%20circle_753c1f4bf8d44e78b481b676da36284f%20%3D%20L.circle%28%0A%20%20%20%20%20%20%20%20%20%20%20%20%20%20%20%20%5B15.4542%2C%2018.7322%5D%2C%0A%20%20%20%20%20%20%20%20%20%20%20%20%20%20%20%20%7B%22bubblingMouseEvents%22%3A%20true%2C%20%22color%22%3A%20%22red%22%2C%20%22dashArray%22%3A%20null%2C%20%22dashOffset%22%3A%20null%2C%20%22fill%22%3A%20true%2C%20%22fillColor%22%3A%20%22indigo%22%2C%20%22fillOpacity%22%3A%200.2%2C%20%22fillRule%22%3A%20%22evenodd%22%2C%20%22lineCap%22%3A%20%22round%22%2C%20%22lineJoin%22%3A%20%22round%22%2C%20%22opacity%22%3A%201.0%2C%20%22radius%22%3A%2082000.0%2C%20%22stroke%22%3A%20true%2C%20%22weight%22%3A%203%7D%0A%20%20%20%20%20%20%20%20%20%20%20%20%29.addTo%28map_eb660f0cadf14412ab360cc7dee84180%29%3B%0A%20%20%20%20%20%20%20%20%0A%20%20%20%20%0A%20%20%20%20%20%20%20%20%20%20%20%20circle_753c1f4bf8d44e78b481b676da36284f.bindTooltip%28%0A%20%20%20%20%20%20%20%20%20%20%20%20%20%20%20%20%60%3Cdiv%3E%0A%20%20%20%20%20%20%20%20%20%20%20%20%20%20%20%20%20%20%20%20%20%3Cdiv%20style%3D%27margin%3A%200%3B%20background-color%3A%20black%3B%20color%3A%20white%3B%27%3E%3Ch4%20style%3D%27text-align%3Acenter%3Bfont-weight%3A%20bold%27%3EChad%3C/h4%3E%3Chr%20style%3D%27margin%3A10px%3Bcolor%3A%20white%3B%27%3E%3Cul%20style%3D%27color%3A%20white%3B%3Blist-style-type%3Acircle%3Balign-item%3Aleft%3Bpadding-left%3A20px%3Bpadding-right%3A20px%27%3E%3Cli%3EConfirmed%3A%206185%3C/li%3E%3C/ul%3E%3C/div%3E%0A%20%20%20%20%20%20%20%20%20%20%20%20%20%20%20%20%20%3C/div%3E%60%2C%0A%20%20%20%20%20%20%20%20%20%20%20%20%20%20%20%20%7B%22sticky%22%3A%20true%7D%0A%20%20%20%20%20%20%20%20%20%20%20%20%29%3B%0A%20%20%20%20%20%20%20%20%0A%20%20%20%20%0A%20%20%20%20%20%20%20%20%20%20%20%20var%20circle_5c0be4a2cca546ceab802e6c01998457%20%3D%20L.circle%28%0A%20%20%20%20%20%20%20%20%20%20%20%20%20%20%20%20%5B-35.6751%2C%20-71.543%5D%2C%0A%20%20%20%20%20%20%20%20%20%20%20%20%20%20%20%20%7B%22bubblingMouseEvents%22%3A%20true%2C%20%22color%22%3A%20%22red%22%2C%20%22dashArray%22%3A%20null%2C%20%22dashOffset%22%3A%20null%2C%20%22fill%22%3A%20true%2C%20%22fillColor%22%3A%20%22indigo%22%2C%20%22fillOpacity%22%3A%200.2%2C%20%22fillRule%22%3A%20%22evenodd%22%2C%20%22lineCap%22%3A%20%22round%22%2C%20%22lineJoin%22%3A%20%22round%22%2C%20%22opacity%22%3A%201.0%2C%20%22radius%22%3A%20142000.0%2C%20%22stroke%22%3A%20true%2C%20%22weight%22%3A%203%7D%0A%20%20%20%20%20%20%20%20%20%20%20%20%29.addTo%28map_eb660f0cadf14412ab360cc7dee84180%29%3B%0A%20%20%20%20%20%20%20%20%0A%20%20%20%20%0A%20%20%20%20%20%20%20%20%20%20%20%20circle_5c0be4a2cca546ceab802e6c01998457.bindTooltip%28%0A%20%20%20%20%20%20%20%20%20%20%20%20%20%20%20%20%60%3Cdiv%3E%0A%20%20%20%20%20%20%20%20%20%20%20%20%20%20%20%20%20%20%20%20%20%3Cdiv%20style%3D%27margin%3A%200%3B%20background-color%3A%20black%3B%20color%3A%20white%3B%27%3E%3Ch4%20style%3D%27text-align%3Acenter%3Bfont-weight%3A%20bold%27%3EChile%3C/h4%3E%3Chr%20style%3D%27margin%3A10px%3Bcolor%3A%20white%3B%27%3E%3Cul%20style%3D%27color%3A%20white%3B%3Blist-style-type%3Acircle%3Balign-item%3Aleft%3Bpadding-left%3A20px%3Bpadding-right%3A20px%27%3E%3Cli%3EConfirmed%3A%201829437%3C/li%3E%3C/ul%3E%3C/div%3E%0A%20%20%20%20%20%20%20%20%20%20%20%20%20%20%20%20%20%3C/div%3E%60%2C%0A%20%20%20%20%20%20%20%20%20%20%20%20%20%20%20%20%7B%22sticky%22%3A%20true%7D%0A%20%20%20%20%20%20%20%20%20%20%20%20%29%3B%0A%20%20%20%20%20%20%20%20%0A%20%20%20%20%0A%20%20%20%20%20%20%20%20%20%20%20%20var%20circle_4d4e7f8d747d48c389168e5d66049f88%20%3D%20L.circle%28%0A%20%20%20%20%20%20%20%20%20%20%20%20%20%20%20%20%5B31.8257%2C%20117.2264%5D%2C%0A%20%20%20%20%20%20%20%20%20%20%20%20%20%20%20%20%7B%22bubblingMouseEvents%22%3A%20true%2C%20%22color%22%3A%20%22red%22%2C%20%22dashArray%22%3A%20null%2C%20%22dashOffset%22%3A%20null%2C%20%22fill%22%3A%20true%2C%20%22fillColor%22%3A%20%22indigo%22%2C%20%22fillOpacity%22%3A%200.2%2C%20%22fillRule%22%3A%20%22evenodd%22%2C%20%22lineCap%22%3A%20%22round%22%2C%20%22lineJoin%22%3A%20%22round%22%2C%20%22opacity%22%3A%201.0%2C%20%22radius%22%3A%2062000.0%2C%20%22stroke%22%3A%20true%2C%20%22weight%22%3A%203%7D%0A%20%20%20%20%20%20%20%20%20%20%20%20%29.addTo%28map_eb660f0cadf14412ab360cc7dee84180%29%3B%0A%20%20%20%20%20%20%20%20%0A%20%20%20%20%0A%20%20%20%20%20%20%20%20%20%20%20%20circle_4d4e7f8d747d48c389168e5d66049f88.bindTooltip%28%0A%20%20%20%20%20%20%20%20%20%20%20%20%20%20%20%20%60%3Cdiv%3E%0A%20%20%20%20%20%20%20%20%20%20%20%20%20%20%20%20%20%20%20%20%20%3Cdiv%20style%3D%27margin%3A%200%3B%20background-color%3A%20black%3B%20color%3A%20white%3B%27%3E%3Ch4%20style%3D%27text-align%3Acenter%3Bfont-weight%3A%20bold%27%3EChina%3C/h4%3E%3Chr%20style%3D%27margin%3A10px%3Bcolor%3A%20white%3B%27%3E%3Cul%20style%3D%27color%3A%20white%3B%3Blist-style-type%3Acircle%3Balign-item%3Aleft%3Bpadding-left%3A20px%3Bpadding-right%3A20px%27%3E%3Cli%3EConfirmed%3A%201009%3C/li%3E%3C/ul%3E%3C/div%3E%0A%20%20%20%20%20%20%20%20%20%20%20%20%20%20%20%20%20%3C/div%3E%60%2C%0A%20%20%20%20%20%20%20%20%20%20%20%20%20%20%20%20%7B%22sticky%22%3A%20true%7D%0A%20%20%20%20%20%20%20%20%20%20%20%20%29%3B%0A%20%20%20%20%20%20%20%20%0A%20%20%20%20%0A%20%20%20%20%20%20%20%20%20%20%20%20var%20circle_e871cc80733f4d23b4e214aa0397c3c7%20%3D%20L.circle%28%0A%20%20%20%20%20%20%20%20%20%20%20%20%20%20%20%20%5B40.1824%2C%20116.4142%5D%2C%0A%20%20%20%20%20%20%20%20%20%20%20%20%20%20%20%20%7B%22bubblingMouseEvents%22%3A%20true%2C%20%22color%22%3A%20%22red%22%2C%20%22dashArray%22%3A%20null%2C%20%22dashOffset%22%3A%20null%2C%20%22fill%22%3A%20true%2C%20%22fillColor%22%3A%20%22indigo%22%2C%20%22fillOpacity%22%3A%200.2%2C%20%22fillRule%22%3A%20%22evenodd%22%2C%20%22lineCap%22%3A%20%22round%22%2C%20%22lineJoin%22%3A%20%22round%22%2C%20%22opacity%22%3A%201.0%2C%20%22radius%22%3A%2072000.0%2C%20%22stroke%22%3A%20true%2C%20%22weight%22%3A%203%7D%0A%20%20%20%20%20%20%20%20%20%20%20%20%29.addTo%28map_eb660f0cadf14412ab360cc7dee84180%29%3B%0A%20%20%20%20%20%20%20%20%0A%20%20%20%20%0A%20%20%20%20%20%20%20%20%20%20%20%20circle_e871cc80733f4d23b4e214aa0397c3c7.bindTooltip%28%0A%20%20%20%20%20%20%20%20%20%20%20%20%20%20%20%20%60%3Cdiv%3E%0A%20%20%20%20%20%20%20%20%20%20%20%20%20%20%20%20%20%20%20%20%20%3Cdiv%20style%3D%27margin%3A%200%3B%20background-color%3A%20black%3B%20color%3A%20white%3B%27%3E%3Ch4%20style%3D%27text-align%3Acenter%3Bfont-weight%3A%20bold%27%3EChina%3C/h4%3E%3Chr%20style%3D%27margin%3A10px%3Bcolor%3A%20white%3B%27%3E%3Cul%20style%3D%27color%3A%20white%3B%3Blist-style-type%3Acircle%3Balign-item%3Aleft%3Bpadding-left%3A20px%3Bpadding-right%3A20px%27%3E%3Cli%3EConfirmed%3A%201218%3C/li%3E%3C/ul%3E%3C/div%3E%0A%20%20%20%20%20%20%20%20%20%20%20%20%20%20%20%20%20%3C/div%3E%60%2C%0A%20%20%20%20%20%20%20%20%20%20%20%20%20%20%20%20%7B%22sticky%22%3A%20true%7D%0A%20%20%20%20%20%20%20%20%20%20%20%20%29%3B%0A%20%20%20%20%20%20%20%20%0A%20%20%20%20%0A%20%20%20%20%20%20%20%20%20%20%20%20var%20circle_2f9a5a7323a041d083cad429587bd15b%20%3D%20L.circle%28%0A%20%20%20%20%20%20%20%20%20%20%20%20%20%20%20%20%5B30.0572%2C%20107.874%5D%2C%0A%20%20%20%20%20%20%20%20%20%20%20%20%20%20%20%20%7B%22bubblingMouseEvents%22%3A%20true%2C%20%22color%22%3A%20%22red%22%2C%20%22dashArray%22%3A%20null%2C%20%22dashOffset%22%3A%20null%2C%20%22fill%22%3A%20true%2C%20%22fillColor%22%3A%20%22indigo%22%2C%20%22fillOpacity%22%3A%200.2%2C%20%22fillRule%22%3A%20%22evenodd%22%2C%20%22lineCap%22%3A%20%22round%22%2C%20%22lineJoin%22%3A%20%22round%22%2C%20%22opacity%22%3A%201.0%2C%20%22radius%22%3A%2062000.0%2C%20%22stroke%22%3A%20true%2C%20%22weight%22%3A%203%7D%0A%20%20%20%20%20%20%20%20%20%20%20%20%29.addTo%28map_eb660f0cadf14412ab360cc7dee84180%29%3B%0A%20%20%20%20%20%20%20%20%0A%20%20%20%20%0A%20%20%20%20%20%20%20%20%20%20%20%20circle_2f9a5a7323a041d083cad429587bd15b.bindTooltip%28%0A%20%20%20%20%20%20%20%20%20%20%20%20%20%20%20%20%60%3Cdiv%3E%0A%20%20%20%20%20%20%20%20%20%20%20%20%20%20%20%20%20%20%20%20%20%3Cdiv%20style%3D%27margin%3A%200%3B%20background-color%3A%20black%3B%20color%3A%20white%3B%27%3E%3Ch4%20style%3D%27text-align%3Acenter%3Bfont-weight%3A%20bold%27%3EChina%3C/h4%3E%3Chr%20style%3D%27margin%3A10px%3Bcolor%3A%20white%3B%27%3E%3Cul%20style%3D%27color%3A%20white%3B%3Blist-style-type%3Acircle%3Balign-item%3Aleft%3Bpadding-left%3A20px%3Bpadding-right%3A20px%27%3E%3Cli%3EConfirmed%3A%20611%3C/li%3E%3C/ul%3E%3C/div%3E%0A%20%20%20%20%20%20%20%20%20%20%20%20%20%20%20%20%20%3C/div%3E%60%2C%0A%20%20%20%20%20%20%20%20%20%20%20%20%20%20%20%20%7B%22sticky%22%3A%20true%7D%0A%20%20%20%20%20%20%20%20%20%20%20%20%29%3B%0A%20%20%20%20%20%20%20%20%0A%20%20%20%20%0A%20%20%20%20%20%20%20%20%20%20%20%20var%20circle_684d38eef5674702bbe8a752c10156e4%20%3D%20L.circle%28%0A%20%20%20%20%20%20%20%20%20%20%20%20%20%20%20%20%5B26.0789%2C%20117.9874%5D%2C%0A%20%20%20%20%20%20%20%20%20%20%20%20%20%20%20%20%7B%22bubblingMouseEvents%22%3A%20true%2C%20%22color%22%3A%20%22red%22%2C%20%22dashArray%22%3A%20null%2C%20%22dashOffset%22%3A%20null%2C%20%22fill%22%3A%20true%2C%20%22fillColor%22%3A%20%22indigo%22%2C%20%22fillOpacity%22%3A%200.2%2C%20%22fillRule%22%3A%20%22evenodd%22%2C%20%22lineCap%22%3A%20%22round%22%2C%20%22lineJoin%22%3A%20%22round%22%2C%20%22opacity%22%3A%201.0%2C%20%22radius%22%3A%2072000.0%2C%20%22stroke%22%3A%20true%2C%20%22weight%22%3A%203%7D%0A%20%20%20%20%20%20%20%20%20%20%20%20%29.addTo%28map_eb660f0cadf14412ab360cc7dee84180%29%3B%0A%20%20%20%20%20%20%20%20%0A%20%20%20%20%0A%20%20%20%20%20%20%20%20%20%20%20%20circle_684d38eef5674702bbe8a752c10156e4.bindTooltip%28%0A%20%20%20%20%20%20%20%20%20%20%20%20%20%20%20%20%60%3Cdiv%3E%0A%20%20%20%20%20%20%20%20%20%20%20%20%20%20%20%20%20%20%20%20%20%3Cdiv%20style%3D%27margin%3A%200%3B%20background-color%3A%20black%3B%20color%3A%20white%3B%27%3E%3Ch4%20style%3D%27text-align%3Acenter%3Bfont-weight%3A%20bold%27%3EChina%3C/h4%3E%3Chr%20style%3D%27margin%3A10px%3Bcolor%3A%20white%3B%27%3E%3Cul%20style%3D%27color%3A%20white%3B%3Blist-style-type%3Acircle%3Balign-item%3Aleft%3Bpadding-left%3A20px%3Bpadding-right%3A20px%27%3E%3Cli%3EConfirmed%3A%201415%3C/li%3E%3C/ul%3E%3C/div%3E%0A%20%20%20%20%20%20%20%20%20%20%20%20%20%20%20%20%20%3C/div%3E%60%2C%0A%20%20%20%20%20%20%20%20%20%20%20%20%20%20%20%20%7B%22sticky%22%3A%20true%7D%0A%20%20%20%20%20%20%20%20%20%20%20%20%29%3B%0A%20%20%20%20%20%20%20%20%0A%20%20%20%20%0A%20%20%20%20%20%20%20%20%20%20%20%20var%20circle_d16f54997e2d4aad9198cbd93c05f683%20%3D%20L.circle%28%0A%20%20%20%20%20%20%20%20%20%20%20%20%20%20%20%20%5B35.7518%2C%20104.2861%5D%2C%0A%20%20%20%20%20%20%20%20%20%20%20%20%20%20%20%20%7B%22bubblingMouseEvents%22%3A%20true%2C%20%22color%22%3A%20%22red%22%2C%20%22dashArray%22%3A%20null%2C%20%22dashOffset%22%3A%20null%2C%20%22fill%22%3A%20true%2C%20%22fillColor%22%3A%20%22indigo%22%2C%20%22fillOpacity%22%3A%200.2%2C%20%22fillRule%22%3A%20%22evenodd%22%2C%20%22lineCap%22%3A%20%22round%22%2C%20%22lineJoin%22%3A%20%22round%22%2C%20%22opacity%22%3A%201.0%2C%20%22radius%22%3A%2052000.0%2C%20%22stroke%22%3A%20true%2C%20%22weight%22%3A%203%7D%0A%20%20%20%20%20%20%20%20%20%20%20%20%29.addTo%28map_eb660f0cadf14412ab360cc7dee84180%29%3B%0A%20%20%20%20%20%20%20%20%0A%20%20%20%20%0A%20%20%20%20%20%20%20%20%20%20%20%20circle_d16f54997e2d4aad9198cbd93c05f683.bindTooltip%28%0A%20%20%20%20%20%20%20%20%20%20%20%20%20%20%20%20%60%3Cdiv%3E%0A%20%20%20%20%20%20%20%20%20%20%20%20%20%20%20%20%20%20%20%20%20%3Cdiv%20style%3D%27margin%3A%200%3B%20background-color%3A%20black%3B%20color%3A%20white%3B%27%3E%3Ch4%20style%3D%27text-align%3Acenter%3Bfont-weight%3A%20bold%27%3EChina%3C/h4%3E%3Chr%20style%3D%27margin%3A10px%3Bcolor%3A%20white%3B%27%3E%3Cul%20style%3D%27color%3A%20white%3B%3Blist-style-type%3Acircle%3Balign-item%3Aleft%3Bpadding-left%3A20px%3Bpadding-right%3A20px%27%3E%3Cli%3EConfirmed%3A%20356%3C/li%3E%3C/ul%3E%3C/div%3E%0A%20%20%20%20%20%20%20%20%20%20%20%20%20%20%20%20%20%3C/div%3E%60%2C%0A%20%20%20%20%20%20%20%20%20%20%20%20%20%20%20%20%7B%22sticky%22%3A%20true%7D%0A%20%20%20%20%20%20%20%20%20%20%20%20%29%3B%0A%20%20%20%20%20%20%20%20%0A%20%20%20%20%0A%20%20%20%20%20%20%20%20%20%20%20%20var%20circle_037fb6a539f741f5b84a40e818e61580%20%3D%20L.circle%28%0A%20%20%20%20%20%20%20%20%20%20%20%20%20%20%20%20%5B23.3417%2C%20113.4244%5D%2C%0A%20%20%20%20%20%20%20%20%20%20%20%20%20%20%20%20%7B%22bubblingMouseEvents%22%3A%20true%2C%20%22color%22%3A%20%22red%22%2C%20%22dashArray%22%3A%20null%2C%20%22dashOffset%22%3A%20null%2C%20%22fill%22%3A%20true%2C%20%22fillColor%22%3A%20%22indigo%22%2C%20%22fillOpacity%22%3A%200.2%2C%20%22fillRule%22%3A%20%22evenodd%22%2C%20%22lineCap%22%3A%20%22round%22%2C%20%22lineJoin%22%3A%20%22round%22%2C%20%22opacity%22%3A%201.0%2C%20%22radius%22%3A%2082000.0%2C%20%22stroke%22%3A%20true%2C%20%22weight%22%3A%203%7D%0A%20%20%20%20%20%20%20%20%20%20%20%20%29.addTo%28map_eb660f0cadf14412ab360cc7dee84180%29%3B%0A%20%20%20%20%20%20%20%20%0A%20%20%20%20%0A%20%20%20%20%20%20%20%20%20%20%20%20circle_037fb6a539f741f5b84a40e818e61580.bindTooltip%28%0A%20%20%20%20%20%20%20%20%20%20%20%20%20%20%20%20%60%3Cdiv%3E%0A%20%20%20%20%20%20%20%20%20%20%20%20%20%20%20%20%20%20%20%20%20%3Cdiv%20style%3D%27margin%3A%200%3B%20background-color%3A%20black%3B%20color%3A%20white%3B%27%3E%3Ch4%20style%3D%27text-align%3Acenter%3Bfont-weight%3A%20bold%27%3EChina%3C/h4%3E%3Chr%20style%3D%27margin%3A10px%3Bcolor%3A%20white%3B%27%3E%3Cul%20style%3D%27color%3A%20white%3B%3Blist-style-type%3Acircle%3Balign-item%3Aleft%3Bpadding-left%3A20px%3Bpadding-right%3A20px%27%3E%3Cli%3EConfirmed%3A%203539%3C/li%3E%3C/ul%3E%3C/div%3E%0A%20%20%20%20%20%20%20%20%20%20%20%20%20%20%20%20%20%3C/div%3E%60%2C%0A%20%20%20%20%20%20%20%20%20%20%20%20%20%20%20%20%7B%22sticky%22%3A%20true%7D%0A%20%20%20%20%20%20%20%20%20%20%20%20%29%3B%0A%20%20%20%20%20%20%20%20%0A%20%20%20%20%0A%20%20%20%20%20%20%20%20%20%20%20%20var%20circle_784ea94c256b41b9b77d5b26b2e0d936%20%3D%20L.circle%28%0A%20%20%20%20%20%20%20%20%20%20%20%20%20%20%20%20%5B23.8298%2C%20108.7881%5D%2C%0A%20%20%20%20%20%20%20%20%20%20%20%20%20%20%20%20%7B%22bubblingMouseEvents%22%3A%20true%2C%20%22color%22%3A%20%22red%22%2C%20%22dashArray%22%3A%20null%2C%20%22dashOffset%22%3A%20null%2C%20%22fill%22%3A%20true%2C%20%22fillColor%22%3A%20%22indigo%22%2C%20%22fillOpacity%22%3A%200.2%2C%20%22fillRule%22%3A%20%22evenodd%22%2C%20%22lineCap%22%3A%20%22round%22%2C%20%22lineJoin%22%3A%20%22round%22%2C%20%22opacity%22%3A%201.0%2C%20%22radius%22%3A%2062000.0%2C%20%22stroke%22%3A%20true%2C%20%22weight%22%3A%203%7D%0A%20%20%20%20%20%20%20%20%20%20%20%20%29.addTo%28map_eb660f0cadf14412ab360cc7dee84180%29%3B%0A%20%20%20%20%20%20%20%20%0A%20%20%20%20%0A%20%20%20%20%20%20%20%20%20%20%20%20circle_784ea94c256b41b9b77d5b26b2e0d936.bindTooltip%28%0A%20%20%20%20%20%20%20%20%20%20%20%20%20%20%20%20%60%3Cdiv%3E%0A%20%20%20%20%20%20%20%20%20%20%20%20%20%20%20%20%20%20%20%20%20%3Cdiv%20style%3D%27margin%3A%200%3B%20background-color%3A%20black%3B%20color%3A%20white%3B%27%3E%3Ch4%20style%3D%27text-align%3Acenter%3Bfont-weight%3A%20bold%27%3EChina%3C/h4%3E%3Chr%20style%3D%27margin%3A10px%3Bcolor%3A%20white%3B%27%3E%3Cul%20style%3D%27color%3A%20white%3B%3Blist-style-type%3Acircle%3Balign-item%3Aleft%3Bpadding-left%3A20px%3Bpadding-right%3A20px%27%3E%3Cli%3EConfirmed%3A%20668%3C/li%3E%3C/ul%3E%3C/div%3E%0A%20%20%20%20%20%20%20%20%20%20%20%20%20%20%20%20%20%3C/div%3E%60%2C%0A%20%20%20%20%20%20%20%20%20%20%20%20%20%20%20%20%7B%22sticky%22%3A%20true%7D%0A%20%20%20%20%20%20%20%20%20%20%20%20%29%3B%0A%20%20%20%20%20%20%20%20%0A%20%20%20%20%0A%20%20%20%20%20%20%20%20%20%20%20%20var%20circle_9ba572c692d74af5b69fb4ca6a2e13e3%20%3D%20L.circle%28%0A%20%20%20%20%20%20%20%20%20%20%20%20%20%20%20%20%5B26.8154%2C%20106.8748%5D%2C%0A%20%20%20%20%20%20%20%20%20%20%20%20%20%20%20%20%7B%22bubblingMouseEvents%22%3A%20true%2C%20%22color%22%3A%20%22red%22%2C%20%22dashArray%22%3A%20null%2C%20%22dashOffset%22%3A%20null%2C%20%22fill%22%3A%20true%2C%20%22fillColor%22%3A%20%22indigo%22%2C%20%22fillOpacity%22%3A%200.2%2C%20%22fillRule%22%3A%20%22evenodd%22%2C%20%22lineCap%22%3A%20%22round%22%2C%20%22lineJoin%22%3A%20%22round%22%2C%20%22opacity%22%3A%201.0%2C%20%22radius%22%3A%2052000.0%2C%20%22stroke%22%3A%20true%2C%20%22weight%22%3A%203%7D%0A%20%20%20%20%20%20%20%20%20%20%20%20%29.addTo%28map_eb660f0cadf14412ab360cc7dee84180%29%3B%0A%20%20%20%20%20%20%20%20%0A%20%20%20%20%0A%20%20%20%20%20%20%20%20%20%20%20%20circle_9ba572c692d74af5b69fb4ca6a2e13e3.bindTooltip%28%0A%20%20%20%20%20%20%20%20%20%20%20%20%20%20%20%20%60%3Cdiv%3E%0A%20%20%20%20%20%20%20%20%20%20%20%20%20%20%20%20%20%20%20%20%20%3Cdiv%20style%3D%27margin%3A%200%3B%20background-color%3A%20black%3B%20color%3A%20white%3B%27%3E%3Ch4%20style%3D%27text-align%3Acenter%3Bfont-weight%3A%20bold%27%3EChina%3C/h4%3E%3Chr%20style%3D%27margin%3A10px%3Bcolor%3A%20white%3B%27%3E%3Cul%20style%3D%27color%3A%20white%3B%3Blist-style-type%3Acircle%3Balign-item%3Aleft%3Bpadding-left%3A20px%3Bpadding-right%3A20px%27%3E%3Cli%3EConfirmed%3A%20160%3C/li%3E%3C/ul%3E%3C/div%3E%0A%20%20%20%20%20%20%20%20%20%20%20%20%20%20%20%20%20%3C/div%3E%60%2C%0A%20%20%20%20%20%20%20%20%20%20%20%20%20%20%20%20%7B%22sticky%22%3A%20true%7D%0A%20%20%20%20%20%20%20%20%20%20%20%20%29%3B%0A%20%20%20%20%20%20%20%20%0A%20%20%20%20%0A%20%20%20%20%20%20%20%20%20%20%20%20var%20circle_4da3482cd17f4999a2624b3d69e87c22%20%3D%20L.circle%28%0A%20%20%20%20%20%20%20%20%20%20%20%20%20%20%20%20%5B19.1959%2C%20109.7453%5D%2C%0A%20%20%20%20%20%20%20%20%20%20%20%20%20%20%20%20%7B%22bubblingMouseEvents%22%3A%20true%2C%20%22color%22%3A%20%22red%22%2C%20%22dashArray%22%3A%20null%2C%20%22dashOffset%22%3A%20null%2C%20%22fill%22%3A%20true%2C%20%22fillColor%22%3A%20%22indigo%22%2C%20%22fillOpacity%22%3A%200.2%2C%20%22fillRule%22%3A%20%22evenodd%22%2C%20%22lineCap%22%3A%20%22round%22%2C%20%22lineJoin%22%3A%20%22round%22%2C%20%22opacity%22%3A%201.0%2C%20%22radius%22%3A%2052000.0%2C%20%22stroke%22%3A%20true%2C%20%22weight%22%3A%203%7D%0A%20%20%20%20%20%20%20%20%20%20%20%20%29.addTo%28map_eb660f0cadf14412ab360cc7dee84180%29%3B%0A%20%20%20%20%20%20%20%20%0A%20%20%20%20%0A%20%20%20%20%20%20%20%20%20%20%20%20circle_4da3482cd17f4999a2624b3d69e87c22.bindTooltip%28%0A%20%20%20%20%20%20%20%20%20%20%20%20%20%20%20%20%60%3Cdiv%3E%0A%20%20%20%20%20%20%20%20%20%20%20%20%20%20%20%20%20%20%20%20%20%3Cdiv%20style%3D%27margin%3A%200%3B%20background-color%3A%20black%3B%20color%3A%20white%3B%27%3E%3Ch4%20style%3D%27text-align%3Acenter%3Bfont-weight%3A%20bold%27%3EChina%3C/h4%3E%3Chr%20style%3D%27margin%3A10px%3Bcolor%3A%20white%3B%27%3E%3Cul%20style%3D%27color%3A%20white%3B%3Blist-style-type%3Acircle%3Balign-item%3Aleft%3Bpadding-left%3A20px%3Bpadding-right%3A20px%27%3E%3Cli%3EConfirmed%3A%20190%3C/li%3E%3C/ul%3E%3C/div%3E%0A%20%20%20%20%20%20%20%20%20%20%20%20%20%20%20%20%20%3C/div%3E%60%2C%0A%20%20%20%20%20%20%20%20%20%20%20%20%20%20%20%20%7B%22sticky%22%3A%20true%7D%0A%20%20%20%20%20%20%20%20%20%20%20%20%29%3B%0A%20%20%20%20%20%20%20%20%0A%20%20%20%20%0A%20%20%20%20%20%20%20%20%20%20%20%20var%20circle_be493cc948df476ba476c589fd865607%20%3D%20L.circle%28%0A%20%20%20%20%20%20%20%20%20%20%20%20%20%20%20%20%5B39.549%2C%20116.1306%5D%2C%0A%20%20%20%20%20%20%20%20%20%20%20%20%20%20%20%20%7B%22bubblingMouseEvents%22%3A%20true%2C%20%22color%22%3A%20%22red%22%2C%20%22dashArray%22%3A%20null%2C%20%22dashOffset%22%3A%20null%2C%20%22fill%22%3A%20true%2C%20%22fillColor%22%3A%20%22indigo%22%2C%20%22fillOpacity%22%3A%200.2%2C%20%22fillRule%22%3A%20%22evenodd%22%2C%20%22lineCap%22%3A%20%22round%22%2C%20%22lineJoin%22%3A%20%22round%22%2C%20%22opacity%22%3A%201.0%2C%20%22radius%22%3A%2072000.0%2C%20%22stroke%22%3A%20true%2C%20%22weight%22%3A%203%7D%0A%20%20%20%20%20%20%20%20%20%20%20%20%29.addTo%28map_eb660f0cadf14412ab360cc7dee84180%29%3B%0A%20%20%20%20%20%20%20%20%0A%20%20%20%20%0A%20%20%20%20%20%20%20%20%20%20%20%20circle_be493cc948df476ba476c589fd865607.bindTooltip%28%0A%20%20%20%20%20%20%20%20%20%20%20%20%20%20%20%20%60%3Cdiv%3E%0A%20%20%20%20%20%20%20%20%20%20%20%20%20%20%20%20%20%20%20%20%20%3Cdiv%20style%3D%27margin%3A%200%3B%20background-color%3A%20black%3B%20color%3A%20white%3B%27%3E%3Ch4%20style%3D%27text-align%3Acenter%3Bfont-weight%3A%20bold%27%3EChina%3C/h4%3E%3Chr%20style%3D%27margin%3A10px%3Bcolor%3A%20white%3B%27%3E%3Cul%20style%3D%27color%3A%20white%3B%3Blist-style-type%3Acircle%3Balign-item%3Aleft%3Bpadding-left%3A20px%3Bpadding-right%3A20px%27%3E%3Cli%3EConfirmed%3A%201458%3C/li%3E%3C/ul%3E%3C/div%3E%0A%20%20%20%20%20%20%20%20%20%20%20%20%20%20%20%20%20%3C/div%3E%60%2C%0A%20%20%20%20%20%20%20%20%20%20%20%20%20%20%20%20%7B%22sticky%22%3A%20true%7D%0A%20%20%20%20%20%20%20%20%20%20%20%20%29%3B%0A%20%20%20%20%20%20%20%20%0A%20%20%20%20%0A%20%20%20%20%20%20%20%20%20%20%20%20var%20circle_19e7a227af6b4caea5d91a893856581e%20%3D%20L.circle%28%0A%20%20%20%20%20%20%20%20%20%20%20%20%20%20%20%20%5B47.862%2C%20127.7615%5D%2C%0A%20%20%20%20%20%20%20%20%20%20%20%20%20%20%20%20%7B%22bubblingMouseEvents%22%3A%20true%2C%20%22color%22%3A%20%22red%22%2C%20%22dashArray%22%3A%20null%2C%20%22dashOffset%22%3A%20null%2C%20%22fill%22%3A%20true%2C%20%22fillColor%22%3A%20%22indigo%22%2C%20%22fillOpacity%22%3A%200.2%2C%20%22fillRule%22%3A%20%22evenodd%22%2C%20%22lineCap%22%3A%20%22round%22%2C%20%22lineJoin%22%3A%20%22round%22%2C%20%22opacity%22%3A%201.0%2C%20%22radius%22%3A%2072000.0%2C%20%22stroke%22%3A%20true%2C%20%22weight%22%3A%203%7D%0A%20%20%20%20%20%20%20%20%20%20%20%20%29.addTo%28map_eb660f0cadf14412ab360cc7dee84180%29%3B%0A%20%20%20%20%20%20%20%20%0A%20%20%20%20%0A%20%20%20%20%20%20%20%20%20%20%20%20circle_19e7a227af6b4caea5d91a893856581e.bindTooltip%28%0A%20%20%20%20%20%20%20%20%20%20%20%20%20%20%20%20%60%3Cdiv%3E%0A%20%20%20%20%20%20%20%20%20%20%20%20%20%20%20%20%20%20%20%20%20%3Cdiv%20style%3D%27margin%3A%200%3B%20background-color%3A%20black%3B%20color%3A%20white%3B%27%3E%3Ch4%20style%3D%27text-align%3Acenter%3Bfont-weight%3A%20bold%27%3EChina%3C/h4%3E%3Chr%20style%3D%27margin%3A10px%3Bcolor%3A%20white%3B%27%3E%3Cul%20style%3D%27color%3A%20white%3B%3Blist-style-type%3Acircle%3Balign-item%3Aleft%3Bpadding-left%3A20px%3Bpadding-right%3A20px%27%3E%3Cli%3EConfirmed%3A%202035%3C/li%3E%3C/ul%3E%3C/div%3E%0A%20%20%20%20%20%20%20%20%20%20%20%20%20%20%20%20%20%3C/div%3E%60%2C%0A%20%20%20%20%20%20%20%20%20%20%20%20%20%20%20%20%7B%22sticky%22%3A%20true%7D%0A%20%20%20%20%20%20%20%20%20%20%20%20%29%3B%0A%20%20%20%20%20%20%20%20%0A%20%20%20%20%0A%20%20%20%20%20%20%20%20%20%20%20%20var%20circle_6b4978b72824418da8fe9a083fde1464%20%3D%20L.circle%28%0A%20%20%20%20%20%20%20%20%20%20%20%20%20%20%20%20%5B37.8957%2C%20114.9042%5D%2C%0A%20%20%20%20%20%20%20%20%20%20%20%20%20%20%20%20%7B%22bubblingMouseEvents%22%3A%20true%2C%20%22color%22%3A%20%22red%22%2C%20%22dashArray%22%3A%20null%2C%20%22dashOffset%22%3A%20null%2C%20%22fill%22%3A%20true%2C%20%22fillColor%22%3A%20%22indigo%22%2C%20%22fillOpacity%22%3A%200.2%2C%20%22fillRule%22%3A%20%22evenodd%22%2C%20%22lineCap%22%3A%20%22round%22%2C%20%22lineJoin%22%3A%20%22round%22%2C%20%22opacity%22%3A%201.0%2C%20%22radius%22%3A%2072000.0%2C%20%22stroke%22%3A%20true%2C%20%22weight%22%3A%203%7D%0A%20%20%20%20%20%20%20%20%20%20%20%20%29.addTo%28map_eb660f0cadf14412ab360cc7dee84180%29%3B%0A%20%20%20%20%20%20%20%20%0A%20%20%20%20%0A%20%20%20%20%20%20%20%20%20%20%20%20circle_6b4978b72824418da8fe9a083fde1464.bindTooltip%28%0A%20%20%20%20%20%20%20%20%20%20%20%20%20%20%20%20%60%3Cdiv%3E%0A%20%20%20%20%20%20%20%20%20%20%20%20%20%20%20%20%20%20%20%20%20%3Cdiv%20style%3D%27margin%3A%200%3B%20background-color%3A%20black%3B%20color%3A%20white%3B%27%3E%3Ch4%20style%3D%27text-align%3Acenter%3Bfont-weight%3A%20bold%27%3EChina%3C/h4%3E%3Chr%20style%3D%27margin%3A10px%3Bcolor%3A%20white%3B%27%3E%3Cul%20style%3D%27color%3A%20white%3B%3Blist-style-type%3Acircle%3Balign-item%3Aleft%3Bpadding-left%3A20px%3Bpadding-right%3A20px%27%3E%3Cli%3EConfirmed%3A%201941%3C/li%3E%3C/ul%3E%3C/div%3E%0A%20%20%20%20%20%20%20%20%20%20%20%20%20%20%20%20%20%3C/div%3E%60%2C%0A%20%20%20%20%20%20%20%20%20%20%20%20%20%20%20%20%7B%22sticky%22%3A%20true%7D%0A%20%20%20%20%20%20%20%20%20%20%20%20%29%3B%0A%20%20%20%20%20%20%20%20%0A%20%20%20%20%0A%20%20%20%20%20%20%20%20%20%20%20%20var%20circle_9532272a3d954bb781b9a66ad9a56ee1%20%3D%20L.circle%28%0A%20%20%20%20%20%20%20%20%20%20%20%20%20%20%20%20%5B22.3%2C%20114.2%5D%2C%0A%20%20%20%20%20%20%20%20%20%20%20%20%20%20%20%20%7B%22bubblingMouseEvents%22%3A%20true%2C%20%22color%22%3A%20%22red%22%2C%20%22dashArray%22%3A%20null%2C%20%22dashOffset%22%3A%20null%2C%20%22fill%22%3A%20true%2C%20%22fillColor%22%3A%20%22indigo%22%2C%20%22fillOpacity%22%3A%200.2%2C%20%22fillRule%22%3A%20%22evenodd%22%2C%20%22lineCap%22%3A%20%22round%22%2C%20%22lineJoin%22%3A%20%22round%22%2C%20%22opacity%22%3A%201.0%2C%20%22radius%22%3A%2092000.0%2C%20%22stroke%22%3A%20true%2C%20%22weight%22%3A%203%7D%0A%20%20%20%20%20%20%20%20%20%20%20%20%29.addTo%28map_eb660f0cadf14412ab360cc7dee84180%29%3B%0A%20%20%20%20%20%20%20%20%0A%20%20%20%20%0A%20%20%20%20%20%20%20%20%20%20%20%20circle_9532272a3d954bb781b9a66ad9a56ee1.bindTooltip%28%0A%20%20%20%20%20%20%20%20%20%20%20%20%20%20%20%20%60%3Cdiv%3E%0A%20%20%20%20%20%20%20%20%20%20%20%20%20%20%20%20%20%20%20%20%20%3Cdiv%20style%3D%27margin%3A%200%3B%20background-color%3A%20black%3B%20color%3A%20white%3B%27%3E%3Ch4%20style%3D%27text-align%3Acenter%3Bfont-weight%3A%20bold%27%3EChina%3C/h4%3E%3Chr%20style%3D%27margin%3A10px%3Bcolor%3A%20white%3B%27%3E%3Cul%20style%3D%27color%3A%20white%3B%3Blist-style-type%3Acircle%3Balign-item%3Aleft%3Bpadding-left%3A20px%3Bpadding-right%3A20px%27%3E%3Cli%3EConfirmed%3A%2012786%3C/li%3E%3C/ul%3E%3C/div%3E%0A%20%20%20%20%20%20%20%20%20%20%20%20%20%20%20%20%20%3C/div%3E%60%2C%0A%20%20%20%20%20%20%20%20%20%20%20%20%20%20%20%20%7B%22sticky%22%3A%20true%7D%0A%20%20%20%20%20%20%20%20%20%20%20%20%29%3B%0A%20%20%20%20%20%20%20%20%0A%20%20%20%20%0A%20%20%20%20%20%20%20%20%20%20%20%20var%20circle_e7fe5dce0ac646f8ab05f7fc6f2fddfe%20%3D%20L.circle%28%0A%20%20%20%20%20%20%20%20%20%20%20%20%20%20%20%20%5B30.9756%2C%20112.2707%5D%2C%0A%20%20%20%20%20%20%20%20%20%20%20%20%20%20%20%20%7B%22bubblingMouseEvents%22%3A%20true%2C%20%22color%22%3A%20%22red%22%2C%20%22dashArray%22%3A%20null%2C%20%22dashOffset%22%3A%20null%2C%20%22fill%22%3A%20true%2C%20%22fillColor%22%3A%20%22indigo%22%2C%20%22fillOpacity%22%3A%200.2%2C%20%22fillRule%22%3A%20%22evenodd%22%2C%20%22lineCap%22%3A%20%22round%22%2C%20%22lineJoin%22%3A%20%22round%22%2C%20%22opacity%22%3A%201.0%2C%20%22radius%22%3A%20112000.0%2C%20%22stroke%22%3A%20true%2C%20%22weight%22%3A%203%7D%0A%20%20%20%20%20%20%20%20%20%20%20%20%29.addTo%28map_eb660f0cadf14412ab360cc7dee84180%29%3B%0A%20%20%20%20%20%20%20%20%0A%20%20%20%20%0A%20%20%20%20%20%20%20%20%20%20%20%20circle_e7fe5dce0ac646f8ab05f7fc6f2fddfe.bindTooltip%28%0A%20%20%20%20%20%20%20%20%20%20%20%20%20%20%20%20%60%3Cdiv%3E%0A%20%20%20%20%20%20%20%20%20%20%20%20%20%20%20%20%20%20%20%20%20%3Cdiv%20style%3D%27margin%3A%200%3B%20background-color%3A%20black%3B%20color%3A%20white%3B%27%3E%3Ch4%20style%3D%27text-align%3Acenter%3Bfont-weight%3A%20bold%27%3EChina%3C/h4%3E%3Chr%20style%3D%27margin%3A10px%3Bcolor%3A%20white%3B%27%3E%3Cul%20style%3D%27color%3A%20white%3B%3Blist-style-type%3Acircle%3Balign-item%3Aleft%3Bpadding-left%3A20px%3Bpadding-right%3A20px%27%3E%3Cli%3EConfirmed%3A%2068320%3C/li%3E%3C/ul%3E%3C/div%3E%0A%20%20%20%20%20%20%20%20%20%20%20%20%20%20%20%20%20%3C/div%3E%60%2C%0A%20%20%20%20%20%20%20%20%20%20%20%20%20%20%20%20%7B%22sticky%22%3A%20true%7D%0A%20%20%20%20%20%20%20%20%20%20%20%20%29%3B%0A%20%20%20%20%20%20%20%20%0A%20%20%20%20%0A%20%20%20%20%20%20%20%20%20%20%20%20var%20circle_0bdefd6acc884f5c8067e5a06c6bbd08%20%3D%20L.circle%28%0A%20%20%20%20%20%20%20%20%20%20%20%20%20%20%20%20%5B27.6104%2C%20111.7088%5D%2C%0A%20%20%20%20%20%20%20%20%20%20%20%20%20%20%20%20%7B%22bubblingMouseEvents%22%3A%20true%2C%20%22color%22%3A%20%22red%22%2C%20%22dashArray%22%3A%20null%2C%20%22dashOffset%22%3A%20null%2C%20%22fill%22%3A%20true%2C%20%22fillColor%22%3A%20%22indigo%22%2C%20%22fillOpacity%22%3A%200.2%2C%20%22fillRule%22%3A%20%22evenodd%22%2C%20%22lineCap%22%3A%20%22round%22%2C%20%22lineJoin%22%3A%20%22round%22%2C%20%22opacity%22%3A%201.0%2C%20%22radius%22%3A%2072000.0%2C%20%22stroke%22%3A%20true%2C%20%22weight%22%3A%203%7D%0A%20%20%20%20%20%20%20%20%20%20%20%20%29.addTo%28map_eb660f0cadf14412ab360cc7dee84180%29%3B%0A%20%20%20%20%20%20%20%20%0A%20%20%20%20%0A%20%20%20%20%20%20%20%20%20%20%20%20circle_0bdefd6acc884f5c8067e5a06c6bbd08.bindTooltip%28%0A%20%20%20%20%20%20%20%20%20%20%20%20%20%20%20%20%60%3Cdiv%3E%0A%20%20%20%20%20%20%20%20%20%20%20%20%20%20%20%20%20%20%20%20%20%3Cdiv%20style%3D%27margin%3A%200%3B%20background-color%3A%20black%3B%20color%3A%20white%3B%27%3E%3Ch4%20style%3D%27text-align%3Acenter%3Bfont-weight%3A%20bold%27%3EChina%3C/h4%3E%3Chr%20style%3D%27margin%3A10px%3Bcolor%3A%20white%3B%27%3E%3Cul%20style%3D%27color%3A%20white%3B%3Blist-style-type%3Acircle%3Balign-item%3Aleft%3Bpadding-left%3A20px%3Bpadding-right%3A20px%27%3E%3Cli%3EConfirmed%3A%201229%3C/li%3E%3C/ul%3E%3C/div%3E%0A%20%20%20%20%20%20%20%20%20%20%20%20%20%20%20%20%20%3C/div%3E%60%2C%0A%20%20%20%20%20%20%20%20%20%20%20%20%20%20%20%20%7B%22sticky%22%3A%20true%7D%0A%20%20%20%20%20%20%20%20%20%20%20%20%29%3B%0A%20%20%20%20%20%20%20%20%0A%20%20%20%20%0A%20%20%20%20%20%20%20%20%20%20%20%20var%20circle_57a72a92f17a44d888810dfc7cee1dee%20%3D%20L.circle%28%0A%20%20%20%20%20%20%20%20%20%20%20%20%20%20%20%20%5B44.0935%2C%20113.9448%5D%2C%0A%20%20%20%20%20%20%20%20%20%20%20%20%20%20%20%20%7B%22bubblingMouseEvents%22%3A%20true%2C%20%22color%22%3A%20%22red%22%2C%20%22dashArray%22%3A%20null%2C%20%22dashOffset%22%3A%20null%2C%20%22fill%22%3A%20true%2C%20%22fillColor%22%3A%20%22indigo%22%2C%20%22fillOpacity%22%3A%200.2%2C%20%22fillRule%22%3A%20%22evenodd%22%2C%20%22lineCap%22%3A%20%22round%22%2C%20%22lineJoin%22%3A%20%22round%22%2C%20%22opacity%22%3A%201.0%2C%20%22radius%22%3A%2072000.0%2C%20%22stroke%22%3A%20true%2C%20%22weight%22%3A%203%7D%0A%20%20%20%20%20%20%20%20%20%20%20%20%29.addTo%28map_eb660f0cadf14412ab360cc7dee84180%29%3B%0A%20%20%20%20%20%20%20%20%0A%20%20%20%20%0A%20%20%20%20%20%20%20%20%20%20%20%20circle_57a72a92f17a44d888810dfc7cee1dee.bindTooltip%28%0A%20%20%20%20%20%20%20%20%20%20%20%20%20%20%20%20%60%3Cdiv%3E%0A%20%20%20%20%20%20%20%20%20%20%20%20%20%20%20%20%20%20%20%20%20%3Cdiv%20style%3D%27margin%3A%200%3B%20background-color%3A%20black%3B%20color%3A%20white%3B%27%3E%3Ch4%20style%3D%27text-align%3Acenter%3Bfont-weight%3A%20bold%27%3EChina%3C/h4%3E%3Chr%20style%3D%27margin%3A10px%3Bcolor%3A%20white%3B%27%3E%3Cul%20style%3D%27color%3A%20white%3B%3Blist-style-type%3Acircle%3Balign-item%3Aleft%3Bpadding-left%3A20px%3Bpadding-right%3A20px%27%3E%3Cli%3EConfirmed%3A%201191%3C/li%3E%3C/ul%3E%3C/div%3E%0A%20%20%20%20%20%20%20%20%20%20%20%20%20%20%20%20%20%3C/div%3E%60%2C%0A%20%20%20%20%20%20%20%20%20%20%20%20%20%20%20%20%7B%22sticky%22%3A%20true%7D%0A%20%20%20%20%20%20%20%20%20%20%20%20%29%3B%0A%20%20%20%20%20%20%20%20%0A%20%20%20%20%0A%20%20%20%20%20%20%20%20%20%20%20%20var%20circle_542988fb25bf48b5a3872570ceeabb72%20%3D%20L.circle%28%0A%20%20%20%20%20%20%20%20%20%20%20%20%20%20%20%20%5B32.9711%2C%20119.455%5D%2C%0A%20%20%20%20%20%20%20%20%20%20%20%20%20%20%20%20%7B%22bubblingMouseEvents%22%3A%20true%2C%20%22color%22%3A%20%22red%22%2C%20%22dashArray%22%3A%20null%2C%20%22dashOffset%22%3A%20null%2C%20%22fill%22%3A%20true%2C%20%22fillColor%22%3A%20%22indigo%22%2C%20%22fillOpacity%22%3A%200.2%2C%20%22fillRule%22%3A%20%22evenodd%22%2C%20%22lineCap%22%3A%20%22round%22%2C%20%22lineJoin%22%3A%20%22round%22%2C%20%22opacity%22%3A%201.0%2C%20%22radius%22%3A%2072000.0%2C%20%22stroke%22%3A%20true%2C%20%22weight%22%3A%203%7D%0A%20%20%20%20%20%20%20%20%20%20%20%20%29.addTo%28map_eb660f0cadf14412ab360cc7dee84180%29%3B%0A%20%20%20%20%20%20%20%20%0A%20%20%20%20%0A%20%20%20%20%20%20%20%20%20%20%20%20circle_542988fb25bf48b5a3872570ceeabb72.bindTooltip%28%0A%20%20%20%20%20%20%20%20%20%20%20%20%20%20%20%20%60%3Cdiv%3E%0A%20%20%20%20%20%20%20%20%20%20%20%20%20%20%20%20%20%20%20%20%20%3Cdiv%20style%3D%27margin%3A%200%3B%20background-color%3A%20black%3B%20color%3A%20white%3B%27%3E%3Ch4%20style%3D%27text-align%3Acenter%3Bfont-weight%3A%20bold%27%3EChina%3C/h4%3E%3Chr%20style%3D%27margin%3A10px%3Bcolor%3A%20white%3B%27%3E%3Cul%20style%3D%27color%3A%20white%3B%3Blist-style-type%3Acircle%3Balign-item%3Aleft%3Bpadding-left%3A20px%3Bpadding-right%3A20px%27%3E%3Cli%3EConfirmed%3A%201627%3C/li%3E%3C/ul%3E%3C/div%3E%0A%20%20%20%20%20%20%20%20%20%20%20%20%20%20%20%20%20%3C/div%3E%60%2C%0A%20%20%20%20%20%20%20%20%20%20%20%20%20%20%20%20%7B%22sticky%22%3A%20true%7D%0A%20%20%20%20%20%20%20%20%20%20%20%20%29%3B%0A%20%20%20%20%20%20%20%20%0A%20%20%20%20%0A%20%20%20%20%20%20%20%20%20%20%20%20var%20circle_cad9dfbe604842d8b27c78b8727e9b96%20%3D%20L.circle%28%0A%20%20%20%20%20%20%20%20%20%20%20%20%20%20%20%20%5B27.614%2C%20115.7221%5D%2C%0A%20%20%20%20%20%20%20%20%20%20%20%20%20%20%20%20%7B%22bubblingMouseEvents%22%3A%20true%2C%20%22color%22%3A%20%22red%22%2C%20%22dashArray%22%3A%20null%2C%20%22dashOffset%22%3A%20null%2C%20%22fill%22%3A%20true%2C%20%22fillColor%22%3A%20%22indigo%22%2C%20%22fillOpacity%22%3A%200.2%2C%20%22fillRule%22%3A%20%22evenodd%22%2C%20%22lineCap%22%3A%20%22round%22%2C%20%22lineJoin%22%3A%20%22round%22%2C%20%22opacity%22%3A%201.0%2C%20%22radius%22%3A%2062000.0%2C%20%22stroke%22%3A%20true%2C%20%22weight%22%3A%203%7D%0A%20%20%20%20%20%20%20%20%20%20%20%20%29.addTo%28map_eb660f0cadf14412ab360cc7dee84180%29%3B%0A%20%20%20%20%20%20%20%20%0A%20%20%20%20%0A%20%20%20%20%20%20%20%20%20%20%20%20circle_cad9dfbe604842d8b27c78b8727e9b96.bindTooltip%28%0A%20%20%20%20%20%20%20%20%20%20%20%20%20%20%20%20%60%3Cdiv%3E%0A%20%20%20%20%20%20%20%20%20%20%20%20%20%20%20%20%20%20%20%20%20%3Cdiv%20style%3D%27margin%3A%200%3B%20background-color%3A%20black%3B%20color%3A%20white%3B%27%3E%3Ch4%20style%3D%27text-align%3Acenter%3Bfont-weight%3A%20bold%27%3EChina%3C/h4%3E%3Chr%20style%3D%27margin%3A10px%3Bcolor%3A%20white%3B%27%3E%3Cul%20style%3D%27color%3A%20white%3B%3Blist-style-type%3Acircle%3Balign-item%3Aleft%3Bpadding-left%3A20px%3Bpadding-right%3A20px%27%3E%3Cli%3EConfirmed%3A%20959%3C/li%3E%3C/ul%3E%3C/div%3E%0A%20%20%20%20%20%20%20%20%20%20%20%20%20%20%20%20%20%3C/div%3E%60%2C%0A%20%20%20%20%20%20%20%20%20%20%20%20%20%20%20%20%7B%22sticky%22%3A%20true%7D%0A%20%20%20%20%20%20%20%20%20%20%20%20%29%3B%0A%20%20%20%20%20%20%20%20%0A%20%20%20%20%0A%20%20%20%20%20%20%20%20%20%20%20%20var%20circle_521c8f454b6f47e8940850acdd228dc0%20%3D%20L.circle%28%0A%20%20%20%20%20%20%20%20%20%20%20%20%20%20%20%20%5B43.6661%2C%20126.1923%5D%2C%0A%20%20%20%20%20%20%20%20%20%20%20%20%20%20%20%20%7B%22bubblingMouseEvents%22%3A%20true%2C%20%22color%22%3A%20%22red%22%2C%20%22dashArray%22%3A%20null%2C%20%22dashOffset%22%3A%20null%2C%20%22fill%22%3A%20true%2C%20%22fillColor%22%3A%20%22indigo%22%2C%20%22fillOpacity%22%3A%200.2%2C%20%22fillRule%22%3A%20%22evenodd%22%2C%20%22lineCap%22%3A%20%22round%22%2C%20%22lineJoin%22%3A%20%22round%22%2C%20%22opacity%22%3A%201.0%2C%20%22radius%22%3A%2062000.0%2C%20%22stroke%22%3A%20true%2C%20%22weight%22%3A%203%7D%0A%20%20%20%20%20%20%20%20%20%20%20%20%29.addTo%28map_eb660f0cadf14412ab360cc7dee84180%29%3B%0A%20%20%20%20%20%20%20%20%0A%20%20%20%20%0A%20%20%20%20%20%20%20%20%20%20%20%20circle_521c8f454b6f47e8940850acdd228dc0.bindTooltip%28%0A%20%20%20%20%20%20%20%20%20%20%20%20%20%20%20%20%60%3Cdiv%3E%0A%20%20%20%20%20%20%20%20%20%20%20%20%20%20%20%20%20%20%20%20%20%3Cdiv%20style%3D%27margin%3A%200%3B%20background-color%3A%20black%3B%20color%3A%20white%3B%27%3E%3Ch4%20style%3D%27text-align%3Acenter%3Bfont-weight%3A%20bold%27%3EChina%3C/h4%3E%3Chr%20style%3D%27margin%3A10px%3Bcolor%3A%20white%3B%27%3E%3Cul%20style%3D%27color%3A%20white%3B%3Blist-style-type%3Acircle%3Balign-item%3Aleft%3Bpadding-left%3A20px%3Bpadding-right%3A20px%27%3E%3Cli%3EConfirmed%3A%20590%3C/li%3E%3C/ul%3E%3C/div%3E%0A%20%20%20%20%20%20%20%20%20%20%20%20%20%20%20%20%20%3C/div%3E%60%2C%0A%20%20%20%20%20%20%20%20%20%20%20%20%20%20%20%20%7B%22sticky%22%3A%20true%7D%0A%20%20%20%20%20%20%20%20%20%20%20%20%29%3B%0A%20%20%20%20%20%20%20%20%0A%20%20%20%20%0A%20%20%20%20%20%20%20%20%20%20%20%20var%20circle_b2aef844af0141a09b001c782f72b425%20%3D%20L.circle%28%0A%20%20%20%20%20%20%20%20%20%20%20%20%20%20%20%20%5B41.2956%2C%20122.6085%5D%2C%0A%20%20%20%20%20%20%20%20%20%20%20%20%20%20%20%20%7B%22bubblingMouseEvents%22%3A%20true%2C%20%22color%22%3A%20%22red%22%2C%20%22dashArray%22%3A%20null%2C%20%22dashOffset%22%3A%20null%2C%20%22fill%22%3A%20true%2C%20%22fillColor%22%3A%20%22indigo%22%2C%20%22fillOpacity%22%3A%200.2%2C%20%22fillRule%22%3A%20%22evenodd%22%2C%20%22lineCap%22%3A%20%22round%22%2C%20%22lineJoin%22%3A%20%22round%22%2C%20%22opacity%22%3A%201.0%2C%20%22radius%22%3A%2062000.0%2C%20%22stroke%22%3A%20true%2C%20%22weight%22%3A%203%7D%0A%20%20%20%20%20%20%20%20%20%20%20%20%29.addTo%28map_eb660f0cadf14412ab360cc7dee84180%29%3B%0A%20%20%20%20%20%20%20%20%0A%20%20%20%20%0A%20%20%20%20%20%20%20%20%20%20%20%20circle_b2aef844af0141a09b001c782f72b425.bindTooltip%28%0A%20%20%20%20%20%20%20%20%20%20%20%20%20%20%20%20%60%3Cdiv%3E%0A%20%20%20%20%20%20%20%20%20%20%20%20%20%20%20%20%20%20%20%20%20%3Cdiv%20style%3D%27margin%3A%200%3B%20background-color%3A%20black%3B%20color%3A%20white%3B%27%3E%3Ch4%20style%3D%27text-align%3Acenter%3Bfont-weight%3A%20bold%27%3EChina%3C/h4%3E%3Chr%20style%3D%27margin%3A10px%3Bcolor%3A%20white%3B%27%3E%3Cul%20style%3D%27color%3A%20white%3B%3Blist-style-type%3Acircle%3Balign-item%3Aleft%3Bpadding-left%3A20px%3Bpadding-right%3A20px%27%3E%3Cli%3EConfirmed%3A%20802%3C/li%3E%3C/ul%3E%3C/div%3E%0A%20%20%20%20%20%20%20%20%20%20%20%20%20%20%20%20%20%3C/div%3E%60%2C%0A%20%20%20%20%20%20%20%20%20%20%20%20%20%20%20%20%7B%22sticky%22%3A%20true%7D%0A%20%20%20%20%20%20%20%20%20%20%20%20%29%3B%0A%20%20%20%20%20%20%20%20%0A%20%20%20%20%0A%20%20%20%20%20%20%20%20%20%20%20%20var%20circle_2e5770f7bba64a5088467ef26af35f95%20%3D%20L.circle%28%0A%20%20%20%20%20%20%20%20%20%20%20%20%20%20%20%20%5B22.1667%2C%20113.55%5D%2C%0A%20%20%20%20%20%20%20%20%20%20%20%20%20%20%20%20%7B%22bubblingMouseEvents%22%3A%20true%2C%20%22color%22%3A%20%22red%22%2C%20%22dashArray%22%3A%20null%2C%20%22dashOffset%22%3A%20null%2C%20%22fill%22%3A%20true%2C%20%22fillColor%22%3A%20%22indigo%22%2C%20%22fillOpacity%22%3A%200.2%2C%20%22fillRule%22%3A%20%22evenodd%22%2C%20%22lineCap%22%3A%20%22round%22%2C%20%22lineJoin%22%3A%20%22round%22%2C%20%22opacity%22%3A%201.0%2C%20%22radius%22%3A%2042000.0%2C%20%22stroke%22%3A%20true%2C%20%22weight%22%3A%203%7D%0A%20%20%20%20%20%20%20%20%20%20%20%20%29.addTo%28map_eb660f0cadf14412ab360cc7dee84180%29%3B%0A%20%20%20%20%20%20%20%20%0A%20%20%20%20%0A%20%20%20%20%20%20%20%20%20%20%20%20circle_2e5770f7bba64a5088467ef26af35f95.bindTooltip%28%0A%20%20%20%20%20%20%20%20%20%20%20%20%20%20%20%20%60%3Cdiv%3E%0A%20%20%20%20%20%20%20%20%20%20%20%20%20%20%20%20%20%20%20%20%20%3Cdiv%20style%3D%27margin%3A%200%3B%20background-color%3A%20black%3B%20color%3A%20white%3B%27%3E%3Ch4%20style%3D%27text-align%3Acenter%3Bfont-weight%3A%20bold%27%3EChina%3C/h4%3E%3Chr%20style%3D%27margin%3A10px%3Bcolor%3A%20white%3B%27%3E%3Cul%20style%3D%27color%3A%20white%3B%3Blist-style-type%3Acircle%3Balign-item%3Aleft%3Bpadding-left%3A20px%3Bpadding-right%3A20px%27%3E%3Cli%3EConfirmed%3A%2079%3C/li%3E%3C/ul%3E%3C/div%3E%0A%20%20%20%20%20%20%20%20%20%20%20%20%20%20%20%20%20%3C/div%3E%60%2C%0A%20%20%20%20%20%20%20%20%20%20%20%20%20%20%20%20%7B%22sticky%22%3A%20true%7D%0A%20%20%20%20%20%20%20%20%20%20%20%20%29%3B%0A%20%20%20%20%20%20%20%20%0A%20%20%20%20%0A%20%20%20%20%20%20%20%20%20%20%20%20var%20circle_dc9d2b6ac739460bbd49e5817f796999%20%3D%20L.circle%28%0A%20%20%20%20%20%20%20%20%20%20%20%20%20%20%20%20%5B37.2692%2C%20106.1655%5D%2C%0A%20%20%20%20%20%20%20%20%20%20%20%20%20%20%20%20%7B%22bubblingMouseEvents%22%3A%20true%2C%20%22color%22%3A%20%22red%22%2C%20%22dashArray%22%3A%20null%2C%20%22dashOffset%22%3A%20null%2C%20%22fill%22%3A%20true%2C%20%22fillColor%22%3A%20%22indigo%22%2C%20%22fillOpacity%22%3A%200.2%2C%20%22fillRule%22%3A%20%22evenodd%22%2C%20%22lineCap%22%3A%20%22round%22%2C%20%22lineJoin%22%3A%20%22round%22%2C%20%22opacity%22%3A%201.0%2C%20%22radius%22%3A%2042000.0%2C%20%22stroke%22%3A%20true%2C%20%22weight%22%3A%203%7D%0A%20%20%20%20%20%20%20%20%20%20%20%20%29.addTo%28map_eb660f0cadf14412ab360cc7dee84180%29%3B%0A%20%20%20%20%20%20%20%20%0A%20%20%20%20%0A%20%20%20%20%20%20%20%20%20%20%20%20circle_dc9d2b6ac739460bbd49e5817f796999.bindTooltip%28%0A%20%20%20%20%20%20%20%20%20%20%20%20%20%20%20%20%60%3Cdiv%3E%0A%20%20%20%20%20%20%20%20%20%20%20%20%20%20%20%20%20%20%20%20%20%3Cdiv%20style%3D%27margin%3A%200%3B%20background-color%3A%20black%3B%20color%3A%20white%3B%27%3E%3Ch4%20style%3D%27text-align%3Acenter%3Bfont-weight%3A%20bold%27%3EChina%3C/h4%3E%3Chr%20style%3D%27margin%3A10px%3Bcolor%3A%20white%3B%27%3E%3Cul%20style%3D%27color%3A%20white%3B%3Blist-style-type%3Acircle%3Balign-item%3Aleft%3Bpadding-left%3A20px%3Bpadding-right%3A20px%27%3E%3Cli%3EConfirmed%3A%20122%3C/li%3E%3C/ul%3E%3C/div%3E%0A%20%20%20%20%20%20%20%20%20%20%20%20%20%20%20%20%20%3C/div%3E%60%2C%0A%20%20%20%20%20%20%20%20%20%20%20%20%20%20%20%20%7B%22sticky%22%3A%20true%7D%0A%20%20%20%20%20%20%20%20%20%20%20%20%29%3B%0A%20%20%20%20%20%20%20%20%0A%20%20%20%20%0A%20%20%20%20%20%20%20%20%20%20%20%20var%20circle_f9fc40d511b34e328ca022b6cc65c5b9%20%3D%20L.circle%28%0A%20%20%20%20%20%20%20%20%20%20%20%20%20%20%20%20%5B35.7452%2C%2095.9956%5D%2C%0A%20%20%20%20%20%20%20%20%20%20%20%20%20%20%20%20%7B%22bubblingMouseEvents%22%3A%20true%2C%20%22color%22%3A%20%22red%22%2C%20%22dashArray%22%3A%20null%2C%20%22dashOffset%22%3A%20null%2C%20%22fill%22%3A%20true%2C%20%22fillColor%22%3A%20%22indigo%22%2C%20%22fillOpacity%22%3A%200.2%2C%20%22fillRule%22%3A%20%22evenodd%22%2C%20%22lineCap%22%3A%20%22round%22%2C%20%22lineJoin%22%3A%20%22round%22%2C%20%22opacity%22%3A%201.0%2C%20%22radius%22%3A%2032000.0%2C%20%22stroke%22%3A%20true%2C%20%22weight%22%3A%203%7D%0A%20%20%20%20%20%20%20%20%20%20%20%20%29.addTo%28map_eb660f0cadf14412ab360cc7dee84180%29%3B%0A%20%20%20%20%20%20%20%20%0A%20%20%20%20%0A%20%20%20%20%20%20%20%20%20%20%20%20circle_f9fc40d511b34e328ca022b6cc65c5b9.bindTooltip%28%0A%20%20%20%20%20%20%20%20%20%20%20%20%20%20%20%20%60%3Cdiv%3E%0A%20%20%20%20%20%20%20%20%20%20%20%20%20%20%20%20%20%20%20%20%20%3Cdiv%20style%3D%27margin%3A%200%3B%20background-color%3A%20black%3B%20color%3A%20white%3B%27%3E%3Ch4%20style%3D%27text-align%3Acenter%3Bfont-weight%3A%20bold%27%3EChina%3C/h4%3E%3Chr%20style%3D%27margin%3A10px%3Bcolor%3A%20white%3B%27%3E%3Cul%20style%3D%27color%3A%20white%3B%3Blist-style-type%3Acircle%3Balign-item%3Aleft%3Bpadding-left%3A20px%3Bpadding-right%3A20px%27%3E%3Cli%3EConfirmed%3A%2030%3C/li%3E%3C/ul%3E%3C/div%3E%0A%20%20%20%20%20%20%20%20%20%20%20%20%20%20%20%20%20%3C/div%3E%60%2C%0A%20%20%20%20%20%20%20%20%20%20%20%20%20%20%20%20%7B%22sticky%22%3A%20true%7D%0A%20%20%20%20%20%20%20%20%20%20%20%20%29%3B%0A%20%20%20%20%20%20%20%20%0A%20%20%20%20%0A%20%20%20%20%20%20%20%20%20%20%20%20var%20circle_f240311f8ce54158bd4c7de54455f7a3%20%3D%20L.circle%28%0A%20%20%20%20%20%20%20%20%20%20%20%20%20%20%20%20%5B35.1917%2C%20108.8701%5D%2C%0A%20%20%20%20%20%20%20%20%20%20%20%20%20%20%20%20%7B%22bubblingMouseEvents%22%3A%20true%2C%20%22color%22%3A%20%22red%22%2C%20%22dashArray%22%3A%20null%2C%20%22dashOffset%22%3A%20null%2C%20%22fill%22%3A%20true%2C%20%22fillColor%22%3A%20%22indigo%22%2C%20%22fillOpacity%22%3A%200.2%2C%20%22fillRule%22%3A%20%22evenodd%22%2C%20%22lineCap%22%3A%20%22round%22%2C%20%22lineJoin%22%3A%20%22round%22%2C%20%22opacity%22%3A%201.0%2C%20%22radius%22%3A%2072000.0%2C%20%22stroke%22%3A%20true%2C%20%22weight%22%3A%203%7D%0A%20%20%20%20%20%20%20%20%20%20%20%20%29.addTo%28map_eb660f0cadf14412ab360cc7dee84180%29%3B%0A%20%20%20%20%20%20%20%20%0A%20%20%20%20%0A%20%20%20%20%20%20%20%20%20%20%20%20circle_f240311f8ce54158bd4c7de54455f7a3.bindTooltip%28%0A%20%20%20%20%20%20%20%20%20%20%20%20%20%20%20%20%60%3Cdiv%3E%0A%20%20%20%20%20%20%20%20%20%20%20%20%20%20%20%20%20%20%20%20%20%3Cdiv%20style%3D%27margin%3A%200%3B%20background-color%3A%20black%3B%20color%3A%20white%3B%27%3E%3Ch4%20style%3D%27text-align%3Acenter%3Bfont-weight%3A%20bold%27%3EChina%3C/h4%3E%3Chr%20style%3D%27margin%3A10px%3Bcolor%3A%20white%3B%27%3E%3Cul%20style%3D%27color%3A%20white%3B%3Blist-style-type%3Acircle%3Balign-item%3Aleft%3Bpadding-left%3A20px%3Bpadding-right%3A20px%27%3E%3Cli%3EConfirmed%3A%202777%3C/li%3E%3C/ul%3E%3C/div%3E%0A%20%20%20%20%20%20%20%20%20%20%20%20%20%20%20%20%20%3C/div%3E%60%2C%0A%20%20%20%20%20%20%20%20%20%20%20%20%20%20%20%20%7B%22sticky%22%3A%20true%7D%0A%20%20%20%20%20%20%20%20%20%20%20%20%29%3B%0A%20%20%20%20%20%20%20%20%0A%20%20%20%20%0A%20%20%20%20%20%20%20%20%20%20%20%20var%20circle_de31df17b22f417489be89a850935ce5%20%3D%20L.circle%28%0A%20%20%20%20%20%20%20%20%20%20%20%20%20%20%20%20%5B36.3427%2C%20118.1498%5D%2C%0A%20%20%20%20%20%20%20%20%20%20%20%20%20%20%20%20%7B%22bubblingMouseEvents%22%3A%20true%2C%20%22color%22%3A%20%22red%22%2C%20%22dashArray%22%3A%20null%2C%20%22dashOffset%22%3A%20null%2C%20%22fill%22%3A%20true%2C%20%22fillColor%22%3A%20%22indigo%22%2C%20%22fillOpacity%22%3A%200.2%2C%20%22fillRule%22%3A%20%22evenodd%22%2C%20%22lineCap%22%3A%20%22round%22%2C%20%22lineJoin%22%3A%20%22round%22%2C%20%22opacity%22%3A%201.0%2C%20%22radius%22%3A%2062000.0%2C%20%22stroke%22%3A%20true%2C%20%22weight%22%3A%203%7D%0A%20%20%20%20%20%20%20%20%20%20%20%20%29.addTo%28map_eb660f0cadf14412ab360cc7dee84180%29%3B%0A%20%20%20%20%20%20%20%20%0A%20%20%20%20%0A%20%20%20%20%20%20%20%20%20%20%20%20circle_de31df17b22f417489be89a850935ce5.bindTooltip%28%0A%20%20%20%20%20%20%20%20%20%20%20%20%20%20%20%20%60%3Cdiv%3E%0A%20%20%20%20%20%20%20%20%20%20%20%20%20%20%20%20%20%20%20%20%20%3Cdiv%20style%3D%27margin%3A%200%3B%20background-color%3A%20black%3B%20color%3A%20white%3B%27%3E%3Ch4%20style%3D%27text-align%3Acenter%3Bfont-weight%3A%20bold%27%3EChina%3C/h4%3E%3Chr%20style%3D%27margin%3A10px%3Bcolor%3A%20white%3B%27%3E%3Cul%20style%3D%27color%3A%20white%3B%3Blist-style-type%3Acircle%3Balign-item%3Aleft%3Bpadding-left%3A20px%3Bpadding-right%3A20px%27%3E%3Cli%3EConfirmed%3A%201050%3C/li%3E%3C/ul%3E%3C/div%3E%0A%20%20%20%20%20%20%20%20%20%20%20%20%20%20%20%20%20%3C/div%3E%60%2C%0A%20%20%20%20%20%20%20%20%20%20%20%20%20%20%20%20%7B%22sticky%22%3A%20true%7D%0A%20%20%20%20%20%20%20%20%20%20%20%20%29%3B%0A%20%20%20%20%20%20%20%20%0A%20%20%20%20%0A%20%20%20%20%20%20%20%20%20%20%20%20var%20circle_2ed48066ec9d43cd9d89505522f2ff30%20%3D%20L.circle%28%0A%20%20%20%20%20%20%20%20%20%20%20%20%20%20%20%20%5B31.202%2C%20121.4491%5D%2C%0A%20%20%20%20%20%20%20%20%20%20%20%20%20%20%20%20%7B%22bubblingMouseEvents%22%3A%20true%2C%20%22color%22%3A%20%22red%22%2C%20%22dashArray%22%3A%20null%2C%20%22dashOffset%22%3A%20null%2C%20%22fill%22%3A%20true%2C%20%22fillColor%22%3A%20%22indigo%22%2C%20%22fillOpacity%22%3A%200.2%2C%20%22fillRule%22%3A%20%22evenodd%22%2C%20%22lineCap%22%3A%20%22round%22%2C%20%22lineJoin%22%3A%20%22round%22%2C%20%22opacity%22%3A%201.0%2C%20%22radius%22%3A%2082000.0%2C%20%22stroke%22%3A%20true%2C%20%22weight%22%3A%203%7D%0A%20%20%20%20%20%20%20%20%20%20%20%20%29.addTo%28map_eb660f0cadf14412ab360cc7dee84180%29%3B%0A%20%20%20%20%20%20%20%20%0A%20%20%20%20%0A%20%20%20%20%20%20%20%20%20%20%20%20circle_2ed48066ec9d43cd9d89505522f2ff30.bindTooltip%28%0A%20%20%20%20%20%20%20%20%20%20%20%20%20%20%20%20%60%3Cdiv%3E%0A%20%20%20%20%20%20%20%20%20%20%20%20%20%20%20%20%20%20%20%20%20%3Cdiv%20style%3D%27margin%3A%200%3B%20background-color%3A%20black%3B%20color%3A%20white%3B%27%3E%3Ch4%20style%3D%27text-align%3Acenter%3Bfont-weight%3A%20bold%27%3EChina%3C/h4%3E%3Chr%20style%3D%27margin%3A10px%3Bcolor%3A%20white%3B%27%3E%3Cul%20style%3D%27color%3A%20white%3B%3Blist-style-type%3Acircle%3Balign-item%3Aleft%3Bpadding-left%3A20px%3Bpadding-right%3A20px%27%3E%3Cli%3EConfirmed%3A%203325%3C/li%3E%3C/ul%3E%3C/div%3E%0A%20%20%20%20%20%20%20%20%20%20%20%20%20%20%20%20%20%3C/div%3E%60%2C%0A%20%20%20%20%20%20%20%20%20%20%20%20%20%20%20%20%7B%22sticky%22%3A%20true%7D%0A%20%20%20%20%20%20%20%20%20%20%20%20%29%3B%0A%20%20%20%20%20%20%20%20%0A%20%20%20%20%0A%20%20%20%20%20%20%20%20%20%20%20%20var%20circle_733fd68cb2814e1eb34f1e3cefeb3716%20%3D%20L.circle%28%0A%20%20%20%20%20%20%20%20%20%20%20%20%20%20%20%20%5B37.5777%2C%20112.2922%5D%2C%0A%20%20%20%20%20%20%20%20%20%20%20%20%20%20%20%20%7B%22bubblingMouseEvents%22%3A%20true%2C%20%22color%22%3A%20%22red%22%2C%20%22dashArray%22%3A%20null%2C%20%22dashOffset%22%3A%20null%2C%20%22fill%22%3A%20true%2C%20%22fillColor%22%3A%20%22indigo%22%2C%20%22fillOpacity%22%3A%200.2%2C%20%22fillRule%22%3A%20%22evenodd%22%2C%20%22lineCap%22%3A%20%22round%22%2C%20%22lineJoin%22%3A%20%22round%22%2C%20%22opacity%22%3A%201.0%2C%20%22radius%22%3A%2052000.0%2C%20%22stroke%22%3A%20true%2C%20%22weight%22%3A%203%7D%0A%20%20%20%20%20%20%20%20%20%20%20%20%29.addTo%28map_eb660f0cadf14412ab360cc7dee84180%29%3B%0A%20%20%20%20%20%20%20%20%0A%20%20%20%20%0A%20%20%20%20%20%20%20%20%20%20%20%20circle_733fd68cb2814e1eb34f1e3cefeb3716.bindTooltip%28%0A%20%20%20%20%20%20%20%20%20%20%20%20%20%20%20%20%60%3Cdiv%3E%0A%20%20%20%20%20%20%20%20%20%20%20%20%20%20%20%20%20%20%20%20%20%3Cdiv%20style%3D%27margin%3A%200%3B%20background-color%3A%20black%3B%20color%3A%20white%3B%27%3E%3Ch4%20style%3D%27text-align%3Acenter%3Bfont-weight%3A%20bold%27%3EChina%3C/h4%3E%3Chr%20style%3D%27margin%3A10px%3Bcolor%3A%20white%3B%27%3E%3Cul%20style%3D%27color%3A%20white%3B%3Blist-style-type%3Acircle%3Balign-item%3Aleft%3Bpadding-left%3A20px%3Bpadding-right%3A20px%27%3E%3Cli%3EConfirmed%3A%20266%3C/li%3E%3C/ul%3E%3C/div%3E%0A%20%20%20%20%20%20%20%20%20%20%20%20%20%20%20%20%20%3C/div%3E%60%2C%0A%20%20%20%20%20%20%20%20%20%20%20%20%20%20%20%20%7B%22sticky%22%3A%20true%7D%0A%20%20%20%20%20%20%20%20%20%20%20%20%29%3B%0A%20%20%20%20%20%20%20%20%0A%20%20%20%20%0A%20%20%20%20%20%20%20%20%20%20%20%20var%20circle_21f61612df6f49dea0159477d9a20331%20%3D%20L.circle%28%0A%20%20%20%20%20%20%20%20%20%20%20%20%20%20%20%20%5B30.6171%2C%20102.7103%5D%2C%0A%20%20%20%20%20%20%20%20%20%20%20%20%20%20%20%20%7B%22bubblingMouseEvents%22%3A%20true%2C%20%22color%22%3A%20%22red%22%2C%20%22dashArray%22%3A%20null%2C%20%22dashOffset%22%3A%20null%2C%20%22fill%22%3A%20true%2C%20%22fillColor%22%3A%20%22indigo%22%2C%20%22fillOpacity%22%3A%200.2%2C%20%22fillRule%22%3A%20%22evenodd%22%2C%20%22lineCap%22%3A%20%22round%22%2C%20%22lineJoin%22%3A%20%22round%22%2C%20%22opacity%22%3A%201.0%2C%20%22radius%22%3A%2072000.0%2C%20%22stroke%22%3A%20true%2C%20%22weight%22%3A%203%7D%0A%20%20%20%20%20%20%20%20%20%20%20%20%29.addTo%28map_eb660f0cadf14412ab360cc7dee84180%29%3B%0A%20%20%20%20%20%20%20%20%0A%20%20%20%20%0A%20%20%20%20%20%20%20%20%20%20%20%20circle_21f61612df6f49dea0159477d9a20331.bindTooltip%28%0A%20%20%20%20%20%20%20%20%20%20%20%20%20%20%20%20%60%3Cdiv%3E%0A%20%20%20%20%20%20%20%20%20%20%20%20%20%20%20%20%20%20%20%20%20%3Cdiv%20style%3D%27margin%3A%200%3B%20background-color%3A%20black%3B%20color%3A%20white%3B%27%3E%3Ch4%20style%3D%27text-align%3Acenter%3Bfont-weight%3A%20bold%27%3EChina%3C/h4%3E%3Chr%20style%3D%27margin%3A10px%3Bcolor%3A%20white%3B%27%3E%3Cul%20style%3D%27color%3A%20white%3B%3Blist-style-type%3Acircle%3Balign-item%3Aleft%3Bpadding-left%3A20px%3Bpadding-right%3A20px%27%3E%3Cli%3EConfirmed%3A%201342%3C/li%3E%3C/ul%3E%3C/div%3E%0A%20%20%20%20%20%20%20%20%20%20%20%20%20%20%20%20%20%3C/div%3E%60%2C%0A%20%20%20%20%20%20%20%20%20%20%20%20%20%20%20%20%7B%22sticky%22%3A%20true%7D%0A%20%20%20%20%20%20%20%20%20%20%20%20%29%3B%0A%20%20%20%20%20%20%20%20%0A%20%20%20%20%0A%20%20%20%20%20%20%20%20%20%20%20%20var%20circle_59b8b53f0c954b4d8ea2677581da60e9%20%3D%20L.circle%28%0A%20%20%20%20%20%20%20%20%20%20%20%20%20%20%20%20%5B39.3054%2C%20117.323%5D%2C%0A%20%20%20%20%20%20%20%20%20%20%20%20%20%20%20%20%7B%22bubblingMouseEvents%22%3A%20true%2C%20%22color%22%3A%20%22red%22%2C%20%22dashArray%22%3A%20null%2C%20%22dashOffset%22%3A%20null%2C%20%22fill%22%3A%20true%2C%20%22fillColor%22%3A%20%22indigo%22%2C%20%22fillOpacity%22%3A%200.2%2C%20%22fillRule%22%3A%20%22evenodd%22%2C%20%22lineCap%22%3A%20%22round%22%2C%20%22lineJoin%22%3A%20%22round%22%2C%20%22opacity%22%3A%201.0%2C%20%22radius%22%3A%2062000.0%2C%20%22stroke%22%3A%20true%2C%20%22weight%22%3A%203%7D%0A%20%20%20%20%20%20%20%20%20%20%20%20%29.addTo%28map_eb660f0cadf14412ab360cc7dee84180%29%3B%0A%20%20%20%20%20%20%20%20%0A%20%20%20%20%0A%20%20%20%20%20%20%20%20%20%20%20%20circle_59b8b53f0c954b4d8ea2677581da60e9.bindTooltip%28%0A%20%20%20%20%20%20%20%20%20%20%20%20%20%20%20%20%60%3Cdiv%3E%0A%20%20%20%20%20%20%20%20%20%20%20%20%20%20%20%20%20%20%20%20%20%3Cdiv%20style%3D%27margin%3A%200%3B%20background-color%3A%20black%3B%20color%3A%20white%3B%27%3E%3Ch4%20style%3D%27text-align%3Acenter%3Bfont-weight%3A%20bold%27%3EChina%3C/h4%3E%3Chr%20style%3D%27margin%3A10px%3Bcolor%3A%20white%3B%27%3E%3Cul%20style%3D%27color%3A%20white%3B%3Blist-style-type%3Acircle%3Balign-item%3Aleft%3Bpadding-left%3A20px%3Bpadding-right%3A20px%27%3E%3Cli%3EConfirmed%3A%20650%3C/li%3E%3C/ul%3E%3C/div%3E%0A%20%20%20%20%20%20%20%20%20%20%20%20%20%20%20%20%20%3C/div%3E%60%2C%0A%20%20%20%20%20%20%20%20%20%20%20%20%20%20%20%20%7B%22sticky%22%3A%20true%7D%0A%20%20%20%20%20%20%20%20%20%20%20%20%29%3B%0A%20%20%20%20%20%20%20%20%0A%20%20%20%20%0A%20%20%20%20%20%20%20%20%20%20%20%20var%20circle_d0493924e540434fb72217f6252560db%20%3D%20L.circle%28%0A%20%20%20%20%20%20%20%20%20%20%20%20%20%20%20%20%5B31.6927%2C%2088.0924%5D%2C%0A%20%20%20%20%20%20%20%20%20%20%20%20%20%20%20%20%7B%22bubblingMouseEvents%22%3A%20true%2C%20%22color%22%3A%20%22red%22%2C%20%22dashArray%22%3A%20null%2C%20%22dashOffset%22%3A%20null%2C%20%22fill%22%3A%20true%2C%20%22fillColor%22%3A%20%22indigo%22%2C%20%22fillOpacity%22%3A%200.2%2C%20%22fillRule%22%3A%20%22evenodd%22%2C%20%22lineCap%22%3A%20%22round%22%2C%20%22lineJoin%22%3A%20%22round%22%2C%20%22opacity%22%3A%201.0%2C%20%22radius%22%3A%202000.0%2C%20%22stroke%22%3A%20true%2C%20%22weight%22%3A%203%7D%0A%20%20%20%20%20%20%20%20%20%20%20%20%29.addTo%28map_eb660f0cadf14412ab360cc7dee84180%29%3B%0A%20%20%20%20%20%20%20%20%0A%20%20%20%20%0A%20%20%20%20%20%20%20%20%20%20%20%20circle_d0493924e540434fb72217f6252560db.bindTooltip%28%0A%20%20%20%20%20%20%20%20%20%20%20%20%20%20%20%20%60%3Cdiv%3E%0A%20%20%20%20%20%20%20%20%20%20%20%20%20%20%20%20%20%20%20%20%20%3Cdiv%20style%3D%27margin%3A%200%3B%20background-color%3A%20black%3B%20color%3A%20white%3B%27%3E%3Ch4%20style%3D%27text-align%3Acenter%3Bfont-weight%3A%20bold%27%3EChina%3C/h4%3E%3Chr%20style%3D%27margin%3A10px%3Bcolor%3A%20white%3B%27%3E%3Cul%20style%3D%27color%3A%20white%3B%3Blist-style-type%3Acircle%3Balign-item%3Aleft%3Bpadding-left%3A20px%3Bpadding-right%3A20px%27%3E%3Cli%3EConfirmed%3A%201%3C/li%3E%3C/ul%3E%3C/div%3E%0A%20%20%20%20%20%20%20%20%20%20%20%20%20%20%20%20%20%3C/div%3E%60%2C%0A%20%20%20%20%20%20%20%20%20%20%20%20%20%20%20%20%7B%22sticky%22%3A%20true%7D%0A%20%20%20%20%20%20%20%20%20%20%20%20%29%3B%0A%20%20%20%20%20%20%20%20%0A%20%20%20%20%0A%20%20%20%20%20%20%20%20%20%20%20%20var%20circle_9cbcdd49247643e5af78e03f7523c768%20%3D%20L.circle%28%0A%20%20%20%20%20%20%20%20%20%20%20%20%20%20%20%20%5B0.0%2C%200.0%5D%2C%0A%20%20%20%20%20%20%20%20%20%20%20%20%20%20%20%20%7B%22bubblingMouseEvents%22%3A%20true%2C%20%22color%22%3A%20%22red%22%2C%20%22dashArray%22%3A%20null%2C%20%22dashOffset%22%3A%20null%2C%20%22fill%22%3A%20true%2C%20%22fillColor%22%3A%20%22indigo%22%2C%20%22fillOpacity%22%3A%200.2%2C%20%22fillRule%22%3A%20%22evenodd%22%2C%20%22lineCap%22%3A%20%22round%22%2C%20%22lineJoin%22%3A%20%22round%22%2C%20%22opacity%22%3A%201.0%2C%20%22radius%22%3A%202000.0%2C%20%22stroke%22%3A%20true%2C%20%22weight%22%3A%203%7D%0A%20%20%20%20%20%20%20%20%20%20%20%20%29.addTo%28map_eb660f0cadf14412ab360cc7dee84180%29%3B%0A%20%20%20%20%20%20%20%20%0A%20%20%20%20%0A%20%20%20%20%20%20%20%20%20%20%20%20circle_9cbcdd49247643e5af78e03f7523c768.bindTooltip%28%0A%20%20%20%20%20%20%20%20%20%20%20%20%20%20%20%20%60%3Cdiv%3E%0A%20%20%20%20%20%20%20%20%20%20%20%20%20%20%20%20%20%20%20%20%20%3Cdiv%20style%3D%27margin%3A%200%3B%20background-color%3A%20black%3B%20color%3A%20white%3B%27%3E%3Ch4%20style%3D%27text-align%3Acenter%3Bfont-weight%3A%20bold%27%3EChina%3C/h4%3E%3Chr%20style%3D%27margin%3A10px%3Bcolor%3A%20white%3B%27%3E%3Cul%20style%3D%27color%3A%20white%3B%3Blist-style-type%3Acircle%3Balign-item%3Aleft%3Bpadding-left%3A20px%3Bpadding-right%3A20px%27%3E%3Cli%3EConfirmed%3A%200%3C/li%3E%3C/ul%3E%3C/div%3E%0A%20%20%20%20%20%20%20%20%20%20%20%20%20%20%20%20%20%3C/div%3E%60%2C%0A%20%20%20%20%20%20%20%20%20%20%20%20%20%20%20%20%7B%22sticky%22%3A%20true%7D%0A%20%20%20%20%20%20%20%20%20%20%20%20%29%3B%0A%20%20%20%20%20%20%20%20%0A%20%20%20%20%0A%20%20%20%20%20%20%20%20%20%20%20%20var%20circle_ff49d2a9d2554f9683e77da0c34fb383%20%3D%20L.circle%28%0A%20%20%20%20%20%20%20%20%20%20%20%20%20%20%20%20%5B41.1129%2C%2085.2401%5D%2C%0A%20%20%20%20%20%20%20%20%20%20%20%20%20%20%20%20%7B%22bubblingMouseEvents%22%3A%20true%2C%20%22color%22%3A%20%22red%22%2C%20%22dashArray%22%3A%20null%2C%20%22dashOffset%22%3A%20null%2C%20%22fill%22%3A%20true%2C%20%22fillColor%22%3A%20%22indigo%22%2C%20%22fillOpacity%22%3A%200.2%2C%20%22fillRule%22%3A%20%22evenodd%22%2C%20%22lineCap%22%3A%20%22round%22%2C%20%22lineJoin%22%3A%20%22round%22%2C%20%22opacity%22%3A%201.0%2C%20%22radius%22%3A%2062000.0%2C%20%22stroke%22%3A%20true%2C%20%22weight%22%3A%203%7D%0A%20%20%20%20%20%20%20%20%20%20%20%20%29.addTo%28map_eb660f0cadf14412ab360cc7dee84180%29%3B%0A%20%20%20%20%20%20%20%20%0A%20%20%20%20%0A%20%20%20%20%20%20%20%20%20%20%20%20circle_ff49d2a9d2554f9683e77da0c34fb383.bindTooltip%28%0A%20%20%20%20%20%20%20%20%20%20%20%20%20%20%20%20%60%3Cdiv%3E%0A%20%20%20%20%20%20%20%20%20%20%20%20%20%20%20%20%20%20%20%20%20%3Cdiv%20style%3D%27margin%3A%200%3B%20background-color%3A%20black%3B%20color%3A%20white%3B%27%3E%3Ch4%20style%3D%27text-align%3Acenter%3Bfont-weight%3A%20bold%27%3EChina%3C/h4%3E%3Chr%20style%3D%27margin%3A10px%3Bcolor%3A%20white%3B%27%3E%3Cul%20style%3D%27color%3A%20white%3B%3Blist-style-type%3Acircle%3Balign-item%3Aleft%3Bpadding-left%3A20px%3Bpadding-right%3A20px%27%3E%3Cli%3EConfirmed%3A%20981%3C/li%3E%3C/ul%3E%3C/div%3E%0A%20%20%20%20%20%20%20%20%20%20%20%20%20%20%20%20%20%3C/div%3E%60%2C%0A%20%20%20%20%20%20%20%20%20%20%20%20%20%20%20%20%7B%22sticky%22%3A%20true%7D%0A%20%20%20%20%20%20%20%20%20%20%20%20%29%3B%0A%20%20%20%20%20%20%20%20%0A%20%20%20%20%0A%20%20%20%20%20%20%20%20%20%20%20%20var%20circle_d906a55973f1497b9538226d16cfa7f9%20%3D%20L.circle%28%0A%20%20%20%20%20%20%20%20%20%20%20%20%20%20%20%20%5B24.974%2C%20101.487%5D%2C%0A%20%20%20%20%20%20%20%20%20%20%20%20%20%20%20%20%7B%22bubblingMouseEvents%22%3A%20true%2C%20%22color%22%3A%20%22red%22%2C%20%22dashArray%22%3A%20null%2C%20%22dashOffset%22%3A%20null%2C%20%22fill%22%3A%20true%2C%20%22fillColor%22%3A%20%22indigo%22%2C%20%22fillOpacity%22%3A%200.2%2C%20%22fillRule%22%3A%20%22evenodd%22%2C%20%22lineCap%22%3A%20%22round%22%2C%20%22lineJoin%22%3A%20%22round%22%2C%20%22opacity%22%3A%201.0%2C%20%22radius%22%3A%2072000.0%2C%20%22stroke%22%3A%20true%2C%20%22weight%22%3A%203%7D%0A%20%20%20%20%20%20%20%20%20%20%20%20%29.addTo%28map_eb660f0cadf14412ab360cc7dee84180%29%3B%0A%20%20%20%20%20%20%20%20%0A%20%20%20%20%0A%20%20%20%20%20%20%20%20%20%20%20%20circle_d906a55973f1497b9538226d16cfa7f9.bindTooltip%28%0A%20%20%20%20%20%20%20%20%20%20%20%20%20%20%20%20%60%3Cdiv%3E%0A%20%20%20%20%20%20%20%20%20%20%20%20%20%20%20%20%20%20%20%20%20%3Cdiv%20style%3D%27margin%3A%200%3B%20background-color%3A%20black%3B%20color%3A%20white%3B%27%3E%3Ch4%20style%3D%27text-align%3Acenter%3Bfont-weight%3A%20bold%27%3EChina%3C/h4%3E%3Chr%20style%3D%27margin%3A10px%3Bcolor%3A%20white%3B%27%3E%3Cul%20style%3D%27color%3A%20white%3B%3Blist-style-type%3Acircle%3Balign-item%3Aleft%3Bpadding-left%3A20px%3Bpadding-right%3A20px%27%3E%3Cli%3EConfirmed%3A%201836%3C/li%3E%3C/ul%3E%3C/div%3E%0A%20%20%20%20%20%20%20%20%20%20%20%20%20%20%20%20%20%3C/div%3E%60%2C%0A%20%20%20%20%20%20%20%20%20%20%20%20%20%20%20%20%7B%22sticky%22%3A%20true%7D%0A%20%20%20%20%20%20%20%20%20%20%20%20%29%3B%0A%20%20%20%20%20%20%20%20%0A%20%20%20%20%0A%20%20%20%20%20%20%20%20%20%20%20%20var%20circle_47566f5c9d5546358e9a15367682d3b7%20%3D%20L.circle%28%0A%20%20%20%20%20%20%20%20%20%20%20%20%20%20%20%20%5B29.1832%2C%20120.0934%5D%2C%0A%20%20%20%20%20%20%20%20%20%20%20%20%20%20%20%20%7B%22bubblingMouseEvents%22%3A%20true%2C%20%22color%22%3A%20%22red%22%2C%20%22dashArray%22%3A%20null%2C%20%22dashOffset%22%3A%20null%2C%20%22fill%22%3A%20true%2C%20%22fillColor%22%3A%20%22indigo%22%2C%20%22fillOpacity%22%3A%200.2%2C%20%22fillRule%22%3A%20%22evenodd%22%2C%20%22lineCap%22%3A%20%22round%22%2C%20%22lineJoin%22%3A%20%22round%22%2C%20%22opacity%22%3A%201.0%2C%20%22radius%22%3A%2072000.0%2C%20%22stroke%22%3A%20true%2C%20%22weight%22%3A%203%7D%0A%20%20%20%20%20%20%20%20%20%20%20%20%29.addTo%28map_eb660f0cadf14412ab360cc7dee84180%29%3B%0A%20%20%20%20%20%20%20%20%0A%20%20%20%20%0A%20%20%20%20%20%20%20%20%20%20%20%20circle_47566f5c9d5546358e9a15367682d3b7.bindTooltip%28%0A%20%20%20%20%20%20%20%20%20%20%20%20%20%20%20%20%60%3Cdiv%3E%0A%20%20%20%20%20%20%20%20%20%20%20%20%20%20%20%20%20%20%20%20%20%3Cdiv%20style%3D%27margin%3A%200%3B%20background-color%3A%20black%3B%20color%3A%20white%3B%27%3E%3Ch4%20style%3D%27text-align%3Acenter%3Bfont-weight%3A%20bold%27%3EChina%3C/h4%3E%3Chr%20style%3D%27margin%3A10px%3Bcolor%3A%20white%3B%27%3E%3Cul%20style%3D%27color%3A%20white%3B%3Blist-style-type%3Acircle%3Balign-item%3Aleft%3Bpadding-left%3A20px%3Bpadding-right%3A20px%27%3E%3Cli%3EConfirmed%3A%202078%3C/li%3E%3C/ul%3E%3C/div%3E%0A%20%20%20%20%20%20%20%20%20%20%20%20%20%20%20%20%20%3C/div%3E%60%2C%0A%20%20%20%20%20%20%20%20%20%20%20%20%20%20%20%20%7B%22sticky%22%3A%20true%7D%0A%20%20%20%20%20%20%20%20%20%20%20%20%29%3B%0A%20%20%20%20%20%20%20%20%0A%20%20%20%20%0A%20%20%20%20%20%20%20%20%20%20%20%20var%20circle_d83912d9d3784ffb8420feb7bc227d4b%20%3D%20L.circle%28%0A%20%20%20%20%20%20%20%20%20%20%20%20%20%20%20%20%5B4.5709%2C%20-74.2973%5D%2C%0A%20%20%20%20%20%20%20%20%20%20%20%20%20%20%20%20%7B%22bubblingMouseEvents%22%3A%20true%2C%20%22color%22%3A%20%22red%22%2C%20%22dashArray%22%3A%20null%2C%20%22dashOffset%22%3A%20null%2C%20%22fill%22%3A%20true%2C%20%22fillColor%22%3A%20%22indigo%22%2C%20%22fillOpacity%22%3A%200.2%2C%20%22fillRule%22%3A%20%22evenodd%22%2C%20%22lineCap%22%3A%20%22round%22%2C%20%22lineJoin%22%3A%20%22round%22%2C%20%22opacity%22%3A%201.0%2C%20%22radius%22%3A%20152000.0%2C%20%22stroke%22%3A%20true%2C%20%22weight%22%3A%203%7D%0A%20%20%20%20%20%20%20%20%20%20%20%20%29.addTo%28map_eb660f0cadf14412ab360cc7dee84180%29%3B%0A%20%20%20%20%20%20%20%20%0A%20%20%20%20%0A%20%20%20%20%20%20%20%20%20%20%20%20circle_d83912d9d3784ffb8420feb7bc227d4b.bindTooltip%28%0A%20%20%20%20%20%20%20%20%20%20%20%20%20%20%20%20%60%3Cdiv%3E%0A%20%20%20%20%20%20%20%20%20%20%20%20%20%20%20%20%20%20%20%20%20%3Cdiv%20style%3D%27margin%3A%200%3B%20background-color%3A%20black%3B%20color%3A%20white%3B%27%3E%3Ch4%20style%3D%27text-align%3Acenter%3Bfont-weight%3A%20bold%27%3EColombia%3C/h4%3E%3Chr%20style%3D%27margin%3A10px%3Bcolor%3A%20white%3B%27%3E%3Cul%20style%3D%27color%3A%20white%3B%3Blist-style-type%3Acircle%3Balign-item%3Aleft%3Bpadding-left%3A20px%3Bpadding-right%3A20px%27%3E%3Cli%3EConfirmed%3A%205330662%3C/li%3E%3C/ul%3E%3C/div%3E%0A%20%20%20%20%20%20%20%20%20%20%20%20%20%20%20%20%20%3C/div%3E%60%2C%0A%20%20%20%20%20%20%20%20%20%20%20%20%20%20%20%20%7B%22sticky%22%3A%20true%7D%0A%20%20%20%20%20%20%20%20%20%20%20%20%29%3B%0A%20%20%20%20%20%20%20%20%0A%20%20%20%20%0A%20%20%20%20%20%20%20%20%20%20%20%20var%20circle_d4e159d64ee64272ac0105356c799e00%20%3D%20L.circle%28%0A%20%20%20%20%20%20%20%20%20%20%20%20%20%20%20%20%5B-11.6455%2C%2043.3333%5D%2C%0A%20%20%20%20%20%20%20%20%20%20%20%20%20%20%20%20%7B%22bubblingMouseEvents%22%3A%20true%2C%20%22color%22%3A%20%22red%22%2C%20%22dashArray%22%3A%20null%2C%20%22dashOffset%22%3A%20null%2C%20%22fill%22%3A%20true%2C%20%22fillColor%22%3A%20%22indigo%22%2C%20%22fillOpacity%22%3A%200.2%2C%20%22fillRule%22%3A%20%22evenodd%22%2C%20%22lineCap%22%3A%20%22round%22%2C%20%22lineJoin%22%3A%20%22round%22%2C%20%22opacity%22%3A%201.0%2C%20%22radius%22%3A%2082000.0%2C%20%22stroke%22%3A%20true%2C%20%22weight%22%3A%203%7D%0A%20%20%20%20%20%20%20%20%20%20%20%20%29.addTo%28map_eb660f0cadf14412ab360cc7dee84180%29%3B%0A%20%20%20%20%20%20%20%20%0A%20%20%20%20%0A%20%20%20%20%20%20%20%20%20%20%20%20circle_d4e159d64ee64272ac0105356c799e00.bindTooltip%28%0A%20%20%20%20%20%20%20%20%20%20%20%20%20%20%20%20%60%3Cdiv%3E%0A%20%20%20%20%20%20%20%20%20%20%20%20%20%20%20%20%20%20%20%20%20%3Cdiv%20style%3D%27margin%3A%200%3B%20background-color%3A%20black%3B%20color%3A%20white%3B%27%3E%3Ch4%20style%3D%27text-align%3Acenter%3Bfont-weight%3A%20bold%27%3EComoros%3C/h4%3E%3Chr%20style%3D%27margin%3A10px%3Bcolor%3A%20white%3B%27%3E%3Cul%20style%3D%27color%3A%20white%3B%3Blist-style-type%3Acircle%3Balign-item%3Aleft%3Bpadding-left%3A20px%3Bpadding-right%3A20px%27%3E%3Cli%3EConfirmed%3A%207594%3C/li%3E%3C/ul%3E%3C/div%3E%0A%20%20%20%20%20%20%20%20%20%20%20%20%20%20%20%20%20%3C/div%3E%60%2C%0A%20%20%20%20%20%20%20%20%20%20%20%20%20%20%20%20%7B%22sticky%22%3A%20true%7D%0A%20%20%20%20%20%20%20%20%20%20%20%20%29%3B%0A%20%20%20%20%20%20%20%20%0A%20%20%20%20%0A%20%20%20%20%20%20%20%20%20%20%20%20var%20circle_607c2234f3a64ce2930e1f985a0021ef%20%3D%20L.circle%28%0A%20%20%20%20%20%20%20%20%20%20%20%20%20%20%20%20%5B-0.228%2C%2015.8277%5D%2C%0A%20%20%20%20%20%20%20%20%20%20%20%20%20%20%20%20%7B%22bubblingMouseEvents%22%3A%20true%2C%20%22color%22%3A%20%22red%22%2C%20%22dashArray%22%3A%20null%2C%20%22dashOffset%22%3A%20null%2C%20%22fill%22%3A%20true%2C%20%22fillColor%22%3A%20%22indigo%22%2C%20%22fillOpacity%22%3A%200.2%2C%20%22fillRule%22%3A%20%22evenodd%22%2C%20%22lineCap%22%3A%20%22round%22%2C%20%22lineJoin%22%3A%20%22round%22%2C%20%22opacity%22%3A%201.0%2C%20%22radius%22%3A%20102000.0%2C%20%22stroke%22%3A%20true%2C%20%22weight%22%3A%203%7D%0A%20%20%20%20%20%20%20%20%20%20%20%20%29.addTo%28map_eb660f0cadf14412ab360cc7dee84180%29%3B%0A%20%20%20%20%20%20%20%20%0A%20%20%20%20%0A%20%20%20%20%20%20%20%20%20%20%20%20circle_607c2234f3a64ce2930e1f985a0021ef.bindTooltip%28%0A%20%20%20%20%20%20%20%20%20%20%20%20%20%20%20%20%60%3Cdiv%3E%0A%20%20%20%20%20%20%20%20%20%20%20%20%20%20%20%20%20%20%20%20%20%3Cdiv%20style%3D%27margin%3A%200%3B%20background-color%3A%20black%3B%20color%3A%20white%3B%27%3E%3Ch4%20style%3D%27text-align%3Acenter%3Bfont-weight%3A%20bold%27%3ECongo%20%28Brazzaville%29%3C/h4%3E%3Chr%20style%3D%27margin%3A10px%3Bcolor%3A%20white%3B%27%3E%3Cul%20style%3D%27color%3A%20white%3B%3Blist-style-type%3Acircle%3Balign-item%3Aleft%3Bpadding-left%3A20px%3Bpadding-right%3A20px%27%3E%3Cli%3EConfirmed%3A%2022418%3C/li%3E%3C/ul%3E%3C/div%3E%0A%20%20%20%20%20%20%20%20%20%20%20%20%20%20%20%20%20%3C/div%3E%60%2C%0A%20%20%20%20%20%20%20%20%20%20%20%20%20%20%20%20%7B%22sticky%22%3A%20true%7D%0A%20%20%20%20%20%20%20%20%20%20%20%20%29%3B%0A%20%20%20%20%20%20%20%20%0A%20%20%20%20%0A%20%20%20%20%20%20%20%20%20%20%20%20var%20circle_1a2d1a32dc344564ad886d2745ddcfa9%20%3D%20L.circle%28%0A%20%20%20%20%20%20%20%20%20%20%20%20%20%20%20%20%5B-4.0383%2C%2021.7587%5D%2C%0A%20%20%20%20%20%20%20%20%20%20%20%20%20%20%20%20%7B%22bubblingMouseEvents%22%3A%20true%2C%20%22color%22%3A%20%22red%22%2C%20%22dashArray%22%3A%20null%2C%20%22dashOffset%22%3A%20null%2C%20%22fill%22%3A%20true%2C%20%22fillColor%22%3A%20%22indigo%22%2C%20%22fillOpacity%22%3A%200.2%2C%20%22fillRule%22%3A%20%22evenodd%22%2C%20%22lineCap%22%3A%20%22round%22%2C%20%22lineJoin%22%3A%20%22round%22%2C%20%22opacity%22%3A%201.0%2C%20%22radius%22%3A%20112000.0%2C%20%22stroke%22%3A%20true%2C%20%22weight%22%3A%203%7D%0A%20%20%20%20%20%20%20%20%20%20%20%20%29.addTo%28map_eb660f0cadf14412ab360cc7dee84180%29%3B%0A%20%20%20%20%20%20%20%20%0A%20%20%20%20%0A%20%20%20%20%20%20%20%20%20%20%20%20circle_1a2d1a32dc344564ad886d2745ddcfa9.bindTooltip%28%0A%20%20%20%20%20%20%20%20%20%20%20%20%20%20%20%20%60%3Cdiv%3E%0A%20%20%20%20%20%20%20%20%20%20%20%20%20%20%20%20%20%20%20%20%20%3Cdiv%20style%3D%27margin%3A%200%3B%20background-color%3A%20black%3B%20color%3A%20white%3B%27%3E%3Ch4%20style%3D%27text-align%3Acenter%3Bfont-weight%3A%20bold%27%3ECongo%20%28Kinshasa%29%3C/h4%3E%3Chr%20style%3D%27margin%3A10px%3Bcolor%3A%20white%3B%27%3E%3Cul%20style%3D%27color%3A%20white%3B%3Blist-style-type%3Acircle%3Balign-item%3Aleft%3Bpadding-left%3A20px%3Bpadding-right%3A20px%27%3E%3Cli%3EConfirmed%3A%2080175%3C/li%3E%3C/ul%3E%3C/div%3E%0A%20%20%20%20%20%20%20%20%20%20%20%20%20%20%20%20%20%3C/div%3E%60%2C%0A%20%20%20%20%20%20%20%20%20%20%20%20%20%20%20%20%7B%22sticky%22%3A%20true%7D%0A%20%20%20%20%20%20%20%20%20%20%20%20%29%3B%0A%20%20%20%20%20%20%20%20%0A%20%20%20%20%0A%20%20%20%20%20%20%20%20%20%20%20%20var%20circle_62c6872a9f5842258319a648e0b7982b%20%3D%20L.circle%28%0A%20%20%20%20%20%20%20%20%20%20%20%20%20%20%20%20%5B9.7489%2C%20-83.7534%5D%2C%0A%20%20%20%20%20%20%20%20%20%20%20%20%20%20%20%20%7B%22bubblingMouseEvents%22%3A%20true%2C%20%22color%22%3A%20%22red%22%2C%20%22dashArray%22%3A%20null%2C%20%22dashOffset%22%3A%20null%2C%20%22fill%22%3A%20true%2C%20%22fillColor%22%3A%20%22indigo%22%2C%20%22fillOpacity%22%3A%200.2%2C%20%22fillRule%22%3A%20%22evenodd%22%2C%20%22lineCap%22%3A%20%22round%22%2C%20%22lineJoin%22%3A%20%22round%22%2C%20%22opacity%22%3A%201.0%2C%20%22radius%22%3A%20132000.0%2C%20%22stroke%22%3A%20true%2C%20%22weight%22%3A%203%7D%0A%20%20%20%20%20%20%20%20%20%20%20%20%29.addTo%28map_eb660f0cadf14412ab360cc7dee84180%29%3B%0A%20%20%20%20%20%20%20%20%0A%20%20%20%20%0A%20%20%20%20%20%20%20%20%20%20%20%20circle_62c6872a9f5842258319a648e0b7982b.bindTooltip%28%0A%20%20%20%20%20%20%20%20%20%20%20%20%20%20%20%20%60%3Cdiv%3E%0A%20%20%20%20%20%20%20%20%20%20%20%20%20%20%20%20%20%20%20%20%20%3Cdiv%20style%3D%27margin%3A%200%3B%20background-color%3A%20black%3B%20color%3A%20white%3B%27%3E%3Ch4%20style%3D%27text-align%3Acenter%3Bfont-weight%3A%20bold%27%3ECosta%20Rica%3C/h4%3E%3Chr%20style%3D%27margin%3A10px%3Bcolor%3A%20white%3B%27%3E%3Cul%20style%3D%27color%3A%20white%3B%3Blist-style-type%3Acircle%3Balign-item%3Aleft%3Bpadding-left%3A20px%3Bpadding-right%3A20px%27%3E%3Cli%3EConfirmed%3A%20584547%3C/li%3E%3C/ul%3E%3C/div%3E%0A%20%20%20%20%20%20%20%20%20%20%20%20%20%20%20%20%20%3C/div%3E%60%2C%0A%20%20%20%20%20%20%20%20%20%20%20%20%20%20%20%20%7B%22sticky%22%3A%20true%7D%0A%20%20%20%20%20%20%20%20%20%20%20%20%29%3B%0A%20%20%20%20%20%20%20%20%0A%20%20%20%20%0A%20%20%20%20%20%20%20%20%20%20%20%20var%20circle_29cc3722bbe24135b0bec7f5e18fded7%20%3D%20L.circle%28%0A%20%20%20%20%20%20%20%20%20%20%20%20%20%20%20%20%5B7.54%2C%20-5.5471%5D%2C%0A%20%20%20%20%20%20%20%20%20%20%20%20%20%20%20%20%7B%22bubblingMouseEvents%22%3A%20true%2C%20%22color%22%3A%20%22red%22%2C%20%22dashArray%22%3A%20null%2C%20%22dashOffset%22%3A%20null%2C%20%22fill%22%3A%20true%2C%20%22fillColor%22%3A%20%22indigo%22%2C%20%22fillOpacity%22%3A%200.2%2C%20%22fillRule%22%3A%20%22evenodd%22%2C%20%22lineCap%22%3A%20%22round%22%2C%20%22lineJoin%22%3A%20%22round%22%2C%20%22opacity%22%3A%201.0%2C%20%22radius%22%3A%20112000.0%2C%20%22stroke%22%3A%20true%2C%20%22weight%22%3A%203%7D%0A%20%20%20%20%20%20%20%20%20%20%20%20%29.addTo%28map_eb660f0cadf14412ab360cc7dee84180%29%3B%0A%20%20%20%20%20%20%20%20%0A%20%20%20%20%0A%20%20%20%20%20%20%20%20%20%20%20%20circle_29cc3722bbe24135b0bec7f5e18fded7.bindTooltip%28%0A%20%20%20%20%20%20%20%20%20%20%20%20%20%20%20%20%60%3Cdiv%3E%0A%20%20%20%20%20%20%20%20%20%20%20%20%20%20%20%20%20%20%20%20%20%3Cdiv%20style%3D%27margin%3A%200%3B%20background-color%3A%20black%3B%20color%3A%20white%3B%27%3E%3Ch4%20style%3D%27text-align%3Acenter%3Bfont-weight%3A%20bold%27%3ECote%20d%27Ivoire%3C/h4%3E%3Chr%20style%3D%27margin%3A10px%3Bcolor%3A%20white%3B%27%3E%3Cul%20style%3D%27color%3A%20white%3B%3Blist-style-type%3Acircle%3Balign-item%3Aleft%3Bpadding-left%3A20px%3Bpadding-right%3A20px%27%3E%3Cli%3EConfirmed%3A%2077449%3C/li%3E%3C/ul%3E%3C/div%3E%0A%20%20%20%20%20%20%20%20%20%20%20%20%20%20%20%20%20%3C/div%3E%60%2C%0A%20%20%20%20%20%20%20%20%20%20%20%20%20%20%20%20%7B%22sticky%22%3A%20true%7D%0A%20%20%20%20%20%20%20%20%20%20%20%20%29%3B%0A%20%20%20%20%20%20%20%20%0A%20%20%20%20%0A%20%20%20%20%20%20%20%20%20%20%20%20var%20circle_71080c5cdca34401960b517d2f486c8d%20%3D%20L.circle%28%0A%20%20%20%20%20%20%20%20%20%20%20%20%20%20%20%20%5B45.1%2C%2015.2%5D%2C%0A%20%20%20%20%20%20%20%20%20%20%20%20%20%20%20%20%7B%22bubblingMouseEvents%22%3A%20true%2C%20%22color%22%3A%20%22red%22%2C%20%22dashArray%22%3A%20null%2C%20%22dashOffset%22%3A%20null%2C%20%22fill%22%3A%20true%2C%20%22fillColor%22%3A%20%22indigo%22%2C%20%22fillOpacity%22%3A%200.2%2C%20%22fillRule%22%3A%20%22evenodd%22%2C%20%22lineCap%22%3A%20%22round%22%2C%20%22lineJoin%22%3A%20%22round%22%2C%20%22opacity%22%3A%201.0%2C%20%22radius%22%3A%20132000.0%2C%20%22stroke%22%3A%20true%2C%20%22weight%22%3A%203%7D%0A%20%20%20%20%20%20%20%20%20%20%20%20%29.addTo%28map_eb660f0cadf14412ab360cc7dee84180%29%3B%0A%20%20%20%20%20%20%20%20%0A%20%20%20%20%0A%20%20%20%20%20%20%20%20%20%20%20%20circle_71080c5cdca34401960b517d2f486c8d.bindTooltip%28%0A%20%20%20%20%20%20%20%20%20%20%20%20%20%20%20%20%60%3Cdiv%3E%0A%20%20%20%20%20%20%20%20%20%20%20%20%20%20%20%20%20%20%20%20%20%3Cdiv%20style%3D%27margin%3A%200%3B%20background-color%3A%20black%3B%20color%3A%20white%3B%27%3E%3Ch4%20style%3D%27text-align%3Acenter%3Bfont-weight%3A%20bold%27%3ECroatia%3C/h4%3E%3Chr%20style%3D%27margin%3A10px%3Bcolor%3A%20white%3B%27%3E%3Cul%20style%3D%27color%3A%20white%3B%3Blist-style-type%3Acircle%3Balign-item%3Aleft%3Bpadding-left%3A20px%3Bpadding-right%3A20px%27%3E%3Cli%3EConfirmed%3A%20765605%3C/li%3E%3C/ul%3E%3C/div%3E%0A%20%20%20%20%20%20%20%20%20%20%20%20%20%20%20%20%20%3C/div%3E%60%2C%0A%20%20%20%20%20%20%20%20%20%20%20%20%20%20%20%20%7B%22sticky%22%3A%20true%7D%0A%20%20%20%20%20%20%20%20%20%20%20%20%29%3B%0A%20%20%20%20%20%20%20%20%0A%20%20%20%20%0A%20%20%20%20%20%20%20%20%20%20%20%20var%20circle_88351db68d444857b753dc136de2e2f4%20%3D%20L.circle%28%0A%20%20%20%20%20%20%20%20%20%20%20%20%20%20%20%20%5B21.521757%2C%20-77.781167%5D%2C%0A%20%20%20%20%20%20%20%20%20%20%20%20%20%20%20%20%7B%22bubblingMouseEvents%22%3A%20true%2C%20%22color%22%3A%20%22red%22%2C%20%22dashArray%22%3A%20null%2C%20%22dashOffset%22%3A%20null%2C%20%22fill%22%3A%20true%2C%20%22fillColor%22%3A%20%22indigo%22%2C%20%22fillOpacity%22%3A%200.2%2C%20%22fillRule%22%3A%20%22evenodd%22%2C%20%22lineCap%22%3A%20%22round%22%2C%20%22lineJoin%22%3A%20%22round%22%2C%20%22opacity%22%3A%201.0%2C%20%22radius%22%3A%20132000.0%2C%20%22stroke%22%3A%20true%2C%20%22weight%22%3A%203%7D%0A%20%20%20%20%20%20%20%20%20%20%20%20%29.addTo%28map_eb660f0cadf14412ab360cc7dee84180%29%3B%0A%20%20%20%20%20%20%20%20%0A%20%20%20%20%0A%20%20%20%20%20%20%20%20%20%20%20%20circle_88351db68d444857b753dc136de2e2f4.bindTooltip%28%0A%20%20%20%20%20%20%20%20%20%20%20%20%20%20%20%20%60%3Cdiv%3E%0A%20%20%20%20%20%20%20%20%20%20%20%20%20%20%20%20%20%20%20%20%20%3Cdiv%20style%3D%27margin%3A%200%3B%20background-color%3A%20black%3B%20color%3A%20white%3B%27%3E%3Ch4%20style%3D%27text-align%3Acenter%3Bfont-weight%3A%20bold%27%3ECuba%3C/h4%3E%3Chr%20style%3D%27margin%3A10px%3Bcolor%3A%20white%3B%27%3E%3Cul%20style%3D%27color%3A%20white%3B%3Blist-style-type%3Acircle%3Balign-item%3Aleft%3Bpadding-left%3A20px%3Bpadding-right%3A20px%27%3E%3Cli%3EConfirmed%3A%20977410%3C/li%3E%3C/ul%3E%3C/div%3E%0A%20%20%20%20%20%20%20%20%20%20%20%20%20%20%20%20%20%3C/div%3E%60%2C%0A%20%20%20%20%20%20%20%20%20%20%20%20%20%20%20%20%7B%22sticky%22%3A%20true%7D%0A%20%20%20%20%20%20%20%20%20%20%20%20%29%3B%0A%20%20%20%20%20%20%20%20%0A%20%20%20%20%0A%20%20%20%20%20%20%20%20%20%20%20%20var%20circle_c9ee00472ab94774925e13936a01af6f%20%3D%20L.circle%28%0A%20%20%20%20%20%20%20%20%20%20%20%20%20%20%20%20%5B35.1264%2C%2033.4299%5D%2C%0A%20%20%20%20%20%20%20%20%20%20%20%20%20%20%20%20%7B%22bubblingMouseEvents%22%3A%20true%2C%20%22color%22%3A%20%22red%22%2C%20%22dashArray%22%3A%20null%2C%20%22dashOffset%22%3A%20null%2C%20%22fill%22%3A%20true%2C%20%22fillColor%22%3A%20%22indigo%22%2C%20%22fillOpacity%22%3A%200.2%2C%20%22fillRule%22%3A%20%22evenodd%22%2C%20%22lineCap%22%3A%20%22round%22%2C%20%22lineJoin%22%3A%20%22round%22%2C%20%22opacity%22%3A%201.0%2C%20%22radius%22%3A%20122000.0%2C%20%22stroke%22%3A%20true%2C%20%22weight%22%3A%203%7D%0A%20%20%20%20%20%20%20%20%20%20%20%20%29.addTo%28map_eb660f0cadf14412ab360cc7dee84180%29%3B%0A%20%20%20%20%20%20%20%20%0A%20%20%20%20%0A%20%20%20%20%20%20%20%20%20%20%20%20circle_c9ee00472ab94774925e13936a01af6f.bindTooltip%28%0A%20%20%20%20%20%20%20%20%20%20%20%20%20%20%20%20%60%3Cdiv%3E%0A%20%20%20%20%20%20%20%20%20%20%20%20%20%20%20%20%20%20%20%20%20%3Cdiv%20style%3D%27margin%3A%200%3B%20background-color%3A%20black%3B%20color%3A%20white%3B%27%3E%3Ch4%20style%3D%27text-align%3Acenter%3Bfont-weight%3A%20bold%27%3ECyprus%3C/h4%3E%3Chr%20style%3D%27margin%3A10px%3Bcolor%3A%20white%3B%27%3E%3Cul%20style%3D%27color%3A%20white%3B%3Blist-style-type%3Acircle%3Balign-item%3Aleft%3Bpadding-left%3A20px%3Bpadding-right%3A20px%27%3E%3Cli%3EConfirmed%3A%20204372%3C/li%3E%3C/ul%3E%3C/div%3E%0A%20%20%20%20%20%20%20%20%20%20%20%20%20%20%20%20%20%3C/div%3E%60%2C%0A%20%20%20%20%20%20%20%20%20%20%20%20%20%20%20%20%7B%22sticky%22%3A%20true%7D%0A%20%20%20%20%20%20%20%20%20%20%20%20%29%3B%0A%20%20%20%20%20%20%20%20%0A%20%20%20%20%0A%20%20%20%20%20%20%20%20%20%20%20%20var%20circle_bd48e7ed45d543a1805a9c504fdebae9%20%3D%20L.circle%28%0A%20%20%20%20%20%20%20%20%20%20%20%20%20%20%20%20%5B49.8175%2C%2015.473%5D%2C%0A%20%20%20%20%20%20%20%20%20%20%20%20%20%20%20%20%7B%22bubblingMouseEvents%22%3A%20true%2C%20%22color%22%3A%20%22red%22%2C%20%22dashArray%22%3A%20null%2C%20%22dashOffset%22%3A%20null%2C%20%22fill%22%3A%20true%2C%20%22fillColor%22%3A%20%22indigo%22%2C%20%22fillOpacity%22%3A%200.2%2C%20%22fillRule%22%3A%20%22evenodd%22%2C%20%22lineCap%22%3A%20%22round%22%2C%20%22lineJoin%22%3A%20%22round%22%2C%20%22opacity%22%3A%201.0%2C%20%22radius%22%3A%20142000.0%2C%20%22stroke%22%3A%20true%2C%20%22weight%22%3A%203%7D%0A%20%20%20%20%20%20%20%20%20%20%20%20%29.addTo%28map_eb660f0cadf14412ab360cc7dee84180%29%3B%0A%20%20%20%20%20%20%20%20%0A%20%20%20%20%0A%20%20%20%20%20%20%20%20%20%20%20%20circle_bd48e7ed45d543a1805a9c504fdebae9.bindTooltip%28%0A%20%20%20%20%20%20%20%20%20%20%20%20%20%20%20%20%60%3Cdiv%3E%0A%20%20%20%20%20%20%20%20%20%20%20%20%20%20%20%20%20%20%20%20%20%3Cdiv%20style%3D%27margin%3A%200%3B%20background-color%3A%20black%3B%20color%3A%20white%3B%27%3E%3Ch4%20style%3D%27text-align%3Acenter%3Bfont-weight%3A%20bold%27%3ECzechia%3C/h4%3E%3Chr%20style%3D%27margin%3A10px%3Bcolor%3A%20white%3B%27%3E%3Cul%20style%3D%27color%3A%20white%3B%3Blist-style-type%3Acircle%3Balign-item%3Aleft%3Bpadding-left%3A20px%3Bpadding-right%3A20px%27%3E%3Cli%3EConfirmed%3A%202528146%3C/li%3E%3C/ul%3E%3C/div%3E%0A%20%20%20%20%20%20%20%20%20%20%20%20%20%20%20%20%20%3C/div%3E%60%2C%0A%20%20%20%20%20%20%20%20%20%20%20%20%20%20%20%20%7B%22sticky%22%3A%20true%7D%0A%20%20%20%20%20%20%20%20%20%20%20%20%29%3B%0A%20%20%20%20%20%20%20%20%0A%20%20%20%20%0A%20%20%20%20%20%20%20%20%20%20%20%20var%20circle_9d6355bbf2f848d3a4201e537811c618%20%3D%20L.circle%28%0A%20%20%20%20%20%20%20%20%20%20%20%20%20%20%20%20%5B61.8926%2C%20-6.9118%5D%2C%0A%20%20%20%20%20%20%20%20%20%20%20%20%20%20%20%20%7B%22bubblingMouseEvents%22%3A%20true%2C%20%22color%22%3A%20%22red%22%2C%20%22dashArray%22%3A%20null%2C%20%22dashOffset%22%3A%20null%2C%20%22fill%22%3A%20true%2C%20%22fillColor%22%3A%20%22indigo%22%2C%20%22fillOpacity%22%3A%200.2%2C%20%22fillRule%22%3A%20%22evenodd%22%2C%20%22lineCap%22%3A%20%22round%22%2C%20%22lineJoin%22%3A%20%22round%22%2C%20%22opacity%22%3A%201.0%2C%20%22radius%22%3A%2082000.0%2C%20%22stroke%22%3A%20true%2C%20%22weight%22%3A%203%7D%0A%20%20%20%20%20%20%20%20%20%20%20%20%29.addTo%28map_eb660f0cadf14412ab360cc7dee84180%29%3B%0A%20%20%20%20%20%20%20%20%0A%20%20%20%20%0A%20%20%20%20%20%20%20%20%20%20%20%20circle_9d6355bbf2f848d3a4201e537811c618.bindTooltip%28%0A%20%20%20%20%20%20%20%20%20%20%20%20%20%20%20%20%60%3Cdiv%3E%0A%20%20%20%20%20%20%20%20%20%20%20%20%20%20%20%20%20%20%20%20%20%3Cdiv%20style%3D%27margin%3A%200%3B%20background-color%3A%20black%3B%20color%3A%20white%3B%27%3E%3Ch4%20style%3D%27text-align%3Acenter%3Bfont-weight%3A%20bold%27%3EDenmark%3C/h4%3E%3Chr%20style%3D%27margin%3A10px%3Bcolor%3A%20white%3B%27%3E%3Cul%20style%3D%27color%3A%20white%3B%3Blist-style-type%3Acircle%3Balign-item%3Aleft%3Bpadding-left%3A20px%3Bpadding-right%3A20px%27%3E%3Cli%3EConfirmed%3A%207708%3C/li%3E%3C/ul%3E%3C/div%3E%0A%20%20%20%20%20%20%20%20%20%20%20%20%20%20%20%20%20%3C/div%3E%60%2C%0A%20%20%20%20%20%20%20%20%20%20%20%20%20%20%20%20%7B%22sticky%22%3A%20true%7D%0A%20%20%20%20%20%20%20%20%20%20%20%20%29%3B%0A%20%20%20%20%20%20%20%20%0A%20%20%20%20%0A%20%20%20%20%20%20%20%20%20%20%20%20var%20circle_37f638c7ce96445ca6bfa368f2646840%20%3D%20L.circle%28%0A%20%20%20%20%20%20%20%20%20%20%20%20%20%20%20%20%5B71.7069%2C%20-42.6043%5D%2C%0A%20%20%20%20%20%20%20%20%20%20%20%20%20%20%20%20%7B%22bubblingMouseEvents%22%3A%20true%2C%20%22color%22%3A%20%22red%22%2C%20%22dashArray%22%3A%20null%2C%20%22dashOffset%22%3A%20null%2C%20%22fill%22%3A%20true%2C%20%22fillColor%22%3A%20%22indigo%22%2C%20%22fillOpacity%22%3A%200.2%2C%20%22fillRule%22%3A%20%22evenodd%22%2C%20%22lineCap%22%3A%20%22round%22%2C%20%22lineJoin%22%3A%20%22round%22%2C%20%22opacity%22%3A%201.0%2C%20%22radius%22%3A%2082000.0%2C%20%22stroke%22%3A%20true%2C%20%22weight%22%3A%203%7D%0A%20%20%20%20%20%20%20%20%20%20%20%20%29.addTo%28map_eb660f0cadf14412ab360cc7dee84180%29%3B%0A%20%20%20%20%20%20%20%20%0A%20%20%20%20%0A%20%20%20%20%20%20%20%20%20%20%20%20circle_37f638c7ce96445ca6bfa368f2646840.bindTooltip%28%0A%20%20%20%20%20%20%20%20%20%20%20%20%20%20%20%20%60%3Cdiv%3E%0A%20%20%20%20%20%20%20%20%20%20%20%20%20%20%20%20%20%20%20%20%20%3Cdiv%20style%3D%27margin%3A%200%3B%20background-color%3A%20black%3B%20color%3A%20white%3B%27%3E%3Ch4%20style%3D%27text-align%3Acenter%3Bfont-weight%3A%20bold%27%3EDenmark%3C/h4%3E%3Chr%20style%3D%27margin%3A10px%3Bcolor%3A%20white%3B%27%3E%3Cul%20style%3D%27color%3A%20white%3B%3Blist-style-type%3Acircle%3Balign-item%3Aleft%3Bpadding-left%3A20px%3Bpadding-right%3A20px%27%3E%3Cli%3EConfirmed%3A%204996%3C/li%3E%3C/ul%3E%3C/div%3E%0A%20%20%20%20%20%20%20%20%20%20%20%20%20%20%20%20%20%3C/div%3E%60%2C%0A%20%20%20%20%20%20%20%20%20%20%20%20%20%20%20%20%7B%22sticky%22%3A%20true%7D%0A%20%20%20%20%20%20%20%20%20%20%20%20%29%3B%0A%20%20%20%20%20%20%20%20%0A%20%20%20%20%0A%20%20%20%20%20%20%20%20%20%20%20%20var%20circle_266f9e6c75a7485a99e5bc726a6c5641%20%3D%20L.circle%28%0A%20%20%20%20%20%20%20%20%20%20%20%20%20%20%20%20%5B56.2639%2C%209.5018%5D%2C%0A%20%20%20%20%20%20%20%20%20%20%20%20%20%20%20%20%7B%22bubblingMouseEvents%22%3A%20true%2C%20%22color%22%3A%20%22red%22%2C%20%22dashArray%22%3A%20null%2C%20%22dashOffset%22%3A%20null%2C%20%22fill%22%3A%20true%2C%20%22fillColor%22%3A%20%22indigo%22%2C%20%22fillOpacity%22%3A%200.2%2C%20%22fillRule%22%3A%20%22evenodd%22%2C%20%22lineCap%22%3A%20%22round%22%2C%20%22lineJoin%22%3A%20%22round%22%2C%20%22opacity%22%3A%201.0%2C%20%22radius%22%3A%20132000.0%2C%20%22stroke%22%3A%20true%2C%20%22weight%22%3A%203%7D%0A%20%20%20%20%20%20%20%20%20%20%20%20%29.addTo%28map_eb660f0cadf14412ab360cc7dee84180%29%3B%0A%20%20%20%20%20%20%20%20%0A%20%20%20%20%0A%20%20%20%20%20%20%20%20%20%20%20%20circle_266f9e6c75a7485a99e5bc726a6c5641.bindTooltip%28%0A%20%20%20%20%20%20%20%20%20%20%20%20%20%20%20%20%60%3Cdiv%3E%0A%20%20%20%20%20%20%20%20%20%20%20%20%20%20%20%20%20%20%20%20%20%3Cdiv%20style%3D%27margin%3A%200%3B%20background-color%3A%20black%3B%20color%3A%20white%3B%27%3E%3Ch4%20style%3D%27text-align%3Acenter%3Bfont-weight%3A%20bold%27%3EDenmark%3C/h4%3E%3Chr%20style%3D%27margin%3A10px%3Bcolor%3A%20white%3B%27%3E%3Cul%20style%3D%27color%3A%20white%3B%3Blist-style-type%3Acircle%3Balign-item%3Aleft%3Bpadding-left%3A20px%3Bpadding-right%3A20px%27%3E%3Cli%3EConfirmed%3A%20969485%3C/li%3E%3C/ul%3E%3C/div%3E%0A%20%20%20%20%20%20%20%20%20%20%20%20%20%20%20%20%20%3C/div%3E%60%2C%0A%20%20%20%20%20%20%20%20%20%20%20%20%20%20%20%20%7B%22sticky%22%3A%20true%7D%0A%20%20%20%20%20%20%20%20%20%20%20%20%29%3B%0A%20%20%20%20%20%20%20%20%0A%20%20%20%20%0A%20%20%20%20%20%20%20%20%20%20%20%20var%20circle_6da0233e30e44bd8944a58c604dd78d8%20%3D%20L.circle%28%0A%20%20%20%20%20%20%20%20%20%20%20%20%20%20%20%20%5B0.0%2C%200.0%5D%2C%0A%20%20%20%20%20%20%20%20%20%20%20%20%20%20%20%20%7B%22bubblingMouseEvents%22%3A%20true%2C%20%22color%22%3A%20%22red%22%2C%20%22dashArray%22%3A%20null%2C%20%22dashOffset%22%3A%20null%2C%20%22fill%22%3A%20true%2C%20%22fillColor%22%3A%20%22indigo%22%2C%20%22fillOpacity%22%3A%200.2%2C%20%22fillRule%22%3A%20%22evenodd%22%2C%20%22lineCap%22%3A%20%22round%22%2C%20%22lineJoin%22%3A%20%22round%22%2C%20%22opacity%22%3A%201.0%2C%20%22radius%22%3A%2062000.0%2C%20%22stroke%22%3A%20true%2C%20%22weight%22%3A%203%7D%0A%20%20%20%20%20%20%20%20%20%20%20%20%29.addTo%28map_eb660f0cadf14412ab360cc7dee84180%29%3B%0A%20%20%20%20%20%20%20%20%0A%20%20%20%20%0A%20%20%20%20%20%20%20%20%20%20%20%20circle_6da0233e30e44bd8944a58c604dd78d8.bindTooltip%28%0A%20%20%20%20%20%20%20%20%20%20%20%20%20%20%20%20%60%3Cdiv%3E%0A%20%20%20%20%20%20%20%20%20%20%20%20%20%20%20%20%20%20%20%20%20%3Cdiv%20style%3D%27margin%3A%200%3B%20background-color%3A%20black%3B%20color%3A%20white%3B%27%3E%3Ch4%20style%3D%27text-align%3Acenter%3Bfont-weight%3A%20bold%27%3EDiamond%20Princess%3C/h4%3E%3Chr%20style%3D%27margin%3A10px%3Bcolor%3A%20white%3B%27%3E%3Cul%20style%3D%27color%3A%20white%3B%3Blist-style-type%3Acircle%3Balign-item%3Aleft%3Bpadding-left%3A20px%3Bpadding-right%3A20px%27%3E%3Cli%3EConfirmed%3A%20712%3C/li%3E%3C/ul%3E%3C/div%3E%0A%20%20%20%20%20%20%20%20%20%20%20%20%20%20%20%20%20%3C/div%3E%60%2C%0A%20%20%20%20%20%20%20%20%20%20%20%20%20%20%20%20%7B%22sticky%22%3A%20true%7D%0A%20%20%20%20%20%20%20%20%20%20%20%20%29%3B%0A%20%20%20%20%20%20%20%20%0A%20%20%20%20%0A%20%20%20%20%20%20%20%20%20%20%20%20var%20circle_e6d090fc9cf24670b5ef06c750bc429f%20%3D%20L.circle%28%0A%20%20%20%20%20%20%20%20%20%20%20%20%20%20%20%20%5B11.8251%2C%2042.5903%5D%2C%0A%20%20%20%20%20%20%20%20%20%20%20%20%20%20%20%20%7B%22bubblingMouseEvents%22%3A%20true%2C%20%22color%22%3A%20%22red%22%2C%20%22dashArray%22%3A%20null%2C%20%22dashOffset%22%3A%20null%2C%20%22fill%22%3A%20true%2C%20%22fillColor%22%3A%20%22indigo%22%2C%20%22fillOpacity%22%3A%200.2%2C%20%22fillRule%22%3A%20%22evenodd%22%2C%20%22lineCap%22%3A%20%22round%22%2C%20%22lineJoin%22%3A%20%22round%22%2C%20%22opacity%22%3A%201.0%2C%20%22radius%22%3A%2092000.0%2C%20%22stroke%22%3A%20true%2C%20%22weight%22%3A%203%7D%0A%20%20%20%20%20%20%20%20%20%20%20%20%29.addTo%28map_eb660f0cadf14412ab360cc7dee84180%29%3B%0A%20%20%20%20%20%20%20%20%0A%20%20%20%20%0A%20%20%20%20%20%20%20%20%20%20%20%20circle_e6d090fc9cf24670b5ef06c750bc429f.bindTooltip%28%0A%20%20%20%20%20%20%20%20%20%20%20%20%20%20%20%20%60%3Cdiv%3E%0A%20%20%20%20%20%20%20%20%20%20%20%20%20%20%20%20%20%20%20%20%20%3Cdiv%20style%3D%27margin%3A%200%3B%20background-color%3A%20black%3B%20color%3A%20white%3B%27%3E%3Ch4%20style%3D%27text-align%3Acenter%3Bfont-weight%3A%20bold%27%3EDjibouti%3C/h4%3E%3Chr%20style%3D%27margin%3A10px%3Bcolor%3A%20white%3B%27%3E%3Cul%20style%3D%27color%3A%20white%3B%3Blist-style-type%3Acircle%3Balign-item%3Aleft%3Bpadding-left%3A20px%3Bpadding-right%3A20px%27%3E%3Cli%3EConfirmed%3A%2014177%3C/li%3E%3C/ul%3E%3C/div%3E%0A%20%20%20%20%20%20%20%20%20%20%20%20%20%20%20%20%20%3C/div%3E%60%2C%0A%20%20%20%20%20%20%20%20%20%20%20%20%20%20%20%20%7B%22sticky%22%3A%20true%7D%0A%20%20%20%20%20%20%20%20%20%20%20%20%29%3B%0A%20%20%20%20%20%20%20%20%0A%20%20%20%20%0A%20%20%20%20%20%20%20%20%20%20%20%20var%20circle_1d4dc06958714a2db3924414ad11aedf%20%3D%20L.circle%28%0A%20%20%20%20%20%20%20%20%20%20%20%20%20%20%20%20%5B15.415%2C%20-61.371%5D%2C%0A%20%20%20%20%20%20%20%20%20%20%20%20%20%20%20%20%7B%22bubblingMouseEvents%22%3A%20true%2C%20%22color%22%3A%20%22red%22%2C%20%22dashArray%22%3A%20null%2C%20%22dashOffset%22%3A%20null%2C%20%22fill%22%3A%20true%2C%20%22fillColor%22%3A%20%22indigo%22%2C%20%22fillOpacity%22%3A%200.2%2C%20%22fillRule%22%3A%20%22evenodd%22%2C%20%22lineCap%22%3A%20%22round%22%2C%20%22lineJoin%22%3A%20%22round%22%2C%20%22opacity%22%3A%201.0%2C%20%22radius%22%3A%2082000.0%2C%20%22stroke%22%3A%20true%2C%20%22weight%22%3A%203%7D%0A%20%20%20%20%20%20%20%20%20%20%20%20%29.addTo%28map_eb660f0cadf14412ab360cc7dee84180%29%3B%0A%20%20%20%20%20%20%20%20%0A%20%20%20%20%0A%20%20%20%20%20%20%20%20%20%20%20%20circle_1d4dc06958714a2db3924414ad11aedf.bindTooltip%28%0A%20%20%20%20%20%20%20%20%20%20%20%20%20%20%20%20%60%3Cdiv%3E%0A%20%20%20%20%20%20%20%20%20%20%20%20%20%20%20%20%20%20%20%20%20%3Cdiv%20style%3D%27margin%3A%200%3B%20background-color%3A%20black%3B%20color%3A%20white%3B%27%3E%3Ch4%20style%3D%27text-align%3Acenter%3Bfont-weight%3A%20bold%27%3EDominica%3C/h4%3E%3Chr%20style%3D%27margin%3A10px%3Bcolor%3A%20white%3B%27%3E%3Cul%20style%3D%27color%3A%20white%3B%3Blist-style-type%3Acircle%3Balign-item%3Aleft%3Bpadding-left%3A20px%3Bpadding-right%3A20px%27%3E%3Cli%3EConfirmed%3A%207299%3C/li%3E%3C/ul%3E%3C/div%3E%0A%20%20%20%20%20%20%20%20%20%20%20%20%20%20%20%20%20%3C/div%3E%60%2C%0A%20%20%20%20%20%20%20%20%20%20%20%20%20%20%20%20%7B%22sticky%22%3A%20true%7D%0A%20%20%20%20%20%20%20%20%20%20%20%20%29%3B%0A%20%20%20%20%20%20%20%20%0A%20%20%20%20%0A%20%20%20%20%20%20%20%20%20%20%20%20var%20circle_6244b5e335e54ab9b005fed96907f2ab%20%3D%20L.circle%28%0A%20%20%20%20%20%20%20%20%20%20%20%20%20%20%20%20%5B18.7357%2C%20-70.1627%5D%2C%0A%20%20%20%20%20%20%20%20%20%20%20%20%20%20%20%20%7B%22bubblingMouseEvents%22%3A%20true%2C%20%22color%22%3A%20%22red%22%2C%20%22dashArray%22%3A%20null%2C%20%22dashOffset%22%3A%20null%2C%20%22fill%22%3A%20true%2C%20%22fillColor%22%3A%20%22indigo%22%2C%20%22fillOpacity%22%3A%200.2%2C%20%22fillRule%22%3A%20%22evenodd%22%2C%20%22lineCap%22%3A%20%22round%22%2C%20%22lineJoin%22%3A%20%22round%22%2C%20%22opacity%22%3A%201.0%2C%20%22radius%22%3A%20132000.0%2C%20%22stroke%22%3A%20true%2C%20%22weight%22%3A%203%7D%0A%20%20%20%20%20%20%20%20%20%20%20%20%29.addTo%28map_eb660f0cadf14412ab360cc7dee84180%29%3B%0A%20%20%20%20%20%20%20%20%0A%20%20%20%20%0A%20%20%20%20%20%20%20%20%20%20%20%20circle_6244b5e335e54ab9b005fed96907f2ab.bindTooltip%28%0A%20%20%20%20%20%20%20%20%20%20%20%20%20%20%20%20%60%3Cdiv%3E%0A%20%20%20%20%20%20%20%20%20%20%20%20%20%20%20%20%20%20%20%20%20%3Cdiv%20style%3D%27margin%3A%200%3B%20background-color%3A%20black%3B%20color%3A%20white%3B%27%3E%3Ch4%20style%3D%27text-align%3Acenter%3Bfont-weight%3A%20bold%27%3EDominican%20Republic%3C/h4%3E%3Chr%20style%3D%27margin%3A10px%3Bcolor%3A%20white%3B%27%3E%3Cul%20style%3D%27color%3A%20white%3B%3Blist-style-type%3Acircle%3Balign-item%3Aleft%3Bpadding-left%3A20px%3Bpadding-right%3A20px%27%3E%3Cli%3EConfirmed%3A%20457227%3C/li%3E%3C/ul%3E%3C/div%3E%0A%20%20%20%20%20%20%20%20%20%20%20%20%20%20%20%20%20%3C/div%3E%60%2C%0A%20%20%20%20%20%20%20%20%20%20%20%20%20%20%20%20%7B%22sticky%22%3A%20true%7D%0A%20%20%20%20%20%20%20%20%20%20%20%20%29%3B%0A%20%20%20%20%20%20%20%20%0A%20%20%20%20%0A%20%20%20%20%20%20%20%20%20%20%20%20var%20circle_96b5313a53ba4343b6e8238fd5c027b7%20%3D%20L.circle%28%0A%20%20%20%20%20%20%20%20%20%20%20%20%20%20%20%20%5B-1.8312%2C%20-78.1834%5D%2C%0A%20%20%20%20%20%20%20%20%20%20%20%20%20%20%20%20%7B%22bubblingMouseEvents%22%3A%20true%2C%20%22color%22%3A%20%22red%22%2C%20%22dashArray%22%3A%20null%2C%20%22dashOffset%22%3A%20null%2C%20%22fill%22%3A%20true%2C%20%22fillColor%22%3A%20%22indigo%22%2C%20%22fillOpacity%22%3A%200.2%2C%20%22fillRule%22%3A%20%22evenodd%22%2C%20%22lineCap%22%3A%20%22round%22%2C%20%22lineJoin%22%3A%20%22round%22%2C%20%22opacity%22%3A%201.0%2C%20%22radius%22%3A%20132000.0%2C%20%22stroke%22%3A%20true%2C%20%22weight%22%3A%203%7D%0A%20%20%20%20%20%20%20%20%20%20%20%20%29.addTo%28map_eb660f0cadf14412ab360cc7dee84180%29%3B%0A%20%20%20%20%20%20%20%20%0A%20%20%20%20%0A%20%20%20%20%20%20%20%20%20%20%20%20circle_96b5313a53ba4343b6e8238fd5c027b7.bindTooltip%28%0A%20%20%20%20%20%20%20%20%20%20%20%20%20%20%20%20%60%3Cdiv%3E%0A%20%20%20%20%20%20%20%20%20%20%20%20%20%20%20%20%20%20%20%20%20%3Cdiv%20style%3D%27margin%3A%200%3B%20background-color%3A%20black%3B%20color%3A%20white%3B%27%3E%3Ch4%20style%3D%27text-align%3Acenter%3Bfont-weight%3A%20bold%27%3EEcuador%3C/h4%3E%3Chr%20style%3D%27margin%3A10px%3Bcolor%3A%20white%3B%27%3E%3Cul%20style%3D%27color%3A%20white%3B%3Blist-style-type%3Acircle%3Balign-item%3Aleft%3Bpadding-left%3A20px%3Bpadding-right%3A20px%27%3E%3Cli%3EConfirmed%3A%20559950%3C/li%3E%3C/ul%3E%3C/div%3E%0A%20%20%20%20%20%20%20%20%20%20%20%20%20%20%20%20%20%3C/div%3E%60%2C%0A%20%20%20%20%20%20%20%20%20%20%20%20%20%20%20%20%7B%22sticky%22%3A%20true%7D%0A%20%20%20%20%20%20%20%20%20%20%20%20%29%3B%0A%20%20%20%20%20%20%20%20%0A%20%20%20%20%0A%20%20%20%20%20%20%20%20%20%20%20%20var%20circle_ab1bd2eaf45440df9c6f08835fba2564%20%3D%20L.circle%28%0A%20%20%20%20%20%20%20%20%20%20%20%20%20%20%20%20%5B26.820553%2C%2030.802498%5D%2C%0A%20%20%20%20%20%20%20%20%20%20%20%20%20%20%20%20%7B%22bubblingMouseEvents%22%3A%20true%2C%20%22color%22%3A%20%22red%22%2C%20%22dashArray%22%3A%20null%2C%20%22dashOffset%22%3A%20null%2C%20%22fill%22%3A%20true%2C%20%22fillColor%22%3A%20%22indigo%22%2C%20%22fillOpacity%22%3A%200.2%2C%20%22fillRule%22%3A%20%22evenodd%22%2C%20%22lineCap%22%3A%20%22round%22%2C%20%22lineJoin%22%3A%20%22round%22%2C%20%22opacity%22%3A%201.0%2C%20%22radius%22%3A%20122000.0%2C%20%22stroke%22%3A%20true%2C%20%22weight%22%3A%203%7D%0A%20%20%20%20%20%20%20%20%20%20%20%20%29.addTo%28map_eb660f0cadf14412ab360cc7dee84180%29%3B%0A%20%20%20%20%20%20%20%20%0A%20%20%20%20%0A%20%20%20%20%20%20%20%20%20%20%20%20circle_ab1bd2eaf45440df9c6f08835fba2564.bindTooltip%28%0A%20%20%20%20%20%20%20%20%20%20%20%20%20%20%20%20%60%3Cdiv%3E%0A%20%20%20%20%20%20%20%20%20%20%20%20%20%20%20%20%20%20%20%20%20%3Cdiv%20style%3D%27margin%3A%200%3B%20background-color%3A%20black%3B%20color%3A%20white%3B%27%3E%3Ch4%20style%3D%27text-align%3Acenter%3Bfont-weight%3A%20bold%27%3EEgypt%3C/h4%3E%3Chr%20style%3D%27margin%3A10px%3Bcolor%3A%20white%3B%27%3E%3Cul%20style%3D%27color%3A%20white%3B%3Blist-style-type%3Acircle%3Balign-item%3Aleft%3Bpadding-left%3A20px%3Bpadding-right%3A20px%27%3E%3Cli%3EConfirmed%3A%20392857%3C/li%3E%3C/ul%3E%3C/div%3E%0A%20%20%20%20%20%20%20%20%20%20%20%20%20%20%20%20%20%3C/div%3E%60%2C%0A%20%20%20%20%20%20%20%20%20%20%20%20%20%20%20%20%7B%22sticky%22%3A%20true%7D%0A%20%20%20%20%20%20%20%20%20%20%20%20%29%3B%0A%20%20%20%20%20%20%20%20%0A%20%20%20%20%0A%20%20%20%20%20%20%20%20%20%20%20%20var%20circle_ea1a35d4b3ee4e61a9d252760bf925c2%20%3D%20L.circle%28%0A%20%20%20%20%20%20%20%20%20%20%20%20%20%20%20%20%5B13.7942%2C%20-88.8965%5D%2C%0A%20%20%20%20%20%20%20%20%20%20%20%20%20%20%20%20%7B%22bubblingMouseEvents%22%3A%20true%2C%20%22color%22%3A%20%22red%22%2C%20%22dashArray%22%3A%20null%2C%20%22dashOffset%22%3A%20null%2C%20%22fill%22%3A%20true%2C%20%22fillColor%22%3A%20%22indigo%22%2C%20%22fillOpacity%22%3A%200.2%2C%20%22fillRule%22%3A%20%22evenodd%22%2C%20%22lineCap%22%3A%20%22round%22%2C%20%22lineJoin%22%3A%20%22round%22%2C%20%22opacity%22%3A%201.0%2C%20%22radius%22%3A%20112000.0%2C%20%22stroke%22%3A%20true%2C%20%22weight%22%3A%203%7D%0A%20%20%20%20%20%20%20%20%20%20%20%20%29.addTo%28map_eb660f0cadf14412ab360cc7dee84180%29%3B%0A%20%20%20%20%20%20%20%20%0A%20%20%20%20%0A%20%20%20%20%20%20%20%20%20%20%20%20circle_ea1a35d4b3ee4e61a9d252760bf925c2.bindTooltip%28%0A%20%20%20%20%20%20%20%20%20%20%20%20%20%20%20%20%60%3Cdiv%3E%0A%20%20%20%20%20%20%20%20%20%20%20%20%20%20%20%20%20%20%20%20%20%3Cdiv%20style%3D%27margin%3A%200%3B%20background-color%3A%20black%3B%20color%3A%20white%3B%27%3E%3Ch4%20style%3D%27text-align%3Acenter%3Bfont-weight%3A%20bold%27%3EEl%20Salvador%3C/h4%3E%3Chr%20style%3D%27margin%3A10px%3Bcolor%3A%20white%3B%27%3E%3Cul%20style%3D%27color%3A%20white%3B%3Blist-style-type%3Acircle%3Balign-item%3Aleft%3Bpadding-left%3A20px%3Bpadding-right%3A20px%27%3E%3Cli%3EConfirmed%3A%20122469%3C/li%3E%3C/ul%3E%3C/div%3E%0A%20%20%20%20%20%20%20%20%20%20%20%20%20%20%20%20%20%3C/div%3E%60%2C%0A%20%20%20%20%20%20%20%20%20%20%20%20%20%20%20%20%7B%22sticky%22%3A%20true%7D%0A%20%20%20%20%20%20%20%20%20%20%20%20%29%3B%0A%20%20%20%20%20%20%20%20%0A%20%20%20%20%0A%20%20%20%20%20%20%20%20%20%20%20%20var%20circle_477cc59ba8ab4765bb4b8f9c684b403a%20%3D%20L.circle%28%0A%20%20%20%20%20%20%20%20%20%20%20%20%20%20%20%20%5B1.6508%2C%2010.2679%5D%2C%0A%20%20%20%20%20%20%20%20%20%20%20%20%20%20%20%20%7B%22bubblingMouseEvents%22%3A%20true%2C%20%22color%22%3A%20%22red%22%2C%20%22dashArray%22%3A%20null%2C%20%22dashOffset%22%3A%20null%2C%20%22fill%22%3A%20true%2C%20%22fillColor%22%3A%20%22indigo%22%2C%20%22fillOpacity%22%3A%200.2%2C%20%22fillRule%22%3A%20%22evenodd%22%2C%20%22lineCap%22%3A%20%22round%22%2C%20%22lineJoin%22%3A%20%22round%22%2C%20%22opacity%22%3A%201.0%2C%20%22radius%22%3A%2092000.0%2C%20%22stroke%22%3A%20true%2C%20%22weight%22%3A%203%7D%0A%20%20%20%20%20%20%20%20%20%20%20%20%29.addTo%28map_eb660f0cadf14412ab360cc7dee84180%29%3B%0A%20%20%20%20%20%20%20%20%0A%20%20%20%20%0A%20%20%20%20%20%20%20%20%20%20%20%20circle_477cc59ba8ab4765bb4b8f9c684b403a.bindTooltip%28%0A%20%20%20%20%20%20%20%20%20%20%20%20%20%20%20%20%60%3Cdiv%3E%0A%20%20%20%20%20%20%20%20%20%20%20%20%20%20%20%20%20%20%20%20%20%3Cdiv%20style%3D%27margin%3A%200%3B%20background-color%3A%20black%3B%20color%3A%20white%3B%27%3E%3Ch4%20style%3D%27text-align%3Acenter%3Bfont-weight%3A%20bold%27%3EEquatorial%20Guinea%3C/h4%3E%3Chr%20style%3D%27margin%3A10px%3Bcolor%3A%20white%3B%27%3E%3Cul%20style%3D%27color%3A%20white%3B%3Blist-style-type%3Acircle%3Balign-item%3Aleft%3Bpadding-left%3A20px%3Bpadding-right%3A20px%27%3E%3Cli%3EConfirmed%3A%2014401%3C/li%3E%3C/ul%3E%3C/div%3E%0A%20%20%20%20%20%20%20%20%20%20%20%20%20%20%20%20%20%3C/div%3E%60%2C%0A%20%20%20%20%20%20%20%20%20%20%20%20%20%20%20%20%7B%22sticky%22%3A%20true%7D%0A%20%20%20%20%20%20%20%20%20%20%20%20%29%3B%0A%20%20%20%20%20%20%20%20%0A%20%20%20%20%0A%20%20%20%20%20%20%20%20%20%20%20%20var%20circle_d205e21e2be749f4bd1e61167234b2e4%20%3D%20L.circle%28%0A%20%20%20%20%20%20%20%20%20%20%20%20%20%20%20%20%5B15.1794%2C%2039.7823%5D%2C%0A%20%20%20%20%20%20%20%20%20%20%20%20%20%20%20%20%7B%22bubblingMouseEvents%22%3A%20true%2C%20%22color%22%3A%20%22red%22%2C%20%22dashArray%22%3A%20null%2C%20%22dashOffset%22%3A%20null%2C%20%22fill%22%3A%20true%2C%20%22fillColor%22%3A%20%22indigo%22%2C%20%22fillOpacity%22%3A%200.2%2C%20%22fillRule%22%3A%20%22evenodd%22%2C%20%22lineCap%22%3A%20%22round%22%2C%20%22lineJoin%22%3A%20%22round%22%2C%20%22opacity%22%3A%201.0%2C%20%22radius%22%3A%2092000.0%2C%20%22stroke%22%3A%20true%2C%20%22weight%22%3A%203%7D%0A%20%20%20%20%20%20%20%20%20%20%20%20%29.addTo%28map_eb660f0cadf14412ab360cc7dee84180%29%3B%0A%20%20%20%20%20%20%20%20%0A%20%20%20%20%0A%20%20%20%20%20%20%20%20%20%20%20%20circle_d205e21e2be749f4bd1e61167234b2e4.bindTooltip%28%0A%20%20%20%20%20%20%20%20%20%20%20%20%20%20%20%20%60%3Cdiv%3E%0A%20%20%20%20%20%20%20%20%20%20%20%20%20%20%20%20%20%20%20%20%20%3Cdiv%20style%3D%27margin%3A%200%3B%20background-color%3A%20black%3B%20color%3A%20white%3B%27%3E%3Ch4%20style%3D%27text-align%3Acenter%3Bfont-weight%3A%20bold%27%3EEritrea%3C/h4%3E%3Chr%20style%3D%27margin%3A10px%3Bcolor%3A%20white%3B%27%3E%3Cul%20style%3D%27color%3A%20white%3B%3Blist-style-type%3Acircle%3Balign-item%3Aleft%3Bpadding-left%3A20px%3Bpadding-right%3A20px%27%3E%3Cli%3EConfirmed%3A%208335%3C/li%3E%3C/ul%3E%3C/div%3E%0A%20%20%20%20%20%20%20%20%20%20%20%20%20%20%20%20%20%3C/div%3E%60%2C%0A%20%20%20%20%20%20%20%20%20%20%20%20%20%20%20%20%7B%22sticky%22%3A%20true%7D%0A%20%20%20%20%20%20%20%20%20%20%20%20%29%3B%0A%20%20%20%20%20%20%20%20%0A%20%20%20%20%0A%20%20%20%20%20%20%20%20%20%20%20%20var%20circle_b2b750032f044228a6958193458f04b9%20%3D%20L.circle%28%0A%20%20%20%20%20%20%20%20%20%20%20%20%20%20%20%20%5B58.5953%2C%2025.0136%5D%2C%0A%20%20%20%20%20%20%20%20%20%20%20%20%20%20%20%20%7B%22bubblingMouseEvents%22%3A%20true%2C%20%22color%22%3A%20%22red%22%2C%20%22dashArray%22%3A%20null%2C%20%22dashOffset%22%3A%20null%2C%20%22fill%22%3A%20true%2C%20%22fillColor%22%3A%20%22indigo%22%2C%20%22fillOpacity%22%3A%200.2%2C%20%22fillRule%22%3A%20%22evenodd%22%2C%20%22lineCap%22%3A%20%22round%22%2C%20%22lineJoin%22%3A%20%22round%22%2C%20%22opacity%22%3A%201.0%2C%20%22radius%22%3A%20122000.0%2C%20%22stroke%22%3A%20true%2C%20%22weight%22%3A%203%7D%0A%20%20%20%20%20%20%20%20%20%20%20%20%29.addTo%28map_eb660f0cadf14412ab360cc7dee84180%29%3B%0A%20%20%20%20%20%20%20%20%0A%20%20%20%20%0A%20%20%20%20%20%20%20%20%20%20%20%20circle_b2b750032f044228a6958193458f04b9.bindTooltip%28%0A%20%20%20%20%20%20%20%20%20%20%20%20%20%20%20%20%60%3Cdiv%3E%0A%20%20%20%20%20%20%20%20%20%20%20%20%20%20%20%20%20%20%20%20%20%3Cdiv%20style%3D%27margin%3A%200%3B%20background-color%3A%20black%3B%20color%3A%20white%3B%27%3E%3Ch4%20style%3D%27text-align%3Acenter%3Bfont-weight%3A%20bold%27%3EEstonia%3C/h4%3E%3Chr%20style%3D%27margin%3A10px%3Bcolor%3A%20white%3B%27%3E%3Cul%20style%3D%27color%3A%20white%3B%3Blist-style-type%3Acircle%3Balign-item%3Aleft%3Bpadding-left%3A20px%3Bpadding-right%3A20px%27%3E%3Cli%3EConfirmed%3A%20252517%3C/li%3E%3C/ul%3E%3C/div%3E%0A%20%20%20%20%20%20%20%20%20%20%20%20%20%20%20%20%20%3C/div%3E%60%2C%0A%20%20%20%20%20%20%20%20%20%20%20%20%20%20%20%20%7B%22sticky%22%3A%20true%7D%0A%20%20%20%20%20%20%20%20%20%20%20%20%29%3B%0A%20%20%20%20%20%20%20%20%0A%20%20%20%20%0A%20%20%20%20%20%20%20%20%20%20%20%20var%20circle_0b7ecbe205ec4b1da33417406b27d158%20%3D%20L.circle%28%0A%20%20%20%20%20%20%20%20%20%20%20%20%20%20%20%20%5B-26.5225%2C%2031.4659%5D%2C%0A%20%20%20%20%20%20%20%20%20%20%20%20%20%20%20%20%7B%22bubblingMouseEvents%22%3A%20true%2C%20%22color%22%3A%20%22red%22%2C%20%22dashArray%22%3A%20null%2C%20%22dashOffset%22%3A%20null%2C%20%22fill%22%3A%20true%2C%20%22fillColor%22%3A%20%22indigo%22%2C%20%22fillOpacity%22%3A%200.2%2C%20%22fillRule%22%3A%20%22evenodd%22%2C%20%22lineCap%22%3A%20%22round%22%2C%20%22lineJoin%22%3A%20%22round%22%2C%20%22opacity%22%3A%201.0%2C%20%22radius%22%3A%20112000.0%2C%20%22stroke%22%3A%20true%2C%20%22weight%22%3A%203%7D%0A%20%20%20%20%20%20%20%20%20%20%20%20%29.addTo%28map_eb660f0cadf14412ab360cc7dee84180%29%3B%0A%20%20%20%20%20%20%20%20%0A%20%20%20%20%0A%20%20%20%20%20%20%20%20%20%20%20%20circle_0b7ecbe205ec4b1da33417406b27d158.bindTooltip%28%0A%20%20%20%20%20%20%20%20%20%20%20%20%20%20%20%20%60%3Cdiv%3E%0A%20%20%20%20%20%20%20%20%20%20%20%20%20%20%20%20%20%20%20%20%20%3Cdiv%20style%3D%27margin%3A%200%3B%20background-color%3A%20black%3B%20color%3A%20white%3B%27%3E%3Ch4%20style%3D%27text-align%3Acenter%3Bfont-weight%3A%20bold%27%3EEswatini%3C/h4%3E%3Chr%20style%3D%27margin%3A10px%3Bcolor%3A%20white%3B%27%3E%3Cul%20style%3D%27color%3A%20white%3B%3Blist-style-type%3Acircle%3Balign-item%3Aleft%3Bpadding-left%3A20px%3Bpadding-right%3A20px%27%3E%3Cli%3EConfirmed%3A%2067294%3C/li%3E%3C/ul%3E%3C/div%3E%0A%20%20%20%20%20%20%20%20%20%20%20%20%20%20%20%20%20%3C/div%3E%60%2C%0A%20%20%20%20%20%20%20%20%20%20%20%20%20%20%20%20%7B%22sticky%22%3A%20true%7D%0A%20%20%20%20%20%20%20%20%20%20%20%20%29%3B%0A%20%20%20%20%20%20%20%20%0A%20%20%20%20%0A%20%20%20%20%20%20%20%20%20%20%20%20var%20circle_dec3e50f8df84039b1c1f2d862998bd7%20%3D%20L.circle%28%0A%20%20%20%20%20%20%20%20%20%20%20%20%20%20%20%20%5B9.145%2C%2040.4897%5D%2C%0A%20%20%20%20%20%20%20%20%20%20%20%20%20%20%20%20%7B%22bubblingMouseEvents%22%3A%20true%2C%20%22color%22%3A%20%22red%22%2C%20%22dashArray%22%3A%20null%2C%20%22dashOffset%22%3A%20null%2C%20%22fill%22%3A%20true%2C%20%22fillColor%22%3A%20%22indigo%22%2C%20%22fillOpacity%22%3A%200.2%2C%20%22fillRule%22%3A%20%22evenodd%22%2C%20%22lineCap%22%3A%20%22round%22%2C%20%22lineJoin%22%3A%20%22round%22%2C%20%22opacity%22%3A%201.0%2C%20%22radius%22%3A%20132000.0%2C%20%22stroke%22%3A%20true%2C%20%22weight%22%3A%203%7D%0A%20%20%20%20%20%20%20%20%20%20%20%20%29.addTo%28map_eb660f0cadf14412ab360cc7dee84180%29%3B%0A%20%20%20%20%20%20%20%20%0A%20%20%20%20%0A%20%20%20%20%20%20%20%20%20%20%20%20circle_dec3e50f8df84039b1c1f2d862998bd7.bindTooltip%28%0A%20%20%20%20%20%20%20%20%20%20%20%20%20%20%20%20%60%3Cdiv%3E%0A%20%20%20%20%20%20%20%20%20%20%20%20%20%20%20%20%20%20%20%20%20%3Cdiv%20style%3D%27margin%3A%200%3B%20background-color%3A%20black%3B%20color%3A%20white%3B%27%3E%3Ch4%20style%3D%27text-align%3Acenter%3Bfont-weight%3A%20bold%27%3EEthiopia%3C/h4%3E%3Chr%20style%3D%27margin%3A10px%3Bcolor%3A%20white%3B%27%3E%3Cul%20style%3D%27color%3A%20white%3B%3Blist-style-type%3Acircle%3Balign-item%3Aleft%3Bpadding-left%3A20px%3Bpadding-right%3A20px%27%3E%3Cli%3EConfirmed%3A%20444124%3C/li%3E%3C/ul%3E%3C/div%3E%0A%20%20%20%20%20%20%20%20%20%20%20%20%20%20%20%20%20%3C/div%3E%60%2C%0A%20%20%20%20%20%20%20%20%20%20%20%20%20%20%20%20%7B%22sticky%22%3A%20true%7D%0A%20%20%20%20%20%20%20%20%20%20%20%20%29%3B%0A%20%20%20%20%20%20%20%20%0A%20%20%20%20%0A%20%20%20%20%20%20%20%20%20%20%20%20var%20circle_d8e484e413f34c4a80d7ef21ed7b7385%20%3D%20L.circle%28%0A%20%20%20%20%20%20%20%20%20%20%20%20%20%20%20%20%5B-17.7134%2C%20178.065%5D%2C%0A%20%20%20%20%20%20%20%20%20%20%20%20%20%20%20%20%7B%22bubblingMouseEvents%22%3A%20true%2C%20%22color%22%3A%20%22red%22%2C%20%22dashArray%22%3A%20null%2C%20%22dashOffset%22%3A%20null%2C%20%22fill%22%3A%20true%2C%20%22fillColor%22%3A%20%22indigo%22%2C%20%22fillOpacity%22%3A%200.2%2C%20%22fillRule%22%3A%20%22evenodd%22%2C%20%22lineCap%22%3A%20%22round%22%2C%20%22lineJoin%22%3A%20%22round%22%2C%20%22opacity%22%3A%201.0%2C%20%22radius%22%3A%20102000.0%2C%20%22stroke%22%3A%20true%2C%20%22weight%22%3A%203%7D%0A%20%20%20%20%20%20%20%20%20%20%20%20%29.addTo%28map_eb660f0cadf14412ab360cc7dee84180%29%3B%0A%20%20%20%20%20%20%20%20%0A%20%20%20%20%0A%20%20%20%20%20%20%20%20%20%20%20%20circle_d8e484e413f34c4a80d7ef21ed7b7385.bindTooltip%28%0A%20%20%20%20%20%20%20%20%20%20%20%20%20%20%20%20%60%3Cdiv%3E%0A%20%20%20%20%20%20%20%20%20%20%20%20%20%20%20%20%20%20%20%20%20%3Cdiv%20style%3D%27margin%3A%200%3B%20background-color%3A%20black%3B%20color%3A%20white%3B%27%3E%3Ch4%20style%3D%27text-align%3Acenter%3Bfont-weight%3A%20bold%27%3EFiji%3C/h4%3E%3Chr%20style%3D%27margin%3A10px%3Bcolor%3A%20white%3B%27%3E%3Cul%20style%3D%27color%3A%20white%3B%3Blist-style-type%3Acircle%3Balign-item%3Aleft%3Bpadding-left%3A20px%3Bpadding-right%3A20px%27%3E%3Cli%3EConfirmed%3A%2057257%3C/li%3E%3C/ul%3E%3C/div%3E%0A%20%20%20%20%20%20%20%20%20%20%20%20%20%20%20%20%20%3C/div%3E%60%2C%0A%20%20%20%20%20%20%20%20%20%20%20%20%20%20%20%20%7B%22sticky%22%3A%20true%7D%0A%20%20%20%20%20%20%20%20%20%20%20%20%29%3B%0A%20%20%20%20%20%20%20%20%0A%20%20%20%20%0A%20%20%20%20%20%20%20%20%20%20%20%20var%20circle_1eaf74868b034c1f879d9e026d05bc0c%20%3D%20L.circle%28%0A%20%20%20%20%20%20%20%20%20%20%20%20%20%20%20%20%5B61.92411%2C%2025.748151%5D%2C%0A%20%20%20%20%20%20%20%20%20%20%20%20%20%20%20%20%7B%22bubblingMouseEvents%22%3A%20true%2C%20%22color%22%3A%20%22red%22%2C%20%22dashArray%22%3A%20null%2C%20%22dashOffset%22%3A%20null%2C%20%22fill%22%3A%20true%2C%20%22fillColor%22%3A%20%22indigo%22%2C%20%22fillOpacity%22%3A%200.2%2C%20%22fillRule%22%3A%20%22evenodd%22%2C%20%22lineCap%22%3A%20%22round%22%2C%20%22lineJoin%22%3A%20%22round%22%2C%20%22opacity%22%3A%201.0%2C%20%22radius%22%3A%20122000.0%2C%20%22stroke%22%3A%20true%2C%20%22weight%22%3A%203%7D%0A%20%20%20%20%20%20%20%20%20%20%20%20%29.addTo%28map_eb660f0cadf14412ab360cc7dee84180%29%3B%0A%20%20%20%20%20%20%20%20%0A%20%20%20%20%0A%20%20%20%20%20%20%20%20%20%20%20%20circle_1eaf74868b034c1f879d9e026d05bc0c.bindTooltip%28%0A%20%20%20%20%20%20%20%20%20%20%20%20%20%20%20%20%60%3Cdiv%3E%0A%20%20%20%20%20%20%20%20%20%20%20%20%20%20%20%20%20%20%20%20%20%3Cdiv%20style%3D%27margin%3A%200%3B%20background-color%3A%20black%3B%20color%3A%20white%3B%27%3E%3Ch4%20style%3D%27text-align%3Acenter%3Bfont-weight%3A%20bold%27%3EFinland%3C/h4%3E%3Chr%20style%3D%27margin%3A10px%3Bcolor%3A%20white%3B%27%3E%3Cul%20style%3D%27color%3A%20white%3B%3Blist-style-type%3Acircle%3Balign-item%3Aleft%3Bpadding-left%3A20px%3Bpadding-right%3A20px%27%3E%3Cli%3EConfirmed%3A%20305522%3C/li%3E%3C/ul%3E%3C/div%3E%0A%20%20%20%20%20%20%20%20%20%20%20%20%20%20%20%20%20%3C/div%3E%60%2C%0A%20%20%20%20%20%20%20%20%20%20%20%20%20%20%20%20%7B%22sticky%22%3A%20true%7D%0A%20%20%20%20%20%20%20%20%20%20%20%20%29%3B%0A%20%20%20%20%20%20%20%20%0A%20%20%20%20%0A%20%20%20%20%20%20%20%20%20%20%20%20var%20circle_9a2f9265c468476ea01b3353e572f3b9%20%3D%20L.circle%28%0A%20%20%20%20%20%20%20%20%20%20%20%20%20%20%20%20%5B3.9339%2C%20-53.1258%5D%2C%0A%20%20%20%20%20%20%20%20%20%20%20%20%20%20%20%20%7B%22bubblingMouseEvents%22%3A%20true%2C%20%22color%22%3A%20%22red%22%2C%20%22dashArray%22%3A%20null%2C%20%22dashOffset%22%3A%20null%2C%20%22fill%22%3A%20true%2C%20%22fillColor%22%3A%20%22indigo%22%2C%20%22fillOpacity%22%3A%200.2%2C%20%22fillRule%22%3A%20%22evenodd%22%2C%20%22lineCap%22%3A%20%22round%22%2C%20%22lineJoin%22%3A%20%22round%22%2C%20%22opacity%22%3A%201.0%2C%20%22radius%22%3A%20102000.0%2C%20%22stroke%22%3A%20true%2C%20%22weight%22%3A%203%7D%0A%20%20%20%20%20%20%20%20%20%20%20%20%29.addTo%28map_eb660f0cadf14412ab360cc7dee84180%29%3B%0A%20%20%20%20%20%20%20%20%0A%20%20%20%20%0A%20%20%20%20%20%20%20%20%20%20%20%20circle_9a2f9265c468476ea01b3353e572f3b9.bindTooltip%28%0A%20%20%20%20%20%20%20%20%20%20%20%20%20%20%20%20%60%3Cdiv%3E%0A%20%20%20%20%20%20%20%20%20%20%20%20%20%20%20%20%20%20%20%20%20%3Cdiv%20style%3D%27margin%3A%200%3B%20background-color%3A%20black%3B%20color%3A%20white%3B%27%3E%3Ch4%20style%3D%27text-align%3Acenter%3Bfont-weight%3A%20bold%27%3EFrance%3C/h4%3E%3Chr%20style%3D%27margin%3A10px%3Bcolor%3A%20white%3B%27%3E%3Cul%20style%3D%27color%3A%20white%3B%3Blist-style-type%3Acircle%3Balign-item%3Aleft%3Bpadding-left%3A20px%3Bpadding-right%3A20px%27%3E%3Cli%3EConfirmed%3A%2055701%3C/li%3E%3C/ul%3E%3C/div%3E%0A%20%20%20%20%20%20%20%20%20%20%20%20%20%20%20%20%20%3C/div%3E%60%2C%0A%20%20%20%20%20%20%20%20%20%20%20%20%20%20%20%20%7B%22sticky%22%3A%20true%7D%0A%20%20%20%20%20%20%20%20%20%20%20%20%29%3B%0A%20%20%20%20%20%20%20%20%0A%20%20%20%20%0A%20%20%20%20%20%20%20%20%20%20%20%20var%20circle_a1750f17830e4b12aee945af8ff178d0%20%3D%20L.circle%28%0A%20%20%20%20%20%20%20%20%20%20%20%20%20%20%20%20%5B-17.6797%2C%20149.4068%5D%2C%0A%20%20%20%20%20%20%20%20%20%20%20%20%20%20%20%20%7B%22bubblingMouseEvents%22%3A%20true%2C%20%22color%22%3A%20%22red%22%2C%20%22dashArray%22%3A%20null%2C%20%22dashOffset%22%3A%20null%2C%20%22fill%22%3A%20true%2C%20%22fillColor%22%3A%20%22indigo%22%2C%20%22fillOpacity%22%3A%200.2%2C%20%22fillRule%22%3A%20%22evenodd%22%2C%20%22lineCap%22%3A%20%22round%22%2C%20%22lineJoin%22%3A%20%22round%22%2C%20%22opacity%22%3A%201.0%2C%20%22radius%22%3A%20102000.0%2C%20%22stroke%22%3A%20true%2C%20%22weight%22%3A%203%7D%0A%20%20%20%20%20%20%20%20%20%20%20%20%29.addTo%28map_eb660f0cadf14412ab360cc7dee84180%29%3B%0A%20%20%20%20%20%20%20%20%0A%20%20%20%20%0A%20%20%20%20%20%20%20%20%20%20%20%20circle_a1750f17830e4b12aee945af8ff178d0.bindTooltip%28%0A%20%20%20%20%20%20%20%20%20%20%20%20%20%20%20%20%60%3Cdiv%3E%0A%20%20%20%20%20%20%20%20%20%20%20%20%20%20%20%20%20%20%20%20%20%3Cdiv%20style%3D%27margin%3A%200%3B%20background-color%3A%20black%3B%20color%3A%20white%3B%27%3E%3Ch4%20style%3D%27text-align%3Acenter%3Bfont-weight%3A%20bold%27%3EFrance%3C/h4%3E%3Chr%20style%3D%27margin%3A10px%3Bcolor%3A%20white%3B%27%3E%3Cul%20style%3D%27color%3A%20white%3B%3Blist-style-type%3Acircle%3Balign-item%3Aleft%3Bpadding-left%3A20px%3Bpadding-right%3A20px%27%3E%3Cli%3EConfirmed%3A%2046534%3C/li%3E%3C/ul%3E%3C/div%3E%0A%20%20%20%20%20%20%20%20%20%20%20%20%20%20%20%20%20%3C/div%3E%60%2C%0A%20%20%20%20%20%20%20%20%20%20%20%20%20%20%20%20%7B%22sticky%22%3A%20true%7D%0A%20%20%20%20%20%20%20%20%20%20%20%20%29%3B%0A%20%20%20%20%20%20%20%20%0A%20%20%20%20%0A%20%20%20%20%20%20%20%20%20%20%20%20var%20circle_c6b90f2ea5fe4ebf87ea2d14adf80895%20%3D%20L.circle%28%0A%20%20%20%20%20%20%20%20%20%20%20%20%20%20%20%20%5B16.265%2C%20-61.551%5D%2C%0A%20%20%20%20%20%20%20%20%20%20%20%20%20%20%20%20%7B%22bubblingMouseEvents%22%3A%20true%2C%20%22color%22%3A%20%22red%22%2C%20%22dashArray%22%3A%20null%2C%20%22dashOffset%22%3A%20null%2C%20%22fill%22%3A%20true%2C%20%22fillColor%22%3A%20%22indigo%22%2C%20%22fillOpacity%22%3A%200.2%2C%20%22fillRule%22%3A%20%22evenodd%22%2C%20%22lineCap%22%3A%20%22round%22%2C%20%22lineJoin%22%3A%20%22round%22%2C%20%22opacity%22%3A%201.0%2C%20%22radius%22%3A%20102000.0%2C%20%22stroke%22%3A%20true%2C%20%22weight%22%3A%203%7D%0A%20%20%20%20%20%20%20%20%20%20%20%20%29.addTo%28map_eb660f0cadf14412ab360cc7dee84180%29%3B%0A%20%20%20%20%20%20%20%20%0A%20%20%20%20%0A%20%20%20%20%20%20%20%20%20%20%20%20circle_c6b90f2ea5fe4ebf87ea2d14adf80895.bindTooltip%28%0A%20%20%20%20%20%20%20%20%20%20%20%20%20%20%20%20%60%3Cdiv%3E%0A%20%20%20%20%20%20%20%20%20%20%20%20%20%20%20%20%20%20%20%20%20%3Cdiv%20style%3D%27margin%3A%200%3B%20background-color%3A%20black%3B%20color%3A%20white%3B%27%3E%3Ch4%20style%3D%27text-align%3Acenter%3Bfont-weight%3A%20bold%27%3EFrance%3C/h4%3E%3Chr%20style%3D%27margin%3A10px%3Bcolor%3A%20white%3B%27%3E%3Cul%20style%3D%27color%3A%20white%3B%3Blist-style-type%3Acircle%3Balign-item%3Aleft%3Bpadding-left%3A20px%3Bpadding-right%3A20px%27%3E%3Cli%3EConfirmed%3A%2056515%3C/li%3E%3C/ul%3E%3C/div%3E%0A%20%20%20%20%20%20%20%20%20%20%20%20%20%20%20%20%20%3C/div%3E%60%2C%0A%20%20%20%20%20%20%20%20%20%20%20%20%20%20%20%20%7B%22sticky%22%3A%20true%7D%0A%20%20%20%20%20%20%20%20%20%20%20%20%29%3B%0A%20%20%20%20%20%20%20%20%0A%20%20%20%20%0A%20%20%20%20%20%20%20%20%20%20%20%20var%20circle_374db6a5a5f24882ad6bb2e4580f1afc%20%3D%20L.circle%28%0A%20%20%20%20%20%20%20%20%20%20%20%20%20%20%20%20%5B14.6415%2C%20-61.0242%5D%2C%0A%20%20%20%20%20%20%20%20%20%20%20%20%20%20%20%20%7B%22bubblingMouseEvents%22%3A%20true%2C%20%22color%22%3A%20%22red%22%2C%20%22dashArray%22%3A%20null%2C%20%22dashOffset%22%3A%20null%2C%20%22fill%22%3A%20true%2C%20%22fillColor%22%3A%20%22indigo%22%2C%20%22fillOpacity%22%3A%200.2%2C%20%22fillRule%22%3A%20%22evenodd%22%2C%20%22lineCap%22%3A%20%22round%22%2C%20%22lineJoin%22%3A%20%22round%22%2C%20%22opacity%22%3A%201.0%2C%20%22radius%22%3A%20102000.0%2C%20%22stroke%22%3A%20true%2C%20%22weight%22%3A%203%7D%0A%20%20%20%20%20%20%20%20%20%20%20%20%29.addTo%28map_eb660f0cadf14412ab360cc7dee84180%29%3B%0A%20%20%20%20%20%20%20%20%0A%20%20%20%20%0A%20%20%20%20%20%20%20%20%20%20%20%20circle_374db6a5a5f24882ad6bb2e4580f1afc.bindTooltip%28%0A%20%20%20%20%20%20%20%20%20%20%20%20%20%20%20%20%60%3Cdiv%3E%0A%20%20%20%20%20%20%20%20%20%20%20%20%20%20%20%20%20%20%20%20%20%3Cdiv%20style%3D%27margin%3A%200%3B%20background-color%3A%20black%3B%20color%3A%20white%3B%27%3E%3Ch4%20style%3D%27text-align%3Acenter%3Bfont-weight%3A%20bold%27%3EFrance%3C/h4%3E%3Chr%20style%3D%27margin%3A10px%3Bcolor%3A%20white%3B%27%3E%3Cul%20style%3D%27color%3A%20white%3B%3Blist-style-type%3Acircle%3Balign-item%3Aleft%3Bpadding-left%3A20px%3Bpadding-right%3A20px%27%3E%3Cli%3EConfirmed%3A%2051840%3C/li%3E%3C/ul%3E%3C/div%3E%0A%20%20%20%20%20%20%20%20%20%20%20%20%20%20%20%20%20%3C/div%3E%60%2C%0A%20%20%20%20%20%20%20%20%20%20%20%20%20%20%20%20%7B%22sticky%22%3A%20true%7D%0A%20%20%20%20%20%20%20%20%20%20%20%20%29%3B%0A%20%20%20%20%20%20%20%20%0A%20%20%20%20%0A%20%20%20%20%20%20%20%20%20%20%20%20var%20circle_51520a8c71fe4612a704aa9889f7f5de%20%3D%20L.circle%28%0A%20%20%20%20%20%20%20%20%20%20%20%20%20%20%20%20%5B-12.8275%2C%2045.166244%5D%2C%0A%20%20%20%20%20%20%20%20%20%20%20%20%20%20%20%20%7B%22bubblingMouseEvents%22%3A%20true%2C%20%22color%22%3A%20%22red%22%2C%20%22dashArray%22%3A%20null%2C%20%22dashOffset%22%3A%20null%2C%20%22fill%22%3A%20true%2C%20%22fillColor%22%3A%20%22indigo%22%2C%20%22fillOpacity%22%3A%200.2%2C%20%22fillRule%22%3A%20%22evenodd%22%2C%20%22lineCap%22%3A%20%22round%22%2C%20%22lineJoin%22%3A%20%22round%22%2C%20%22opacity%22%3A%201.0%2C%20%22radius%22%3A%20102000.0%2C%20%22stroke%22%3A%20true%2C%20%22weight%22%3A%203%7D%0A%20%20%20%20%20%20%20%20%20%20%20%20%29.addTo%28map_eb660f0cadf14412ab360cc7dee84180%29%3B%0A%20%20%20%20%20%20%20%20%0A%20%20%20%20%0A%20%20%20%20%20%20%20%20%20%20%20%20circle_51520a8c71fe4612a704aa9889f7f5de.bindTooltip%28%0A%20%20%20%20%20%20%20%20%20%20%20%20%20%20%20%20%60%3Cdiv%3E%0A%20%20%20%20%20%20%20%20%20%20%20%20%20%20%20%20%20%20%20%20%20%3Cdiv%20style%3D%27margin%3A%200%3B%20background-color%3A%20black%3B%20color%3A%20white%3B%27%3E%3Ch4%20style%3D%27text-align%3Acenter%3Bfont-weight%3A%20bold%27%3EFrance%3C/h4%3E%3Chr%20style%3D%27margin%3A10px%3Bcolor%3A%20white%3B%27%3E%3Cul%20style%3D%27color%3A%20white%3B%3Blist-style-type%3Acircle%3Balign-item%3Aleft%3Bpadding-left%3A20px%3Bpadding-right%3A20px%27%3E%3Cli%3EConfirmed%3A%2024671%3C/li%3E%3C/ul%3E%3C/div%3E%0A%20%20%20%20%20%20%20%20%20%20%20%20%20%20%20%20%20%3C/div%3E%60%2C%0A%20%20%20%20%20%20%20%20%20%20%20%20%20%20%20%20%7B%22sticky%22%3A%20true%7D%0A%20%20%20%20%20%20%20%20%20%20%20%20%29%3B%0A%20%20%20%20%20%20%20%20%0A%20%20%20%20%0A%20%20%20%20%20%20%20%20%20%20%20%20var%20circle_7ccd9b5506c54afea92379e79eca211b%20%3D%20L.circle%28%0A%20%20%20%20%20%20%20%20%20%20%20%20%20%20%20%20%5B-20.904305%2C%20165.618042%5D%2C%0A%20%20%20%20%20%20%20%20%20%20%20%20%20%20%20%20%7B%22bubblingMouseEvents%22%3A%20true%2C%20%22color%22%3A%20%22red%22%2C%20%22dashArray%22%3A%20null%2C%20%22dashOffset%22%3A%20null%2C%20%22fill%22%3A%20true%2C%20%22fillColor%22%3A%20%22indigo%22%2C%20%22fillOpacity%22%3A%200.2%2C%20%22fillRule%22%3A%20%22evenodd%22%2C%20%22lineCap%22%3A%20%22round%22%2C%20%22lineJoin%22%3A%20%22round%22%2C%20%22opacity%22%3A%201.0%2C%20%22radius%22%3A%2092000.0%2C%20%22stroke%22%3A%20true%2C%20%22weight%22%3A%203%7D%0A%20%20%20%20%20%20%20%20%20%20%20%20%29.addTo%28map_eb660f0cadf14412ab360cc7dee84180%29%3B%0A%20%20%20%20%20%20%20%20%0A%20%20%20%20%0A%20%20%20%20%20%20%20%20%20%20%20%20circle_7ccd9b5506c54afea92379e79eca211b.bindTooltip%28%0A%20%20%20%20%20%20%20%20%20%20%20%20%20%20%20%20%60%3Cdiv%3E%0A%20%20%20%20%20%20%20%20%20%20%20%20%20%20%20%20%20%20%20%20%20%3Cdiv%20style%3D%27margin%3A%200%3B%20background-color%3A%20black%3B%20color%3A%20white%3B%27%3E%3Ch4%20style%3D%27text-align%3Acenter%3Bfont-weight%3A%20bold%27%3EFrance%3C/h4%3E%3Chr%20style%3D%27margin%3A10px%3Bcolor%3A%20white%3B%27%3E%3Cul%20style%3D%27color%3A%20white%3B%3Blist-style-type%3Acircle%3Balign-item%3Aleft%3Bpadding-left%3A20px%3Bpadding-right%3A20px%27%3E%3Cli%3EConfirmed%3A%2013116%3C/li%3E%3C/ul%3E%3C/div%3E%0A%20%20%20%20%20%20%20%20%20%20%20%20%20%20%20%20%20%3C/div%3E%60%2C%0A%20%20%20%20%20%20%20%20%20%20%20%20%20%20%20%20%7B%22sticky%22%3A%20true%7D%0A%20%20%20%20%20%20%20%20%20%20%20%20%29%3B%0A%20%20%20%20%20%20%20%20%0A%20%20%20%20%0A%20%20%20%20%20%20%20%20%20%20%20%20var%20circle_643713d4771540f398c3af75662efbcf%20%3D%20L.circle%28%0A%20%20%20%20%20%20%20%20%20%20%20%20%20%20%20%20%5B-21.1151%2C%2055.5364%5D%2C%0A%20%20%20%20%20%20%20%20%20%20%20%20%20%20%20%20%7B%22bubblingMouseEvents%22%3A%20true%2C%20%22color%22%3A%20%22red%22%2C%20%22dashArray%22%3A%20null%2C%20%22dashOffset%22%3A%20null%2C%20%22fill%22%3A%20true%2C%20%22fillColor%22%3A%20%22indigo%22%2C%20%22fillOpacity%22%3A%200.2%2C%20%22fillRule%22%3A%20%22evenodd%22%2C%20%22lineCap%22%3A%20%22round%22%2C%20%22lineJoin%22%3A%20%22round%22%2C%20%22opacity%22%3A%201.0%2C%20%22radius%22%3A%20112000.0%2C%20%22stroke%22%3A%20true%2C%20%22weight%22%3A%203%7D%0A%20%20%20%20%20%20%20%20%20%20%20%20%29.addTo%28map_eb660f0cadf14412ab360cc7dee84180%29%3B%0A%20%20%20%20%20%20%20%20%0A%20%20%20%20%0A%20%20%20%20%20%20%20%20%20%20%20%20circle_643713d4771540f398c3af75662efbcf.bindTooltip%28%0A%20%20%20%20%20%20%20%20%20%20%20%20%20%20%20%20%60%3Cdiv%3E%0A%20%20%20%20%20%20%20%20%20%20%20%20%20%20%20%20%20%20%20%20%20%3Cdiv%20style%3D%27margin%3A%200%3B%20background-color%3A%20black%3B%20color%3A%20white%3B%27%3E%3Ch4%20style%3D%27text-align%3Acenter%3Bfont-weight%3A%20bold%27%3EFrance%3C/h4%3E%3Chr%20style%3D%27margin%3A10px%3Bcolor%3A%20white%3B%27%3E%3Cul%20style%3D%27color%3A%20white%3B%3Blist-style-type%3Acircle%3Balign-item%3Aleft%3Bpadding-left%3A20px%3Bpadding-right%3A20px%27%3E%3Cli%3EConfirmed%3A%2085960%3C/li%3E%3C/ul%3E%3C/div%3E%0A%20%20%20%20%20%20%20%20%20%20%20%20%20%20%20%20%20%3C/div%3E%60%2C%0A%20%20%20%20%20%20%20%20%20%20%20%20%20%20%20%20%7B%22sticky%22%3A%20true%7D%0A%20%20%20%20%20%20%20%20%20%20%20%20%29%3B%0A%20%20%20%20%20%20%20%20%0A%20%20%20%20%0A%20%20%20%20%20%20%20%20%20%20%20%20var%20circle_29f4990b6a6c428da4208b96f00de1c5%20%3D%20L.circle%28%0A%20%20%20%20%20%20%20%20%20%20%20%20%20%20%20%20%5B17.9%2C%20-62.8333%5D%2C%0A%20%20%20%20%20%20%20%20%20%20%20%20%20%20%20%20%7B%22bubblingMouseEvents%22%3A%20true%2C%20%22color%22%3A%20%22red%22%2C%20%22dashArray%22%3A%20null%2C%20%22dashOffset%22%3A%20null%2C%20%22fill%22%3A%20true%2C%20%22fillColor%22%3A%20%22indigo%22%2C%20%22fillOpacity%22%3A%200.2%2C%20%22fillRule%22%3A%20%22evenodd%22%2C%20%22lineCap%22%3A%20%22round%22%2C%20%22lineJoin%22%3A%20%22round%22%2C%20%22opacity%22%3A%201.0%2C%20%22radius%22%3A%2072000.0%2C%20%22stroke%22%3A%20true%2C%20%22weight%22%3A%203%7D%0A%20%20%20%20%20%20%20%20%20%20%20%20%29.addTo%28map_eb660f0cadf14412ab360cc7dee84180%29%3B%0A%20%20%20%20%20%20%20%20%0A%20%20%20%20%0A%20%20%20%20%20%20%20%20%20%20%20%20circle_29f4990b6a6c428da4208b96f00de1c5.bindTooltip%28%0A%20%20%20%20%20%20%20%20%20%20%20%20%20%20%20%20%60%3Cdiv%3E%0A%20%20%20%20%20%20%20%20%20%20%20%20%20%20%20%20%20%20%20%20%20%3Cdiv%20style%3D%27margin%3A%200%3B%20background-color%3A%20black%3B%20color%3A%20white%3B%27%3E%3Ch4%20style%3D%27text-align%3Acenter%3Bfont-weight%3A%20bold%27%3EFrance%3C/h4%3E%3Chr%20style%3D%27margin%3A10px%3Bcolor%3A%20white%3B%27%3E%3Cul%20style%3D%27color%3A%20white%3B%3Blist-style-type%3Acircle%3Balign-item%3Aleft%3Bpadding-left%3A20px%3Bpadding-right%3A20px%27%3E%3Cli%3EConfirmed%3A%202363%3C/li%3E%3C/ul%3E%3C/div%3E%0A%20%20%20%20%20%20%20%20%20%20%20%20%20%20%20%20%20%3C/div%3E%60%2C%0A%20%20%20%20%20%20%20%20%20%20%20%20%20%20%20%20%7B%22sticky%22%3A%20true%7D%0A%20%20%20%20%20%20%20%20%20%20%20%20%29%3B%0A%20%20%20%20%20%20%20%20%0A%20%20%20%20%0A%20%20%20%20%20%20%20%20%20%20%20%20var%20circle_ffd562ae64d3431bb13444f118ee7202%20%3D%20L.circle%28%0A%20%20%20%20%20%20%20%20%20%20%20%20%20%20%20%20%5B46.8852%2C%20-56.3159%5D%2C%0A%20%20%20%20%20%20%20%20%20%20%20%20%20%20%20%20%7B%22bubblingMouseEvents%22%3A%20true%2C%20%22color%22%3A%20%22red%22%2C%20%22dashArray%22%3A%20null%2C%20%22dashOffset%22%3A%20null%2C%20%22fill%22%3A%20true%2C%20%22fillColor%22%3A%20%22indigo%22%2C%20%22fillOpacity%22%3A%200.2%2C%20%22fillRule%22%3A%20%22evenodd%22%2C%20%22lineCap%22%3A%20%22round%22%2C%20%22lineJoin%22%3A%20%22round%22%2C%20%22opacity%22%3A%201.0%2C%20%22radius%22%3A%2042000.0%2C%20%22stroke%22%3A%20true%2C%20%22weight%22%3A%203%7D%0A%20%20%20%20%20%20%20%20%20%20%20%20%29.addTo%28map_eb660f0cadf14412ab360cc7dee84180%29%3B%0A%20%20%20%20%20%20%20%20%0A%20%20%20%20%0A%20%20%20%20%20%20%20%20%20%20%20%20circle_ffd562ae64d3431bb13444f118ee7202.bindTooltip%28%0A%20%20%20%20%20%20%20%20%20%20%20%20%20%20%20%20%60%3Cdiv%3E%0A%20%20%20%20%20%20%20%20%20%20%20%20%20%20%20%20%20%20%20%20%20%3Cdiv%20style%3D%27margin%3A%200%3B%20background-color%3A%20black%3B%20color%3A%20white%3B%27%3E%3Ch4%20style%3D%27text-align%3Acenter%3Bfont-weight%3A%20bold%27%3EFrance%3C/h4%3E%3Chr%20style%3D%27margin%3A10px%3Bcolor%3A%20white%3B%27%3E%3Cul%20style%3D%27color%3A%20white%3B%3Blist-style-type%3Acircle%3Balign-item%3Aleft%3Bpadding-left%3A20px%3Bpadding-right%3A20px%27%3E%3Cli%3EConfirmed%3A%20113%3C/li%3E%3C/ul%3E%3C/div%3E%0A%20%20%20%20%20%20%20%20%20%20%20%20%20%20%20%20%20%3C/div%3E%60%2C%0A%20%20%20%20%20%20%20%20%20%20%20%20%20%20%20%20%7B%22sticky%22%3A%20true%7D%0A%20%20%20%20%20%20%20%20%20%20%20%20%29%3B%0A%20%20%20%20%20%20%20%20%0A%20%20%20%20%0A%20%20%20%20%20%20%20%20%20%20%20%20var%20circle_cee62eed48e24240aada9f625debda6b%20%3D%20L.circle%28%0A%20%20%20%20%20%20%20%20%20%20%20%20%20%20%20%20%5B18.0708%2C%20-63.0501%5D%2C%0A%20%20%20%20%20%20%20%20%20%20%20%20%20%20%20%20%7B%22bubblingMouseEvents%22%3A%20true%2C%20%22color%22%3A%20%22red%22%2C%20%22dashArray%22%3A%20null%2C%20%22dashOffset%22%3A%20null%2C%20%22fill%22%3A%20true%2C%20%22fillColor%22%3A%20%22indigo%22%2C%20%22fillOpacity%22%3A%200.2%2C%20%22fillRule%22%3A%20%22evenodd%22%2C%20%22lineCap%22%3A%20%22round%22%2C%20%22lineJoin%22%3A%20%22round%22%2C%20%22opacity%22%3A%201.0%2C%20%22radius%22%3A%2082000.0%2C%20%22stroke%22%3A%20true%2C%20%22weight%22%3A%203%7D%0A%20%20%20%20%20%20%20%20%20%20%20%20%29.addTo%28map_eb660f0cadf14412ab360cc7dee84180%29%3B%0A%20%20%20%20%20%20%20%20%0A%20%20%20%20%0A%20%20%20%20%20%20%20%20%20%20%20%20circle_cee62eed48e24240aada9f625debda6b.bindTooltip%28%0A%20%20%20%20%20%20%20%20%20%20%20%20%20%20%20%20%60%3Cdiv%3E%0A%20%20%20%20%20%20%20%20%20%20%20%20%20%20%20%20%20%20%20%20%20%3Cdiv%20style%3D%27margin%3A%200%3B%20background-color%3A%20black%3B%20color%3A%20white%3B%27%3E%3Ch4%20style%3D%27text-align%3Acenter%3Bfont-weight%3A%20bold%27%3EFrance%3C/h4%3E%3Chr%20style%3D%27margin%3A10px%3Bcolor%3A%20white%3B%27%3E%3Cul%20style%3D%27color%3A%20white%3B%3Blist-style-type%3Acircle%3Balign-item%3Aleft%3Bpadding-left%3A20px%3Bpadding-right%3A20px%27%3E%3Cli%3EConfirmed%3A%205148%3C/li%3E%3C/ul%3E%3C/div%3E%0A%20%20%20%20%20%20%20%20%20%20%20%20%20%20%20%20%20%3C/div%3E%60%2C%0A%20%20%20%20%20%20%20%20%20%20%20%20%20%20%20%20%7B%22sticky%22%3A%20true%7D%0A%20%20%20%20%20%20%20%20%20%20%20%20%29%3B%0A%20%20%20%20%20%20%20%20%0A%20%20%20%20%0A%20%20%20%20%20%20%20%20%20%20%20%20var%20circle_62a10ed975eb41148593e8746b69ea62%20%3D%20L.circle%28%0A%20%20%20%20%20%20%20%20%20%20%20%20%20%20%20%20%5B-14.2938%2C%20-178.1165%5D%2C%0A%20%20%20%20%20%20%20%20%20%20%20%20%20%20%20%20%7B%22bubblingMouseEvents%22%3A%20true%2C%20%22color%22%3A%20%22red%22%2C%20%22dashArray%22%3A%20null%2C%20%22dashOffset%22%3A%20null%2C%20%22fill%22%3A%20true%2C%20%22fillColor%22%3A%20%22indigo%22%2C%20%22fillOpacity%22%3A%200.2%2C%20%22fillRule%22%3A%20%22evenodd%22%2C%20%22lineCap%22%3A%20%22round%22%2C%20%22lineJoin%22%3A%20%22round%22%2C%20%22opacity%22%3A%201.0%2C%20%22radius%22%3A%2062000.0%2C%20%22stroke%22%3A%20true%2C%20%22weight%22%3A%203%7D%0A%20%20%20%20%20%20%20%20%20%20%20%20%29.addTo%28map_eb660f0cadf14412ab360cc7dee84180%29%3B%0A%20%20%20%20%20%20%20%20%0A%20%20%20%20%0A%20%20%20%20%20%20%20%20%20%20%20%20circle_62a10ed975eb41148593e8746b69ea62.bindTooltip%28%0A%20%20%20%20%20%20%20%20%20%20%20%20%20%20%20%20%60%3Cdiv%3E%0A%20%20%20%20%20%20%20%20%20%20%20%20%20%20%20%20%20%20%20%20%20%3Cdiv%20style%3D%27margin%3A%200%3B%20background-color%3A%20black%3B%20color%3A%20white%3B%27%3E%3Ch4%20style%3D%27text-align%3Acenter%3Bfont-weight%3A%20bold%27%3EFrance%3C/h4%3E%3Chr%20style%3D%27margin%3A10px%3Bcolor%3A%20white%3B%27%3E%3Cul%20style%3D%27color%3A%20white%3B%3Blist-style-type%3Acircle%3Balign-item%3Aleft%3Bpadding-left%3A20px%3Bpadding-right%3A20px%27%3E%3Cli%3EConfirmed%3A%20454%3C/li%3E%3C/ul%3E%3C/div%3E%0A%20%20%20%20%20%20%20%20%20%20%20%20%20%20%20%20%20%3C/div%3E%60%2C%0A%20%20%20%20%20%20%20%20%20%20%20%20%20%20%20%20%7B%22sticky%22%3A%20true%7D%0A%20%20%20%20%20%20%20%20%20%20%20%20%29%3B%0A%20%20%20%20%20%20%20%20%0A%20%20%20%20%0A%20%20%20%20%20%20%20%20%20%20%20%20var%20circle_5f65788306a841a885cf46fbe628274f%20%3D%20L.circle%28%0A%20%20%20%20%20%20%20%20%20%20%20%20%20%20%20%20%5B46.2276%2C%202.2137%5D%2C%0A%20%20%20%20%20%20%20%20%20%20%20%20%20%20%20%20%7B%22bubblingMouseEvents%22%3A%20true%2C%20%22color%22%3A%20%22red%22%2C%20%22dashArray%22%3A%20null%2C%20%22dashOffset%22%3A%20null%2C%20%22fill%22%3A%20true%2C%20%22fillColor%22%3A%20%22indigo%22%2C%20%22fillOpacity%22%3A%200.2%2C%20%22fillRule%22%3A%20%22evenodd%22%2C%20%22lineCap%22%3A%20%22round%22%2C%20%22lineJoin%22%3A%20%22round%22%2C%20%22opacity%22%3A%201.0%2C%20%22radius%22%3A%20162000.0%2C%20%22stroke%22%3A%20true%2C%20%22weight%22%3A%203%7D%0A%20%20%20%20%20%20%20%20%20%20%20%20%29.addTo%28map_eb660f0cadf14412ab360cc7dee84180%29%3B%0A%20%20%20%20%20%20%20%20%0A%20%20%20%20%0A%20%20%20%20%20%20%20%20%20%20%20%20circle_5f65788306a841a885cf46fbe628274f.bindTooltip%28%0A%20%20%20%20%20%20%20%20%20%20%20%20%20%20%20%20%60%3Cdiv%3E%0A%20%20%20%20%20%20%20%20%20%20%20%20%20%20%20%20%20%20%20%20%20%3Cdiv%20style%3D%27margin%3A%200%3B%20background-color%3A%20black%3B%20color%3A%20white%3B%27%3E%3Ch4%20style%3D%27text-align%3Acenter%3Bfont-weight%3A%20bold%27%3EFrance%3C/h4%3E%3Chr%20style%3D%27margin%3A10px%3Bcolor%3A%20white%3B%27%3E%3Cul%20style%3D%27color%3A%20white%3B%3Blist-style-type%3Acircle%3Balign-item%3Aleft%3Bpadding-left%3A20px%3Bpadding-right%3A20px%27%3E%3Cli%3EConfirmed%3A%2011875607%3C/li%3E%3C/ul%3E%3C/div%3E%0A%20%20%20%20%20%20%20%20%20%20%20%20%20%20%20%20%20%3C/div%3E%60%2C%0A%20%20%20%20%20%20%20%20%20%20%20%20%20%20%20%20%7B%22sticky%22%3A%20true%7D%0A%20%20%20%20%20%20%20%20%20%20%20%20%29%3B%0A%20%20%20%20%20%20%20%20%0A%20%20%20%20%0A%20%20%20%20%20%20%20%20%20%20%20%20var%20circle_6142dfd3a7504098bb3a4aa697476ebc%20%3D%20L.circle%28%0A%20%20%20%20%20%20%20%20%20%20%20%20%20%20%20%20%5B-0.8037%2C%2011.6094%5D%2C%0A%20%20%20%20%20%20%20%20%20%20%20%20%20%20%20%20%7B%22bubblingMouseEvents%22%3A%20true%2C%20%22color%22%3A%20%22red%22%2C%20%22dashArray%22%3A%20null%2C%20%22dashOffset%22%3A%20null%2C%20%22fill%22%3A%20true%2C%20%22fillColor%22%3A%20%22indigo%22%2C%20%22fillOpacity%22%3A%200.2%2C%20%22fillRule%22%3A%20%22evenodd%22%2C%20%22lineCap%22%3A%20%22round%22%2C%20%22lineJoin%22%3A%20%22round%22%2C%20%22opacity%22%3A%201.0%2C%20%22radius%22%3A%20102000.0%2C%20%22stroke%22%3A%20true%2C%20%22weight%22%3A%203%7D%0A%20%20%20%20%20%20%20%20%20%20%20%20%29.addTo%28map_eb660f0cadf14412ab360cc7dee84180%29%3B%0A%20%20%20%20%20%20%20%20%0A%20%20%20%20%0A%20%20%20%20%20%20%20%20%20%20%20%20circle_6142dfd3a7504098bb3a4aa697476ebc.bindTooltip%28%0A%20%20%20%20%20%20%20%20%20%20%20%20%20%20%20%20%60%3Cdiv%3E%0A%20%20%20%20%20%20%20%20%20%20%20%20%20%20%20%20%20%20%20%20%20%3Cdiv%20style%3D%27margin%3A%200%3B%20background-color%3A%20black%3B%20color%3A%20white%3B%27%3E%3Ch4%20style%3D%27text-align%3Acenter%3Bfont-weight%3A%20bold%27%3EGabon%3C/h4%3E%3Chr%20style%3D%27margin%3A10px%3Bcolor%3A%20white%3B%27%3E%3Cul%20style%3D%27color%3A%20white%3B%3Blist-style-type%3Acircle%3Balign-item%3Aleft%3Bpadding-left%3A20px%3Bpadding-right%3A20px%27%3E%3Cli%3EConfirmed%3A%2043939%3C/li%3E%3C/ul%3E%3C/div%3E%0A%20%20%20%20%20%20%20%20%20%20%20%20%20%20%20%20%20%3C/div%3E%60%2C%0A%20%20%20%20%20%20%20%20%20%20%20%20%20%20%20%20%7B%22sticky%22%3A%20true%7D%0A%20%20%20%20%20%20%20%20%20%20%20%20%29%3B%0A%20%20%20%20%20%20%20%20%0A%20%20%20%20%0A%20%20%20%20%20%20%20%20%20%20%20%20var%20circle_24b337ee46694d4694ae4e7f31c98600%20%3D%20L.circle%28%0A%20%20%20%20%20%20%20%20%20%20%20%20%20%20%20%20%5B13.4432%2C%20-15.3101%5D%2C%0A%20%20%20%20%20%20%20%20%20%20%20%20%20%20%20%20%7B%22bubblingMouseEvents%22%3A%20true%2C%20%22color%22%3A%20%22red%22%2C%20%22dashArray%22%3A%20null%2C%20%22dashOffset%22%3A%20null%2C%20%22fill%22%3A%20true%2C%20%22fillColor%22%3A%20%22indigo%22%2C%20%22fillOpacity%22%3A%200.2%2C%20%22fillRule%22%3A%20%22evenodd%22%2C%20%22lineCap%22%3A%20%22round%22%2C%20%22lineJoin%22%3A%20%22round%22%2C%20%22opacity%22%3A%201.0%2C%20%22radius%22%3A%2092000.0%2C%20%22stroke%22%3A%20true%2C%20%22weight%22%3A%203%7D%0A%20%20%20%20%20%20%20%20%20%20%20%20%29.addTo%28map_eb660f0cadf14412ab360cc7dee84180%29%3B%0A%20%20%20%20%20%20%20%20%0A%20%20%20%20%0A%20%20%20%20%20%20%20%20%20%20%20%20circle_24b337ee46694d4694ae4e7f31c98600.bindTooltip%28%0A%20%20%20%20%20%20%20%20%20%20%20%20%20%20%20%20%60%3Cdiv%3E%0A%20%20%20%20%20%20%20%20%20%20%20%20%20%20%20%20%20%20%20%20%20%3Cdiv%20style%3D%27margin%3A%200%3B%20background-color%3A%20black%3B%20color%3A%20white%3B%27%3E%3Ch4%20style%3D%27text-align%3Acenter%3Bfont-weight%3A%20bold%27%3EGambia%3C/h4%3E%3Chr%20style%3D%27margin%3A10px%3Bcolor%3A%20white%3B%27%3E%3Cul%20style%3D%27color%3A%20white%3B%3Blist-style-type%3Acircle%3Balign-item%3Aleft%3Bpadding-left%3A20px%3Bpadding-right%3A20px%27%3E%3Cli%3EConfirmed%3A%2010792%3C/li%3E%3C/ul%3E%3C/div%3E%0A%20%20%20%20%20%20%20%20%20%20%20%20%20%20%20%20%20%3C/div%3E%60%2C%0A%20%20%20%20%20%20%20%20%20%20%20%20%20%20%20%20%7B%22sticky%22%3A%20true%7D%0A%20%20%20%20%20%20%20%20%20%20%20%20%29%3B%0A%20%20%20%20%20%20%20%20%0A%20%20%20%20%0A%20%20%20%20%20%20%20%20%20%20%20%20var%20circle_6fb4ab6094184a0387a3fd47ff97160e%20%3D%20L.circle%28%0A%20%20%20%20%20%20%20%20%20%20%20%20%20%20%20%20%5B42.3154%2C%2043.3569%5D%2C%0A%20%20%20%20%20%20%20%20%20%20%20%20%20%20%20%20%7B%22bubblingMouseEvents%22%3A%20true%2C%20%22color%22%3A%20%22red%22%2C%20%22dashArray%22%3A%20null%2C%20%22dashOffset%22%3A%20null%2C%20%22fill%22%3A%20true%2C%20%22fillColor%22%3A%20%22indigo%22%2C%20%22fillOpacity%22%3A%200.2%2C%20%22fillRule%22%3A%20%22evenodd%22%2C%20%22lineCap%22%3A%20%22round%22%2C%20%22lineJoin%22%3A%20%22round%22%2C%20%22opacity%22%3A%201.0%2C%20%22radius%22%3A%20132000.0%2C%20%22stroke%22%3A%20true%2C%20%22weight%22%3A%203%7D%0A%20%20%20%20%20%20%20%20%20%20%20%20%29.addTo%28map_eb660f0cadf14412ab360cc7dee84180%29%3B%0A%20%20%20%20%20%20%20%20%0A%20%20%20%20%0A%20%20%20%20%20%20%20%20%20%20%20%20circle_6fb4ab6094184a0387a3fd47ff97160e.bindTooltip%28%0A%20%20%20%20%20%20%20%20%20%20%20%20%20%20%20%20%60%3Cdiv%3E%0A%20%20%20%20%20%20%20%20%20%20%20%20%20%20%20%20%20%20%20%20%20%3Cdiv%20style%3D%27margin%3A%200%3B%20background-color%3A%20black%3B%20color%3A%20white%3B%27%3E%3Ch4%20style%3D%27text-align%3Acenter%3Bfont-weight%3A%20bold%27%3EGeorgia%3C/h4%3E%3Chr%20style%3D%27margin%3A10px%3Bcolor%3A%20white%3B%27%3E%3Cul%20style%3D%27color%3A%20white%3B%3Blist-style-type%3Acircle%3Balign-item%3Aleft%3Bpadding-left%3A20px%3Bpadding-right%3A20px%27%3E%3Cli%3EConfirmed%3A%20959874%3C/li%3E%3C/ul%3E%3C/div%3E%0A%20%20%20%20%20%20%20%20%20%20%20%20%20%20%20%20%20%3C/div%3E%60%2C%0A%20%20%20%20%20%20%20%20%20%20%20%20%20%20%20%20%7B%22sticky%22%3A%20true%7D%0A%20%20%20%20%20%20%20%20%20%20%20%20%29%3B%0A%20%20%20%20%20%20%20%20%0A%20%20%20%20%0A%20%20%20%20%20%20%20%20%20%20%20%20var%20circle_11bc416f8e544d14a42aed2b39b32d70%20%3D%20L.circle%28%0A%20%20%20%20%20%20%20%20%20%20%20%20%20%20%20%20%5B51.165691%2C%2010.451526%5D%2C%0A%20%20%20%20%20%20%20%20%20%20%20%20%20%20%20%20%7B%22bubblingMouseEvents%22%3A%20true%2C%20%22color%22%3A%20%22red%22%2C%20%22dashArray%22%3A%20null%2C%20%22dashOffset%22%3A%20null%2C%20%22fill%22%3A%20true%2C%20%22fillColor%22%3A%20%22indigo%22%2C%20%22fillOpacity%22%3A%200.2%2C%20%22fillRule%22%3A%20%22evenodd%22%2C%20%22lineCap%22%3A%20%22round%22%2C%20%22lineJoin%22%3A%20%22round%22%2C%20%22opacity%22%3A%201.0%2C%20%22radius%22%3A%20152000.0%2C%20%22stroke%22%3A%20true%2C%20%22weight%22%3A%203%7D%0A%20%20%20%20%20%20%20%20%20%20%20%20%29.addTo%28map_eb660f0cadf14412ab360cc7dee84180%29%3B%0A%20%20%20%20%20%20%20%20%0A%20%20%20%20%0A%20%20%20%20%20%20%20%20%20%20%20%20circle_11bc416f8e544d14a42aed2b39b32d70.bindTooltip%28%0A%20%20%20%20%20%20%20%20%20%20%20%20%20%20%20%20%60%3Cdiv%3E%0A%20%20%20%20%20%20%20%20%20%20%20%20%20%20%20%20%20%20%20%20%20%3Cdiv%20style%3D%27margin%3A%200%3B%20background-color%3A%20black%3B%20color%3A%20white%3B%27%3E%3Ch4%20style%3D%27text-align%3Acenter%3Bfont-weight%3A%20bold%27%3EGermany%3C/h4%3E%3Chr%20style%3D%27margin%3A10px%3Bcolor%3A%20white%3B%27%3E%3Cul%20style%3D%27color%3A%20white%3B%3Blist-style-type%3Acircle%3Balign-item%3Aleft%3Bpadding-left%3A20px%3Bpadding-right%3A20px%27%3E%3Cli%3EConfirmed%3A%207553743%3C/li%3E%3C/ul%3E%3C/div%3E%0A%20%20%20%20%20%20%20%20%20%20%20%20%20%20%20%20%20%3C/div%3E%60%2C%0A%20%20%20%20%20%20%20%20%20%20%20%20%20%20%20%20%7B%22sticky%22%3A%20true%7D%0A%20%20%20%20%20%20%20%20%20%20%20%20%29%3B%0A%20%20%20%20%20%20%20%20%0A%20%20%20%20%0A%20%20%20%20%20%20%20%20%20%20%20%20var%20circle_cf5070588c4c4b87a1b54caede38a415%20%3D%20L.circle%28%0A%20%20%20%20%20%20%20%20%20%20%20%20%20%20%20%20%5B7.9465%2C%20-1.0232%5D%2C%0A%20%20%20%20%20%20%20%20%20%20%20%20%20%20%20%20%7B%22bubblingMouseEvents%22%3A%20true%2C%20%22color%22%3A%20%22red%22%2C%20%22dashArray%22%3A%20null%2C%20%22dashOffset%22%3A%20null%2C%20%22fill%22%3A%20true%2C%20%22fillColor%22%3A%20%22indigo%22%2C%20%22fillOpacity%22%3A%200.2%2C%20%22fillRule%22%3A%20%22evenodd%22%2C%20%22lineCap%22%3A%20%22round%22%2C%20%22lineJoin%22%3A%20%22round%22%2C%20%22opacity%22%3A%201.0%2C%20%22radius%22%3A%20112000.0%2C%20%22stroke%22%3A%20true%2C%20%22weight%22%3A%203%7D%0A%20%20%20%20%20%20%20%20%20%20%20%20%29.addTo%28map_eb660f0cadf14412ab360cc7dee84180%29%3B%0A%20%20%20%20%20%20%20%20%0A%20%20%20%20%0A%20%20%20%20%20%20%20%20%20%20%20%20circle_cf5070588c4c4b87a1b54caede38a415.bindTooltip%28%0A%20%20%20%20%20%20%20%20%20%20%20%20%20%20%20%20%60%3Cdiv%3E%0A%20%20%20%20%20%20%20%20%20%20%20%20%20%20%20%20%20%20%20%20%20%3Cdiv%20style%3D%27margin%3A%200%3B%20background-color%3A%20black%3B%20color%3A%20white%3B%27%3E%3Ch4%20style%3D%27text-align%3Acenter%3Bfont-weight%3A%20bold%27%3EGhana%3C/h4%3E%3Chr%20style%3D%27margin%3A10px%3Bcolor%3A%20white%3B%27%3E%3Cul%20style%3D%27color%3A%20white%3B%3Blist-style-type%3Acircle%3Balign-item%3Aleft%3Bpadding-left%3A20px%3Bpadding-right%3A20px%27%3E%3Cli%3EConfirmed%3A%20150874%3C/li%3E%3C/ul%3E%3C/div%3E%0A%20%20%20%20%20%20%20%20%20%20%20%20%20%20%20%20%20%3C/div%3E%60%2C%0A%20%20%20%20%20%20%20%20%20%20%20%20%20%20%20%20%7B%22sticky%22%3A%20true%7D%0A%20%20%20%20%20%20%20%20%20%20%20%20%29%3B%0A%20%20%20%20%20%20%20%20%0A%20%20%20%20%0A%20%20%20%20%20%20%20%20%20%20%20%20var%20circle_597d4dcb62cf4c62b889251365aaa9e6%20%3D%20L.circle%28%0A%20%20%20%20%20%20%20%20%20%20%20%20%20%20%20%20%5B39.0742%2C%2021.8243%5D%2C%0A%20%20%20%20%20%20%20%20%20%20%20%20%20%20%20%20%7B%22bubblingMouseEvents%22%3A%20true%2C%20%22color%22%3A%20%22red%22%2C%20%22dashArray%22%3A%20null%2C%20%22dashOffset%22%3A%20null%2C%20%22fill%22%3A%20true%2C%20%22fillColor%22%3A%20%22indigo%22%2C%20%22fillOpacity%22%3A%200.2%2C%20%22fillRule%22%3A%20%22evenodd%22%2C%20%22lineCap%22%3A%20%22round%22%2C%20%22lineJoin%22%3A%20%22round%22%2C%20%22opacity%22%3A%201.0%2C%20%22radius%22%3A%20142000.0%2C%20%22stroke%22%3A%20true%2C%20%22weight%22%3A%203%7D%0A%20%20%20%20%20%20%20%20%20%20%20%20%29.addTo%28map_eb660f0cadf14412ab360cc7dee84180%29%3B%0A%20%20%20%20%20%20%20%20%0A%20%20%20%20%0A%20%20%20%20%20%20%20%20%20%20%20%20circle_597d4dcb62cf4c62b889251365aaa9e6.bindTooltip%28%0A%20%20%20%20%20%20%20%20%20%20%20%20%20%20%20%20%60%3Cdiv%3E%0A%20%20%20%20%20%20%20%20%20%20%20%20%20%20%20%20%20%20%20%20%20%3Cdiv%20style%3D%27margin%3A%200%3B%20background-color%3A%20black%3B%20color%3A%20white%3B%27%3E%3Ch4%20style%3D%27text-align%3Acenter%3Bfont-weight%3A%20bold%27%3EGreece%3C/h4%3E%3Chr%20style%3D%27margin%3A10px%3Bcolor%3A%20white%3B%27%3E%3Cul%20style%3D%27color%3A%20white%3B%3Blist-style-type%3Acircle%3Balign-item%3Aleft%3Bpadding-left%3A20px%3Bpadding-right%3A20px%27%3E%3Cli%3EConfirmed%3A%201507616%3C/li%3E%3C/ul%3E%3C/div%3E%0A%20%20%20%20%20%20%20%20%20%20%20%20%20%20%20%20%20%3C/div%3E%60%2C%0A%20%20%20%20%20%20%20%20%20%20%20%20%20%20%20%20%7B%22sticky%22%3A%20true%7D%0A%20%20%20%20%20%20%20%20%20%20%20%20%29%3B%0A%20%20%20%20%20%20%20%20%0A%20%20%20%20%0A%20%20%20%20%20%20%20%20%20%20%20%20var%20circle_09965747c99a4ce0acd093d2498cb648%20%3D%20L.circle%28%0A%20%20%20%20%20%20%20%20%20%20%20%20%20%20%20%20%5B12.1165%2C%20-61.679%5D%2C%0A%20%20%20%20%20%20%20%20%20%20%20%20%20%20%20%20%7B%22bubblingMouseEvents%22%3A%20true%2C%20%22color%22%3A%20%22red%22%2C%20%22dashArray%22%3A%20null%2C%20%22dashOffset%22%3A%20null%2C%20%22fill%22%3A%20true%2C%20%22fillColor%22%3A%20%22indigo%22%2C%20%22fillOpacity%22%3A%200.2%2C%20%22fillRule%22%3A%20%22evenodd%22%2C%20%22lineCap%22%3A%20%22round%22%2C%20%22lineJoin%22%3A%20%22round%22%2C%20%22opacity%22%3A%201.0%2C%20%22radius%22%3A%2082000.0%2C%20%22stroke%22%3A%20true%2C%20%22weight%22%3A%203%7D%0A%20%20%20%20%20%20%20%20%20%20%20%20%29.addTo%28map_eb660f0cadf14412ab360cc7dee84180%29%3B%0A%20%20%20%20%20%20%20%20%0A%20%20%20%20%0A%20%20%20%20%20%20%20%20%20%20%20%20circle_09965747c99a4ce0acd093d2498cb648.bindTooltip%28%0A%20%20%20%20%20%20%20%20%20%20%20%20%20%20%20%20%60%3Cdiv%3E%0A%20%20%20%20%20%20%20%20%20%20%20%20%20%20%20%20%20%20%20%20%20%3Cdiv%20style%3D%27margin%3A%200%3B%20background-color%3A%20black%3B%20color%3A%20white%3B%27%3E%3Ch4%20style%3D%27text-align%3Acenter%3Bfont-weight%3A%20bold%27%3EGrenada%3C/h4%3E%3Chr%20style%3D%27margin%3A10px%3Bcolor%3A%20white%3B%27%3E%3Cul%20style%3D%27color%3A%20white%3B%3Blist-style-type%3Acircle%3Balign-item%3Aleft%3Bpadding-left%3A20px%3Bpadding-right%3A20px%27%3E%3Cli%3EConfirmed%3A%207699%3C/li%3E%3C/ul%3E%3C/div%3E%0A%20%20%20%20%20%20%20%20%20%20%20%20%20%20%20%20%20%3C/div%3E%60%2C%0A%20%20%20%20%20%20%20%20%20%20%20%20%20%20%20%20%7B%22sticky%22%3A%20true%7D%0A%20%20%20%20%20%20%20%20%20%20%20%20%29%3B%0A%20%20%20%20%20%20%20%20%0A%20%20%20%20%0A%20%20%20%20%20%20%20%20%20%20%20%20var%20circle_d5a44e11c70446d3b87dbf06815e7ae8%20%3D%20L.circle%28%0A%20%20%20%20%20%20%20%20%20%20%20%20%20%20%20%20%5B15.7835%2C%20-90.2308%5D%2C%0A%20%20%20%20%20%20%20%20%20%20%20%20%20%20%20%20%7B%22bubblingMouseEvents%22%3A%20true%2C%20%22color%22%3A%20%22red%22%2C%20%22dashArray%22%3A%20null%2C%20%22dashOffset%22%3A%20null%2C%20%22fill%22%3A%20true%2C%20%22fillColor%22%3A%20%22indigo%22%2C%20%22fillOpacity%22%3A%200.2%2C%20%22fillRule%22%3A%20%22evenodd%22%2C%20%22lineCap%22%3A%20%22round%22%2C%20%22lineJoin%22%3A%20%22round%22%2C%20%22opacity%22%3A%201.0%2C%20%22radius%22%3A%20132000.0%2C%20%22stroke%22%3A%20true%2C%20%22weight%22%3A%203%7D%0A%20%20%20%20%20%20%20%20%20%20%20%20%29.addTo%28map_eb660f0cadf14412ab360cc7dee84180%29%3B%0A%20%20%20%20%20%20%20%20%0A%20%20%20%20%0A%20%20%20%20%20%20%20%20%20%20%20%20circle_d5a44e11c70446d3b87dbf06815e7ae8.bindTooltip%28%0A%20%20%20%20%20%20%20%20%20%20%20%20%20%20%20%20%60%3Cdiv%3E%0A%20%20%20%20%20%20%20%20%20%20%20%20%20%20%20%20%20%20%20%20%20%3Cdiv%20style%3D%27margin%3A%200%3B%20background-color%3A%20black%3B%20color%3A%20white%3B%27%3E%3Ch4%20style%3D%27text-align%3Acenter%3Bfont-weight%3A%20bold%27%3EGuatemala%3C/h4%3E%3Chr%20style%3D%27margin%3A10px%3Bcolor%3A%20white%3B%27%3E%3Cul%20style%3D%27color%3A%20white%3B%3Blist-style-type%3Acircle%3Balign-item%3Aleft%3Bpadding-left%3A20px%3Bpadding-right%3A20px%27%3E%3Cli%3EConfirmed%3A%20638705%3C/li%3E%3C/ul%3E%3C/div%3E%0A%20%20%20%20%20%20%20%20%20%20%20%20%20%20%20%20%20%3C/div%3E%60%2C%0A%20%20%20%20%20%20%20%20%20%20%20%20%20%20%20%20%7B%22sticky%22%3A%20true%7D%0A%20%20%20%20%20%20%20%20%20%20%20%20%29%3B%0A%20%20%20%20%20%20%20%20%0A%20%20%20%20%0A%20%20%20%20%20%20%20%20%20%20%20%20var%20circle_db1b23d56a064e21b96dc724c0d7e6eb%20%3D%20L.circle%28%0A%20%20%20%20%20%20%20%20%20%20%20%20%20%20%20%20%5B9.9456%2C%20-9.6966%5D%2C%0A%20%20%20%20%20%20%20%20%20%20%20%20%20%20%20%20%7B%22bubblingMouseEvents%22%3A%20true%2C%20%22color%22%3A%20%22red%22%2C%20%22dashArray%22%3A%20null%2C%20%22dashOffset%22%3A%20null%2C%20%22fill%22%3A%20true%2C%20%22fillColor%22%3A%20%22indigo%22%2C%20%22fillOpacity%22%3A%200.2%2C%20%22fillRule%22%3A%20%22evenodd%22%2C%20%22lineCap%22%3A%20%22round%22%2C%20%22lineJoin%22%3A%20%22round%22%2C%20%22opacity%22%3A%201.0%2C%20%22radius%22%3A%20102000.0%2C%20%22stroke%22%3A%20true%2C%20%22weight%22%3A%203%7D%0A%20%20%20%20%20%20%20%20%20%20%20%20%29.addTo%28map_eb660f0cadf14412ab360cc7dee84180%29%3B%0A%20%20%20%20%20%20%20%20%0A%20%20%20%20%0A%20%20%20%20%20%20%20%20%20%20%20%20circle_db1b23d56a064e21b96dc724c0d7e6eb.bindTooltip%28%0A%20%20%20%20%20%20%20%20%20%20%20%20%20%20%20%20%60%3Cdiv%3E%0A%20%20%20%20%20%20%20%20%20%20%20%20%20%20%20%20%20%20%20%20%20%3Cdiv%20style%3D%27margin%3A%200%3B%20background-color%3A%20black%3B%20color%3A%20white%3B%27%3E%3Ch4%20style%3D%27text-align%3Acenter%3Bfont-weight%3A%20bold%27%3EGuinea%3C/h4%3E%3Chr%20style%3D%27margin%3A10px%3Bcolor%3A%20white%3B%27%3E%3Cul%20style%3D%27color%3A%20white%3B%3Blist-style-type%3Acircle%3Balign-item%3Aleft%3Bpadding-left%3A20px%3Bpadding-right%3A20px%27%3E%3Cli%3EConfirmed%3A%2034673%3C/li%3E%3C/ul%3E%3C/div%3E%0A%20%20%20%20%20%20%20%20%20%20%20%20%20%20%20%20%20%3C/div%3E%60%2C%0A%20%20%20%20%20%20%20%20%20%20%20%20%20%20%20%20%7B%22sticky%22%3A%20true%7D%0A%20%20%20%20%20%20%20%20%20%20%20%20%29%3B%0A%20%20%20%20%20%20%20%20%0A%20%20%20%20%0A%20%20%20%20%20%20%20%20%20%20%20%20var%20circle_7ab7f996bc14444998a58e3595399f3a%20%3D%20L.circle%28%0A%20%20%20%20%20%20%20%20%20%20%20%20%20%20%20%20%5B11.8037%2C%20-15.1804%5D%2C%0A%20%20%20%20%20%20%20%20%20%20%20%20%20%20%20%20%7B%22bubblingMouseEvents%22%3A%20true%2C%20%22color%22%3A%20%22red%22%2C%20%22dashArray%22%3A%20null%2C%20%22dashOffset%22%3A%20null%2C%20%22fill%22%3A%20true%2C%20%22fillColor%22%3A%20%22indigo%22%2C%20%22fillOpacity%22%3A%200.2%2C%20%22fillRule%22%3A%20%22evenodd%22%2C%20%22lineCap%22%3A%20%22round%22%2C%20%22lineJoin%22%3A%20%22round%22%2C%20%22opacity%22%3A%201.0%2C%20%22radius%22%3A%2082000.0%2C%20%22stroke%22%3A%20true%2C%20%22weight%22%3A%203%7D%0A%20%20%20%20%20%20%20%20%20%20%20%20%29.addTo%28map_eb660f0cadf14412ab360cc7dee84180%29%3B%0A%20%20%20%20%20%20%20%20%0A%20%20%20%20%0A%20%20%20%20%20%20%20%20%20%20%20%20circle_7ab7f996bc14444998a58e3595399f3a.bindTooltip%28%0A%20%20%20%20%20%20%20%20%20%20%20%20%20%20%20%20%60%3Cdiv%3E%0A%20%20%20%20%20%20%20%20%20%20%20%20%20%20%20%20%20%20%20%20%20%3Cdiv%20style%3D%27margin%3A%200%3B%20background-color%3A%20black%3B%20color%3A%20white%3B%27%3E%3Ch4%20style%3D%27text-align%3Acenter%3Bfont-weight%3A%20bold%27%3EGuinea-Bissau%3C/h4%3E%3Chr%20style%3D%27margin%3A10px%3Bcolor%3A%20white%3B%27%3E%3Cul%20style%3D%27color%3A%20white%3B%3Blist-style-type%3Acircle%3Balign-item%3Aleft%3Bpadding-left%3A20px%3Bpadding-right%3A20px%27%3E%3Cli%3EConfirmed%3A%206694%3C/li%3E%3C/ul%3E%3C/div%3E%0A%20%20%20%20%20%20%20%20%20%20%20%20%20%20%20%20%20%3C/div%3E%60%2C%0A%20%20%20%20%20%20%20%20%20%20%20%20%20%20%20%20%7B%22sticky%22%3A%20true%7D%0A%20%20%20%20%20%20%20%20%20%20%20%20%29%3B%0A%20%20%20%20%20%20%20%20%0A%20%20%20%20%0A%20%20%20%20%20%20%20%20%20%20%20%20var%20circle_9947684534cb4e96bbfabda51409f3f6%20%3D%20L.circle%28%0A%20%20%20%20%20%20%20%20%20%20%20%20%20%20%20%20%5B4.860416%2C%20-58.93018%5D%2C%0A%20%20%20%20%20%20%20%20%20%20%20%20%20%20%20%20%7B%22bubblingMouseEvents%22%3A%20true%2C%20%22color%22%3A%20%22red%22%2C%20%22dashArray%22%3A%20null%2C%20%22dashOffset%22%3A%20null%2C%20%22fill%22%3A%20true%2C%20%22fillColor%22%3A%20%22indigo%22%2C%20%22fillOpacity%22%3A%200.2%2C%20%22fillRule%22%3A%20%22evenodd%22%2C%20%22lineCap%22%3A%20%22round%22%2C%20%22lineJoin%22%3A%20%22round%22%2C%20%22opacity%22%3A%201.0%2C%20%22radius%22%3A%20102000.0%2C%20%22stroke%22%3A%20true%2C%20%22weight%22%3A%203%7D%0A%20%20%20%20%20%20%20%20%20%20%20%20%29.addTo%28map_eb660f0cadf14412ab360cc7dee84180%29%3B%0A%20%20%20%20%20%20%20%20%0A%20%20%20%20%0A%20%20%20%20%20%20%20%20%20%20%20%20circle_9947684534cb4e96bbfabda51409f3f6.bindTooltip%28%0A%20%20%20%20%20%20%20%20%20%20%20%20%20%20%20%20%60%3Cdiv%3E%0A%20%20%20%20%20%20%20%20%20%20%20%20%20%20%20%20%20%20%20%20%20%3Cdiv%20style%3D%27margin%3A%200%3B%20background-color%3A%20black%3B%20color%3A%20white%3B%27%3E%3Ch4%20style%3D%27text-align%3Acenter%3Bfont-weight%3A%20bold%27%3EGuyana%3C/h4%3E%3Chr%20style%3D%27margin%3A10px%3Bcolor%3A%20white%3B%27%3E%3Cul%20style%3D%27color%3A%20white%3B%3Blist-style-type%3Acircle%3Balign-item%3Aleft%3Bpadding-left%3A20px%3Bpadding-right%3A20px%27%3E%3Cli%3EConfirmed%3A%2044902%3C/li%3E%3C/ul%3E%3C/div%3E%0A%20%20%20%20%20%20%20%20%20%20%20%20%20%20%20%20%20%3C/div%3E%60%2C%0A%20%20%20%20%20%20%20%20%20%20%20%20%20%20%20%20%7B%22sticky%22%3A%20true%7D%0A%20%20%20%20%20%20%20%20%20%20%20%20%29%3B%0A%20%20%20%20%20%20%20%20%0A%20%20%20%20%0A%20%20%20%20%20%20%20%20%20%20%20%20var%20circle_424506bfc94747899348fc5ddc58c788%20%3D%20L.circle%28%0A%20%20%20%20%20%20%20%20%20%20%20%20%20%20%20%20%5B18.9712%2C%20-72.2852%5D%2C%0A%20%20%20%20%20%20%20%20%20%20%20%20%20%20%20%20%7B%22bubblingMouseEvents%22%3A%20true%2C%20%22color%22%3A%20%22red%22%2C%20%22dashArray%22%3A%20null%2C%20%22dashOffset%22%3A%20null%2C%20%22fill%22%3A%20true%2C%20%22fillColor%22%3A%20%22indigo%22%2C%20%22fillOpacity%22%3A%200.2%2C%20%22fillRule%22%3A%20%22evenodd%22%2C%20%22lineCap%22%3A%20%22round%22%2C%20%22lineJoin%22%3A%20%22round%22%2C%20%22opacity%22%3A%201.0%2C%20%22radius%22%3A%20102000.0%2C%20%22stroke%22%3A%20true%2C%20%22weight%22%3A%203%7D%0A%20%20%20%20%20%20%20%20%20%20%20%20%29.addTo%28map_eb660f0cadf14412ab360cc7dee84180%29%3B%0A%20%20%20%20%20%20%20%20%0A%20%20%20%20%0A%20%20%20%20%20%20%20%20%20%20%20%20circle_424506bfc94747899348fc5ddc58c788.bindTooltip%28%0A%20%20%20%20%20%20%20%20%20%20%20%20%20%20%20%20%60%3Cdiv%3E%0A%20%20%20%20%20%20%20%20%20%20%20%20%20%20%20%20%20%20%20%20%20%3Cdiv%20style%3D%27margin%3A%200%3B%20background-color%3A%20black%3B%20color%3A%20white%3B%27%3E%3Ch4%20style%3D%27text-align%3Acenter%3Bfont-weight%3A%20bold%27%3EHaiti%3C/h4%3E%3Chr%20style%3D%27margin%3A10px%3Bcolor%3A%20white%3B%27%3E%3Cul%20style%3D%27color%3A%20white%3B%3Blist-style-type%3Acircle%3Balign-item%3Aleft%3Bpadding-left%3A20px%3Bpadding-right%3A20px%27%3E%3Cli%3EConfirmed%3A%2026654%3C/li%3E%3C/ul%3E%3C/div%3E%0A%20%20%20%20%20%20%20%20%20%20%20%20%20%20%20%20%20%3C/div%3E%60%2C%0A%20%20%20%20%20%20%20%20%20%20%20%20%20%20%20%20%7B%22sticky%22%3A%20true%7D%0A%20%20%20%20%20%20%20%20%20%20%20%20%29%3B%0A%20%20%20%20%20%20%20%20%0A%20%20%20%20%0A%20%20%20%20%20%20%20%20%20%20%20%20var%20circle_0d79eb8f8dfb42b2a5dad79ac8d21dcb%20%3D%20L.circle%28%0A%20%20%20%20%20%20%20%20%20%20%20%20%20%20%20%20%5B41.9029%2C%2012.4534%5D%2C%0A%20%20%20%20%20%20%20%20%20%20%20%20%20%20%20%20%7B%22bubblingMouseEvents%22%3A%20true%2C%20%22color%22%3A%20%22red%22%2C%20%22dashArray%22%3A%20null%2C%20%22dashOffset%22%3A%20null%2C%20%22fill%22%3A%20true%2C%20%22fillColor%22%3A%20%22indigo%22%2C%20%22fillOpacity%22%3A%200.2%2C%20%22fillRule%22%3A%20%22evenodd%22%2C%20%22lineCap%22%3A%20%22round%22%2C%20%22lineJoin%22%3A%20%22round%22%2C%20%22opacity%22%3A%201.0%2C%20%22radius%22%3A%2032000.0%2C%20%22stroke%22%3A%20true%2C%20%22weight%22%3A%203%7D%0A%20%20%20%20%20%20%20%20%20%20%20%20%29.addTo%28map_eb660f0cadf14412ab360cc7dee84180%29%3B%0A%20%20%20%20%20%20%20%20%0A%20%20%20%20%0A%20%20%20%20%20%20%20%20%20%20%20%20circle_0d79eb8f8dfb42b2a5dad79ac8d21dcb.bindTooltip%28%0A%20%20%20%20%20%20%20%20%20%20%20%20%20%20%20%20%60%3Cdiv%3E%0A%20%20%20%20%20%20%20%20%20%20%20%20%20%20%20%20%20%20%20%20%20%3Cdiv%20style%3D%27margin%3A%200%3B%20background-color%3A%20black%3B%20color%3A%20white%3B%27%3E%3Ch4%20style%3D%27text-align%3Acenter%3Bfont-weight%3A%20bold%27%3EHoly%20See%3C/h4%3E%3Chr%20style%3D%27margin%3A10px%3Bcolor%3A%20white%3B%27%3E%3Cul%20style%3D%27color%3A%20white%3B%3Blist-style-type%3Acircle%3Balign-item%3Aleft%3Bpadding-left%3A20px%3Bpadding-right%3A20px%27%3E%3Cli%3EConfirmed%3A%2027%3C/li%3E%3C/ul%3E%3C/div%3E%0A%20%20%20%20%20%20%20%20%20%20%20%20%20%20%20%20%20%3C/div%3E%60%2C%0A%20%20%20%20%20%20%20%20%20%20%20%20%20%20%20%20%7B%22sticky%22%3A%20true%7D%0A%20%20%20%20%20%20%20%20%20%20%20%20%29%3B%0A%20%20%20%20%20%20%20%20%0A%20%20%20%20%0A%20%20%20%20%20%20%20%20%20%20%20%20var%20circle_32842c9154244e63bd80ffa7278d1d87%20%3D%20L.circle%28%0A%20%20%20%20%20%20%20%20%20%20%20%20%20%20%20%20%5B15.2%2C%20-86.2419%5D%2C%0A%20%20%20%20%20%20%20%20%20%20%20%20%20%20%20%20%7B%22bubblingMouseEvents%22%3A%20true%2C%20%22color%22%3A%20%22red%22%2C%20%22dashArray%22%3A%20null%2C%20%22dashOffset%22%3A%20null%2C%20%22fill%22%3A%20true%2C%20%22fillColor%22%3A%20%22indigo%22%2C%20%22fillOpacity%22%3A%200.2%2C%20%22fillRule%22%3A%20%22evenodd%22%2C%20%22lineCap%22%3A%20%22round%22%2C%20%22lineJoin%22%3A%20%22round%22%2C%20%22opacity%22%3A%201.0%2C%20%22radius%22%3A%20122000.0%2C%20%22stroke%22%3A%20true%2C%20%22weight%22%3A%203%7D%0A%20%20%20%20%20%20%20%20%20%20%20%20%29.addTo%28map_eb660f0cadf14412ab360cc7dee84180%29%3B%0A%20%20%20%20%20%20%20%20%0A%20%20%20%20%0A%20%20%20%20%20%20%20%20%20%20%20%20circle_32842c9154244e63bd80ffa7278d1d87.bindTooltip%28%0A%20%20%20%20%20%20%20%20%20%20%20%20%20%20%20%20%60%3Cdiv%3E%0A%20%20%20%20%20%20%20%20%20%20%20%20%20%20%20%20%20%20%20%20%20%3Cdiv%20style%3D%27margin%3A%200%3B%20background-color%3A%20black%3B%20color%3A%20white%3B%27%3E%3Ch4%20style%3D%27text-align%3Acenter%3Bfont-weight%3A%20bold%27%3EHonduras%3C/h4%3E%3Chr%20style%3D%27margin%3A10px%3Bcolor%3A%20white%3B%27%3E%3Cul%20style%3D%27color%3A%20white%3B%3Blist-style-type%3Acircle%3Balign-item%3Aleft%3Bpadding-left%3A20px%3Bpadding-right%3A20px%27%3E%3Cli%3EConfirmed%3A%20381254%3C/li%3E%3C/ul%3E%3C/div%3E%0A%20%20%20%20%20%20%20%20%20%20%20%20%20%20%20%20%20%3C/div%3E%60%2C%0A%20%20%20%20%20%20%20%20%20%20%20%20%20%20%20%20%7B%22sticky%22%3A%20true%7D%0A%20%20%20%20%20%20%20%20%20%20%20%20%29%3B%0A%20%20%20%20%20%20%20%20%0A%20%20%20%20%0A%20%20%20%20%20%20%20%20%20%20%20%20var%20circle_a5fb89dd3e624c109df0569757d47aa5%20%3D%20L.circle%28%0A%20%20%20%20%20%20%20%20%20%20%20%20%20%20%20%20%5B47.1625%2C%2019.5033%5D%2C%0A%20%20%20%20%20%20%20%20%20%20%20%20%20%20%20%20%7B%22bubblingMouseEvents%22%3A%20true%2C%20%22color%22%3A%20%22red%22%2C%20%22dashArray%22%3A%20null%2C%20%22dashOffset%22%3A%20null%2C%20%22fill%22%3A%20true%2C%20%22fillColor%22%3A%20%22indigo%22%2C%20%22fillOpacity%22%3A%200.2%2C%20%22fillRule%22%3A%20%22evenodd%22%2C%20%22lineCap%22%3A%20%22round%22%2C%20%22lineJoin%22%3A%20%22round%22%2C%20%22opacity%22%3A%201.0%2C%20%22radius%22%3A%20142000.0%2C%20%22stroke%22%3A%20true%2C%20%22weight%22%3A%203%7D%0A%20%20%20%20%20%20%20%20%20%20%20%20%29.addTo%28map_eb660f0cadf14412ab360cc7dee84180%29%3B%0A%20%20%20%20%20%20%20%20%0A%20%20%20%20%0A%20%20%20%20%20%20%20%20%20%20%20%20circle_a5fb89dd3e624c109df0569757d47aa5.bindTooltip%28%0A%20%20%20%20%20%20%20%20%20%20%20%20%20%20%20%20%60%3Cdiv%3E%0A%20%20%20%20%20%20%20%20%20%20%20%20%20%20%20%20%20%20%20%20%20%3Cdiv%20style%3D%27margin%3A%200%3B%20background-color%3A%20black%3B%20color%3A%20white%3B%27%3E%3Ch4%20style%3D%27text-align%3Acenter%3Bfont-weight%3A%20bold%27%3EHungary%3C/h4%3E%3Chr%20style%3D%27margin%3A10px%3Bcolor%3A%20white%3B%27%3E%3Cul%20style%3D%27color%3A%20white%3B%3Blist-style-type%3Acircle%3Balign-item%3Aleft%3Bpadding-left%3A20px%3Bpadding-right%3A20px%27%3E%3Cli%3EConfirmed%3A%201282957%3C/li%3E%3C/ul%3E%3C/div%3E%0A%20%20%20%20%20%20%20%20%20%20%20%20%20%20%20%20%20%3C/div%3E%60%2C%0A%20%20%20%20%20%20%20%20%20%20%20%20%20%20%20%20%7B%22sticky%22%3A%20true%7D%0A%20%20%20%20%20%20%20%20%20%20%20%20%29%3B%0A%20%20%20%20%20%20%20%20%0A%20%20%20%20%0A%20%20%20%20%20%20%20%20%20%20%20%20var%20circle_93da5f322cae4a61ba3f189e913beb9c%20%3D%20L.circle%28%0A%20%20%20%20%20%20%20%20%20%20%20%20%20%20%20%20%5B64.9631%2C%20-19.0208%5D%2C%0A%20%20%20%20%20%20%20%20%20%20%20%20%20%20%20%20%7B%22bubblingMouseEvents%22%3A%20true%2C%20%22color%22%3A%20%22red%22%2C%20%22dashArray%22%3A%20null%2C%20%22dashOffset%22%3A%20null%2C%20%22fill%22%3A%20true%2C%20%22fillColor%22%3A%20%22indigo%22%2C%20%22fillOpacity%22%3A%200.2%2C%20%22fillRule%22%3A%20%22evenodd%22%2C%20%22lineCap%22%3A%20%22round%22%2C%20%22lineJoin%22%3A%20%22round%22%2C%20%22opacity%22%3A%201.0%2C%20%22radius%22%3A%20102000.0%2C%20%22stroke%22%3A%20true%2C%20%22weight%22%3A%203%7D%0A%20%20%20%20%20%20%20%20%20%20%20%20%29.addTo%28map_eb660f0cadf14412ab360cc7dee84180%29%3B%0A%20%20%20%20%20%20%20%20%0A%20%20%20%20%0A%20%20%20%20%20%20%20%20%20%20%20%20circle_93da5f322cae4a61ba3f189e913beb9c.bindTooltip%28%0A%20%20%20%20%20%20%20%20%20%20%20%20%20%20%20%20%60%3Cdiv%3E%0A%20%20%20%20%20%20%20%20%20%20%20%20%20%20%20%20%20%20%20%20%20%3Cdiv%20style%3D%27margin%3A%200%3B%20background-color%3A%20black%3B%20color%3A%20white%3B%27%3E%3Ch4%20style%3D%27text-align%3Acenter%3Bfont-weight%3A%20bold%27%3EIceland%3C/h4%3E%3Chr%20style%3D%27margin%3A10px%3Bcolor%3A%20white%3B%27%3E%3Cul%20style%3D%27color%3A%20white%3B%3Blist-style-type%3Acircle%3Balign-item%3Aleft%3Bpadding-left%3A20px%3Bpadding-right%3A20px%27%3E%3Cli%3EConfirmed%3A%2036447%3C/li%3E%3C/ul%3E%3C/div%3E%0A%20%20%20%20%20%20%20%20%20%20%20%20%20%20%20%20%20%3C/div%3E%60%2C%0A%20%20%20%20%20%20%20%20%20%20%20%20%20%20%20%20%7B%22sticky%22%3A%20true%7D%0A%20%20%20%20%20%20%20%20%20%20%20%20%29%3B%0A%20%20%20%20%20%20%20%20%0A%20%20%20%20%0A%20%20%20%20%20%20%20%20%20%20%20%20var%20circle_1c4bc53e834b495d934c4cbe4f2ab4dc%20%3D%20L.circle%28%0A%20%20%20%20%20%20%20%20%20%20%20%20%20%20%20%20%5B20.593684%2C%2078.96288%5D%2C%0A%20%20%20%20%20%20%20%20%20%20%20%20%20%20%20%20%7B%22bubblingMouseEvents%22%3A%20true%2C%20%22color%22%3A%20%22red%22%2C%20%22dashArray%22%3A%20null%2C%20%22dashOffset%22%3A%20null%2C%20%22fill%22%3A%20true%2C%20%22fillColor%22%3A%20%22indigo%22%2C%20%22fillOpacity%22%3A%200.2%2C%20%22fillRule%22%3A%20%22evenodd%22%2C%20%22lineCap%22%3A%20%22round%22%2C%20%22lineJoin%22%3A%20%22round%22%2C%20%22opacity%22%3A%201.0%2C%20%22radius%22%3A%20172000.0%2C%20%22stroke%22%3A%20true%2C%20%22weight%22%3A%203%7D%0A%20%20%20%20%20%20%20%20%20%20%20%20%29.addTo%28map_eb660f0cadf14412ab360cc7dee84180%29%3B%0A%20%20%20%20%20%20%20%20%0A%20%20%20%20%0A%20%20%20%20%20%20%20%20%20%20%20%20circle_1c4bc53e834b495d934c4cbe4f2ab4dc.bindTooltip%28%0A%20%20%20%20%20%20%20%20%20%20%20%20%20%20%20%20%60%3Cdiv%3E%0A%20%20%20%20%20%20%20%20%20%20%20%20%20%20%20%20%20%20%20%20%20%3Cdiv%20style%3D%27margin%3A%200%3B%20background-color%3A%20black%3B%20color%3A%20white%3B%27%3E%3Ch4%20style%3D%27text-align%3Acenter%3Bfont-weight%3A%20bold%27%3EIndia%3C/h4%3E%3Chr%20style%3D%27margin%3A10px%3Bcolor%3A%20white%3B%27%3E%3Cul%20style%3D%27color%3A%20white%3B%3Blist-style-type%3Acircle%3Balign-item%3Aleft%3Bpadding-left%3A20px%3Bpadding-right%3A20px%27%3E%3Cli%3EConfirmed%3A%2035707727%3C/li%3E%3C/ul%3E%3C/div%3E%0A%20%20%20%20%20%20%20%20%20%20%20%20%20%20%20%20%20%3C/div%3E%60%2C%0A%20%20%20%20%20%20%20%20%20%20%20%20%20%20%20%20%7B%22sticky%22%3A%20true%7D%0A%20%20%20%20%20%20%20%20%20%20%20%20%29%3B%0A%20%20%20%20%20%20%20%20%0A%20%20%20%20%0A%20%20%20%20%20%20%20%20%20%20%20%20var%20circle_8aaf19a16053467ca2f8d517bb6d1294%20%3D%20L.circle%28%0A%20%20%20%20%20%20%20%20%20%20%20%20%20%20%20%20%5B-0.7893%2C%20113.9213%5D%2C%0A%20%20%20%20%20%20%20%20%20%20%20%20%20%20%20%20%7B%22bubblingMouseEvents%22%3A%20true%2C%20%22color%22%3A%20%22red%22%2C%20%22dashArray%22%3A%20null%2C%20%22dashOffset%22%3A%20null%2C%20%22fill%22%3A%20true%2C%20%22fillColor%22%3A%20%22indigo%22%2C%20%22fillOpacity%22%3A%200.2%2C%20%22fillRule%22%3A%20%22evenodd%22%2C%20%22lineCap%22%3A%20%22round%22%2C%20%22lineJoin%22%3A%20%22round%22%2C%20%22opacity%22%3A%201.0%2C%20%22radius%22%3A%20152000.0%2C%20%22stroke%22%3A%20true%2C%20%22weight%22%3A%203%7D%0A%20%20%20%20%20%20%20%20%20%20%20%20%29.addTo%28map_eb660f0cadf14412ab360cc7dee84180%29%3B%0A%20%20%20%20%20%20%20%20%0A%20%20%20%20%0A%20%20%20%20%20%20%20%20%20%20%20%20circle_8aaf19a16053467ca2f8d517bb6d1294.bindTooltip%28%0A%20%20%20%20%20%20%20%20%20%20%20%20%20%20%20%20%60%3Cdiv%3E%0A%20%20%20%20%20%20%20%20%20%20%20%20%20%20%20%20%20%20%20%20%20%3Cdiv%20style%3D%27margin%3A%200%3B%20background-color%3A%20black%3B%20color%3A%20white%3B%27%3E%3Ch4%20style%3D%27text-align%3Acenter%3Bfont-weight%3A%20bold%27%3EIndonesia%3C/h4%3E%3Chr%20style%3D%27margin%3A10px%3Bcolor%3A%20white%3B%27%3E%3Cul%20style%3D%27color%3A%20white%3B%3Blist-style-type%3Acircle%3Balign-item%3Aleft%3Bpadding-left%3A20px%3Bpadding-right%3A20px%27%3E%3Cli%3EConfirmed%3A%204266195%3C/li%3E%3C/ul%3E%3C/div%3E%0A%20%20%20%20%20%20%20%20%20%20%20%20%20%20%20%20%20%3C/div%3E%60%2C%0A%20%20%20%20%20%20%20%20%20%20%20%20%20%20%20%20%7B%22sticky%22%3A%20true%7D%0A%20%20%20%20%20%20%20%20%20%20%20%20%29%3B%0A%20%20%20%20%20%20%20%20%0A%20%20%20%20%0A%20%20%20%20%20%20%20%20%20%20%20%20var%20circle_309454d32e0a444a91d45e0a8cd11705%20%3D%20L.circle%28%0A%20%20%20%20%20%20%20%20%20%20%20%20%20%20%20%20%5B32.427908%2C%2053.688046%5D%2C%0A%20%20%20%20%20%20%20%20%20%20%20%20%20%20%20%20%7B%22bubblingMouseEvents%22%3A%20true%2C%20%22color%22%3A%20%22red%22%2C%20%22dashArray%22%3A%20null%2C%20%22dashOffset%22%3A%20null%2C%20%22fill%22%3A%20true%2C%20%22fillColor%22%3A%20%22indigo%22%2C%20%22fillOpacity%22%3A%200.2%2C%20%22fillRule%22%3A%20%22evenodd%22%2C%20%22lineCap%22%3A%20%22round%22%2C%20%22lineJoin%22%3A%20%22round%22%2C%20%22opacity%22%3A%201.0%2C%20%22radius%22%3A%20152000.0%2C%20%22stroke%22%3A%20true%2C%20%22weight%22%3A%203%7D%0A%20%20%20%20%20%20%20%20%20%20%20%20%29.addTo%28map_eb660f0cadf14412ab360cc7dee84180%29%3B%0A%20%20%20%20%20%20%20%20%0A%20%20%20%20%0A%20%20%20%20%20%20%20%20%20%20%20%20circle_309454d32e0a444a91d45e0a8cd11705.bindTooltip%28%0A%20%20%20%20%20%20%20%20%20%20%20%20%20%20%20%20%60%3Cdiv%3E%0A%20%20%20%20%20%20%20%20%20%20%20%20%20%20%20%20%20%20%20%20%20%3Cdiv%20style%3D%27margin%3A%200%3B%20background-color%3A%20black%3B%20color%3A%20white%3B%27%3E%3Ch4%20style%3D%27text-align%3Acenter%3Bfont-weight%3A%20bold%27%3EIran%3C/h4%3E%3Chr%20style%3D%27margin%3A10px%3Bcolor%3A%20white%3B%27%3E%3Cul%20style%3D%27color%3A%20white%3B%3Blist-style-type%3Acircle%3Balign-item%3Aleft%3Bpadding-left%3A20px%3Bpadding-right%3A20px%27%3E%3Cli%3EConfirmed%3A%206206405%3C/li%3E%3C/ul%3E%3C/div%3E%0A%20%20%20%20%20%20%20%20%20%20%20%20%20%20%20%20%20%3C/div%3E%60%2C%0A%20%20%20%20%20%20%20%20%20%20%20%20%20%20%20%20%7B%22sticky%22%3A%20true%7D%0A%20%20%20%20%20%20%20%20%20%20%20%20%29%3B%0A%20%20%20%20%20%20%20%20%0A%20%20%20%20%0A%20%20%20%20%20%20%20%20%20%20%20%20var%20circle_c52094da443e4ebaa2782cb76f01643f%20%3D%20L.circle%28%0A%20%20%20%20%20%20%20%20%20%20%20%20%20%20%20%20%5B33.223191%2C%2043.679291%5D%2C%0A%20%20%20%20%20%20%20%20%20%20%20%20%20%20%20%20%7B%22bubblingMouseEvents%22%3A%20true%2C%20%22color%22%3A%20%22red%22%2C%20%22dashArray%22%3A%20null%2C%20%22dashOffset%22%3A%20null%2C%20%22fill%22%3A%20true%2C%20%22fillColor%22%3A%20%22indigo%22%2C%20%22fillOpacity%22%3A%200.2%2C%20%22fillRule%22%3A%20%22evenodd%22%2C%20%22lineCap%22%3A%20%22round%22%2C%20%22lineJoin%22%3A%20%22round%22%2C%20%22opacity%22%3A%201.0%2C%20%22radius%22%3A%20142000.0%2C%20%22stroke%22%3A%20true%2C%20%22weight%22%3A%203%7D%0A%20%20%20%20%20%20%20%20%20%20%20%20%29.addTo%28map_eb660f0cadf14412ab360cc7dee84180%29%3B%0A%20%20%20%20%20%20%20%20%0A%20%20%20%20%0A%20%20%20%20%20%20%20%20%20%20%20%20circle_c52094da443e4ebaa2782cb76f01643f.bindTooltip%28%0A%20%20%20%20%20%20%20%20%20%20%20%20%20%20%20%20%60%3Cdiv%3E%0A%20%20%20%20%20%20%20%20%20%20%20%20%20%20%20%20%20%20%20%20%20%3Cdiv%20style%3D%27margin%3A%200%3B%20background-color%3A%20black%3B%20color%3A%20white%3B%27%3E%3Ch4%20style%3D%27text-align%3Acenter%3Bfont-weight%3A%20bold%27%3EIraq%3C/h4%3E%3Chr%20style%3D%27margin%3A10px%3Bcolor%3A%20white%3B%27%3E%3Cul%20style%3D%27color%3A%20white%3B%3Blist-style-type%3Acircle%3Balign-item%3Aleft%3Bpadding-left%3A20px%3Bpadding-right%3A20px%27%3E%3Cli%3EConfirmed%3A%202097540%3C/li%3E%3C/ul%3E%3C/div%3E%0A%20%20%20%20%20%20%20%20%20%20%20%20%20%20%20%20%20%3C/div%3E%60%2C%0A%20%20%20%20%20%20%20%20%20%20%20%20%20%20%20%20%7B%22sticky%22%3A%20true%7D%0A%20%20%20%20%20%20%20%20%20%20%20%20%29%3B%0A%20%20%20%20%20%20%20%20%0A%20%20%20%20%0A%20%20%20%20%20%20%20%20%20%20%20%20var%20circle_4772cee6862845ba8768af4de941f553%20%3D%20L.circle%28%0A%20%20%20%20%20%20%20%20%20%20%20%20%20%20%20%20%5B53.1424%2C%20-7.6921%5D%2C%0A%20%20%20%20%20%20%20%20%20%20%20%20%20%20%20%20%7B%22bubblingMouseEvents%22%3A%20true%2C%20%22color%22%3A%20%22red%22%2C%20%22dashArray%22%3A%20null%2C%20%22dashOffset%22%3A%20null%2C%20%22fill%22%3A%20true%2C%20%22fillColor%22%3A%20%22indigo%22%2C%20%22fillOpacity%22%3A%200.2%2C%20%22fillRule%22%3A%20%22evenodd%22%2C%20%22lineCap%22%3A%20%22round%22%2C%20%22lineJoin%22%3A%20%22round%22%2C%20%22opacity%22%3A%201.0%2C%20%22radius%22%3A%20132000.0%2C%20%22stroke%22%3A%20true%2C%20%22weight%22%3A%203%7D%0A%20%20%20%20%20%20%20%20%20%20%20%20%29.addTo%28map_eb660f0cadf14412ab360cc7dee84180%29%3B%0A%20%20%20%20%20%20%20%20%0A%20%20%20%20%0A%20%20%20%20%20%20%20%20%20%20%20%20circle_4772cee6862845ba8768af4de941f553.bindTooltip%28%0A%20%20%20%20%20%20%20%20%20%20%20%20%20%20%20%20%60%3Cdiv%3E%0A%20%20%20%20%20%20%20%20%20%20%20%20%20%20%20%20%20%20%20%20%20%3Cdiv%20style%3D%27margin%3A%200%3B%20background-color%3A%20black%3B%20color%3A%20white%3B%27%3E%3Ch4%20style%3D%27text-align%3Acenter%3Bfont-weight%3A%20bold%27%3EIreland%3C/h4%3E%3Chr%20style%3D%27margin%3A10px%3Bcolor%3A%20white%3B%27%3E%3Cul%20style%3D%27color%3A%20white%3B%3Blist-style-type%3Acircle%3Balign-item%3Aleft%3Bpadding-left%3A20px%3Bpadding-right%3A20px%27%3E%3Cli%3EConfirmed%3A%20978104%3C/li%3E%3C/ul%3E%3C/div%3E%0A%20%20%20%20%20%20%20%20%20%20%20%20%20%20%20%20%20%3C/div%3E%60%2C%0A%20%20%20%20%20%20%20%20%20%20%20%20%20%20%20%20%7B%22sticky%22%3A%20true%7D%0A%20%20%20%20%20%20%20%20%20%20%20%20%29%3B%0A%20%20%20%20%20%20%20%20%0A%20%20%20%20%0A%20%20%20%20%20%20%20%20%20%20%20%20var%20circle_ebeeecb704cd432bbb141e2c0748f895%20%3D%20L.circle%28%0A%20%20%20%20%20%20%20%20%20%20%20%20%20%20%20%20%5B31.046051%2C%2034.851612%5D%2C%0A%20%20%20%20%20%20%20%20%20%20%20%20%20%20%20%20%7B%22bubblingMouseEvents%22%3A%20true%2C%20%22color%22%3A%20%22red%22%2C%20%22dashArray%22%3A%20null%2C%20%22dashOffset%22%3A%20null%2C%20%22fill%22%3A%20true%2C%20%22fillColor%22%3A%20%22indigo%22%2C%20%22fillOpacity%22%3A%200.2%2C%20%22fillRule%22%3A%20%22evenodd%22%2C%20%22lineCap%22%3A%20%22round%22%2C%20%22lineJoin%22%3A%20%22round%22%2C%20%22opacity%22%3A%201.0%2C%20%22radius%22%3A%20142000.0%2C%20%22stroke%22%3A%20true%2C%20%22weight%22%3A%203%7D%0A%20%20%20%20%20%20%20%20%20%20%20%20%29.addTo%28map_eb660f0cadf14412ab360cc7dee84180%29%3B%0A%20%20%20%20%20%20%20%20%0A%20%20%20%20%0A%20%20%20%20%20%20%20%20%20%20%20%20circle_ebeeecb704cd432bbb141e2c0748f895.bindTooltip%28%0A%20%20%20%20%20%20%20%20%20%20%20%20%20%20%20%20%60%3Cdiv%3E%0A%20%20%20%20%20%20%20%20%20%20%20%20%20%20%20%20%20%20%20%20%20%3Cdiv%20style%3D%27margin%3A%200%3B%20background-color%3A%20black%3B%20color%3A%20white%3B%27%3E%3Ch4%20style%3D%27text-align%3Acenter%3Bfont-weight%3A%20bold%27%3EIsrael%3C/h4%3E%3Chr%20style%3D%27margin%3A10px%3Bcolor%3A%20white%3B%27%3E%3Cul%20style%3D%27color%3A%20white%3B%3Blist-style-type%3Acircle%3Balign-item%3Aleft%3Bpadding-left%3A20px%3Bpadding-right%3A20px%27%3E%3Cli%3EConfirmed%3A%201503082%3C/li%3E%3C/ul%3E%3C/div%3E%0A%20%20%20%20%20%20%20%20%20%20%20%20%20%20%20%20%20%3C/div%3E%60%2C%0A%20%20%20%20%20%20%20%20%20%20%20%20%20%20%20%20%7B%22sticky%22%3A%20true%7D%0A%20%20%20%20%20%20%20%20%20%20%20%20%29%3B%0A%20%20%20%20%20%20%20%20%0A%20%20%20%20%0A%20%20%20%20%20%20%20%20%20%20%20%20var%20circle_197246cdeb434c25a27cb1f240f383bb%20%3D%20L.circle%28%0A%20%20%20%20%20%20%20%20%20%20%20%20%20%20%20%20%5B41.87194%2C%2012.56738%5D%2C%0A%20%20%20%20%20%20%20%20%20%20%20%20%20%20%20%20%7B%22bubblingMouseEvents%22%3A%20true%2C%20%22color%22%3A%20%22red%22%2C%20%22dashArray%22%3A%20null%2C%20%22dashOffset%22%3A%20null%2C%20%22fill%22%3A%20true%2C%20%22fillColor%22%3A%20%22indigo%22%2C%20%22fillOpacity%22%3A%200.2%2C%20%22fillRule%22%3A%20%22evenodd%22%2C%20%22lineCap%22%3A%20%22round%22%2C%20%22lineJoin%22%3A%20%22round%22%2C%20%22opacity%22%3A%201.0%2C%20%22radius%22%3A%20152000.0%2C%20%22stroke%22%3A%20true%2C%20%22weight%22%3A%203%7D%0A%20%20%20%20%20%20%20%20%20%20%20%20%29.addTo%28map_eb660f0cadf14412ab360cc7dee84180%29%3B%0A%20%20%20%20%20%20%20%20%0A%20%20%20%20%0A%20%20%20%20%20%20%20%20%20%20%20%20circle_197246cdeb434c25a27cb1f240f383bb.bindTooltip%28%0A%20%20%20%20%20%20%20%20%20%20%20%20%20%20%20%20%60%3Cdiv%3E%0A%20%20%20%20%20%20%20%20%20%20%20%20%20%20%20%20%20%20%20%20%20%3Cdiv%20style%3D%27margin%3A%200%3B%20background-color%3A%20black%3B%20color%3A%20white%3B%27%3E%3Ch4%20style%3D%27text-align%3Acenter%3Bfont-weight%3A%20bold%27%3EItaly%3C/h4%3E%3Chr%20style%3D%27margin%3A10px%3Bcolor%3A%20white%3B%27%3E%3Cul%20style%3D%27color%3A%20white%3B%3Blist-style-type%3Acircle%3Balign-item%3Aleft%3Bpadding-left%3A20px%3Bpadding-right%3A20px%27%3E%3Cli%3EConfirmed%3A%207436939%3C/li%3E%3C/ul%3E%3C/div%3E%0A%20%20%20%20%20%20%20%20%20%20%20%20%20%20%20%20%20%3C/div%3E%60%2C%0A%20%20%20%20%20%20%20%20%20%20%20%20%20%20%20%20%7B%22sticky%22%3A%20true%7D%0A%20%20%20%20%20%20%20%20%20%20%20%20%29%3B%0A%20%20%20%20%20%20%20%20%0A%20%20%20%20%0A%20%20%20%20%20%20%20%20%20%20%20%20var%20circle_2cb2b05e959248ca97b97f46dafccbe1%20%3D%20L.circle%28%0A%20%20%20%20%20%20%20%20%20%20%20%20%20%20%20%20%5B18.1096%2C%20-77.2975%5D%2C%0A%20%20%20%20%20%20%20%20%20%20%20%20%20%20%20%20%7B%22bubblingMouseEvents%22%3A%20true%2C%20%22color%22%3A%20%22red%22%2C%20%22dashArray%22%3A%20null%2C%20%22dashOffset%22%3A%20null%2C%20%22fill%22%3A%20true%2C%20%22fillColor%22%3A%20%22indigo%22%2C%20%22fillOpacity%22%3A%200.2%2C%20%22fillRule%22%3A%20%22evenodd%22%2C%20%22lineCap%22%3A%20%22round%22%2C%20%22lineJoin%22%3A%20%22round%22%2C%20%22opacity%22%3A%201.0%2C%20%22radius%22%3A%20112000.0%2C%20%22stroke%22%3A%20true%2C%20%22weight%22%3A%203%7D%0A%20%20%20%20%20%20%20%20%20%20%20%20%29.addTo%28map_eb660f0cadf14412ab360cc7dee84180%29%3B%0A%20%20%20%20%20%20%20%20%0A%20%20%20%20%0A%20%20%20%20%20%20%20%20%20%20%20%20circle_2cb2b05e959248ca97b97f46dafccbe1.bindTooltip%28%0A%20%20%20%20%20%20%20%20%20%20%20%20%20%20%20%20%60%3Cdiv%3E%0A%20%20%20%20%20%20%20%20%20%20%20%20%20%20%20%20%20%20%20%20%20%3Cdiv%20style%3D%27margin%3A%200%3B%20background-color%3A%20black%3B%20color%3A%20white%3B%27%3E%3Ch4%20style%3D%27text-align%3Acenter%3Bfont-weight%3A%20bold%27%3EJamaica%3C/h4%3E%3Chr%20style%3D%27margin%3A10px%3Bcolor%3A%20white%3B%27%3E%3Cul%20style%3D%27color%3A%20white%3B%3Blist-style-type%3Acircle%3Balign-item%3Aleft%3Bpadding-left%3A20px%3Bpadding-right%3A20px%27%3E%3Cli%3EConfirmed%3A%20102505%3C/li%3E%3C/ul%3E%3C/div%3E%0A%20%20%20%20%20%20%20%20%20%20%20%20%20%20%20%20%20%3C/div%3E%60%2C%0A%20%20%20%20%20%20%20%20%20%20%20%20%20%20%20%20%7B%22sticky%22%3A%20true%7D%0A%20%20%20%20%20%20%20%20%20%20%20%20%29%3B%0A%20%20%20%20%20%20%20%20%0A%20%20%20%20%0A%20%20%20%20%20%20%20%20%20%20%20%20var%20circle_1d626871e12146108ab2bf53bde6feac%20%3D%20L.circle%28%0A%20%20%20%20%20%20%20%20%20%20%20%20%20%20%20%20%5B36.204824%2C%20138.252924%5D%2C%0A%20%20%20%20%20%20%20%20%20%20%20%20%20%20%20%20%7B%22bubblingMouseEvents%22%3A%20true%2C%20%22color%22%3A%20%22red%22%2C%20%22dashArray%22%3A%20null%2C%20%22dashOffset%22%3A%20null%2C%20%22fill%22%3A%20true%2C%20%22fillColor%22%3A%20%22indigo%22%2C%20%22fillOpacity%22%3A%200.2%2C%20%22fillRule%22%3A%20%22evenodd%22%2C%20%22lineCap%22%3A%20%22round%22%2C%20%22lineJoin%22%3A%20%22round%22%2C%20%22opacity%22%3A%201.0%2C%20%22radius%22%3A%20142000.0%2C%20%22stroke%22%3A%20true%2C%20%22weight%22%3A%203%7D%0A%20%20%20%20%20%20%20%20%20%20%20%20%29.addTo%28map_eb660f0cadf14412ab360cc7dee84180%29%3B%0A%20%20%20%20%20%20%20%20%0A%20%20%20%20%0A%20%20%20%20%20%20%20%20%20%20%20%20circle_1d626871e12146108ab2bf53bde6feac.bindTooltip%28%0A%20%20%20%20%20%20%20%20%20%20%20%20%20%20%20%20%60%3Cdiv%3E%0A%20%20%20%20%20%20%20%20%20%20%20%20%20%20%20%20%20%20%20%20%20%3Cdiv%20style%3D%27margin%3A%200%3B%20background-color%3A%20black%3B%20color%3A%20white%3B%27%3E%3Ch4%20style%3D%27text-align%3Acenter%3Bfont-weight%3A%20bold%27%3EJapan%3C/h4%3E%3Chr%20style%3D%27margin%3A10px%3Bcolor%3A%20white%3B%27%3E%3Cul%20style%3D%27color%3A%20white%3B%3Blist-style-type%3Acircle%3Balign-item%3Aleft%3Bpadding-left%3A20px%3Bpadding-right%3A20px%27%3E%3Cli%3EConfirmed%3A%201764280%3C/li%3E%3C/ul%3E%3C/div%3E%0A%20%20%20%20%20%20%20%20%20%20%20%20%20%20%20%20%20%3C/div%3E%60%2C%0A%20%20%20%20%20%20%20%20%20%20%20%20%20%20%20%20%7B%22sticky%22%3A%20true%7D%0A%20%20%20%20%20%20%20%20%20%20%20%20%29%3B%0A%20%20%20%20%20%20%20%20%0A%20%20%20%20%0A%20%20%20%20%20%20%20%20%20%20%20%20var%20circle_df2afa8e985a44bb87d9bfb6293c4029%20%3D%20L.circle%28%0A%20%20%20%20%20%20%20%20%20%20%20%20%20%20%20%20%5B31.24%2C%2036.51%5D%2C%0A%20%20%20%20%20%20%20%20%20%20%20%20%20%20%20%20%7B%22bubblingMouseEvents%22%3A%20true%2C%20%22color%22%3A%20%22red%22%2C%20%22dashArray%22%3A%20null%2C%20%22dashOffset%22%3A%20null%2C%20%22fill%22%3A%20true%2C%20%22fillColor%22%3A%20%22indigo%22%2C%20%22fillOpacity%22%3A%200.2%2C%20%22fillRule%22%3A%20%22evenodd%22%2C%20%22lineCap%22%3A%20%22round%22%2C%20%22lineJoin%22%3A%20%22round%22%2C%20%22opacity%22%3A%201.0%2C%20%22radius%22%3A%20132000.0%2C%20%22stroke%22%3A%20true%2C%20%22weight%22%3A%203%7D%0A%20%20%20%20%20%20%20%20%20%20%20%20%29.addTo%28map_eb660f0cadf14412ab360cc7dee84180%29%3B%0A%20%20%20%20%20%20%20%20%0A%20%20%20%20%0A%20%20%20%20%20%20%20%20%20%20%20%20circle_df2afa8e985a44bb87d9bfb6293c4029.bindTooltip%28%0A%20%20%20%20%20%20%20%20%20%20%20%20%20%20%20%20%60%3Cdiv%3E%0A%20%20%20%20%20%20%20%20%20%20%20%20%20%20%20%20%20%20%20%20%20%3Cdiv%20style%3D%27margin%3A%200%3B%20background-color%3A%20black%3B%20color%3A%20white%3B%27%3E%3Ch4%20style%3D%27text-align%3Acenter%3Bfont-weight%3A%20bold%27%3EJordan%3C/h4%3E%3Chr%20style%3D%27margin%3A10px%3Bcolor%3A%20white%3B%27%3E%3Cul%20style%3D%27color%3A%20white%3B%3Blist-style-type%3Acircle%3Balign-item%3Aleft%3Bpadding-left%3A20px%3Bpadding-right%3A20px%27%3E%3Cli%3EConfirmed%3A%201047953%3C/li%3E%3C/ul%3E%3C/div%3E%0A%20%20%20%20%20%20%20%20%20%20%20%20%20%20%20%20%20%3C/div%3E%60%2C%0A%20%20%20%20%20%20%20%20%20%20%20%20%20%20%20%20%7B%22sticky%22%3A%20true%7D%0A%20%20%20%20%20%20%20%20%20%20%20%20%29%3B%0A%20%20%20%20%20%20%20%20%0A%20%20%20%20%0A%20%20%20%20%20%20%20%20%20%20%20%20var%20circle_a3899c7429df4c55908444c49fefa5c9%20%3D%20L.circle%28%0A%20%20%20%20%20%20%20%20%20%20%20%20%20%20%20%20%5B48.0196%2C%2066.9237%5D%2C%0A%20%20%20%20%20%20%20%20%20%20%20%20%20%20%20%20%7B%22bubblingMouseEvents%22%3A%20true%2C%20%22color%22%3A%20%22red%22%2C%20%22dashArray%22%3A%20null%2C%20%22dashOffset%22%3A%20null%2C%20%22fill%22%3A%20true%2C%20%22fillColor%22%3A%20%22indigo%22%2C%20%22fillOpacity%22%3A%200.2%2C%20%22fillRule%22%3A%20%22evenodd%22%2C%20%22lineCap%22%3A%20%22round%22%2C%20%22lineJoin%22%3A%20%22round%22%2C%20%22opacity%22%3A%201.0%2C%20%22radius%22%3A%20132000.0%2C%20%22stroke%22%3A%20true%2C%20%22weight%22%3A%203%7D%0A%20%20%20%20%20%20%20%20%20%20%20%20%29.addTo%28map_eb660f0cadf14412ab360cc7dee84180%29%3B%0A%20%20%20%20%20%20%20%20%0A%20%20%20%20%0A%20%20%20%20%20%20%20%20%20%20%20%20circle_a3899c7429df4c55908444c49fefa5c9.bindTooltip%28%0A%20%20%20%20%20%20%20%20%20%20%20%20%20%20%20%20%60%3Cdiv%3E%0A%20%20%20%20%20%20%20%20%20%20%20%20%20%20%20%20%20%20%20%20%20%3Cdiv%20style%3D%27margin%3A%200%3B%20background-color%3A%20black%3B%20color%3A%20white%3B%27%3E%3Ch4%20style%3D%27text-align%3Acenter%3Bfont-weight%3A%20bold%27%3EKazakhstan%3C/h4%3E%3Chr%20style%3D%27margin%3A10px%3Bcolor%3A%20white%3B%27%3E%3Cul%20style%3D%27color%3A%20white%3B%3Blist-style-type%3Acircle%3Balign-item%3Aleft%3Bpadding-left%3A20px%3Bpadding-right%3A20px%27%3E%3Cli%3EConfirmed%3A%201081758%3C/li%3E%3C/ul%3E%3C/div%3E%0A%20%20%20%20%20%20%20%20%20%20%20%20%20%20%20%20%20%3C/div%3E%60%2C%0A%20%20%20%20%20%20%20%20%20%20%20%20%20%20%20%20%7B%22sticky%22%3A%20true%7D%0A%20%20%20%20%20%20%20%20%20%20%20%20%29%3B%0A%20%20%20%20%20%20%20%20%0A%20%20%20%20%0A%20%20%20%20%20%20%20%20%20%20%20%20var%20circle_8f1dbc5867b848afae82fe7980a40497%20%3D%20L.circle%28%0A%20%20%20%20%20%20%20%20%20%20%20%20%20%20%20%20%5B-0.0236%2C%2037.9062%5D%2C%0A%20%20%20%20%20%20%20%20%20%20%20%20%20%20%20%20%7B%22bubblingMouseEvents%22%3A%20true%2C%20%22color%22%3A%20%22red%22%2C%20%22dashArray%22%3A%20null%2C%20%22dashOffset%22%3A%20null%2C%20%22fill%22%3A%20true%2C%20%22fillColor%22%3A%20%22indigo%22%2C%20%22fillOpacity%22%3A%200.2%2C%20%22fillRule%22%3A%20%22evenodd%22%2C%20%22lineCap%22%3A%20%22round%22%2C%20%22lineJoin%22%3A%20%22round%22%2C%20%22opacity%22%3A%201.0%2C%20%22radius%22%3A%20122000.0%2C%20%22stroke%22%3A%20true%2C%20%22weight%22%3A%203%7D%0A%20%20%20%20%20%20%20%20%20%20%20%20%29.addTo%28map_eb660f0cadf14412ab360cc7dee84180%29%3B%0A%20%20%20%20%20%20%20%20%0A%20%20%20%20%0A%20%20%20%20%20%20%20%20%20%20%20%20circle_8f1dbc5867b848afae82fe7980a40497.bindTooltip%28%0A%20%20%20%20%20%20%20%20%20%20%20%20%20%20%20%20%60%3Cdiv%3E%0A%20%20%20%20%20%20%20%20%20%20%20%20%20%20%20%20%20%20%20%20%20%3Cdiv%20style%3D%27margin%3A%200%3B%20background-color%3A%20black%3B%20color%3A%20white%3B%27%3E%3Ch4%20style%3D%27text-align%3Acenter%3Bfont-weight%3A%20bold%27%3EKenya%3C/h4%3E%3Chr%20style%3D%27margin%3A10px%3Bcolor%3A%20white%3B%27%3E%3Cul%20style%3D%27color%3A%20white%3B%3Blist-style-type%3Acircle%3Balign-item%3Aleft%3Bpadding-left%3A20px%3Bpadding-right%3A20px%27%3E%3Cli%3EConfirmed%3A%20311538%3C/li%3E%3C/ul%3E%3C/div%3E%0A%20%20%20%20%20%20%20%20%20%20%20%20%20%20%20%20%20%3C/div%3E%60%2C%0A%20%20%20%20%20%20%20%20%20%20%20%20%20%20%20%20%7B%22sticky%22%3A%20true%7D%0A%20%20%20%20%20%20%20%20%20%20%20%20%29%3B%0A%20%20%20%20%20%20%20%20%0A%20%20%20%20%0A%20%20%20%20%20%20%20%20%20%20%20%20var%20circle_a2cb029d2aac40a89294778a70bf53f3%20%3D%20L.circle%28%0A%20%20%20%20%20%20%20%20%20%20%20%20%20%20%20%20%5B-3.3704%2C%20-168.734%5D%2C%0A%20%20%20%20%20%20%20%20%20%20%20%20%20%20%20%20%7B%22bubblingMouseEvents%22%3A%20true%2C%20%22color%22%3A%20%22red%22%2C%20%22dashArray%22%3A%20null%2C%20%22dashOffset%22%3A%20null%2C%20%22fill%22%3A%20true%2C%20%22fillColor%22%3A%20%22indigo%22%2C%20%22fillOpacity%22%3A%200.2%2C%20%22fillRule%22%3A%20%22evenodd%22%2C%20%22lineCap%22%3A%20%22round%22%2C%20%22lineJoin%22%3A%20%22round%22%2C%20%22opacity%22%3A%201.0%2C%20%22radius%22%3A%2012000.0%2C%20%22stroke%22%3A%20true%2C%20%22weight%22%3A%203%7D%0A%20%20%20%20%20%20%20%20%20%20%20%20%29.addTo%28map_eb660f0cadf14412ab360cc7dee84180%29%3B%0A%20%20%20%20%20%20%20%20%0A%20%20%20%20%0A%20%20%20%20%20%20%20%20%20%20%20%20circle_a2cb029d2aac40a89294778a70bf53f3.bindTooltip%28%0A%20%20%20%20%20%20%20%20%20%20%20%20%20%20%20%20%60%3Cdiv%3E%0A%20%20%20%20%20%20%20%20%20%20%20%20%20%20%20%20%20%20%20%20%20%3Cdiv%20style%3D%27margin%3A%200%3B%20background-color%3A%20black%3B%20color%3A%20white%3B%27%3E%3Ch4%20style%3D%27text-align%3Acenter%3Bfont-weight%3A%20bold%27%3EKiribati%3C/h4%3E%3Chr%20style%3D%27margin%3A10px%3Bcolor%3A%20white%3B%27%3E%3Cul%20style%3D%27color%3A%20white%3B%3Blist-style-type%3Acircle%3Balign-item%3Aleft%3Bpadding-left%3A20px%3Bpadding-right%3A20px%27%3E%3Cli%3EConfirmed%3A%202%3C/li%3E%3C/ul%3E%3C/div%3E%0A%20%20%20%20%20%20%20%20%20%20%20%20%20%20%20%20%20%3C/div%3E%60%2C%0A%20%20%20%20%20%20%20%20%20%20%20%20%20%20%20%20%7B%22sticky%22%3A%20true%7D%0A%20%20%20%20%20%20%20%20%20%20%20%20%29%3B%0A%20%20%20%20%20%20%20%20%0A%20%20%20%20%0A%20%20%20%20%20%20%20%20%20%20%20%20var%20circle_a6778ac8c9bc411d8598bcf1fedfd4a4%20%3D%20L.circle%28%0A%20%20%20%20%20%20%20%20%20%20%20%20%20%20%20%20%5B35.907757%2C%20127.766922%5D%2C%0A%20%20%20%20%20%20%20%20%20%20%20%20%20%20%20%20%7B%22bubblingMouseEvents%22%3A%20true%2C%20%22color%22%3A%20%22red%22%2C%20%22dashArray%22%3A%20null%2C%20%22dashOffset%22%3A%20null%2C%20%22fill%22%3A%20true%2C%20%22fillColor%22%3A%20%22indigo%22%2C%20%22fillOpacity%22%3A%200.2%2C%20%22fillRule%22%3A%20%22evenodd%22%2C%20%22lineCap%22%3A%20%22round%22%2C%20%22lineJoin%22%3A%20%22round%22%2C%20%22opacity%22%3A%201.0%2C%20%22radius%22%3A%20132000.0%2C%20%22stroke%22%3A%20true%2C%20%22weight%22%3A%203%7D%0A%20%20%20%20%20%20%20%20%20%20%20%20%29.addTo%28map_eb660f0cadf14412ab360cc7dee84180%29%3B%0A%20%20%20%20%20%20%20%20%0A%20%20%20%20%0A%20%20%20%20%20%20%20%20%20%20%20%20circle_a6778ac8c9bc411d8598bcf1fedfd4a4.bindTooltip%28%0A%20%20%20%20%20%20%20%20%20%20%20%20%20%20%20%20%60%3Cdiv%3E%0A%20%20%20%20%20%20%20%20%20%20%20%20%20%20%20%20%20%20%20%20%20%3Cdiv%20style%3D%27margin%3A%200%3B%20background-color%3A%20black%3B%20color%3A%20white%3B%27%3E%3Ch4%20style%3D%27text-align%3Acenter%3Bfont-weight%3A%20bold%27%3EKorea%2C%20South%3C/h4%3E%3Chr%20style%3D%27margin%3A10px%3Bcolor%3A%20white%3B%27%3E%3Cul%20style%3D%27color%3A%20white%3B%3Blist-style-type%3Acircle%3Balign-item%3Aleft%3Bpadding-left%3A20px%3Bpadding-right%3A20px%27%3E%3Cli%3EConfirmed%3A%20667390%3C/li%3E%3C/ul%3E%3C/div%3E%0A%20%20%20%20%20%20%20%20%20%20%20%20%20%20%20%20%20%3C/div%3E%60%2C%0A%20%20%20%20%20%20%20%20%20%20%20%20%20%20%20%20%7B%22sticky%22%3A%20true%7D%0A%20%20%20%20%20%20%20%20%20%20%20%20%29%3B%0A%20%20%20%20%20%20%20%20%0A%20%20%20%20%0A%20%20%20%20%20%20%20%20%20%20%20%20var%20circle_210998bb8fb3426c9a91f3b05cc6030a%20%3D%20L.circle%28%0A%20%20%20%20%20%20%20%20%20%20%20%20%20%20%20%20%5B42.602636%2C%2020.902977%5D%2C%0A%20%20%20%20%20%20%20%20%20%20%20%20%20%20%20%20%7B%22bubblingMouseEvents%22%3A%20true%2C%20%22color%22%3A%20%22red%22%2C%20%22dashArray%22%3A%20null%2C%20%22dashOffset%22%3A%20null%2C%20%22fill%22%3A%20true%2C%20%22fillColor%22%3A%20%22indigo%22%2C%20%22fillOpacity%22%3A%200.2%2C%20%22fillRule%22%3A%20%22evenodd%22%2C%20%22lineCap%22%3A%20%22round%22%2C%20%22lineJoin%22%3A%20%22round%22%2C%20%22opacity%22%3A%201.0%2C%20%22radius%22%3A%20112000.0%2C%20%22stroke%22%3A%20true%2C%20%22weight%22%3A%203%7D%0A%20%20%20%20%20%20%20%20%20%20%20%20%29.addTo%28map_eb660f0cadf14412ab360cc7dee84180%29%3B%0A%20%20%20%20%20%20%20%20%0A%20%20%20%20%0A%20%20%20%20%20%20%20%20%20%20%20%20circle_210998bb8fb3426c9a91f3b05cc6030a.bindTooltip%28%0A%20%20%20%20%20%20%20%20%20%20%20%20%20%20%20%20%60%3Cdiv%3E%0A%20%20%20%20%20%20%20%20%20%20%20%20%20%20%20%20%20%20%20%20%20%3Cdiv%20style%3D%27margin%3A%200%3B%20background-color%3A%20black%3B%20color%3A%20white%3B%27%3E%3Ch4%20style%3D%27text-align%3Acenter%3Bfont-weight%3A%20bold%27%3EKosovo%3C/h4%3E%3Chr%20style%3D%27margin%3A10px%3Bcolor%3A%20white%3B%27%3E%3Cul%20style%3D%27color%3A%20white%3B%3Blist-style-type%3Acircle%3Balign-item%3Aleft%3Bpadding-left%3A20px%3Bpadding-right%3A20px%27%3E%3Cli%3EConfirmed%3A%20162677%3C/li%3E%3C/ul%3E%3C/div%3E%0A%20%20%20%20%20%20%20%20%20%20%20%20%20%20%20%20%20%3C/div%3E%60%2C%0A%20%20%20%20%20%20%20%20%20%20%20%20%20%20%20%20%7B%22sticky%22%3A%20true%7D%0A%20%20%20%20%20%20%20%20%20%20%20%20%29%3B%0A%20%20%20%20%20%20%20%20%0A%20%20%20%20%0A%20%20%20%20%20%20%20%20%20%20%20%20var%20circle_71d4852b05bb4684b0138a180d3d7d2b%20%3D%20L.circle%28%0A%20%20%20%20%20%20%20%20%20%20%20%20%20%20%20%20%5B29.31166%2C%2047.481766%5D%2C%0A%20%20%20%20%20%20%20%20%20%20%20%20%20%20%20%20%7B%22bubblingMouseEvents%22%3A%20true%2C%20%22color%22%3A%20%22red%22%2C%20%22dashArray%22%3A%20null%2C%20%22dashOffset%22%3A%20null%2C%20%22fill%22%3A%20true%2C%20%22fillColor%22%3A%20%22indigo%22%2C%20%22fillOpacity%22%3A%200.2%2C%20%22fillRule%22%3A%20%22evenodd%22%2C%20%22lineCap%22%3A%20%22round%22%2C%20%22lineJoin%22%3A%20%22round%22%2C%20%22opacity%22%3A%201.0%2C%20%22radius%22%3A%20122000.0%2C%20%22stroke%22%3A%20true%2C%20%22weight%22%3A%203%7D%0A%20%20%20%20%20%20%20%20%20%20%20%20%29.addTo%28map_eb660f0cadf14412ab360cc7dee84180%29%3B%0A%20%20%20%20%20%20%20%20%0A%20%20%20%20%0A%20%20%20%20%20%20%20%20%20%20%20%20circle_71d4852b05bb4684b0138a180d3d7d2b.bindTooltip%28%0A%20%20%20%20%20%20%20%20%20%20%20%20%20%20%20%20%60%3Cdiv%3E%0A%20%20%20%20%20%20%20%20%20%20%20%20%20%20%20%20%20%20%20%20%20%3Cdiv%20style%3D%27margin%3A%200%3B%20background-color%3A%20black%3B%20color%3A%20white%3B%27%3E%3Ch4%20style%3D%27text-align%3Acenter%3Bfont-weight%3A%20bold%27%3EKuwait%3C/h4%3E%3Chr%20style%3D%27margin%3A10px%3Bcolor%3A%20white%3B%27%3E%3Cul%20style%3D%27color%3A%20white%3B%3Blist-style-type%3Acircle%3Balign-item%3Aleft%3Bpadding-left%3A20px%3Bpadding-right%3A20px%27%3E%3Cli%3EConfirmed%3A%20433919%3C/li%3E%3C/ul%3E%3C/div%3E%0A%20%20%20%20%20%20%20%20%20%20%20%20%20%20%20%20%20%3C/div%3E%60%2C%0A%20%20%20%20%20%20%20%20%20%20%20%20%20%20%20%20%7B%22sticky%22%3A%20true%7D%0A%20%20%20%20%20%20%20%20%20%20%20%20%29%3B%0A%20%20%20%20%20%20%20%20%0A%20%20%20%20%0A%20%20%20%20%20%20%20%20%20%20%20%20var%20circle_6d1b39e37a8441ada2c9ed99603ef373%20%3D%20L.circle%28%0A%20%20%20%20%20%20%20%20%20%20%20%20%20%20%20%20%5B41.20438%2C%2074.766098%5D%2C%0A%20%20%20%20%20%20%20%20%20%20%20%20%20%20%20%20%7B%22bubblingMouseEvents%22%3A%20true%2C%20%22color%22%3A%20%22red%22%2C%20%22dashArray%22%3A%20null%2C%20%22dashOffset%22%3A%20null%2C%20%22fill%22%3A%20true%2C%20%22fillColor%22%3A%20%22indigo%22%2C%20%22fillOpacity%22%3A%200.2%2C%20%22fillRule%22%3A%20%22evenodd%22%2C%20%22lineCap%22%3A%20%22round%22%2C%20%22lineJoin%22%3A%20%22round%22%2C%20%22opacity%22%3A%201.0%2C%20%22radius%22%3A%20122000.0%2C%20%22stroke%22%3A%20true%2C%20%22weight%22%3A%203%7D%0A%20%20%20%20%20%20%20%20%20%20%20%20%29.addTo%28map_eb660f0cadf14412ab360cc7dee84180%29%3B%0A%20%20%20%20%20%20%20%20%0A%20%20%20%20%0A%20%20%20%20%20%20%20%20%20%20%20%20circle_6d1b39e37a8441ada2c9ed99603ef373.bindTooltip%28%0A%20%20%20%20%20%20%20%20%20%20%20%20%20%20%20%20%60%3Cdiv%3E%0A%20%20%20%20%20%20%20%20%20%20%20%20%20%20%20%20%20%20%20%20%20%3Cdiv%20style%3D%27margin%3A%200%3B%20background-color%3A%20black%3B%20color%3A%20white%3B%27%3E%3Ch4%20style%3D%27text-align%3Acenter%3Bfont-weight%3A%20bold%27%3EKyrgyzstan%3C/h4%3E%3Chr%20style%3D%27margin%3A10px%3Bcolor%3A%20white%3B%27%3E%3Cul%20style%3D%27color%3A%20white%3B%3Blist-style-type%3Acircle%3Balign-item%3Aleft%3Bpadding-left%3A20px%3Bpadding-right%3A20px%27%3E%3Cli%3EConfirmed%3A%20185867%3C/li%3E%3C/ul%3E%3C/div%3E%0A%20%20%20%20%20%20%20%20%20%20%20%20%20%20%20%20%20%3C/div%3E%60%2C%0A%20%20%20%20%20%20%20%20%20%20%20%20%20%20%20%20%7B%22sticky%22%3A%20true%7D%0A%20%20%20%20%20%20%20%20%20%20%20%20%29%3B%0A%20%20%20%20%20%20%20%20%0A%20%20%20%20%0A%20%20%20%20%20%20%20%20%20%20%20%20var%20circle_5e1008fe29e04d6a8d001be5a605f901%20%3D%20L.circle%28%0A%20%20%20%20%20%20%20%20%20%20%20%20%20%20%20%20%5B19.85627%2C%20102.495496%5D%2C%0A%20%20%20%20%20%20%20%20%20%20%20%20%20%20%20%20%7B%22bubblingMouseEvents%22%3A%20true%2C%20%22color%22%3A%20%22red%22%2C%20%22dashArray%22%3A%20null%2C%20%22dashOffset%22%3A%20null%2C%20%22fill%22%3A%20true%2C%20%22fillColor%22%3A%20%22indigo%22%2C%20%22fillOpacity%22%3A%200.2%2C%20%22fillRule%22%3A%20%22evenodd%22%2C%20%22lineCap%22%3A%20%22round%22%2C%20%22lineJoin%22%3A%20%22round%22%2C%20%22opacity%22%3A%201.0%2C%20%22radius%22%3A%20112000.0%2C%20%22stroke%22%3A%20true%2C%20%22weight%22%3A%203%7D%0A%20%20%20%20%20%20%20%20%20%20%20%20%29.addTo%28map_eb660f0cadf14412ab360cc7dee84180%29%3B%0A%20%20%20%20%20%20%20%20%0A%20%20%20%20%0A%20%20%20%20%20%20%20%20%20%20%20%20circle_5e1008fe29e04d6a8d001be5a605f901.bindTooltip%28%0A%20%20%20%20%20%20%20%20%20%20%20%20%20%20%20%20%60%3Cdiv%3E%0A%20%20%20%20%20%20%20%20%20%20%20%20%20%20%20%20%20%20%20%20%20%3Cdiv%20style%3D%27margin%3A%200%3B%20background-color%3A%20black%3B%20color%3A%20white%3B%27%3E%3Ch4%20style%3D%27text-align%3Acenter%3Bfont-weight%3A%20bold%27%3ELaos%3C/h4%3E%3Chr%20style%3D%27margin%3A10px%3Bcolor%3A%20white%3B%27%3E%3Cul%20style%3D%27color%3A%20white%3B%3Blist-style-type%3Acircle%3Balign-item%3Aleft%3Bpadding-left%3A20px%3Bpadding-right%3A20px%27%3E%3Cli%3EConfirmed%3A%20118880%3C/li%3E%3C/ul%3E%3C/div%3E%0A%20%20%20%20%20%20%20%20%20%20%20%20%20%20%20%20%20%3C/div%3E%60%2C%0A%20%20%20%20%20%20%20%20%20%20%20%20%20%20%20%20%7B%22sticky%22%3A%20true%7D%0A%20%20%20%20%20%20%20%20%20%20%20%20%29%3B%0A%20%20%20%20%20%20%20%20%0A%20%20%20%20%0A%20%20%20%20%20%20%20%20%20%20%20%20var%20circle_42719f58ca6a498f888afdc7d4353104%20%3D%20L.circle%28%0A%20%20%20%20%20%20%20%20%20%20%20%20%20%20%20%20%5B56.8796%2C%2024.6032%5D%2C%0A%20%20%20%20%20%20%20%20%20%20%20%20%20%20%20%20%7B%22bubblingMouseEvents%22%3A%20true%2C%20%22color%22%3A%20%22red%22%2C%20%22dashArray%22%3A%20null%2C%20%22dashOffset%22%3A%20null%2C%20%22fill%22%3A%20true%2C%20%22fillColor%22%3A%20%22indigo%22%2C%20%22fillOpacity%22%3A%200.2%2C%20%22fillRule%22%3A%20%22evenodd%22%2C%20%22lineCap%22%3A%20%22round%22%2C%20%22lineJoin%22%3A%20%22round%22%2C%20%22opacity%22%3A%201.0%2C%20%22radius%22%3A%20122000.0%2C%20%22stroke%22%3A%20true%2C%20%22weight%22%3A%203%7D%0A%20%20%20%20%20%20%20%20%20%20%20%20%29.addTo%28map_eb660f0cadf14412ab360cc7dee84180%29%3B%0A%20%20%20%20%20%20%20%20%0A%20%20%20%20%0A%20%20%20%20%20%20%20%20%20%20%20%20circle_42719f58ca6a498f888afdc7d4353104.bindTooltip%28%0A%20%20%20%20%20%20%20%20%20%20%20%20%20%20%20%20%60%3Cdiv%3E%0A%20%20%20%20%20%20%20%20%20%20%20%20%20%20%20%20%20%20%20%20%20%3Cdiv%20style%3D%27margin%3A%200%3B%20background-color%3A%20black%3B%20color%3A%20white%3B%27%3E%3Ch4%20style%3D%27text-align%3Acenter%3Bfont-weight%3A%20bold%27%3ELatvia%3C/h4%3E%3Chr%20style%3D%27margin%3A10px%3Bcolor%3A%20white%3B%27%3E%3Cul%20style%3D%27color%3A%20white%3B%3Blist-style-type%3Acircle%3Balign-item%3Aleft%3Bpadding-left%3A20px%3Bpadding-right%3A20px%27%3E%3Cli%3EConfirmed%3A%20287851%3C/li%3E%3C/ul%3E%3C/div%3E%0A%20%20%20%20%20%20%20%20%20%20%20%20%20%20%20%20%20%3C/div%3E%60%2C%0A%20%20%20%20%20%20%20%20%20%20%20%20%20%20%20%20%7B%22sticky%22%3A%20true%7D%0A%20%20%20%20%20%20%20%20%20%20%20%20%29%3B%0A%20%20%20%20%20%20%20%20%0A%20%20%20%20%0A%20%20%20%20%20%20%20%20%20%20%20%20var%20circle_bc5b3534c81849aeb577350d68766915%20%3D%20L.circle%28%0A%20%20%20%20%20%20%20%20%20%20%20%20%20%20%20%20%5B33.8547%2C%2035.8623%5D%2C%0A%20%20%20%20%20%20%20%20%20%20%20%20%20%20%20%20%7B%22bubblingMouseEvents%22%3A%20true%2C%20%22color%22%3A%20%22red%22%2C%20%22dashArray%22%3A%20null%2C%20%22dashOffset%22%3A%20null%2C%20%22fill%22%3A%20true%2C%20%22fillColor%22%3A%20%22indigo%22%2C%20%22fillOpacity%22%3A%200.2%2C%20%22fillRule%22%3A%20%22evenodd%22%2C%20%22lineCap%22%3A%20%22round%22%2C%20%22lineJoin%22%3A%20%22round%22%2C%20%22opacity%22%3A%201.0%2C%20%22radius%22%3A%20132000.0%2C%20%22stroke%22%3A%20true%2C%20%22weight%22%3A%203%7D%0A%20%20%20%20%20%20%20%20%20%20%20%20%29.addTo%28map_eb660f0cadf14412ab360cc7dee84180%29%3B%0A%20%20%20%20%20%20%20%20%0A%20%20%20%20%0A%20%20%20%20%20%20%20%20%20%20%20%20circle_bc5b3534c81849aeb577350d68766915.bindTooltip%28%0A%20%20%20%20%20%20%20%20%20%20%20%20%20%20%20%20%60%3Cdiv%3E%0A%20%20%20%20%20%20%20%20%20%20%20%20%20%20%20%20%20%20%20%20%20%3Cdiv%20style%3D%27margin%3A%200%3B%20background-color%3A%20black%3B%20color%3A%20white%3B%27%3E%3Ch4%20style%3D%27text-align%3Acenter%3Bfont-weight%3A%20bold%27%3ELebanon%3C/h4%3E%3Chr%20style%3D%27margin%3A10px%3Bcolor%3A%20white%3B%27%3E%3Cul%20style%3D%27color%3A%20white%3B%3Blist-style-type%3Acircle%3Balign-item%3Aleft%3Bpadding-left%3A20px%3Bpadding-right%3A20px%27%3E%3Cli%3EConfirmed%3A%20774180%3C/li%3E%3C/ul%3E%3C/div%3E%0A%20%20%20%20%20%20%20%20%20%20%20%20%20%20%20%20%20%3C/div%3E%60%2C%0A%20%20%20%20%20%20%20%20%20%20%20%20%20%20%20%20%7B%22sticky%22%3A%20true%7D%0A%20%20%20%20%20%20%20%20%20%20%20%20%29%3B%0A%20%20%20%20%20%20%20%20%0A%20%20%20%20%0A%20%20%20%20%20%20%20%20%20%20%20%20var%20circle_e2518fa2d52946b196ed0cff824d3b0b%20%3D%20L.circle%28%0A%20%20%20%20%20%20%20%20%20%20%20%20%20%20%20%20%5B-29.61%2C%2028.2336%5D%2C%0A%20%20%20%20%20%20%20%20%20%20%20%20%20%20%20%20%7B%22bubblingMouseEvents%22%3A%20true%2C%20%22color%22%3A%20%22red%22%2C%20%22dashArray%22%3A%20null%2C%20%22dashOffset%22%3A%20null%2C%20%22fill%22%3A%20true%2C%20%22fillColor%22%3A%20%22indigo%22%2C%20%22fillOpacity%22%3A%200.2%2C%20%22fillRule%22%3A%20%22evenodd%22%2C%20%22lineCap%22%3A%20%22round%22%2C%20%22lineJoin%22%3A%20%22round%22%2C%20%22opacity%22%3A%201.0%2C%20%22radius%22%3A%20102000.0%2C%20%22stroke%22%3A%20true%2C%20%22weight%22%3A%203%7D%0A%20%20%20%20%20%20%20%20%20%20%20%20%29.addTo%28map_eb660f0cadf14412ab360cc7dee84180%29%3B%0A%20%20%20%20%20%20%20%20%0A%20%20%20%20%0A%20%20%20%20%20%20%20%20%20%20%20%20circle_e2518fa2d52946b196ed0cff824d3b0b.bindTooltip%28%0A%20%20%20%20%20%20%20%20%20%20%20%20%20%20%20%20%60%3Cdiv%3E%0A%20%20%20%20%20%20%20%20%20%20%20%20%20%20%20%20%20%20%20%20%20%3Cdiv%20style%3D%27margin%3A%200%3B%20background-color%3A%20black%3B%20color%3A%20white%3B%27%3E%3Ch4%20style%3D%27text-align%3Acenter%3Bfont-weight%3A%20bold%27%3ELesotho%3C/h4%3E%3Chr%20style%3D%27margin%3A10px%3Bcolor%3A%20white%3B%27%3E%3Cul%20style%3D%27color%3A%20white%3B%3Blist-style-type%3Acircle%3Balign-item%3Aleft%3Bpadding-left%3A20px%3Bpadding-right%3A20px%27%3E%3Cli%3EConfirmed%3A%2031106%3C/li%3E%3C/ul%3E%3C/div%3E%0A%20%20%20%20%20%20%20%20%20%20%20%20%20%20%20%20%20%3C/div%3E%60%2C%0A%20%20%20%20%20%20%20%20%20%20%20%20%20%20%20%20%7B%22sticky%22%3A%20true%7D%0A%20%20%20%20%20%20%20%20%20%20%20%20%29%3B%0A%20%20%20%20%20%20%20%20%0A%20%20%20%20%0A%20%20%20%20%20%20%20%20%20%20%20%20var%20circle_dab24345f7f14db6a5e25a80bae81a9e%20%3D%20L.circle%28%0A%20%20%20%20%20%20%20%20%20%20%20%20%20%20%20%20%5B6.428055%2C%20-9.429499%5D%2C%0A%20%20%20%20%20%20%20%20%20%20%20%20%20%20%20%20%7B%22bubblingMouseEvents%22%3A%20true%2C%20%22color%22%3A%20%22red%22%2C%20%22dashArray%22%3A%20null%2C%20%22dashOffset%22%3A%20null%2C%20%22fill%22%3A%20true%2C%20%22fillColor%22%3A%20%22indigo%22%2C%20%22fillOpacity%22%3A%200.2%2C%20%22fillRule%22%3A%20%22evenodd%22%2C%20%22lineCap%22%3A%20%22round%22%2C%20%22lineJoin%22%3A%20%22round%22%2C%20%22opacity%22%3A%201.0%2C%20%22radius%22%3A%2082000.0%2C%20%22stroke%22%3A%20true%2C%20%22weight%22%3A%203%7D%0A%20%20%20%20%20%20%20%20%20%20%20%20%29.addTo%28map_eb660f0cadf14412ab360cc7dee84180%29%3B%0A%20%20%20%20%20%20%20%20%0A%20%20%20%20%0A%20%20%20%20%20%20%20%20%20%20%20%20circle_dab24345f7f14db6a5e25a80bae81a9e.bindTooltip%28%0A%20%20%20%20%20%20%20%20%20%20%20%20%20%20%20%20%60%3Cdiv%3E%0A%20%20%20%20%20%20%20%20%20%20%20%20%20%20%20%20%20%20%20%20%20%3Cdiv%20style%3D%27margin%3A%200%3B%20background-color%3A%20black%3B%20color%3A%20white%3B%27%3E%3Ch4%20style%3D%27text-align%3Acenter%3Bfont-weight%3A%20bold%27%3ELiberia%3C/h4%3E%3Chr%20style%3D%27margin%3A10px%3Bcolor%3A%20white%3B%27%3E%3Cul%20style%3D%27color%3A%20white%3B%3Blist-style-type%3Acircle%3Balign-item%3Aleft%3Bpadding-left%3A20px%3Bpadding-right%3A20px%27%3E%3Cli%3EConfirmed%3A%206851%3C/li%3E%3C/ul%3E%3C/div%3E%0A%20%20%20%20%20%20%20%20%20%20%20%20%20%20%20%20%20%3C/div%3E%60%2C%0A%20%20%20%20%20%20%20%20%20%20%20%20%20%20%20%20%7B%22sticky%22%3A%20true%7D%0A%20%20%20%20%20%20%20%20%20%20%20%20%29%3B%0A%20%20%20%20%20%20%20%20%0A%20%20%20%20%0A%20%20%20%20%20%20%20%20%20%20%20%20var%20circle_abd15d7cfa6e4f588f477d7047a674ac%20%3D%20L.circle%28%0A%20%20%20%20%20%20%20%20%20%20%20%20%20%20%20%20%5B26.3351%2C%2017.228331%5D%2C%0A%20%20%20%20%20%20%20%20%20%20%20%20%20%20%20%20%7B%22bubblingMouseEvents%22%3A%20true%2C%20%22color%22%3A%20%22red%22%2C%20%22dashArray%22%3A%20null%2C%20%22dashOffset%22%3A%20null%2C%20%22fill%22%3A%20true%2C%20%22fillColor%22%3A%20%22indigo%22%2C%20%22fillOpacity%22%3A%200.2%2C%20%22fillRule%22%3A%20%22evenodd%22%2C%20%22lineCap%22%3A%20%22round%22%2C%20%22lineJoin%22%3A%20%22round%22%2C%20%22opacity%22%3A%201.0%2C%20%22radius%22%3A%20122000.0%2C%20%22stroke%22%3A%20true%2C%20%22weight%22%3A%203%7D%0A%20%20%20%20%20%20%20%20%20%20%20%20%29.addTo%28map_eb660f0cadf14412ab360cc7dee84180%29%3B%0A%20%20%20%20%20%20%20%20%0A%20%20%20%20%0A%20%20%20%20%20%20%20%20%20%20%20%20circle_abd15d7cfa6e4f588f477d7047a674ac.bindTooltip%28%0A%20%20%20%20%20%20%20%20%20%20%20%20%20%20%20%20%60%3Cdiv%3E%0A%20%20%20%20%20%20%20%20%20%20%20%20%20%20%20%20%20%20%20%20%20%3Cdiv%20style%3D%27margin%3A%200%3B%20background-color%3A%20black%3B%20color%3A%20white%3B%27%3E%3Ch4%20style%3D%27text-align%3Acenter%3Bfont-weight%3A%20bold%27%3ELibya%3C/h4%3E%3Chr%20style%3D%27margin%3A10px%3Bcolor%3A%20white%3B%27%3E%3Cul%20style%3D%27color%3A%20white%3B%3Blist-style-type%3Acircle%3Balign-item%3Aleft%3Bpadding-left%3A20px%3Bpadding-right%3A20px%27%3E%3Cli%3EConfirmed%3A%20393447%3C/li%3E%3C/ul%3E%3C/div%3E%0A%20%20%20%20%20%20%20%20%20%20%20%20%20%20%20%20%20%3C/div%3E%60%2C%0A%20%20%20%20%20%20%20%20%20%20%20%20%20%20%20%20%7B%22sticky%22%3A%20true%7D%0A%20%20%20%20%20%20%20%20%20%20%20%20%29%3B%0A%20%20%20%20%20%20%20%20%0A%20%20%20%20%0A%20%20%20%20%20%20%20%20%20%20%20%20var%20circle_5431334783a74a7982bb0b96b42e94bf%20%3D%20L.circle%28%0A%20%20%20%20%20%20%20%20%20%20%20%20%20%20%20%20%5B47.14%2C%209.55%5D%2C%0A%20%20%20%20%20%20%20%20%20%20%20%20%20%20%20%20%7B%22bubblingMouseEvents%22%3A%20true%2C%20%22color%22%3A%20%22red%22%2C%20%22dashArray%22%3A%20null%2C%20%22dashOffset%22%3A%20null%2C%20%22fill%22%3A%20true%2C%20%22fillColor%22%3A%20%22indigo%22%2C%20%22fillOpacity%22%3A%200.2%2C%20%22fillRule%22%3A%20%22evenodd%22%2C%20%22lineCap%22%3A%20%22round%22%2C%20%22lineJoin%22%3A%20%22round%22%2C%20%22opacity%22%3A%201.0%2C%20%22radius%22%3A%2082000.0%2C%20%22stroke%22%3A%20true%2C%20%22weight%22%3A%203%7D%0A%20%20%20%20%20%20%20%20%20%20%20%20%29.addTo%28map_eb660f0cadf14412ab360cc7dee84180%29%3B%0A%20%20%20%20%20%20%20%20%0A%20%20%20%20%0A%20%20%20%20%20%20%20%20%20%20%20%20circle_5431334783a74a7982bb0b96b42e94bf.bindTooltip%28%0A%20%20%20%20%20%20%20%20%20%20%20%20%20%20%20%20%60%3Cdiv%3E%0A%20%20%20%20%20%20%20%20%20%20%20%20%20%20%20%20%20%20%20%20%20%3Cdiv%20style%3D%27margin%3A%200%3B%20background-color%3A%20black%3B%20color%3A%20white%3B%27%3E%3Ch4%20style%3D%27text-align%3Acenter%3Bfont-weight%3A%20bold%27%3ELiechtenstein%3C/h4%3E%3Chr%20style%3D%27margin%3A10px%3Bcolor%3A%20white%3B%27%3E%3Cul%20style%3D%27color%3A%20white%3B%3Blist-style-type%3Acircle%3Balign-item%3Aleft%3Bpadding-left%3A20px%3Bpadding-right%3A20px%27%3E%3Cli%3EConfirmed%3A%206658%3C/li%3E%3C/ul%3E%3C/div%3E%0A%20%20%20%20%20%20%20%20%20%20%20%20%20%20%20%20%20%3C/div%3E%60%2C%0A%20%20%20%20%20%20%20%20%20%20%20%20%20%20%20%20%7B%22sticky%22%3A%20true%7D%0A%20%20%20%20%20%20%20%20%20%20%20%20%29%3B%0A%20%20%20%20%20%20%20%20%0A%20%20%20%20%0A%20%20%20%20%20%20%20%20%20%20%20%20var%20circle_e99b736fc39b404ebed67ca6b1ae12eb%20%3D%20L.circle%28%0A%20%20%20%20%20%20%20%20%20%20%20%20%20%20%20%20%5B55.1694%2C%2023.8813%5D%2C%0A%20%20%20%20%20%20%20%20%20%20%20%20%20%20%20%20%7B%22bubblingMouseEvents%22%3A%20true%2C%20%22color%22%3A%20%22red%22%2C%20%22dashArray%22%3A%20null%2C%20%22dashOffset%22%3A%20null%2C%20%22fill%22%3A%20true%2C%20%22fillColor%22%3A%20%22indigo%22%2C%20%22fillOpacity%22%3A%200.2%2C%20%22fillRule%22%3A%20%22evenodd%22%2C%20%22lineCap%22%3A%20%22round%22%2C%20%22lineJoin%22%3A%20%22round%22%2C%20%22opacity%22%3A%201.0%2C%20%22radius%22%3A%20132000.0%2C%20%22stroke%22%3A%20true%2C%20%22weight%22%3A%203%7D%0A%20%20%20%20%20%20%20%20%20%20%20%20%29.addTo%28map_eb660f0cadf14412ab360cc7dee84180%29%3B%0A%20%20%20%20%20%20%20%20%0A%20%20%20%20%0A%20%20%20%20%20%20%20%20%20%20%20%20circle_e99b736fc39b404ebed67ca6b1ae12eb.bindTooltip%28%0A%20%20%20%20%20%20%20%20%20%20%20%20%20%20%20%20%60%3Cdiv%3E%0A%20%20%20%20%20%20%20%20%20%20%20%20%20%20%20%20%20%20%20%20%20%3Cdiv%20style%3D%27margin%3A%200%3B%20background-color%3A%20black%3B%20color%3A%20white%3B%27%3E%3Ch4%20style%3D%27text-align%3Acenter%3Bfont-weight%3A%20bold%27%3ELithuania%3C/h4%3E%3Chr%20style%3D%27margin%3A10px%3Bcolor%3A%20white%3B%27%3E%3Cul%20style%3D%27color%3A%20white%3B%3Blist-style-type%3Acircle%3Balign-item%3Aleft%3Bpadding-left%3A20px%3Bpadding-right%3A20px%27%3E%3Cli%3EConfirmed%3A%20542304%3C/li%3E%3C/ul%3E%3C/div%3E%0A%20%20%20%20%20%20%20%20%20%20%20%20%20%20%20%20%20%3C/div%3E%60%2C%0A%20%20%20%20%20%20%20%20%20%20%20%20%20%20%20%20%7B%22sticky%22%3A%20true%7D%0A%20%20%20%20%20%20%20%20%20%20%20%20%29%3B%0A%20%20%20%20%20%20%20%20%0A%20%20%20%20%0A%20%20%20%20%20%20%20%20%20%20%20%20var%20circle_c936d6c199a848ba8a0495e56bb80812%20%3D%20L.circle%28%0A%20%20%20%20%20%20%20%20%20%20%20%20%20%20%20%20%5B49.8153%2C%206.1296%5D%2C%0A%20%20%20%20%20%20%20%20%20%20%20%20%20%20%20%20%7B%22bubblingMouseEvents%22%3A%20true%2C%20%22color%22%3A%20%22red%22%2C%20%22dashArray%22%3A%20null%2C%20%22dashOffset%22%3A%20null%2C%20%22fill%22%3A%20true%2C%20%22fillColor%22%3A%20%22indigo%22%2C%20%22fillOpacity%22%3A%200.2%2C%20%22fillRule%22%3A%20%22evenodd%22%2C%20%22lineCap%22%3A%20%22round%22%2C%20%22lineJoin%22%3A%20%22round%22%2C%20%22opacity%22%3A%201.0%2C%20%22radius%22%3A%20112000.0%2C%20%22stroke%22%3A%20true%2C%20%22weight%22%3A%203%7D%0A%20%20%20%20%20%20%20%20%20%20%20%20%29.addTo%28map_eb660f0cadf14412ab360cc7dee84180%29%3B%0A%20%20%20%20%20%20%20%20%0A%20%20%20%20%0A%20%20%20%20%20%20%20%20%20%20%20%20circle_c936d6c199a848ba8a0495e56bb80812.bindTooltip%28%0A%20%20%20%20%20%20%20%20%20%20%20%20%20%20%20%20%60%3Cdiv%3E%0A%20%20%20%20%20%20%20%20%20%20%20%20%20%20%20%20%20%20%20%20%20%3Cdiv%20style%3D%27margin%3A%200%3B%20background-color%3A%20black%3B%20color%3A%20white%3B%27%3E%3Ch4%20style%3D%27text-align%3Acenter%3Bfont-weight%3A%20bold%27%3ELuxembourg%3C/h4%3E%3Chr%20style%3D%27margin%3A10px%3Bcolor%3A%20white%3B%27%3E%3Cul%20style%3D%27color%3A%20white%3B%3Blist-style-type%3Acircle%3Balign-item%3Aleft%3Bpadding-left%3A20px%3Bpadding-right%3A20px%27%3E%3Cli%3EConfirmed%3A%20112203%3C/li%3E%3C/ul%3E%3C/div%3E%0A%20%20%20%20%20%20%20%20%20%20%20%20%20%20%20%20%20%3C/div%3E%60%2C%0A%20%20%20%20%20%20%20%20%20%20%20%20%20%20%20%20%7B%22sticky%22%3A%20true%7D%0A%20%20%20%20%20%20%20%20%20%20%20%20%29%3B%0A%20%20%20%20%20%20%20%20%0A%20%20%20%20%0A%20%20%20%20%20%20%20%20%20%20%20%20var%20circle_799b21ffa1e34632b2f8ad4d5654d200%20%3D%20L.circle%28%0A%20%20%20%20%20%20%20%20%20%20%20%20%20%20%20%20%5B0.0%2C%200.0%5D%2C%0A%20%20%20%20%20%20%20%20%20%20%20%20%20%20%20%20%7B%22bubblingMouseEvents%22%3A%20true%2C%20%22color%22%3A%20%22red%22%2C%20%22dashArray%22%3A%20null%2C%20%22dashOffset%22%3A%20null%2C%20%22fill%22%3A%20true%2C%20%22fillColor%22%3A%20%22indigo%22%2C%20%22fillOpacity%22%3A%200.2%2C%20%22fillRule%22%3A%20%22evenodd%22%2C%20%22lineCap%22%3A%20%22round%22%2C%20%22lineJoin%22%3A%20%22round%22%2C%20%22opacity%22%3A%201.0%2C%20%22radius%22%3A%2022000.0%2C%20%22stroke%22%3A%20true%2C%20%22weight%22%3A%203%7D%0A%20%20%20%20%20%20%20%20%20%20%20%20%29.addTo%28map_eb660f0cadf14412ab360cc7dee84180%29%3B%0A%20%20%20%20%20%20%20%20%0A%20%20%20%20%0A%20%20%20%20%20%20%20%20%20%20%20%20circle_799b21ffa1e34632b2f8ad4d5654d200.bindTooltip%28%0A%20%20%20%20%20%20%20%20%20%20%20%20%20%20%20%20%60%3Cdiv%3E%0A%20%20%20%20%20%20%20%20%20%20%20%20%20%20%20%20%20%20%20%20%20%3Cdiv%20style%3D%27margin%3A%200%3B%20background-color%3A%20black%3B%20color%3A%20white%3B%27%3E%3Ch4%20style%3D%27text-align%3Acenter%3Bfont-weight%3A%20bold%27%3EMS%20Zaandam%3C/h4%3E%3Chr%20style%3D%27margin%3A10px%3Bcolor%3A%20white%3B%27%3E%3Cul%20style%3D%27color%3A%20white%3B%3Blist-style-type%3Acircle%3Balign-item%3Aleft%3Bpadding-left%3A20px%3Bpadding-right%3A20px%27%3E%3Cli%3EConfirmed%3A%209%3C/li%3E%3C/ul%3E%3C/div%3E%0A%20%20%20%20%20%20%20%20%20%20%20%20%20%20%20%20%20%3C/div%3E%60%2C%0A%20%20%20%20%20%20%20%20%20%20%20%20%20%20%20%20%7B%22sticky%22%3A%20true%7D%0A%20%20%20%20%20%20%20%20%20%20%20%20%29%3B%0A%20%20%20%20%20%20%20%20%0A%20%20%20%20%0A%20%20%20%20%20%20%20%20%20%20%20%20var%20circle_6336945c8e7841ac879f838d551dbee7%20%3D%20L.circle%28%0A%20%20%20%20%20%20%20%20%20%20%20%20%20%20%20%20%5B-18.766947%2C%2046.869107%5D%2C%0A%20%20%20%20%20%20%20%20%20%20%20%20%20%20%20%20%7B%22bubblingMouseEvents%22%3A%20true%2C%20%22color%22%3A%20%22red%22%2C%20%22dashArray%22%3A%20null%2C%20%22dashOffset%22%3A%20null%2C%20%22fill%22%3A%20true%2C%20%22fillColor%22%3A%20%22indigo%22%2C%20%22fillOpacity%22%3A%200.2%2C%20%22fillRule%22%3A%20%22evenodd%22%2C%20%22lineCap%22%3A%20%22round%22%2C%20%22lineJoin%22%3A%20%22round%22%2C%20%22opacity%22%3A%201.0%2C%20%22radius%22%3A%20102000.0%2C%20%22stroke%22%3A%20true%2C%20%22weight%22%3A%203%7D%0A%20%20%20%20%20%20%20%20%20%20%20%20%29.addTo%28map_eb660f0cadf14412ab360cc7dee84180%29%3B%0A%20%20%20%20%20%20%20%20%0A%20%20%20%20%0A%20%20%20%20%20%20%20%20%20%20%20%20circle_6336945c8e7841ac879f838d551dbee7.bindTooltip%28%0A%20%20%20%20%20%20%20%20%20%20%20%20%20%20%20%20%60%3Cdiv%3E%0A%20%20%20%20%20%20%20%20%20%20%20%20%20%20%20%20%20%20%20%20%20%3Cdiv%20style%3D%27margin%3A%200%3B%20background-color%3A%20black%3B%20color%3A%20white%3B%27%3E%3Ch4%20style%3D%27text-align%3Acenter%3Bfont-weight%3A%20bold%27%3EMadagascar%3C/h4%3E%3Chr%20style%3D%27margin%3A10px%3Bcolor%3A%20white%3B%27%3E%3Cul%20style%3D%27color%3A%20white%3B%3Blist-style-type%3Acircle%3Balign-item%3Aleft%3Bpadding-left%3A20px%3Bpadding-right%3A20px%27%3E%3Cli%3EConfirmed%3A%2054101%3C/li%3E%3C/ul%3E%3C/div%3E%0A%20%20%20%20%20%20%20%20%20%20%20%20%20%20%20%20%20%3C/div%3E%60%2C%0A%20%20%20%20%20%20%20%20%20%20%20%20%20%20%20%20%7B%22sticky%22%3A%20true%7D%0A%20%20%20%20%20%20%20%20%20%20%20%20%29%3B%0A%20%20%20%20%20%20%20%20%0A%20%20%20%20%0A%20%20%20%20%20%20%20%20%20%20%20%20var%20circle_cfbb11fb3ef1426eba57ba0280d40643%20%3D%20L.circle%28%0A%20%20%20%20%20%20%20%20%20%20%20%20%20%20%20%20%5B-13.2543%2C%2034.3015%5D%2C%0A%20%20%20%20%20%20%20%20%20%20%20%20%20%20%20%20%7B%22bubblingMouseEvents%22%3A%20true%2C%20%22color%22%3A%20%22red%22%2C%20%22dashArray%22%3A%20null%2C%20%22dashOffset%22%3A%20null%2C%20%22fill%22%3A%20true%2C%20%22fillColor%22%3A%20%22indigo%22%2C%20%22fillOpacity%22%3A%200.2%2C%20%22fillRule%22%3A%20%22evenodd%22%2C%20%22lineCap%22%3A%20%22round%22%2C%20%22lineJoin%22%3A%20%22round%22%2C%20%22opacity%22%3A%201.0%2C%20%22radius%22%3A%20112000.0%2C%20%22stroke%22%3A%20true%2C%20%22weight%22%3A%203%7D%0A%20%20%20%20%20%20%20%20%20%20%20%20%29.addTo%28map_eb660f0cadf14412ab360cc7dee84180%29%3B%0A%20%20%20%20%20%20%20%20%0A%20%20%20%20%0A%20%20%20%20%20%20%20%20%20%20%20%20circle_cfbb11fb3ef1426eba57ba0280d40643.bindTooltip%28%0A%20%20%20%20%20%20%20%20%20%20%20%20%20%20%20%20%60%3Cdiv%3E%0A%20%20%20%20%20%20%20%20%20%20%20%20%20%20%20%20%20%20%20%20%20%3Cdiv%20style%3D%27margin%3A%200%3B%20background-color%3A%20black%3B%20color%3A%20white%3B%27%3E%3Ch4%20style%3D%27text-align%3Acenter%3Bfont-weight%3A%20bold%27%3EMalawi%3C/h4%3E%3Chr%20style%3D%27margin%3A10px%3Bcolor%3A%20white%3B%27%3E%3Cul%20style%3D%27color%3A%20white%3B%3Blist-style-type%3Acircle%3Balign-item%3Aleft%3Bpadding-left%3A20px%3Bpadding-right%3A20px%27%3E%3Cli%3EConfirmed%3A%2079987%3C/li%3E%3C/ul%3E%3C/div%3E%0A%20%20%20%20%20%20%20%20%20%20%20%20%20%20%20%20%20%3C/div%3E%60%2C%0A%20%20%20%20%20%20%20%20%20%20%20%20%20%20%20%20%7B%22sticky%22%3A%20true%7D%0A%20%20%20%20%20%20%20%20%20%20%20%20%29%3B%0A%20%20%20%20%20%20%20%20%0A%20%20%20%20%0A%20%20%20%20%20%20%20%20%20%20%20%20var%20circle_8a06847bd2044a7e8d77ae2248b154cc%20%3D%20L.circle%28%0A%20%20%20%20%20%20%20%20%20%20%20%20%20%20%20%20%5B4.210484%2C%20101.975766%5D%2C%0A%20%20%20%20%20%20%20%20%20%20%20%20%20%20%20%20%7B%22bubblingMouseEvents%22%3A%20true%2C%20%22color%22%3A%20%22red%22%2C%20%22dashArray%22%3A%20null%2C%20%22dashOffset%22%3A%20null%2C%20%22fill%22%3A%20true%2C%20%22fillColor%22%3A%20%22indigo%22%2C%20%22fillOpacity%22%3A%200.2%2C%20%22fillRule%22%3A%20%22evenodd%22%2C%20%22lineCap%22%3A%20%22round%22%2C%20%22lineJoin%22%3A%20%22round%22%2C%20%22opacity%22%3A%201.0%2C%20%22radius%22%3A%20142000.0%2C%20%22stroke%22%3A%20true%2C%20%22weight%22%3A%203%7D%0A%20%20%20%20%20%20%20%20%20%20%20%20%29.addTo%28map_eb660f0cadf14412ab360cc7dee84180%29%3B%0A%20%20%20%20%20%20%20%20%0A%20%20%20%20%0A%20%20%20%20%20%20%20%20%20%20%20%20circle_8a06847bd2044a7e8d77ae2248b154cc.bindTooltip%28%0A%20%20%20%20%20%20%20%20%20%20%20%20%20%20%20%20%60%3Cdiv%3E%0A%20%20%20%20%20%20%20%20%20%20%20%20%20%20%20%20%20%20%20%20%20%3Cdiv%20style%3D%27margin%3A%200%3B%20background-color%3A%20black%3B%20color%3A%20white%3B%27%3E%3Ch4%20style%3D%27text-align%3Acenter%3Bfont-weight%3A%20bold%27%3EMalaysia%3C/h4%3E%3Chr%20style%3D%27margin%3A10px%3Bcolor%3A%20white%3B%27%3E%3Cul%20style%3D%27color%3A%20white%3B%3Blist-style-type%3Acircle%3Balign-item%3Aleft%3Bpadding-left%3A20px%3Bpadding-right%3A20px%27%3E%3Cli%3EConfirmed%3A%202786219%3C/li%3E%3C/ul%3E%3C/div%3E%0A%20%20%20%20%20%20%20%20%20%20%20%20%20%20%20%20%20%3C/div%3E%60%2C%0A%20%20%20%20%20%20%20%20%20%20%20%20%20%20%20%20%7B%22sticky%22%3A%20true%7D%0A%20%20%20%20%20%20%20%20%20%20%20%20%29%3B%0A%20%20%20%20%20%20%20%20%0A%20%20%20%20%0A%20%20%20%20%20%20%20%20%20%20%20%20var%20circle_99e1dd1995f149e2aa84d89d8f3f82d9%20%3D%20L.circle%28%0A%20%20%20%20%20%20%20%20%20%20%20%20%20%20%20%20%5B3.2028%2C%2073.2207%5D%2C%0A%20%20%20%20%20%20%20%20%20%20%20%20%20%20%20%20%7B%22bubblingMouseEvents%22%3A%20true%2C%20%22color%22%3A%20%22red%22%2C%20%22dashArray%22%3A%20null%2C%20%22dashOffset%22%3A%20null%2C%20%22fill%22%3A%20true%2C%20%22fillColor%22%3A%20%22indigo%22%2C%20%22fillOpacity%22%3A%200.2%2C%20%22fillRule%22%3A%20%22evenodd%22%2C%20%22lineCap%22%3A%20%22round%22%2C%20%22lineJoin%22%3A%20%22round%22%2C%20%22opacity%22%3A%201.0%2C%20%22radius%22%3A%20112000.0%2C%20%22stroke%22%3A%20true%2C%20%22weight%22%3A%203%7D%0A%20%20%20%20%20%20%20%20%20%20%20%20%29.addTo%28map_eb660f0cadf14412ab360cc7dee84180%29%3B%0A%20%20%20%20%20%20%20%20%0A%20%20%20%20%0A%20%20%20%20%20%20%20%20%20%20%20%20circle_99e1dd1995f149e2aa84d89d8f3f82d9.bindTooltip%28%0A%20%20%20%20%20%20%20%20%20%20%20%20%20%20%20%20%60%3Cdiv%3E%0A%20%20%20%20%20%20%20%20%20%20%20%20%20%20%20%20%20%20%20%20%20%3Cdiv%20style%3D%27margin%3A%200%3B%20background-color%3A%20black%3B%20color%3A%20white%3B%27%3E%3Ch4%20style%3D%27text-align%3Acenter%3Bfont-weight%3A%20bold%27%3EMaldives%3C/h4%3E%3Chr%20style%3D%27margin%3A10px%3Bcolor%3A%20white%3B%27%3E%3Cul%20style%3D%27color%3A%20white%3B%3Blist-style-type%3Acircle%3Balign-item%3Aleft%3Bpadding-left%3A20px%3Bpadding-right%3A20px%27%3E%3Cli%3EConfirmed%3A%2098052%3C/li%3E%3C/ul%3E%3C/div%3E%0A%20%20%20%20%20%20%20%20%20%20%20%20%20%20%20%20%20%3C/div%3E%60%2C%0A%20%20%20%20%20%20%20%20%20%20%20%20%20%20%20%20%7B%22sticky%22%3A%20true%7D%0A%20%20%20%20%20%20%20%20%20%20%20%20%29%3B%0A%20%20%20%20%20%20%20%20%0A%20%20%20%20%0A%20%20%20%20%20%20%20%20%20%20%20%20var%20circle_961c03d85a5043f495e17288520a3aa1%20%3D%20L.circle%28%0A%20%20%20%20%20%20%20%20%20%20%20%20%20%20%20%20%5B17.570692%2C%20-3.996166%5D%2C%0A%20%20%20%20%20%20%20%20%20%20%20%20%20%20%20%20%7B%22bubblingMouseEvents%22%3A%20true%2C%20%22color%22%3A%20%22red%22%2C%20%22dashArray%22%3A%20null%2C%20%22dashOffset%22%3A%20null%2C%20%22fill%22%3A%20true%2C%20%22fillColor%22%3A%20%22indigo%22%2C%20%22fillOpacity%22%3A%200.2%2C%20%22fillRule%22%3A%20%22evenodd%22%2C%20%22lineCap%22%3A%20%22round%22%2C%20%22lineJoin%22%3A%20%22round%22%2C%20%22opacity%22%3A%201.0%2C%20%22radius%22%3A%20102000.0%2C%20%22stroke%22%3A%20true%2C%20%22weight%22%3A%203%7D%0A%20%20%20%20%20%20%20%20%20%20%20%20%29.addTo%28map_eb660f0cadf14412ab360cc7dee84180%29%3B%0A%20%20%20%20%20%20%20%20%0A%20%20%20%20%0A%20%20%20%20%20%20%20%20%20%20%20%20circle_961c03d85a5043f495e17288520a3aa1.bindTooltip%28%0A%20%20%20%20%20%20%20%20%20%20%20%20%20%20%20%20%60%3Cdiv%3E%0A%20%20%20%20%20%20%20%20%20%20%20%20%20%20%20%20%20%20%20%20%20%3Cdiv%20style%3D%27margin%3A%200%3B%20background-color%3A%20black%3B%20color%3A%20white%3B%27%3E%3Ch4%20style%3D%27text-align%3Acenter%3Bfont-weight%3A%20bold%27%3EMali%3C/h4%3E%3Chr%20style%3D%27margin%3A10px%3Bcolor%3A%20white%3B%27%3E%3Cul%20style%3D%27color%3A%20white%3B%3Blist-style-type%3Acircle%3Balign-item%3Aleft%3Bpadding-left%3A20px%3Bpadding-right%3A20px%27%3E%3Cli%3EConfirmed%3A%2025197%3C/li%3E%3C/ul%3E%3C/div%3E%0A%20%20%20%20%20%20%20%20%20%20%20%20%20%20%20%20%20%3C/div%3E%60%2C%0A%20%20%20%20%20%20%20%20%20%20%20%20%20%20%20%20%7B%22sticky%22%3A%20true%7D%0A%20%20%20%20%20%20%20%20%20%20%20%20%29%3B%0A%20%20%20%20%20%20%20%20%0A%20%20%20%20%0A%20%20%20%20%20%20%20%20%20%20%20%20var%20circle_849f6e1629584310b0d466fd39dc8a38%20%3D%20L.circle%28%0A%20%20%20%20%20%20%20%20%20%20%20%20%20%20%20%20%5B35.9375%2C%2014.3754%5D%2C%0A%20%20%20%20%20%20%20%20%20%20%20%20%20%20%20%20%7B%22bubblingMouseEvents%22%3A%20true%2C%20%22color%22%3A%20%22red%22%2C%20%22dashArray%22%3A%20null%2C%20%22dashOffset%22%3A%20null%2C%20%22fill%22%3A%20true%2C%20%22fillColor%22%3A%20%22indigo%22%2C%20%22fillOpacity%22%3A%200.2%2C%20%22fillRule%22%3A%20%22evenodd%22%2C%20%22lineCap%22%3A%20%22round%22%2C%20%22lineJoin%22%3A%20%22round%22%2C%20%22opacity%22%3A%201.0%2C%20%22radius%22%3A%20112000.0%2C%20%22stroke%22%3A%20true%2C%20%22weight%22%3A%203%7D%0A%20%20%20%20%20%20%20%20%20%20%20%20%29.addTo%28map_eb660f0cadf14412ab360cc7dee84180%29%3B%0A%20%20%20%20%20%20%20%20%0A%20%20%20%20%0A%20%20%20%20%20%20%20%20%20%20%20%20circle_849f6e1629584310b0d466fd39dc8a38.bindTooltip%28%0A%20%20%20%20%20%20%20%20%20%20%20%20%20%20%20%20%60%3Cdiv%3E%0A%20%20%20%20%20%20%20%20%20%20%20%20%20%20%20%20%20%20%20%20%20%3Cdiv%20style%3D%27margin%3A%200%3B%20background-color%3A%20black%3B%20color%3A%20white%3B%27%3E%3Ch4%20style%3D%27text-align%3Acenter%3Bfont-weight%3A%20bold%27%3EMalta%3C/h4%3E%3Chr%20style%3D%27margin%3A10px%3Bcolor%3A%20white%3B%27%3E%3Cul%20style%3D%27color%3A%20white%3B%3Blist-style-type%3Acircle%3Balign-item%3Aleft%3Bpadding-left%3A20px%3Bpadding-right%3A20px%27%3E%3Cli%3EConfirmed%3A%2060386%3C/li%3E%3C/ul%3E%3C/div%3E%0A%20%20%20%20%20%20%20%20%20%20%20%20%20%20%20%20%20%3C/div%3E%60%2C%0A%20%20%20%20%20%20%20%20%20%20%20%20%20%20%20%20%7B%22sticky%22%3A%20true%7D%0A%20%20%20%20%20%20%20%20%20%20%20%20%29%3B%0A%20%20%20%20%20%20%20%20%0A%20%20%20%20%0A%20%20%20%20%20%20%20%20%20%20%20%20var%20circle_4714ed6b16544af09c97b11cd9592184%20%3D%20L.circle%28%0A%20%20%20%20%20%20%20%20%20%20%20%20%20%20%20%20%5B7.1315%2C%20171.1845%5D%2C%0A%20%20%20%20%20%20%20%20%20%20%20%20%20%20%20%20%7B%22bubblingMouseEvents%22%3A%20true%2C%20%22color%22%3A%20%22red%22%2C%20%22dashArray%22%3A%20null%2C%20%22dashOffset%22%3A%20null%2C%20%22fill%22%3A%20true%2C%20%22fillColor%22%3A%20%22indigo%22%2C%20%22fillOpacity%22%3A%200.2%2C%20%22fillRule%22%3A%20%22evenodd%22%2C%20%22lineCap%22%3A%20%22round%22%2C%20%22lineJoin%22%3A%20%22round%22%2C%20%22opacity%22%3A%201.0%2C%20%22radius%22%3A%2022000.0%2C%20%22stroke%22%3A%20true%2C%20%22weight%22%3A%203%7D%0A%20%20%20%20%20%20%20%20%20%20%20%20%29.addTo%28map_eb660f0cadf14412ab360cc7dee84180%29%3B%0A%20%20%20%20%20%20%20%20%0A%20%20%20%20%0A%20%20%20%20%20%20%20%20%20%20%20%20circle_4714ed6b16544af09c97b11cd9592184.bindTooltip%28%0A%20%20%20%20%20%20%20%20%20%20%20%20%20%20%20%20%60%3Cdiv%3E%0A%20%20%20%20%20%20%20%20%20%20%20%20%20%20%20%20%20%20%20%20%20%3Cdiv%20style%3D%27margin%3A%200%3B%20background-color%3A%20black%3B%20color%3A%20white%3B%27%3E%3Ch4%20style%3D%27text-align%3Acenter%3Bfont-weight%3A%20bold%27%3EMarshall%20Islands%3C/h4%3E%3Chr%20style%3D%27margin%3A10px%3Bcolor%3A%20white%3B%27%3E%3Cul%20style%3D%27color%3A%20white%3B%3Blist-style-type%3Acircle%3Balign-item%3Aleft%3Bpadding-left%3A20px%3Bpadding-right%3A20px%27%3E%3Cli%3EConfirmed%3A%207%3C/li%3E%3C/ul%3E%3C/div%3E%0A%20%20%20%20%20%20%20%20%20%20%20%20%20%20%20%20%20%3C/div%3E%60%2C%0A%20%20%20%20%20%20%20%20%20%20%20%20%20%20%20%20%7B%22sticky%22%3A%20true%7D%0A%20%20%20%20%20%20%20%20%20%20%20%20%29%3B%0A%20%20%20%20%20%20%20%20%0A%20%20%20%20%0A%20%20%20%20%20%20%20%20%20%20%20%20var%20circle_661bbd8a0b6442ca943896a6d28e5130%20%3D%20L.circle%28%0A%20%20%20%20%20%20%20%20%20%20%20%20%20%20%20%20%5B21.0079%2C%20-10.9408%5D%2C%0A%20%20%20%20%20%20%20%20%20%20%20%20%20%20%20%20%7B%22bubblingMouseEvents%22%3A%20true%2C%20%22color%22%3A%20%22red%22%2C%20%22dashArray%22%3A%20null%2C%20%22dashOffset%22%3A%20null%2C%20%22fill%22%3A%20true%2C%20%22fillColor%22%3A%20%22indigo%22%2C%20%22fillOpacity%22%3A%200.2%2C%20%22fillRule%22%3A%20%22evenodd%22%2C%20%22lineCap%22%3A%20%22round%22%2C%20%22lineJoin%22%3A%20%22round%22%2C%20%22opacity%22%3A%201.0%2C%20%22radius%22%3A%20102000.0%2C%20%22stroke%22%3A%20true%2C%20%22weight%22%3A%203%7D%0A%20%20%20%20%20%20%20%20%20%20%20%20%29.addTo%28map_eb660f0cadf14412ab360cc7dee84180%29%3B%0A%20%20%20%20%20%20%20%20%0A%20%20%20%20%0A%20%20%20%20%20%20%20%20%20%20%20%20circle_661bbd8a0b6442ca943896a6d28e5130.bindTooltip%28%0A%20%20%20%20%20%20%20%20%20%20%20%20%20%20%20%20%60%3Cdiv%3E%0A%20%20%20%20%20%20%20%20%20%20%20%20%20%20%20%20%20%20%20%20%20%3Cdiv%20style%3D%27margin%3A%200%3B%20background-color%3A%20black%3B%20color%3A%20white%3B%27%3E%3Ch4%20style%3D%27text-align%3Acenter%3Bfont-weight%3A%20bold%27%3EMauritania%3C/h4%3E%3Chr%20style%3D%27margin%3A10px%3Bcolor%3A%20white%3B%27%3E%3Cul%20style%3D%27color%3A%20white%3B%3Blist-style-type%3Acircle%3Balign-item%3Aleft%3Bpadding-left%3A20px%3Bpadding-right%3A20px%27%3E%3Cli%3EConfirmed%3A%2049006%3C/li%3E%3C/ul%3E%3C/div%3E%0A%20%20%20%20%20%20%20%20%20%20%20%20%20%20%20%20%20%3C/div%3E%60%2C%0A%20%20%20%20%20%20%20%20%20%20%20%20%20%20%20%20%7B%22sticky%22%3A%20true%7D%0A%20%20%20%20%20%20%20%20%20%20%20%20%29%3B%0A%20%20%20%20%20%20%20%20%0A%20%20%20%20%0A%20%20%20%20%20%20%20%20%20%20%20%20var%20circle_707021d7da6a4b818c6a8739c46406c8%20%3D%20L.circle%28%0A%20%20%20%20%20%20%20%20%20%20%20%20%20%20%20%20%5B-20.348404%2C%2057.552152%5D%2C%0A%20%20%20%20%20%20%20%20%20%20%20%20%20%20%20%20%7B%22bubblingMouseEvents%22%3A%20true%2C%20%22color%22%3A%20%22red%22%2C%20%22dashArray%22%3A%20null%2C%20%22dashOffset%22%3A%20null%2C%20%22fill%22%3A%20true%2C%20%22fillColor%22%3A%20%22indigo%22%2C%20%22fillOpacity%22%3A%200.2%2C%20%22fillRule%22%3A%20%22evenodd%22%2C%20%22lineCap%22%3A%20%22round%22%2C%20%22lineJoin%22%3A%20%22round%22%2C%20%22opacity%22%3A%201.0%2C%20%22radius%22%3A%20102000.0%2C%20%22stroke%22%3A%20true%2C%20%22weight%22%3A%203%7D%0A%20%20%20%20%20%20%20%20%20%20%20%20%29.addTo%28map_eb660f0cadf14412ab360cc7dee84180%29%3B%0A%20%20%20%20%20%20%20%20%0A%20%20%20%20%0A%20%20%20%20%20%20%20%20%20%20%20%20circle_707021d7da6a4b818c6a8739c46406c8.bindTooltip%28%0A%20%20%20%20%20%20%20%20%20%20%20%20%20%20%20%20%60%3Cdiv%3E%0A%20%20%20%20%20%20%20%20%20%20%20%20%20%20%20%20%20%20%20%20%20%3Cdiv%20style%3D%27margin%3A%200%3B%20background-color%3A%20black%3B%20color%3A%20white%3B%27%3E%3Ch4%20style%3D%27text-align%3Acenter%3Bfont-weight%3A%20bold%27%3EMauritius%3C/h4%3E%3Chr%20style%3D%27margin%3A10px%3Bcolor%3A%20white%3B%27%3E%3Cul%20style%3D%27color%3A%20white%3B%3Blist-style-type%3Acircle%3Balign-item%3Aleft%3Bpadding-left%3A20px%3Bpadding-right%3A20px%27%3E%3Cli%3EConfirmed%3A%2024051%3C/li%3E%3C/ul%3E%3C/div%3E%0A%20%20%20%20%20%20%20%20%20%20%20%20%20%20%20%20%20%3C/div%3E%60%2C%0A%20%20%20%20%20%20%20%20%20%20%20%20%20%20%20%20%7B%22sticky%22%3A%20true%7D%0A%20%20%20%20%20%20%20%20%20%20%20%20%29%3B%0A%20%20%20%20%20%20%20%20%0A%20%20%20%20%0A%20%20%20%20%20%20%20%20%20%20%20%20var%20circle_7b22fb8e723e4c3597a53e3e7b811629%20%3D%20L.circle%28%0A%20%20%20%20%20%20%20%20%20%20%20%20%20%20%20%20%5B23.6345%2C%20-102.5528%5D%2C%0A%20%20%20%20%20%20%20%20%20%20%20%20%20%20%20%20%7B%22bubblingMouseEvents%22%3A%20true%2C%20%22color%22%3A%20%22red%22%2C%20%22dashArray%22%3A%20null%2C%20%22dashOffset%22%3A%20null%2C%20%22fill%22%3A%20true%2C%20%22fillColor%22%3A%20%22indigo%22%2C%20%22fillOpacity%22%3A%200.2%2C%20%22fillRule%22%3A%20%22evenodd%22%2C%20%22lineCap%22%3A%20%22round%22%2C%20%22lineJoin%22%3A%20%22round%22%2C%20%22opacity%22%3A%201.0%2C%20%22radius%22%3A%20152000.0%2C%20%22stroke%22%3A%20true%2C%20%22weight%22%3A%203%7D%0A%20%20%20%20%20%20%20%20%20%20%20%20%29.addTo%28map_eb660f0cadf14412ab360cc7dee84180%29%3B%0A%20%20%20%20%20%20%20%20%0A%20%20%20%20%0A%20%20%20%20%20%20%20%20%20%20%20%20circle_7b22fb8e723e4c3597a53e3e7b811629.bindTooltip%28%0A%20%20%20%20%20%20%20%20%20%20%20%20%20%20%20%20%60%3Cdiv%3E%0A%20%20%20%20%20%20%20%20%20%20%20%20%20%20%20%20%20%20%20%20%20%3Cdiv%20style%3D%27margin%3A%200%3B%20background-color%3A%20black%3B%20color%3A%20white%3B%27%3E%3Ch4%20style%3D%27text-align%3Acenter%3Bfont-weight%3A%20bold%27%3EMexico%3C/h4%3E%3Chr%20style%3D%27margin%3A10px%3Bcolor%3A%20white%3B%27%3E%3Cul%20style%3D%27color%3A%20white%3B%3Blist-style-type%3Acircle%3Balign-item%3Aleft%3Bpadding-left%3A20px%3Bpadding-right%3A20px%27%3E%3Cli%3EConfirmed%3A%204113789%3C/li%3E%3C/ul%3E%3C/div%3E%0A%20%20%20%20%20%20%20%20%20%20%20%20%20%20%20%20%20%3C/div%3E%60%2C%0A%20%20%20%20%20%20%20%20%20%20%20%20%20%20%20%20%7B%22sticky%22%3A%20true%7D%0A%20%20%20%20%20%20%20%20%20%20%20%20%29%3B%0A%20%20%20%20%20%20%20%20%0A%20%20%20%20%0A%20%20%20%20%20%20%20%20%20%20%20%20var%20circle_27f322d627184066b723b716caf82737%20%3D%20L.circle%28%0A%20%20%20%20%20%20%20%20%20%20%20%20%20%20%20%20%5B7.4256%2C%20150.5508%5D%2C%0A%20%20%20%20%20%20%20%20%20%20%20%20%20%20%20%20%7B%22bubblingMouseEvents%22%3A%20true%2C%20%22color%22%3A%20%22red%22%2C%20%22dashArray%22%3A%20null%2C%20%22dashOffset%22%3A%20null%2C%20%22fill%22%3A%20true%2C%20%22fillColor%22%3A%20%22indigo%22%2C%20%22fillOpacity%22%3A%200.2%2C%20%22fillRule%22%3A%20%22evenodd%22%2C%20%22lineCap%22%3A%20%22round%22%2C%20%22lineJoin%22%3A%20%22round%22%2C%20%22opacity%22%3A%201.0%2C%20%22radius%22%3A%202000.0%2C%20%22stroke%22%3A%20true%2C%20%22weight%22%3A%203%7D%0A%20%20%20%20%20%20%20%20%20%20%20%20%29.addTo%28map_eb660f0cadf14412ab360cc7dee84180%29%3B%0A%20%20%20%20%20%20%20%20%0A%20%20%20%20%0A%20%20%20%20%20%20%20%20%20%20%20%20circle_27f322d627184066b723b716caf82737.bindTooltip%28%0A%20%20%20%20%20%20%20%20%20%20%20%20%20%20%20%20%60%3Cdiv%3E%0A%20%20%20%20%20%20%20%20%20%20%20%20%20%20%20%20%20%20%20%20%20%3Cdiv%20style%3D%27margin%3A%200%3B%20background-color%3A%20black%3B%20color%3A%20white%3B%27%3E%3Ch4%20style%3D%27text-align%3Acenter%3Bfont-weight%3A%20bold%27%3EMicronesia%3C/h4%3E%3Chr%20style%3D%27margin%3A10px%3Bcolor%3A%20white%3B%27%3E%3Cul%20style%3D%27color%3A%20white%3B%3Blist-style-type%3Acircle%3Balign-item%3Aleft%3Bpadding-left%3A20px%3Bpadding-right%3A20px%27%3E%3Cli%3EConfirmed%3A%201%3C/li%3E%3C/ul%3E%3C/div%3E%0A%20%20%20%20%20%20%20%20%20%20%20%20%20%20%20%20%20%3C/div%3E%60%2C%0A%20%20%20%20%20%20%20%20%20%20%20%20%20%20%20%20%7B%22sticky%22%3A%20true%7D%0A%20%20%20%20%20%20%20%20%20%20%20%20%29%3B%0A%20%20%20%20%20%20%20%20%0A%20%20%20%20%0A%20%20%20%20%20%20%20%20%20%20%20%20var%20circle_f34f046a7fc34301a0c56148a5d13c16%20%3D%20L.circle%28%0A%20%20%20%20%20%20%20%20%20%20%20%20%20%20%20%20%5B47.4116%2C%2028.3699%5D%2C%0A%20%20%20%20%20%20%20%20%20%20%20%20%20%20%20%20%7B%22bubblingMouseEvents%22%3A%20true%2C%20%22color%22%3A%20%22red%22%2C%20%22dashArray%22%3A%20null%2C%20%22dashOffset%22%3A%20null%2C%20%22fill%22%3A%20true%2C%20%22fillColor%22%3A%20%22indigo%22%2C%20%22fillOpacity%22%3A%200.2%2C%20%22fillRule%22%3A%20%22evenodd%22%2C%20%22lineCap%22%3A%20%22round%22%2C%20%22lineJoin%22%3A%20%22round%22%2C%20%22opacity%22%3A%201.0%2C%20%22radius%22%3A%20122000.0%2C%20%22stroke%22%3A%20true%2C%20%22weight%22%3A%203%7D%0A%20%20%20%20%20%20%20%20%20%20%20%20%29.addTo%28map_eb660f0cadf14412ab360cc7dee84180%29%3B%0A%20%20%20%20%20%20%20%20%0A%20%20%20%20%0A%20%20%20%20%20%20%20%20%20%20%20%20circle_f34f046a7fc34301a0c56148a5d13c16.bindTooltip%28%0A%20%20%20%20%20%20%20%20%20%20%20%20%20%20%20%20%60%3Cdiv%3E%0A%20%20%20%20%20%20%20%20%20%20%20%20%20%20%20%20%20%20%20%20%20%3Cdiv%20style%3D%27margin%3A%200%3B%20background-color%3A%20black%3B%20color%3A%20white%3B%27%3E%3Ch4%20style%3D%27text-align%3Acenter%3Bfont-weight%3A%20bold%27%3EMoldova%3C/h4%3E%3Chr%20style%3D%27margin%3A10px%3Bcolor%3A%20white%3B%27%3E%3Cul%20style%3D%27color%3A%20white%3B%3Blist-style-type%3Acircle%3Balign-item%3Aleft%3Bpadding-left%3A20px%3Bpadding-right%3A20px%27%3E%3Cli%3EConfirmed%3A%20380290%3C/li%3E%3C/ul%3E%3C/div%3E%0A%20%20%20%20%20%20%20%20%20%20%20%20%20%20%20%20%20%3C/div%3E%60%2C%0A%20%20%20%20%20%20%20%20%20%20%20%20%20%20%20%20%7B%22sticky%22%3A%20true%7D%0A%20%20%20%20%20%20%20%20%20%20%20%20%29%3B%0A%20%20%20%20%20%20%20%20%0A%20%20%20%20%0A%20%20%20%20%20%20%20%20%20%20%20%20var%20circle_ce2c1851053940dd8a419d0e6456467f%20%3D%20L.circle%28%0A%20%20%20%20%20%20%20%20%20%20%20%20%20%20%20%20%5B43.7333%2C%207.4167%5D%2C%0A%20%20%20%20%20%20%20%20%20%20%20%20%20%20%20%20%7B%22bubblingMouseEvents%22%3A%20true%2C%20%22color%22%3A%20%22red%22%2C%20%22dashArray%22%3A%20null%2C%20%22dashOffset%22%3A%20null%2C%20%22fill%22%3A%20true%2C%20%22fillColor%22%3A%20%22indigo%22%2C%20%22fillOpacity%22%3A%200.2%2C%20%22fillRule%22%3A%20%22evenodd%22%2C%20%22lineCap%22%3A%20%22round%22%2C%20%22lineJoin%22%3A%20%22round%22%2C%20%22opacity%22%3A%201.0%2C%20%22radius%22%3A%2082000.0%2C%20%22stroke%22%3A%20true%2C%20%22weight%22%3A%203%7D%0A%20%20%20%20%20%20%20%20%20%20%20%20%29.addTo%28map_eb660f0cadf14412ab360cc7dee84180%29%3B%0A%20%20%20%20%20%20%20%20%0A%20%20%20%20%0A%20%20%20%20%20%20%20%20%20%20%20%20circle_ce2c1851053940dd8a419d0e6456467f.bindTooltip%28%0A%20%20%20%20%20%20%20%20%20%20%20%20%20%20%20%20%60%3Cdiv%3E%0A%20%20%20%20%20%20%20%20%20%20%20%20%20%20%20%20%20%20%20%20%20%3Cdiv%20style%3D%27margin%3A%200%3B%20background-color%3A%20black%3B%20color%3A%20white%3B%27%3E%3Ch4%20style%3D%27text-align%3Acenter%3Bfont-weight%3A%20bold%27%3EMonaco%3C/h4%3E%3Chr%20style%3D%27margin%3A10px%3Bcolor%3A%20white%3B%27%3E%3Cul%20style%3D%27color%3A%20white%3B%3Blist-style-type%3Acircle%3Balign-item%3Aleft%3Bpadding-left%3A20px%3Bpadding-right%3A20px%27%3E%3Cli%3EConfirmed%3A%205593%3C/li%3E%3C/ul%3E%3C/div%3E%0A%20%20%20%20%20%20%20%20%20%20%20%20%20%20%20%20%20%3C/div%3E%60%2C%0A%20%20%20%20%20%20%20%20%20%20%20%20%20%20%20%20%7B%22sticky%22%3A%20true%7D%0A%20%20%20%20%20%20%20%20%20%20%20%20%29%3B%0A%20%20%20%20%20%20%20%20%0A%20%20%20%20%0A%20%20%20%20%20%20%20%20%20%20%20%20var%20circle_5e881420be1044d58ed97488e66a7b0b%20%3D%20L.circle%28%0A%20%20%20%20%20%20%20%20%20%20%20%20%20%20%20%20%5B46.8625%2C%20103.8467%5D%2C%0A%20%20%20%20%20%20%20%20%20%20%20%20%20%20%20%20%7B%22bubblingMouseEvents%22%3A%20true%2C%20%22color%22%3A%20%22red%22%2C%20%22dashArray%22%3A%20null%2C%20%22dashOffset%22%3A%20null%2C%20%22fill%22%3A%20true%2C%20%22fillColor%22%3A%20%22indigo%22%2C%20%22fillOpacity%22%3A%200.2%2C%20%22fillRule%22%3A%20%22evenodd%22%2C%20%22lineCap%22%3A%20%22round%22%2C%20%22lineJoin%22%3A%20%22round%22%2C%20%22opacity%22%3A%201.0%2C%20%22radius%22%3A%20122000.0%2C%20%22stroke%22%3A%20true%2C%20%22weight%22%3A%203%7D%0A%20%20%20%20%20%20%20%20%20%20%20%20%29.addTo%28map_eb660f0cadf14412ab360cc7dee84180%29%3B%0A%20%20%20%20%20%20%20%20%0A%20%20%20%20%0A%20%20%20%20%20%20%20%20%20%20%20%20circle_5e881420be1044d58ed97488e66a7b0b.bindTooltip%28%0A%20%20%20%20%20%20%20%20%20%20%20%20%20%20%20%20%60%3Cdiv%3E%0A%20%20%20%20%20%20%20%20%20%20%20%20%20%20%20%20%20%20%20%20%20%3Cdiv%20style%3D%27margin%3A%200%3B%20background-color%3A%20black%3B%20color%3A%20white%3B%27%3E%3Ch4%20style%3D%27text-align%3Acenter%3Bfont-weight%3A%20bold%27%3EMongolia%3C/h4%3E%3Chr%20style%3D%27margin%3A10px%3Bcolor%3A%20white%3B%27%3E%3Cul%20style%3D%27color%3A%20white%3B%3Blist-style-type%3Acircle%3Balign-item%3Aleft%3Bpadding-left%3A20px%3Bpadding-right%3A20px%27%3E%3Cli%3EConfirmed%3A%20395129%3C/li%3E%3C/ul%3E%3C/div%3E%0A%20%20%20%20%20%20%20%20%20%20%20%20%20%20%20%20%20%3C/div%3E%60%2C%0A%20%20%20%20%20%20%20%20%20%20%20%20%20%20%20%20%7B%22sticky%22%3A%20true%7D%0A%20%20%20%20%20%20%20%20%20%20%20%20%29%3B%0A%20%20%20%20%20%20%20%20%0A%20%20%20%20%0A%20%20%20%20%20%20%20%20%20%20%20%20var%20circle_9d47419e15884068b12bcc5a874b1237%20%3D%20L.circle%28%0A%20%20%20%20%20%20%20%20%20%20%20%20%20%20%20%20%5B42.708678%2C%2019.37439%5D%2C%0A%20%20%20%20%20%20%20%20%20%20%20%20%20%20%20%20%7B%22bubblingMouseEvents%22%3A%20true%2C%20%22color%22%3A%20%22red%22%2C%20%22dashArray%22%3A%20null%2C%20%22dashOffset%22%3A%20null%2C%20%22fill%22%3A%20true%2C%20%22fillColor%22%3A%20%22indigo%22%2C%20%22fillOpacity%22%3A%200.2%2C%20%22fillRule%22%3A%20%22evenodd%22%2C%20%22lineCap%22%3A%20%22round%22%2C%20%22lineJoin%22%3A%20%22round%22%2C%20%22opacity%22%3A%201.0%2C%20%22radius%22%3A%20122000.0%2C%20%22stroke%22%3A%20true%2C%20%22weight%22%3A%203%7D%0A%20%20%20%20%20%20%20%20%20%20%20%20%29.addTo%28map_eb660f0cadf14412ab360cc7dee84180%29%3B%0A%20%20%20%20%20%20%20%20%0A%20%20%20%20%0A%20%20%20%20%20%20%20%20%20%20%20%20circle_9d47419e15884068b12bcc5a874b1237.bindTooltip%28%0A%20%20%20%20%20%20%20%20%20%20%20%20%20%20%20%20%60%3Cdiv%3E%0A%20%20%20%20%20%20%20%20%20%20%20%20%20%20%20%20%20%20%20%20%20%3Cdiv%20style%3D%27margin%3A%200%3B%20background-color%3A%20black%3B%20color%3A%20white%3B%27%3E%3Ch4%20style%3D%27text-align%3Acenter%3Bfont-weight%3A%20bold%27%3EMontenegro%3C/h4%3E%3Chr%20style%3D%27margin%3A10px%3Bcolor%3A%20white%3B%27%3E%3Cul%20style%3D%27color%3A%20white%3B%3Blist-style-type%3Acircle%3Balign-item%3Aleft%3Bpadding-left%3A20px%3Bpadding-right%3A20px%27%3E%3Cli%3EConfirmed%3A%20190279%3C/li%3E%3C/ul%3E%3C/div%3E%0A%20%20%20%20%20%20%20%20%20%20%20%20%20%20%20%20%20%3C/div%3E%60%2C%0A%20%20%20%20%20%20%20%20%20%20%20%20%20%20%20%20%7B%22sticky%22%3A%20true%7D%0A%20%20%20%20%20%20%20%20%20%20%20%20%29%3B%0A%20%20%20%20%20%20%20%20%0A%20%20%20%20%0A%20%20%20%20%20%20%20%20%20%20%20%20var%20circle_dcc3c023a697467ebfac99964887c59f%20%3D%20L.circle%28%0A%20%20%20%20%20%20%20%20%20%20%20%20%20%20%20%20%5B31.7917%2C%20-7.0926%5D%2C%0A%20%20%20%20%20%20%20%20%20%20%20%20%20%20%20%20%7B%22bubblingMouseEvents%22%3A%20true%2C%20%22color%22%3A%20%22red%22%2C%20%22dashArray%22%3A%20null%2C%20%22dashOffset%22%3A%20null%2C%20%22fill%22%3A%20true%2C%20%22fillColor%22%3A%20%22indigo%22%2C%20%22fillOpacity%22%3A%200.2%2C%20%22fillRule%22%3A%20%22evenodd%22%2C%20%22lineCap%22%3A%20%22round%22%2C%20%22lineJoin%22%3A%20%22round%22%2C%20%22opacity%22%3A%201.0%2C%20%22radius%22%3A%20132000.0%2C%20%22stroke%22%3A%20true%2C%20%22weight%22%3A%203%7D%0A%20%20%20%20%20%20%20%20%20%20%20%20%29.addTo%28map_eb660f0cadf14412ab360cc7dee84180%29%3B%0A%20%20%20%20%20%20%20%20%0A%20%20%20%20%0A%20%20%20%20%20%20%20%20%20%20%20%20circle_dcc3c023a697467ebfac99964887c59f.bindTooltip%28%0A%20%20%20%20%20%20%20%20%20%20%20%20%20%20%20%20%60%3Cdiv%3E%0A%20%20%20%20%20%20%20%20%20%20%20%20%20%20%20%20%20%20%20%20%20%3Cdiv%20style%3D%27margin%3A%200%3B%20background-color%3A%20black%3B%20color%3A%20white%3B%27%3E%3Ch4%20style%3D%27text-align%3Acenter%3Bfont-weight%3A%20bold%27%3EMorocco%3C/h4%3E%3Chr%20style%3D%27margin%3A10px%3Bcolor%3A%20white%3B%27%3E%3Cul%20style%3D%27color%3A%20white%3B%3Blist-style-type%3Acircle%3Balign-item%3Aleft%3Bpadding-left%3A20px%3Bpadding-right%3A20px%27%3E%3Cli%3EConfirmed%3A%201002084%3C/li%3E%3C/ul%3E%3C/div%3E%0A%20%20%20%20%20%20%20%20%20%20%20%20%20%20%20%20%20%3C/div%3E%60%2C%0A%20%20%20%20%20%20%20%20%20%20%20%20%20%20%20%20%7B%22sticky%22%3A%20true%7D%0A%20%20%20%20%20%20%20%20%20%20%20%20%29%3B%0A%20%20%20%20%20%20%20%20%0A%20%20%20%20%0A%20%20%20%20%20%20%20%20%20%20%20%20var%20circle_a2dbcab8ca9840df923430489a3578e0%20%3D%20L.circle%28%0A%20%20%20%20%20%20%20%20%20%20%20%20%20%20%20%20%5B-18.665695%2C%2035.529562%5D%2C%0A%20%20%20%20%20%20%20%20%20%20%20%20%20%20%20%20%7B%22bubblingMouseEvents%22%3A%20true%2C%20%22color%22%3A%20%22red%22%2C%20%22dashArray%22%3A%20null%2C%20%22dashOffset%22%3A%20null%2C%20%22fill%22%3A%20true%2C%20%22fillColor%22%3A%20%22indigo%22%2C%20%22fillOpacity%22%3A%200.2%2C%20%22fillRule%22%3A%20%22evenodd%22%2C%20%22lineCap%22%3A%20%22round%22%2C%20%22lineJoin%22%3A%20%22round%22%2C%20%22opacity%22%3A%201.0%2C%20%22radius%22%3A%20122000.0%2C%20%22stroke%22%3A%20true%2C%20%22weight%22%3A%203%7D%0A%20%20%20%20%20%20%20%20%20%20%20%20%29.addTo%28map_eb660f0cadf14412ab360cc7dee84180%29%3B%0A%20%20%20%20%20%20%20%20%0A%20%20%20%20%0A%20%20%20%20%20%20%20%20%20%20%20%20circle_a2dbcab8ca9840df923430489a3578e0.bindTooltip%28%0A%20%20%20%20%20%20%20%20%20%20%20%20%20%20%20%20%60%3Cdiv%3E%0A%20%20%20%20%20%20%20%20%20%20%20%20%20%20%20%20%20%20%20%20%20%3Cdiv%20style%3D%27margin%3A%200%3B%20background-color%3A%20black%3B%20color%3A%20white%3B%27%3E%3Ch4%20style%3D%27text-align%3Acenter%3Bfont-weight%3A%20bold%27%3EMozambique%3C/h4%3E%3Chr%20style%3D%27margin%3A10px%3Bcolor%3A%20white%3B%27%3E%3Cul%20style%3D%27color%3A%20white%3B%3Blist-style-type%3Acircle%3Balign-item%3Aleft%3Bpadding-left%3A20px%3Bpadding-right%3A20px%27%3E%3Cli%3EConfirmed%3A%20210399%3C/li%3E%3C/ul%3E%3C/div%3E%0A%20%20%20%20%20%20%20%20%20%20%20%20%20%20%20%20%20%3C/div%3E%60%2C%0A%20%20%20%20%20%20%20%20%20%20%20%20%20%20%20%20%7B%22sticky%22%3A%20true%7D%0A%20%20%20%20%20%20%20%20%20%20%20%20%29%3B%0A%20%20%20%20%20%20%20%20%0A%20%20%20%20%0A%20%20%20%20%20%20%20%20%20%20%20%20var%20circle_63c2112901934baaa9cbadabf2528518%20%3D%20L.circle%28%0A%20%20%20%20%20%20%20%20%20%20%20%20%20%20%20%20%5B-22.9576%2C%2018.4904%5D%2C%0A%20%20%20%20%20%20%20%20%20%20%20%20%20%20%20%20%7B%22bubblingMouseEvents%22%3A%20true%2C%20%22color%22%3A%20%22red%22%2C%20%22dashArray%22%3A%20null%2C%20%22dashOffset%22%3A%20null%2C%20%22fill%22%3A%20true%2C%20%22fillColor%22%3A%20%22indigo%22%2C%20%22fillOpacity%22%3A%200.2%2C%20%22fillRule%22%3A%20%22evenodd%22%2C%20%22lineCap%22%3A%20%22round%22%2C%20%22lineJoin%22%3A%20%22round%22%2C%20%22opacity%22%3A%201.0%2C%20%22radius%22%3A%20112000.0%2C%20%22stroke%22%3A%20true%2C%20%22weight%22%3A%203%7D%0A%20%20%20%20%20%20%20%20%20%20%20%20%29.addTo%28map_eb660f0cadf14412ab360cc7dee84180%29%3B%0A%20%20%20%20%20%20%20%20%0A%20%20%20%20%0A%20%20%20%20%20%20%20%20%20%20%20%20circle_63c2112901934baaa9cbadabf2528518.bindTooltip%28%0A%20%20%20%20%20%20%20%20%20%20%20%20%20%20%20%20%60%3Cdiv%3E%0A%20%20%20%20%20%20%20%20%20%20%20%20%20%20%20%20%20%20%20%20%20%3Cdiv%20style%3D%27margin%3A%200%3B%20background-color%3A%20black%3B%20color%3A%20white%3B%27%3E%3Ch4%20style%3D%27text-align%3Acenter%3Bfont-weight%3A%20bold%27%3ENamibia%3C/h4%3E%3Chr%20style%3D%27margin%3A10px%3Bcolor%3A%20white%3B%27%3E%3Cul%20style%3D%27color%3A%20white%3B%3Blist-style-type%3Acircle%3Balign-item%3Aleft%3Bpadding-left%3A20px%3Bpadding-right%3A20px%27%3E%3Cli%3EConfirmed%3A%20152390%3C/li%3E%3C/ul%3E%3C/div%3E%0A%20%20%20%20%20%20%20%20%20%20%20%20%20%20%20%20%20%3C/div%3E%60%2C%0A%20%20%20%20%20%20%20%20%20%20%20%20%20%20%20%20%7B%22sticky%22%3A%20true%7D%0A%20%20%20%20%20%20%20%20%20%20%20%20%29%3B%0A%20%20%20%20%20%20%20%20%0A%20%20%20%20%0A%20%20%20%20%20%20%20%20%20%20%20%20var%20circle_776b7b040cb04ab3b459210a86e2e847%20%3D%20L.circle%28%0A%20%20%20%20%20%20%20%20%20%20%20%20%20%20%20%20%5B28.1667%2C%2084.25%5D%2C%0A%20%20%20%20%20%20%20%20%20%20%20%20%20%20%20%20%7B%22bubblingMouseEvents%22%3A%20true%2C%20%22color%22%3A%20%22red%22%2C%20%22dashArray%22%3A%20null%2C%20%22dashOffset%22%3A%20null%2C%20%22fill%22%3A%20true%2C%20%22fillColor%22%3A%20%22indigo%22%2C%20%22fillOpacity%22%3A%200.2%2C%20%22fillRule%22%3A%20%22evenodd%22%2C%20%22lineCap%22%3A%20%22round%22%2C%20%22lineJoin%22%3A%20%22round%22%2C%20%22opacity%22%3A%201.0%2C%20%22radius%22%3A%20132000.0%2C%20%22stroke%22%3A%20true%2C%20%22weight%22%3A%203%7D%0A%20%20%20%20%20%20%20%20%20%20%20%20%29.addTo%28map_eb660f0cadf14412ab360cc7dee84180%29%3B%0A%20%20%20%20%20%20%20%20%0A%20%20%20%20%0A%20%20%20%20%20%20%20%20%20%20%20%20circle_776b7b040cb04ab3b459210a86e2e847.bindTooltip%28%0A%20%20%20%20%20%20%20%20%20%20%20%20%20%20%20%20%60%3Cdiv%3E%0A%20%20%20%20%20%20%20%20%20%20%20%20%20%20%20%20%20%20%20%20%20%3Cdiv%20style%3D%27margin%3A%200%3B%20background-color%3A%20black%3B%20color%3A%20white%3B%27%3E%3Ch4%20style%3D%27text-align%3Acenter%3Bfont-weight%3A%20bold%27%3ENepal%3C/h4%3E%3Chr%20style%3D%27margin%3A10px%3Bcolor%3A%20white%3B%27%3E%3Cul%20style%3D%27color%3A%20white%3B%3Blist-style-type%3Acircle%3Balign-item%3Aleft%3Bpadding-left%3A20px%3Bpadding-right%3A20px%27%3E%3Cli%3EConfirmed%3A%20832589%3C/li%3E%3C/ul%3E%3C/div%3E%0A%20%20%20%20%20%20%20%20%20%20%20%20%20%20%20%20%20%3C/div%3E%60%2C%0A%20%20%20%20%20%20%20%20%20%20%20%20%20%20%20%20%7B%22sticky%22%3A%20true%7D%0A%20%20%20%20%20%20%20%20%20%20%20%20%29%3B%0A%20%20%20%20%20%20%20%20%0A%20%20%20%20%0A%20%20%20%20%20%20%20%20%20%20%20%20var%20circle_d8729740323a42e696df83967194a8fe%20%3D%20L.circle%28%0A%20%20%20%20%20%20%20%20%20%20%20%20%20%20%20%20%5B12.5211%2C%20-69.9683%5D%2C%0A%20%20%20%20%20%20%20%20%20%20%20%20%20%20%20%20%7B%22bubblingMouseEvents%22%3A%20true%2C%20%22color%22%3A%20%22red%22%2C%20%22dashArray%22%3A%20null%2C%20%22dashOffset%22%3A%20null%2C%20%22fill%22%3A%20true%2C%20%22fillColor%22%3A%20%22indigo%22%2C%20%22fillOpacity%22%3A%200.2%2C%20%22fillRule%22%3A%20%22evenodd%22%2C%20%22lineCap%22%3A%20%22round%22%2C%20%22lineJoin%22%3A%20%22round%22%2C%20%22opacity%22%3A%201.0%2C%20%22radius%22%3A%20102000.0%2C%20%22stroke%22%3A%20true%2C%20%22weight%22%3A%203%7D%0A%20%20%20%20%20%20%20%20%20%20%20%20%29.addTo%28map_eb660f0cadf14412ab360cc7dee84180%29%3B%0A%20%20%20%20%20%20%20%20%0A%20%20%20%20%0A%20%20%20%20%20%20%20%20%20%20%20%20circle_d8729740323a42e696df83967194a8fe.bindTooltip%28%0A%20%20%20%20%20%20%20%20%20%20%20%20%20%20%20%20%60%3Cdiv%3E%0A%20%20%20%20%20%20%20%20%20%20%20%20%20%20%20%20%20%20%20%20%20%3Cdiv%20style%3D%27margin%3A%200%3B%20background-color%3A%20black%3B%20color%3A%20white%3B%27%3E%3Ch4%20style%3D%27text-align%3Acenter%3Bfont-weight%3A%20bold%27%3ENetherlands%3C/h4%3E%3Chr%20style%3D%27margin%3A10px%3Bcolor%3A%20white%3B%27%3E%3Cul%20style%3D%27color%3A%20white%3B%3Blist-style-type%3Acircle%3Balign-item%3Aleft%3Bpadding-left%3A20px%3Bpadding-right%3A20px%27%3E%3Cli%3EConfirmed%3A%2027392%3C/li%3E%3C/ul%3E%3C/div%3E%0A%20%20%20%20%20%20%20%20%20%20%20%20%20%20%20%20%20%3C/div%3E%60%2C%0A%20%20%20%20%20%20%20%20%20%20%20%20%20%20%20%20%7B%22sticky%22%3A%20true%7D%0A%20%20%20%20%20%20%20%20%20%20%20%20%29%3B%0A%20%20%20%20%20%20%20%20%0A%20%20%20%20%0A%20%20%20%20%20%20%20%20%20%20%20%20var%20circle_ce86e3186e94427a8a5f3b662bbea818%20%3D%20L.circle%28%0A%20%20%20%20%20%20%20%20%20%20%20%20%20%20%20%20%5B12.1784%2C%20-68.2385%5D%2C%0A%20%20%20%20%20%20%20%20%20%20%20%20%20%20%20%20%7B%22bubblingMouseEvents%22%3A%20true%2C%20%22color%22%3A%20%22red%22%2C%20%22dashArray%22%3A%20null%2C%20%22dashOffset%22%3A%20null%2C%20%22fill%22%3A%20true%2C%20%22fillColor%22%3A%20%22indigo%22%2C%20%22fillOpacity%22%3A%200.2%2C%20%22fillRule%22%3A%20%22evenodd%22%2C%20%22lineCap%22%3A%20%22round%22%2C%20%22lineJoin%22%3A%20%22round%22%2C%20%22opacity%22%3A%201.0%2C%20%22radius%22%3A%2082000.0%2C%20%22stroke%22%3A%20true%2C%20%22weight%22%3A%203%7D%0A%20%20%20%20%20%20%20%20%20%20%20%20%29.addTo%28map_eb660f0cadf14412ab360cc7dee84180%29%3B%0A%20%20%20%20%20%20%20%20%0A%20%20%20%20%0A%20%20%20%20%20%20%20%20%20%20%20%20circle_ce86e3186e94427a8a5f3b662bbea818.bindTooltip%28%0A%20%20%20%20%20%20%20%20%20%20%20%20%20%20%20%20%60%3Cdiv%3E%0A%20%20%20%20%20%20%20%20%20%20%20%20%20%20%20%20%20%20%20%20%20%3Cdiv%20style%3D%27margin%3A%200%3B%20background-color%3A%20black%3B%20color%3A%20white%3B%27%3E%3Ch4%20style%3D%27text-align%3Acenter%3Bfont-weight%3A%20bold%27%3ENetherlands%3C/h4%3E%3Chr%20style%3D%27margin%3A10px%3Bcolor%3A%20white%3B%27%3E%3Cul%20style%3D%27color%3A%20white%3B%3Blist-style-type%3Acircle%3Balign-item%3Aleft%3Bpadding-left%3A20px%3Bpadding-right%3A20px%27%3E%3Cli%3EConfirmed%3A%204395%3C/li%3E%3C/ul%3E%3C/div%3E%0A%20%20%20%20%20%20%20%20%20%20%20%20%20%20%20%20%20%3C/div%3E%60%2C%0A%20%20%20%20%20%20%20%20%20%20%20%20%20%20%20%20%7B%22sticky%22%3A%20true%7D%0A%20%20%20%20%20%20%20%20%20%20%20%20%29%3B%0A%20%20%20%20%20%20%20%20%0A%20%20%20%20%0A%20%20%20%20%20%20%20%20%20%20%20%20var%20circle_057295b08ae349b89fcd3eeb2feadeb7%20%3D%20L.circle%28%0A%20%20%20%20%20%20%20%20%20%20%20%20%20%20%20%20%5B12.1696%2C%20-68.99%5D%2C%0A%20%20%20%20%20%20%20%20%20%20%20%20%20%20%20%20%7B%22bubblingMouseEvents%22%3A%20true%2C%20%22color%22%3A%20%22red%22%2C%20%22dashArray%22%3A%20null%2C%20%22dashOffset%22%3A%20null%2C%20%22fill%22%3A%20true%2C%20%22fillColor%22%3A%20%22indigo%22%2C%20%22fillOpacity%22%3A%200.2%2C%20%22fillRule%22%3A%20%22evenodd%22%2C%20%22lineCap%22%3A%20%22round%22%2C%20%22lineJoin%22%3A%20%22round%22%2C%20%22opacity%22%3A%201.0%2C%20%22radius%22%3A%20102000.0%2C%20%22stroke%22%3A%20true%2C%20%22weight%22%3A%203%7D%0A%20%20%20%20%20%20%20%20%20%20%20%20%29.addTo%28map_eb660f0cadf14412ab360cc7dee84180%29%3B%0A%20%20%20%20%20%20%20%20%0A%20%20%20%20%0A%20%20%20%20%20%20%20%20%20%20%20%20circle_057295b08ae349b89fcd3eeb2feadeb7.bindTooltip%28%0A%20%20%20%20%20%20%20%20%20%20%20%20%20%20%20%20%60%3Cdiv%3E%0A%20%20%20%20%20%20%20%20%20%20%20%20%20%20%20%20%20%20%20%20%20%3Cdiv%20style%3D%27margin%3A%200%3B%20background-color%3A%20black%3B%20color%3A%20white%3B%27%3E%3Ch4%20style%3D%27text-align%3Acenter%3Bfont-weight%3A%20bold%27%3ENetherlands%3C/h4%3E%3Chr%20style%3D%27margin%3A10px%3Bcolor%3A%20white%3B%27%3E%3Cul%20style%3D%27color%3A%20white%3B%3Blist-style-type%3Acircle%3Balign-item%3Aleft%3Bpadding-left%3A20px%3Bpadding-right%3A20px%27%3E%3Cli%3EConfirmed%3A%2028663%3C/li%3E%3C/ul%3E%3C/div%3E%0A%20%20%20%20%20%20%20%20%20%20%20%20%20%20%20%20%20%3C/div%3E%60%2C%0A%20%20%20%20%20%20%20%20%20%20%20%20%20%20%20%20%7B%22sticky%22%3A%20true%7D%0A%20%20%20%20%20%20%20%20%20%20%20%20%29%3B%0A%20%20%20%20%20%20%20%20%0A%20%20%20%20%0A%20%20%20%20%20%20%20%20%20%20%20%20var%20circle_0e2a3f37cb154bd1827b85fcee6ad8a8%20%3D%20L.circle%28%0A%20%20%20%20%20%20%20%20%20%20%20%20%20%20%20%20%5B18.0425%2C%20-63.0548%5D%2C%0A%20%20%20%20%20%20%20%20%20%20%20%20%20%20%20%20%7B%22bubblingMouseEvents%22%3A%20true%2C%20%22color%22%3A%20%22red%22%2C%20%22dashArray%22%3A%20null%2C%20%22dashOffset%22%3A%20null%2C%20%22fill%22%3A%20true%2C%20%22fillColor%22%3A%20%22indigo%22%2C%20%22fillOpacity%22%3A%200.2%2C%20%22fillRule%22%3A%20%22evenodd%22%2C%20%22lineCap%22%3A%20%22round%22%2C%20%22lineJoin%22%3A%20%22round%22%2C%20%22opacity%22%3A%201.0%2C%20%22radius%22%3A%2082000.0%2C%20%22stroke%22%3A%20true%2C%20%22weight%22%3A%203%7D%0A%20%20%20%20%20%20%20%20%20%20%20%20%29.addTo%28map_eb660f0cadf14412ab360cc7dee84180%29%3B%0A%20%20%20%20%20%20%20%20%0A%20%20%20%20%0A%20%20%20%20%20%20%20%20%20%20%20%20circle_0e2a3f37cb154bd1827b85fcee6ad8a8.bindTooltip%28%0A%20%20%20%20%20%20%20%20%20%20%20%20%20%20%20%20%60%3Cdiv%3E%0A%20%20%20%20%20%20%20%20%20%20%20%20%20%20%20%20%20%20%20%20%20%3Cdiv%20style%3D%27margin%3A%200%3B%20background-color%3A%20black%3B%20color%3A%20white%3B%27%3E%3Ch4%20style%3D%27text-align%3Acenter%3Bfont-weight%3A%20bold%27%3ENetherlands%3C/h4%3E%3Chr%20style%3D%27margin%3A10px%3Bcolor%3A%20white%3B%27%3E%3Cul%20style%3D%27color%3A%20white%3B%3Blist-style-type%3Acircle%3Balign-item%3Aleft%3Bpadding-left%3A20px%3Bpadding-right%3A20px%27%3E%3Cli%3EConfirmed%3A%206692%3C/li%3E%3C/ul%3E%3C/div%3E%0A%20%20%20%20%20%20%20%20%20%20%20%20%20%20%20%20%20%3C/div%3E%60%2C%0A%20%20%20%20%20%20%20%20%20%20%20%20%20%20%20%20%7B%22sticky%22%3A%20true%7D%0A%20%20%20%20%20%20%20%20%20%20%20%20%29%3B%0A%20%20%20%20%20%20%20%20%0A%20%20%20%20%0A%20%20%20%20%20%20%20%20%20%20%20%20var%20circle_871e2539270d492d817c010997be7b71%20%3D%20L.circle%28%0A%20%20%20%20%20%20%20%20%20%20%20%20%20%20%20%20%5B52.1326%2C%205.2913%5D%2C%0A%20%20%20%20%20%20%20%20%20%20%20%20%20%20%20%20%7B%22bubblingMouseEvents%22%3A%20true%2C%20%22color%22%3A%20%22red%22%2C%20%22dashArray%22%3A%20null%2C%20%22dashOffset%22%3A%20null%2C%20%22fill%22%3A%20true%2C%20%22fillColor%22%3A%20%22indigo%22%2C%20%22fillOpacity%22%3A%200.2%2C%20%22fillRule%22%3A%20%22evenodd%22%2C%20%22lineCap%22%3A%20%22round%22%2C%20%22lineJoin%22%3A%20%22round%22%2C%20%22opacity%22%3A%201.0%2C%20%22radius%22%3A%20152000.0%2C%20%22stroke%22%3A%20true%2C%20%22weight%22%3A%203%7D%0A%20%20%20%20%20%20%20%20%20%20%20%20%29.addTo%28map_eb660f0cadf14412ab360cc7dee84180%29%3B%0A%20%20%20%20%20%20%20%20%0A%20%20%20%20%0A%20%20%20%20%20%20%20%20%20%20%20%20circle_871e2539270d492d817c010997be7b71.bindTooltip%28%0A%20%20%20%20%20%20%20%20%20%20%20%20%20%20%20%20%60%3Cdiv%3E%0A%20%20%20%20%20%20%20%20%20%20%20%20%20%20%20%20%20%20%20%20%20%3Cdiv%20style%3D%27margin%3A%200%3B%20background-color%3A%20black%3B%20color%3A%20white%3B%27%3E%3Ch4%20style%3D%27text-align%3Acenter%3Bfont-weight%3A%20bold%27%3ENetherlands%3C/h4%3E%3Chr%20style%3D%27margin%3A10px%3Bcolor%3A%20white%3B%27%3E%3Cul%20style%3D%27color%3A%20white%3B%3Blist-style-type%3Acircle%3Balign-item%3Aleft%3Bpadding-left%3A20px%3Bpadding-right%3A20px%27%3E%3Cli%3EConfirmed%3A%203343146%3C/li%3E%3C/ul%3E%3C/div%3E%0A%20%20%20%20%20%20%20%20%20%20%20%20%20%20%20%20%20%3C/div%3E%60%2C%0A%20%20%20%20%20%20%20%20%20%20%20%20%20%20%20%20%7B%22sticky%22%3A%20true%7D%0A%20%20%20%20%20%20%20%20%20%20%20%20%29%3B%0A%20%20%20%20%20%20%20%20%0A%20%20%20%20%0A%20%20%20%20%20%20%20%20%20%20%20%20var%20circle_2e0247ca0aaa48b59f1fae224d285533%20%3D%20L.circle%28%0A%20%20%20%20%20%20%20%20%20%20%20%20%20%20%20%20%5B-21.2367%2C%20-159.7777%5D%2C%0A%20%20%20%20%20%20%20%20%20%20%20%20%20%20%20%20%7B%22bubblingMouseEvents%22%3A%20true%2C%20%22color%22%3A%20%22red%22%2C%20%22dashArray%22%3A%20null%2C%20%22dashOffset%22%3A%20null%2C%20%22fill%22%3A%20true%2C%20%22fillColor%22%3A%20%22indigo%22%2C%20%22fillOpacity%22%3A%200.2%2C%20%22fillRule%22%3A%20%22evenodd%22%2C%20%22lineCap%22%3A%20%22round%22%2C%20%22lineJoin%22%3A%20%22round%22%2C%20%22opacity%22%3A%201.0%2C%20%22radius%22%3A%2012000.0%2C%20%22stroke%22%3A%20true%2C%20%22weight%22%3A%203%7D%0A%20%20%20%20%20%20%20%20%20%20%20%20%29.addTo%28map_eb660f0cadf14412ab360cc7dee84180%29%3B%0A%20%20%20%20%20%20%20%20%0A%20%20%20%20%0A%20%20%20%20%20%20%20%20%20%20%20%20circle_2e0247ca0aaa48b59f1fae224d285533.bindTooltip%28%0A%20%20%20%20%20%20%20%20%20%20%20%20%20%20%20%20%60%3Cdiv%3E%0A%20%20%20%20%20%20%20%20%20%20%20%20%20%20%20%20%20%20%20%20%20%3Cdiv%20style%3D%27margin%3A%200%3B%20background-color%3A%20black%3B%20color%3A%20white%3B%27%3E%3Ch4%20style%3D%27text-align%3Acenter%3Bfont-weight%3A%20bold%27%3ENew%20Zealand%3C/h4%3E%3Chr%20style%3D%27margin%3A10px%3Bcolor%3A%20white%3B%27%3E%3Cul%20style%3D%27color%3A%20white%3B%3Blist-style-type%3Acircle%3Balign-item%3Aleft%3Bpadding-left%3A20px%3Bpadding-right%3A20px%27%3E%3Cli%3EConfirmed%3A%202%3C/li%3E%3C/ul%3E%3C/div%3E%0A%20%20%20%20%20%20%20%20%20%20%20%20%20%20%20%20%20%3C/div%3E%60%2C%0A%20%20%20%20%20%20%20%20%20%20%20%20%20%20%20%20%7B%22sticky%22%3A%20true%7D%0A%20%20%20%20%20%20%20%20%20%20%20%20%29%3B%0A%20%20%20%20%20%20%20%20%0A%20%20%20%20%0A%20%20%20%20%20%20%20%20%20%20%20%20var%20circle_12666b5d794341aa832ba25bf423bffa%20%3D%20L.circle%28%0A%20%20%20%20%20%20%20%20%20%20%20%20%20%20%20%20%5B-40.9006%2C%20174.886%5D%2C%0A%20%20%20%20%20%20%20%20%20%20%20%20%20%20%20%20%7B%22bubblingMouseEvents%22%3A%20true%2C%20%22color%22%3A%20%22red%22%2C%20%22dashArray%22%3A%20null%2C%20%22dashOffset%22%3A%20null%2C%20%22fill%22%3A%20true%2C%20%22fillColor%22%3A%20%22indigo%22%2C%20%22fillOpacity%22%3A%200.2%2C%20%22fillRule%22%3A%20%22evenodd%22%2C%20%22lineCap%22%3A%20%22round%22%2C%20%22lineJoin%22%3A%20%22round%22%2C%20%22opacity%22%3A%201.0%2C%20%22radius%22%3A%2092000.0%2C%20%22stroke%22%3A%20true%2C%20%22weight%22%3A%203%7D%0A%20%20%20%20%20%20%20%20%20%20%20%20%29.addTo%28map_eb660f0cadf14412ab360cc7dee84180%29%3B%0A%20%20%20%20%20%20%20%20%0A%20%20%20%20%0A%20%20%20%20%20%20%20%20%20%20%20%20circle_12666b5d794341aa832ba25bf423bffa.bindTooltip%28%0A%20%20%20%20%20%20%20%20%20%20%20%20%20%20%20%20%60%3Cdiv%3E%0A%20%20%20%20%20%20%20%20%20%20%20%20%20%20%20%20%20%20%20%20%20%3Cdiv%20style%3D%27margin%3A%200%3B%20background-color%3A%20black%3B%20color%3A%20white%3B%27%3E%3Ch4%20style%3D%27text-align%3Acenter%3Bfont-weight%3A%20bold%27%3ENew%20Zealand%3C/h4%3E%3Chr%20style%3D%27margin%3A10px%3Bcolor%3A%20white%3B%27%3E%3Cul%20style%3D%27color%3A%20white%3B%3Blist-style-type%3Acircle%3Balign-item%3Aleft%3Bpadding-left%3A20px%3Bpadding-right%3A20px%27%3E%3Cli%3EConfirmed%3A%2014733%3C/li%3E%3C/ul%3E%3C/div%3E%0A%20%20%20%20%20%20%20%20%20%20%20%20%20%20%20%20%20%3C/div%3E%60%2C%0A%20%20%20%20%20%20%20%20%20%20%20%20%20%20%20%20%7B%22sticky%22%3A%20true%7D%0A%20%20%20%20%20%20%20%20%20%20%20%20%29%3B%0A%20%20%20%20%20%20%20%20%0A%20%20%20%20%0A%20%20%20%20%20%20%20%20%20%20%20%20var%20circle_d794c32923f54ca28c86cd0f9ae26921%20%3D%20L.circle%28%0A%20%20%20%20%20%20%20%20%20%20%20%20%20%20%20%20%5B12.865416%2C%20-85.207229%5D%2C%0A%20%20%20%20%20%20%20%20%20%20%20%20%20%20%20%20%7B%22bubblingMouseEvents%22%3A%20true%2C%20%22color%22%3A%20%22red%22%2C%20%22dashArray%22%3A%20null%2C%20%22dashOffset%22%3A%20null%2C%20%22fill%22%3A%20true%2C%20%22fillColor%22%3A%20%22indigo%22%2C%20%22fillOpacity%22%3A%200.2%2C%20%22fillRule%22%3A%20%22evenodd%22%2C%20%22lineCap%22%3A%20%22round%22%2C%20%22lineJoin%22%3A%20%22round%22%2C%20%22opacity%22%3A%201.0%2C%20%22radius%22%3A%2092000.0%2C%20%22stroke%22%3A%20true%2C%20%22weight%22%3A%203%7D%0A%20%20%20%20%20%20%20%20%20%20%20%20%29.addTo%28map_eb660f0cadf14412ab360cc7dee84180%29%3B%0A%20%20%20%20%20%20%20%20%0A%20%20%20%20%0A%20%20%20%20%20%20%20%20%20%20%20%20circle_d794c32923f54ca28c86cd0f9ae26921.bindTooltip%28%0A%20%20%20%20%20%20%20%20%20%20%20%20%20%20%20%20%60%3Cdiv%3E%0A%20%20%20%20%20%20%20%20%20%20%20%20%20%20%20%20%20%20%20%20%20%3Cdiv%20style%3D%27margin%3A%200%3B%20background-color%3A%20black%3B%20color%3A%20white%3B%27%3E%3Ch4%20style%3D%27text-align%3Acenter%3Bfont-weight%3A%20bold%27%3ENicaragua%3C/h4%3E%3Chr%20style%3D%27margin%3A10px%3Bcolor%3A%20white%3B%27%3E%3Cul%20style%3D%27color%3A%20white%3B%3Blist-style-type%3Acircle%3Balign-item%3Aleft%3Bpadding-left%3A20px%3Bpadding-right%3A20px%27%3E%3Cli%3EConfirmed%3A%2017526%3C/li%3E%3C/ul%3E%3C/div%3E%0A%20%20%20%20%20%20%20%20%20%20%20%20%20%20%20%20%20%3C/div%3E%60%2C%0A%20%20%20%20%20%20%20%20%20%20%20%20%20%20%20%20%7B%22sticky%22%3A%20true%7D%0A%20%20%20%20%20%20%20%20%20%20%20%20%29%3B%0A%20%20%20%20%20%20%20%20%0A%20%20%20%20%0A%20%20%20%20%20%20%20%20%20%20%20%20var%20circle_c3993e13970b4370966782c4a928519d%20%3D%20L.circle%28%0A%20%20%20%20%20%20%20%20%20%20%20%20%20%20%20%20%5B17.607789%2C%208.081666%5D%2C%0A%20%20%20%20%20%20%20%20%20%20%20%20%20%20%20%20%7B%22bubblingMouseEvents%22%3A%20true%2C%20%22color%22%3A%20%22red%22%2C%20%22dashArray%22%3A%20null%2C%20%22dashOffset%22%3A%20null%2C%20%22fill%22%3A%20true%2C%20%22fillColor%22%3A%20%22indigo%22%2C%20%22fillOpacity%22%3A%200.2%2C%20%22fillRule%22%3A%20%22evenodd%22%2C%20%22lineCap%22%3A%20%22round%22%2C%20%22lineJoin%22%3A%20%22round%22%2C%20%22opacity%22%3A%201.0%2C%20%22radius%22%3A%2082000.0%2C%20%22stroke%22%3A%20true%2C%20%22weight%22%3A%203%7D%0A%20%20%20%20%20%20%20%20%20%20%20%20%29.addTo%28map_eb660f0cadf14412ab360cc7dee84180%29%3B%0A%20%20%20%20%20%20%20%20%0A%20%20%20%20%0A%20%20%20%20%20%20%20%20%20%20%20%20circle_c3993e13970b4370966782c4a928519d.bindTooltip%28%0A%20%20%20%20%20%20%20%20%20%20%20%20%20%20%20%20%60%3Cdiv%3E%0A%20%20%20%20%20%20%20%20%20%20%20%20%20%20%20%20%20%20%20%20%20%3Cdiv%20style%3D%27margin%3A%200%3B%20background-color%3A%20black%3B%20color%3A%20white%3B%27%3E%3Ch4%20style%3D%27text-align%3Acenter%3Bfont-weight%3A%20bold%27%3ENiger%3C/h4%3E%3Chr%20style%3D%27margin%3A10px%3Bcolor%3A%20white%3B%27%3E%3Cul%20style%3D%27color%3A%20white%3B%3Blist-style-type%3Acircle%3Balign-item%3Aleft%3Bpadding-left%3A20px%3Bpadding-right%3A20px%27%3E%3Cli%3EConfirmed%3A%208006%3C/li%3E%3C/ul%3E%3C/div%3E%0A%20%20%20%20%20%20%20%20%20%20%20%20%20%20%20%20%20%3C/div%3E%60%2C%0A%20%20%20%20%20%20%20%20%20%20%20%20%20%20%20%20%7B%22sticky%22%3A%20true%7D%0A%20%20%20%20%20%20%20%20%20%20%20%20%29%3B%0A%20%20%20%20%20%20%20%20%0A%20%20%20%20%0A%20%20%20%20%20%20%20%20%20%20%20%20var%20circle_5f40552b358b42849730196e69635ade%20%3D%20L.circle%28%0A%20%20%20%20%20%20%20%20%20%20%20%20%20%20%20%20%5B9.082%2C%208.6753%5D%2C%0A%20%20%20%20%20%20%20%20%20%20%20%20%20%20%20%20%7B%22bubblingMouseEvents%22%3A%20true%2C%20%22color%22%3A%20%22red%22%2C%20%22dashArray%22%3A%20null%2C%20%22dashOffset%22%3A%20null%2C%20%22fill%22%3A%20true%2C%20%22fillColor%22%3A%20%22indigo%22%2C%20%22fillOpacity%22%3A%200.2%2C%20%22fillRule%22%3A%20%22evenodd%22%2C%20%22lineCap%22%3A%20%22round%22%2C%20%22lineJoin%22%3A%20%22round%22%2C%20%22opacity%22%3A%201.0%2C%20%22radius%22%3A%20122000.0%2C%20%22stroke%22%3A%20true%2C%20%22weight%22%3A%203%7D%0A%20%20%20%20%20%20%20%20%20%20%20%20%29.addTo%28map_eb660f0cadf14412ab360cc7dee84180%29%3B%0A%20%20%20%20%20%20%20%20%0A%20%20%20%20%0A%20%20%20%20%20%20%20%20%20%20%20%20circle_5f40552b358b42849730196e69635ade.bindTooltip%28%0A%20%20%20%20%20%20%20%20%20%20%20%20%20%20%20%20%60%3Cdiv%3E%0A%20%20%20%20%20%20%20%20%20%20%20%20%20%20%20%20%20%20%20%20%20%3Cdiv%20style%3D%27margin%3A%200%3B%20background-color%3A%20black%3B%20color%3A%20white%3B%27%3E%3Ch4%20style%3D%27text-align%3Acenter%3Bfont-weight%3A%20bold%27%3ENigeria%3C/h4%3E%3Chr%20style%3D%27margin%3A10px%3Bcolor%3A%20white%3B%27%3E%3Cul%20style%3D%27color%3A%20white%3B%3Blist-style-type%3Acircle%3Balign-item%3Aleft%3Bpadding-left%3A20px%3Bpadding-right%3A20px%27%3E%3Cli%3EConfirmed%3A%20248312%3C/li%3E%3C/ul%3E%3C/div%3E%0A%20%20%20%20%20%20%20%20%20%20%20%20%20%20%20%20%20%3C/div%3E%60%2C%0A%20%20%20%20%20%20%20%20%20%20%20%20%20%20%20%20%7B%22sticky%22%3A%20true%7D%0A%20%20%20%20%20%20%20%20%20%20%20%20%29%3B%0A%20%20%20%20%20%20%20%20%0A%20%20%20%20%0A%20%20%20%20%20%20%20%20%20%20%20%20var%20circle_cbe6c61bdf3d4f1d971d4fdf9fd3b092%20%3D%20L.circle%28%0A%20%20%20%20%20%20%20%20%20%20%20%20%20%20%20%20%5B41.6086%2C%2021.7453%5D%2C%0A%20%20%20%20%20%20%20%20%20%20%20%20%20%20%20%20%7B%22bubblingMouseEvents%22%3A%20true%2C%20%22color%22%3A%20%22red%22%2C%20%22dashArray%22%3A%20null%2C%20%22dashOffset%22%3A%20null%2C%20%22fill%22%3A%20true%2C%20%22fillColor%22%3A%20%22indigo%22%2C%20%22fillOpacity%22%3A%200.2%2C%20%22fillRule%22%3A%20%22evenodd%22%2C%20%22lineCap%22%3A%20%22round%22%2C%20%22lineJoin%22%3A%20%22round%22%2C%20%22opacity%22%3A%201.0%2C%20%22radius%22%3A%20122000.0%2C%20%22stroke%22%3A%20true%2C%20%22weight%22%3A%203%7D%0A%20%20%20%20%20%20%20%20%20%20%20%20%29.addTo%28map_eb660f0cadf14412ab360cc7dee84180%29%3B%0A%20%20%20%20%20%20%20%20%0A%20%20%20%20%0A%20%20%20%20%20%20%20%20%20%20%20%20circle_cbe6c61bdf3d4f1d971d4fdf9fd3b092.bindTooltip%28%0A%20%20%20%20%20%20%20%20%20%20%20%20%20%20%20%20%60%3Cdiv%3E%0A%20%20%20%20%20%20%20%20%20%20%20%20%20%20%20%20%20%20%20%20%20%3Cdiv%20style%3D%27margin%3A%200%3B%20background-color%3A%20black%3B%20color%3A%20white%3B%27%3E%3Ch4%20style%3D%27text-align%3Acenter%3Bfont-weight%3A%20bold%27%3ENorth%20Macedonia%3C/h4%3E%3Chr%20style%3D%27margin%3A10px%3Bcolor%3A%20white%3B%27%3E%3Cul%20style%3D%27color%3A%20white%3B%3Blist-style-type%3Acircle%3Balign-item%3Aleft%3Bpadding-left%3A20px%3Bpadding-right%3A20px%27%3E%3Cli%3EConfirmed%3A%20233464%3C/li%3E%3C/ul%3E%3C/div%3E%0A%20%20%20%20%20%20%20%20%20%20%20%20%20%20%20%20%20%3C/div%3E%60%2C%0A%20%20%20%20%20%20%20%20%20%20%20%20%20%20%20%20%7B%22sticky%22%3A%20true%7D%0A%20%20%20%20%20%20%20%20%20%20%20%20%29%3B%0A%20%20%20%20%20%20%20%20%0A%20%20%20%20%0A%20%20%20%20%20%20%20%20%20%20%20%20var%20circle_925c0cdc25a44b669bed14bdcdb3f5b1%20%3D%20L.circle%28%0A%20%20%20%20%20%20%20%20%20%20%20%20%20%20%20%20%5B60.472%2C%208.4689%5D%2C%0A%20%20%20%20%20%20%20%20%20%20%20%20%20%20%20%20%7B%22bubblingMouseEvents%22%3A%20true%2C%20%22color%22%3A%20%22red%22%2C%20%22dashArray%22%3A%20null%2C%20%22dashOffset%22%3A%20null%2C%20%22fill%22%3A%20true%2C%20%22fillColor%22%3A%20%22indigo%22%2C%20%22fillOpacity%22%3A%200.2%2C%20%22fillRule%22%3A%20%22evenodd%22%2C%20%22lineCap%22%3A%20%22round%22%2C%20%22lineJoin%22%3A%20%22round%22%2C%20%22opacity%22%3A%201.0%2C%20%22radius%22%3A%20132000.0%2C%20%22stroke%22%3A%20true%2C%20%22weight%22%3A%203%7D%0A%20%20%20%20%20%20%20%20%20%20%20%20%29.addTo%28map_eb660f0cadf14412ab360cc7dee84180%29%3B%0A%20%20%20%20%20%20%20%20%0A%20%20%20%20%0A%20%20%20%20%20%20%20%20%20%20%20%20circle_925c0cdc25a44b669bed14bdcdb3f5b1.bindTooltip%28%0A%20%20%20%20%20%20%20%20%20%20%20%20%20%20%20%20%60%3Cdiv%3E%0A%20%20%20%20%20%20%20%20%20%20%20%20%20%20%20%20%20%20%20%20%20%3Cdiv%20style%3D%27margin%3A%200%3B%20background-color%3A%20black%3B%20color%3A%20white%3B%27%3E%3Ch4%20style%3D%27text-align%3Acenter%3Bfont-weight%3A%20bold%27%3ENorway%3C/h4%3E%3Chr%20style%3D%27margin%3A10px%3Bcolor%3A%20white%3B%27%3E%3Cul%20style%3D%27color%3A%20white%3B%3Blist-style-type%3Acircle%3Balign-item%3Aleft%3Bpadding-left%3A20px%3Bpadding-right%3A20px%27%3E%3Cli%3EConfirmed%3A%20444368%3C/li%3E%3C/ul%3E%3C/div%3E%0A%20%20%20%20%20%20%20%20%20%20%20%20%20%20%20%20%20%3C/div%3E%60%2C%0A%20%20%20%20%20%20%20%20%20%20%20%20%20%20%20%20%7B%22sticky%22%3A%20true%7D%0A%20%20%20%20%20%20%20%20%20%20%20%20%29%3B%0A%20%20%20%20%20%20%20%20%0A%20%20%20%20%0A%20%20%20%20%20%20%20%20%20%20%20%20var%20circle_fcaa6892289d4146b39e60a8a554149a%20%3D%20L.circle%28%0A%20%20%20%20%20%20%20%20%20%20%20%20%20%20%20%20%5B21.512583%2C%2055.923255%5D%2C%0A%20%20%20%20%20%20%20%20%20%20%20%20%20%20%20%20%7B%22bubblingMouseEvents%22%3A%20true%2C%20%22color%22%3A%20%22red%22%2C%20%22dashArray%22%3A%20null%2C%20%22dashOffset%22%3A%20null%2C%20%22fill%22%3A%20true%2C%20%22fillColor%22%3A%20%22indigo%22%2C%20%22fillOpacity%22%3A%200.2%2C%20%22fillRule%22%3A%20%22evenodd%22%2C%20%22lineCap%22%3A%20%22round%22%2C%20%22lineJoin%22%3A%20%22round%22%2C%20%22opacity%22%3A%201.0%2C%20%22radius%22%3A%20122000.0%2C%20%22stroke%22%3A%20true%2C%20%22weight%22%3A%203%7D%0A%20%20%20%20%20%20%20%20%20%20%20%20%29.addTo%28map_eb660f0cadf14412ab360cc7dee84180%29%3B%0A%20%20%20%20%20%20%20%20%0A%20%20%20%20%0A%20%20%20%20%20%20%20%20%20%20%20%20circle_fcaa6892289d4146b39e60a8a554149a.bindTooltip%28%0A%20%20%20%20%20%20%20%20%20%20%20%20%20%20%20%20%60%3Cdiv%3E%0A%20%20%20%20%20%20%20%20%20%20%20%20%20%20%20%20%20%20%20%20%20%3Cdiv%20style%3D%27margin%3A%200%3B%20background-color%3A%20black%3B%20color%3A%20white%3B%27%3E%3Ch4%20style%3D%27text-align%3Acenter%3Bfont-weight%3A%20bold%27%3EOman%3C/h4%3E%3Chr%20style%3D%27margin%3A10px%3Bcolor%3A%20white%3B%27%3E%3Cul%20style%3D%27color%3A%20white%3B%3Blist-style-type%3Acircle%3Balign-item%3Aleft%3Bpadding-left%3A20px%3Bpadding-right%3A20px%27%3E%3Cli%3EConfirmed%3A%20307722%3C/li%3E%3C/ul%3E%3C/div%3E%0A%20%20%20%20%20%20%20%20%20%20%20%20%20%20%20%20%20%3C/div%3E%60%2C%0A%20%20%20%20%20%20%20%20%20%20%20%20%20%20%20%20%7B%22sticky%22%3A%20true%7D%0A%20%20%20%20%20%20%20%20%20%20%20%20%29%3B%0A%20%20%20%20%20%20%20%20%0A%20%20%20%20%0A%20%20%20%20%20%20%20%20%20%20%20%20var%20circle_233116c6733f49b9a90918742b35f9ae%20%3D%20L.circle%28%0A%20%20%20%20%20%20%20%20%20%20%20%20%20%20%20%20%5B30.3753%2C%2069.3451%5D%2C%0A%20%20%20%20%20%20%20%20%20%20%20%20%20%20%20%20%7B%22bubblingMouseEvents%22%3A%20true%2C%20%22color%22%3A%20%22red%22%2C%20%22dashArray%22%3A%20null%2C%20%22dashOffset%22%3A%20null%2C%20%22fill%22%3A%20true%2C%20%22fillColor%22%3A%20%22indigo%22%2C%20%22fillOpacity%22%3A%200.2%2C%20%22fillRule%22%3A%20%22evenodd%22%2C%20%22lineCap%22%3A%20%22round%22%2C%20%22lineJoin%22%3A%20%22round%22%2C%20%22opacity%22%3A%201.0%2C%20%22radius%22%3A%20142000.0%2C%20%22stroke%22%3A%20true%2C%20%22weight%22%3A%203%7D%0A%20%20%20%20%20%20%20%20%20%20%20%20%29.addTo%28map_eb660f0cadf14412ab360cc7dee84180%29%3B%0A%20%20%20%20%20%20%20%20%0A%20%20%20%20%0A%20%20%20%20%20%20%20%20%20%20%20%20circle_233116c6733f49b9a90918742b35f9ae.bindTooltip%28%0A%20%20%20%20%20%20%20%20%20%20%20%20%20%20%20%20%60%3Cdiv%3E%0A%20%20%20%20%20%20%20%20%20%20%20%20%20%20%20%20%20%20%20%20%20%3Cdiv%20style%3D%27margin%3A%200%3B%20background-color%3A%20black%3B%20color%3A%20white%3B%27%3E%3Ch4%20style%3D%27text-align%3Acenter%3Bfont-weight%3A%20bold%27%3EPakistan%3C/h4%3E%3Chr%20style%3D%27margin%3A10px%3Bcolor%3A%20white%3B%27%3E%3Cul%20style%3D%27color%3A%20white%3B%3Blist-style-type%3Acircle%3Balign-item%3Aleft%3Bpadding-left%3A20px%3Bpadding-right%3A20px%27%3E%3Cli%3EConfirmed%3A%201305707%3C/li%3E%3C/ul%3E%3C/div%3E%0A%20%20%20%20%20%20%20%20%20%20%20%20%20%20%20%20%20%3C/div%3E%60%2C%0A%20%20%20%20%20%20%20%20%20%20%20%20%20%20%20%20%7B%22sticky%22%3A%20true%7D%0A%20%20%20%20%20%20%20%20%20%20%20%20%29%3B%0A%20%20%20%20%20%20%20%20%0A%20%20%20%20%0A%20%20%20%20%20%20%20%20%20%20%20%20var%20circle_9ada152700ac4ecebd359d39e0430ffb%20%3D%20L.circle%28%0A%20%20%20%20%20%20%20%20%20%20%20%20%20%20%20%20%5B7.515%2C%20134.5825%5D%2C%0A%20%20%20%20%20%20%20%20%20%20%20%20%20%20%20%20%7B%22bubblingMouseEvents%22%3A%20true%2C%20%22color%22%3A%20%22red%22%2C%20%22dashArray%22%3A%20null%2C%20%22dashOffset%22%3A%20null%2C%20%22fill%22%3A%20true%2C%20%22fillColor%22%3A%20%22indigo%22%2C%20%22fillOpacity%22%3A%200.2%2C%20%22fillRule%22%3A%20%22evenodd%22%2C%20%22lineCap%22%3A%20%22round%22%2C%20%22lineJoin%22%3A%20%22round%22%2C%20%22opacity%22%3A%201.0%2C%20%22radius%22%3A%2022000.0%2C%20%22stroke%22%3A%20true%2C%20%22weight%22%3A%203%7D%0A%20%20%20%20%20%20%20%20%20%20%20%20%29.addTo%28map_eb660f0cadf14412ab360cc7dee84180%29%3B%0A%20%20%20%20%20%20%20%20%0A%20%20%20%20%0A%20%20%20%20%20%20%20%20%20%20%20%20circle_9ada152700ac4ecebd359d39e0430ffb.bindTooltip%28%0A%20%20%20%20%20%20%20%20%20%20%20%20%20%20%20%20%60%3Cdiv%3E%0A%20%20%20%20%20%20%20%20%20%20%20%20%20%20%20%20%20%20%20%20%20%3Cdiv%20style%3D%27margin%3A%200%3B%20background-color%3A%20black%3B%20color%3A%20white%3B%27%3E%3Ch4%20style%3D%27text-align%3Acenter%3Bfont-weight%3A%20bold%27%3EPalau%3C/h4%3E%3Chr%20style%3D%27margin%3A10px%3Bcolor%3A%20white%3B%27%3E%3Cul%20style%3D%27color%3A%20white%3B%3Blist-style-type%3Acircle%3Balign-item%3Aleft%3Bpadding-left%3A20px%3Bpadding-right%3A20px%27%3E%3Cli%3EConfirmed%3A%208%3C/li%3E%3C/ul%3E%3C/div%3E%0A%20%20%20%20%20%20%20%20%20%20%20%20%20%20%20%20%20%3C/div%3E%60%2C%0A%20%20%20%20%20%20%20%20%20%20%20%20%20%20%20%20%7B%22sticky%22%3A%20true%7D%0A%20%20%20%20%20%20%20%20%20%20%20%20%29%3B%0A%20%20%20%20%20%20%20%20%0A%20%20%20%20%0A%20%20%20%20%20%20%20%20%20%20%20%20var%20circle_ec402caa57784438a5eeb4c958241de4%20%3D%20L.circle%28%0A%20%20%20%20%20%20%20%20%20%20%20%20%20%20%20%20%5B8.538%2C%20-80.7821%5D%2C%0A%20%20%20%20%20%20%20%20%20%20%20%20%20%20%20%20%7B%22bubblingMouseEvents%22%3A%20true%2C%20%22color%22%3A%20%22red%22%2C%20%22dashArray%22%3A%20null%2C%20%22dashOffset%22%3A%20null%2C%20%22fill%22%3A%20true%2C%20%22fillColor%22%3A%20%22indigo%22%2C%20%22fillOpacity%22%3A%200.2%2C%20%22fillRule%22%3A%20%22evenodd%22%2C%20%22lineCap%22%3A%20%22round%22%2C%20%22lineJoin%22%3A%20%22round%22%2C%20%22opacity%22%3A%201.0%2C%20%22radius%22%3A%20132000.0%2C%20%22stroke%22%3A%20true%2C%20%22weight%22%3A%203%7D%0A%20%20%20%20%20%20%20%20%20%20%20%20%29.addTo%28map_eb660f0cadf14412ab360cc7dee84180%29%3B%0A%20%20%20%20%20%20%20%20%0A%20%20%20%20%0A%20%20%20%20%20%20%20%20%20%20%20%20circle_ec402caa57784438a5eeb4c958241de4.bindTooltip%28%0A%20%20%20%20%20%20%20%20%20%20%20%20%20%20%20%20%60%3Cdiv%3E%0A%20%20%20%20%20%20%20%20%20%20%20%20%20%20%20%20%20%20%20%20%20%3Cdiv%20style%3D%27margin%3A%200%3B%20background-color%3A%20black%3B%20color%3A%20white%3B%27%3E%3Ch4%20style%3D%27text-align%3Acenter%3Bfont-weight%3A%20bold%27%3EPanama%3C/h4%3E%3Chr%20style%3D%27margin%3A10px%3Bcolor%3A%20white%3B%27%3E%3Cul%20style%3D%27color%3A%20white%3B%3Blist-style-type%3Acircle%3Balign-item%3Aleft%3Bpadding-left%3A20px%3Bpadding-right%3A20px%27%3E%3Cli%3EConfirmed%3A%20526315%3C/li%3E%3C/ul%3E%3C/div%3E%0A%20%20%20%20%20%20%20%20%20%20%20%20%20%20%20%20%20%3C/div%3E%60%2C%0A%20%20%20%20%20%20%20%20%20%20%20%20%20%20%20%20%7B%22sticky%22%3A%20true%7D%0A%20%20%20%20%20%20%20%20%20%20%20%20%29%3B%0A%20%20%20%20%20%20%20%20%0A%20%20%20%20%0A%20%20%20%20%20%20%20%20%20%20%20%20var%20circle_57b8198030f84f57821858f379e65041%20%3D%20L.circle%28%0A%20%20%20%20%20%20%20%20%20%20%20%20%20%20%20%20%5B-6.314993%2C%20143.95555%5D%2C%0A%20%20%20%20%20%20%20%20%20%20%20%20%20%20%20%20%7B%22bubblingMouseEvents%22%3A%20true%2C%20%22color%22%3A%20%22red%22%2C%20%22dashArray%22%3A%20null%2C%20%22dashOffset%22%3A%20null%2C%20%22fill%22%3A%20true%2C%20%22fillColor%22%3A%20%22indigo%22%2C%20%22fillOpacity%22%3A%200.2%2C%20%22fillRule%22%3A%20%22evenodd%22%2C%20%22lineCap%22%3A%20%22round%22%2C%20%22lineJoin%22%3A%20%22round%22%2C%20%22opacity%22%3A%201.0%2C%20%22radius%22%3A%20102000.0%2C%20%22stroke%22%3A%20true%2C%20%22weight%22%3A%203%7D%0A%20%20%20%20%20%20%20%20%20%20%20%20%29.addTo%28map_eb660f0cadf14412ab360cc7dee84180%29%3B%0A%20%20%20%20%20%20%20%20%0A%20%20%20%20%0A%20%20%20%20%20%20%20%20%20%20%20%20circle_57b8198030f84f57821858f379e65041.bindTooltip%28%0A%20%20%20%20%20%20%20%20%20%20%20%20%20%20%20%20%60%3Cdiv%3E%0A%20%20%20%20%20%20%20%20%20%20%20%20%20%20%20%20%20%20%20%20%20%3Cdiv%20style%3D%27margin%3A%200%3B%20background-color%3A%20black%3B%20color%3A%20white%3B%27%3E%3Ch4%20style%3D%27text-align%3Acenter%3Bfont-weight%3A%20bold%27%3EPapua%20New%20Guinea%3C/h4%3E%3Chr%20style%3D%27margin%3A10px%3Bcolor%3A%20white%3B%27%3E%3Cul%20style%3D%27color%3A%20white%3B%3Blist-style-type%3Acircle%3Balign-item%3Aleft%3Bpadding-left%3A20px%3Bpadding-right%3A20px%27%3E%3Cli%3EConfirmed%3A%2036357%3C/li%3E%3C/ul%3E%3C/div%3E%0A%20%20%20%20%20%20%20%20%20%20%20%20%20%20%20%20%20%3C/div%3E%60%2C%0A%20%20%20%20%20%20%20%20%20%20%20%20%20%20%20%20%7B%22sticky%22%3A%20true%7D%0A%20%20%20%20%20%20%20%20%20%20%20%20%29%3B%0A%20%20%20%20%20%20%20%20%0A%20%20%20%20%0A%20%20%20%20%20%20%20%20%20%20%20%20var%20circle_55546a2094b54e8f8d3b6a4bd6a67c63%20%3D%20L.circle%28%0A%20%20%20%20%20%20%20%20%20%20%20%20%20%20%20%20%5B-23.4425%2C%20-58.4438%5D%2C%0A%20%20%20%20%20%20%20%20%20%20%20%20%20%20%20%20%7B%22bubblingMouseEvents%22%3A%20true%2C%20%22color%22%3A%20%22red%22%2C%20%22dashArray%22%3A%20null%2C%20%22dashOffset%22%3A%20null%2C%20%22fill%22%3A%20true%2C%20%22fillColor%22%3A%20%22indigo%22%2C%20%22fillOpacity%22%3A%200.2%2C%20%22fillRule%22%3A%20%22evenodd%22%2C%20%22lineCap%22%3A%20%22round%22%2C%20%22lineJoin%22%3A%20%22round%22%2C%20%22opacity%22%3A%201.0%2C%20%22radius%22%3A%20132000.0%2C%20%22stroke%22%3A%20true%2C%20%22weight%22%3A%203%7D%0A%20%20%20%20%20%20%20%20%20%20%20%20%29.addTo%28map_eb660f0cadf14412ab360cc7dee84180%29%3B%0A%20%20%20%20%20%20%20%20%0A%20%20%20%20%0A%20%20%20%20%20%20%20%20%20%20%20%20circle_55546a2094b54e8f8d3b6a4bd6a67c63.bindTooltip%28%0A%20%20%20%20%20%20%20%20%20%20%20%20%20%20%20%20%60%3Cdiv%3E%0A%20%20%20%20%20%20%20%20%20%20%20%20%20%20%20%20%20%20%20%20%20%3Cdiv%20style%3D%27margin%3A%200%3B%20background-color%3A%20black%3B%20color%3A%20white%3B%27%3E%3Ch4%20style%3D%27text-align%3Acenter%3Bfont-weight%3A%20bold%27%3EParaguay%3C/h4%3E%3Chr%20style%3D%27margin%3A10px%3Bcolor%3A%20white%3B%27%3E%3Cul%20style%3D%27color%3A%20white%3B%3Blist-style-type%3Acircle%3Balign-item%3Aleft%3Bpadding-left%3A20px%3Bpadding-right%3A20px%27%3E%3Cli%3EConfirmed%3A%20472673%3C/li%3E%3C/ul%3E%3C/div%3E%0A%20%20%20%20%20%20%20%20%20%20%20%20%20%20%20%20%20%3C/div%3E%60%2C%0A%20%20%20%20%20%20%20%20%20%20%20%20%20%20%20%20%7B%22sticky%22%3A%20true%7D%0A%20%20%20%20%20%20%20%20%20%20%20%20%29%3B%0A%20%20%20%20%20%20%20%20%0A%20%20%20%20%0A%20%20%20%20%20%20%20%20%20%20%20%20var%20circle_e125ffea99b942519ccae979ce84a721%20%3D%20L.circle%28%0A%20%20%20%20%20%20%20%20%20%20%20%20%20%20%20%20%5B-9.19%2C%20-75.0152%5D%2C%0A%20%20%20%20%20%20%20%20%20%20%20%20%20%20%20%20%7B%22bubblingMouseEvents%22%3A%20true%2C%20%22color%22%3A%20%22red%22%2C%20%22dashArray%22%3A%20null%2C%20%22dashOffset%22%3A%20null%2C%20%22fill%22%3A%20true%2C%20%22fillColor%22%3A%20%22indigo%22%2C%20%22fillOpacity%22%3A%200.2%2C%20%22fillRule%22%3A%20%22evenodd%22%2C%20%22lineCap%22%3A%20%22round%22%2C%20%22lineJoin%22%3A%20%22round%22%2C%20%22opacity%22%3A%201.0%2C%20%22radius%22%3A%20142000.0%2C%20%22stroke%22%3A%20true%2C%20%22weight%22%3A%203%7D%0A%20%20%20%20%20%20%20%20%20%20%20%20%29.addTo%28map_eb660f0cadf14412ab360cc7dee84180%29%3B%0A%20%20%20%20%20%20%20%20%0A%20%20%20%20%0A%20%20%20%20%20%20%20%20%20%20%20%20circle_e125ffea99b942519ccae979ce84a721.bindTooltip%28%0A%20%20%20%20%20%20%20%20%20%20%20%20%20%20%20%20%60%3Cdiv%3E%0A%20%20%20%20%20%20%20%20%20%20%20%20%20%20%20%20%20%20%20%20%20%3Cdiv%20style%3D%27margin%3A%200%3B%20background-color%3A%20black%3B%20color%3A%20white%3B%27%3E%3Ch4%20style%3D%27text-align%3Acenter%3Bfont-weight%3A%20bold%27%3EPeru%3C/h4%3E%3Chr%20style%3D%27margin%3A10px%3Bcolor%3A%20white%3B%27%3E%3Cul%20style%3D%27color%3A%20white%3B%3Blist-style-type%3Acircle%3Balign-item%3Aleft%3Bpadding-left%3A20px%3Bpadding-right%3A20px%27%3E%3Cli%3EConfirmed%3A%202358685%3C/li%3E%3C/ul%3E%3C/div%3E%0A%20%20%20%20%20%20%20%20%20%20%20%20%20%20%20%20%20%3C/div%3E%60%2C%0A%20%20%20%20%20%20%20%20%20%20%20%20%20%20%20%20%7B%22sticky%22%3A%20true%7D%0A%20%20%20%20%20%20%20%20%20%20%20%20%29%3B%0A%20%20%20%20%20%20%20%20%0A%20%20%20%20%0A%20%20%20%20%20%20%20%20%20%20%20%20var%20circle_60ec9f47d0184da48e4478100cba5553%20%3D%20L.circle%28%0A%20%20%20%20%20%20%20%20%20%20%20%20%20%20%20%20%5B12.879721%2C%20121.774017%5D%2C%0A%20%20%20%20%20%20%20%20%20%20%20%20%20%20%20%20%7B%22bubblingMouseEvents%22%3A%20true%2C%20%22color%22%3A%20%22red%22%2C%20%22dashArray%22%3A%20null%2C%20%22dashOffset%22%3A%20null%2C%20%22fill%22%3A%20true%2C%20%22fillColor%22%3A%20%22indigo%22%2C%20%22fillOpacity%22%3A%200.2%2C%20%22fillRule%22%3A%20%22evenodd%22%2C%20%22lineCap%22%3A%20%22round%22%2C%20%22lineJoin%22%3A%20%22round%22%2C%20%22opacity%22%3A%201.0%2C%20%22radius%22%3A%20142000.0%2C%20%22stroke%22%3A%20true%2C%20%22weight%22%3A%203%7D%0A%20%20%20%20%20%20%20%20%20%20%20%20%29.addTo%28map_eb660f0cadf14412ab360cc7dee84180%29%3B%0A%20%20%20%20%20%20%20%20%0A%20%20%20%20%0A%20%20%20%20%20%20%20%20%20%20%20%20circle_60ec9f47d0184da48e4478100cba5553.bindTooltip%28%0A%20%20%20%20%20%20%20%20%20%20%20%20%20%20%20%20%60%3Cdiv%3E%0A%20%20%20%20%20%20%20%20%20%20%20%20%20%20%20%20%20%20%20%20%20%3Cdiv%20style%3D%27margin%3A%200%3B%20background-color%3A%20black%3B%20color%3A%20white%3B%27%3E%3Ch4%20style%3D%27text-align%3Acenter%3Bfont-weight%3A%20bold%27%3EPhilippines%3C/h4%3E%3Chr%20style%3D%27margin%3A10px%3Bcolor%3A%20white%3B%27%3E%3Cul%20style%3D%27color%3A%20white%3B%3Blist-style-type%3Acircle%3Balign-item%3Aleft%3Bpadding-left%3A20px%3Bpadding-right%3A20px%27%3E%3Cli%3EConfirmed%3A%202965447%3C/li%3E%3C/ul%3E%3C/div%3E%0A%20%20%20%20%20%20%20%20%20%20%20%20%20%20%20%20%20%3C/div%3E%60%2C%0A%20%20%20%20%20%20%20%20%20%20%20%20%20%20%20%20%7B%22sticky%22%3A%20true%7D%0A%20%20%20%20%20%20%20%20%20%20%20%20%29%3B%0A%20%20%20%20%20%20%20%20%0A%20%20%20%20%0A%20%20%20%20%20%20%20%20%20%20%20%20var%20circle_d7879e44065543d9adb9cb0a64b0b37d%20%3D%20L.circle%28%0A%20%20%20%20%20%20%20%20%20%20%20%20%20%20%20%20%5B51.9194%2C%2019.1451%5D%2C%0A%20%20%20%20%20%20%20%20%20%20%20%20%20%20%20%20%7B%22bubblingMouseEvents%22%3A%20true%2C%20%22color%22%3A%20%22red%22%2C%20%22dashArray%22%3A%20null%2C%20%22dashOffset%22%3A%20null%2C%20%22fill%22%3A%20true%2C%20%22fillColor%22%3A%20%22indigo%22%2C%20%22fillOpacity%22%3A%200.2%2C%20%22fillRule%22%3A%20%22evenodd%22%2C%20%22lineCap%22%3A%20%22round%22%2C%20%22lineJoin%22%3A%20%22round%22%2C%20%22opacity%22%3A%201.0%2C%20%22radius%22%3A%20152000.0%2C%20%22stroke%22%3A%20true%2C%20%22weight%22%3A%203%7D%0A%20%20%20%20%20%20%20%20%20%20%20%20%29.addTo%28map_eb660f0cadf14412ab360cc7dee84180%29%3B%0A%20%20%20%20%20%20%20%20%0A%20%20%20%20%0A%20%20%20%20%20%20%20%20%20%20%20%20circle_d7879e44065543d9adb9cb0a64b0b37d.bindTooltip%28%0A%20%20%20%20%20%20%20%20%20%20%20%20%20%20%20%20%60%3Cdiv%3E%0A%20%20%20%20%20%20%20%20%20%20%20%20%20%20%20%20%20%20%20%20%20%3Cdiv%20style%3D%27margin%3A%200%3B%20background-color%3A%20black%3B%20color%3A%20white%3B%27%3E%3Ch4%20style%3D%27text-align%3Acenter%3Bfont-weight%3A%20bold%27%3EPoland%3C/h4%3E%3Chr%20style%3D%27margin%3A10px%3Bcolor%3A%20white%3B%27%3E%3Cul%20style%3D%27color%3A%20white%3B%3Blist-style-type%3Acircle%3Balign-item%3Aleft%3Bpadding-left%3A20px%3Bpadding-right%3A20px%27%3E%3Cli%3EConfirmed%3A%204213197%3C/li%3E%3C/ul%3E%3C/div%3E%0A%20%20%20%20%20%20%20%20%20%20%20%20%20%20%20%20%20%3C/div%3E%60%2C%0A%20%20%20%20%20%20%20%20%20%20%20%20%20%20%20%20%7B%22sticky%22%3A%20true%7D%0A%20%20%20%20%20%20%20%20%20%20%20%20%29%3B%0A%20%20%20%20%20%20%20%20%0A%20%20%20%20%0A%20%20%20%20%20%20%20%20%20%20%20%20var%20circle_98a26ab633bb437ebd8daa89636562f3%20%3D%20L.circle%28%0A%20%20%20%20%20%20%20%20%20%20%20%20%20%20%20%20%5B39.3999%2C%20-8.2245%5D%2C%0A%20%20%20%20%20%20%20%20%20%20%20%20%20%20%20%20%7B%22bubblingMouseEvents%22%3A%20true%2C%20%22color%22%3A%20%22red%22%2C%20%22dashArray%22%3A%20null%2C%20%22dashOffset%22%3A%20null%2C%20%22fill%22%3A%20true%2C%20%22fillColor%22%3A%20%22indigo%22%2C%20%22fillOpacity%22%3A%200.2%2C%20%22fillRule%22%3A%20%22evenodd%22%2C%20%22lineCap%22%3A%20%22round%22%2C%20%22lineJoin%22%3A%20%22round%22%2C%20%22opacity%22%3A%201.0%2C%20%22radius%22%3A%20142000.0%2C%20%22stroke%22%3A%20true%2C%20%22weight%22%3A%203%7D%0A%20%20%20%20%20%20%20%20%20%20%20%20%29.addTo%28map_eb660f0cadf14412ab360cc7dee84180%29%3B%0A%20%20%20%20%20%20%20%20%0A%20%20%20%20%0A%20%20%20%20%20%20%20%20%20%20%20%20circle_98a26ab633bb437ebd8daa89636562f3.bindTooltip%28%0A%20%20%20%20%20%20%20%20%20%20%20%20%20%20%20%20%60%3Cdiv%3E%0A%20%20%20%20%20%20%20%20%20%20%20%20%20%20%20%20%20%20%20%20%20%3Cdiv%20style%3D%27margin%3A%200%3B%20background-color%3A%20black%3B%20color%3A%20white%3B%27%3E%3Ch4%20style%3D%27text-align%3Acenter%3Bfont-weight%3A%20bold%27%3EPortugal%3C/h4%3E%3Chr%20style%3D%27margin%3A10px%3Bcolor%3A%20white%3B%27%3E%3Cul%20style%3D%27color%3A%20white%3B%3Blist-style-type%3Acircle%3Balign-item%3Aleft%3Bpadding-left%3A20px%3Bpadding-right%3A20px%27%3E%3Cli%3EConfirmed%3A%201499976%3C/li%3E%3C/ul%3E%3C/div%3E%0A%20%20%20%20%20%20%20%20%20%20%20%20%20%20%20%20%20%3C/div%3E%60%2C%0A%20%20%20%20%20%20%20%20%20%20%20%20%20%20%20%20%7B%22sticky%22%3A%20true%7D%0A%20%20%20%20%20%20%20%20%20%20%20%20%29%3B%0A%20%20%20%20%20%20%20%20%0A%20%20%20%20%0A%20%20%20%20%20%20%20%20%20%20%20%20var%20circle_174f4f034ac64978bd7f0235e33b101e%20%3D%20L.circle%28%0A%20%20%20%20%20%20%20%20%20%20%20%20%20%20%20%20%5B25.3548%2C%2051.1839%5D%2C%0A%20%20%20%20%20%20%20%20%20%20%20%20%20%20%20%20%7B%22bubblingMouseEvents%22%3A%20true%2C%20%22color%22%3A%20%22red%22%2C%20%22dashArray%22%3A%20null%2C%20%22dashOffset%22%3A%20null%2C%20%22fill%22%3A%20true%2C%20%22fillColor%22%3A%20%22indigo%22%2C%20%22fillOpacity%22%3A%200.2%2C%20%22fillRule%22%3A%20%22evenodd%22%2C%20%22lineCap%22%3A%20%22round%22%2C%20%22lineJoin%22%3A%20%22round%22%2C%20%22opacity%22%3A%201.0%2C%20%22radius%22%3A%20122000.0%2C%20%22stroke%22%3A%20true%2C%20%22weight%22%3A%203%7D%0A%20%20%20%20%20%20%20%20%20%20%20%20%29.addTo%28map_eb660f0cadf14412ab360cc7dee84180%29%3B%0A%20%20%20%20%20%20%20%20%0A%20%20%20%20%0A%20%20%20%20%20%20%20%20%20%20%20%20circle_174f4f034ac64978bd7f0235e33b101e.bindTooltip%28%0A%20%20%20%20%20%20%20%20%20%20%20%20%20%20%20%20%60%3Cdiv%3E%0A%20%20%20%20%20%20%20%20%20%20%20%20%20%20%20%20%20%20%20%20%20%3Cdiv%20style%3D%27margin%3A%200%3B%20background-color%3A%20black%3B%20color%3A%20white%3B%27%3E%3Ch4%20style%3D%27text-align%3Acenter%3Bfont-weight%3A%20bold%27%3EQatar%3C/h4%3E%3Chr%20style%3D%27margin%3A10px%3Bcolor%3A%20white%3B%27%3E%3Cul%20style%3D%27color%3A%20white%3B%3Blist-style-type%3Acircle%3Balign-item%3Aleft%3Bpadding-left%3A20px%3Bpadding-right%3A20px%27%3E%3Cli%3EConfirmed%3A%20270651%3C/li%3E%3C/ul%3E%3C/div%3E%0A%20%20%20%20%20%20%20%20%20%20%20%20%20%20%20%20%20%3C/div%3E%60%2C%0A%20%20%20%20%20%20%20%20%20%20%20%20%20%20%20%20%7B%22sticky%22%3A%20true%7D%0A%20%20%20%20%20%20%20%20%20%20%20%20%29%3B%0A%20%20%20%20%20%20%20%20%0A%20%20%20%20%0A%20%20%20%20%20%20%20%20%20%20%20%20var%20circle_4f606a74d7104c119bfb90847fd162e4%20%3D%20L.circle%28%0A%20%20%20%20%20%20%20%20%20%20%20%20%20%20%20%20%5B45.9432%2C%2024.9668%5D%2C%0A%20%20%20%20%20%20%20%20%20%20%20%20%20%20%20%20%7B%22bubblingMouseEvents%22%3A%20true%2C%20%22color%22%3A%20%22red%22%2C%20%22dashArray%22%3A%20null%2C%20%22dashOffset%22%3A%20null%2C%20%22fill%22%3A%20true%2C%20%22fillColor%22%3A%20%22indigo%22%2C%20%22fillOpacity%22%3A%200.2%2C%20%22fillRule%22%3A%20%22evenodd%22%2C%20%22lineCap%22%3A%20%22round%22%2C%20%22lineJoin%22%3A%20%22round%22%2C%20%22opacity%22%3A%201.0%2C%20%22radius%22%3A%20142000.0%2C%20%22stroke%22%3A%20true%2C%20%22weight%22%3A%203%7D%0A%20%20%20%20%20%20%20%20%20%20%20%20%29.addTo%28map_eb660f0cadf14412ab360cc7dee84180%29%3B%0A%20%20%20%20%20%20%20%20%0A%20%20%20%20%0A%20%20%20%20%20%20%20%20%20%20%20%20circle_4f606a74d7104c119bfb90847fd162e4.bindTooltip%28%0A%20%20%20%20%20%20%20%20%20%20%20%20%20%20%20%20%60%3Cdiv%3E%0A%20%20%20%20%20%20%20%20%20%20%20%20%20%20%20%20%20%20%20%20%20%3Cdiv%20style%3D%27margin%3A%200%3B%20background-color%3A%20black%3B%20color%3A%20white%3B%27%3E%3Ch4%20style%3D%27text-align%3Acenter%3Bfont-weight%3A%20bold%27%3ERomania%3C/h4%3E%3Chr%20style%3D%27margin%3A10px%3Bcolor%3A%20white%3B%27%3E%3Cul%20style%3D%27color%3A%20white%3B%3Blist-style-type%3Acircle%3Balign-item%3Aleft%3Bpadding-left%3A20px%3Bpadding-right%3A20px%27%3E%3Cli%3EConfirmed%3A%201844537%3C/li%3E%3C/ul%3E%3C/div%3E%0A%20%20%20%20%20%20%20%20%20%20%20%20%20%20%20%20%20%3C/div%3E%60%2C%0A%20%20%20%20%20%20%20%20%20%20%20%20%20%20%20%20%7B%22sticky%22%3A%20true%7D%0A%20%20%20%20%20%20%20%20%20%20%20%20%29%3B%0A%20%20%20%20%20%20%20%20%0A%20%20%20%20%0A%20%20%20%20%20%20%20%20%20%20%20%20var%20circle_3ecdbf4d72ad4350a6235ce126681ca9%20%3D%20L.circle%28%0A%20%20%20%20%20%20%20%20%20%20%20%20%20%20%20%20%5B61.52401%2C%20105.318756%5D%2C%0A%20%20%20%20%20%20%20%20%20%20%20%20%20%20%20%20%7B%22bubblingMouseEvents%22%3A%20true%2C%20%22color%22%3A%20%22red%22%2C%20%22dashArray%22%3A%20null%2C%20%22dashOffset%22%3A%20null%2C%20%22fill%22%3A%20true%2C%20%22fillColor%22%3A%20%22indigo%22%2C%20%22fillOpacity%22%3A%200.2%2C%20%22fillRule%22%3A%20%22evenodd%22%2C%20%22lineCap%22%3A%20%22round%22%2C%20%22lineJoin%22%3A%20%22round%22%2C%20%22opacity%22%3A%201.0%2C%20%22radius%22%3A%20162000.0%2C%20%22stroke%22%3A%20true%2C%20%22weight%22%3A%203%7D%0A%20%20%20%20%20%20%20%20%20%20%20%20%29.addTo%28map_eb660f0cadf14412ab360cc7dee84180%29%3B%0A%20%20%20%20%20%20%20%20%0A%20%20%20%20%0A%20%20%20%20%20%20%20%20%20%20%20%20circle_3ecdbf4d72ad4350a6235ce126681ca9.bindTooltip%28%0A%20%20%20%20%20%20%20%20%20%20%20%20%20%20%20%20%60%3Cdiv%3E%0A%20%20%20%20%20%20%20%20%20%20%20%20%20%20%20%20%20%20%20%20%20%3Cdiv%20style%3D%27margin%3A%200%3B%20background-color%3A%20black%3B%20color%3A%20white%3B%27%3E%3Ch4%20style%3D%27text-align%3Acenter%3Bfont-weight%3A%20bold%27%3ERussia%3C/h4%3E%3Chr%20style%3D%27margin%3A10px%3Bcolor%3A%20white%3B%27%3E%3Cul%20style%3D%27color%3A%20white%3B%3Blist-style-type%3Acircle%3Balign-item%3Aleft%3Bpadding-left%3A20px%3Bpadding-right%3A20px%27%3E%3Cli%3EConfirmed%3A%2010470006%3C/li%3E%3C/ul%3E%3C/div%3E%0A%20%20%20%20%20%20%20%20%20%20%20%20%20%20%20%20%20%3C/div%3E%60%2C%0A%20%20%20%20%20%20%20%20%20%20%20%20%20%20%20%20%7B%22sticky%22%3A%20true%7D%0A%20%20%20%20%20%20%20%20%20%20%20%20%29%3B%0A%20%20%20%20%20%20%20%20%0A%20%20%20%20%0A%20%20%20%20%20%20%20%20%20%20%20%20var%20circle_fcd5f4967480430cbbcaf5134b41b1d1%20%3D%20L.circle%28%0A%20%20%20%20%20%20%20%20%20%20%20%20%20%20%20%20%5B-1.9403%2C%2029.8739%5D%2C%0A%20%20%20%20%20%20%20%20%20%20%20%20%20%20%20%20%7B%22bubblingMouseEvents%22%3A%20true%2C%20%22color%22%3A%20%22red%22%2C%20%22dashArray%22%3A%20null%2C%20%22dashOffset%22%3A%20null%2C%20%22fill%22%3A%20true%2C%20%22fillColor%22%3A%20%22indigo%22%2C%20%22fillOpacity%22%3A%200.2%2C%20%22fillRule%22%3A%20%22evenodd%22%2C%20%22lineCap%22%3A%20%22round%22%2C%20%22lineJoin%22%3A%20%22round%22%2C%20%22opacity%22%3A%201.0%2C%20%22radius%22%3A%20112000.0%2C%20%22stroke%22%3A%20true%2C%20%22weight%22%3A%203%7D%0A%20%20%20%20%20%20%20%20%20%20%20%20%29.addTo%28map_eb660f0cadf14412ab360cc7dee84180%29%3B%0A%20%20%20%20%20%20%20%20%0A%20%20%20%20%0A%20%20%20%20%20%20%20%20%20%20%20%20circle_fcd5f4967480430cbbcaf5134b41b1d1.bindTooltip%28%0A%20%20%20%20%20%20%20%20%20%20%20%20%20%20%20%20%60%3Cdiv%3E%0A%20%20%20%20%20%20%20%20%20%20%20%20%20%20%20%20%20%20%20%20%20%3Cdiv%20style%3D%27margin%3A%200%3B%20background-color%3A%20black%3B%20color%3A%20white%3B%27%3E%3Ch4%20style%3D%27text-align%3Acenter%3Bfont-weight%3A%20bold%27%3ERwanda%3C/h4%3E%3Chr%20style%3D%27margin%3A10px%3Bcolor%3A%20white%3B%27%3E%3Cul%20style%3D%27color%3A%20white%3B%3Blist-style-type%3Acircle%3Balign-item%3Aleft%3Bpadding-left%3A20px%3Bpadding-right%3A20px%27%3E%3Cli%3EConfirmed%3A%20120984%3C/li%3E%3C/ul%3E%3C/div%3E%0A%20%20%20%20%20%20%20%20%20%20%20%20%20%20%20%20%20%3C/div%3E%60%2C%0A%20%20%20%20%20%20%20%20%20%20%20%20%20%20%20%20%7B%22sticky%22%3A%20true%7D%0A%20%20%20%20%20%20%20%20%20%20%20%20%29%3B%0A%20%20%20%20%20%20%20%20%0A%20%20%20%20%0A%20%20%20%20%20%20%20%20%20%20%20%20var%20circle_5bdd3d4353834f34832d31b90aef6c52%20%3D%20L.circle%28%0A%20%20%20%20%20%20%20%20%20%20%20%20%20%20%20%20%5B17.357822%2C%20-62.782998%5D%2C%0A%20%20%20%20%20%20%20%20%20%20%20%20%20%20%20%20%7B%22bubblingMouseEvents%22%3A%20true%2C%20%22color%22%3A%20%22red%22%2C%20%22dashArray%22%3A%20null%2C%20%22dashOffset%22%3A%20null%2C%20%22fill%22%3A%20true%2C%20%22fillColor%22%3A%20%22indigo%22%2C%20%22fillOpacity%22%3A%200.2%2C%20%22fillRule%22%3A%20%22evenodd%22%2C%20%22lineCap%22%3A%20%22round%22%2C%20%22lineJoin%22%3A%20%22round%22%2C%20%22opacity%22%3A%201.0%2C%20%22radius%22%3A%2082000.0%2C%20%22stroke%22%3A%20true%2C%20%22weight%22%3A%203%7D%0A%20%20%20%20%20%20%20%20%20%20%20%20%29.addTo%28map_eb660f0cadf14412ab360cc7dee84180%29%3B%0A%20%20%20%20%20%20%20%20%0A%20%20%20%20%0A%20%20%20%20%20%20%20%20%20%20%20%20circle_5bdd3d4353834f34832d31b90aef6c52.bindTooltip%28%0A%20%20%20%20%20%20%20%20%20%20%20%20%20%20%20%20%60%3Cdiv%3E%0A%20%20%20%20%20%20%20%20%20%20%20%20%20%20%20%20%20%20%20%20%20%3Cdiv%20style%3D%27margin%3A%200%3B%20background-color%3A%20black%3B%20color%3A%20white%3B%27%3E%3Ch4%20style%3D%27text-align%3Acenter%3Bfont-weight%3A%20bold%27%3ESaint%20Kitts%20and%20Nevis%3C/h4%3E%3Chr%20style%3D%27margin%3A10px%3Bcolor%3A%20white%3B%27%3E%3Cul%20style%3D%27color%3A%20white%3B%3Blist-style-type%3Acircle%3Balign-item%3Aleft%3Bpadding-left%3A20px%3Bpadding-right%3A20px%27%3E%3Cli%3EConfirmed%3A%204145%3C/li%3E%3C/ul%3E%3C/div%3E%0A%20%20%20%20%20%20%20%20%20%20%20%20%20%20%20%20%20%3C/div%3E%60%2C%0A%20%20%20%20%20%20%20%20%20%20%20%20%20%20%20%20%7B%22sticky%22%3A%20true%7D%0A%20%20%20%20%20%20%20%20%20%20%20%20%29%3B%0A%20%20%20%20%20%20%20%20%0A%20%20%20%20%0A%20%20%20%20%20%20%20%20%20%20%20%20var%20circle_7ee9370fd6204541ba5125fc5e0e8bc8%20%3D%20L.circle%28%0A%20%20%20%20%20%20%20%20%20%20%20%20%20%20%20%20%5B13.9094%2C%20-60.9789%5D%2C%0A%20%20%20%20%20%20%20%20%20%20%20%20%20%20%20%20%7B%22bubblingMouseEvents%22%3A%20true%2C%20%22color%22%3A%20%22red%22%2C%20%22dashArray%22%3A%20null%2C%20%22dashOffset%22%3A%20null%2C%20%22fill%22%3A%20true%2C%20%22fillColor%22%3A%20%22indigo%22%2C%20%22fillOpacity%22%3A%200.2%2C%20%22fillRule%22%3A%20%22evenodd%22%2C%20%22lineCap%22%3A%20%22round%22%2C%20%22lineJoin%22%3A%20%22round%22%2C%20%22opacity%22%3A%201.0%2C%20%22radius%22%3A%2092000.0%2C%20%22stroke%22%3A%20true%2C%20%22weight%22%3A%203%7D%0A%20%20%20%20%20%20%20%20%20%20%20%20%29.addTo%28map_eb660f0cadf14412ab360cc7dee84180%29%3B%0A%20%20%20%20%20%20%20%20%0A%20%20%20%20%0A%20%20%20%20%20%20%20%20%20%20%20%20circle_7ee9370fd6204541ba5125fc5e0e8bc8.bindTooltip%28%0A%20%20%20%20%20%20%20%20%20%20%20%20%20%20%20%20%60%3Cdiv%3E%0A%20%20%20%20%20%20%20%20%20%20%20%20%20%20%20%20%20%20%20%20%20%3Cdiv%20style%3D%27margin%3A%200%3B%20background-color%3A%20black%3B%20color%3A%20white%3B%27%3E%3Ch4%20style%3D%27text-align%3Acenter%3Bfont-weight%3A%20bold%27%3ESaint%20Lucia%3C/h4%3E%3Chr%20style%3D%27margin%3A10px%3Bcolor%3A%20white%3B%27%3E%3Cul%20style%3D%27color%3A%20white%3B%3Blist-style-type%3Acircle%3Balign-item%3Aleft%3Bpadding-left%3A20px%3Bpadding-right%3A20px%27%3E%3Cli%3EConfirmed%3A%2014874%3C/li%3E%3C/ul%3E%3C/div%3E%0A%20%20%20%20%20%20%20%20%20%20%20%20%20%20%20%20%20%3C/div%3E%60%2C%0A%20%20%20%20%20%20%20%20%20%20%20%20%20%20%20%20%7B%22sticky%22%3A%20true%7D%0A%20%20%20%20%20%20%20%20%20%20%20%20%29%3B%0A%20%20%20%20%20%20%20%20%0A%20%20%20%20%0A%20%20%20%20%20%20%20%20%20%20%20%20var%20circle_cde9e9ee05fb466a8389815f519dd10d%20%3D%20L.circle%28%0A%20%20%20%20%20%20%20%20%20%20%20%20%20%20%20%20%5B12.9843%2C%20-61.2872%5D%2C%0A%20%20%20%20%20%20%20%20%20%20%20%20%20%20%20%20%7B%22bubblingMouseEvents%22%3A%20true%2C%20%22color%22%3A%20%22red%22%2C%20%22dashArray%22%3A%20null%2C%20%22dashOffset%22%3A%20null%2C%20%22fill%22%3A%20true%2C%20%22fillColor%22%3A%20%22indigo%22%2C%20%22fillOpacity%22%3A%200.2%2C%20%22fillRule%22%3A%20%22evenodd%22%2C%20%22lineCap%22%3A%20%22round%22%2C%20%22lineJoin%22%3A%20%22round%22%2C%20%22opacity%22%3A%201.0%2C%20%22radius%22%3A%2082000.0%2C%20%22stroke%22%3A%20true%2C%20%22weight%22%3A%203%7D%0A%20%20%20%20%20%20%20%20%20%20%20%20%29.addTo%28map_eb660f0cadf14412ab360cc7dee84180%29%3B%0A%20%20%20%20%20%20%20%20%0A%20%20%20%20%0A%20%20%20%20%20%20%20%20%20%20%20%20circle_cde9e9ee05fb466a8389815f519dd10d.bindTooltip%28%0A%20%20%20%20%20%20%20%20%20%20%20%20%20%20%20%20%60%3Cdiv%3E%0A%20%20%20%20%20%20%20%20%20%20%20%20%20%20%20%20%20%20%20%20%20%3Cdiv%20style%3D%27margin%3A%200%3B%20background-color%3A%20black%3B%20color%3A%20white%3B%27%3E%3Ch4%20style%3D%27text-align%3Acenter%3Bfont-weight%3A%20bold%27%3ESaint%20Vincent%20and%20the%20Grenadines%3C/h4%3E%3Chr%20style%3D%27margin%3A10px%3Bcolor%3A%20white%3B%27%3E%3Cul%20style%3D%27color%3A%20white%3B%3Blist-style-type%3Acircle%3Balign-item%3Aleft%3Bpadding-left%3A20px%3Bpadding-right%3A20px%27%3E%3Cli%3EConfirmed%3A%206247%3C/li%3E%3C/ul%3E%3C/div%3E%0A%20%20%20%20%20%20%20%20%20%20%20%20%20%20%20%20%20%3C/div%3E%60%2C%0A%20%20%20%20%20%20%20%20%20%20%20%20%20%20%20%20%7B%22sticky%22%3A%20true%7D%0A%20%20%20%20%20%20%20%20%20%20%20%20%29%3B%0A%20%20%20%20%20%20%20%20%0A%20%20%20%20%0A%20%20%20%20%20%20%20%20%20%20%20%20var%20circle_110fe35a2d2d46eb834448e944df58c4%20%3D%20L.circle%28%0A%20%20%20%20%20%20%20%20%20%20%20%20%20%20%20%20%5B-13.759%2C%20-172.1046%5D%2C%0A%20%20%20%20%20%20%20%20%20%20%20%20%20%20%20%20%7B%22bubblingMouseEvents%22%3A%20true%2C%20%22color%22%3A%20%22red%22%2C%20%22dashArray%22%3A%20null%2C%20%22dashOffset%22%3A%20null%2C%20%22fill%22%3A%20true%2C%20%22fillColor%22%3A%20%22indigo%22%2C%20%22fillOpacity%22%3A%200.2%2C%20%22fillRule%22%3A%20%22evenodd%22%2C%20%22lineCap%22%3A%20%22round%22%2C%20%22lineJoin%22%3A%20%22round%22%2C%20%22opacity%22%3A%201.0%2C%20%22radius%22%3A%2012000.0%2C%20%22stroke%22%3A%20true%2C%20%22weight%22%3A%203%7D%0A%20%20%20%20%20%20%20%20%20%20%20%20%29.addTo%28map_eb660f0cadf14412ab360cc7dee84180%29%3B%0A%20%20%20%20%20%20%20%20%0A%20%20%20%20%0A%20%20%20%20%20%20%20%20%20%20%20%20circle_110fe35a2d2d46eb834448e944df58c4.bindTooltip%28%0A%20%20%20%20%20%20%20%20%20%20%20%20%20%20%20%20%60%3Cdiv%3E%0A%20%20%20%20%20%20%20%20%20%20%20%20%20%20%20%20%20%20%20%20%20%3Cdiv%20style%3D%27margin%3A%200%3B%20background-color%3A%20black%3B%20color%3A%20white%3B%27%3E%3Ch4%20style%3D%27text-align%3Acenter%3Bfont-weight%3A%20bold%27%3ESamoa%3C/h4%3E%3Chr%20style%3D%27margin%3A10px%3Bcolor%3A%20white%3B%27%3E%3Cul%20style%3D%27color%3A%20white%3B%3Blist-style-type%3Acircle%3Balign-item%3Aleft%3Bpadding-left%3A20px%3Bpadding-right%3A20px%27%3E%3Cli%3EConfirmed%3A%203%3C/li%3E%3C/ul%3E%3C/div%3E%0A%20%20%20%20%20%20%20%20%20%20%20%20%20%20%20%20%20%3C/div%3E%60%2C%0A%20%20%20%20%20%20%20%20%20%20%20%20%20%20%20%20%7B%22sticky%22%3A%20true%7D%0A%20%20%20%20%20%20%20%20%20%20%20%20%29%3B%0A%20%20%20%20%20%20%20%20%0A%20%20%20%20%0A%20%20%20%20%20%20%20%20%20%20%20%20var%20circle_850f865f798e454bbf50c341a15bd2c0%20%3D%20L.circle%28%0A%20%20%20%20%20%20%20%20%20%20%20%20%20%20%20%20%5B43.9424%2C%2012.4578%5D%2C%0A%20%20%20%20%20%20%20%20%20%20%20%20%20%20%20%20%7B%22bubblingMouseEvents%22%3A%20true%2C%20%22color%22%3A%20%22red%22%2C%20%22dashArray%22%3A%20null%2C%20%22dashOffset%22%3A%20null%2C%20%22fill%22%3A%20true%2C%20%22fillColor%22%3A%20%22indigo%22%2C%20%22fillOpacity%22%3A%200.2%2C%20%22fillRule%22%3A%20%22evenodd%22%2C%20%22lineCap%22%3A%20%22round%22%2C%20%22lineJoin%22%3A%20%22round%22%2C%20%22opacity%22%3A%201.0%2C%20%22radius%22%3A%2092000.0%2C%20%22stroke%22%3A%20true%2C%20%22weight%22%3A%203%7D%0A%20%20%20%20%20%20%20%20%20%20%20%20%29.addTo%28map_eb660f0cadf14412ab360cc7dee84180%29%3B%0A%20%20%20%20%20%20%20%20%0A%20%20%20%20%0A%20%20%20%20%20%20%20%20%20%20%20%20circle_850f865f798e454bbf50c341a15bd2c0.bindTooltip%28%0A%20%20%20%20%20%20%20%20%20%20%20%20%20%20%20%20%60%3Cdiv%3E%0A%20%20%20%20%20%20%20%20%20%20%20%20%20%20%20%20%20%20%20%20%20%3Cdiv%20style%3D%27margin%3A%200%3B%20background-color%3A%20black%3B%20color%3A%20white%3B%27%3E%3Ch4%20style%3D%27text-align%3Acenter%3Bfont-weight%3A%20bold%27%3ESan%20Marino%3C/h4%3E%3Chr%20style%3D%27margin%3A10px%3Bcolor%3A%20white%3B%27%3E%3Cul%20style%3D%27color%3A%20white%3B%3Blist-style-type%3Acircle%3Balign-item%3Aleft%3Bpadding-left%3A20px%3Bpadding-right%3A20px%27%3E%3Cli%3EConfirmed%3A%209095%3C/li%3E%3C/ul%3E%3C/div%3E%0A%20%20%20%20%20%20%20%20%20%20%20%20%20%20%20%20%20%3C/div%3E%60%2C%0A%20%20%20%20%20%20%20%20%20%20%20%20%20%20%20%20%7B%22sticky%22%3A%20true%7D%0A%20%20%20%20%20%20%20%20%20%20%20%20%29%3B%0A%20%20%20%20%20%20%20%20%0A%20%20%20%20%0A%20%20%20%20%20%20%20%20%20%20%20%20var%20circle_2085f67b6ccc4a239c6e9bbb874f7260%20%3D%20L.circle%28%0A%20%20%20%20%20%20%20%20%20%20%20%20%20%20%20%20%5B0.1864%2C%206.6131%5D%2C%0A%20%20%20%20%20%20%20%20%20%20%20%20%20%20%20%20%7B%22bubblingMouseEvents%22%3A%20true%2C%20%22color%22%3A%20%22red%22%2C%20%22dashArray%22%3A%20null%2C%20%22dashOffset%22%3A%20null%2C%20%22fill%22%3A%20true%2C%20%22fillColor%22%3A%20%22indigo%22%2C%20%22fillOpacity%22%3A%200.2%2C%20%22fillRule%22%3A%20%22evenodd%22%2C%20%22lineCap%22%3A%20%22round%22%2C%20%22lineJoin%22%3A%20%22round%22%2C%20%22opacity%22%3A%201.0%2C%20%22radius%22%3A%2082000.0%2C%20%22stroke%22%3A%20true%2C%20%22weight%22%3A%203%7D%0A%20%20%20%20%20%20%20%20%20%20%20%20%29.addTo%28map_eb660f0cadf14412ab360cc7dee84180%29%3B%0A%20%20%20%20%20%20%20%20%0A%20%20%20%20%0A%20%20%20%20%20%20%20%20%20%20%20%20circle_2085f67b6ccc4a239c6e9bbb874f7260.bindTooltip%28%0A%20%20%20%20%20%20%20%20%20%20%20%20%20%20%20%20%60%3Cdiv%3E%0A%20%20%20%20%20%20%20%20%20%20%20%20%20%20%20%20%20%20%20%20%20%3Cdiv%20style%3D%27margin%3A%200%3B%20background-color%3A%20black%3B%20color%3A%20white%3B%27%3E%3Ch4%20style%3D%27text-align%3Acenter%3Bfont-weight%3A%20bold%27%3ESao%20Tome%20and%20Principe%3C/h4%3E%3Chr%20style%3D%27margin%3A10px%3Bcolor%3A%20white%3B%27%3E%3Cul%20style%3D%27color%3A%20white%3B%3Blist-style-type%3Acircle%3Balign-item%3Aleft%3Bpadding-left%3A20px%3Bpadding-right%3A20px%27%3E%3Cli%3EConfirmed%3A%204892%3C/li%3E%3C/ul%3E%3C/div%3E%0A%20%20%20%20%20%20%20%20%20%20%20%20%20%20%20%20%20%3C/div%3E%60%2C%0A%20%20%20%20%20%20%20%20%20%20%20%20%20%20%20%20%7B%22sticky%22%3A%20true%7D%0A%20%20%20%20%20%20%20%20%20%20%20%20%29%3B%0A%20%20%20%20%20%20%20%20%0A%20%20%20%20%0A%20%20%20%20%20%20%20%20%20%20%20%20var%20circle_ca766da800654f54a4b55bc9ccaeb8bf%20%3D%20L.circle%28%0A%20%20%20%20%20%20%20%20%20%20%20%20%20%20%20%20%5B23.885942%2C%2045.079162%5D%2C%0A%20%20%20%20%20%20%20%20%20%20%20%20%20%20%20%20%7B%22bubblingMouseEvents%22%3A%20true%2C%20%22color%22%3A%20%22red%22%2C%20%22dashArray%22%3A%20null%2C%20%22dashOffset%22%3A%20null%2C%20%22fill%22%3A%20true%2C%20%22fillColor%22%3A%20%22indigo%22%2C%20%22fillOpacity%22%3A%200.2%2C%20%22fillRule%22%3A%20%22evenodd%22%2C%20%22lineCap%22%3A%20%22round%22%2C%20%22lineJoin%22%3A%20%22round%22%2C%20%22opacity%22%3A%201.0%2C%20%22radius%22%3A%20132000.0%2C%20%22stroke%22%3A%20true%2C%20%22weight%22%3A%203%7D%0A%20%20%20%20%20%20%20%20%20%20%20%20%29.addTo%28map_eb660f0cadf14412ab360cc7dee84180%29%3B%0A%20%20%20%20%20%20%20%20%0A%20%20%20%20%0A%20%20%20%20%20%20%20%20%20%20%20%20circle_ca766da800654f54a4b55bc9ccaeb8bf.bindTooltip%28%0A%20%20%20%20%20%20%20%20%20%20%20%20%20%20%20%20%60%3Cdiv%3E%0A%20%20%20%20%20%20%20%20%20%20%20%20%20%20%20%20%20%20%20%20%20%3Cdiv%20style%3D%27margin%3A%200%3B%20background-color%3A%20black%3B%20color%3A%20white%3B%27%3E%3Ch4%20style%3D%27text-align%3Acenter%3Bfont-weight%3A%20bold%27%3ESaudi%20Arabia%3C/h4%3E%3Chr%20style%3D%27margin%3A10px%3Bcolor%3A%20white%3B%27%3E%3Cul%20style%3D%27color%3A%20white%3B%3Blist-style-type%3Acircle%3Balign-item%3Aleft%3Bpadding-left%3A20px%3Bpadding-right%3A20px%27%3E%3Cli%3EConfirmed%3A%20578753%3C/li%3E%3C/ul%3E%3C/div%3E%0A%20%20%20%20%20%20%20%20%20%20%20%20%20%20%20%20%20%3C/div%3E%60%2C%0A%20%20%20%20%20%20%20%20%20%20%20%20%20%20%20%20%7B%22sticky%22%3A%20true%7D%0A%20%20%20%20%20%20%20%20%20%20%20%20%29%3B%0A%20%20%20%20%20%20%20%20%0A%20%20%20%20%0A%20%20%20%20%20%20%20%20%20%20%20%20var%20circle_7154f017f4664a0fbff9a170b87847be%20%3D%20L.circle%28%0A%20%20%20%20%20%20%20%20%20%20%20%20%20%20%20%20%5B14.4974%2C%20-14.4524%5D%2C%0A%20%20%20%20%20%20%20%20%20%20%20%20%20%20%20%20%7B%22bubblingMouseEvents%22%3A%20true%2C%20%22color%22%3A%20%22red%22%2C%20%22dashArray%22%3A%20null%2C%20%22dashOffset%22%3A%20null%2C%20%22fill%22%3A%20true%2C%20%22fillColor%22%3A%20%22indigo%22%2C%20%22fillOpacity%22%3A%200.2%2C%20%22fillRule%22%3A%20%22evenodd%22%2C%20%22lineCap%22%3A%20%22round%22%2C%20%22lineJoin%22%3A%20%22round%22%2C%20%22opacity%22%3A%201.0%2C%20%22radius%22%3A%20112000.0%2C%20%22stroke%22%3A%20true%2C%20%22weight%22%3A%203%7D%0A%20%20%20%20%20%20%20%20%20%20%20%20%29.addTo%28map_eb660f0cadf14412ab360cc7dee84180%29%3B%0A%20%20%20%20%20%20%20%20%0A%20%20%20%20%0A%20%20%20%20%20%20%20%20%20%20%20%20circle_7154f017f4664a0fbff9a170b87847be.bindTooltip%28%0A%20%20%20%20%20%20%20%20%20%20%20%20%20%20%20%20%60%3Cdiv%3E%0A%20%20%20%20%20%20%20%20%20%20%20%20%20%20%20%20%20%20%20%20%20%3Cdiv%20style%3D%27margin%3A%200%3B%20background-color%3A%20black%3B%20color%3A%20white%3B%27%3E%3Ch4%20style%3D%27text-align%3Acenter%3Bfont-weight%3A%20bold%27%3ESenegal%3C/h4%3E%3Chr%20style%3D%27margin%3A10px%3Bcolor%3A%20white%3B%27%3E%3Cul%20style%3D%27color%3A%20white%3B%3Blist-style-type%3Acircle%3Balign-item%3Aleft%3Bpadding-left%3A20px%3Bpadding-right%3A20px%27%3E%3Cli%3EConfirmed%3A%2079290%3C/li%3E%3C/ul%3E%3C/div%3E%0A%20%20%20%20%20%20%20%20%20%20%20%20%20%20%20%20%20%3C/div%3E%60%2C%0A%20%20%20%20%20%20%20%20%20%20%20%20%20%20%20%20%7B%22sticky%22%3A%20true%7D%0A%20%20%20%20%20%20%20%20%20%20%20%20%29%3B%0A%20%20%20%20%20%20%20%20%0A%20%20%20%20%0A%20%20%20%20%20%20%20%20%20%20%20%20var%20circle_cbdcc671d3814ee49d282a73c0b437ba%20%3D%20L.circle%28%0A%20%20%20%20%20%20%20%20%20%20%20%20%20%20%20%20%5B44.0165%2C%2021.0059%5D%2C%0A%20%20%20%20%20%20%20%20%20%20%20%20%20%20%20%20%7B%22bubblingMouseEvents%22%3A%20true%2C%20%22color%22%3A%20%22red%22%2C%20%22dashArray%22%3A%20null%2C%20%22dashOffset%22%3A%20null%2C%20%22fill%22%3A%20true%2C%20%22fillColor%22%3A%20%22indigo%22%2C%20%22fillOpacity%22%3A%200.2%2C%20%22fillRule%22%3A%20%22evenodd%22%2C%20%22lineCap%22%3A%20%22round%22%2C%20%22lineJoin%22%3A%20%22round%22%2C%20%22opacity%22%3A%201.0%2C%20%22radius%22%3A%20142000.0%2C%20%22stroke%22%3A%20true%2C%20%22weight%22%3A%203%7D%0A%20%20%20%20%20%20%20%20%20%20%20%20%29.addTo%28map_eb660f0cadf14412ab360cc7dee84180%29%3B%0A%20%20%20%20%20%20%20%20%0A%20%20%20%20%0A%20%20%20%20%20%20%20%20%20%20%20%20circle_cbdcc671d3814ee49d282a73c0b437ba.bindTooltip%28%0A%20%20%20%20%20%20%20%20%20%20%20%20%20%20%20%20%60%3Cdiv%3E%0A%20%20%20%20%20%20%20%20%20%20%20%20%20%20%20%20%20%20%20%20%20%3Cdiv%20style%3D%27margin%3A%200%3B%20background-color%3A%20black%3B%20color%3A%20white%3B%27%3E%3Ch4%20style%3D%27text-align%3Acenter%3Bfont-weight%3A%20bold%27%3ESerbia%3C/h4%3E%3Chr%20style%3D%27margin%3A10px%3Bcolor%3A%20white%3B%27%3E%3Cul%20style%3D%27color%3A%20white%3B%3Blist-style-type%3Acircle%3Balign-item%3Aleft%3Bpadding-left%3A20px%3Bpadding-right%3A20px%27%3E%3Cli%3EConfirmed%3A%201350595%3C/li%3E%3C/ul%3E%3C/div%3E%0A%20%20%20%20%20%20%20%20%20%20%20%20%20%20%20%20%20%3C/div%3E%60%2C%0A%20%20%20%20%20%20%20%20%20%20%20%20%20%20%20%20%7B%22sticky%22%3A%20true%7D%0A%20%20%20%20%20%20%20%20%20%20%20%20%29%3B%0A%20%20%20%20%20%20%20%20%0A%20%20%20%20%0A%20%20%20%20%20%20%20%20%20%20%20%20var%20circle_01322fc6dbb14d06b2d188e9c0b1beca%20%3D%20L.circle%28%0A%20%20%20%20%20%20%20%20%20%20%20%20%20%20%20%20%5B-4.6796%2C%2055.492%5D%2C%0A%20%20%20%20%20%20%20%20%20%20%20%20%20%20%20%20%7B%22bubblingMouseEvents%22%3A%20true%2C%20%22color%22%3A%20%22red%22%2C%20%22dashArray%22%3A%20null%2C%20%22dashOffset%22%3A%20null%2C%20%22fill%22%3A%20true%2C%20%22fillColor%22%3A%20%22indigo%22%2C%20%22fillOpacity%22%3A%200.2%2C%20%22fillRule%22%3A%20%22evenodd%22%2C%20%22lineCap%22%3A%20%22round%22%2C%20%22lineJoin%22%3A%20%22round%22%2C%20%22opacity%22%3A%201.0%2C%20%22radius%22%3A%20102000.0%2C%20%22stroke%22%3A%20true%2C%20%22weight%22%3A%203%7D%0A%20%20%20%20%20%20%20%20%20%20%20%20%29.addTo%28map_eb660f0cadf14412ab360cc7dee84180%29%3B%0A%20%20%20%20%20%20%20%20%0A%20%20%20%20%0A%20%20%20%20%20%20%20%20%20%20%20%20circle_01322fc6dbb14d06b2d188e9c0b1beca.bindTooltip%28%0A%20%20%20%20%20%20%20%20%20%20%20%20%20%20%20%20%60%3Cdiv%3E%0A%20%20%20%20%20%20%20%20%20%20%20%20%20%20%20%20%20%20%20%20%20%3Cdiv%20style%3D%27margin%3A%200%3B%20background-color%3A%20black%3B%20color%3A%20white%3B%27%3E%3Ch4%20style%3D%27text-align%3Acenter%3Bfont-weight%3A%20bold%27%3ESeychelles%3C/h4%3E%3Chr%20style%3D%27margin%3A10px%3Bcolor%3A%20white%3B%27%3E%3Cul%20style%3D%27color%3A%20white%3B%3Blist-style-type%3Acircle%3Balign-item%3Aleft%3Bpadding-left%3A20px%3Bpadding-right%3A20px%27%3E%3Cli%3EConfirmed%3A%2026968%3C/li%3E%3C/ul%3E%3C/div%3E%0A%20%20%20%20%20%20%20%20%20%20%20%20%20%20%20%20%20%3C/div%3E%60%2C%0A%20%20%20%20%20%20%20%20%20%20%20%20%20%20%20%20%7B%22sticky%22%3A%20true%7D%0A%20%20%20%20%20%20%20%20%20%20%20%20%29%3B%0A%20%20%20%20%20%20%20%20%0A%20%20%20%20%0A%20%20%20%20%20%20%20%20%20%20%20%20var%20circle_6a02c5d35e0d45a2b11b052bed503302%20%3D%20L.circle%28%0A%20%20%20%20%20%20%20%20%20%20%20%20%20%20%20%20%5B8.460555%2C%20-11.779889%5D%2C%0A%20%20%20%20%20%20%20%20%20%20%20%20%20%20%20%20%7B%22bubblingMouseEvents%22%3A%20true%2C%20%22color%22%3A%20%22red%22%2C%20%22dashArray%22%3A%20null%2C%20%22dashOffset%22%3A%20null%2C%20%22fill%22%3A%20true%2C%20%22fillColor%22%3A%20%22indigo%22%2C%20%22fillOpacity%22%3A%200.2%2C%20%22fillRule%22%3A%20%22evenodd%22%2C%20%22lineCap%22%3A%20%22round%22%2C%20%22lineJoin%22%3A%20%22round%22%2C%20%22opacity%22%3A%201.0%2C%20%22radius%22%3A%2082000.0%2C%20%22stroke%22%3A%20true%2C%20%22weight%22%3A%203%7D%0A%20%20%20%20%20%20%20%20%20%20%20%20%29.addTo%28map_eb660f0cadf14412ab360cc7dee84180%29%3B%0A%20%20%20%20%20%20%20%20%0A%20%20%20%20%0A%20%20%20%20%20%20%20%20%20%20%20%20circle_6a02c5d35e0d45a2b11b052bed503302.bindTooltip%28%0A%20%20%20%20%20%20%20%20%20%20%20%20%20%20%20%20%60%3Cdiv%3E%0A%20%20%20%20%20%20%20%20%20%20%20%20%20%20%20%20%20%20%20%20%20%3Cdiv%20style%3D%27margin%3A%200%3B%20background-color%3A%20black%3B%20color%3A%20white%3B%27%3E%3Ch4%20style%3D%27text-align%3Acenter%3Bfont-weight%3A%20bold%27%3ESierra%20Leone%3C/h4%3E%3Chr%20style%3D%27margin%3A10px%3Bcolor%3A%20white%3B%27%3E%3Cul%20style%3D%27color%3A%20white%3B%3Blist-style-type%3Acircle%3Balign-item%3Aleft%3Bpadding-left%3A20px%3Bpadding-right%3A20px%27%3E%3Cli%3EConfirmed%3A%207448%3C/li%3E%3C/ul%3E%3C/div%3E%0A%20%20%20%20%20%20%20%20%20%20%20%20%20%20%20%20%20%3C/div%3E%60%2C%0A%20%20%20%20%20%20%20%20%20%20%20%20%20%20%20%20%7B%22sticky%22%3A%20true%7D%0A%20%20%20%20%20%20%20%20%20%20%20%20%29%3B%0A%20%20%20%20%20%20%20%20%0A%20%20%20%20%0A%20%20%20%20%20%20%20%20%20%20%20%20var%20circle_ebf4eb090884421cb6e75c6899cb6e36%20%3D%20L.circle%28%0A%20%20%20%20%20%20%20%20%20%20%20%20%20%20%20%20%5B1.2833%2C%20103.8333%5D%2C%0A%20%20%20%20%20%20%20%20%20%20%20%20%20%20%20%20%7B%22bubblingMouseEvents%22%3A%20true%2C%20%22color%22%3A%20%22red%22%2C%20%22dashArray%22%3A%20null%2C%20%22dashOffset%22%3A%20null%2C%20%22fill%22%3A%20true%2C%20%22fillColor%22%3A%20%22indigo%22%2C%20%22fillOpacity%22%3A%200.2%2C%20%22fillRule%22%3A%20%22evenodd%22%2C%20%22lineCap%22%3A%20%22round%22%2C%20%22lineJoin%22%3A%20%22round%22%2C%20%22opacity%22%3A%201.0%2C%20%22radius%22%3A%20122000.0%2C%20%22stroke%22%3A%20true%2C%20%22weight%22%3A%203%7D%0A%20%20%20%20%20%20%20%20%20%20%20%20%29.addTo%28map_eb660f0cadf14412ab360cc7dee84180%29%3B%0A%20%20%20%20%20%20%20%20%0A%20%20%20%20%0A%20%20%20%20%20%20%20%20%20%20%20%20circle_ebf4eb090884421cb6e75c6899cb6e36.bindTooltip%28%0A%20%20%20%20%20%20%20%20%20%20%20%20%20%20%20%20%60%3Cdiv%3E%0A%20%20%20%20%20%20%20%20%20%20%20%20%20%20%20%20%20%20%20%20%20%3Cdiv%20style%3D%27margin%3A%200%3B%20background-color%3A%20black%3B%20color%3A%20white%3B%27%3E%3Ch4%20style%3D%27text-align%3Acenter%3Bfont-weight%3A%20bold%27%3ESingapore%3C/h4%3E%3Chr%20style%3D%27margin%3A10px%3Bcolor%3A%20white%3B%27%3E%3Cul%20style%3D%27color%3A%20white%3B%3Blist-style-type%3Acircle%3Balign-item%3Aleft%3Bpadding-left%3A20px%3Bpadding-right%3A20px%27%3E%3Cli%3EConfirmed%3A%20285647%3C/li%3E%3C/ul%3E%3C/div%3E%0A%20%20%20%20%20%20%20%20%20%20%20%20%20%20%20%20%20%3C/div%3E%60%2C%0A%20%20%20%20%20%20%20%20%20%20%20%20%20%20%20%20%7B%22sticky%22%3A%20true%7D%0A%20%20%20%20%20%20%20%20%20%20%20%20%29%3B%0A%20%20%20%20%20%20%20%20%0A%20%20%20%20%0A%20%20%20%20%20%20%20%20%20%20%20%20var%20circle_dda089a299a545148d4bdf69a9a0deac%20%3D%20L.circle%28%0A%20%20%20%20%20%20%20%20%20%20%20%20%20%20%20%20%5B48.669%2C%2019.699%5D%2C%0A%20%20%20%20%20%20%20%20%20%20%20%20%20%20%20%20%7B%22bubblingMouseEvents%22%3A%20true%2C%20%22color%22%3A%20%22red%22%2C%20%22dashArray%22%3A%20null%2C%20%22dashOffset%22%3A%20null%2C%20%22fill%22%3A%20true%2C%20%22fillColor%22%3A%20%22indigo%22%2C%20%22fillOpacity%22%3A%200.2%2C%20%22fillRule%22%3A%20%22evenodd%22%2C%20%22lineCap%22%3A%20%22round%22%2C%20%22lineJoin%22%3A%20%22round%22%2C%20%22opacity%22%3A%201.0%2C%20%22radius%22%3A%20142000.0%2C%20%22stroke%22%3A%20true%2C%20%22weight%22%3A%203%7D%0A%20%20%20%20%20%20%20%20%20%20%20%20%29.addTo%28map_eb660f0cadf14412ab360cc7dee84180%29%3B%0A%20%20%20%20%20%20%20%20%0A%20%20%20%20%0A%20%20%20%20%20%20%20%20%20%20%20%20circle_dda089a299a545148d4bdf69a9a0deac.bindTooltip%28%0A%20%20%20%20%20%20%20%20%20%20%20%20%20%20%20%20%60%3Cdiv%3E%0A%20%20%20%20%20%20%20%20%20%20%20%20%20%20%20%20%20%20%20%20%20%3Cdiv%20style%3D%27margin%3A%200%3B%20background-color%3A%20black%3B%20color%3A%20white%3B%27%3E%3Ch4%20style%3D%27text-align%3Acenter%3Bfont-weight%3A%20bold%27%3ESlovakia%3C/h4%3E%3Chr%20style%3D%27margin%3A10px%3Bcolor%3A%20white%3B%27%3E%3Cul%20style%3D%27color%3A%20white%3B%3Blist-style-type%3Acircle%3Balign-item%3Aleft%3Bpadding-left%3A20px%3Bpadding-right%3A20px%27%3E%3Cli%3EConfirmed%3A%201397257%3C/li%3E%3C/ul%3E%3C/div%3E%0A%20%20%20%20%20%20%20%20%20%20%20%20%20%20%20%20%20%3C/div%3E%60%2C%0A%20%20%20%20%20%20%20%20%20%20%20%20%20%20%20%20%7B%22sticky%22%3A%20true%7D%0A%20%20%20%20%20%20%20%20%20%20%20%20%29%3B%0A%20%20%20%20%20%20%20%20%0A%20%20%20%20%0A%20%20%20%20%20%20%20%20%20%20%20%20var%20circle_cb500a2a201343f39cf843688c8d5151%20%3D%20L.circle%28%0A%20%20%20%20%20%20%20%20%20%20%20%20%20%20%20%20%5B46.1512%2C%2014.9955%5D%2C%0A%20%20%20%20%20%20%20%20%20%20%20%20%20%20%20%20%7B%22bubblingMouseEvents%22%3A%20true%2C%20%22color%22%3A%20%22red%22%2C%20%22dashArray%22%3A%20null%2C%20%22dashOffset%22%3A%20null%2C%20%22fill%22%3A%20true%2C%20%22fillColor%22%3A%20%22indigo%22%2C%20%22fillOpacity%22%3A%200.2%2C%20%22fillRule%22%3A%20%22evenodd%22%2C%20%22lineCap%22%3A%20%22round%22%2C%20%22lineJoin%22%3A%20%22round%22%2C%20%22opacity%22%3A%201.0%2C%20%22radius%22%3A%20132000.0%2C%20%22stroke%22%3A%20true%2C%20%22weight%22%3A%203%7D%0A%20%20%20%20%20%20%20%20%20%20%20%20%29.addTo%28map_eb660f0cadf14412ab360cc7dee84180%29%3B%0A%20%20%20%20%20%20%20%20%0A%20%20%20%20%0A%20%20%20%20%20%20%20%20%20%20%20%20circle_cb500a2a201343f39cf843688c8d5151.bindTooltip%28%0A%20%20%20%20%20%20%20%20%20%20%20%20%20%20%20%20%60%3Cdiv%3E%0A%20%20%20%20%20%20%20%20%20%20%20%20%20%20%20%20%20%20%20%20%20%3Cdiv%20style%3D%27margin%3A%200%3B%20background-color%3A%20black%3B%20color%3A%20white%3B%27%3E%3Ch4%20style%3D%27text-align%3Acenter%3Bfont-weight%3A%20bold%27%3ESlovenia%3C/h4%3E%3Chr%20style%3D%27margin%3A10px%3Bcolor%3A%20white%3B%27%3E%3Cul%20style%3D%27color%3A%20white%3B%3Blist-style-type%3Acircle%3Balign-item%3Aleft%3Bpadding-left%3A20px%3Bpadding-right%3A20px%27%3E%3Cli%3EConfirmed%3A%20490784%3C/li%3E%3C/ul%3E%3C/div%3E%0A%20%20%20%20%20%20%20%20%20%20%20%20%20%20%20%20%20%3C/div%3E%60%2C%0A%20%20%20%20%20%20%20%20%20%20%20%20%20%20%20%20%7B%22sticky%22%3A%20true%7D%0A%20%20%20%20%20%20%20%20%20%20%20%20%29%3B%0A%20%20%20%20%20%20%20%20%0A%20%20%20%20%0A%20%20%20%20%20%20%20%20%20%20%20%20var%20circle_b63b8ba2e1614fdcb1dbee42f6df5dbe%20%3D%20L.circle%28%0A%20%20%20%20%20%20%20%20%20%20%20%20%20%20%20%20%5B-9.6457%2C%20160.1562%5D%2C%0A%20%20%20%20%20%20%20%20%20%20%20%20%20%20%20%20%7B%22bubblingMouseEvents%22%3A%20true%2C%20%22color%22%3A%20%22red%22%2C%20%22dashArray%22%3A%20null%2C%20%22dashOffset%22%3A%20null%2C%20%22fill%22%3A%20true%2C%20%22fillColor%22%3A%20%22indigo%22%2C%20%22fillOpacity%22%3A%200.2%2C%20%22fillRule%22%3A%20%22evenodd%22%2C%20%22lineCap%22%3A%20%22round%22%2C%20%22lineJoin%22%3A%20%22round%22%2C%20%22opacity%22%3A%201.0%2C%20%22radius%22%3A%2032000.0%2C%20%22stroke%22%3A%20true%2C%20%22weight%22%3A%203%7D%0A%20%20%20%20%20%20%20%20%20%20%20%20%29.addTo%28map_eb660f0cadf14412ab360cc7dee84180%29%3B%0A%20%20%20%20%20%20%20%20%0A%20%20%20%20%0A%20%20%20%20%20%20%20%20%20%20%20%20circle_b63b8ba2e1614fdcb1dbee42f6df5dbe.bindTooltip%28%0A%20%20%20%20%20%20%20%20%20%20%20%20%20%20%20%20%60%3Cdiv%3E%0A%20%20%20%20%20%20%20%20%20%20%20%20%20%20%20%20%20%20%20%20%20%3Cdiv%20style%3D%27margin%3A%200%3B%20background-color%3A%20black%3B%20color%3A%20white%3B%27%3E%3Ch4%20style%3D%27text-align%3Acenter%3Bfont-weight%3A%20bold%27%3ESolomon%20Islands%3C/h4%3E%3Chr%20style%3D%27margin%3A10px%3Bcolor%3A%20white%3B%27%3E%3Cul%20style%3D%27color%3A%20white%3B%3Blist-style-type%3Acircle%3Balign-item%3Aleft%3Bpadding-left%3A20px%3Bpadding-right%3A20px%27%3E%3Cli%3EConfirmed%3A%2028%3C/li%3E%3C/ul%3E%3C/div%3E%0A%20%20%20%20%20%20%20%20%20%20%20%20%20%20%20%20%20%3C/div%3E%60%2C%0A%20%20%20%20%20%20%20%20%20%20%20%20%20%20%20%20%7B%22sticky%22%3A%20true%7D%0A%20%20%20%20%20%20%20%20%20%20%20%20%29%3B%0A%20%20%20%20%20%20%20%20%0A%20%20%20%20%0A%20%20%20%20%20%20%20%20%20%20%20%20var%20circle_5928704858b04bacaa210998495ddbfe%20%3D%20L.circle%28%0A%20%20%20%20%20%20%20%20%20%20%20%20%20%20%20%20%5B5.152149%2C%2046.199616%5D%2C%0A%20%20%20%20%20%20%20%20%20%20%20%20%20%20%20%20%7B%22bubblingMouseEvents%22%3A%20true%2C%20%22color%22%3A%20%22red%22%2C%20%22dashArray%22%3A%20null%2C%20%22dashOffset%22%3A%20null%2C%20%22fill%22%3A%20true%2C%20%22fillColor%22%3A%20%22indigo%22%2C%20%22fillOpacity%22%3A%200.2%2C%20%22fillRule%22%3A%20%22evenodd%22%2C%20%22lineCap%22%3A%20%22round%22%2C%20%22lineJoin%22%3A%20%22round%22%2C%20%22opacity%22%3A%201.0%2C%20%22radius%22%3A%20102000.0%2C%20%22stroke%22%3A%20true%2C%20%22weight%22%3A%203%7D%0A%20%20%20%20%20%20%20%20%20%20%20%20%29.addTo%28map_eb660f0cadf14412ab360cc7dee84180%29%3B%0A%20%20%20%20%20%20%20%20%0A%20%20%20%20%0A%20%20%20%20%20%20%20%20%20%20%20%20circle_5928704858b04bacaa210998495ddbfe.bindTooltip%28%0A%20%20%20%20%20%20%20%20%20%20%20%20%20%20%20%20%60%3Cdiv%3E%0A%20%20%20%20%20%20%20%20%20%20%20%20%20%20%20%20%20%20%20%20%20%3Cdiv%20style%3D%27margin%3A%200%3B%20background-color%3A%20black%3B%20color%3A%20white%3B%27%3E%3Ch4%20style%3D%27text-align%3Acenter%3Bfont-weight%3A%20bold%27%3ESomalia%3C/h4%3E%3Chr%20style%3D%27margin%3A10px%3Bcolor%3A%20white%3B%27%3E%3Cul%20style%3D%27color%3A%20white%3B%3Blist-style-type%3Acircle%3Balign-item%3Aleft%3Bpadding-left%3A20px%3Bpadding-right%3A20px%27%3E%3Cli%3EConfirmed%3A%2024261%3C/li%3E%3C/ul%3E%3C/div%3E%0A%20%20%20%20%20%20%20%20%20%20%20%20%20%20%20%20%20%3C/div%3E%60%2C%0A%20%20%20%20%20%20%20%20%20%20%20%20%20%20%20%20%7B%22sticky%22%3A%20true%7D%0A%20%20%20%20%20%20%20%20%20%20%20%20%29%3B%0A%20%20%20%20%20%20%20%20%0A%20%20%20%20%0A%20%20%20%20%20%20%20%20%20%20%20%20var%20circle_9379ab4085bb488489474bb0c9a2522d%20%3D%20L.circle%28%0A%20%20%20%20%20%20%20%20%20%20%20%20%20%20%20%20%5B-30.5595%2C%2022.9375%5D%2C%0A%20%20%20%20%20%20%20%20%20%20%20%20%20%20%20%20%7B%22bubblingMouseEvents%22%3A%20true%2C%20%22color%22%3A%20%22red%22%2C%20%22dashArray%22%3A%20null%2C%20%22dashOffset%22%3A%20null%2C%20%22fill%22%3A%20true%2C%20%22fillColor%22%3A%20%22indigo%22%2C%20%22fillOpacity%22%3A%200.2%2C%20%22fillRule%22%3A%20%22evenodd%22%2C%20%22lineCap%22%3A%20%22round%22%2C%20%22lineJoin%22%3A%20%22round%22%2C%20%22opacity%22%3A%201.0%2C%20%22radius%22%3A%20152000.0%2C%20%22stroke%22%3A%20true%2C%20%22weight%22%3A%203%7D%0A%20%20%20%20%20%20%20%20%20%20%20%20%29.addTo%28map_eb660f0cadf14412ab360cc7dee84180%29%3B%0A%20%20%20%20%20%20%20%20%0A%20%20%20%20%0A%20%20%20%20%20%20%20%20%20%20%20%20circle_9379ab4085bb488489474bb0c9a2522d.bindTooltip%28%0A%20%20%20%20%20%20%20%20%20%20%20%20%20%20%20%20%60%3Cdiv%3E%0A%20%20%20%20%20%20%20%20%20%20%20%20%20%20%20%20%20%20%20%20%20%3Cdiv%20style%3D%27margin%3A%200%3B%20background-color%3A%20black%3B%20color%3A%20white%3B%27%3E%3Ch4%20style%3D%27text-align%3Acenter%3Bfont-weight%3A%20bold%27%3ESouth%20Africa%3C/h4%3E%3Chr%20style%3D%27margin%3A10px%3Bcolor%3A%20white%3B%27%3E%3Cul%20style%3D%27color%3A%20white%3B%3Blist-style-type%3Acircle%3Balign-item%3Aleft%3Bpadding-left%3A20px%3Bpadding-right%3A20px%27%3E%3Cli%3EConfirmed%3A%203526054%3C/li%3E%3C/ul%3E%3C/div%3E%0A%20%20%20%20%20%20%20%20%20%20%20%20%20%20%20%20%20%3C/div%3E%60%2C%0A%20%20%20%20%20%20%20%20%20%20%20%20%20%20%20%20%7B%22sticky%22%3A%20true%7D%0A%20%20%20%20%20%20%20%20%20%20%20%20%29%3B%0A%20%20%20%20%20%20%20%20%0A%20%20%20%20%0A%20%20%20%20%20%20%20%20%20%20%20%20var%20circle_243e6c78c3644e1bbdb454f1dcf75170%20%3D%20L.circle%28%0A%20%20%20%20%20%20%20%20%20%20%20%20%20%20%20%20%5B6.877%2C%2031.307%5D%2C%0A%20%20%20%20%20%20%20%20%20%20%20%20%20%20%20%20%7B%22bubblingMouseEvents%22%3A%20true%2C%20%22color%22%3A%20%22red%22%2C%20%22dashArray%22%3A%20null%2C%20%22dashOffset%22%3A%20null%2C%20%22fill%22%3A%20true%2C%20%22fillColor%22%3A%20%22indigo%22%2C%20%22fillOpacity%22%3A%200.2%2C%20%22fillRule%22%3A%20%22evenodd%22%2C%20%22lineCap%22%3A%20%22round%22%2C%20%22lineJoin%22%3A%20%22round%22%2C%20%22opacity%22%3A%201.0%2C%20%22radius%22%3A%2092000.0%2C%20%22stroke%22%3A%20true%2C%20%22weight%22%3A%203%7D%0A%20%20%20%20%20%20%20%20%20%20%20%20%29.addTo%28map_eb660f0cadf14412ab360cc7dee84180%29%3B%0A%20%20%20%20%20%20%20%20%0A%20%20%20%20%0A%20%20%20%20%20%20%20%20%20%20%20%20circle_243e6c78c3644e1bbdb454f1dcf75170.bindTooltip%28%0A%20%20%20%20%20%20%20%20%20%20%20%20%20%20%20%20%60%3Cdiv%3E%0A%20%20%20%20%20%20%20%20%20%20%20%20%20%20%20%20%20%20%20%20%20%3Cdiv%20style%3D%27margin%3A%200%3B%20background-color%3A%20black%3B%20color%3A%20white%3B%27%3E%3Ch4%20style%3D%27text-align%3Acenter%3Bfont-weight%3A%20bold%27%3ESouth%20Sudan%3C/h4%3E%3Chr%20style%3D%27margin%3A10px%3Bcolor%3A%20white%3B%27%3E%3Cul%20style%3D%27color%3A%20white%3B%3Blist-style-type%3Acircle%3Balign-item%3Aleft%3Bpadding-left%3A20px%3Bpadding-right%3A20px%27%3E%3Cli%3EConfirmed%3A%2016042%3C/li%3E%3C/ul%3E%3C/div%3E%0A%20%20%20%20%20%20%20%20%20%20%20%20%20%20%20%20%20%3C/div%3E%60%2C%0A%20%20%20%20%20%20%20%20%20%20%20%20%20%20%20%20%7B%22sticky%22%3A%20true%7D%0A%20%20%20%20%20%20%20%20%20%20%20%20%29%3B%0A%20%20%20%20%20%20%20%20%0A%20%20%20%20%0A%20%20%20%20%20%20%20%20%20%20%20%20var%20circle_a39696fceadb465e981083e4733fa560%20%3D%20L.circle%28%0A%20%20%20%20%20%20%20%20%20%20%20%20%20%20%20%20%5B40.463667%2C%20-3.74922%5D%2C%0A%20%20%20%20%20%20%20%20%20%20%20%20%20%20%20%20%7B%22bubblingMouseEvents%22%3A%20true%2C%20%22color%22%3A%20%22red%22%2C%20%22dashArray%22%3A%20null%2C%20%22dashOffset%22%3A%20null%2C%20%22fill%22%3A%20true%2C%20%22fillColor%22%3A%20%22indigo%22%2C%20%22fillOpacity%22%3A%200.2%2C%20%22fillRule%22%3A%20%22evenodd%22%2C%20%22lineCap%22%3A%20%22round%22%2C%20%22lineJoin%22%3A%20%22round%22%2C%20%22opacity%22%3A%201.0%2C%20%22radius%22%3A%20152000.0%2C%20%22stroke%22%3A%20true%2C%20%22weight%22%3A%203%7D%0A%20%20%20%20%20%20%20%20%20%20%20%20%29.addTo%28map_eb660f0cadf14412ab360cc7dee84180%29%3B%0A%20%20%20%20%20%20%20%20%0A%20%20%20%20%0A%20%20%20%20%20%20%20%20%20%20%20%20circle_a39696fceadb465e981083e4733fa560.bindTooltip%28%0A%20%20%20%20%20%20%20%20%20%20%20%20%20%20%20%20%60%3Cdiv%3E%0A%20%20%20%20%20%20%20%20%20%20%20%20%20%20%20%20%20%20%20%20%20%3Cdiv%20style%3D%27margin%3A%200%3B%20background-color%3A%20black%3B%20color%3A%20white%3B%27%3E%3Ch4%20style%3D%27text-align%3Acenter%3Bfont-weight%3A%20bold%27%3ESpain%3C/h4%3E%3Chr%20style%3D%27margin%3A10px%3Bcolor%3A%20white%3B%27%3E%3Cul%20style%3D%27color%3A%20white%3B%3Blist-style-type%3Acircle%3Balign-item%3Aleft%3Bpadding-left%3A20px%3Bpadding-right%3A20px%27%3E%3Cli%3EConfirmed%3A%207164906%3C/li%3E%3C/ul%3E%3C/div%3E%0A%20%20%20%20%20%20%20%20%20%20%20%20%20%20%20%20%20%3C/div%3E%60%2C%0A%20%20%20%20%20%20%20%20%20%20%20%20%20%20%20%20%7B%22sticky%22%3A%20true%7D%0A%20%20%20%20%20%20%20%20%20%20%20%20%29%3B%0A%20%20%20%20%20%20%20%20%0A%20%20%20%20%0A%20%20%20%20%20%20%20%20%20%20%20%20var%20circle_d718df5d623c43548dc14a4366323f2b%20%3D%20L.circle%28%0A%20%20%20%20%20%20%20%20%20%20%20%20%20%20%20%20%5B7.873054%2C%2080.771797%5D%2C%0A%20%20%20%20%20%20%20%20%20%20%20%20%20%20%20%20%7B%22bubblingMouseEvents%22%3A%20true%2C%20%22color%22%3A%20%22red%22%2C%20%22dashArray%22%3A%20null%2C%20%22dashOffset%22%3A%20null%2C%20%22fill%22%3A%20true%2C%20%22fillColor%22%3A%20%22indigo%22%2C%20%22fillOpacity%22%3A%200.2%2C%20%22fillRule%22%3A%20%22evenodd%22%2C%20%22lineCap%22%3A%20%22round%22%2C%20%22lineJoin%22%3A%20%22round%22%2C%20%22opacity%22%3A%201.0%2C%20%22radius%22%3A%20132000.0%2C%20%22stroke%22%3A%20true%2C%20%22weight%22%3A%203%7D%0A%20%20%20%20%20%20%20%20%20%20%20%20%29.addTo%28map_eb660f0cadf14412ab360cc7dee84180%29%3B%0A%20%20%20%20%20%20%20%20%0A%20%20%20%20%0A%20%20%20%20%20%20%20%20%20%20%20%20circle_d718df5d623c43548dc14a4366323f2b.bindTooltip%28%0A%20%20%20%20%20%20%20%20%20%20%20%20%20%20%20%20%60%3Cdiv%3E%0A%20%20%20%20%20%20%20%20%20%20%20%20%20%20%20%20%20%20%20%20%20%3Cdiv%20style%3D%27margin%3A%200%3B%20background-color%3A%20black%3B%20color%3A%20white%3B%27%3E%3Ch4%20style%3D%27text-align%3Acenter%3Bfont-weight%3A%20bold%27%3ESri%20Lanka%3C/h4%3E%3Chr%20style%3D%27margin%3A10px%3Bcolor%3A%20white%3B%27%3E%3Cul%20style%3D%27color%3A%20white%3B%3Blist-style-type%3Acircle%3Balign-item%3Aleft%3Bpadding-left%3A20px%3Bpadding-right%3A20px%27%3E%3Cli%3EConfirmed%3A%20591667%3C/li%3E%3C/ul%3E%3C/div%3E%0A%20%20%20%20%20%20%20%20%20%20%20%20%20%20%20%20%20%3C/div%3E%60%2C%0A%20%20%20%20%20%20%20%20%20%20%20%20%20%20%20%20%7B%22sticky%22%3A%20true%7D%0A%20%20%20%20%20%20%20%20%20%20%20%20%29%3B%0A%20%20%20%20%20%20%20%20%0A%20%20%20%20%0A%20%20%20%20%20%20%20%20%20%20%20%20var%20circle_db69ce0d4b2442c1b01c8eeec15021fc%20%3D%20L.circle%28%0A%20%20%20%20%20%20%20%20%20%20%20%20%20%20%20%20%5B12.8628%2C%2030.2176%5D%2C%0A%20%20%20%20%20%20%20%20%20%20%20%20%20%20%20%20%7B%22bubblingMouseEvents%22%3A%20true%2C%20%22color%22%3A%20%22red%22%2C%20%22dashArray%22%3A%20null%2C%20%22dashOffset%22%3A%20null%2C%20%22fill%22%3A%20true%2C%20%22fillColor%22%3A%20%22indigo%22%2C%20%22fillOpacity%22%3A%200.2%2C%20%22fillRule%22%3A%20%22evenodd%22%2C%20%22lineCap%22%3A%20%22round%22%2C%20%22lineJoin%22%3A%20%22round%22%2C%20%22opacity%22%3A%201.0%2C%20%22radius%22%3A%20102000.0%2C%20%22stroke%22%3A%20true%2C%20%22weight%22%3A%203%7D%0A%20%20%20%20%20%20%20%20%20%20%20%20%29.addTo%28map_eb660f0cadf14412ab360cc7dee84180%29%3B%0A%20%20%20%20%20%20%20%20%0A%20%20%20%20%0A%20%20%20%20%20%20%20%20%20%20%20%20circle_db69ce0d4b2442c1b01c8eeec15021fc.bindTooltip%28%0A%20%20%20%20%20%20%20%20%20%20%20%20%20%20%20%20%60%3Cdiv%3E%0A%20%20%20%20%20%20%20%20%20%20%20%20%20%20%20%20%20%20%20%20%20%3Cdiv%20style%3D%27margin%3A%200%3B%20background-color%3A%20black%3B%20color%3A%20white%3B%27%3E%3Ch4%20style%3D%27text-align%3Acenter%3Bfont-weight%3A%20bold%27%3ESudan%3C/h4%3E%3Chr%20style%3D%27margin%3A10px%3Bcolor%3A%20white%3B%27%3E%3Cul%20style%3D%27color%3A%20white%3B%3Blist-style-type%3Acircle%3Balign-item%3Aleft%3Bpadding-left%3A20px%3Bpadding-right%3A20px%27%3E%3Cli%3EConfirmed%3A%2047443%3C/li%3E%3C/ul%3E%3C/div%3E%0A%20%20%20%20%20%20%20%20%20%20%20%20%20%20%20%20%20%3C/div%3E%60%2C%0A%20%20%20%20%20%20%20%20%20%20%20%20%20%20%20%20%7B%22sticky%22%3A%20true%7D%0A%20%20%20%20%20%20%20%20%20%20%20%20%29%3B%0A%20%20%20%20%20%20%20%20%0A%20%20%20%20%0A%20%20%20%20%20%20%20%20%20%20%20%20var%20circle_63033551338f401195953351081fd172%20%3D%20L.circle%28%0A%20%20%20%20%20%20%20%20%20%20%20%20%20%20%20%20%5B35.6491%2C%20139.7737%5D%2C%0A%20%20%20%20%20%20%20%20%20%20%20%20%20%20%20%20%7B%22bubblingMouseEvents%22%3A%20true%2C%20%22color%22%3A%20%22red%22%2C%20%22dashArray%22%3A%20null%2C%20%22dashOffset%22%3A%20null%2C%20%22fill%22%3A%20true%2C%20%22fillColor%22%3A%20%22indigo%22%2C%20%22fillOpacity%22%3A%200.2%2C%20%22fillRule%22%3A%20%22evenodd%22%2C%20%22lineCap%22%3A%20%22round%22%2C%20%22lineJoin%22%3A%20%22round%22%2C%20%22opacity%22%3A%201.0%2C%20%22radius%22%3A%2062000.0%2C%20%22stroke%22%3A%20true%2C%20%22weight%22%3A%203%7D%0A%20%20%20%20%20%20%20%20%20%20%20%20%29.addTo%28map_eb660f0cadf14412ab360cc7dee84180%29%3B%0A%20%20%20%20%20%20%20%20%0A%20%20%20%20%0A%20%20%20%20%20%20%20%20%20%20%20%20circle_63033551338f401195953351081fd172.bindTooltip%28%0A%20%20%20%20%20%20%20%20%20%20%20%20%20%20%20%20%60%3Cdiv%3E%0A%20%20%20%20%20%20%20%20%20%20%20%20%20%20%20%20%20%20%20%20%20%3Cdiv%20style%3D%27margin%3A%200%3B%20background-color%3A%20black%3B%20color%3A%20white%3B%27%3E%3Ch4%20style%3D%27text-align%3Acenter%3Bfont-weight%3A%20bold%27%3ESummer%20Olympics%202020%3C/h4%3E%3Chr%20style%3D%27margin%3A10px%3Bcolor%3A%20white%3B%27%3E%3Cul%20style%3D%27color%3A%20white%3B%3Blist-style-type%3Acircle%3Balign-item%3Aleft%3Bpadding-left%3A20px%3Bpadding-right%3A20px%27%3E%3Cli%3EConfirmed%3A%20865%3C/li%3E%3C/ul%3E%3C/div%3E%0A%20%20%20%20%20%20%20%20%20%20%20%20%20%20%20%20%20%3C/div%3E%60%2C%0A%20%20%20%20%20%20%20%20%20%20%20%20%20%20%20%20%7B%22sticky%22%3A%20true%7D%0A%20%20%20%20%20%20%20%20%20%20%20%20%29%3B%0A%20%20%20%20%20%20%20%20%0A%20%20%20%20%0A%20%20%20%20%20%20%20%20%20%20%20%20var%20circle_c1ca4dd704ed4e95b491d7f1c0daa27a%20%3D%20L.circle%28%0A%20%20%20%20%20%20%20%20%20%20%20%20%20%20%20%20%5B3.9193%2C%20-56.0278%5D%2C%0A%20%20%20%20%20%20%20%20%20%20%20%20%20%20%20%20%7B%22bubblingMouseEvents%22%3A%20true%2C%20%22color%22%3A%20%22red%22%2C%20%22dashArray%22%3A%20null%2C%20%22dashOffset%22%3A%20null%2C%20%22fill%22%3A%20true%2C%20%22fillColor%22%3A%20%22indigo%22%2C%20%22fillOpacity%22%3A%200.2%2C%20%22fillRule%22%3A%20%22evenodd%22%2C%20%22lineCap%22%3A%20%22round%22%2C%20%22lineJoin%22%3A%20%22round%22%2C%20%22opacity%22%3A%201.0%2C%20%22radius%22%3A%20102000.0%2C%20%22stroke%22%3A%20true%2C%20%22weight%22%3A%203%7D%0A%20%20%20%20%20%20%20%20%20%20%20%20%29.addTo%28map_eb660f0cadf14412ab360cc7dee84180%29%3B%0A%20%20%20%20%20%20%20%20%0A%20%20%20%20%0A%20%20%20%20%20%20%20%20%20%20%20%20circle_c1ca4dd704ed4e95b491d7f1c0daa27a.bindTooltip%28%0A%20%20%20%20%20%20%20%20%20%20%20%20%20%20%20%20%60%3Cdiv%3E%0A%20%20%20%20%20%20%20%20%20%20%20%20%20%20%20%20%20%20%20%20%20%3Cdiv%20style%3D%27margin%3A%200%3B%20background-color%3A%20black%3B%20color%3A%20white%3B%27%3E%3Ch4%20style%3D%27text-align%3Acenter%3Bfont-weight%3A%20bold%27%3ESuriname%3C/h4%3E%3Chr%20style%3D%27margin%3A10px%3Bcolor%3A%20white%3B%27%3E%3Cul%20style%3D%27color%3A%20white%3B%3Blist-style-type%3Acircle%3Balign-item%3Aleft%3Bpadding-left%3A20px%3Bpadding-right%3A20px%27%3E%3Cli%3EConfirmed%3A%2057705%3C/li%3E%3C/ul%3E%3C/div%3E%0A%20%20%20%20%20%20%20%20%20%20%20%20%20%20%20%20%20%3C/div%3E%60%2C%0A%20%20%20%20%20%20%20%20%20%20%20%20%20%20%20%20%7B%22sticky%22%3A%20true%7D%0A%20%20%20%20%20%20%20%20%20%20%20%20%29%3B%0A%20%20%20%20%20%20%20%20%0A%20%20%20%20%0A%20%20%20%20%20%20%20%20%20%20%20%20var%20circle_78465369976043a39aa1ae5eb7089ce8%20%3D%20L.circle%28%0A%20%20%20%20%20%20%20%20%20%20%20%20%20%20%20%20%5B60.128161%2C%2018.643501%5D%2C%0A%20%20%20%20%20%20%20%20%20%20%20%20%20%20%20%20%7B%22bubblingMouseEvents%22%3A%20true%2C%20%22color%22%3A%20%22red%22%2C%20%22dashArray%22%3A%20null%2C%20%22dashOffset%22%3A%20null%2C%20%22fill%22%3A%20true%2C%20%22fillColor%22%3A%20%22indigo%22%2C%20%22fillOpacity%22%3A%200.2%2C%20%22fillRule%22%3A%20%22evenodd%22%2C%20%22lineCap%22%3A%20%22round%22%2C%20%22lineJoin%22%3A%20%22round%22%2C%20%22opacity%22%3A%201.0%2C%20%22radius%22%3A%20142000.0%2C%20%22stroke%22%3A%20true%2C%20%22weight%22%3A%203%7D%0A%20%20%20%20%20%20%20%20%20%20%20%20%29.addTo%28map_eb660f0cadf14412ab360cc7dee84180%29%3B%0A%20%20%20%20%20%20%20%20%0A%20%20%20%20%0A%20%20%20%20%20%20%20%20%20%20%20%20circle_78465369976043a39aa1ae5eb7089ce8.bindTooltip%28%0A%20%20%20%20%20%20%20%20%20%20%20%20%20%20%20%20%60%3Cdiv%3E%0A%20%20%20%20%20%20%20%20%20%20%20%20%20%20%20%20%20%20%20%20%20%3Cdiv%20style%3D%27margin%3A%200%3B%20background-color%3A%20black%3B%20color%3A%20white%3B%27%3E%3Ch4%20style%3D%27text-align%3Acenter%3Bfont-weight%3A%20bold%27%3ESweden%3C/h4%3E%3Chr%20style%3D%27margin%3A10px%3Bcolor%3A%20white%3B%27%3E%3Cul%20style%3D%27color%3A%20white%3B%3Blist-style-type%3Acircle%3Balign-item%3Aleft%3Bpadding-left%3A20px%3Bpadding-right%3A20px%27%3E%3Cli%3EConfirmed%3A%201416650%3C/li%3E%3C/ul%3E%3C/div%3E%0A%20%20%20%20%20%20%20%20%20%20%20%20%20%20%20%20%20%3C/div%3E%60%2C%0A%20%20%20%20%20%20%20%20%20%20%20%20%20%20%20%20%7B%22sticky%22%3A%20true%7D%0A%20%20%20%20%20%20%20%20%20%20%20%20%29%3B%0A%20%20%20%20%20%20%20%20%0A%20%20%20%20%0A%20%20%20%20%20%20%20%20%20%20%20%20var%20circle_b7e61e59b02c402f9fea507c18d795eb%20%3D%20L.circle%28%0A%20%20%20%20%20%20%20%20%20%20%20%20%20%20%20%20%5B46.8182%2C%208.2275%5D%2C%0A%20%20%20%20%20%20%20%20%20%20%20%20%20%20%20%20%7B%22bubblingMouseEvents%22%3A%20true%2C%20%22color%22%3A%20%22red%22%2C%20%22dashArray%22%3A%20null%2C%20%22dashOffset%22%3A%20null%2C%20%22fill%22%3A%20true%2C%20%22fillColor%22%3A%20%22indigo%22%2C%20%22fillOpacity%22%3A%200.2%2C%20%22fillRule%22%3A%20%22evenodd%22%2C%20%22lineCap%22%3A%20%22round%22%2C%20%22lineJoin%22%3A%20%22round%22%2C%20%22opacity%22%3A%201.0%2C%20%22radius%22%3A%20142000.0%2C%20%22stroke%22%3A%20true%2C%20%22weight%22%3A%203%7D%0A%20%20%20%20%20%20%20%20%20%20%20%20%29.addTo%28map_eb660f0cadf14412ab360cc7dee84180%29%3B%0A%20%20%20%20%20%20%20%20%0A%20%20%20%20%0A%20%20%20%20%20%20%20%20%20%20%20%20circle_b7e61e59b02c402f9fea507c18d795eb.bindTooltip%28%0A%20%20%20%20%20%20%20%20%20%20%20%20%20%20%20%20%60%3Cdiv%3E%0A%20%20%20%20%20%20%20%20%20%20%20%20%20%20%20%20%20%20%20%20%20%3Cdiv%20style%3D%27margin%3A%200%3B%20background-color%3A%20black%3B%20color%3A%20white%3B%27%3E%3Ch4%20style%3D%27text-align%3Acenter%3Bfont-weight%3A%20bold%27%3ESwitzerland%3C/h4%3E%3Chr%20style%3D%27margin%3A10px%3Bcolor%3A%20white%3B%27%3E%3Cul%20style%3D%27color%3A%20white%3B%3Blist-style-type%3Acircle%3Balign-item%3Aleft%3Bpadding-left%3A20px%3Bpadding-right%3A20px%27%3E%3Cli%3EConfirmed%3A%201483212%3C/li%3E%3C/ul%3E%3C/div%3E%0A%20%20%20%20%20%20%20%20%20%20%20%20%20%20%20%20%20%3C/div%3E%60%2C%0A%20%20%20%20%20%20%20%20%20%20%20%20%20%20%20%20%7B%22sticky%22%3A%20true%7D%0A%20%20%20%20%20%20%20%20%20%20%20%20%29%3B%0A%20%20%20%20%20%20%20%20%0A%20%20%20%20%0A%20%20%20%20%20%20%20%20%20%20%20%20var%20circle_42537a440d864924a04a961faf2f07fc%20%3D%20L.circle%28%0A%20%20%20%20%20%20%20%20%20%20%20%20%20%20%20%20%5B34.802075%2C%2038.996815%5D%2C%0A%20%20%20%20%20%20%20%20%20%20%20%20%20%20%20%20%7B%22bubblingMouseEvents%22%3A%20true%2C%20%22color%22%3A%20%22red%22%2C%20%22dashArray%22%3A%20null%2C%20%22dashOffset%22%3A%20null%2C%20%22fill%22%3A%20true%2C%20%22fillColor%22%3A%20%22indigo%22%2C%20%22fillOpacity%22%3A%200.2%2C%20%22fillRule%22%3A%20%22evenodd%22%2C%20%22lineCap%22%3A%20%22round%22%2C%20%22lineJoin%22%3A%20%22round%22%2C%20%22opacity%22%3A%201.0%2C%20%22radius%22%3A%20102000.0%2C%20%22stroke%22%3A%20true%2C%20%22weight%22%3A%203%7D%0A%20%20%20%20%20%20%20%20%20%20%20%20%29.addTo%28map_eb660f0cadf14412ab360cc7dee84180%29%3B%0A%20%20%20%20%20%20%20%20%0A%20%20%20%20%0A%20%20%20%20%20%20%20%20%20%20%20%20circle_42537a440d864924a04a961faf2f07fc.bindTooltip%28%0A%20%20%20%20%20%20%20%20%20%20%20%20%20%20%20%20%60%3Cdiv%3E%0A%20%20%20%20%20%20%20%20%20%20%20%20%20%20%20%20%20%20%20%20%20%3Cdiv%20style%3D%27margin%3A%200%3B%20background-color%3A%20black%3B%20color%3A%20white%3B%27%3E%3Ch4%20style%3D%27text-align%3Acenter%3Bfont-weight%3A%20bold%27%3ESyria%3C/h4%3E%3Chr%20style%3D%27margin%3A10px%3Bcolor%3A%20white%3B%27%3E%3Cul%20style%3D%27color%3A%20white%3B%3Blist-style-type%3Acircle%3Balign-item%3Aleft%3Bpadding-left%3A20px%3Bpadding-right%3A20px%27%3E%3Cli%3EConfirmed%3A%2050502%3C/li%3E%3C/ul%3E%3C/div%3E%0A%20%20%20%20%20%20%20%20%20%20%20%20%20%20%20%20%20%3C/div%3E%60%2C%0A%20%20%20%20%20%20%20%20%20%20%20%20%20%20%20%20%7B%22sticky%22%3A%20true%7D%0A%20%20%20%20%20%20%20%20%20%20%20%20%29%3B%0A%20%20%20%20%20%20%20%20%0A%20%20%20%20%0A%20%20%20%20%20%20%20%20%20%20%20%20var%20circle_7030af0cf44b4c7d92dc78d657e8d258%20%3D%20L.circle%28%0A%20%20%20%20%20%20%20%20%20%20%20%20%20%20%20%20%5B23.7%2C%20121.0%5D%2C%0A%20%20%20%20%20%20%20%20%20%20%20%20%20%20%20%20%7B%22bubblingMouseEvents%22%3A%20true%2C%20%22color%22%3A%20%22red%22%2C%20%22dashArray%22%3A%20null%2C%20%22dashOffset%22%3A%20null%2C%20%22fill%22%3A%20true%2C%20%22fillColor%22%3A%20%22indigo%22%2C%20%22fillOpacity%22%3A%200.2%2C%20%22fillRule%22%3A%20%22evenodd%22%2C%20%22lineCap%22%3A%20%22round%22%2C%20%22lineJoin%22%3A%20%22round%22%2C%20%22opacity%22%3A%201.0%2C%20%22radius%22%3A%2092000.0%2C%20%22stroke%22%3A%20true%2C%20%22weight%22%3A%203%7D%0A%20%20%20%20%20%20%20%20%20%20%20%20%29.addTo%28map_eb660f0cadf14412ab360cc7dee84180%29%3B%0A%20%20%20%20%20%20%20%20%0A%20%20%20%20%0A%20%20%20%20%20%20%20%20%20%20%20%20circle_7030af0cf44b4c7d92dc78d657e8d258.bindTooltip%28%0A%20%20%20%20%20%20%20%20%20%20%20%20%20%20%20%20%60%3Cdiv%3E%0A%20%20%20%20%20%20%20%20%20%20%20%20%20%20%20%20%20%20%20%20%20%3Cdiv%20style%3D%27margin%3A%200%3B%20background-color%3A%20black%3B%20color%3A%20white%3B%27%3E%3Ch4%20style%3D%27text-align%3Acenter%3Bfont-weight%3A%20bold%27%3ETaiwan%2A%3C/h4%3E%3Chr%20style%3D%27margin%3A10px%3Bcolor%3A%20white%3B%27%3E%3Cul%20style%3D%27color%3A%20white%3B%3Blist-style-type%3Acircle%3Balign-item%3Aleft%3Bpadding-left%3A20px%3Bpadding-right%3A20px%27%3E%3Cli%3EConfirmed%3A%2017362%3C/li%3E%3C/ul%3E%3C/div%3E%0A%20%20%20%20%20%20%20%20%20%20%20%20%20%20%20%20%20%3C/div%3E%60%2C%0A%20%20%20%20%20%20%20%20%20%20%20%20%20%20%20%20%7B%22sticky%22%3A%20true%7D%0A%20%20%20%20%20%20%20%20%20%20%20%20%29%3B%0A%20%20%20%20%20%20%20%20%0A%20%20%20%20%0A%20%20%20%20%20%20%20%20%20%20%20%20var%20circle_6c80e1a770fd4476b9681fd12234396b%20%3D%20L.circle%28%0A%20%20%20%20%20%20%20%20%20%20%20%20%20%20%20%20%5B38.861%2C%2071.2761%5D%2C%0A%20%20%20%20%20%20%20%20%20%20%20%20%20%20%20%20%7B%22bubblingMouseEvents%22%3A%20true%2C%20%22color%22%3A%20%22red%22%2C%20%22dashArray%22%3A%20null%2C%20%22dashOffset%22%3A%20null%2C%20%22fill%22%3A%20true%2C%20%22fillColor%22%3A%20%22indigo%22%2C%20%22fillOpacity%22%3A%200.2%2C%20%22fillRule%22%3A%20%22evenodd%22%2C%20%22lineCap%22%3A%20%22round%22%2C%20%22lineJoin%22%3A%20%22round%22%2C%20%22opacity%22%3A%201.0%2C%20%22radius%22%3A%2092000.0%2C%20%22stroke%22%3A%20true%2C%20%22weight%22%3A%203%7D%0A%20%20%20%20%20%20%20%20%20%20%20%20%29.addTo%28map_eb660f0cadf14412ab360cc7dee84180%29%3B%0A%20%20%20%20%20%20%20%20%0A%20%20%20%20%0A%20%20%20%20%20%20%20%20%20%20%20%20circle_6c80e1a770fd4476b9681fd12234396b.bindTooltip%28%0A%20%20%20%20%20%20%20%20%20%20%20%20%20%20%20%20%60%3Cdiv%3E%0A%20%20%20%20%20%20%20%20%20%20%20%20%20%20%20%20%20%20%20%20%20%3Cdiv%20style%3D%27margin%3A%200%3B%20background-color%3A%20black%3B%20color%3A%20white%3B%27%3E%3Ch4%20style%3D%27text-align%3Acenter%3Bfont-weight%3A%20bold%27%3ETajikistan%3C/h4%3E%3Chr%20style%3D%27margin%3A10px%3Bcolor%3A%20white%3B%27%3E%3Cul%20style%3D%27color%3A%20white%3B%3Blist-style-type%3Acircle%3Balign-item%3Aleft%3Bpadding-left%3A20px%3Bpadding-right%3A20px%27%3E%3Cli%3EConfirmed%3A%2017493%3C/li%3E%3C/ul%3E%3C/div%3E%0A%20%20%20%20%20%20%20%20%20%20%20%20%20%20%20%20%20%3C/div%3E%60%2C%0A%20%20%20%20%20%20%20%20%20%20%20%20%20%20%20%20%7B%22sticky%22%3A%20true%7D%0A%20%20%20%20%20%20%20%20%20%20%20%20%29%3B%0A%20%20%20%20%20%20%20%20%0A%20%20%20%20%0A%20%20%20%20%20%20%20%20%20%20%20%20var%20circle_102e9fafe2b9455abcd205c9ba39855a%20%3D%20L.circle%28%0A%20%20%20%20%20%20%20%20%20%20%20%20%20%20%20%20%5B-6.369028%2C%2034.888822%5D%2C%0A%20%20%20%20%20%20%20%20%20%20%20%20%20%20%20%20%7B%22bubblingMouseEvents%22%3A%20true%2C%20%22color%22%3A%20%22red%22%2C%20%22dashArray%22%3A%20null%2C%20%22dashOffset%22%3A%20null%2C%20%22fill%22%3A%20true%2C%20%22fillColor%22%3A%20%22indigo%22%2C%20%22fillOpacity%22%3A%200.2%2C%20%22fillRule%22%3A%20%22evenodd%22%2C%20%22lineCap%22%3A%20%22round%22%2C%20%22lineJoin%22%3A%20%22round%22%2C%20%22opacity%22%3A%201.0%2C%20%22radius%22%3A%20102000.0%2C%20%22stroke%22%3A%20true%2C%20%22weight%22%3A%203%7D%0A%20%20%20%20%20%20%20%20%20%20%20%20%29.addTo%28map_eb660f0cadf14412ab360cc7dee84180%29%3B%0A%20%20%20%20%20%20%20%20%0A%20%20%20%20%0A%20%20%20%20%20%20%20%20%20%20%20%20circle_102e9fafe2b9455abcd205c9ba39855a.bindTooltip%28%0A%20%20%20%20%20%20%20%20%20%20%20%20%20%20%20%20%60%3Cdiv%3E%0A%20%20%20%20%20%20%20%20%20%20%20%20%20%20%20%20%20%20%20%20%20%3Cdiv%20style%3D%27margin%3A%200%3B%20background-color%3A%20black%3B%20color%3A%20white%3B%27%3E%3Ch4%20style%3D%27text-align%3Acenter%3Bfont-weight%3A%20bold%27%3ETanzania%3C/h4%3E%3Chr%20style%3D%27margin%3A10px%3Bcolor%3A%20white%3B%27%3E%3Cul%20style%3D%27color%3A%20white%3B%3Blist-style-type%3Acircle%3Balign-item%3Aleft%3Bpadding-left%3A20px%3Bpadding-right%3A20px%27%3E%3Cli%3EConfirmed%3A%2030564%3C/li%3E%3C/ul%3E%3C/div%3E%0A%20%20%20%20%20%20%20%20%20%20%20%20%20%20%20%20%20%3C/div%3E%60%2C%0A%20%20%20%20%20%20%20%20%20%20%20%20%20%20%20%20%7B%22sticky%22%3A%20true%7D%0A%20%20%20%20%20%20%20%20%20%20%20%20%29%3B%0A%20%20%20%20%20%20%20%20%0A%20%20%20%20%0A%20%20%20%20%20%20%20%20%20%20%20%20var%20circle_89c71ece91974b6a8e55a4e72857ebe8%20%3D%20L.circle%28%0A%20%20%20%20%20%20%20%20%20%20%20%20%20%20%20%20%5B15.870032%2C%20100.992541%5D%2C%0A%20%20%20%20%20%20%20%20%20%20%20%20%20%20%20%20%7B%22bubblingMouseEvents%22%3A%20true%2C%20%22color%22%3A%20%22red%22%2C%20%22dashArray%22%3A%20null%2C%20%22dashOffset%22%3A%20null%2C%20%22fill%22%3A%20true%2C%20%22fillColor%22%3A%20%22indigo%22%2C%20%22fillOpacity%22%3A%200.2%2C%20%22fillRule%22%3A%20%22evenodd%22%2C%20%22lineCap%22%3A%20%22round%22%2C%20%22lineJoin%22%3A%20%22round%22%2C%20%22opacity%22%3A%201.0%2C%20%22radius%22%3A%20142000.0%2C%20%22stroke%22%3A%20true%2C%20%22weight%22%3A%203%7D%0A%20%20%20%20%20%20%20%20%20%20%20%20%29.addTo%28map_eb660f0cadf14412ab360cc7dee84180%29%3B%0A%20%20%20%20%20%20%20%20%0A%20%20%20%20%0A%20%20%20%20%20%20%20%20%20%20%20%20circle_89c71ece91974b6a8e55a4e72857ebe8.bindTooltip%28%0A%20%20%20%20%20%20%20%20%20%20%20%20%20%20%20%20%60%3Cdiv%3E%0A%20%20%20%20%20%20%20%20%20%20%20%20%20%20%20%20%20%20%20%20%20%3Cdiv%20style%3D%27margin%3A%200%3B%20background-color%3A%20black%3B%20color%3A%20white%3B%27%3E%3Ch4%20style%3D%27text-align%3Acenter%3Bfont-weight%3A%20bold%27%3EThailand%3C/h4%3E%3Chr%20style%3D%27margin%3A10px%3Bcolor%3A%20white%3B%27%3E%3Cul%20style%3D%27color%3A%20white%3B%3Blist-style-type%3Acircle%3Balign-item%3Aleft%3Bpadding-left%3A20px%3Bpadding-right%3A20px%27%3E%3Cli%3EConfirmed%3A%202269550%3C/li%3E%3C/ul%3E%3C/div%3E%0A%20%20%20%20%20%20%20%20%20%20%20%20%20%20%20%20%20%3C/div%3E%60%2C%0A%20%20%20%20%20%20%20%20%20%20%20%20%20%20%20%20%7B%22sticky%22%3A%20true%7D%0A%20%20%20%20%20%20%20%20%20%20%20%20%29%3B%0A%20%20%20%20%20%20%20%20%0A%20%20%20%20%0A%20%20%20%20%20%20%20%20%20%20%20%20var%20circle_4b410076e516408f89019c3ea4eaf134%20%3D%20L.circle%28%0A%20%20%20%20%20%20%20%20%20%20%20%20%20%20%20%20%5B-8.874217%2C%20125.727539%5D%2C%0A%20%20%20%20%20%20%20%20%20%20%20%20%20%20%20%20%7B%22bubblingMouseEvents%22%3A%20true%2C%20%22color%22%3A%20%22red%22%2C%20%22dashArray%22%3A%20null%2C%20%22dashOffset%22%3A%20null%2C%20%22fill%22%3A%20true%2C%20%22fillColor%22%3A%20%22indigo%22%2C%20%22fillOpacity%22%3A%200.2%2C%20%22fillRule%22%3A%20%22evenodd%22%2C%20%22lineCap%22%3A%20%22round%22%2C%20%22lineJoin%22%3A%20%22round%22%2C%20%22opacity%22%3A%201.0%2C%20%22radius%22%3A%2092000.0%2C%20%22stroke%22%3A%20true%2C%20%22weight%22%3A%203%7D%0A%20%20%20%20%20%20%20%20%20%20%20%20%29.addTo%28map_eb660f0cadf14412ab360cc7dee84180%29%3B%0A%20%20%20%20%20%20%20%20%0A%20%20%20%20%0A%20%20%20%20%20%20%20%20%20%20%20%20circle_4b410076e516408f89019c3ea4eaf134.bindTooltip%28%0A%20%20%20%20%20%20%20%20%20%20%20%20%20%20%20%20%60%3Cdiv%3E%0A%20%20%20%20%20%20%20%20%20%20%20%20%20%20%20%20%20%20%20%20%20%3Cdiv%20style%3D%27margin%3A%200%3B%20background-color%3A%20black%3B%20color%3A%20white%3B%27%3E%3Ch4%20style%3D%27text-align%3Acenter%3Bfont-weight%3A%20bold%27%3ETimor-Leste%3C/h4%3E%3Chr%20style%3D%27margin%3A10px%3Bcolor%3A%20white%3B%27%3E%3Cul%20style%3D%27color%3A%20white%3B%3Blist-style-type%3Acircle%3Balign-item%3Aleft%3Bpadding-left%3A20px%3Bpadding-right%3A20px%27%3E%3Cli%3EConfirmed%3A%2019856%3C/li%3E%3C/ul%3E%3C/div%3E%0A%20%20%20%20%20%20%20%20%20%20%20%20%20%20%20%20%20%3C/div%3E%60%2C%0A%20%20%20%20%20%20%20%20%20%20%20%20%20%20%20%20%7B%22sticky%22%3A%20true%7D%0A%20%20%20%20%20%20%20%20%20%20%20%20%29%3B%0A%20%20%20%20%20%20%20%20%0A%20%20%20%20%0A%20%20%20%20%20%20%20%20%20%20%20%20var%20circle_717e83a712de4db88059afc22ca195a0%20%3D%20L.circle%28%0A%20%20%20%20%20%20%20%20%20%20%20%20%20%20%20%20%5B8.6195%2C%200.8248%5D%2C%0A%20%20%20%20%20%20%20%20%20%20%20%20%20%20%20%20%7B%22bubblingMouseEvents%22%3A%20true%2C%20%22color%22%3A%20%22red%22%2C%20%22dashArray%22%3A%20null%2C%20%22dashOffset%22%3A%20null%2C%20%22fill%22%3A%20true%2C%20%22fillColor%22%3A%20%22indigo%22%2C%20%22fillOpacity%22%3A%200.2%2C%20%22fillRule%22%3A%20%22evenodd%22%2C%20%22lineCap%22%3A%20%22round%22%2C%20%22lineJoin%22%3A%20%22round%22%2C%20%22opacity%22%3A%201.0%2C%20%22radius%22%3A%20102000.0%2C%20%22stroke%22%3A%20true%2C%20%22weight%22%3A%203%7D%0A%20%20%20%20%20%20%20%20%20%20%20%20%29.addTo%28map_eb660f0cadf14412ab360cc7dee84180%29%3B%0A%20%20%20%20%20%20%20%20%0A%20%20%20%20%0A%20%20%20%20%20%20%20%20%20%20%20%20circle_717e83a712de4db88059afc22ca195a0.bindTooltip%28%0A%20%20%20%20%20%20%20%20%20%20%20%20%20%20%20%20%60%3Cdiv%3E%0A%20%20%20%20%20%20%20%20%20%20%20%20%20%20%20%20%20%20%20%20%20%3Cdiv%20style%3D%27margin%3A%200%3B%20background-color%3A%20black%3B%20color%3A%20white%3B%27%3E%3Ch4%20style%3D%27text-align%3Acenter%3Bfont-weight%3A%20bold%27%3ETogo%3C/h4%3E%3Chr%20style%3D%27margin%3A10px%3Bcolor%3A%20white%3B%27%3E%3Cul%20style%3D%27color%3A%20white%3B%3Blist-style-type%3Acircle%3Balign-item%3Aleft%3Bpadding-left%3A20px%3Bpadding-right%3A20px%27%3E%3Cli%3EConfirmed%3A%2033915%3C/li%3E%3C/ul%3E%3C/div%3E%0A%20%20%20%20%20%20%20%20%20%20%20%20%20%20%20%20%20%3C/div%3E%60%2C%0A%20%20%20%20%20%20%20%20%20%20%20%20%20%20%20%20%7B%22sticky%22%3A%20true%7D%0A%20%20%20%20%20%20%20%20%20%20%20%20%29%3B%0A%20%20%20%20%20%20%20%20%0A%20%20%20%20%0A%20%20%20%20%20%20%20%20%20%20%20%20var%20circle_d28d383f319a4fe09768764bc927ce52%20%3D%20L.circle%28%0A%20%20%20%20%20%20%20%20%20%20%20%20%20%20%20%20%5B-21.179%2C%20-175.1982%5D%2C%0A%20%20%20%20%20%20%20%20%20%20%20%20%20%20%20%20%7B%22bubblingMouseEvents%22%3A%20true%2C%20%22color%22%3A%20%22red%22%2C%20%22dashArray%22%3A%20null%2C%20%22dashOffset%22%3A%20null%2C%20%22fill%22%3A%20true%2C%20%22fillColor%22%3A%20%22indigo%22%2C%20%22fillOpacity%22%3A%200.2%2C%20%22fillRule%22%3A%20%22evenodd%22%2C%20%22lineCap%22%3A%20%22round%22%2C%20%22lineJoin%22%3A%20%22round%22%2C%20%22opacity%22%3A%201.0%2C%20%22radius%22%3A%202000.0%2C%20%22stroke%22%3A%20true%2C%20%22weight%22%3A%203%7D%0A%20%20%20%20%20%20%20%20%20%20%20%20%29.addTo%28map_eb660f0cadf14412ab360cc7dee84180%29%3B%0A%20%20%20%20%20%20%20%20%0A%20%20%20%20%0A%20%20%20%20%20%20%20%20%20%20%20%20circle_d28d383f319a4fe09768764bc927ce52.bindTooltip%28%0A%20%20%20%20%20%20%20%20%20%20%20%20%20%20%20%20%60%3Cdiv%3E%0A%20%20%20%20%20%20%20%20%20%20%20%20%20%20%20%20%20%20%20%20%20%3Cdiv%20style%3D%27margin%3A%200%3B%20background-color%3A%20black%3B%20color%3A%20white%3B%27%3E%3Ch4%20style%3D%27text-align%3Acenter%3Bfont-weight%3A%20bold%27%3ETonga%3C/h4%3E%3Chr%20style%3D%27margin%3A10px%3Bcolor%3A%20white%3B%27%3E%3Cul%20style%3D%27color%3A%20white%3B%3Blist-style-type%3Acircle%3Balign-item%3Aleft%3Bpadding-left%3A20px%3Bpadding-right%3A20px%27%3E%3Cli%3EConfirmed%3A%201%3C/li%3E%3C/ul%3E%3C/div%3E%0A%20%20%20%20%20%20%20%20%20%20%20%20%20%20%20%20%20%3C/div%3E%60%2C%0A%20%20%20%20%20%20%20%20%20%20%20%20%20%20%20%20%7B%22sticky%22%3A%20true%7D%0A%20%20%20%20%20%20%20%20%20%20%20%20%29%3B%0A%20%20%20%20%20%20%20%20%0A%20%20%20%20%0A%20%20%20%20%20%20%20%20%20%20%20%20var%20circle_cd88f795804b4cd380b05274a872008e%20%3D%20L.circle%28%0A%20%20%20%20%20%20%20%20%20%20%20%20%20%20%20%20%5B10.6918%2C%20-61.2225%5D%2C%0A%20%20%20%20%20%20%20%20%20%20%20%20%20%20%20%20%7B%22bubblingMouseEvents%22%3A%20true%2C%20%22color%22%3A%20%22red%22%2C%20%22dashArray%22%3A%20null%2C%20%22dashOffset%22%3A%20null%2C%20%22fill%22%3A%20true%2C%20%22fillColor%22%3A%20%22indigo%22%2C%20%22fillOpacity%22%3A%200.2%2C%20%22fillRule%22%3A%20%22evenodd%22%2C%20%22lineCap%22%3A%20%22round%22%2C%20%22lineJoin%22%3A%20%22round%22%2C%20%22opacity%22%3A%201.0%2C%20%22radius%22%3A%20112000.0%2C%20%22stroke%22%3A%20true%2C%20%22weight%22%3A%203%7D%0A%20%20%20%20%20%20%20%20%20%20%20%20%29.addTo%28map_eb660f0cadf14412ab360cc7dee84180%29%3B%0A%20%20%20%20%20%20%20%20%0A%20%20%20%20%0A%20%20%20%20%20%20%20%20%20%20%20%20circle_cd88f795804b4cd380b05274a872008e.bindTooltip%28%0A%20%20%20%20%20%20%20%20%20%20%20%20%20%20%20%20%60%3Cdiv%3E%0A%20%20%20%20%20%20%20%20%20%20%20%20%20%20%20%20%20%20%20%20%20%3Cdiv%20style%3D%27margin%3A%200%3B%20background-color%3A%20black%3B%20color%3A%20white%3B%27%3E%3Ch4%20style%3D%27text-align%3Acenter%3Bfont-weight%3A%20bold%27%3ETrinidad%20and%20Tobago%3C/h4%3E%3Chr%20style%3D%27margin%3A10px%3Bcolor%3A%20white%3B%27%3E%3Cul%20style%3D%27color%3A%20white%3B%3Blist-style-type%3Acircle%3Balign-item%3Aleft%3Bpadding-left%3A20px%3Bpadding-right%3A20px%27%3E%3Cli%3EConfirmed%3A%2096952%3C/li%3E%3C/ul%3E%3C/div%3E%0A%20%20%20%20%20%20%20%20%20%20%20%20%20%20%20%20%20%3C/div%3E%60%2C%0A%20%20%20%20%20%20%20%20%20%20%20%20%20%20%20%20%7B%22sticky%22%3A%20true%7D%0A%20%20%20%20%20%20%20%20%20%20%20%20%29%3B%0A%20%20%20%20%20%20%20%20%0A%20%20%20%20%0A%20%20%20%20%20%20%20%20%20%20%20%20var%20circle_0861ec1ca7554e5aac52e2bae42b3a50%20%3D%20L.circle%28%0A%20%20%20%20%20%20%20%20%20%20%20%20%20%20%20%20%5B33.886917%2C%209.537499%5D%2C%0A%20%20%20%20%20%20%20%20%20%20%20%20%20%20%20%20%7B%22bubblingMouseEvents%22%3A%20true%2C%20%22color%22%3A%20%22red%22%2C%20%22dashArray%22%3A%20null%2C%20%22dashOffset%22%3A%20null%2C%20%22fill%22%3A%20true%2C%20%22fillColor%22%3A%20%22indigo%22%2C%20%22fillOpacity%22%3A%200.2%2C%20%22fillRule%22%3A%20%22evenodd%22%2C%20%22lineCap%22%3A%20%22round%22%2C%20%22lineJoin%22%3A%20%22round%22%2C%20%22opacity%22%3A%201.0%2C%20%22radius%22%3A%20132000.0%2C%20%22stroke%22%3A%20true%2C%20%22weight%22%3A%203%7D%0A%20%20%20%20%20%20%20%20%20%20%20%20%29.addTo%28map_eb660f0cadf14412ab360cc7dee84180%29%3B%0A%20%20%20%20%20%20%20%20%0A%20%20%20%20%0A%20%20%20%20%20%20%20%20%20%20%20%20circle_0861ec1ca7554e5aac52e2bae42b3a50.bindTooltip%28%0A%20%20%20%20%20%20%20%20%20%20%20%20%20%20%20%20%60%3Cdiv%3E%0A%20%20%20%20%20%20%20%20%20%20%20%20%20%20%20%20%20%20%20%20%20%3Cdiv%20style%3D%27margin%3A%200%3B%20background-color%3A%20black%3B%20color%3A%20white%3B%27%3E%3Ch4%20style%3D%27text-align%3Acenter%3Bfont-weight%3A%20bold%27%3ETunisia%3C/h4%3E%3Chr%20style%3D%27margin%3A10px%3Bcolor%3A%20white%3B%27%3E%3Cul%20style%3D%27color%3A%20white%3B%3Blist-style-type%3Acircle%3Balign-item%3Aleft%3Bpadding-left%3A20px%3Bpadding-right%3A20px%27%3E%3Cli%3EConfirmed%3A%20743838%3C/li%3E%3C/ul%3E%3C/div%3E%0A%20%20%20%20%20%20%20%20%20%20%20%20%20%20%20%20%20%3C/div%3E%60%2C%0A%20%20%20%20%20%20%20%20%20%20%20%20%20%20%20%20%7B%22sticky%22%3A%20true%7D%0A%20%20%20%20%20%20%20%20%20%20%20%20%29%3B%0A%20%20%20%20%20%20%20%20%0A%20%20%20%20%0A%20%20%20%20%20%20%20%20%20%20%20%20var%20circle_0144a42e04164ef68e6367a8ca6ca674%20%3D%20L.circle%28%0A%20%20%20%20%20%20%20%20%20%20%20%20%20%20%20%20%5B38.9637%2C%2035.2433%5D%2C%0A%20%20%20%20%20%20%20%20%20%20%20%20%20%20%20%20%7B%22bubblingMouseEvents%22%3A%20true%2C%20%22color%22%3A%20%22red%22%2C%20%22dashArray%22%3A%20null%2C%20%22dashOffset%22%3A%20null%2C%20%22fill%22%3A%20true%2C%20%22fillColor%22%3A%20%22indigo%22%2C%20%22fillOpacity%22%3A%200.2%2C%20%22fillRule%22%3A%20%22evenodd%22%2C%20%22lineCap%22%3A%20%22round%22%2C%20%22lineJoin%22%3A%20%22round%22%2C%20%22opacity%22%3A%201.0%2C%20%22radius%22%3A%20162000.0%2C%20%22stroke%22%3A%20true%2C%20%22weight%22%3A%203%7D%0A%20%20%20%20%20%20%20%20%20%20%20%20%29.addTo%28map_eb660f0cadf14412ab360cc7dee84180%29%3B%0A%20%20%20%20%20%20%20%20%0A%20%20%20%20%0A%20%20%20%20%20%20%20%20%20%20%20%20circle_0144a42e04164ef68e6367a8ca6ca674.bindTooltip%28%0A%20%20%20%20%20%20%20%20%20%20%20%20%20%20%20%20%60%3Cdiv%3E%0A%20%20%20%20%20%20%20%20%20%20%20%20%20%20%20%20%20%20%20%20%20%3Cdiv%20style%3D%27margin%3A%200%3B%20background-color%3A%20black%3B%20color%3A%20white%3B%27%3E%3Ch4%20style%3D%27text-align%3Acenter%3Bfont-weight%3A%20bold%27%3ETurkey%3C/h4%3E%3Chr%20style%3D%27margin%3A10px%3Bcolor%3A%20white%3B%27%3E%3Cul%20style%3D%27color%3A%20white%3B%3Blist-style-type%3Acircle%3Balign-item%3Aleft%3Bpadding-left%3A20px%3Bpadding-right%3A20px%27%3E%3Cli%3EConfirmed%3A%209980422%3C/li%3E%3C/ul%3E%3C/div%3E%0A%20%20%20%20%20%20%20%20%20%20%20%20%20%20%20%20%20%3C/div%3E%60%2C%0A%20%20%20%20%20%20%20%20%20%20%20%20%20%20%20%20%7B%22sticky%22%3A%20true%7D%0A%20%20%20%20%20%20%20%20%20%20%20%20%29%3B%0A%20%20%20%20%20%20%20%20%0A%20%20%20%20%0A%20%20%20%20%20%20%20%20%20%20%20%20var%20circle_18d97e507ff7452e9fb89be196cb216b%20%3D%20L.circle%28%0A%20%20%20%20%20%20%20%20%20%20%20%20%20%20%20%20%5B40.0%2C%20-100.0%5D%2C%0A%20%20%20%20%20%20%20%20%20%20%20%20%20%20%20%20%7B%22bubblingMouseEvents%22%3A%20true%2C%20%22color%22%3A%20%22red%22%2C%20%22dashArray%22%3A%20null%2C%20%22dashOffset%22%3A%20null%2C%20%22fill%22%3A%20true%2C%20%22fillColor%22%3A%20%22indigo%22%2C%20%22fillOpacity%22%3A%200.2%2C%20%22fillRule%22%3A%20%22evenodd%22%2C%20%22lineCap%22%3A%20%22round%22%2C%20%22lineJoin%22%3A%20%22round%22%2C%20%22opacity%22%3A%201.0%2C%20%22radius%22%3A%20172000.0%2C%20%22stroke%22%3A%20true%2C%20%22weight%22%3A%203%7D%0A%20%20%20%20%20%20%20%20%20%20%20%20%29.addTo%28map_eb660f0cadf14412ab360cc7dee84180%29%3B%0A%20%20%20%20%20%20%20%20%0A%20%20%20%20%0A%20%20%20%20%20%20%20%20%20%20%20%20circle_18d97e507ff7452e9fb89be196cb216b.bindTooltip%28%0A%20%20%20%20%20%20%20%20%20%20%20%20%20%20%20%20%60%3Cdiv%3E%0A%20%20%20%20%20%20%20%20%20%20%20%20%20%20%20%20%20%20%20%20%20%3Cdiv%20style%3D%27margin%3A%200%3B%20background-color%3A%20black%3B%20color%3A%20white%3B%27%3E%3Ch4%20style%3D%27text-align%3Acenter%3Bfont-weight%3A%20bold%27%3EUS%3C/h4%3E%3Chr%20style%3D%27margin%3A10px%3Bcolor%3A%20white%3B%27%3E%3Cul%20style%3D%27color%3A%20white%3B%3Blist-style-type%3Acircle%3Balign-item%3Aleft%3Bpadding-left%3A20px%3Bpadding-right%3A20px%27%3E%3Cli%3EConfirmed%3A%2060072321%3C/li%3E%3C/ul%3E%3C/div%3E%0A%20%20%20%20%20%20%20%20%20%20%20%20%20%20%20%20%20%3C/div%3E%60%2C%0A%20%20%20%20%20%20%20%20%20%20%20%20%20%20%20%20%7B%22sticky%22%3A%20true%7D%0A%20%20%20%20%20%20%20%20%20%20%20%20%29%3B%0A%20%20%20%20%20%20%20%20%0A%20%20%20%20%0A%20%20%20%20%20%20%20%20%20%20%20%20var%20circle_d6900133eee045018656608c0ec37533%20%3D%20L.circle%28%0A%20%20%20%20%20%20%20%20%20%20%20%20%20%20%20%20%5B1.373333%2C%2032.290275%5D%2C%0A%20%20%20%20%20%20%20%20%20%20%20%20%20%20%20%20%7B%22bubblingMouseEvents%22%3A%20true%2C%20%22color%22%3A%20%22red%22%2C%20%22dashArray%22%3A%20null%2C%20%22dashOffset%22%3A%20null%2C%20%22fill%22%3A%20true%2C%20%22fillColor%22%3A%20%22indigo%22%2C%20%22fillOpacity%22%3A%200.2%2C%20%22fillRule%22%3A%20%22evenodd%22%2C%20%22lineCap%22%3A%20%22round%22%2C%20%22lineJoin%22%3A%20%22round%22%2C%20%22opacity%22%3A%201.0%2C%20%22radius%22%3A%20112000.0%2C%20%22stroke%22%3A%20true%2C%20%22weight%22%3A%203%7D%0A%20%20%20%20%20%20%20%20%20%20%20%20%29.addTo%28map_eb660f0cadf14412ab360cc7dee84180%29%3B%0A%20%20%20%20%20%20%20%20%0A%20%20%20%20%0A%20%20%20%20%20%20%20%20%20%20%20%20circle_d6900133eee045018656608c0ec37533.bindTooltip%28%0A%20%20%20%20%20%20%20%20%20%20%20%20%20%20%20%20%60%3Cdiv%3E%0A%20%20%20%20%20%20%20%20%20%20%20%20%20%20%20%20%20%20%20%20%20%3Cdiv%20style%3D%27margin%3A%200%3B%20background-color%3A%20black%3B%20color%3A%20white%3B%27%3E%3Ch4%20style%3D%27text-align%3Acenter%3Bfont-weight%3A%20bold%27%3EUganda%3C/h4%3E%3Chr%20style%3D%27margin%3A10px%3Bcolor%3A%20white%3B%27%3E%3Cul%20style%3D%27color%3A%20white%3B%3Blist-style-type%3Acircle%3Balign-item%3Aleft%3Bpadding-left%3A20px%3Bpadding-right%3A20px%27%3E%3Cli%3EConfirmed%3A%20153762%3C/li%3E%3C/ul%3E%3C/div%3E%0A%20%20%20%20%20%20%20%20%20%20%20%20%20%20%20%20%20%3C/div%3E%60%2C%0A%20%20%20%20%20%20%20%20%20%20%20%20%20%20%20%20%7B%22sticky%22%3A%20true%7D%0A%20%20%20%20%20%20%20%20%20%20%20%20%29%3B%0A%20%20%20%20%20%20%20%20%0A%20%20%20%20%0A%20%20%20%20%20%20%20%20%20%20%20%20var%20circle_8861049a8680477f91cfac596f1e0dc0%20%3D%20L.circle%28%0A%20%20%20%20%20%20%20%20%20%20%20%20%20%20%20%20%5B48.3794%2C%2031.1656%5D%2C%0A%20%20%20%20%20%20%20%20%20%20%20%20%20%20%20%20%7B%22bubblingMouseEvents%22%3A%20true%2C%20%22color%22%3A%20%22red%22%2C%20%22dashArray%22%3A%20null%2C%20%22dashOffset%22%3A%20null%2C%20%22fill%22%3A%20true%2C%20%22fillColor%22%3A%20%22indigo%22%2C%20%22fillOpacity%22%3A%200.2%2C%20%22fillRule%22%3A%20%22evenodd%22%2C%20%22lineCap%22%3A%20%22round%22%2C%20%22lineJoin%22%3A%20%22round%22%2C%20%22opacity%22%3A%201.0%2C%20%22radius%22%3A%20152000.0%2C%20%22stroke%22%3A%20true%2C%20%22weight%22%3A%203%7D%0A%20%20%20%20%20%20%20%20%20%20%20%20%29.addTo%28map_eb660f0cadf14412ab360cc7dee84180%29%3B%0A%20%20%20%20%20%20%20%20%0A%20%20%20%20%0A%20%20%20%20%20%20%20%20%20%20%20%20circle_8861049a8680477f91cfac596f1e0dc0.bindTooltip%28%0A%20%20%20%20%20%20%20%20%20%20%20%20%20%20%20%20%60%3Cdiv%3E%0A%20%20%20%20%20%20%20%20%20%20%20%20%20%20%20%20%20%20%20%20%20%3Cdiv%20style%3D%27margin%3A%200%3B%20background-color%3A%20black%3B%20color%3A%20white%3B%27%3E%3Ch4%20style%3D%27text-align%3Acenter%3Bfont-weight%3A%20bold%27%3EUkraine%3C/h4%3E%3Chr%20style%3D%27margin%3A10px%3Bcolor%3A%20white%3B%27%3E%3Cul%20style%3D%27color%3A%20white%3B%3Blist-style-type%3Acircle%3Balign-item%3Aleft%3Bpadding-left%3A20px%3Bpadding-right%3A20px%27%3E%3Cli%3EConfirmed%3A%203883316%3C/li%3E%3C/ul%3E%3C/div%3E%0A%20%20%20%20%20%20%20%20%20%20%20%20%20%20%20%20%20%3C/div%3E%60%2C%0A%20%20%20%20%20%20%20%20%20%20%20%20%20%20%20%20%7B%22sticky%22%3A%20true%7D%0A%20%20%20%20%20%20%20%20%20%20%20%20%29%3B%0A%20%20%20%20%20%20%20%20%0A%20%20%20%20%0A%20%20%20%20%20%20%20%20%20%20%20%20var%20circle_171e7da58a324ce6b5e7aed48cf95862%20%3D%20L.circle%28%0A%20%20%20%20%20%20%20%20%20%20%20%20%20%20%20%20%5B23.424076%2C%2053.847818%5D%2C%0A%20%20%20%20%20%20%20%20%20%20%20%20%20%20%20%20%7B%22bubblingMouseEvents%22%3A%20true%2C%20%22color%22%3A%20%22red%22%2C%20%22dashArray%22%3A%20null%2C%20%22dashOffset%22%3A%20null%2C%20%22fill%22%3A%20true%2C%20%22fillColor%22%3A%20%22indigo%22%2C%20%22fillOpacity%22%3A%200.2%2C%20%22fillRule%22%3A%20%22evenodd%22%2C%20%22lineCap%22%3A%20%22round%22%2C%20%22lineJoin%22%3A%20%22round%22%2C%20%22opacity%22%3A%201.0%2C%20%22radius%22%3A%20132000.0%2C%20%22stroke%22%3A%20true%2C%20%22weight%22%3A%203%7D%0A%20%20%20%20%20%20%20%20%20%20%20%20%29.addTo%28map_eb660f0cadf14412ab360cc7dee84180%29%3B%0A%20%20%20%20%20%20%20%20%0A%20%20%20%20%0A%20%20%20%20%20%20%20%20%20%20%20%20circle_171e7da58a324ce6b5e7aed48cf95862.bindTooltip%28%0A%20%20%20%20%20%20%20%20%20%20%20%20%20%20%20%20%60%3Cdiv%3E%0A%20%20%20%20%20%20%20%20%20%20%20%20%20%20%20%20%20%20%20%20%20%3Cdiv%20style%3D%27margin%3A%200%3B%20background-color%3A%20black%3B%20color%3A%20white%3B%27%3E%3Ch4%20style%3D%27text-align%3Acenter%3Bfont-weight%3A%20bold%27%3EUnited%20Arab%20Emirates%3C/h4%3E%3Chr%20style%3D%27margin%3A10px%3Bcolor%3A%20white%3B%27%3E%3Cul%20style%3D%27color%3A%20white%3B%3Blist-style-type%3Acircle%3Balign-item%3Aleft%3Bpadding-left%3A20px%3Bpadding-right%3A20px%27%3E%3Cli%3EConfirmed%3A%20785625%3C/li%3E%3C/ul%3E%3C/div%3E%0A%20%20%20%20%20%20%20%20%20%20%20%20%20%20%20%20%20%3C/div%3E%60%2C%0A%20%20%20%20%20%20%20%20%20%20%20%20%20%20%20%20%7B%22sticky%22%3A%20true%7D%0A%20%20%20%20%20%20%20%20%20%20%20%20%29%3B%0A%20%20%20%20%20%20%20%20%0A%20%20%20%20%0A%20%20%20%20%20%20%20%20%20%20%20%20var%20circle_a317c1083c144791ae0368f8fee9a682%20%3D%20L.circle%28%0A%20%20%20%20%20%20%20%20%20%20%20%20%20%20%20%20%5B18.2206%2C%20-63.0686%5D%2C%0A%20%20%20%20%20%20%20%20%20%20%20%20%20%20%20%20%7B%22bubblingMouseEvents%22%3A%20true%2C%20%22color%22%3A%20%22red%22%2C%20%22dashArray%22%3A%20null%2C%20%22dashOffset%22%3A%20null%2C%20%22fill%22%3A%20true%2C%20%22fillColor%22%3A%20%22indigo%22%2C%20%22fillOpacity%22%3A%200.2%2C%20%22fillRule%22%3A%20%22evenodd%22%2C%20%22lineCap%22%3A%20%22round%22%2C%20%22lineJoin%22%3A%20%22round%22%2C%20%22opacity%22%3A%201.0%2C%20%22radius%22%3A%2072000.0%2C%20%22stroke%22%3A%20true%2C%20%22weight%22%3A%203%7D%0A%20%20%20%20%20%20%20%20%20%20%20%20%29.addTo%28map_eb660f0cadf14412ab360cc7dee84180%29%3B%0A%20%20%20%20%20%20%20%20%0A%20%20%20%20%0A%20%20%20%20%20%20%20%20%20%20%20%20circle_a317c1083c144791ae0368f8fee9a682.bindTooltip%28%0A%20%20%20%20%20%20%20%20%20%20%20%20%20%20%20%20%60%3Cdiv%3E%0A%20%20%20%20%20%20%20%20%20%20%20%20%20%20%20%20%20%20%20%20%20%3Cdiv%20style%3D%27margin%3A%200%3B%20background-color%3A%20black%3B%20color%3A%20white%3B%27%3E%3Ch4%20style%3D%27text-align%3Acenter%3Bfont-weight%3A%20bold%27%3EUnited%20Kingdom%3C/h4%3E%3Chr%20style%3D%27margin%3A10px%3Bcolor%3A%20white%3B%27%3E%3Cul%20style%3D%27color%3A%20white%3B%3Blist-style-type%3Acircle%3Balign-item%3Aleft%3Bpadding-left%3A20px%3Bpadding-right%3A20px%27%3E%3Cli%3EConfirmed%3A%201777%3C/li%3E%3C/ul%3E%3C/div%3E%0A%20%20%20%20%20%20%20%20%20%20%20%20%20%20%20%20%20%3C/div%3E%60%2C%0A%20%20%20%20%20%20%20%20%20%20%20%20%20%20%20%20%7B%22sticky%22%3A%20true%7D%0A%20%20%20%20%20%20%20%20%20%20%20%20%29%3B%0A%20%20%20%20%20%20%20%20%0A%20%20%20%20%0A%20%20%20%20%20%20%20%20%20%20%20%20var%20circle_2cf8da1f7c07460a982b92dc95b27ac5%20%3D%20L.circle%28%0A%20%20%20%20%20%20%20%20%20%20%20%20%20%20%20%20%5B32.3078%2C%20-64.7505%5D%2C%0A%20%20%20%20%20%20%20%20%20%20%20%20%20%20%20%20%7B%22bubblingMouseEvents%22%3A%20true%2C%20%22color%22%3A%20%22red%22%2C%20%22dashArray%22%3A%20null%2C%20%22dashOffset%22%3A%20null%2C%20%22fill%22%3A%20true%2C%20%22fillColor%22%3A%20%22indigo%22%2C%20%22fillOpacity%22%3A%200.2%2C%20%22fillRule%22%3A%20%22evenodd%22%2C%20%22lineCap%22%3A%20%22round%22%2C%20%22lineJoin%22%3A%20%22round%22%2C%20%22opacity%22%3A%201.0%2C%20%22radius%22%3A%2082000.0%2C%20%22stroke%22%3A%20true%2C%20%22weight%22%3A%203%7D%0A%20%20%20%20%20%20%20%20%20%20%20%20%29.addTo%28map_eb660f0cadf14412ab360cc7dee84180%29%3B%0A%20%20%20%20%20%20%20%20%0A%20%20%20%20%0A%20%20%20%20%20%20%20%20%20%20%20%20circle_2cf8da1f7c07460a982b92dc95b27ac5.bindTooltip%28%0A%20%20%20%20%20%20%20%20%20%20%20%20%20%20%20%20%60%3Cdiv%3E%0A%20%20%20%20%20%20%20%20%20%20%20%20%20%20%20%20%20%20%20%20%20%3Cdiv%20style%3D%27margin%3A%200%3B%20background-color%3A%20black%3B%20color%3A%20white%3B%27%3E%3Ch4%20style%3D%27text-align%3Acenter%3Bfont-weight%3A%20bold%27%3EUnited%20Kingdom%3C/h4%3E%3Chr%20style%3D%27margin%3A10px%3Bcolor%3A%20white%3B%27%3E%3Cul%20style%3D%27color%3A%20white%3B%3Blist-style-type%3Acircle%3Balign-item%3Aleft%3Bpadding-left%3A20px%3Bpadding-right%3A20px%27%3E%3Cli%3EConfirmed%3A%207191%3C/li%3E%3C/ul%3E%3C/div%3E%0A%20%20%20%20%20%20%20%20%20%20%20%20%20%20%20%20%20%3C/div%3E%60%2C%0A%20%20%20%20%20%20%20%20%20%20%20%20%20%20%20%20%7B%22sticky%22%3A%20true%7D%0A%20%20%20%20%20%20%20%20%20%20%20%20%29%3B%0A%20%20%20%20%20%20%20%20%0A%20%20%20%20%0A%20%20%20%20%20%20%20%20%20%20%20%20var%20circle_3b9d22d914ee4ca18e457bf4d2f2b53a%20%3D%20L.circle%28%0A%20%20%20%20%20%20%20%20%20%20%20%20%20%20%20%20%5B18.4207%2C%20-64.64%5D%2C%0A%20%20%20%20%20%20%20%20%20%20%20%20%20%20%20%20%7B%22bubblingMouseEvents%22%3A%20true%2C%20%22color%22%3A%20%22red%22%2C%20%22dashArray%22%3A%20null%2C%20%22dashOffset%22%3A%20null%2C%20%22fill%22%3A%20true%2C%20%22fillColor%22%3A%20%22indigo%22%2C%20%22fillOpacity%22%3A%200.2%2C%20%22fillRule%22%3A%20%22evenodd%22%2C%20%22lineCap%22%3A%20%22round%22%2C%20%22lineJoin%22%3A%20%22round%22%2C%20%22opacity%22%3A%201.0%2C%20%22radius%22%3A%2082000.0%2C%20%22stroke%22%3A%20true%2C%20%22weight%22%3A%203%7D%0A%20%20%20%20%20%20%20%20%20%20%20%20%29.addTo%28map_eb660f0cadf14412ab360cc7dee84180%29%3B%0A%20%20%20%20%20%20%20%20%0A%20%20%20%20%0A%20%20%20%20%20%20%20%20%20%20%20%20circle_3b9d22d914ee4ca18e457bf4d2f2b53a.bindTooltip%28%0A%20%20%20%20%20%20%20%20%20%20%20%20%20%20%20%20%60%3Cdiv%3E%0A%20%20%20%20%20%20%20%20%20%20%20%20%20%20%20%20%20%20%20%20%20%3Cdiv%20style%3D%27margin%3A%200%3B%20background-color%3A%20black%3B%20color%3A%20white%3B%27%3E%3Ch4%20style%3D%27text-align%3Acenter%3Bfont-weight%3A%20bold%27%3EUnited%20Kingdom%3C/h4%3E%3Chr%20style%3D%27margin%3A10px%3Bcolor%3A%20white%3B%27%3E%3Cul%20style%3D%27color%3A%20white%3B%3Blist-style-type%3Acircle%3Balign-item%3Aleft%3Bpadding-left%3A20px%3Bpadding-right%3A20px%27%3E%3Cli%3EConfirmed%3A%204207%3C/li%3E%3C/ul%3E%3C/div%3E%0A%20%20%20%20%20%20%20%20%20%20%20%20%20%20%20%20%20%3C/div%3E%60%2C%0A%20%20%20%20%20%20%20%20%20%20%20%20%20%20%20%20%7B%22sticky%22%3A%20true%7D%0A%20%20%20%20%20%20%20%20%20%20%20%20%29%3B%0A%20%20%20%20%20%20%20%20%0A%20%20%20%20%0A%20%20%20%20%20%20%20%20%20%20%20%20var%20circle_005f9429d8b944cdbbc90c6afdfe35ee%20%3D%20L.circle%28%0A%20%20%20%20%20%20%20%20%20%20%20%20%20%20%20%20%5B19.3133%2C%20-81.2546%5D%2C%0A%20%20%20%20%20%20%20%20%20%20%20%20%20%20%20%20%7B%22bubblingMouseEvents%22%3A%20true%2C%20%22color%22%3A%20%22red%22%2C%20%22dashArray%22%3A%20null%2C%20%22dashOffset%22%3A%20null%2C%20%22fill%22%3A%20true%2C%20%22fillColor%22%3A%20%22indigo%22%2C%20%22fillOpacity%22%3A%200.2%2C%20%22fillRule%22%3A%20%22evenodd%22%2C%20%22lineCap%22%3A%20%22round%22%2C%20%22lineJoin%22%3A%20%22round%22%2C%20%22opacity%22%3A%201.0%2C%20%22radius%22%3A%2092000.0%2C%20%22stroke%22%3A%20true%2C%20%22weight%22%3A%203%7D%0A%20%20%20%20%20%20%20%20%20%20%20%20%29.addTo%28map_eb660f0cadf14412ab360cc7dee84180%29%3B%0A%20%20%20%20%20%20%20%20%0A%20%20%20%20%0A%20%20%20%20%20%20%20%20%20%20%20%20circle_005f9429d8b944cdbbc90c6afdfe35ee.bindTooltip%28%0A%20%20%20%20%20%20%20%20%20%20%20%20%20%20%20%20%60%3Cdiv%3E%0A%20%20%20%20%20%20%20%20%20%20%20%20%20%20%20%20%20%20%20%20%20%3Cdiv%20style%3D%27margin%3A%200%3B%20background-color%3A%20black%3B%20color%3A%20white%3B%27%3E%3Ch4%20style%3D%27text-align%3Acenter%3Bfont-weight%3A%20bold%27%3EUnited%20Kingdom%3C/h4%3E%3Chr%20style%3D%27margin%3A10px%3Bcolor%3A%20white%3B%27%3E%3Cul%20style%3D%27color%3A%20white%3B%3Blist-style-type%3Acircle%3Balign-item%3Aleft%3Bpadding-left%3A20px%3Bpadding-right%3A20px%27%3E%3Cli%3EConfirmed%3A%2010618%3C/li%3E%3C/ul%3E%3C/div%3E%0A%20%20%20%20%20%20%20%20%20%20%20%20%20%20%20%20%20%3C/div%3E%60%2C%0A%20%20%20%20%20%20%20%20%20%20%20%20%20%20%20%20%7B%22sticky%22%3A%20true%7D%0A%20%20%20%20%20%20%20%20%20%20%20%20%29%3B%0A%20%20%20%20%20%20%20%20%0A%20%20%20%20%0A%20%20%20%20%20%20%20%20%20%20%20%20var%20circle_ec00264955ed468b8a2b258531d8cdbd%20%3D%20L.circle%28%0A%20%20%20%20%20%20%20%20%20%20%20%20%20%20%20%20%5B49.3723%2C%20-2.3644%5D%2C%0A%20%20%20%20%20%20%20%20%20%20%20%20%20%20%20%20%7B%22bubblingMouseEvents%22%3A%20true%2C%20%22color%22%3A%20%22red%22%2C%20%22dashArray%22%3A%20null%2C%20%22dashOffset%22%3A%20null%2C%20%22fill%22%3A%20true%2C%20%22fillColor%22%3A%20%22indigo%22%2C%20%22fillOpacity%22%3A%200.2%2C%20%22fillRule%22%3A%20%22evenodd%22%2C%20%22lineCap%22%3A%20%22round%22%2C%20%22lineJoin%22%3A%20%22round%22%2C%20%22opacity%22%3A%201.0%2C%20%22radius%22%3A%20102000.0%2C%20%22stroke%22%3A%20true%2C%20%22weight%22%3A%203%7D%0A%20%20%20%20%20%20%20%20%20%20%20%20%29.addTo%28map_eb660f0cadf14412ab360cc7dee84180%29%3B%0A%20%20%20%20%20%20%20%20%0A%20%20%20%20%0A%20%20%20%20%20%20%20%20%20%20%20%20circle_ec00264955ed468b8a2b258531d8cdbd.bindTooltip%28%0A%20%20%20%20%20%20%20%20%20%20%20%20%20%20%20%20%60%3Cdiv%3E%0A%20%20%20%20%20%20%20%20%20%20%20%20%20%20%20%20%20%20%20%20%20%3Cdiv%20style%3D%27margin%3A%200%3B%20background-color%3A%20black%3B%20color%3A%20white%3B%27%3E%3Ch4%20style%3D%27text-align%3Acenter%3Bfont-weight%3A%20bold%27%3EUnited%20Kingdom%3C/h4%3E%3Chr%20style%3D%27margin%3A10px%3Bcolor%3A%20white%3B%27%3E%3Cul%20style%3D%27color%3A%20white%3B%3Blist-style-type%3Acircle%3Balign-item%3Aleft%3Bpadding-left%3A20px%3Bpadding-right%3A20px%27%3E%3Cli%3EConfirmed%3A%2032409%3C/li%3E%3C/ul%3E%3C/div%3E%0A%20%20%20%20%20%20%20%20%20%20%20%20%20%20%20%20%20%3C/div%3E%60%2C%0A%20%20%20%20%20%20%20%20%20%20%20%20%20%20%20%20%7B%22sticky%22%3A%20true%7D%0A%20%20%20%20%20%20%20%20%20%20%20%20%29%3B%0A%20%20%20%20%20%20%20%20%0A%20%20%20%20%0A%20%20%20%20%20%20%20%20%20%20%20%20var%20circle_e8651a62af0b4f4cb91f11b7efbb7b73%20%3D%20L.circle%28%0A%20%20%20%20%20%20%20%20%20%20%20%20%20%20%20%20%5B-51.7963%2C%20-59.5236%5D%2C%0A%20%20%20%20%20%20%20%20%20%20%20%20%20%20%20%20%7B%22bubblingMouseEvents%22%3A%20true%2C%20%22color%22%3A%20%22red%22%2C%20%22dashArray%22%3A%20null%2C%20%22dashOffset%22%3A%20null%2C%20%22fill%22%3A%20true%2C%20%22fillColor%22%3A%20%22indigo%22%2C%20%22fillOpacity%22%3A%200.2%2C%20%22fillRule%22%3A%20%22evenodd%22%2C%20%22lineCap%22%3A%20%22round%22%2C%20%22lineJoin%22%3A%20%22round%22%2C%20%22opacity%22%3A%201.0%2C%20%22radius%22%3A%2042000.0%2C%20%22stroke%22%3A%20true%2C%20%22weight%22%3A%203%7D%0A%20%20%20%20%20%20%20%20%20%20%20%20%29.addTo%28map_eb660f0cadf14412ab360cc7dee84180%29%3B%0A%20%20%20%20%20%20%20%20%0A%20%20%20%20%0A%20%20%20%20%20%20%20%20%20%20%20%20circle_e8651a62af0b4f4cb91f11b7efbb7b73.bindTooltip%28%0A%20%20%20%20%20%20%20%20%20%20%20%20%20%20%20%20%60%3Cdiv%3E%0A%20%20%20%20%20%20%20%20%20%20%20%20%20%20%20%20%20%20%20%20%20%3Cdiv%20style%3D%27margin%3A%200%3B%20background-color%3A%20black%3B%20color%3A%20white%3B%27%3E%3Ch4%20style%3D%27text-align%3Acenter%3Bfont-weight%3A%20bold%27%3EUnited%20Kingdom%3C/h4%3E%3Chr%20style%3D%27margin%3A10px%3Bcolor%3A%20white%3B%27%3E%3Cul%20style%3D%27color%3A%20white%3B%3Blist-style-type%3Acircle%3Balign-item%3Aleft%3Bpadding-left%3A20px%3Bpadding-right%3A20px%27%3E%3Cli%3EConfirmed%3A%2085%3C/li%3E%3C/ul%3E%3C/div%3E%0A%20%20%20%20%20%20%20%20%20%20%20%20%20%20%20%20%20%3C/div%3E%60%2C%0A%20%20%20%20%20%20%20%20%20%20%20%20%20%20%20%20%7B%22sticky%22%3A%20true%7D%0A%20%20%20%20%20%20%20%20%20%20%20%20%29%3B%0A%20%20%20%20%20%20%20%20%0A%20%20%20%20%0A%20%20%20%20%20%20%20%20%20%20%20%20var%20circle_d1631287c87547b5909ee1d136b1ac73%20%3D%20L.circle%28%0A%20%20%20%20%20%20%20%20%20%20%20%20%20%20%20%20%5B36.1408%2C%20-5.3536%5D%2C%0A%20%20%20%20%20%20%20%20%20%20%20%20%20%20%20%20%7B%22bubblingMouseEvents%22%3A%20true%2C%20%22color%22%3A%20%22red%22%2C%20%22dashArray%22%3A%20null%2C%20%22dashOffset%22%3A%20null%2C%20%22fill%22%3A%20true%2C%20%22fillColor%22%3A%20%22indigo%22%2C%20%22fillOpacity%22%3A%200.2%2C%20%22fillRule%22%3A%20%22evenodd%22%2C%20%22lineCap%22%3A%20%22round%22%2C%20%22lineJoin%22%3A%20%22round%22%2C%20%22opacity%22%3A%201.0%2C%20%22radius%22%3A%2092000.0%2C%20%22stroke%22%3A%20true%2C%20%22weight%22%3A%203%7D%0A%20%20%20%20%20%20%20%20%20%20%20%20%29.addTo%28map_eb660f0cadf14412ab360cc7dee84180%29%3B%0A%20%20%20%20%20%20%20%20%0A%20%20%20%20%0A%20%20%20%20%20%20%20%20%20%20%20%20circle_d1631287c87547b5909ee1d136b1ac73.bindTooltip%28%0A%20%20%20%20%20%20%20%20%20%20%20%20%20%20%20%20%60%3Cdiv%3E%0A%20%20%20%20%20%20%20%20%20%20%20%20%20%20%20%20%20%20%20%20%20%3Cdiv%20style%3D%27margin%3A%200%3B%20background-color%3A%20black%3B%20color%3A%20white%3B%27%3E%3Ch4%20style%3D%27text-align%3Acenter%3Bfont-weight%3A%20bold%27%3EUnited%20Kingdom%3C/h4%3E%3Chr%20style%3D%27margin%3A10px%3Bcolor%3A%20white%3B%27%3E%3Cul%20style%3D%27color%3A%20white%3B%3Blist-style-type%3Acircle%3Balign-item%3Aleft%3Bpadding-left%3A20px%3Bpadding-right%3A20px%27%3E%3Cli%3EConfirmed%3A%209891%3C/li%3E%3C/ul%3E%3C/div%3E%0A%20%20%20%20%20%20%20%20%20%20%20%20%20%20%20%20%20%3C/div%3E%60%2C%0A%20%20%20%20%20%20%20%20%20%20%20%20%20%20%20%20%7B%22sticky%22%3A%20true%7D%0A%20%20%20%20%20%20%20%20%20%20%20%20%29%3B%0A%20%20%20%20%20%20%20%20%0A%20%20%20%20%0A%20%20%20%20%20%20%20%20%20%20%20%20var%20circle_7ba7a627da7c4e929bf02e5c4c82a06a%20%3D%20L.circle%28%0A%20%20%20%20%20%20%20%20%20%20%20%20%20%20%20%20%5B54.2361%2C%20-4.5481%5D%2C%0A%20%20%20%20%20%20%20%20%20%20%20%20%20%20%20%20%7B%22bubblingMouseEvents%22%3A%20true%2C%20%22color%22%3A%20%22red%22%2C%20%22dashArray%22%3A%20null%2C%20%22dashOffset%22%3A%20null%2C%20%22fill%22%3A%20true%2C%20%22fillColor%22%3A%20%22indigo%22%2C%20%22fillOpacity%22%3A%200.2%2C%20%22fillRule%22%3A%20%22evenodd%22%2C%20%22lineCap%22%3A%20%22round%22%2C%20%22lineJoin%22%3A%20%22round%22%2C%20%22opacity%22%3A%201.0%2C%20%22radius%22%3A%2092000.0%2C%20%22stroke%22%3A%20true%2C%20%22weight%22%3A%203%7D%0A%20%20%20%20%20%20%20%20%20%20%20%20%29.addTo%28map_eb660f0cadf14412ab360cc7dee84180%29%3B%0A%20%20%20%20%20%20%20%20%0A%20%20%20%20%0A%20%20%20%20%20%20%20%20%20%20%20%20circle_7ba7a627da7c4e929bf02e5c4c82a06a.bindTooltip%28%0A%20%20%20%20%20%20%20%20%20%20%20%20%20%20%20%20%60%3Cdiv%3E%0A%20%20%20%20%20%20%20%20%20%20%20%20%20%20%20%20%20%20%20%20%20%3Cdiv%20style%3D%27margin%3A%200%3B%20background-color%3A%20black%3B%20color%3A%20white%3B%27%3E%3Ch4%20style%3D%27text-align%3Acenter%3Bfont-weight%3A%20bold%27%3EUnited%20Kingdom%3C/h4%3E%3Chr%20style%3D%27margin%3A10px%3Bcolor%3A%20white%3B%27%3E%3Cul%20style%3D%27color%3A%20white%3B%3Blist-style-type%3Acircle%3Balign-item%3Aleft%3Bpadding-left%3A20px%3Bpadding-right%3A20px%27%3E%3Cli%3EConfirmed%3A%2018274%3C/li%3E%3C/ul%3E%3C/div%3E%0A%20%20%20%20%20%20%20%20%20%20%20%20%20%20%20%20%20%3C/div%3E%60%2C%0A%20%20%20%20%20%20%20%20%20%20%20%20%20%20%20%20%7B%22sticky%22%3A%20true%7D%0A%20%20%20%20%20%20%20%20%20%20%20%20%29%3B%0A%20%20%20%20%20%20%20%20%0A%20%20%20%20%0A%20%20%20%20%20%20%20%20%20%20%20%20var%20circle_1a285e1b3f52448eb61aa790f660d885%20%3D%20L.circle%28%0A%20%20%20%20%20%20%20%20%20%20%20%20%20%20%20%20%5B16.742498%2C%20-62.187366%5D%2C%0A%20%20%20%20%20%20%20%20%20%20%20%20%20%20%20%20%7B%22bubblingMouseEvents%22%3A%20true%2C%20%22color%22%3A%20%22red%22%2C%20%22dashArray%22%3A%20null%2C%20%22dashOffset%22%3A%20null%2C%20%22fill%22%3A%20true%2C%20%22fillColor%22%3A%20%22indigo%22%2C%20%22fillOpacity%22%3A%200.2%2C%20%22fillRule%22%3A%20%22evenodd%22%2C%20%22lineCap%22%3A%20%22round%22%2C%20%22lineJoin%22%3A%20%22round%22%2C%20%22opacity%22%3A%201.0%2C%20%22radius%22%3A%2042000.0%2C%20%22stroke%22%3A%20true%2C%20%22weight%22%3A%203%7D%0A%20%20%20%20%20%20%20%20%20%20%20%20%29.addTo%28map_eb660f0cadf14412ab360cc7dee84180%29%3B%0A%20%20%20%20%20%20%20%20%0A%20%20%20%20%0A%20%20%20%20%20%20%20%20%20%20%20%20circle_1a285e1b3f52448eb61aa790f660d885.bindTooltip%28%0A%20%20%20%20%20%20%20%20%20%20%20%20%20%20%20%20%60%3Cdiv%3E%0A%20%20%20%20%20%20%20%20%20%20%20%20%20%20%20%20%20%20%20%20%20%3Cdiv%20style%3D%27margin%3A%200%3B%20background-color%3A%20black%3B%20color%3A%20white%3B%27%3E%3Ch4%20style%3D%27text-align%3Acenter%3Bfont-weight%3A%20bold%27%3EUnited%20Kingdom%3C/h4%3E%3Chr%20style%3D%27margin%3A10px%3Bcolor%3A%20white%3B%27%3E%3Cul%20style%3D%27color%3A%20white%3B%3Blist-style-type%3Acircle%3Balign-item%3Aleft%3Bpadding-left%3A20px%3Bpadding-right%3A20px%27%3E%3Cli%3EConfirmed%3A%20114%3C/li%3E%3C/ul%3E%3C/div%3E%0A%20%20%20%20%20%20%20%20%20%20%20%20%20%20%20%20%20%3C/div%3E%60%2C%0A%20%20%20%20%20%20%20%20%20%20%20%20%20%20%20%20%7B%22sticky%22%3A%20true%7D%0A%20%20%20%20%20%20%20%20%20%20%20%20%29%3B%0A%20%20%20%20%20%20%20%20%0A%20%20%20%20%0A%20%20%20%20%20%20%20%20%20%20%20%20var%20circle_e3c00b0fb00447b5af1a703da9082b3a%20%3D%20L.circle%28%0A%20%20%20%20%20%20%20%20%20%20%20%20%20%20%20%20%5B-7.9467%2C%20-14.3559%5D%2C%0A%20%20%20%20%20%20%20%20%20%20%20%20%20%20%20%20%7B%22bubblingMouseEvents%22%3A%20true%2C%20%22color%22%3A%20%22red%22%2C%20%22dashArray%22%3A%20null%2C%20%22dashOffset%22%3A%20null%2C%20%22fill%22%3A%20true%2C%20%22fillColor%22%3A%20%22indigo%22%2C%20%22fillOpacity%22%3A%200.2%2C%20%22fillRule%22%3A%20%22evenodd%22%2C%20%22lineCap%22%3A%20%22round%22%2C%20%22lineJoin%22%3A%20%22round%22%2C%20%22opacity%22%3A%201.0%2C%20%22radius%22%3A%2012000.0%2C%20%22stroke%22%3A%20true%2C%20%22weight%22%3A%203%7D%0A%20%20%20%20%20%20%20%20%20%20%20%20%29.addTo%28map_eb660f0cadf14412ab360cc7dee84180%29%3B%0A%20%20%20%20%20%20%20%20%0A%20%20%20%20%0A%20%20%20%20%20%20%20%20%20%20%20%20circle_e3c00b0fb00447b5af1a703da9082b3a.bindTooltip%28%0A%20%20%20%20%20%20%20%20%20%20%20%20%20%20%20%20%60%3Cdiv%3E%0A%20%20%20%20%20%20%20%20%20%20%20%20%20%20%20%20%20%20%20%20%20%3Cdiv%20style%3D%27margin%3A%200%3B%20background-color%3A%20black%3B%20color%3A%20white%3B%27%3E%3Ch4%20style%3D%27text-align%3Acenter%3Bfont-weight%3A%20bold%27%3EUnited%20Kingdom%3C/h4%3E%3Chr%20style%3D%27margin%3A10px%3Bcolor%3A%20white%3B%27%3E%3Cul%20style%3D%27color%3A%20white%3B%3Blist-style-type%3Acircle%3Balign-item%3Aleft%3Bpadding-left%3A20px%3Bpadding-right%3A20px%27%3E%3Cli%3EConfirmed%3A%204%3C/li%3E%3C/ul%3E%3C/div%3E%0A%20%20%20%20%20%20%20%20%20%20%20%20%20%20%20%20%20%3C/div%3E%60%2C%0A%20%20%20%20%20%20%20%20%20%20%20%20%20%20%20%20%7B%22sticky%22%3A%20true%7D%0A%20%20%20%20%20%20%20%20%20%20%20%20%29%3B%0A%20%20%20%20%20%20%20%20%0A%20%20%20%20%0A%20%20%20%20%20%20%20%20%20%20%20%20var%20circle_66d7adbadd194f8ba1f6120ffd4b020d%20%3D%20L.circle%28%0A%20%20%20%20%20%20%20%20%20%20%20%20%20%20%20%20%5B21.694%2C%20-71.7979%5D%2C%0A%20%20%20%20%20%20%20%20%20%20%20%20%20%20%20%20%7B%22bubblingMouseEvents%22%3A%20true%2C%20%22color%22%3A%20%22red%22%2C%20%22dashArray%22%3A%20null%2C%20%22dashOffset%22%3A%20null%2C%20%22fill%22%3A%20true%2C%20%22fillColor%22%3A%20%22indigo%22%2C%20%22fillOpacity%22%3A%200.2%2C%20%22fillRule%22%3A%20%22evenodd%22%2C%20%22lineCap%22%3A%20%22round%22%2C%20%22lineJoin%22%3A%20%22round%22%2C%20%22opacity%22%3A%201.0%2C%20%22radius%22%3A%2082000.0%2C%20%22stroke%22%3A%20true%2C%20%22weight%22%3A%203%7D%0A%20%20%20%20%20%20%20%20%20%20%20%20%29.addTo%28map_eb660f0cadf14412ab360cc7dee84180%29%3B%0A%20%20%20%20%20%20%20%20%0A%20%20%20%20%0A%20%20%20%20%20%20%20%20%20%20%20%20circle_66d7adbadd194f8ba1f6120ffd4b020d.bindTooltip%28%0A%20%20%20%20%20%20%20%20%20%20%20%20%20%20%20%20%60%3Cdiv%3E%0A%20%20%20%20%20%20%20%20%20%20%20%20%20%20%20%20%20%20%20%20%20%3Cdiv%20style%3D%27margin%3A%200%3B%20background-color%3A%20black%3B%20color%3A%20white%3B%27%3E%3Ch4%20style%3D%27text-align%3Acenter%3Bfont-weight%3A%20bold%27%3EUnited%20Kingdom%3C/h4%3E%3Chr%20style%3D%27margin%3A10px%3Bcolor%3A%20white%3B%27%3E%3Cul%20style%3D%27color%3A%20white%3B%3Blist-style-type%3Acircle%3Balign-item%3Aleft%3Bpadding-left%3A20px%3Bpadding-right%3A20px%27%3E%3Cli%3EConfirmed%3A%204007%3C/li%3E%3C/ul%3E%3C/div%3E%0A%20%20%20%20%20%20%20%20%20%20%20%20%20%20%20%20%20%3C/div%3E%60%2C%0A%20%20%20%20%20%20%20%20%20%20%20%20%20%20%20%20%7B%22sticky%22%3A%20true%7D%0A%20%20%20%20%20%20%20%20%20%20%20%20%29%3B%0A%20%20%20%20%20%20%20%20%0A%20%20%20%20%0A%20%20%20%20%20%20%20%20%20%20%20%20var%20circle_d04b0b36147343bba5c7ac0e61956d27%20%3D%20L.circle%28%0A%20%20%20%20%20%20%20%20%20%20%20%20%20%20%20%20%5B55.3781%2C%20-3.436%5D%2C%0A%20%20%20%20%20%20%20%20%20%20%20%20%20%20%20%20%7B%22bubblingMouseEvents%22%3A%20true%2C%20%22color%22%3A%20%22red%22%2C%20%22dashArray%22%3A%20null%2C%20%22dashOffset%22%3A%20null%2C%20%22fill%22%3A%20true%2C%20%22fillColor%22%3A%20%22indigo%22%2C%20%22fillOpacity%22%3A%200.2%2C%20%22fillRule%22%3A%20%22evenodd%22%2C%20%22lineCap%22%3A%20%22round%22%2C%20%22lineJoin%22%3A%20%22round%22%2C%20%22opacity%22%3A%201.0%2C%20%22radius%22%3A%20162000.0%2C%20%22stroke%22%3A%20true%2C%20%22weight%22%3A%203%7D%0A%20%20%20%20%20%20%20%20%20%20%20%20%29.addTo%28map_eb660f0cadf14412ab360cc7dee84180%29%3B%0A%20%20%20%20%20%20%20%20%0A%20%20%20%20%0A%20%20%20%20%20%20%20%20%20%20%20%20circle_d04b0b36147343bba5c7ac0e61956d27.bindTooltip%28%0A%20%20%20%20%20%20%20%20%20%20%20%20%20%20%20%20%60%3Cdiv%3E%0A%20%20%20%20%20%20%20%20%20%20%20%20%20%20%20%20%20%20%20%20%20%3Cdiv%20style%3D%27margin%3A%200%3B%20background-color%3A%20black%3B%20color%3A%20white%3B%27%3E%3Ch4%20style%3D%27text-align%3Acenter%3Bfont-weight%3A%20bold%27%3EUnited%20Kingdom%3C/h4%3E%3Chr%20style%3D%27margin%3A10px%3Bcolor%3A%20white%3B%27%3E%3Cul%20style%3D%27color%3A%20white%3B%3Blist-style-type%3Acircle%3Balign-item%3Aleft%3Bpadding-left%3A20px%3Bpadding-right%3A20px%27%3E%3Cli%3EConfirmed%3A%2014475192%3C/li%3E%3C/ul%3E%3C/div%3E%0A%20%20%20%20%20%20%20%20%20%20%20%20%20%20%20%20%20%3C/div%3E%60%2C%0A%20%20%20%20%20%20%20%20%20%20%20%20%20%20%20%20%7B%22sticky%22%3A%20true%7D%0A%20%20%20%20%20%20%20%20%20%20%20%20%29%3B%0A%20%20%20%20%20%20%20%20%0A%20%20%20%20%0A%20%20%20%20%20%20%20%20%20%20%20%20var%20circle_b7f2e8690fe64bf6a6df056b10e1c8aa%20%3D%20L.circle%28%0A%20%20%20%20%20%20%20%20%20%20%20%20%20%20%20%20%5B-32.5228%2C%20-55.7658%5D%2C%0A%20%20%20%20%20%20%20%20%20%20%20%20%20%20%20%20%7B%22bubblingMouseEvents%22%3A%20true%2C%20%22color%22%3A%20%22red%22%2C%20%22dashArray%22%3A%20null%2C%20%22dashOffset%22%3A%20null%2C%20%22fill%22%3A%20true%2C%20%22fillColor%22%3A%20%22indigo%22%2C%20%22fillOpacity%22%3A%200.2%2C%20%22fillRule%22%3A%20%22evenodd%22%2C%20%22lineCap%22%3A%20%22round%22%2C%20%22lineJoin%22%3A%20%22round%22%2C%20%22opacity%22%3A%201.0%2C%20%22radius%22%3A%20132000.0%2C%20%22stroke%22%3A%20true%2C%20%22weight%22%3A%203%7D%0A%20%20%20%20%20%20%20%20%20%20%20%20%29.addTo%28map_eb660f0cadf14412ab360cc7dee84180%29%3B%0A%20%20%20%20%20%20%20%20%0A%20%20%20%20%0A%20%20%20%20%20%20%20%20%20%20%20%20circle_b7f2e8690fe64bf6a6df056b10e1c8aa.bindTooltip%28%0A%20%20%20%20%20%20%20%20%20%20%20%20%20%20%20%20%60%3Cdiv%3E%0A%20%20%20%20%20%20%20%20%20%20%20%20%20%20%20%20%20%20%20%20%20%3Cdiv%20style%3D%27margin%3A%200%3B%20background-color%3A%20black%3B%20color%3A%20white%3B%27%3E%3Ch4%20style%3D%27text-align%3Acenter%3Bfont-weight%3A%20bold%27%3EUruguay%3C/h4%3E%3Chr%20style%3D%27margin%3A10px%3Bcolor%3A%20white%3B%27%3E%3Cul%20style%3D%27color%3A%20white%3B%3Blist-style-type%3Acircle%3Balign-item%3Aleft%3Bpadding-left%3A20px%3Bpadding-right%3A20px%27%3E%3Cli%3EConfirmed%3A%20449422%3C/li%3E%3C/ul%3E%3C/div%3E%0A%20%20%20%20%20%20%20%20%20%20%20%20%20%20%20%20%20%3C/div%3E%60%2C%0A%20%20%20%20%20%20%20%20%20%20%20%20%20%20%20%20%7B%22sticky%22%3A%20true%7D%0A%20%20%20%20%20%20%20%20%20%20%20%20%29%3B%0A%20%20%20%20%20%20%20%20%0A%20%20%20%20%0A%20%20%20%20%20%20%20%20%20%20%20%20var%20circle_c3b0d7d50f044687bd85c2104b606aa5%20%3D%20L.circle%28%0A%20%20%20%20%20%20%20%20%20%20%20%20%20%20%20%20%5B41.377491%2C%2064.585262%5D%2C%0A%20%20%20%20%20%20%20%20%20%20%20%20%20%20%20%20%7B%22bubblingMouseEvents%22%3A%20true%2C%20%22color%22%3A%20%22red%22%2C%20%22dashArray%22%3A%20null%2C%20%22dashOffset%22%3A%20null%2C%20%22fill%22%3A%20true%2C%20%22fillColor%22%3A%20%22indigo%22%2C%20%22fillOpacity%22%3A%200.2%2C%20%22fillRule%22%3A%20%22evenodd%22%2C%20%22lineCap%22%3A%20%22round%22%2C%20%22lineJoin%22%3A%20%22round%22%2C%20%22opacity%22%3A%201.0%2C%20%22radius%22%3A%20122000.0%2C%20%22stroke%22%3A%20true%2C%20%22weight%22%3A%203%7D%0A%20%20%20%20%20%20%20%20%20%20%20%20%29.addTo%28map_eb660f0cadf14412ab360cc7dee84180%29%3B%0A%20%20%20%20%20%20%20%20%0A%20%20%20%20%0A%20%20%20%20%20%20%20%20%20%20%20%20circle_c3b0d7d50f044687bd85c2104b606aa5.bindTooltip%28%0A%20%20%20%20%20%20%20%20%20%20%20%20%20%20%20%20%60%3Cdiv%3E%0A%20%20%20%20%20%20%20%20%20%20%20%20%20%20%20%20%20%20%20%20%20%3Cdiv%20style%3D%27margin%3A%200%3B%20background-color%3A%20black%3B%20color%3A%20white%3B%27%3E%3Ch4%20style%3D%27text-align%3Acenter%3Bfont-weight%3A%20bold%27%3EUzbekistan%3C/h4%3E%3Chr%20style%3D%27margin%3A10px%3Bcolor%3A%20white%3B%27%3E%3Cul%20style%3D%27color%3A%20white%3B%3Blist-style-type%3Acircle%3Balign-item%3Aleft%3Bpadding-left%3A20px%3Bpadding-right%3A20px%27%3E%3Cli%3EConfirmed%3A%20200341%3C/li%3E%3C/ul%3E%3C/div%3E%0A%20%20%20%20%20%20%20%20%20%20%20%20%20%20%20%20%20%3C/div%3E%60%2C%0A%20%20%20%20%20%20%20%20%20%20%20%20%20%20%20%20%7B%22sticky%22%3A%20true%7D%0A%20%20%20%20%20%20%20%20%20%20%20%20%29%3B%0A%20%20%20%20%20%20%20%20%0A%20%20%20%20%0A%20%20%20%20%20%20%20%20%20%20%20%20var%20circle_273f4abd1b9c4a35bacada4cd091b8cc%20%3D%20L.circle%28%0A%20%20%20%20%20%20%20%20%20%20%20%20%20%20%20%20%5B-15.3767%2C%20166.9592%5D%2C%0A%20%20%20%20%20%20%20%20%20%20%20%20%20%20%20%20%7B%22bubblingMouseEvents%22%3A%20true%2C%20%22color%22%3A%20%22red%22%2C%20%22dashArray%22%3A%20null%2C%20%22dashOffset%22%3A%20null%2C%20%22fill%22%3A%20true%2C%20%22fillColor%22%3A%20%22indigo%22%2C%20%22fillOpacity%22%3A%200.2%2C%20%22fillRule%22%3A%20%22evenodd%22%2C%20%22lineCap%22%3A%20%22round%22%2C%20%22lineJoin%22%3A%20%22round%22%2C%20%22opacity%22%3A%201.0%2C%20%22radius%22%3A%2022000.0%2C%20%22stroke%22%3A%20true%2C%20%22weight%22%3A%203%7D%0A%20%20%20%20%20%20%20%20%20%20%20%20%29.addTo%28map_eb660f0cadf14412ab360cc7dee84180%29%3B%0A%20%20%20%20%20%20%20%20%0A%20%20%20%20%0A%20%20%20%20%20%20%20%20%20%20%20%20circle_273f4abd1b9c4a35bacada4cd091b8cc.bindTooltip%28%0A%20%20%20%20%20%20%20%20%20%20%20%20%20%20%20%20%60%3Cdiv%3E%0A%20%20%20%20%20%20%20%20%20%20%20%20%20%20%20%20%20%20%20%20%20%3Cdiv%20style%3D%27margin%3A%200%3B%20background-color%3A%20black%3B%20color%3A%20white%3B%27%3E%3Ch4%20style%3D%27text-align%3Acenter%3Bfont-weight%3A%20bold%27%3EVanuatu%3C/h4%3E%3Chr%20style%3D%27margin%3A10px%3Bcolor%3A%20white%3B%27%3E%3Cul%20style%3D%27color%3A%20white%3B%3Blist-style-type%3Acircle%3Balign-item%3Aleft%3Bpadding-left%3A20px%3Bpadding-right%3A20px%27%3E%3Cli%3EConfirmed%3A%207%3C/li%3E%3C/ul%3E%3C/div%3E%0A%20%20%20%20%20%20%20%20%20%20%20%20%20%20%20%20%20%3C/div%3E%60%2C%0A%20%20%20%20%20%20%20%20%20%20%20%20%20%20%20%20%7B%22sticky%22%3A%20true%7D%0A%20%20%20%20%20%20%20%20%20%20%20%20%29%3B%0A%20%20%20%20%20%20%20%20%0A%20%20%20%20%0A%20%20%20%20%20%20%20%20%20%20%20%20var%20circle_385bfe50aae243da9ca0bdb1d15beb84%20%3D%20L.circle%28%0A%20%20%20%20%20%20%20%20%20%20%20%20%20%20%20%20%5B6.4238%2C%20-66.5897%5D%2C%0A%20%20%20%20%20%20%20%20%20%20%20%20%20%20%20%20%7B%22bubblingMouseEvents%22%3A%20true%2C%20%22color%22%3A%20%22red%22%2C%20%22dashArray%22%3A%20null%2C%20%22dashOffset%22%3A%20null%2C%20%22fill%22%3A%20true%2C%20%22fillColor%22%3A%20%22indigo%22%2C%20%22fillOpacity%22%3A%200.2%2C%20%22fillRule%22%3A%20%22evenodd%22%2C%20%22lineCap%22%3A%20%22round%22%2C%20%22lineJoin%22%3A%20%22round%22%2C%20%22opacity%22%3A%201.0%2C%20%22radius%22%3A%20132000.0%2C%20%22stroke%22%3A%20true%2C%20%22weight%22%3A%203%7D%0A%20%20%20%20%20%20%20%20%20%20%20%20%29.addTo%28map_eb660f0cadf14412ab360cc7dee84180%29%3B%0A%20%20%20%20%20%20%20%20%0A%20%20%20%20%0A%20%20%20%20%20%20%20%20%20%20%20%20circle_385bfe50aae243da9ca0bdb1d15beb84.bindTooltip%28%0A%20%20%20%20%20%20%20%20%20%20%20%20%20%20%20%20%60%3Cdiv%3E%0A%20%20%20%20%20%20%20%20%20%20%20%20%20%20%20%20%20%20%20%20%20%3Cdiv%20style%3D%27margin%3A%200%3B%20background-color%3A%20black%3B%20color%3A%20white%3B%27%3E%3Ch4%20style%3D%27text-align%3Acenter%3Bfont-weight%3A%20bold%27%3EVenezuela%3C/h4%3E%3Chr%20style%3D%27margin%3A10px%3Bcolor%3A%20white%3B%27%3E%3Cul%20style%3D%27color%3A%20white%3B%3Blist-style-type%3Acircle%3Balign-item%3Aleft%3Bpadding-left%3A20px%3Bpadding-right%3A20px%27%3E%3Cli%3EConfirmed%3A%20447288%3C/li%3E%3C/ul%3E%3C/div%3E%0A%20%20%20%20%20%20%20%20%20%20%20%20%20%20%20%20%20%3C/div%3E%60%2C%0A%20%20%20%20%20%20%20%20%20%20%20%20%20%20%20%20%7B%22sticky%22%3A%20true%7D%0A%20%20%20%20%20%20%20%20%20%20%20%20%29%3B%0A%20%20%20%20%20%20%20%20%0A%20%20%20%20%0A%20%20%20%20%20%20%20%20%20%20%20%20var%20circle_b5da31c5c48f4d6ba96e73392502586c%20%3D%20L.circle%28%0A%20%20%20%20%20%20%20%20%20%20%20%20%20%20%20%20%5B14.058324%2C%20108.277199%5D%2C%0A%20%20%20%20%20%20%20%20%20%20%20%20%20%20%20%20%7B%22bubblingMouseEvents%22%3A%20true%2C%20%22color%22%3A%20%22red%22%2C%20%22dashArray%22%3A%20null%2C%20%22dashOffset%22%3A%20null%2C%20%22fill%22%3A%20true%2C%20%22fillColor%22%3A%20%22indigo%22%2C%20%22fillOpacity%22%3A%200.2%2C%20%22fillRule%22%3A%20%22evenodd%22%2C%20%22lineCap%22%3A%20%22round%22%2C%20%22lineJoin%22%3A%20%22round%22%2C%20%22opacity%22%3A%201.0%2C%20%22radius%22%3A%20142000.0%2C%20%22stroke%22%3A%20true%2C%20%22weight%22%3A%203%7D%0A%20%20%20%20%20%20%20%20%20%20%20%20%29.addTo%28map_eb660f0cadf14412ab360cc7dee84180%29%3B%0A%20%20%20%20%20%20%20%20%0A%20%20%20%20%0A%20%20%20%20%20%20%20%20%20%20%20%20circle_b5da31c5c48f4d6ba96e73392502586c.bindTooltip%28%0A%20%20%20%20%20%20%20%20%20%20%20%20%20%20%20%20%60%3Cdiv%3E%0A%20%20%20%20%20%20%20%20%20%20%20%20%20%20%20%20%20%20%20%20%20%3Cdiv%20style%3D%27margin%3A%200%3B%20background-color%3A%20black%3B%20color%3A%20white%3B%27%3E%3Ch4%20style%3D%27text-align%3Acenter%3Bfont-weight%3A%20bold%27%3EVietnam%3C/h4%3E%3Chr%20style%3D%27margin%3A10px%3Bcolor%3A%20white%3B%27%3E%3Cul%20style%3D%27color%3A%20white%3B%3Blist-style-type%3Acircle%3Balign-item%3Aleft%3Bpadding-left%3A20px%3Bpadding-right%3A20px%27%3E%3Cli%3EConfirmed%3A%201899575%3C/li%3E%3C/ul%3E%3C/div%3E%0A%20%20%20%20%20%20%20%20%20%20%20%20%20%20%20%20%20%3C/div%3E%60%2C%0A%20%20%20%20%20%20%20%20%20%20%20%20%20%20%20%20%7B%22sticky%22%3A%20true%7D%0A%20%20%20%20%20%20%20%20%20%20%20%20%29%3B%0A%20%20%20%20%20%20%20%20%0A%20%20%20%20%0A%20%20%20%20%20%20%20%20%20%20%20%20var%20circle_bd63d7562ce449ecbfc3a61ec9afc345%20%3D%20L.circle%28%0A%20%20%20%20%20%20%20%20%20%20%20%20%20%20%20%20%5B31.9522%2C%2035.2332%5D%2C%0A%20%20%20%20%20%20%20%20%20%20%20%20%20%20%20%20%7B%22bubblingMouseEvents%22%3A%20true%2C%20%22color%22%3A%20%22red%22%2C%20%22dashArray%22%3A%20null%2C%20%22dashOffset%22%3A%20null%2C%20%22fill%22%3A%20true%2C%20%22fillColor%22%3A%20%22indigo%22%2C%20%22fillOpacity%22%3A%200.2%2C%20%22fillRule%22%3A%20%22evenodd%22%2C%20%22lineCap%22%3A%20%22round%22%2C%20%22lineJoin%22%3A%20%22round%22%2C%20%22opacity%22%3A%201.0%2C%20%22radius%22%3A%20132000.0%2C%20%22stroke%22%3A%20true%2C%20%22weight%22%3A%203%7D%0A%20%20%20%20%20%20%20%20%20%20%20%20%29.addTo%28map_eb660f0cadf14412ab360cc7dee84180%29%3B%0A%20%20%20%20%20%20%20%20%0A%20%20%20%20%0A%20%20%20%20%20%20%20%20%20%20%20%20circle_bd63d7562ce449ecbfc3a61ec9afc345.bindTooltip%28%0A%20%20%20%20%20%20%20%20%20%20%20%20%20%20%20%20%60%3Cdiv%3E%0A%20%20%20%20%20%20%20%20%20%20%20%20%20%20%20%20%20%20%20%20%20%3Cdiv%20style%3D%27margin%3A%200%3B%20background-color%3A%20black%3B%20color%3A%20white%3B%27%3E%3Ch4%20style%3D%27text-align%3Acenter%3Bfont-weight%3A%20bold%27%3EWest%20Bank%20and%20Gaza%3C/h4%3E%3Chr%20style%3D%27margin%3A10px%3Bcolor%3A%20white%3B%27%3E%3Cul%20style%3D%27color%3A%20white%3B%3Blist-style-type%3Acircle%3Balign-item%3Aleft%3Bpadding-left%3A20px%3Bpadding-right%3A20px%27%3E%3Cli%3EConfirmed%3A%20471414%3C/li%3E%3C/ul%3E%3C/div%3E%0A%20%20%20%20%20%20%20%20%20%20%20%20%20%20%20%20%20%3C/div%3E%60%2C%0A%20%20%20%20%20%20%20%20%20%20%20%20%20%20%20%20%7B%22sticky%22%3A%20true%7D%0A%20%20%20%20%20%20%20%20%20%20%20%20%29%3B%0A%20%20%20%20%20%20%20%20%0A%20%20%20%20%0A%20%20%20%20%20%20%20%20%20%20%20%20var%20circle_df473e839e834944934452dfe5f32b5d%20%3D%20L.circle%28%0A%20%20%20%20%20%20%20%20%20%20%20%20%20%20%20%20%5B15.552727%2C%2048.516388%5D%2C%0A%20%20%20%20%20%20%20%20%20%20%20%20%20%20%20%20%7B%22bubblingMouseEvents%22%3A%20true%2C%20%22color%22%3A%20%22red%22%2C%20%22dashArray%22%3A%20null%2C%20%22dashOffset%22%3A%20null%2C%20%22fill%22%3A%20true%2C%20%22fillColor%22%3A%20%22indigo%22%2C%20%22fillOpacity%22%3A%200.2%2C%20%22fillRule%22%3A%20%22evenodd%22%2C%20%22lineCap%22%3A%20%22round%22%2C%20%22lineJoin%22%3A%20%22round%22%2C%20%22opacity%22%3A%201.0%2C%20%22radius%22%3A%2092000.0%2C%20%22stroke%22%3A%20true%2C%20%22weight%22%3A%203%7D%0A%20%20%20%20%20%20%20%20%20%20%20%20%29.addTo%28map_eb660f0cadf14412ab360cc7dee84180%29%3B%0A%20%20%20%20%20%20%20%20%0A%20%20%20%20%0A%20%20%20%20%20%20%20%20%20%20%20%20circle_df473e839e834944934452dfe5f32b5d.bindTooltip%28%0A%20%20%20%20%20%20%20%20%20%20%20%20%20%20%20%20%60%3Cdiv%3E%0A%20%20%20%20%20%20%20%20%20%20%20%20%20%20%20%20%20%20%20%20%20%3Cdiv%20style%3D%27margin%3A%200%3B%20background-color%3A%20black%3B%20color%3A%20white%3B%27%3E%3Ch4%20style%3D%27text-align%3Acenter%3Bfont-weight%3A%20bold%27%3EYemen%3C/h4%3E%3Chr%20style%3D%27margin%3A10px%3Bcolor%3A%20white%3B%27%3E%3Cul%20style%3D%27color%3A%20white%3B%3Blist-style-type%3Acircle%3Balign-item%3Aleft%3Bpadding-left%3A20px%3Bpadding-right%3A20px%27%3E%3Cli%3EConfirmed%3A%2010197%3C/li%3E%3C/ul%3E%3C/div%3E%0A%20%20%20%20%20%20%20%20%20%20%20%20%20%20%20%20%20%3C/div%3E%60%2C%0A%20%20%20%20%20%20%20%20%20%20%20%20%20%20%20%20%7B%22sticky%22%3A%20true%7D%0A%20%20%20%20%20%20%20%20%20%20%20%20%29%3B%0A%20%20%20%20%20%20%20%20%0A%20%20%20%20%0A%20%20%20%20%20%20%20%20%20%20%20%20var%20circle_f7a5bbe0733a4d308f89ac52141e3623%20%3D%20L.circle%28%0A%20%20%20%20%20%20%20%20%20%20%20%20%20%20%20%20%5B-13.133897%2C%2027.849332%5D%2C%0A%20%20%20%20%20%20%20%20%20%20%20%20%20%20%20%20%7B%22bubblingMouseEvents%22%3A%20true%2C%20%22color%22%3A%20%22red%22%2C%20%22dashArray%22%3A%20null%2C%20%22dashOffset%22%3A%20null%2C%20%22fill%22%3A%20true%2C%20%22fillColor%22%3A%20%22indigo%22%2C%20%22fillOpacity%22%3A%200.2%2C%20%22fillRule%22%3A%20%22evenodd%22%2C%20%22lineCap%22%3A%20%22round%22%2C%20%22lineJoin%22%3A%20%22round%22%2C%20%22opacity%22%3A%201.0%2C%20%22radius%22%3A%20122000.0%2C%20%22stroke%22%3A%20true%2C%20%22weight%22%3A%203%7D%0A%20%20%20%20%20%20%20%20%20%20%20%20%29.addTo%28map_eb660f0cadf14412ab360cc7dee84180%29%3B%0A%20%20%20%20%20%20%20%20%0A%20%20%20%20%0A%20%20%20%20%20%20%20%20%20%20%20%20circle_f7a5bbe0733a4d308f89ac52141e3623.bindTooltip%28%0A%20%20%20%20%20%20%20%20%20%20%20%20%20%20%20%20%60%3Cdiv%3E%0A%20%20%20%20%20%20%20%20%20%20%20%20%20%20%20%20%20%20%20%20%20%3Cdiv%20style%3D%27margin%3A%200%3B%20background-color%3A%20black%3B%20color%3A%20white%3B%27%3E%3Ch4%20style%3D%27text-align%3Acenter%3Bfont-weight%3A%20bold%27%3EZambia%3C/h4%3E%3Chr%20style%3D%27margin%3A10px%3Bcolor%3A%20white%3B%27%3E%3Cul%20style%3D%27color%3A%20white%3B%3Blist-style-type%3Acircle%3Balign-item%3Aleft%3Bpadding-left%3A20px%3Bpadding-right%3A20px%27%3E%3Cli%3EConfirmed%3A%20282904%3C/li%3E%3C/ul%3E%3C/div%3E%0A%20%20%20%20%20%20%20%20%20%20%20%20%20%20%20%20%20%3C/div%3E%60%2C%0A%20%20%20%20%20%20%20%20%20%20%20%20%20%20%20%20%7B%22sticky%22%3A%20true%7D%0A%20%20%20%20%20%20%20%20%20%20%20%20%29%3B%0A%20%20%20%20%20%20%20%20%0A%20%20%20%20%0A%20%20%20%20%20%20%20%20%20%20%20%20var%20circle_d1a43b1f6d3f41988e07ddfe509cced5%20%3D%20L.circle%28%0A%20%20%20%20%20%20%20%20%20%20%20%20%20%20%20%20%5B-19.015438%2C%2029.154857%5D%2C%0A%20%20%20%20%20%20%20%20%20%20%20%20%20%20%20%20%7B%22bubblingMouseEvents%22%3A%20true%2C%20%22color%22%3A%20%22red%22%2C%20%22dashArray%22%3A%20null%2C%20%22dashOffset%22%3A%20null%2C%20%22fill%22%3A%20true%2C%20%22fillColor%22%3A%20%22indigo%22%2C%20%22fillOpacity%22%3A%200.2%2C%20%22fillRule%22%3A%20%22evenodd%22%2C%20%22lineCap%22%3A%20%22round%22%2C%20%22lineJoin%22%3A%20%22round%22%2C%20%22opacity%22%3A%201.0%2C%20%22radius%22%3A%20122000.0%2C%20%22stroke%22%3A%20true%2C%20%22weight%22%3A%203%7D%0A%20%20%20%20%20%20%20%20%20%20%20%20%29.addTo%28map_eb660f0cadf14412ab360cc7dee84180%29%3B%0A%20%20%20%20%20%20%20%20%0A%20%20%20%20%0A%20%20%20%20%20%20%20%20%20%20%20%20circle_d1a43b1f6d3f41988e07ddfe509cced5.bindTooltip%28%0A%20%20%20%20%20%20%20%20%20%20%20%20%20%20%20%20%60%3Cdiv%3E%0A%20%20%20%20%20%20%20%20%20%20%20%20%20%20%20%20%20%20%20%20%20%3Cdiv%20style%3D%27margin%3A%200%3B%20background-color%3A%20black%3B%20color%3A%20white%3B%27%3E%3Ch4%20style%3D%27text-align%3Acenter%3Bfont-weight%3A%20bold%27%3EZimbabwe%3C/h4%3E%3Chr%20style%3D%27margin%3A10px%3Bcolor%3A%20white%3B%27%3E%3Cul%20style%3D%27color%3A%20white%3B%3Blist-style-type%3Acircle%3Balign-item%3Aleft%3Bpadding-left%3A20px%3Bpadding-right%3A20px%27%3E%3Cli%3EConfirmed%3A%20221918%3C/li%3E%3C/ul%3E%3C/div%3E%0A%20%20%20%20%20%20%20%20%20%20%20%20%20%20%20%20%20%3C/div%3E%60%2C%0A%20%20%20%20%20%20%20%20%20%20%20%20%20%20%20%20%7B%22sticky%22%3A%20true%7D%0A%20%20%20%20%20%20%20%20%20%20%20%20%29%3B%0A%20%20%20%20%20%20%20%20%0A%3C/script%3E onload=\"this.contentDocument.open();this.contentDocument.write(    decodeURIComponent(this.getAttribute('data-html')));this.contentDocument.close();\" allowfullscreen webkitallowfullscreen mozallowfullscreen></iframe></div></div>"
      ],
      "text/plain": [
       "<folium.folium.Map at 0x14d440790>"
      ]
     },
     "execution_count": 38,
     "metadata": {},
     "output_type": "execute_result"
    }
   ],
   "source": [
    "confirmed_df = confirmed_df.rename(columns={'province/state': 'state', 'country/region': 'country'})\n",
    "death_df = death_df.rename(columns={'province/state': 'state', 'country/region': 'country','Long':'long','Lat':'lat'}) \n",
    "\n",
    "world_map = folium.Map(location=[11,0], tiles=\"cartodbpositron\", zoom_start=2, max_zoom = 6, min_zoom = 2)\n",
    "\n",
    "\n",
    "for i in range(0,len(confirmed_df)):\n",
    "    folium.Circle(\n",
    "        location=[confirmed_df.iloc[i]['lat'], confirmed_df.iloc[i]['long']],\n",
    "        fill=True,\n",
    "        radius=(int((np.log(confirmed_df.iloc[i,-1]+1.00001)))+0.2)*10000,\n",
    "        color='red',\n",
    "        fill_color='indigo',\n",
    "        tooltip = \"<div style='margin: 0; background-color: black; color: white;'>\"+\n",
    "                    \"<h4 style='text-align:center;font-weight: bold'>\"+confirmed_df.iloc[i]['country'] + \"</h4>\"\n",
    "                    \"<hr style='margin:10px;color: white;'>\"+\n",
    "                    \"<ul style='color: white;;list-style-type:circle;align-item:left;padding-left:20px;padding-right:20px'>\"+\n",
    "                        \"<li>Confirmed: \"+str(confirmed_df.iloc[i,-1])+\"</li>\"+\n",
    "                        #\"<li>Deaths:   \"+str(death_df.iloc[i,-1])+\"</li>\"+\n",
    "                        #\"<li>Death Rate: \"+ str(np.round(death_df.iloc[i,-1]/(confirmed_df.iloc[i,-1]+1.00001)*100,2))+ \"</li>\"+\n",
    "                    \"</ul></div>\",\n",
    "        ).add_to(world_map)\n",
    "\n",
    "world_map"
   ]
  }
 ],
 "metadata": {
  "colab": {
   "name": "covid19_dashboard.ipynb",
   "provenance": []
  },
  "extensions": {
   "jupyter_dashboards": {
    "activeView": "report_default",
    "version": 1,
    "views": {
     "default_view": {
      "cellMargin": 10,
      "defaultCellHeight": 40,
      "maxColumns": 12,
      "name": "active_view",
      "type": "grid"
     },
     "grid_default": {
      "cellMargin": 2,
      "defaultCellHeight": 60,
      "maxColumns": 12,
      "name": "grid",
      "type": "grid"
     },
     "report_default": {
      "name": "report",
      "type": "report"
     }
    }
   }
  },
  "kernelspec": {
   "display_name": "Python 3 (ipykernel)",
   "language": "python",
   "name": "python3"
  },
  "language_info": {
   "codemirror_mode": {
    "name": "ipython",
    "version": 3
   },
   "file_extension": ".py",
   "mimetype": "text/x-python",
   "name": "python",
   "nbconvert_exporter": "python",
   "pygments_lexer": "ipython3",
   "version": "3.10.1"
  }
 },
 "nbformat": 4,
 "nbformat_minor": 4
}
